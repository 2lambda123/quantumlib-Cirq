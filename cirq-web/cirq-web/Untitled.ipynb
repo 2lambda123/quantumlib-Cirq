{
 "cells": [
  {
   "cell_type": "code",
   "execution_count": null,
   "id": "c269c509",
   "metadata": {
    "scrolled": true
   },
   "outputs": [],
   "source": [
    "\n",
    "    /*\n",
    "    static CreateCustomSphere(radius: number, inputColor: number) {\n",
    "        console.log(inputColor);\n",
    "        const scene = new THREE.Scene();\n",
    "        const camera = new THREE.PerspectiveCamera(75, (window.innerWidth/2) / (window.innerHeight/2), 0.1, 1000)\n",
    "        const renderer = new THREE.WebGLRenderer();\n",
    "        renderer.setSize(window.innerWidth/2, window.innerHeight/2);\n",
    "\n",
    "        const container = document.getElementById(\"area\")!;\n",
    "        container.appendChild(renderer.domElement);\n",
    "\n",
    "        const geometry = new THREE.SphereGeometry();\n",
    "        const material = new THREE.MeshBasicMaterial( { color: 0xff0000 } );\n",
    "        const sphere = new THREE.Mesh( geometry, material );\n",
    "        scene.add( sphere );\n",
    "\n",
    "        camera.position.z = 5;\n",
    "        function animate() {\n",
    "            requestAnimationFrame(animate);\n",
    "            renderer.render(scene, camera);\n",
    "        }\n",
    "        animate();\n",
    "    }\n",
    "    */"
   ]
  },
  {
   "cell_type": "code",
   "execution_count": 3,
   "id": "08ebf4a8",
   "metadata": {},
   "outputs": [
    {
     "data": {
      "text/html": [
       "\n",
       "<div id=\"container\"></div>\n",
       "<script src=\"dist/bundle.js\"></script>\n",
       "<script>\n",
       "createSphere.showCircle('{\"radius\": 5, \"color\": 16711680}');\n",
       "</script>\n"
      ],
      "text/plain": [
       "<IPython.core.display.HTML object>"
      ]
     },
     "execution_count": 3,
     "metadata": {},
     "output_type": "execute_result"
    }
   ],
   "source": [
    "import json\n",
    "from IPython.display import HTML\n",
    "\n",
    "# convert Python circle data to JSON object\n",
    "def circleData(radius, color):\n",
    "    obj = {\n",
    "        'radius': radius,\n",
    "        'color': color,\n",
    "        # Add more data as needed here\n",
    "    }\n",
    "    return json.dumps(obj)\n",
    "\n",
    "circleData = circleData(5, 0xff0000)\n",
    "\n",
    "html = f\"\"\"\n",
    "<div id=\"container\"></div>\n",
    "<script src=\"dist/bundle.js\"></script>\n",
    "<script>\n",
    "createSphere.showCircle('{circleData}');\n",
    "</script>\n",
    "\"\"\"\n",
    "HTML(html)\n"
   ]
  },
  {
   "cell_type": "code",
   "execution_count": null,
   "id": "915ea445",
   "metadata": {},
   "outputs": [],
   "source": []
  },
  {
   "cell_type": "code",
   "execution_count": null,
   "id": "ce8fa940",
   "metadata": {},
   "outputs": [],
   "source": []
  },
  {
   "cell_type": "code",
   "execution_count": null,
   "id": "0674fd79",
   "metadata": {},
   "outputs": [],
   "source": []
  }
 ],
 "metadata": {
  "kernelspec": {
   "display_name": "Python 3",
   "language": "python",
   "name": "python3"
  },
  "language_info": {
   "codemirror_mode": {
    "name": "ipython",
    "version": 3
   },
   "file_extension": ".py",
   "mimetype": "text/x-python",
   "name": "python",
   "nbconvert_exporter": "python",
   "pygments_lexer": "ipython3",
   "version": "3.7.3"
  }
 },
 "nbformat": 4,
 "nbformat_minor": 5
}
