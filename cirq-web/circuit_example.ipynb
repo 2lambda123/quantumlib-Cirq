{
 "cells": [
  {
   "cell_type": "markdown",
   "id": "737bce11",
   "metadata": {},
   "source": [
    "#### Copyright 2021 The Cirq Developers"
   ]
  },
  {
   "cell_type": "code",
   "execution_count": null,
   "id": "6db8c987",
   "metadata": {},
   "outputs": [],
   "source": [
    "#@title Licensed under the Apache License, Version 2.0 (the \"License\");\n",
    "# you may not use this file except in compliance with the License.\n",
    "# You may obtain a copy of the License at\n",
    "#\n",
    "# https://www.apache.org/licenses/LICENSE-2.0\n",
    "#\n",
    "# Unless required by applicable law or agreed to in writing, software\n",
    "# distributed under the License is distributed on an \"AS IS\" BASIS,\n",
    "# WITHOUT WARRANTIES OR CONDITIONS OF ANY KIND, either express or implied.\n",
    "# See the License for the specific language governing permissions and\n",
    "# limitations under the License."
   ]
  },
  {
   "cell_type": "markdown",
   "id": "88f3b242",
   "metadata": {},
   "source": [
    "### Cirq-web 3D circuit visualization"
   ]
  },
  {
   "cell_type": "markdown",
   "id": "9f4089af",
   "metadata": {},
   "source": [
    "## need to update these links\n",
    "<table class=\"tfo-notebook-buttons\" align=\"left\">\n",
    "  <td>\n",
    "    <a target=\"_blank\" href=\"https://quantumai.google/cirq/circuits\"><img src=\"https://quantumai.google/site-assets/images/buttons/quantumai_logo_1x.png\" />View on QuantumAI</a>\n",
    "  </td>\n",
    "  <td>\n",
    "    <a target=\"_blank\" href=\"https://colab.research.google.com/github/quantumlib/Cirq/blob/master/docs/circuits.ipynb\"><img src=\"https://quantumai.google/site-assets/images/buttons/colab_logo_1x.png\" />Run in Google Colab</a>\n",
    "  </td>\n",
    "  <td>\n",
    "    <a target=\"_blank\" href=\"https://github.com/quantumlib/Cirq/blob/master/docs/circuits.ipynb\"><img src=\"https://quantumai.google/site-assets/images/buttons/github_logo_1x.png\" />View source on GitHub</a>\n",
    "  </td>\n",
    "  <td>\n",
    "    <a href=\"https://storage.googleapis.com/tensorflow_docs/Cirq/docs/circuits.ipynb\"><img src=\"https://quantumai.google/site-assets/images/buttons/download_icon_1x.png\" />Download notebook</a>\n",
    "  </td>\n",
    "</table>"
   ]
  },
  {
   "cell_type": "code",
   "execution_count": null,
   "id": "e4bd9946",
   "metadata": {
    "scrolled": true
   },
   "outputs": [],
   "source": [
    "!pip install cirq-web"
   ]
  },
  {
   "cell_type": "code",
   "execution_count": null,
   "id": "fe0d0e69",
   "metadata": {},
   "outputs": [],
   "source": [
    "import cirq\n",
    "qubits = [cirq.GridQubit(x, y) for x in range(3) for y in range(3)]\n",
    "\n",
    "cz = cirq.CX(qubits[0], qubits[1])\n",
    "x = cirq.H(qubits[2])\n",
    "test = cirq.H(qubits[0])\n",
    "test2 = cirq.H(qubits[0])\n",
    "moment = cirq.Moment([x, cz])\n",
    "moment2 = cirq.Moment(test, cirq.Y(cirq.GridQubit(1, 2)));\n",
    "moment3 = cirq.Moment(test2);\n",
    "moment4 = cirq.Moment([cirq.H(cirq.GridQubit(1, 1)), cirq.CX(qubits[0], qubits[1])])\n",
    "moment5 = cirq.Moment([cirq.I(cirq.GridQubit(1,2)), cirq.CCNOT(cirq.GridQubit(0, 0), cirq.GridQubit(0, 1), cirq.GridQubit(0, 2))])\n",
    "\n",
    "circuit = cirq.Circuit((moment, moment2, moment3, moment4, moment5))"
   ]
  },
  {
   "cell_type": "code",
   "execution_count": null,
   "id": "81689b3f",
   "metadata": {},
   "outputs": [],
   "source": [
    "# __apply__, __call__?\n",
    "# Rename to Symbol, because these are just representations, put 3D in here ?\n",
    "# Theme for different color schemes?\n",
    "# return repr on fallback of custom gates\n",
    "# allow ussers to override gates map by passing into instance of Circuit3D, helps w/ custom gates, helpful w/ theming\n",
    "\n",
    "\"\"\"\n",
    "This cell builds a 3D circuit diagram using a big list of operations provided TS Circuit class.\n",
    "\"\"\"\n",
    "\n",
    "from cirq_web import Circuit3D\n",
    "c3d = Circuit3D(circuit)\n",
    "display(c3d)"
   ]
  }
 ],
 "metadata": {
  "kernelspec": {
   "display_name": "Python 3",
   "language": "python",
   "name": "python3"
  },
  "language_info": {
   "codemirror_mode": {
    "name": "ipython",
    "version": 3
   },
   "file_extension": ".py",
   "mimetype": "text/x-python",
   "name": "python",
   "nbconvert_exporter": "python",
   "pygments_lexer": "ipython3",
   "version": "3.7.3"
  }
 },
 "nbformat": 4,
 "nbformat_minor": 5
}
