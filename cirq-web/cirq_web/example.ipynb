{
 "cells": [
  {
   "cell_type": "code",
   "execution_count": 25,
   "id": "08ebf4a8",
   "metadata": {
    "scrolled": true
   },
   "outputs": [
    {
     "data": {
      "text/html": [
       "\n",
       "<div id=\"container\"></div>\n",
       "<script src=\"dist/bundle.js\"></script>\n",
       "<script>\n",
       "createSphere.showSphere('{\"radius\": 5, \"color\": 65280}');\n",
       "createSphere.addVector('{\"x\": 1, \"y\": 1, \"z\": 1, \"v_length\": 3}')\n",
       "</script>\n"
      ],
      "text/plain": [
       "<IPython.core.display.HTML object>"
      ]
     },
     "execution_count": 25,
     "metadata": {},
     "output_type": "execute_result"
    }
   ],
   "source": [
    "import json\n",
    "from IPython.display import HTML\n",
    "\n",
    "# convert Python circle data to JSON object\n",
    "def circleData(radius, color):\n",
    "    obj = {\n",
    "        'radius': radius,\n",
    "        'color': color,\n",
    "        # Add more data as needed here\n",
    "    }\n",
    "    return json.dumps(obj)\n",
    "\n",
    "def getVectorDirection(x, y, z, length=5):\n",
    "    obj = {\n",
    "        'x': x,\n",
    "        'y': y,\n",
    "        'z': z,\n",
    "        'v_length': length,\n",
    "    }\n",
    "    \n",
    "    return json.dumps(obj)\n",
    "\n",
    "\n",
    "circleData = circleData(5, 0x00ff00)\n",
    "vectorData = getVectorDirection(1, 1, 1, 3)\n",
    "\n",
    "html = f\"\"\"\n",
    "<div id=\"container\"></div>\n",
    "<script src=\"dist/bundle.js\"></script>\n",
    "<script>\n",
    "createSphere.showSphere('{circleData}');\n",
    "createSphere.addVector('{vectorData}')\n",
    "</script>\n",
    "\"\"\"\n",
    "HTML(html)\n"
   ]
  },
  {
   "cell_type": "code",
   "execution_count": null,
   "id": "be79673f",
   "metadata": {},
   "outputs": [],
   "source": []
  }
 ],
 "metadata": {
  "kernelspec": {
   "display_name": "Python 3",
   "language": "python",
   "name": "python3"
  },
  "language_info": {
   "codemirror_mode": {
    "name": "ipython",
    "version": 3
   },
   "file_extension": ".py",
   "mimetype": "text/x-python",
   "name": "python",
   "nbconvert_exporter": "python",
   "pygments_lexer": "ipython3",
   "version": "3.7.3"
  }
 },
 "nbformat": 4,
 "nbformat_minor": 5
}
