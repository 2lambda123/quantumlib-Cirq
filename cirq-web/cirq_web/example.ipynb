{
 "cells": [
  {
   "cell_type": "code",
   "execution_count": 1,
   "id": "be79673f",
   "metadata": {
    "scrolled": true
   },
   "outputs": [
    {
     "name": "stdout",
     "output_type": "stream",
     "text": [
      "Requirement already satisfied: cirq in /home/seunomonije/code/env/lib/python3.7/site-packages (0.11.0)\n",
      "Requirement already satisfied: cirq-core==0.11.0 in /home/seunomonije/code/env/lib/python3.7/site-packages (from cirq) (0.11.0)\n",
      "Requirement already satisfied: cirq-google==0.11.0 in /home/seunomonije/code/env/lib/python3.7/site-packages (from cirq) (0.11.0)\n",
      "Requirement already satisfied: matplotlib~=3.0 in /home/seunomonije/code/env/lib/python3.7/site-packages (from cirq-core==0.11.0->cirq) (3.4.2)\n",
      "Requirement already satisfied: scipy in /home/seunomonije/code/env/lib/python3.7/site-packages (from cirq-core==0.11.0->cirq) (1.6.3)\n",
      "Requirement already satisfied: typing-extensions in /home/seunomonije/code/env/lib/python3.7/site-packages (from cirq-core==0.11.0->cirq) (3.10.0.0)\n",
      "Requirement already satisfied: requests~=2.18 in /home/seunomonije/code/env/lib/python3.7/site-packages (from cirq-core==0.11.0->cirq) (2.25.1)\n",
      "Requirement already satisfied: sympy in /home/seunomonije/code/env/lib/python3.7/site-packages (from cirq-core==0.11.0->cirq) (1.8)\n",
      "Requirement already satisfied: sortedcontainers~=2.0 in /home/seunomonije/code/env/lib/python3.7/site-packages (from cirq-core==0.11.0->cirq) (2.4.0)\n",
      "Requirement already satisfied: networkx~=2.4 in /home/seunomonije/code/env/lib/python3.7/site-packages (from cirq-core==0.11.0->cirq) (2.5.1)\n",
      "Requirement already satisfied: pandas in /home/seunomonije/code/env/lib/python3.7/site-packages (from cirq-core==0.11.0->cirq) (1.2.4)\n",
      "Requirement already satisfied: numpy~=1.16 in /home/seunomonije/code/env/lib/python3.7/site-packages (from cirq-core==0.11.0->cirq) (1.20.3)\n",
      "Requirement already satisfied: tqdm in /home/seunomonije/code/env/lib/python3.7/site-packages (from cirq-core==0.11.0->cirq) (4.60.0)\n",
      "Requirement already satisfied: protobuf~=3.13.0 in /home/seunomonije/code/env/lib/python3.7/site-packages (from cirq-google==0.11.0->cirq) (3.13.0)\n",
      "Requirement already satisfied: google-api-core[grpc]<2.0.0dev,>=1.14.0 in /home/seunomonije/code/env/lib/python3.7/site-packages (from cirq-google==0.11.0->cirq) (1.26.3)\n",
      "Requirement already satisfied: packaging>=14.3 in /home/seunomonije/code/env/lib/python3.7/site-packages (from google-api-core[grpc]<2.0.0dev,>=1.14.0->cirq-google==0.11.0->cirq) (20.9)\n",
      "Requirement already satisfied: six>=1.13.0 in /home/seunomonije/code/env/lib/python3.7/site-packages (from google-api-core[grpc]<2.0.0dev,>=1.14.0->cirq-google==0.11.0->cirq) (1.16.0)\n",
      "Requirement already satisfied: googleapis-common-protos<2.0dev,>=1.6.0 in /home/seunomonije/code/env/lib/python3.7/site-packages (from google-api-core[grpc]<2.0.0dev,>=1.14.0->cirq-google==0.11.0->cirq) (1.53.0)\n",
      "Requirement already satisfied: setuptools>=40.3.0 in /home/seunomonije/code/env/lib/python3.7/site-packages (from google-api-core[grpc]<2.0.0dev,>=1.14.0->cirq-google==0.11.0->cirq) (40.8.0)\n",
      "Requirement already satisfied: pytz in /home/seunomonije/code/env/lib/python3.7/site-packages (from google-api-core[grpc]<2.0.0dev,>=1.14.0->cirq-google==0.11.0->cirq) (2021.1)\n",
      "Requirement already satisfied: google-auth<2.0dev,>=1.21.1 in /home/seunomonije/code/env/lib/python3.7/site-packages (from google-api-core[grpc]<2.0.0dev,>=1.14.0->cirq-google==0.11.0->cirq) (1.30.0)\n",
      "Requirement already satisfied: grpcio<2.0dev,>=1.29.0 in /home/seunomonije/code/env/lib/python3.7/site-packages (from google-api-core[grpc]<2.0.0dev,>=1.14.0->cirq-google==0.11.0->cirq) (1.37.1)\n",
      "Requirement already satisfied: cachetools<5.0,>=2.0.0 in /home/seunomonije/code/env/lib/python3.7/site-packages (from google-auth<2.0dev,>=1.21.1->google-api-core[grpc]<2.0.0dev,>=1.14.0->cirq-google==0.11.0->cirq) (4.2.2)\n",
      "Requirement already satisfied: pyasn1-modules>=0.2.1 in /home/seunomonije/code/env/lib/python3.7/site-packages (from google-auth<2.0dev,>=1.21.1->google-api-core[grpc]<2.0.0dev,>=1.14.0->cirq-google==0.11.0->cirq) (0.2.8)\n",
      "Requirement already satisfied: rsa<5,>=3.1.4 in /home/seunomonije/code/env/lib/python3.7/site-packages (from google-auth<2.0dev,>=1.21.1->google-api-core[grpc]<2.0.0dev,>=1.14.0->cirq-google==0.11.0->cirq) (4.7.2)\n",
      "Requirement already satisfied: kiwisolver>=1.0.1 in /home/seunomonije/code/env/lib/python3.7/site-packages (from matplotlib~=3.0->cirq-core==0.11.0->cirq) (1.3.1)\n",
      "Requirement already satisfied: python-dateutil>=2.7 in /home/seunomonije/code/env/lib/python3.7/site-packages (from matplotlib~=3.0->cirq-core==0.11.0->cirq) (2.8.1)\n",
      "Requirement already satisfied: pillow>=6.2.0 in /home/seunomonije/code/env/lib/python3.7/site-packages (from matplotlib~=3.0->cirq-core==0.11.0->cirq) (8.2.0)\n",
      "Requirement already satisfied: pyparsing>=2.2.1 in /home/seunomonije/code/env/lib/python3.7/site-packages (from matplotlib~=3.0->cirq-core==0.11.0->cirq) (2.4.7)\n",
      "Requirement already satisfied: cycler>=0.10 in /home/seunomonije/code/env/lib/python3.7/site-packages (from matplotlib~=3.0->cirq-core==0.11.0->cirq) (0.10.0)\n",
      "Requirement already satisfied: decorator<5,>=4.3 in /home/seunomonije/code/env/lib/python3.7/site-packages (from networkx~=2.4->cirq-core==0.11.0->cirq) (4.4.2)\n",
      "Requirement already satisfied: pyasn1<0.5.0,>=0.4.6 in /home/seunomonije/code/env/lib/python3.7/site-packages (from pyasn1-modules>=0.2.1->google-auth<2.0dev,>=1.21.1->google-api-core[grpc]<2.0.0dev,>=1.14.0->cirq-google==0.11.0->cirq) (0.4.8)\n",
      "Requirement already satisfied: idna<3,>=2.5 in /home/seunomonije/code/env/lib/python3.7/site-packages (from requests~=2.18->cirq-core==0.11.0->cirq) (2.10)\n",
      "Requirement already satisfied: certifi>=2017.4.17 in /home/seunomonije/code/env/lib/python3.7/site-packages (from requests~=2.18->cirq-core==0.11.0->cirq) (2020.12.5)\n",
      "Requirement already satisfied: chardet<5,>=3.0.2 in /home/seunomonije/code/env/lib/python3.7/site-packages (from requests~=2.18->cirq-core==0.11.0->cirq) (4.0.0)\n",
      "Requirement already satisfied: urllib3<1.27,>=1.21.1 in /home/seunomonije/code/env/lib/python3.7/site-packages (from requests~=2.18->cirq-core==0.11.0->cirq) (1.26.4)\n",
      "Requirement already satisfied: mpmath>=0.19 in /home/seunomonije/code/env/lib/python3.7/site-packages (from sympy->cirq-core==0.11.0->cirq) (1.2.1)\n",
      "\u001b[33mWARNING: You are using pip version 21.1.1; however, version 21.1.2 is available.\n",
      "You should consider upgrading via the '/home/seunomonije/code/env/bin/python3 -m pip install --upgrade pip' command.\u001b[0m\n"
     ]
    }
   ],
   "source": [
    "!pip install cirq"
   ]
  },
  {
   "cell_type": "code",
   "execution_count": 13,
   "id": "08ebf4a8",
   "metadata": {
    "scrolled": false
   },
   "outputs": [
    {
     "data": {
      "text/html": [
       "\n",
       "<div id=\"container\"></div>\n",
       "<script src=\"dist/bundle.js\"></script>\n",
       "<script>\n",
       "createSphere.showSphere('{\"radius\": 5, \"color\": 65280}');\n",
       "createSphere.addVector('{\"x\": 0.38754770159721375, \"y\": 0.16104425489902496, \"z\": 0.9076736569404602, \"v_length\": 5}')\n",
       "</script>\n"
      ],
      "text/plain": [
       "<IPython.core.display.HTML object>"
      ]
     },
     "execution_count": 13,
     "metadata": {},
     "output_type": "execute_result"
    }
   ],
   "source": [
    "import json\n",
    "from IPython.display import HTML\n",
    "import cirq\n",
    "import math\n",
    "\n",
    "# convert Python circle data to JSON object\n",
    "def circleData(radius, color):\n",
    "    obj = {\n",
    "        'radius': radius,\n",
    "        'color': color,\n",
    "        # Add more data as needed here\n",
    "    }\n",
    "    return json.dumps(obj)\n",
    "\n",
    "def serializeCirqVector(x, y, z, length=5):\n",
    "    # .item() bc input is of type float32, need to convert to seralizable type\n",
    "    obj = {\n",
    "        'x': x.item(),\n",
    "        'y': y.item(),\n",
    "        'z': z.item(),\n",
    "        'v_length': length,\n",
    "    } \n",
    "    return json.dumps(obj)\n",
    "\n",
    "r2o2 = math.sqrt(2)/2\n",
    "def createCirqVector(alpha=r2o2, beta=r2o2, random=False):\n",
    "    if random:\n",
    "        random_vector = cirq.testing.random_superposition(2)\n",
    "        state_vector = cirq.to_valid_state_vector(random_vector)\n",
    "    else:\n",
    "        state_vector = cirq.to_valid_state_vector([alpha, beta])\n",
    "    bloch_vector = cirq.qis.bloch_vector_from_state_vector(state_vector, 0)\n",
    "    return bloch_vector\n",
    "    \n",
    "circleData = circleData(5, 0x00ff00)\n",
    "bloch_vector = createCirqVector(random=True)\n",
    "vectorData = serializeCirqVector(*bloch_vector)\n",
    "\n",
    "html = f\"\"\"\n",
    "<div id=\"container\"></div>\n",
    "<script src=\"dist/bundle.js\"></script>\n",
    "<script>\n",
    "createSphere.showSphere('{circleData}');\n",
    "createSphere.addVector('{vectorData}')\n",
    "</script>\n",
    "\"\"\"\n",
    "HTML(html)\n"
   ]
  },
  {
   "cell_type": "code",
   "execution_count": null,
   "id": "9a3e9f86",
   "metadata": {},
   "outputs": [],
   "source": []
  },
  {
   "cell_type": "code",
   "execution_count": null,
   "id": "e65b53a4",
   "metadata": {},
   "outputs": [],
   "source": []
  }
 ],
 "metadata": {
  "kernelspec": {
   "display_name": "Python 3",
   "language": "python",
   "name": "python3"
  },
  "language_info": {
   "codemirror_mode": {
    "name": "ipython",
    "version": 3
   },
   "file_extension": ".py",
   "mimetype": "text/x-python",
   "name": "python",
   "nbconvert_exporter": "python",
   "pygments_lexer": "ipython3",
   "version": "3.7.3"
  }
 },
 "nbformat": 4,
 "nbformat_minor": 5
}
