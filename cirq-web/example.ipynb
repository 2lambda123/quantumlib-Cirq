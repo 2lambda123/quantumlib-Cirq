{
 "cells": [
  {
   "cell_type": "code",
   "execution_count": null,
   "id": "be79673f",
   "metadata": {
    "scrolled": true
   },
   "outputs": [],
   "source": [
    "!pip install cirq"
   ]
  },
  {
   "cell_type": "code",
   "execution_count": null,
   "id": "08ebf4a8",
   "metadata": {
    "scrolled": false
   },
   "outputs": [],
   "source": [
    "import json\n",
    "from IPython.display import HTML\n",
    "import cirq\n",
    "import math\n",
    "\n",
    "class CirqBlochSphere:\n",
    "    def __init__(self):\n",
    "        pass\n",
    "    \n",
    "    def _repr_html_(self):\n",
    "        return f\"\"\"\n",
    "            <div id=\"container\"></div>\n",
    "            <script src=\"dist/bundle.js\"></script>\n",
    "            <script>\n",
    "            createSphere.showSphere('{circleData}');\n",
    "            </script>\n",
    "            \"\"\"\n",
    "    \n",
    "# convert Python circle data to JSON object\n",
    "def circleData(radius, color):\n",
    "    obj = {\n",
    "        'radius': radius,\n",
    "        'color': color,\n",
    "        # Add more data as needed here\n",
    "    }\n",
    "    return json.dumps(obj)\n",
    "\n",
    "def serializeCirqVector(x, y, z, length=5):\n",
    "    # .item() bc input is of type float32, need to convert to seralizable type\n",
    "    obj = {\n",
    "        'x': x.item(),\n",
    "        'y': y.item(),\n",
    "        'z': z.item(),\n",
    "        'v_length': length,\n",
    "    } \n",
    "    return json.dumps(obj)\n",
    "\n",
    "r2o2 = math.sqrt(2)/2\n",
    "def createCirqVector(alpha=r2o2, beta=r2o2, random=False):\n",
    "    if random:\n",
    "        random_vector = cirq.testing.random_superposition(2)\n",
    "        state_vector = cirq.to_valid_state_vector(random_vector)\n",
    "    else:\n",
    "        state_vector = cirq.to_valid_state_vector([alpha, beta])\n",
    "    bloch_vector = cirq.qis.bloch_vector_from_state_vector(state_vector, 0)\n",
    "    return bloch_vector\n",
    "    \n",
    "circleData = circleData(5, 0x00ff00)\n",
    "bloch_vector = createCirqVector(random=True)\n",
    "vectorData = serializeCirqVector(*bloch_vector)\n",
    "\n",
    "html = f\"\"\"\n",
    "<div id=\"container\"></div>\n",
    "<script src=\"cirq_ts/dist/bloch_sphere.bundle.js\"></script>\n",
    "<script>\n",
    "createSphere.showSphere('{circleData}', '{vectorData}');\n",
    "</script>\n",
    "\"\"\"\n",
    "HTML(html)\n",
    "\n"
   ]
  },
  {
   "cell_type": "code",
   "execution_count": 1,
   "id": "9a3e9f86",
   "metadata": {},
   "outputs": [
    {
     "ename": "SyntaxError",
     "evalue": "invalid syntax (bloch_sphere.py, line 54)",
     "output_type": "error",
     "traceback": [
      "Traceback \u001b[0;36m(most recent call last)\u001b[0m:\n",
      "  File \u001b[1;32m\"/home/seunomonije/code/env/lib/python3.7/site-packages/IPython/core/interactiveshell.py\"\u001b[0m, line \u001b[1;32m3437\u001b[0m, in \u001b[1;35mrun_code\u001b[0m\n    exec(code_obj, self.user_global_ns, self.user_ns)\n",
      "  File \u001b[1;32m\"<ipython-input-1-3b7855eb30f4>\"\u001b[0m, line \u001b[1;32m1\u001b[0m, in \u001b[1;35m<module>\u001b[0m\n    from cirq_web import BlochSphere\n",
      "  File \u001b[1;32m\"/home/seunomonije/code/Cirq/cirq-web/cirq_web/__init__.py\"\u001b[0m, line \u001b[1;32m17\u001b[0m, in \u001b[1;35m<module>\u001b[0m\n    from cirq_web.bloch_sphere import (\n",
      "\u001b[0;36m  File \u001b[0;32m\"/home/seunomonije/code/Cirq/cirq-web/cirq_web/bloch_sphere/__init__.py\"\u001b[0;36m, line \u001b[0;32m15\u001b[0;36m, in \u001b[0;35m<module>\u001b[0;36m\u001b[0m\n\u001b[0;31m    from cirq_web.bloch_sphere.bloch_sphere import BlochSphere\u001b[0m\n",
      "\u001b[0;36m  File \u001b[0;32m\"/home/seunomonije/code/Cirq/cirq-web/cirq_web/bloch_sphere/bloch_sphere.py\"\u001b[0;36m, line \u001b[0;32m54\u001b[0m\n\u001b[0;31m    print(self.bundle_file_path))\u001b[0m\n\u001b[0m                                ^\u001b[0m\n\u001b[0;31mSyntaxError\u001b[0m\u001b[0;31m:\u001b[0m invalid syntax\n"
     ]
    }
   ],
   "source": [
    "from cirq_web import BlochSphere\n",
    "import cirq\n",
    "import math\n",
    "\n",
    "random_vector = cirq.testing.random_superposition(2)\n",
    "print(random_vector)\n",
    "for el in random_vector:\n",
    "    print(el)\n",
    "\n",
    "state_vector = cirq.to_valid_state_vector(random_vector)\n",
    "sphere=BlochSphere(state_vector=state_vector)\n",
    "display(sphere)"
   ]
  },
  {
   "cell_type": "code",
   "execution_count": null,
   "id": "e65b53a4",
   "metadata": {},
   "outputs": [],
   "source": []
  }
 ],
 "metadata": {
  "kernelspec": {
   "display_name": "Python 3",
   "language": "python",
   "name": "python3"
  },
  "language_info": {
   "codemirror_mode": {
    "name": "ipython",
    "version": 3
   },
   "file_extension": ".py",
   "mimetype": "text/x-python",
   "name": "python",
   "nbconvert_exporter": "python",
   "pygments_lexer": "ipython3",
   "version": "3.7.3"
  }
 },
 "nbformat": 4,
 "nbformat_minor": 5
}
