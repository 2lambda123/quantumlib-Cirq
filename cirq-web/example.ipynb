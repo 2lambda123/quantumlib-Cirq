{
 "cells": [
  {
   "cell_type": "code",
   "execution_count": null,
   "id": "be79673f",
   "metadata": {
    "scrolled": true
   },
   "outputs": [],
   "source": [
    "!pip install cirq"
   ]
  },
  {
   "cell_type": "code",
   "execution_count": null,
   "id": "08ebf4a8",
   "metadata": {
    "scrolled": false
   },
   "outputs": [],
   "source": [
    "import json\n",
    "from IPython.display import HTML\n",
    "import cirq\n",
    "import math\n",
    "\n",
    "class CirqBlochSphere:\n",
    "    def __init__(self):\n",
    "        pass\n",
    "    \n",
    "    def _repr_html_(self):\n",
    "        return f\"\"\"\n",
    "            <div id=\"container\"></div>\n",
    "            <script src=\"dist/bundle.js\"></script>\n",
    "            <script>\n",
    "            createSphere.showSphere('{circleData}');\n",
    "            </script>\n",
    "            \"\"\"\n",
    "    \n",
    "# convert Python circle data to JSON object\n",
    "def circleData(radius, color):\n",
    "    obj = {\n",
    "        'radius': radius,\n",
    "        'color': color,\n",
    "        # Add more data as needed here\n",
    "    }\n",
    "    return json.dumps(obj)\n",
    "\n",
    "def serializeCirqVector(x, y, z, length=5):\n",
    "    # .item() bc input is of type float32, need to convert to seralizable type\n",
    "    obj = {\n",
    "        'x': x.item(),\n",
    "        'y': y.item(),\n",
    "        'z': z.item(),\n",
    "        'v_length': length,\n",
    "    } \n",
    "    return json.dumps(obj)\n",
    "\n",
    "r2o2 = math.sqrt(2)/2\n",
    "def createCirqVector(alpha=r2o2, beta=r2o2, random=False):\n",
    "    if random:\n",
    "        random_vector = cirq.testing.random_superposition(2)\n",
    "        state_vector = cirq.to_valid_state_vector(random_vector)\n",
    "    else:\n",
    "        state_vector = cirq.to_valid_state_vector([alpha, beta])\n",
    "    bloch_vector = cirq.qis.bloch_vector_from_state_vector(state_vector, 0)\n",
    "    return bloch_vector\n",
    "    \n",
    "circleData = circleData(5, 0x00ff00)\n",
    "bloch_vector = createCirqVector(random=True)\n",
    "vectorData = serializeCirqVector(*bloch_vector)\n",
    "\n",
    "html = f\"\"\"\n",
    "<div id=\"container\"></div>\n",
    "<script src=\"cirq_ts/dist/bloch_sphere.bundle.js\"></script>\n",
    "<script>\n",
    "createSphere.showSphere('{circleData}', '{vectorData}');\n",
    "</script>\n",
    "\"\"\"\n",
    "HTML(html)\n",
    "\n"
   ]
  },
  {
   "cell_type": "code",
   "execution_count": 3,
   "id": "9a3e9f86",
   "metadata": {},
   "outputs": [
    {
     "data": {
      "text/html": [
       "\n",
       "        <div id=\"container\"></div>\n",
       "        <script src=\"../tree/cirq_ts/dist/bloch_sphere.bundle.js\"></script>\n",
       "        <script>\n",
       "        createSphere.showSphere('{\"radius\": 5}', '{\"x\": 0.06747443974018097, \"y\": -0.9531565308570862, \"z\": 0.29485565423965454, \"v_length\": 5}');\n",
       "        </script>\n",
       "        "
      ],
      "text/plain": [
       "<cirq_web.bloch_sphere.cirq_bloch_sphere.CirqBlochSphere at 0x7dfe1e0cceb8>"
      ]
     },
     "metadata": {},
     "output_type": "display_data"
    }
   ],
   "source": [
    "from cirq_web import CirqBlochSphere\n",
    "\n",
    "sphere=CirqBlochSphere(random=True)\n",
    "display(sphere)"
   ]
  },
  {
   "cell_type": "code",
   "execution_count": null,
   "id": "e65b53a4",
   "metadata": {},
   "outputs": [],
   "source": []
  }
 ],
 "metadata": {
  "kernelspec": {
   "display_name": "Python 3",
   "language": "python",
   "name": "python3"
  },
  "language_info": {
   "codemirror_mode": {
    "name": "ipython",
    "version": 3
   },
   "file_extension": ".py",
   "mimetype": "text/x-python",
   "name": "python",
   "nbconvert_exporter": "python",
   "pygments_lexer": "ipython3",
   "version": "3.7.3"
  }
 },
 "nbformat": 4,
 "nbformat_minor": 5
}
