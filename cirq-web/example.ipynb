{
 "cells": [
  {
   "cell_type": "markdown",
   "id": "9e249d2a",
   "metadata": {},
   "source": [
    "#### Copyright 2021 The Cirq Developers"
   ]
  },
  {
   "cell_type": "code",
   "execution_count": null,
   "id": "a7e0938c",
   "metadata": {},
   "outputs": [],
   "source": [
    "#@title Licensed under the Apache License, Version 2.0 (the \"License\");\n",
    "# you may not use this file except in compliance with the License.\n",
    "# You may obtain a copy of the License at\n",
    "#\n",
    "# https://www.apache.org/licenses/LICENSE-2.0\n",
    "#\n",
    "# Unless required by applicable law or agreed to in writing, software\n",
    "# distributed under the License is distributed on an \"AS IS\" BASIS,\n",
    "# WITHOUT WARRANTIES OR CONDITIONS OF ANY KIND, either express or implied.\n",
    "# See the License for the specific language governing permissions and\n",
    "# limitations under the License."
   ]
  },
  {
   "cell_type": "markdown",
   "id": "fbf7b67d",
   "metadata": {},
   "source": [
    "### Cirq-web visualization"
   ]
  },
  {
   "cell_type": "markdown",
   "id": "e4bf9c7d",
   "metadata": {},
   "source": [
    "<table class=\"tfo-notebook-buttons\" align=\"left\">\n",
    "  <td>\n",
    "    <a target=\"_blank\" href=\"https://quantumai.google/cirq/circuits\"><img src=\"https://quantumai.google/site-assets/images/buttons/quantumai_logo_1x.png\" />View on QuantumAI</a>\n",
    "  </td>\n",
    "  <td>\n",
    "    <a target=\"_blank\" href=\"https://colab.research.google.com/github/quantumlib/Cirq/blob/master/docs/circuits.ipynb\"><img src=\"https://quantumai.google/site-assets/images/buttons/colab_logo_1x.png\" />Run in Google Colab</a>\n",
    "  </td>\n",
    "  <td>\n",
    "    <a target=\"_blank\" href=\"https://github.com/quantumlib/Cirq/blob/master/docs/circuits.ipynb\"><img src=\"https://quantumai.google/site-assets/images/buttons/github_logo_1x.png\" />View source on GitHub</a>\n",
    "  </td>\n",
    "  <td>\n",
    "    <a href=\"https://storage.googleapis.com/tensorflow_docs/Cirq/docs/circuits.ipynb\"><img src=\"https://quantumai.google/site-assets/images/buttons/download_icon_1x.png\" />Download notebook</a>\n",
    "  </td>\n",
    "</table>"
   ]
  },
  {
   "cell_type": "code",
   "execution_count": null,
   "id": "be79673f",
   "metadata": {
    "scrolled": true
   },
   "outputs": [],
   "source": [
    "!pip install --quiet cirq --pre"
   ]
  },
  {
   "cell_type": "markdown",
   "id": "cd34407d",
   "metadata": {},
   "source": [
    "Note: this notebook relies on unreleased Cirq features. If you want to try these features, make sure you install cirq via `pip install cirq --pre`."
   ]
  },
  {
   "cell_type": "code",
   "execution_count": null,
   "id": "08ebf4a8",
   "metadata": {
    "scrolled": false
   },
   "outputs": [],
   "source": [
    "import json\n",
    "from IPython.display import HTML\n",
    "import cirq\n",
    "import math\n",
    "\n",
    "\"\"\"\n",
    "An example of how to display the visualization end to end.\n",
    "\"\"\"\n",
    "class CirqBlochSphere:\n",
    "    def __init__(self):\n",
    "        pass\n",
    "    \n",
    "# convert Python circle data to JSON object\n",
    "def sphereData(radius, color):\n",
    "    obj = {\n",
    "        'radius': radius,\n",
    "        'color': color,\n",
    "        # Add more data as needed here\n",
    "    }\n",
    "    return json.dumps(obj)\n",
    "\n",
    "def serializeVector(x, y, z, length=5):\n",
    "    # .item() bc input is of type float32, need to convert to seralizable type\n",
    "    obj = {\n",
    "        'x': x.item(),\n",
    "        'y': y.item(),\n",
    "        'z': z.item(),\n",
    "        'length': length,\n",
    "    } \n",
    "    return json.dumps(obj)\n",
    "\n",
    "r2o2 = math.sqrt(2)/2\n",
    "def createVector(alpha=r2o2, beta=r2o2, random=False):\n",
    "    if random:\n",
    "        random_vector = cirq.testing.random_superposition(2)\n",
    "        state_vector = cirq.to_valid_state_vector(random_vector)\n",
    "    else:\n",
    "        state_vector = cirq.to_valid_state_vector([alpha, beta])\n",
    "    bloch_vector = cirq.qis.bloch_vector_from_state_vector(state_vector, 0)\n",
    "    return bloch_vector\n",
    "    \n",
    "sphereData = sphereData(5, 0x00ff00)\n",
    "bloch_vector = createVector(random=True)\n",
    "vectorData = serializeVector(*bloch_vector)\n",
    "\n",
    "html = f\"\"\"\n",
    "<div class='bloch-sphere-container'></div>\n",
    "<script src=\"cirq_ts/dist/bloch_sphere.bundle.js\"></script>\n",
    "<script>\n",
    "    renderBlochSphere('{sphereData}').addVector('{vectorData}');\n",
    "</script>\n",
    "\"\"\"\n",
    "HTML(html)\n",
    "\n"
   ]
  },
  {
   "cell_type": "code",
   "execution_count": null,
   "id": "9a3e9f86",
   "metadata": {},
   "outputs": [],
   "source": [
    "from cirq_web import BlochSphere\n",
    "import cirq\n",
    "import math\n",
    "\n",
    "\n",
    "random_vector = cirq.testing.random_superposition(2)\n",
    "\n",
    "r2o2 = math.sqrt(2)/2\n",
    "i = (0 + 1j)\n",
    "\n",
    "zero_state = [1+0j, 0+0j]\n",
    "one_state = [0+0j, 1+0j]\n",
    "\n",
    "plus_state = [r2o2+0j, r2o2+0j]\n",
    "minus_state = [r2o2+0j, -r2o2+0j]\n",
    "\n",
    "i_plus_state = [(r2o2+0j), i*(r2o2+0j)]\n",
    "i_minus_state = [(r2o2+0j), i*(-r2o2+0j)]\n",
    "\n",
    "state_vector = cirq.to_valid_state_vector(one_state)\n",
    "sphere=BlochSphere(state_vector=state_vector)\n",
    "display(sphere)"
   ]
  },
  {
   "cell_type": "code",
   "execution_count": null,
   "id": "e65b53a4",
   "metadata": {},
   "outputs": [],
   "source": []
  }
 ],
 "metadata": {
  "kernelspec": {
   "display_name": "Python 3",
   "language": "python",
   "name": "python3"
  },
  "language_info": {
   "codemirror_mode": {
    "name": "ipython",
    "version": 3
   },
   "file_extension": ".py",
   "mimetype": "text/x-python",
   "name": "python",
   "nbconvert_exporter": "python",
   "pygments_lexer": "ipython3",
   "version": "3.7.3"
  }
 },
 "nbformat": 4,
 "nbformat_minor": 5
}
