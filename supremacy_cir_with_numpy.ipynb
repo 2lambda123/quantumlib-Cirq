{
  "nbformat": 4,
  "nbformat_minor": 0,
  "metadata": {
    "colab": {
      "name": "supremacy_cir_with_numpy",
      "provenance": [],
      "collapsed_sections": []
    },
    "kernelspec": {
      "name": "python3",
      "display_name": "Python 3"
    }
  },
  "cells": [
    {
      "cell_type": "code",
      "metadata": {
        "id": "OSxiCyDQph1Y",
        "outputId": "eac9b633-3636-4397-c2a7-d2eca537594d",
        "colab": {
          "base_uri": "https://localhost:8080/"
        }
      },
      "source": [
        "!pip install cirq"
      ],
      "execution_count": 1,
      "outputs": [
        {
          "output_type": "stream",
          "text": [
            "Collecting cirq\n",
            "\u001b[?25l  Downloading https://files.pythonhosted.org/packages/18/05/39c24828744b91f658fd1e5d105a9d168da43698cfaec006179c7646c71c/cirq-0.9.1-py3-none-any.whl (1.6MB)\n",
            "\u001b[K     |████████████████████████████████| 1.6MB 2.8MB/s \n",
            "\u001b[?25hRequirement already satisfied: scipy in /usr/local/lib/python3.6/dist-packages (from cirq) (1.4.1)\n",
            "Requirement already satisfied: google-api-core[grpc]<2.0.0dev,>=1.14.0 in /usr/local/lib/python3.6/dist-packages (from cirq) (1.16.0)\n",
            "Collecting freezegun~=0.3.15\n",
            "  Downloading https://files.pythonhosted.org/packages/17/5d/1b9d6d3c7995fff473f35861d674e0113a5f0bd5a72fe0199c3f254665c7/freezegun-0.3.15-py2.py3-none-any.whl\n",
            "Requirement already satisfied: pandas in /usr/local/lib/python3.6/dist-packages (from cirq) (1.1.3)\n",
            "Requirement already satisfied: sortedcontainers~=2.0 in /usr/local/lib/python3.6/dist-packages (from cirq) (2.2.2)\n",
            "Requirement already satisfied: sympy in /usr/local/lib/python3.6/dist-packages (from cirq) (1.1.1)\n",
            "Requirement already satisfied: requests~=2.18 in /usr/local/lib/python3.6/dist-packages (from cirq) (2.23.0)\n",
            "Requirement already satisfied: protobuf~=3.12.0 in /usr/local/lib/python3.6/dist-packages (from cirq) (3.12.4)\n",
            "Requirement already satisfied: networkx~=2.4 in /usr/local/lib/python3.6/dist-packages (from cirq) (2.5)\n",
            "Requirement already satisfied: typing-extensions in /usr/local/lib/python3.6/dist-packages (from cirq) (3.7.4.3)\n",
            "Requirement already satisfied: dataclasses; python_version < \"3.7\" in /usr/local/lib/python3.6/dist-packages (from cirq) (0.7)\n",
            "Requirement already satisfied: numpy~=1.16 in /usr/local/lib/python3.6/dist-packages (from cirq) (1.18.5)\n",
            "Requirement already satisfied: matplotlib~=3.0 in /usr/local/lib/python3.6/dist-packages (from cirq) (3.2.2)\n",
            "Requirement already satisfied: pytz in /usr/local/lib/python3.6/dist-packages (from google-api-core[grpc]<2.0.0dev,>=1.14.0->cirq) (2018.9)\n",
            "Requirement already satisfied: googleapis-common-protos<2.0dev,>=1.6.0 in /usr/local/lib/python3.6/dist-packages (from google-api-core[grpc]<2.0.0dev,>=1.14.0->cirq) (1.52.0)\n",
            "Requirement already satisfied: six>=1.10.0 in /usr/local/lib/python3.6/dist-packages (from google-api-core[grpc]<2.0.0dev,>=1.14.0->cirq) (1.15.0)\n",
            "Requirement already satisfied: google-auth<2.0dev,>=0.4.0 in /usr/local/lib/python3.6/dist-packages (from google-api-core[grpc]<2.0.0dev,>=1.14.0->cirq) (1.17.2)\n",
            "Requirement already satisfied: setuptools>=34.0.0 in /usr/local/lib/python3.6/dist-packages (from google-api-core[grpc]<2.0.0dev,>=1.14.0->cirq) (50.3.2)\n",
            "Requirement already satisfied: grpcio<2.0dev,>=1.8.2; extra == \"grpc\" in /usr/local/lib/python3.6/dist-packages (from google-api-core[grpc]<2.0.0dev,>=1.14.0->cirq) (1.33.1)\n",
            "Requirement already satisfied: python-dateutil!=2.0,>=1.0 in /usr/local/lib/python3.6/dist-packages (from freezegun~=0.3.15->cirq) (2.8.1)\n",
            "Requirement already satisfied: mpmath>=0.19 in /usr/local/lib/python3.6/dist-packages (from sympy->cirq) (1.1.0)\n",
            "Requirement already satisfied: certifi>=2017.4.17 in /usr/local/lib/python3.6/dist-packages (from requests~=2.18->cirq) (2020.6.20)\n",
            "Requirement already satisfied: chardet<4,>=3.0.2 in /usr/local/lib/python3.6/dist-packages (from requests~=2.18->cirq) (3.0.4)\n",
            "Requirement already satisfied: idna<3,>=2.5 in /usr/local/lib/python3.6/dist-packages (from requests~=2.18->cirq) (2.10)\n",
            "Requirement already satisfied: urllib3!=1.25.0,!=1.25.1,<1.26,>=1.21.1 in /usr/local/lib/python3.6/dist-packages (from requests~=2.18->cirq) (1.24.3)\n",
            "Requirement already satisfied: decorator>=4.3.0 in /usr/local/lib/python3.6/dist-packages (from networkx~=2.4->cirq) (4.4.2)\n",
            "Requirement already satisfied: pyparsing!=2.0.4,!=2.1.2,!=2.1.6,>=2.0.1 in /usr/local/lib/python3.6/dist-packages (from matplotlib~=3.0->cirq) (2.4.7)\n",
            "Requirement already satisfied: kiwisolver>=1.0.1 in /usr/local/lib/python3.6/dist-packages (from matplotlib~=3.0->cirq) (1.2.0)\n",
            "Requirement already satisfied: cycler>=0.10 in /usr/local/lib/python3.6/dist-packages (from matplotlib~=3.0->cirq) (0.10.0)\n",
            "Requirement already satisfied: cachetools<5.0,>=2.0.0 in /usr/local/lib/python3.6/dist-packages (from google-auth<2.0dev,>=0.4.0->google-api-core[grpc]<2.0.0dev,>=1.14.0->cirq) (4.1.1)\n",
            "Requirement already satisfied: pyasn1-modules>=0.2.1 in /usr/local/lib/python3.6/dist-packages (from google-auth<2.0dev,>=0.4.0->google-api-core[grpc]<2.0.0dev,>=1.14.0->cirq) (0.2.8)\n",
            "Requirement already satisfied: rsa<5,>=3.1.4; python_version >= \"3\" in /usr/local/lib/python3.6/dist-packages (from google-auth<2.0dev,>=0.4.0->google-api-core[grpc]<2.0.0dev,>=1.14.0->cirq) (4.6)\n",
            "Requirement already satisfied: pyasn1<0.5.0,>=0.4.6 in /usr/local/lib/python3.6/dist-packages (from pyasn1-modules>=0.2.1->google-auth<2.0dev,>=0.4.0->google-api-core[grpc]<2.0.0dev,>=1.14.0->cirq) (0.4.8)\n",
            "Installing collected packages: freezegun, cirq\n",
            "Successfully installed cirq-0.9.1 freezegun-0.3.15\n"
          ],
          "name": "stdout"
        }
      ]
    },
    {
      "cell_type": "code",
      "metadata": {
        "id": "3OPzcMIfrAiA"
      },
      "source": [
        "import numpy as np\n",
        "import cirq\n",
        "import time\n",
        "from cirq.experiments.google_v2_supremacy_circuit import *\n",
        "from cirq.contrib.svg import SVGCircuit\n",
        "def experiment(n, cz_depth, seed):\n",
        "  qubits = [cirq.GridQubit(i,j) for i in range(n) for j in range(n)]\n",
        "  circuit = generate_boixo_2018_supremacy_circuits_v2(qubits=qubits, cz_depth=cz_depth, seed=seed)\n",
        "  m = n**2\n",
        "  initial_state_vector = np.array([0]*2**m)\n",
        "  initial_state_vector[0] = 1\n",
        "  start_time = time.time()\n",
        "  simulator = cirq.Simulator()\n",
        "  results = simulator.simulate(circuit, initial_state = initial_state_vector, qubit_order = qubits)\n",
        "  print(\"--- %s seconds ---\" % (time.time() - start_time))\n",
        "  return circuit, results"
      ],
      "execution_count": 2,
      "outputs": []
    },
    {
      "cell_type": "code",
      "metadata": {
        "id": "i8vZdduFstZr",
        "outputId": "96089fc7-4891-4b9f-f3fb-571df06b52f5",
        "colab": {
          "base_uri": "https://localhost:8080/"
        }
      },
      "source": [
        "circuit, results = experiment(2, 4, 2)"
      ],
      "execution_count": 6,
      "outputs": [
        {
          "output_type": "stream",
          "text": [
            "--- 0.004366397857666016 seconds ---\n"
          ],
          "name": "stdout"
        }
      ]
    },
    {
      "cell_type": "code",
      "metadata": {
        "id": "QEVglRNes0ps",
        "outputId": "dcb2b132-66e1-477c-9a0d-f4fd18eb7726",
        "colab": {
          "base_uri": "https://localhost:8080/"
        }
      },
      "source": [
        "results"
      ],
      "execution_count": 7,
      "outputs": [
        {
          "output_type": "execute_result",
          "data": {
            "text/plain": [
              "measurements: (no measurements)\n",
              "output vector: [-1.76776648e-01-1.24999978e-01j -3.01776618e-01+1.76776677e-01j\n",
              " -1.76776677e-01+5.17766736e-02j  1.24999978e-01-1.76776662e-01j\n",
              "  1.24999985e-01+1.05367119e-08j  2.49999955e-01+5.17766848e-02j\n",
              "  3.01776618e-01-2.49999970e-01j -3.16101350e-08+1.24999978e-01j\n",
              "  1.24999985e-01+0.00000000e+00j -2.49999955e-01+5.17766736e-02j\n",
              "  3.01776618e-01+2.49999955e-01j  3.16101350e-08+1.24999985e-01j\n",
              "  1.76776648e-01-1.24999978e-01j -3.01776618e-01-1.76776662e-01j\n",
              "  1.76776662e-01+5.17766960e-02j  1.24999978e-01+1.76776662e-01j]"
            ]
          },
          "metadata": {
            "tags": []
          },
          "execution_count": 7
        }
      ]
    },
    {
      "cell_type": "code",
      "metadata": {
        "id": "xH6akpVQthCB",
        "outputId": "8e535c66-ad0e-4004-983b-96e61bf6f245",
        "colab": {
          "base_uri": "https://localhost:8080/"
        }
      },
      "source": [
        "print(circuit)"
      ],
      "execution_count": 9,
      "outputs": [
        {
          "output_type": "stream",
          "text": [
            "                   ┌──────┐           ┌──────┐\n",
            "(0, 0): ───H───@────@─────────Y^0.5────T─────────H───\n",
            "               │    │\n",
            "(0, 1): ───H───@────┼Y^0.5────T────────@─────────H───\n",
            "                    │                  │\n",
            "(1, 0): ───H───T────@─────────@────────┼X^0.5────H───\n",
            "                              │        │\n",
            "(1, 1): ───H───T──────────────@────────@─────────H───\n",
            "                   └──────┘           └──────┘\n"
          ],
          "name": "stdout"
        }
      ]
    },
    {
      "cell_type": "code",
      "metadata": {
        "id": "UKCA5IVkt3g4"
      },
      "source": [
        "import cirq\n",
        "import time\n",
        "import numpy as np\n",
        "start_time = time.time()\n",
        "# n=25\n",
        "function=0\n",
        "time_result = []\n",
        "for n in range(3,28):\n",
        "  q = [cirq.NamedQubit(\"a\"+str(i)) for i in range(n)]\n",
        "  circuit = cirq.Circuit()\n",
        "  moments = [cirq.H(q[i]) for i in range(n)]\n",
        "  if function!=None:\n",
        "      for i in range(n-1):\n",
        "        # moments += [cirq.T(q[i])]\n",
        "        moments += [cirq.CNOT(q[i], q[-1])]\n",
        "      # moments += [cirq.Moment([cirq.CNOT(q[i], q[-1]), cirq.T(q[i], q[-1])]) for i in range(n-1)]\n",
        "      # moments += [cirq.T(q[i], q[-1]) for i in range(n-1)]\n",
        "\n",
        "  moments += [cirq.H(q[i]) for i in range(n-1)]\n",
        "  circuit.append(moments)\n",
        "\n",
        "  simulator = cirq.Simulator()\n",
        "  initial_state = np.array([0]*(2**n))\n",
        "  initial_state[1] = 1\n",
        "  results = simulator.simulate(circuit, initial_state=initial_state, qubit_order=q)\n",
        "  time_result.append((time.time() - start_time))"
      ],
      "execution_count": 5,
      "outputs": []
    },
    {
      "cell_type": "code",
      "metadata": {
        "id": "gSlxLQgvUJSo",
        "outputId": "c2013ca0-62c7-4911-9c46-2aaec52447eb",
        "colab": {
          "base_uri": "https://localhost:8080/"
        }
      },
      "source": [
        "time_result"
      ],
      "execution_count": 6,
      "outputs": [
        {
          "output_type": "execute_result",
          "data": {
            "text/plain": [
              "[0.006359100341796875,\n",
              " 0.00813913345336914,\n",
              " 0.010207653045654297,\n",
              " 0.012632369995117188,\n",
              " 0.01600813865661621,\n",
              " 0.019311904907226562,\n",
              " 0.02338576316833496,\n",
              " 0.0279080867767334,\n",
              " 0.0330355167388916,\n",
              " 0.03967452049255371,\n",
              " 0.047902584075927734,\n",
              " 0.05907177925109863,\n",
              " 0.07630372047424316,\n",
              " 0.10543036460876465,\n",
              " 0.15909790992736816,\n",
              " 0.2618122100830078,\n",
              " 0.4690206050872803,\n",
              " 0.8986966609954834,\n",
              " 1.807861328125,\n",
              " 3.7497453689575195,\n",
              " 7.830322742462158,\n",
              " 16.081677198410034,\n",
              " 32.89058303833008,\n",
              " 67.8240385055542,\n",
              " 138.53874135017395]"
            ]
          },
          "metadata": {
            "tags": []
          },
          "execution_count": 6
        }
      ]
    },
    {
      "cell_type": "code",
      "metadata": {
        "id": "ngBsQtqdUOHX"
      },
      "source": [
        "from cirq.experiments.google_v2_supremacy_circuit import *\n",
        "# from cirq.contrib.svg import SVGCircuit\n",
        "def experiment(n, cz_depth, seed):\n",
        "  qubits = [cirq.GridQubit(i,j) for i in range(n) for j in range(n)]\n",
        "  circuit = generate_boixo_2018_supremacy_circuits_v2(qubits=qubits, cz_depth=cz_depth, seed=seed)\n",
        "  m = n**2\n",
        "  initial_state_vector = np.array([0]*2**m)\n",
        "  initial_state_vector[0] = 1\n",
        "  start_time = time.time()\n",
        "  simulator = cirq.Simulator()\n",
        "  results = simulator.simulate(circuit, initial_state = initial_state_vector, qubit_order = qubits)\n",
        "  print(\"--- %s seconds ---\" % (time.time() - start_time))\n",
        "  return circuit, results"
      ],
      "execution_count": 23,
      "outputs": []
    },
    {
      "cell_type": "code",
      "metadata": {
        "id": "Kvuwcq-GUReY",
        "outputId": "f826f5e5-4d18-4a32-a2a7-5d88f479f6e3",
        "colab": {
          "base_uri": "https://localhost:8080/"
        }
      },
      "source": [
        "circuit, result = experiment(5,4,2)"
      ],
      "execution_count": 26,
      "outputs": [
        {
          "output_type": "stream",
          "text": [
            "--- 20.25275492668152 seconds ---\n"
          ],
          "name": "stdout"
        }
      ]
    },
    {
      "cell_type": "code",
      "metadata": {
        "id": "d6lEoVL6yDQt",
        "outputId": "b944bc87-1a82-4e8a-a9ad-3be0f47a956a",
        "colab": {
          "base_uri": "https://localhost:8080/"
        }
      },
      "source": [
        "result"
      ],
      "execution_count": 25,
      "outputs": [
        {
          "output_type": "execute_result",
          "data": {
            "text/plain": [
              "measurements: (no measurements)\n",
              "output vector: [-1.76776648e-01-1.24999978e-01j -3.01776618e-01+1.76776677e-01j\n",
              " -1.76776677e-01+5.17766736e-02j  1.24999978e-01-1.76776662e-01j\n",
              "  1.24999985e-01+1.05367119e-08j  2.49999955e-01+5.17766848e-02j\n",
              "  3.01776618e-01-2.49999970e-01j -3.16101350e-08+1.24999978e-01j\n",
              "  1.24999985e-01+0.00000000e+00j -2.49999955e-01+5.17766736e-02j\n",
              "  3.01776618e-01+2.49999955e-01j  3.16101350e-08+1.24999985e-01j\n",
              "  1.76776648e-01-1.24999978e-01j -3.01776618e-01-1.76776662e-01j\n",
              "  1.76776662e-01+5.17766960e-02j  1.24999978e-01+1.76776662e-01j]"
            ]
          },
          "metadata": {
            "tags": []
          },
          "execution_count": 25
        }
      ]
    }
  ]
}