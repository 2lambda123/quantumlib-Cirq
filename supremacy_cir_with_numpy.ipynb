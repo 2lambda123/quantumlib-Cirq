{
  "nbformat": 4,
  "nbformat_minor": 0,
  "metadata": {
    "colab": {
      "name": "supremacy_cir_with_numpy",
      "provenance": [],
      "collapsed_sections": []
    },
    "kernelspec": {
      "name": "python3",
      "display_name": "Python 3"
    }
  },
  "cells": [
    {
      "cell_type": "code",
      "metadata": {
        "id": "xFfs383t7Epn",
        "colab": {
          "base_uri": "https://localhost:8080/"
        },
        "outputId": "0a11ad7f-6c1b-4b3c-fdf0-3190a6c962dd"
      },
      "source": [
        "!pip install --quiet cirq"
      ],
      "execution_count": 1,
      "outputs": [
        {
          "output_type": "stream",
          "text": [
            "\u001b[K     |████████████████████████████████| 1.8MB 6.0MB/s \n",
            "\u001b[K     |████████████████████████████████| 1.3MB 37.9MB/s \n",
            "\u001b[?25h"
          ],
          "name": "stdout"
        }
      ]
    },
    {
      "cell_type": "code",
      "metadata": {
        "id": "UKCA5IVkt3g4"
      },
      "source": [
        "# Deutsch algorithm\n",
        "import cirq\n",
        "import time\n",
        "import numpy as np\n",
        "\n",
        "function=0\n",
        "time_result = []\n",
        "for n in range(3,28):\n",
        "  q = [cirq.NamedQubit(\"a\"+str(i)) for i in range(n)]\n",
        "  circuit = cirq.Circuit()\n",
        "  moments = [cirq.H(q[i]) for i in range(n)]\n",
        "  if function!=None:\n",
        "      for i in range(n-1):\n",
        "        moments += [cirq.CNOT(q[i], q[-1])]\n",
        "\n",
        "  moments += [cirq.H(q[i]) for i in range(n-1)]\n",
        "  circuit.append(moments)\n",
        "\n",
        "  simulator = cirq.Simulator()\n",
        "  initial_state = np.array([0]*(2**n))\n",
        "  initial_state[1] = 1\n",
        "  start_time = time.time()\n",
        "  results = simulator.simulate(circuit, initial_state=initial_state, qubit_order=q)\n",
        "  time_result.append((time.time() - start_time))"
      ],
      "execution_count": 6,
      "outputs": []
    },
    {
      "cell_type": "code",
      "metadata": {
        "colab": {
          "base_uri": "https://localhost:8080/"
        },
        "id": "RHAEpnVIV1Pp",
        "outputId": "3be1dfee-2721-455e-ce7b-1e1c4565ef44"
      },
      "source": [
        "time_result"
      ],
      "execution_count": 7,
      "outputs": [
        {
          "output_type": "execute_result",
          "data": {
            "text/plain": [
              "[0.002010822296142578,\n",
              " 0.006912946701049805,\n",
              " 0.007322072982788086,\n",
              " 0.005489826202392578,\n",
              " 0.004613637924194336,\n",
              " 0.0051419734954833984,\n",
              " 0.006871938705444336,\n",
              " 0.006784915924072266,\n",
              " 0.0053822994232177734,\n",
              " 0.006264925003051758,\n",
              " 0.007646083831787109,\n",
              " 0.010567426681518555,\n",
              " 0.015895366668701172,\n",
              " 0.026006460189819336,\n",
              " 0.04778003692626953,\n",
              " 0.08736705780029297,\n",
              " 0.19181537628173828,\n",
              " 0.40337467193603516,\n",
              " 0.8255362510681152,\n",
              " 1.6467773914337158,\n",
              " 3.2954633235931396,\n",
              " 6.86741828918457,\n",
              " 14.152146100997925,\n",
              " 29.098552465438843,\n",
              " 60.068238258361816]"
            ]
          },
          "metadata": {
            "tags": []
          },
          "execution_count": 7
        }
      ]
    },
    {
      "cell_type": "markdown",
      "metadata": {
        "id": "JuEeS-Rgx6MZ"
      },
      "source": [
        "#Supremacy circuits simulation"
      ]
    },
    {
      "cell_type": "code",
      "metadata": {
        "id": "cBiP2FkUn-50"
      },
      "source": [
        "import numpy as np\n",
        "import cirq\n",
        "import time\n",
        "from cirq.experiments.google_v2_supremacy_circuit import *\n",
        "def experiment1(n, m, cz_depth, seed, qubits_to_be_ignored=None):\n",
        "  # qubits = [cirq.GridQubit(i,j) for i in range(n) for j in range(n)]\n",
        "  circuit = generate_boixo_2018_supremacy_circuits_v2_grid(n_rows=n, n_cols=m, cz_depth=cz_depth, seed=seed)\n",
        "  supremacy_circuit = cirq.Circuit()\n",
        "  for moment in circuit:\n",
        "    for operation in moment:\n",
        "      if not set(qubits_to_be_ignored) & set(operation.qubits):\n",
        "        supremacy_circuit.append(operation)\n",
        "  s = n*m-len(qubits_to_be_ignored)\n",
        "  initial_state_vector = np.array([0]*2**s)\n",
        "  initial_state_vector[0] = 1\n",
        "  time_result = []\n",
        "  qubits = list(supremacy_circuit.all_qubits())\n",
        "  for p in range(10):\n",
        "    start_time = time.time()\n",
        "    simulator = cirq.Simulator()\n",
        "    results = simulator.simulate(supremacy_circuit, initial_state = initial_state_vector, qubit_order = qubits)\n",
        "    time_result.append(time.time() - start_time)\n",
        "  time_result = np.array(time_result)\n",
        "  return supremacy_circuit, results, np.mean(time_result)\n"
      ],
      "execution_count": 8,
      "outputs": []
    },
    {
      "cell_type": "code",
      "metadata": {
        "id": "s87K0tb5oF00",
        "colab": {
          "base_uri": "https://localhost:8080/"
        },
        "outputId": "d73b2e60-2efc-4261-8c1b-0a2e52075e0b"
      },
      "source": [
        "import numpy as np\n",
        "from itertools import product\n",
        "from random import sample\n",
        "time_results = []\n",
        "c, r, mt = experiment1(n=2, m=2, cz_depth=4, seed=2, qubits_to_be_ignored=[])\n",
        "\n",
        "time_results.append(mt)\n",
        "\n",
        "for n in range(3,6):\n",
        "  list_of_indices = list(product(range(n),repeat=2))\n",
        "  for i in range(2*n-2, -1,-1):\n",
        "    qubits_to_be_ignored = [cirq.GridQubit(x[0], x[1]) for x in sample(list_of_indices, i)]\n",
        "    circuit, result, x = experiment1(n=n, m=n, cz_depth=2*n,seed=2, qubits_to_be_ignored=qubits_to_be_ignored)\n",
        "  # circuit, result, x = experiment1(n=n, m=n, cz_depth=2*n,seed=2)\n",
        "    time_results.append(x)\n",
        "\n",
        "c, r, mt = experiment1(n=7, m=4, cz_depth=14, seed=1, qubits_to_be_ignored=[cirq.GridQubit(0,0), cirq.GridQubit(0,1)])\n",
        "\n",
        "time_results.append(mt)\n",
        "\n",
        "c, r, mt = experiment1(n=7, m=4, cz_depth=14, seed=1, qubits_to_be_ignored=[cirq.GridQubit(0,0)])\n",
        "\n",
        "time_results.append(mt)\n",
        "time_results"
      ],
      "execution_count": 9,
      "outputs": [
        {
          "output_type": "stream",
          "text": [
            "4\n",
            "5\n",
            "6\n",
            "7\n",
            "8\n",
            "9\n",
            "10\n",
            "11\n",
            "12\n",
            "13\n",
            "14\n",
            "15\n",
            "16\n",
            "17\n",
            "18\n",
            "19\n",
            "20\n",
            "21\n",
            "22\n",
            "23\n",
            "24\n",
            "25\n",
            "26\n",
            "27\n"
          ],
          "name": "stdout"
        },
        {
          "output_type": "execute_result",
          "data": {
            "text/plain": [
              "[0.004195451736450195,\n",
              " 0.0038480520248413085,\n",
              " 0.005486869812011718,\n",
              " 0.004797840118408203,\n",
              " 0.006438493728637695,\n",
              " 0.008353686332702637,\n",
              " 0.008139204978942872,\n",
              " 0.010401463508605957,\n",
              " 0.011721992492675781,\n",
              " 0.01622469425201416,\n",
              " 0.021231603622436524,\n",
              " 0.030955195426940918,\n",
              " 0.05592355728149414,\n",
              " 0.20605340003967285,\n",
              " 0.34598114490509035,\n",
              " 0.5079902172088623,\n",
              " 1.0100622415542602,\n",
              " 2.0481415510177614,\n",
              " 4.197118926048279,\n",
              " 8.385995697975158,\n",
              " 16.85278730392456,\n",
              " 36.125806427001955,\n",
              " 94.51600887775422,\n",
              " 198.4059149980545]"
            ]
          },
          "metadata": {
            "tags": []
          },
          "execution_count": 9
        }
      ]
    },
    {
      "cell_type": "markdown",
      "metadata": {
        "id": "ZwjYhmXEyC7M"
      },
      "source": [
        "# Multiplier simulation"
      ]
    },
    {
      "cell_type": "code",
      "metadata": {
        "id": "AYey2-iMj2zB"
      },
      "source": [
        "# from google.colab import  drive\n",
        "# drive.mount('/content/drive')"
      ],
      "execution_count": null,
      "outputs": []
    },
    {
      "cell_type": "code",
      "metadata": {
        "id": "Z7HbtuAr93kL"
      },
      "source": [
        "# %cd drive/My\\ Drive/"
      ],
      "execution_count": null,
      "outputs": []
    },
    {
      "cell_type": "code",
      "metadata": {
        "id": "6jYhD94ZwFPU"
      },
      "source": [
        "# %cd quantify"
      ],
      "execution_count": null,
      "outputs": []
    },
    {
      "cell_type": "code",
      "metadata": {
        "id": "COjnIrPL-XsY"
      },
      "source": [
        "# !cp -avr mathematics/ /usr/local/lib/python3.6/dist-packages"
      ],
      "execution_count": null,
      "outputs": []
    },
    {
      "cell_type": "code",
      "metadata": {
        "id": "LgMQ4NCy-FSE"
      },
      "source": [
        "# make sure to import the mathematics package from quantify\n",
        "import cirq\n",
        "import mathematics.multiplier as mt\n",
        "import numpy as np\n",
        "import time\n",
        "\n",
        "def multiplier_experiment(n, qubits_to_be_excluded=[]):\n",
        "\n",
        "    # A and B are the numbers to be multiplied\n",
        "    A = [cirq.NamedQubit('a' + str(i)) for i in range(n)]\n",
        "    B = [cirq.NamedQubit('b' + str(i)) for i in range(n)]\n",
        "\n",
        "    # instanciate the multiplier class and invoke the multiply method\n",
        "    # the result is the corresponding circuit\n",
        "    circuit = mt.multiplier(A, B).multiply()\n",
        "    final_circuit = cirq.Circuit()\n",
        "    for moment in circuit:\n",
        "      for operation in moment:\n",
        "        if not set(qubits_to_be_ignored) & set(operation.qubits):\n",
        "          final_circuit.append(operation)\n",
        "    \n",
        "    \n",
        "    simulator = cirq.Simulator()\n",
        "\n",
        "    # sort the qubits in a way such that B has the most significant bits then A then P\n",
        "    \n",
        "    qubits = sorted(list(final_circuit.all_qubits()))[::-1]\n",
        "\n",
        "    s = len(qubits)\n",
        "    print(s)\n",
        "    intial_state = [0] * 2 ** (len(qubits))\n",
        "\n",
        "    intial_state[0] = 1\n",
        "    intial_state = np.array(intial_state, dtype=np.complex64)\n",
        "    start_time = time.time()\n",
        "    result = simulator.simulate(final_circuit, qubit_order=qubits, initial_state=intial_state)\n",
        "    time_result = time.time()-start_time\n",
        "\n",
        "    # \"\"\"Now consider B and A as a concatinated bitstring with B having the most significant bits\n",
        "    #     Afterwards add 2n+1 bits of 0 which represents P0, P1...P2n\n",
        "    # \"\"\"\n",
        "\n",
        "    # \"\"\"the list of all possible integers is exactly the range(2^(2n)) but we need to shift it \n",
        "    #     in order to initialize the qubits of P to 0\n",
        "    # \"\"\"\n",
        "    # shift = 2 ** n - 1\n",
        "    # # list_of_possible_integers = [i << shift for i in range(2 ** (2 * n))]\n",
        "    # list_of_possible_integers = [2 ** (2 * n)-2]\n",
        "    # # print(list_of_possible_integers)\n",
        "    # for i in list_of_possible_integers:\n",
        "    #     intial_state[i] = 1\n",
        "    #     # state[1920]=1\n",
        "    #     intial_state = np.array(intial_state, dtype=np.complex64)\n",
        "    #     start_time = time.time()\n",
        "    #     result = simulator.simulate(circuit, qubit_order=qubits, initial_state=intial_state)\n",
        "    #     time_result = time.time()-start_time\n",
        "    #     BA = i >> shift\n",
        "    #     B_times_A = BA % (2 ** 3) * (BA >> n)\n",
        "    #     # assert (np.where(result.final_state == 1)[0][0] == i + B_times_A)\n",
        "    #     intial_state[i] = 0\n",
        "    return time_result"
      ],
      "execution_count": 22,
      "outputs": []
    },
    {
      "cell_type": "code",
      "metadata": {
        "id": "uyN3SRPK-f7j",
        "colab": {
          "base_uri": "https://localhost:8080/"
        },
        "outputId": "a138a3a0-55e6-48e5-adbf-fa9205b4dc8e"
      },
      "source": [
        "import numpy as np\n",
        "from itertools import product\n",
        "from random import sample\n",
        "time_results = []\n",
        "time_results.append(multiplier_experiment(3, qubits_to_be_excluded=[]))\n",
        "for n in range(4,8):\n",
        "  # list_of_indices = list(product(range(n),repeat=2))\n",
        "  if n == 7:\n",
        "    for i in range(3,1,-1):\n",
        "      qubits_to_be_ignored = [cirq.NamedQubit(\"P\"+str(j)) for j in range(i)]\n",
        "      time_results.append(multiplier_experiment(n, qubits_to_be_excluded=qubits_to_be_ignored))\n",
        "  else:\n",
        "    for i in range(3,-1,-1):\n",
        "      qubits_to_be_ignored = [cirq.NamedQubit(\"P\"+str(j)) for j in range(i)]\n",
        "      time_results.append(multiplier_experiment(n, qubits_to_be_excluded=qubits_to_be_ignored))\n"
      ],
      "execution_count": 23,
      "outputs": [
        {
          "output_type": "stream",
          "text": [
            "12\n",
            "14\n",
            "15\n",
            "16\n",
            "17\n",
            "18\n",
            "19\n",
            "20\n",
            "21\n",
            "22\n",
            "23\n",
            "24\n",
            "25\n",
            "26\n",
            "27\n"
          ],
          "name": "stdout"
        }
      ]
    },
    {
      "cell_type": "code",
      "metadata": {
        "id": "hQfmbxyh_lIn",
        "colab": {
          "base_uri": "https://localhost:8080/"
        },
        "outputId": "74cbcc19-2a09-44d0-ecdd-b995c6d61910"
      },
      "source": [
        "time_results"
      ],
      "execution_count": 24,
      "outputs": [
        {
          "output_type": "execute_result",
          "data": {
            "text/plain": [
              "[0.011724710464477539,\n",
              " 0.021884679794311523,\n",
              " 0.028303146362304688,\n",
              " 0.030359268188476562,\n",
              " 0.03738212585449219,\n",
              " 0.1295318603515625,\n",
              " 0.25028014183044434,\n",
              " 0.40126848220825195,\n",
              " 0.7607660293579102,\n",
              " 2.0643651485443115,\n",
              " 4.024325132369995,\n",
              " 7.521160364151001,\n",
              " 15.930748462677002,\n",
              " 39.37988615036011,\n",
              " 75.10322833061218]"
            ]
          },
          "metadata": {
            "tags": []
          },
          "execution_count": 24
        }
      ]
    },
    {
      "cell_type": "markdown",
      "metadata": {
        "id": "KOzDKmNew9Ts"
      },
      "source": [
        "#simulation with qsim"
      ]
    },
    {
      "cell_type": "code",
      "metadata": {
        "id": "URY-hPTR0xPI"
      },
      "source": [
        "!pip install --quiet qsimcirq"
      ],
      "execution_count": 15,
      "outputs": []
    },
    {
      "cell_type": "code",
      "metadata": {
        "id": "Qz6T69DP75WB"
      },
      "source": [
        "import cirq\n",
        "import qsimcirq\n",
        "import time\n",
        "from cirq.experiments.google_v2_supremacy_circuit import *\n",
        "\n",
        "def experiment2(n, m, cz_depth, seed, qubits_to_be_ignored=None):\n",
        "  # qubits = [cirq.GridQubit(i,j) for i in range(n) for j in range(n)]\n",
        "  circuit = generate_boixo_2018_supremacy_circuits_v2_grid(n_rows=n, n_cols=m, cz_depth=cz_depth, seed=seed)\n",
        "  supremacy_circuit = cirq.Circuit()\n",
        "  qubit_to_be_ignored = cirq.GridQubit(0,0)\n",
        "  supremacy_circuit = cirq.Circuit()\n",
        "  for moment in circuit:\n",
        "    for operation in moment:\n",
        "      if not set(qubits_to_be_ignored) & set(operation.qubits):\n",
        "        supremacy_circuit.append(operation)\n",
        "  s = n*m-len(qubits_to_be_ignored)\n",
        "  qubits = list(supremacy_circuit.all_qubits())\n",
        "  initial_state_vector = np.array([0]*2**s, dtype=np.complex64)\n",
        "  initial_state_vector[0] = 1\n",
        "  time_result = []\n",
        "  for p in range(10):\n",
        "    start_time = time.time()\n",
        "    simulator = qsimcirq.QSimSimulator()\n",
        "    results = simulator.simulate(supremacy_circuit, initial_state = initial_state_vector, qubit_order = qubits)\n",
        "    time_result.append(time.time() - start_time)\n",
        "  time_result = np.array(time_result)\n",
        "  return circuit, results, np.mean(time_result)"
      ],
      "execution_count": 16,
      "outputs": []
    },
    {
      "cell_type": "code",
      "metadata": {
        "id": "k0J63Kfi-Z5S",
        "colab": {
          "base_uri": "https://localhost:8080/"
        },
        "outputId": "238bded8-a801-4cd0-e489-7a00076f4eaa"
      },
      "source": [
        "time_results_qsim = []\n",
        "for n in range(2,6):\n",
        "  circuit, result, x = experiment2(n=n, m=n, cz_depth=2*n, seed=2)\n",
        "  time_results_qsim.append(x)\n",
        "\n",
        "c, r, mt = experiment2(n=4, m=7, cz_depth=2*n, seed=2)\n",
        "time_results_qsim.append(mt)\n",
        "time_results_qsim"
      ],
      "execution_count": null,
      "outputs": [
        {
          "output_type": "execute_result",
          "data": {
            "text/plain": [
              "[0.0031584739685058595,\n",
              " 0.0022501230239868166,\n",
              " 0.005138659477233886,\n",
              " 0.9665431261062623,\n",
              " 8.048966884613037]"
            ]
          },
          "metadata": {
            "tags": []
          },
          "execution_count": 14
        }
      ]
    },
    {
      "cell_type": "code",
      "metadata": {
        "id": "4tKIz4Nc-lbd",
        "colab": {
          "base_uri": "https://localhost:8080/"
        },
        "outputId": "aca89f94-f240-4188-8a19-78756dc4a9aa"
      },
      "source": [
        "import numpy as np\n",
        "from itertools import product\n",
        "from random import sample\n",
        "time_results = []\n",
        "c, r, mt = experiment2(n=2, m=2, cz_depth=4, seed=2, qubits_to_be_ignored=[])\n",
        "\n",
        "time_results.append(mt)\n",
        "\n",
        "for n in range(3,6):\n",
        "  list_of_indices = list(product(range(n),repeat=2))\n",
        "  for i in range(2*n-2, -1,-1):\n",
        "    qubits_to_be_ignored = [cirq.GridQubit(x[0], x[1]) for x in sample(list_of_indices, i)]\n",
        "    circuit, result, x = experiment2(n=n, m=n, cz_depth=2*n,seed=2, qubits_to_be_ignored=qubits_to_be_ignored)\n",
        "  # circuit, result, x = experiment1(n=n, m=n, cz_depth=2*n,seed=2)\n",
        "    time_results.append(x)\n",
        "\n",
        "c, r, mt = experiment2(n=7, m=4, cz_depth=14, seed=1, qubits_to_be_ignored=[cirq.GridQubit(0,0), cirq.GridQubit(0,1)])\n",
        "\n",
        "time_results.append(mt)\n",
        "\n",
        "c, r, mt = experiment2(n=7, m=4, cz_depth=14, seed=1, qubits_to_be_ignored=[cirq.GridQubit(0,0)])\n",
        "\n",
        "time_results.append(mt)\n",
        "time_results"
      ],
      "execution_count": 12,
      "outputs": [
        {
          "output_type": "execute_result",
          "data": {
            "text/plain": [
              "[0.0036581993103027345,\n",
              " 0.001595783233642578,\n",
              " 0.0019182443618774414,\n",
              " 0.00233311653137207,\n",
              " 0.0025788545608520508,\n",
              " 0.0027222633361816406,\n",
              " 0.002931499481201172,\n",
              " 0.0032016992568969726,\n",
              " 0.00416877269744873,\n",
              " 0.003957128524780274,\n",
              " 0.004674053192138672,\n",
              " 0.005312824249267578,\n",
              " 0.007239437103271485,\n",
              " 0.009012174606323243,\n",
              " 0.012385129928588867,\n",
              " 0.02064509391784668,\n",
              " 0.04414701461791992,\n",
              " 0.10217959880828857,\n",
              " 0.2147991418838501,\n",
              " 0.46319141387939455,\n",
              " 1.031615924835205,\n",
              " 2.1322256326675415,\n",
              " 5.9295084238052365,\n",
              " 12.252466011047364]"
            ]
          },
          "metadata": {
            "tags": []
          },
          "execution_count": 12
        }
      ]
    },
    {
      "cell_type": "code",
      "metadata": {
        "id": "pPmVb18WVc8K"
      },
      "source": [
        "import cirq\n",
        "import mathematics.multiplier as mt\n",
        "import numpy as np\n",
        "import time\n",
        "\n",
        "def multiplier_experiment2(n, qubits_to_be_ignored=[]):\n",
        "\n",
        "    # A and B are the numbers to be multiplied\n",
        "    A = [cirq.NamedQubit('a' + str(i)) for i in range(n)]\n",
        "    B = [cirq.NamedQubit('b' + str(i)) for i in range(n)]\n",
        "\n",
        "    # instanciate the multiplier class and invoke the multiply method\n",
        "    # the result is the corresponding circuit\n",
        "    circuit = mt.multiplier(A, B).multiply()\n",
        "    final_circuit = cirq.Circuit()\n",
        "    for moment in circuit:\n",
        "      for operation in moment:\n",
        "        if not set(qubits_to_be_ignored) & set(operation.qubits):\n",
        "          final_circuit.append(operation)\n",
        "    \n",
        "    \n",
        "    simulator = qsimcirq.QSimSimulator()\n",
        "\n",
        "    # sort the qubits in a way such that B has the most significant bits then A then P\n",
        "    \n",
        "    qubits = sorted(list(final_circuit.all_qubits()))[::-1]\n",
        "\n",
        "    s = len(qubits)\n",
        "    print(s)\n",
        "    intial_state = [0] * 2 ** (len(qubits))\n",
        "\n",
        "    intial_state[0] = 1\n",
        "    intial_state = np.array(intial_state, dtype=np.complex64)\n",
        "    start_time = time.time()\n",
        "    result = simulator.simulate(final_circuit, qubit_order=qubits, initial_state=intial_state)\n",
        "    time_result = time.time()-start_time\n",
        "\n",
        "    # \"\"\"Now consider B and A as a concatinated bitstring with B having the most significant bits\n",
        "    #     Afterwards add 2n+1 bits of 0 which represents P0, P1...P2n\n",
        "    # \"\"\"\n",
        "\n",
        "    # \"\"\"the list of all possible integers is exactly the range(2^(2n)) but we need to shift it \n",
        "    #     in order to initialize the qubits of P to 0\n",
        "    # \"\"\"\n",
        "    # shift = 2 ** n - 1\n",
        "    # # list_of_possible_integers = [i << shift for i in range(2 ** (2 * n))]\n",
        "    # list_of_possible_integers = [2 ** (2 * n)-2]\n",
        "    # # print(list_of_possible_integers)\n",
        "    # for i in list_of_possible_integers:\n",
        "    #     intial_state[i] = 1\n",
        "    #     # state[1920]=1\n",
        "    #     intial_state = np.array(intial_state, dtype=np.complex64)\n",
        "    #     start_time = time.time()\n",
        "    #     result = simulator.simulate(circuit, qubit_order=qubits, initial_state=intial_state)\n",
        "    #     time_result = time.time()-start_time\n",
        "    #     BA = i >> shift\n",
        "    #     B_times_A = BA % (2 ** 3) * (BA >> n)\n",
        "    #     # assert (np.where(result.final_state == 1)[0][0] == i + B_times_A)\n",
        "    #     intial_state[i] = 0\n",
        "    return time_result"
      ],
      "execution_count": 19,
      "outputs": []
    },
    {
      "cell_type": "code",
      "metadata": {
        "colab": {
          "base_uri": "https://localhost:8080/"
        },
        "id": "DCMt9_IfbGVV",
        "outputId": "9db9f4ad-a465-409b-b97a-9aa8467e6978"
      },
      "source": [
        "import numpy as np\n",
        "\n",
        "time_results = []\n",
        "time_results.append(multiplier_experiment2(3, qubits_to_be_ignored=[]))\n",
        "for n in range(4,8):\n",
        "  # list_of_indices = list(product(range(n),repeat=2))\n",
        "  if n == 7:\n",
        "    for i in range(3,1,-1):\n",
        "      qubits_to_be_ignored = [cirq.NamedQubit(\"P\"+str(j)) for j in range(i)]\n",
        "      time_results.append(multiplier_experiment2(n, qubits_to_be_ignored=qubits_to_be_ignored))\n",
        "  else:\n",
        "    for i in range(3,-1,-1):\n",
        "      qubits_to_be_ignored = [cirq.NamedQubit(\"P\"+str(j)) for j in range(i)]\n",
        "      time_results.append(multiplier_experiment2(n, qubits_to_be_ignored=qubits_to_be_ignored))\n",
        "time_results"
      ],
      "execution_count": 20,
      "outputs": [
        {
          "output_type": "stream",
          "text": [
            "13\n",
            "14\n",
            "15\n",
            "16\n",
            "17\n",
            "18\n",
            "19\n",
            "20\n",
            "21\n",
            "22\n",
            "23\n",
            "24\n",
            "25\n",
            "26\n",
            "27\n"
          ],
          "name": "stdout"
        },
        {
          "output_type": "execute_result",
          "data": {
            "text/plain": [
              "[0.0043315887451171875,\n",
              " 0.008138418197631836,\n",
              " 0.00918126106262207,\n",
              " 0.022190570831298828,\n",
              " 0.020337343215942383,\n",
              " 0.0599520206451416,\n",
              " 0.0978083610534668,\n",
              " 0.2455437183380127,\n",
              " 0.5239322185516357,\n",
              " 1.3616175651550293,\n",
              " 2.809159994125366,\n",
              " 5.8240745067596436,\n",
              " 11.742754459381104,\n",
              " 28.574852466583252,\n",
              " 58.392494916915894]"
            ]
          },
          "metadata": {
            "tags": []
          },
          "execution_count": 20
        }
      ]
    },
    {
      "cell_type": "code",
      "metadata": {
        "id": "nDfvI0wSbJAo"
      },
      "source": [
        ""
      ],
      "execution_count": null,
      "outputs": []
    }
  ]
}