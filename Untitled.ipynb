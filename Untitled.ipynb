{
 "cells": [
  {
   "cell_type": "code",
   "execution_count": 1,
   "id": "72c7e78f",
   "metadata": {},
   "outputs": [],
   "source": [
    "import cirq"
   ]
  },
  {
   "cell_type": "code",
   "execution_count": null,
   "id": "aac2e3a9",
   "metadata": {},
   "outputs": [],
   "source": [
    "c_orig = cirq.testing.random_circuit(qubits=45, n_moments=350, op_density=0.4, random_state=0)\n",
    "device = cirq.testing.construct_grid_device(7, 7)\n",
    "router = cirq.RouteCQC(device)\n",
    "\n",
    "%prun c_routed = router(c_orig)"
   ]
  },
  {
   "cell_type": "code",
   "execution_count": 2,
   "id": "d63e3218",
   "metadata": {},
   "outputs": [
    {
     "data": {
      "text/plain": [
       "<module 'cirq' from '/home/ammareltigani/Cirq/cirq-core/cirq/__init__.py'>"
      ]
     },
     "execution_count": 2,
     "metadata": {},
     "output_type": "execute_result"
    }
   ],
   "source": [
    "cirq"
   ]
  }
 ],
 "metadata": {
  "kernelspec": {
   "display_name": "Python 3",
   "language": "python",
   "name": "python3"
  },
  "language_info": {
   "codemirror_mode": {
    "name": "ipython",
    "version": 3
   },
   "file_extension": ".py",
   "mimetype": "text/x-python",
   "name": "python",
   "nbconvert_exporter": "python",
   "pygments_lexer": "ipython3",
   "version": "3.7.3"
  }
 },
 "nbformat": 4,
 "nbformat_minor": 5
}
