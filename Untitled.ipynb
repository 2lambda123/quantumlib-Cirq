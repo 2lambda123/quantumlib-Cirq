{
 "cells": [
  {
   "cell_type": "code",
   "execution_count": 1,
   "metadata": {},
   "outputs": [],
   "source": [
    "import cirq\n",
    "from cirq import ionq\n",
    "import datetime\n",
    "service = ionq.Service(remote_host='https://api.ionq.co', api_key='7du2Xhsk5CpvDlQnDiXO4h0pMnscyc0J', default_target='simulator')"
   ]
  },
  {
   "cell_type": "code",
   "execution_count": 2,
   "metadata": {},
   "outputs": [],
   "source": [
    "calibration = service.get_current_calibration()"
   ]
  },
  {
   "cell_type": "code",
   "execution_count": 3,
   "metadata": {},
   "outputs": [
    {
     "name": "stdout",
     "output_type": "stream",
     "text": [
      "11\n",
      "ionq.qpu\n",
      "2020-08-07 05:47:22.330000-07:00\n",
      "{'1q': {'mean': 0.99717}, '2q': {'mean': 0.9696}, 'spam': {'mean': 0.9961}}\n",
      "{'t1': 10000, 't2': 0.2, '1q': 1.1e-05, '2q': 0.00021, 'readout': 0.000175, 'reset': 3.5e-05}\n",
      "((0, 1), (0, 2), (0, 3), (0, 4), (0, 5), (0, 6), (0, 7), (0, 8), (0, 9), (0, 10), (1, 2), (1, 3), (1, 4), (1, 5), (1, 6), (1, 7), (1, 8), (1, 9), (1, 10), (2, 3), (2, 4), (2, 5), (2, 6), (2, 7), (2, 8), (2, 9), (2, 10), (3, 4), (3, 5), (3, 6), (3, 7), (3, 8), (3, 9), (3, 10), (4, 5), (4, 6), (4, 7), (4, 8), (4, 9), (4, 10), (5, 6), (5, 7), (5, 8), (5, 9), (5, 10), (6, 7), (6, 8), (6, 9), (6, 10), (7, 8), (7, 9), (7, 10), (8, 9), (8, 10), (9, 10))\n"
     ]
    }
   ],
   "source": [
    "print(calibration.num_qubits())\n",
    "print(calibration.target())\n",
    "print(calibration.calibration_time(tz=None))\n",
    "print(calibration.fidelities())\n",
    "print(calibration.timings())\n",
    "print(calibration.connectivity())"
   ]
  },
  {
   "cell_type": "code",
   "execution_count": 4,
   "metadata": {},
   "outputs": [
    {
     "data": {
      "text/plain": [
       "int"
      ]
     },
     "execution_count": 4,
     "metadata": {},
     "output_type": "execute_result"
    }
   ],
   "source": [
    "type(calibration.connectivity()[0][0])"
   ]
  },
  {
   "cell_type": "code",
   "execution_count": 5,
   "metadata": {},
   "outputs": [
    {
     "data": {
      "text/plain": [
       "{'connectivity': [[0, 1],\n",
       "  [0, 2],\n",
       "  [0, 3],\n",
       "  [0, 4],\n",
       "  [0, 5],\n",
       "  [0, 6],\n",
       "  [0, 7],\n",
       "  [0, 8],\n",
       "  [0, 9],\n",
       "  [0, 10],\n",
       "  [1, 2],\n",
       "  [1, 3],\n",
       "  [1, 4],\n",
       "  [1, 5],\n",
       "  [1, 6],\n",
       "  [1, 7],\n",
       "  [1, 8],\n",
       "  [1, 9],\n",
       "  [1, 10],\n",
       "  [2, 3],\n",
       "  [2, 4],\n",
       "  [2, 5],\n",
       "  [2, 6],\n",
       "  [2, 7],\n",
       "  [2, 8],\n",
       "  [2, 9],\n",
       "  [2, 10],\n",
       "  [3, 4],\n",
       "  [3, 5],\n",
       "  [3, 6],\n",
       "  [3, 7],\n",
       "  [3, 8],\n",
       "  [3, 9],\n",
       "  [3, 10],\n",
       "  [4, 5],\n",
       "  [4, 6],\n",
       "  [4, 7],\n",
       "  [4, 8],\n",
       "  [4, 9],\n",
       "  [4, 10],\n",
       "  [5, 6],\n",
       "  [5, 7],\n",
       "  [5, 8],\n",
       "  [5, 9],\n",
       "  [5, 10],\n",
       "  [6, 7],\n",
       "  [6, 8],\n",
       "  [6, 9],\n",
       "  [6, 10],\n",
       "  [7, 8],\n",
       "  [7, 9],\n",
       "  [7, 10],\n",
       "  [8, 9],\n",
       "  [8, 10],\n",
       "  [9, 10]],\n",
       " 'target': 'ionq.qpu',\n",
       " 'qubits': 11,\n",
       " 'fidelity': {'1q': {'mean': 0.99717},\n",
       "  '2q': {'mean': 0.9696},\n",
       "  'spam': {'mean': 0.9961}},\n",
       " 'timing': {'t1': 10000,\n",
       "  't2': 0.2,\n",
       "  '1q': 1.1e-05,\n",
       "  '2q': 0.00021,\n",
       "  'readout': 0.000175,\n",
       "  'reset': 3.5e-05},\n",
       " 'date': '2020-08-07T12:47:22.337Z',\n",
       " 'id': '83b977f8-fc5c-427e-9e5d-cb39a6f62aa0'}"
      ]
     },
     "execution_count": 5,
     "metadata": {},
     "output_type": "execute_result"
    }
   ],
   "source": [
    "calibration._calibration_dict"
   ]
  },
  {
   "cell_type": "code",
   "execution_count": null,
   "metadata": {},
   "outputs": [],
   "source": []
  }
 ],
 "metadata": {
  "kernelspec": {
   "display_name": "Python 3",
   "language": "python",
   "name": "python3"
  },
  "language_info": {
   "codemirror_mode": {
    "name": "ipython",
    "version": 3
   },
   "file_extension": ".py",
   "mimetype": "text/x-python",
   "name": "python",
   "nbconvert_exporter": "python",
   "pygments_lexer": "ipython3",
   "version": "3.8.5"
  }
 },
 "nbformat": 4,
 "nbformat_minor": 4
}
