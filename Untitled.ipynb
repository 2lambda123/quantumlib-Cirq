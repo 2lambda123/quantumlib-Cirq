{
 "cells": [
  {
   "cell_type": "code",
   "execution_count": 1,
   "id": "f65b1df7",
   "metadata": {},
   "outputs": [],
   "source": [
    "%load_ext snakeviz"
   ]
  },
  {
   "cell_type": "code",
   "execution_count": 2,
   "id": "22a8cde7",
   "metadata": {},
   "outputs": [],
   "source": [
    "import cirq"
   ]
  },
  {
   "cell_type": "code",
   "execution_count": 3,
   "id": "9ee7ec61",
   "metadata": {},
   "outputs": [
    {
     "name": "stdout",
     "output_type": "stream",
     "text": [
      " \n",
      "*** Profile stats marshalled to file '/tmp/tmp_essdzyf'. \n",
      "Embedding SnakeViz in this document...\n"
     ]
    },
    {
     "data": {
      "text/html": [
       "\n",
       "<iframe id='snakeviz-99410998-c6b5-11ec-81af-8d156c0dbe1e' frameborder=0 seamless width='100%' height='1000'></iframe>\n",
       "<script>document.getElementById(\"snakeviz-99410998-c6b5-11ec-81af-8d156c0dbe1e\").setAttribute(\"src\", \"http://\" + document.location.hostname + \":8080/snakeviz/%2Ftmp%2Ftmp_essdzyf\")</script>\n"
      ],
      "text/plain": [
       "<IPython.core.display.HTML object>"
      ]
     },
     "metadata": {},
     "output_type": "display_data"
    }
   ],
   "source": [
    "%%snakeviz\n",
    "circuit = cirq.Circuit()\n",
    "qubits = cirq.LineQubit.range(100)\n",
    "for d in range(1000):\n",
    "    for q in range(100):\n",
    "        circuit.append(cirq.X(qubits[q]))\n"
   ]
  },
  {
   "cell_type": "code",
   "execution_count": 4,
   "id": "92e5b794",
   "metadata": {},
   "outputs": [
    {
     "name": "stdout",
     "output_type": "stream",
     "text": [
      " \n",
      "*** Profile stats marshalled to file '/tmp/tmpqgq0jq_e'. \n",
      "Embedding SnakeViz in this document...\n"
     ]
    },
    {
     "data": {
      "text/html": [
       "\n",
       "<iframe id='snakeviz-a022576c-c6b5-11ec-81af-8d156c0dbe1e' frameborder=0 seamless width='100%' height='1000'></iframe>\n",
       "<script>document.getElementById(\"snakeviz-a022576c-c6b5-11ec-81af-8d156c0dbe1e\").setAttribute(\"src\", \"http://\" + document.location.hostname + \":8080/snakeviz/%2Ftmp%2Ftmpqgq0jq_e\")</script>\n"
      ],
      "text/plain": [
       "<IPython.core.display.HTML object>"
      ]
     },
     "metadata": {},
     "output_type": "display_data"
    }
   ],
   "source": [
    "%%snakeviz\n",
    "circuit = cirq.Circuit()\n",
    "qubits = cirq.LineQubit.range(100)\n",
    "for d in range(1000):\n",
    "    for q in range(100):\n",
    "        circuit.append(cirq.measure(qubits[q], key=f\"{d}_{q}\"))"
   ]
  },
  {
   "cell_type": "code",
   "execution_count": 5,
   "id": "c821dc17",
   "metadata": {},
   "outputs": [
    {
     "name": "stdout",
     "output_type": "stream",
     "text": [
      " \n",
      "*** Profile stats marshalled to file '/tmp/tmp6p3tdcwq'. \n",
      "Embedding SnakeViz in this document...\n"
     ]
    },
    {
     "data": {
      "text/html": [
       "\n",
       "<iframe id='snakeviz-ba8947fa-c6b5-11ec-81af-8d156c0dbe1e' frameborder=0 seamless width='100%' height='1000'></iframe>\n",
       "<script>document.getElementById(\"snakeviz-ba8947fa-c6b5-11ec-81af-8d156c0dbe1e\").setAttribute(\"src\", \"http://\" + document.location.hostname + \":8080/snakeviz/%2Ftmp%2Ftmp6p3tdcwq\")</script>\n"
      ],
      "text/plain": [
       "<IPython.core.display.HTML object>"
      ]
     },
     "metadata": {},
     "output_type": "display_data"
    }
   ],
   "source": [
    "%%snakeviz\n",
    "circuit = cirq.Circuit()\n",
    "qubits = cirq.LineQubit.range(100)\n",
    "circuit.append(cirq.measure(qubits[0], key=\"x\"))\n",
    "for d in range(1000):\n",
    "    for q in range(100):\n",
    "        circuit.append(cirq.X(qubits[q]).with_classical_controls(\"x\"))"
   ]
  },
  {
   "cell_type": "code",
   "execution_count": 6,
   "id": "0ca5f7ed",
   "metadata": {},
   "outputs": [
    {
     "name": "stdout",
     "output_type": "stream",
     "text": [
      " \n",
      "*** Profile stats marshalled to file '/tmp/tmp12k9a0x_'. \n",
      "Embedding SnakeViz in this document...\n"
     ]
    },
    {
     "data": {
      "text/html": [
       "\n",
       "<iframe id='snakeviz-e41347c4-c6b5-11ec-81af-8d156c0dbe1e' frameborder=0 seamless width='100%' height='1000'></iframe>\n",
       "<script>document.getElementById(\"snakeviz-e41347c4-c6b5-11ec-81af-8d156c0dbe1e\").setAttribute(\"src\", \"http://\" + document.location.hostname + \":8080/snakeviz/%2Ftmp%2Ftmp12k9a0x_\")</script>\n"
      ],
      "text/plain": [
       "<IPython.core.display.HTML object>"
      ]
     },
     "metadata": {},
     "output_type": "display_data"
    }
   ],
   "source": [
    "%%snakeviz\n",
    "circuit = cirq.Circuit()\n",
    "qubits = cirq.LineQubit.range(100)\n",
    "circuit.append(cirq.measure(qubits[0], key=\"x\"))\n",
    "for d in range(1000):\n",
    "    circuit.append([cirq.X(q) for q in qubits])"
   ]
  },
  {
   "cell_type": "code",
   "execution_count": 7,
   "id": "73a70724",
   "metadata": {},
   "outputs": [
    {
     "name": "stdout",
     "output_type": "stream",
     "text": [
      " \n",
      "*** Profile stats marshalled to file '/tmp/tmpekprnbcy'. \n",
      "Embedding SnakeViz in this document...\n"
     ]
    },
    {
     "data": {
      "text/html": [
       "\n",
       "<iframe id='snakeviz-f262cdb8-c6b5-11ec-81af-8d156c0dbe1e' frameborder=0 seamless width='100%' height='1000'></iframe>\n",
       "<script>document.getElementById(\"snakeviz-f262cdb8-c6b5-11ec-81af-8d156c0dbe1e\").setAttribute(\"src\", \"http://\" + document.location.hostname + \":8080/snakeviz/%2Ftmp%2Ftmpekprnbcy\")</script>\n"
      ],
      "text/plain": [
       "<IPython.core.display.HTML object>"
      ]
     },
     "metadata": {},
     "output_type": "display_data"
    }
   ],
   "source": [
    "%%snakeviz\n",
    "circuit = cirq.Circuit()\n",
    "qubits = cirq.LineQubit.range(100)\n",
    "for d in range(1000):\n",
    "    circuit.append([cirq.measure(qubits[q], key=f\"{d}_{q}\") for q in range(100)])"
   ]
  },
  {
   "cell_type": "code",
   "execution_count": 9,
   "id": "46b59635",
   "metadata": {},
   "outputs": [
    {
     "name": "stdout",
     "output_type": "stream",
     "text": [
      " \n",
      "*** Profile stats marshalled to file '/tmp/tmpv4nysam9'. \n",
      "Embedding SnakeViz in this document...\n"
     ]
    },
    {
     "data": {
      "text/html": [
       "\n",
       "<iframe id='snakeviz-51bd59ae-c6b6-11ec-81af-8d156c0dbe1e' frameborder=0 seamless width='100%' height='1000'></iframe>\n",
       "<script>document.getElementById(\"snakeviz-51bd59ae-c6b6-11ec-81af-8d156c0dbe1e\").setAttribute(\"src\", \"http://\" + document.location.hostname + \":8080/snakeviz/%2Ftmp%2Ftmpv4nysam9\")</script>\n"
      ],
      "text/plain": [
       "<IPython.core.display.HTML object>"
      ]
     },
     "metadata": {},
     "output_type": "display_data"
    }
   ],
   "source": [
    "%%snakeviz\n",
    "circuit = cirq.Circuit()\n",
    "qubits = cirq.LineQubit.range(100)\n",
    "circuit.append(cirq.measure(qubits[0], key=\"x\"))\n",
    "for d in range(1000):\n",
    "    circuit.append([cirq.X(q).with_classical_controls(\"x\") for q in qubits])"
   ]
  },
  {
   "cell_type": "code",
   "execution_count": null,
   "id": "b3866ae4",
   "metadata": {},
   "outputs": [],
   "source": []
  }
 ],
 "metadata": {
  "kernelspec": {
   "display_name": "Python 3",
   "language": "python",
   "name": "python3"
  },
  "language_info": {
   "codemirror_mode": {
    "name": "ipython",
    "version": 3
   },
   "file_extension": ".py",
   "mimetype": "text/x-python",
   "name": "python",
   "nbconvert_exporter": "python",
   "pygments_lexer": "ipython3",
   "version": "3.9.10"
  }
 },
 "nbformat": 4,
 "nbformat_minor": 5
}
