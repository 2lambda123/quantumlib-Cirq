{
 "cells": [
  {
   "attachments": {},
   "cell_type": "markdown",
   "id": "535a94b4",
   "metadata": {
    "cq.autogen": "title_cell"
   },
   "source": [
    "Gates for qubitizing the second quantized chemistry Hamiltonian in the plane-wave dual basis.\n",
    "\n",
    "This follows section V. of the [Linear T Paper](https://arxiv.org/abs/1805.03662).\n",
    "\n",
    "Here we implement SelectChem (Fig. 14.), SubPrepareChem (Fig. 15) and\n",
    "PrepareChem (Fig. 16), which are specializations of the ab-initio Hamiltonian\n",
    "for the case of a plane wave (dual) basis.\n",
    "\n",
    "Under the Jordan-Wigner transformation the Hamiltonian is given by\n",
    "\n",
    "$$\n",
    "\\def\\Zvec{\\overrightarrow{Z}}\n",
    "\\def\\hop#1{#1_{p,\\sigma} \\Zvec #1_{q,\\sigma}}\n",
    "H = \\sum_{p\\ne q} \\frac{T(p-q)}{2}(\\hop{X}+\\hop{Y})\n",
    "+ \\sum_{(p\\alpha)\\ne (q\\beta)} \\frac{V(p-q)}{4} Z_{p\\alpha}Z_{q\\beta}\n",
    "- \\sum_{p\\sigma} \\frac{T(0) + U(p) + \\sum_q V(p-q)}{2} Z_{p\\sigma}\n",
    "+ \\sum_{p}\\left(T(0) + U(p) + \\sum_q \\frac{V(p-q)}{2}\\right)\\mathbb{1},\n",
    "$$\n",
    "\n",
    "Note that in the above expression $p$ is really a three-dimensional vector of\n",
    "integers with each component $p_i \\in [0, M-1]$ where $M$ is the\n",
    "related to the real-space grid resolution and is expected as input by the user.\n",
    "In total there are $N=2M^3$ spin-orbitals.  In what follows we often label\n",
    "registers with a single label $(e.g. |p\\rangle)$, but this should be understood\n",
    "to mean $|\\vec{p}\\rangle = |p_x\\rangle|p_y\\rangle|p_z\\rangle$ with each register\n",
    "of size $\\log M$.  This model can be constructed using the functions provided in\n",
    "`openfermion.hamiltonians.plane_wave_hamiltonian`.\n",
    "\n",
    "\n",
    "This model consists of a PREPARE and SELECT operation where our selection operation has indices\n",
    "for $p$, $\\alpha$, $q$, and $\\beta$ as well as two indicator bits $U$ and $V$. There are four cases\n",
    "considered in both the PREPARE and SELECT operations corresponding to the terms in the Hamiltonian:\n",
    "\n",
    " - $U = 1, V = 0$ and $(p\\alpha) = (q\\beta)$, single-body $Z$\n",
    " - $U = 0, V=1$, $(p\\alpha) \\ne (q\\beta)$, spin-spin $ZZ$ term\n",
    " - $U = 0, V = 0, p < q \\wedge (\\alpha = \\beta)$, $XZX$ term\n",
    " - $U = 0, V = 0, p > q \\wedge (\\alpha = \\beta)$, $YZY$ term\n",
    "\n",
    "See the documentation for `PreparePWDual` and `SelectPWDual` for more details."
   ]
  },
  {
   "cell_type": "code",
   "execution_count": null,
   "id": "eb3e6636",
   "metadata": {
    "cq.autogen": "top_imports"
   },
   "outputs": [],
   "source": [
    "import numpy as np\n",
    "import cirq_ft.infra.testing as cf_testing\n",
    "from cirq_ft.infra.t_complexity_protocol import t_complexity\n",
    "from cirq_ft.infra.jupyter_tools import display_gate_and_compilation\n",
    "from typing import *\n",
    "import matplotlib.pyplot as plt"
   ]
  },
  {
   "attachments": {},
   "cell_type": "markdown",
   "id": "3c5312f2",
   "metadata": {
    "cq.autogen": "_make_SelectChem.md"
   },
   "source": [
    "# SelectPWDual\n",
    "\n",
    "The SELECT operation optimized for the plane wave dual basis Hamiltonian\n",
    "\n",
    "#### Args:\n",
    "- `num_spin_orb`: the number of spin-orbitals.\n",
    "- `control_val`: Optional bit specifying the control value for constructing a controlled\n",
    "        version of this gate. Defaults to None, which means no control.\n",
    "\n",
    "#### Registers:\n",
    "- `control`: A control bit for the entire gate.\n",
    "- `theta`: Whether to apply a negative phase.\n",
    "- `UV`: Flag to apply parts of Hamiltonian. See module docstring.\n",
    "- `p`: Spatial orbital index.\n",
    "- `alpha`: Spin index for orbital p.\n",
    "- `q`: Spatial orbital index.\n",
    "- `beta`: Spin index for orbital q.\n",
    "- `target`: The system register to apply the select operation.\n",
    "\n",
    "#### References:\n",
    "- Section V. Eq. 44 and Fig. 14 of https://arxiv.org/abs/1805.03662."
   ]
  },
  {
   "cell_type": "code",
   "execution_count": null,
   "id": "39b21dc7",
   "metadata": {
    "cq.autogen": "_make_SelectChem.py"
   },
   "outputs": [],
   "source": [
    "from cirq_ft.algos.chemistry import SelectPWDual\n",
    "\n",
    "g = cf_testing.GateHelper(\n",
    "    SelectPWDual(2, 1)\n",
    ")\n",
    "\n",
    "display_gate_and_compilation(g)"
   ]
  },
  {
   "attachments": {},
   "cell_type": "markdown",
   "id": "e4b6fcab",
   "metadata": {},
   "source": [
    "### Complexity\n",
    "\n",
    "According to Fig. 14 of the Linear T paper the Select gate should have complexity scaling like $12 N + O(\\log N)$. Let's check that this is the case."
   ]
  },
  {
   "cell_type": "code",
   "execution_count": null,
   "id": "8b8ae0ca",
   "metadata": {},
   "outputs": [],
   "source": [
    "# First define some utility fitting functions which will be used elsewhere in the notebook\n",
    "from numpy.typing import NDArray\n",
    "import scipy.optimize\n",
    "\n",
    "def linear(x: NDArray, a: float, b: float) -> NDArray:\n",
    "    return a*x + b\n",
    "\n",
    "def fit_linear(x: NDArray, y: NDArray, p0=None) -> Tuple[float, float]:\n",
    "    popt, _ = scipy.optimize.curve_fit(linear, x, y, p0=p0)\n",
    "    return popt \n"
   ]
  },
  {
   "cell_type": "code",
   "execution_count": null,
   "id": "24cdd8fa",
   "metadata": {},
   "outputs": [],
   "source": [
    "t_comp = []\n",
    "M_values = np.arange(4, 12, 2)\n",
    "N_values = 2 * M_values**3 # spin orbitals\n",
    "\n",
    "for M  in M_values:\n",
    "    num_spatial = M**3\n",
    "    Us, Ts, Vs, Vxs = np.random.normal(size=4 * num_spatial).reshape((4, num_spatial))\n",
    "    sp = SelectPWDual(int(M), 1)\n",
    "    t_comp.append(t_complexity(sp).t)\n",
    "\n",
    "plt.plot(N_values, t_comp, marker=\"o\", lw=0)\n",
    "a, b = fit_linear(N_values, t_comp)\n",
    "xs = [N_values[0], N_values[-1]]\n",
    "ys = [linear(xs[0], a, b), linear(xs[1], a, b)]\n",
    "plt.plot(xs, ys, ls=\":\", label=f\"y = {a:3.2f} $N$ + {b:3.2f}\")\n",
    "plt.xlabel(\"$N$\")\n",
    "plt.legend()\n",
    "plt.ylabel(\"$T$ count\")"
   ]
  },
  {
   "attachments": {},
   "cell_type": "markdown",
   "id": "5066fc84",
   "metadata": {},
   "source": [
    "Success!"
   ]
  },
  {
   "attachments": {},
   "cell_type": "markdown",
   "id": "3d4045a5",
   "metadata": {
    "cq.autogen": "_make_SubPrepareChem.md"
   },
   "source": [
    "## `SubPrepareChem`\n",
    "Sub-prepare circuit for the plane wave dual Hamiltonian.\n",
    "\n",
    "This circuit acts on a state like:\n",
    "\n",
    "$$\n",
    "    \\mathrm{SUBPREPARE}|0\\rangle^{\\otimes{2 + \\log N}} \\rightarrow\n",
    "    \\sum_d^{N-1}\\left(\\tilde{U}(d)|\\theta_d\\rangle|1\\rangle_U|0\\rangle_V\n",
    "    +\\tilde{T}(d)|\\theta_d^{(0)}\\rangle|0\\rangle_U|0\\rangle_V\n",
    "    +\\tilde{V}(d)|\\theta_d^{(1)}\\rangle|0\\rangle_U|1\\rangle_V\n",
    "    \\right)|d\\rangle\n",
    "$$\n",
    "\n",
    "where\n",
    "\n",
    "$$\n",
    "    \\tilde{U}(p) = \\sqrt{\\frac{Q(p)}{2\\lambda}}\\\\\n",
    "    \\tilde{T}(p) = \\sqrt{\\frac{T(p)}{\\lambda}}\\\\\n",
    "    \\tilde{V}(p) = \\sqrt{\\frac{V(p)}{4\\lambda}}\\\\\n",
    "    \\theta_p = \\frac{1-\\mathrm{sign}(-Q(p))}{2}\\\\\n",
    "    \\theta_p^{(0)} = \\frac{1-\\mathrm{sign}(T(p))}{2}\\\\\n",
    "    \\theta_p^{(1)} = \\frac{1-\\mathrm{sign}(V(p))}{2}\\\\\n",
    "$$\n",
    "and\n",
    "$$\n",
    "    Q(p) = |T(0)+U(p)+V_x(p)|\\\\\n",
    "    V_x(p) = \\sum_q V(p-q)\n",
    "$$\n",
    "\n",
    "#### Parameters\n",
    " - `num_spin_orbs`: number of spin orbitals (typically called N in literature.)\n",
    " - `theta`: numpy array of theta values of shape [3, M, M, M]\n",
    " - `altUV`: numpy array of alternate U values of shape [3, M, M, M]\n",
    " - `altpxyz`: numpy array of alternate indices p = (px,py,pz) values of shape [3, M, M, M]\n",
    " - `keep`: numpy array of keep values of shape [3, M, M, M]\n",
    " - `mu`: Exponent to divide the items in keep by in order to obtain a\n",
    " - `probability. See `preprocess_lcu_coefficients_for_reversible_alias_sampling`.`:  \n",
    "\n",
    "Registers:\n",
    "    theta: Whether to apply a negative phase.\n",
    "    U: Flag to apply parts of Hamiltonian. See module docstring.\n",
    "    V: Flag to apply parts of Hamiltonian. See module docstring.\n",
    "    p: (vector) Spatial orbital index, p = (px, py, pz)\n",
    "\n",
    "#### References\n",
    "Section V. and Fig. 14 of https://arxiv.org/abs/1805.03662. \n",
    "\n",
    "#### References\n",
    "[Encoding Electronic Spectra in Quantum Circuits with Linear T Complexity](https://arxiv.org/abs/1805.03662). Babbush et. al. (2018). Section III.D. and Figure 15. Note there is an error in the circuit diagram in the paper (there should be no data: $\\theta_{alt_l}$ gate in the QROM load.)\n"
   ]
  },
  {
   "cell_type": "code",
   "execution_count": null,
   "id": "ce87d0e1",
   "metadata": {
    "cq.autogen": "_make_SubPrepareChem.py"
   },
   "outputs": [],
   "source": [
    "from cirq_ft.algos.chemistry import SubPreparePWDual\n",
    "\n",
    "M = 2\n",
    "num_spatial = M**3\n",
    "Us, Ts, Vs, Vxs = np.random.normal(size=4 * num_spatial).reshape((4, num_spatial))\n",
    "sp = SubPreparePWDual.build_from_coefficients(Ts, Us, Vs, Vxs, probability_epsilon=0.01)\n",
    "g = cf_testing.GateHelper(\n",
    "    sp\n",
    ")\n",
    "\n",
    "display_gate_and_compilation(g)"
   ]
  },
  {
   "attachments": {},
   "cell_type": "markdown",
   "id": "422746f5",
   "metadata": {},
   "source": [
    "### Complexity Check\n",
    "\n",
    "According to Fig. 15 of the Linear T paper, the SubPrepare circuit (our SubPreparePWDual) should have complexity that scales like $6N + O(\\mu + \\log N)$. Let's check this is the case."
   ]
  },
  {
   "cell_type": "code",
   "execution_count": null,
   "id": "604e649b",
   "metadata": {},
   "outputs": [],
   "source": [
    "from cirq_ft.infra.t_complexity_protocol import t_complexity\n",
    "import matplotlib.pyplot as plt\n",
    "t_comp = []\n",
    "M_values = np.arange(4, 12, 2)\n",
    "N_values = 2 * M_values**3 # spin orbitals\n",
    "\n",
    "for M  in M_values:\n",
    "    num_spatial = M**3\n",
    "    Us, Ts, Vs, Vxs = np.random.normal(size=4 * num_spatial).reshape((4, num_spatial))\n",
    "    sp = SubPreparePWDual.build_from_coefficients(Ts, Us, Vs, Vxs, probability_epsilon=1e-16)\n",
    "    t_comp.append(t_complexity(sp).t)\n",
    "\n",
    "plt.plot(N_values, t_comp, marker=\"o\", lw=0)\n",
    "a, b = fit_linear(N_values, t_comp)\n",
    "xs = [N_values[0], N_values[-1]]\n",
    "ys = [linear(xs[0], a, b), linear(xs[1], a, b)]\n",
    "plt.plot(xs, ys, ls=\":\", label=f\"y = {a:3.2f} $N$ + {b:3.2f}\")\n",
    "plt.xlabel(\"$N$\")\n",
    "plt.legend()\n",
    "plt.ylabel(\"$T$ count\")"
   ]
  },
  {
   "attachments": {},
   "cell_type": "markdown",
   "id": "33b1bc75",
   "metadata": {},
   "source": [
    "Success!"
   ]
  },
  {
   "attachments": {},
   "cell_type": "markdown",
   "id": "de5d4f9e",
   "metadata": {
    "cq.autogen": "_make_PrepareChem.md"
   },
   "source": [
    "## `PreparePWDual`\n",
    "Prepare circuit for the plane wave dual Hamiltonian.\n",
    "\n",
    "This circuit acts on a state like:\n",
    "\n",
    "$$\n",
    "    \\mathrm{PREPARE}|0\\rangle^{\\otimes{3 + 2log N}} \\rightarrow\n",
    "    \\sum_{p\\sigma} \\left(\n",
    "    \\tilde{U}(p)|\\theta_p|1\\rangle_U|0\\rangle_V|p\\alpha q\\beta\\rangle\n",
    "    +\\tilde{T}(p-q)|\\theta_{p-q}^{(0)}\\rangle|0\\rangle_U|0\\rangle_V |p\\alpha q\\beta\\rangle\n",
    "    +\\tilde{V}(p-q)|\\theta_{p-q}^{(1)}\\rangle|0\\rangle_U|1\\rangle_V |p\\alpha q\\beta\\rangle\n",
    "    \\right)\n",
    "$$\n",
    "\n",
    "See SubPrepareChem docstring for definitions of terms.\n",
    "\n",
    "#### Parameters\n",
    "- `M`: number of grid points in each dimension.\n",
    "- `T`: kinetic energy matrix elements of shape (M, M, M).\n",
    "- `U`: external potential matrix elements of shape (M, M, M).\n",
    "- `V`: electron-electron interaction matrix elements of shape (M, M, M).\n",
    "- `Vx`: \"Exchage potential\" matrix $\\sum_q V(p-q)$ of shape (M, M, M).\n",
    "- `probability_epsilon`: The epsilon that we use to set the precision of of the\n",
    "    subprepare approximation. This parameter is called mu in the linear T paper.\n",
    "\n",
    "### Registers:\n",
    "- `theta`: Whether to apply a negative phase.\n",
    "- `U`: Flag to apply parts of Hamiltonian. See module docstring.\n",
    "- `V`: Flag to apply parts of Hamiltonian. See module docstring.\n",
    "- `p`: Spatial orbital index.\n",
    "- `alpha`: Spin index for orbital p.\n",
    "- `q`: Spatial orbital index.\n",
    "- `beta`: Spin index for orbital q.\n",
    "\n",
    "#### References\n",
    "[Encoding Electronic Spectra in Quantum Circuits with Linear T Complexity](https://arxiv.org/abs/1805.03662). Babbush et. al. (2018). Section III.D. and Figure 15. Note there appears to be an error in the circuit diagram in the paper (there should be no data: $\\theta_{alt_l}$ gate in the QROM load. In addition the Indexed add $\\vec{q} \\mod M$ gate should just be a modular addition (no unary iteration).)\n"
   ]
  },
  {
   "cell_type": "code",
   "execution_count": null,
   "id": "3c4b381e",
   "metadata": {
    "cq.autogen": "_make_PrepareChem.py"
   },
   "outputs": [],
   "source": [
    "from cirq_ft.algos.chemistry import PreparePWDual\n",
    "\n",
    "M = 2\n",
    "num_spatial = M**3\n",
    "Us, Ts, Vs, Vxs = np.random.normal(size=4 * num_spatial).reshape((4, num_spatial))\n",
    "\n",
    "g = cf_testing.GateHelper(\n",
    "    PreparePWDual(M=M, T=Ts, U=Us, V=Vs, Vx=Vxs)\n",
    ")\n",
    "\n",
    "display_gate_and_compilation(g)"
   ]
  },
  {
   "attachments": {},
   "cell_type": "markdown",
   "id": "2394594a",
   "metadata": {},
   "source": [
    "### Complexity Check\n",
    "\n",
    "According to Fig. 16 of the Linear T paper, the Prepare circuit (our PreparePWDual) should have complexity that scales like $6N + O(\\mu + \\log N)$, and is dominated by the SupPreparePWDual block. Let's check that this is the case."
   ]
  },
  {
   "cell_type": "code",
   "execution_count": null,
   "id": "5a43aed8",
   "metadata": {},
   "outputs": [],
   "source": [
    "from cirq_ft.infra.t_complexity_protocol import t_complexity\n",
    "import matplotlib.pyplot as plt\n",
    "t_comp = []\n",
    "M_values = np.arange(4, 12)\n",
    "N_values = 2 * M_values**3 # spin orbitals\n",
    "\n",
    "for M  in M_values:\n",
    "    num_spatial = M**3\n",
    "    Us, Ts, Vs, Vxs = np.random.normal(size=4 * num_spatial).reshape((4, num_spatial))\n",
    "    sp = PreparePWDual(int(M), Ts, Us, Vs, Vxs, probability_epsilon=1e-8)\n",
    "    t_comp.append(t_complexity(sp).t)\n",
    "\n",
    "plt.plot(N_values, t_comp, marker=\"o\", lw=0)\n",
    "a, b = fit_linear(N_values, t_comp)\n",
    "xs = [N_values[0], N_values[-1]]\n",
    "ys = [linear(xs[0], a, b), linear(xs[1], a, b)]\n",
    "plt.plot(xs, ys, ls=\":\", label=f\"y = {a:3.2f} $N$ + {b:3.2f}\")\n",
    "plt.xlabel(\"$N$\")\n",
    "plt.legend()\n",
    "plt.ylabel(\"$T$ count\")"
   ]
  }
 ],
 "metadata": {
  "kernelspec": {
   "display_name": "Python 3",
   "language": "python",
   "name": "python3"
  },
  "language_info": {
   "codemirror_mode": {
    "name": "ipython",
    "version": 3
   },
   "file_extension": ".py",
   "mimetype": "text/x-python",
   "name": "python",
   "nbconvert_exporter": "python",
   "pygments_lexer": "ipython3",
   "version": "3.11.2"
  }
 },
 "nbformat": 4,
 "nbformat_minor": 5
}
