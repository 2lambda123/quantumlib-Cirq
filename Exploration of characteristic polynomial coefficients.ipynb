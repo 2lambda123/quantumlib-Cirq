{
 "cells": [
  {
   "cell_type": "code",
   "execution_count": 21,
   "metadata": {},
   "outputs": [],
   "source": [
    "import cirq\n",
    "import numpy as np \n",
    "import random\n"
   ]
  },
  {
   "cell_type": "code",
   "execution_count": 126,
   "metadata": {},
   "outputs": [],
   "source": [
    "def special(u):\n",
    "    return u / (np.linalg.det(u) ** (1 / len(u)))\n",
    "\n",
    "def g2(u):\n",
    "    yy = np.kron(cirq.Y._unitary_(), cirq.Y._unitary_())\n",
    "    return u @ yy @ u.T @ yy\n",
    "\n",
    "def g3(u):\n",
    "    xxx = np.kron(np.kron(cirq.X._unitary_(), cirq.X._unitary_()),cirq.X._unitary_())\n",
    "    return u @ xxx @ u.T @ xxx\n",
    "\n",
    "def randomCircuit(n_qubits: int, n_CNOTs: int):\n",
    "    qubits = cirq.LineQubit.range(n_qubits)\n",
    "    circuit = cirq.Circuit()\n",
    "\n",
    "    for q in qubits:\n",
    "        circuit.append(cirq.PhasedXPowGate(exponent=random.random(), phase_exponent=random.random()).on(q))\n",
    "\n",
    "    \n",
    "    for i in range(n_CNOTs):\n",
    "        # choose two qubits randomly \n",
    "        a = random.choice(qubits)\n",
    "        b = a \n",
    "        while b == a: \n",
    "            b = random.choice(qubits)\n",
    "        \n",
    "        circuit.append(cirq.PhasedXPowGate(exponent=random.random(), phase_exponent=random.random()).on(a))\n",
    "        circuit.append(cirq.PhasedXPowGate(exponent=random.random(), phase_exponent=random.random()).on(b))\n",
    "        circuit.append(cirq.CNOT(a,b))\n",
    "        circuit.append(cirq.PhasedXPowGate(exponent=random.random(), phase_exponent=random.random()).on(a))\n",
    "        circuit.append(cirq.PhasedXPowGate(exponent=random.random(), phase_exponent=random.random()).on(b))\n",
    "    return circuit "
   ]
  },
  {
   "cell_type": "code",
   "execution_count": 23,
   "metadata": {},
   "outputs": [
    {
     "name": "stdout",
     "output_type": "stream",
     "text": [
      "0 CNOTS, 2 qubits: 2 classes dict_keys([True]) realClasses\n",
      "1 CNOTS, 2 qubits: 1 classes dict_keys([True]) realClasses\n",
      "2 CNOTS, 2 qubits: 100 classes dict_keys([True]) realClasses\n",
      "3 CNOTS, 2 qubits: 100 classes dict_keys([False]) realClasses\n"
     ]
    }
   ],
   "source": [
    "n_qubits = 2 \n",
    "\n",
    "def isReal(poly): \n",
    "    return np.alltrue(np.isclose(0, np.imag(poly)))\n",
    "\n",
    "def classify(poly):     \n",
    "    return sum(poly)\n",
    "\n",
    "\n",
    "for n_cnots in range(4): \n",
    "    classes = {}\n",
    "    realClasses = {}\n",
    "    for j in range(100): \n",
    "        poly = np.round(np.poly(g2(special(randomCircuit(n_qubits,n_cnots)._unitary_()))),decimals=8)\n",
    "        p = classify(poly)\n",
    "        r = isReal(poly)\n",
    "        if not r in realClasses:\n",
    "            realClasses[r] = 1\n",
    "        else:\n",
    "            realClasses[r] = realClasses[r] + 1\n",
    "        if not p in classes:\n",
    "            classes[p] = 1\n",
    "        else:\n",
    "            classes[p] = classes[p] + 1\n",
    "    print(\"{} CNOTS, {} qubits: {} classes {} realClasses\".format(n_cnots, n_qubits, len(classes), realClasses.keys()))\n",
    "\n",
    "        "
   ]
  },
  {
   "cell_type": "code",
   "execution_count": 129,
   "metadata": {},
   "outputs": [
    {
     "name": "stdout",
     "output_type": "stream",
     "text": [
      "0 CNOTS, 3 qubits: 1000 classes dict_keys([False, True]) realClasses\n",
      "1 CNOTS, 3 qubits: 1000 classes dict_keys([False]) realClasses\n",
      "2 CNOTS, 3 qubits: 1000 classes dict_keys([False]) realClasses\n",
      "3 CNOTS, 3 qubits: 1000 classes dict_keys([False]) realClasses\n",
      "4 CNOTS, 3 qubits: 1000 classes dict_keys([False]) realClasses\n",
      "5 CNOTS, 3 qubits: 1000 classes dict_keys([False]) realClasses\n",
      "6 CNOTS, 3 qubits: 1000 classes dict_keys([False]) realClasses\n"
     ]
    },
    {
     "ename": "KeyboardInterrupt",
     "evalue": "",
     "output_type": "error",
     "traceback": [
      "\u001b[0;31m---------------------------------------------------------------------------\u001b[0m",
      "\u001b[0;31mKeyboardInterrupt\u001b[0m                         Traceback (most recent call last)",
      "\u001b[0;32m<ipython-input-129-b6e79a63fe3c>\u001b[0m in \u001b[0;36m<module>\u001b[0;34m\u001b[0m\n\u001b[1;32m     12\u001b[0m     \u001b[0mrealClasses\u001b[0m \u001b[0;34m=\u001b[0m \u001b[0;34m{\u001b[0m\u001b[0;34m}\u001b[0m\u001b[0;34m\u001b[0m\u001b[0;34m\u001b[0m\u001b[0m\n\u001b[1;32m     13\u001b[0m     \u001b[0;32mfor\u001b[0m \u001b[0mj\u001b[0m \u001b[0;32min\u001b[0m \u001b[0mrange\u001b[0m\u001b[0;34m(\u001b[0m\u001b[0;36m1000\u001b[0m\u001b[0;34m)\u001b[0m\u001b[0;34m:\u001b[0m\u001b[0;34m\u001b[0m\u001b[0;34m\u001b[0m\u001b[0m\n\u001b[0;32m---> 14\u001b[0;31m         \u001b[0mpoly\u001b[0m \u001b[0;34m=\u001b[0m \u001b[0mnp\u001b[0m\u001b[0;34m.\u001b[0m\u001b[0mround\u001b[0m\u001b[0;34m(\u001b[0m\u001b[0mnp\u001b[0m\u001b[0;34m.\u001b[0m\u001b[0mpoly\u001b[0m\u001b[0;34m(\u001b[0m\u001b[0mg3\u001b[0m\u001b[0;34m(\u001b[0m\u001b[0mspecial\u001b[0m\u001b[0;34m(\u001b[0m\u001b[0mrandomCircuit\u001b[0m\u001b[0;34m(\u001b[0m\u001b[0mn_qubits\u001b[0m\u001b[0;34m,\u001b[0m\u001b[0mn_cnots\u001b[0m\u001b[0;34m)\u001b[0m\u001b[0;34m.\u001b[0m\u001b[0m_unitary_\u001b[0m\u001b[0;34m(\u001b[0m\u001b[0;34m)\u001b[0m\u001b[0;34m)\u001b[0m\u001b[0;34m)\u001b[0m\u001b[0;34m)\u001b[0m\u001b[0;34m,\u001b[0m\u001b[0mdecimals\u001b[0m\u001b[0;34m=\u001b[0m\u001b[0;36m8\u001b[0m\u001b[0;34m)\u001b[0m\u001b[0;34m\u001b[0m\u001b[0;34m\u001b[0m\u001b[0m\n\u001b[0m\u001b[1;32m     15\u001b[0m         \u001b[0mp\u001b[0m \u001b[0;34m=\u001b[0m \u001b[0mclassify\u001b[0m\u001b[0;34m(\u001b[0m\u001b[0mpoly\u001b[0m\u001b[0;34m)\u001b[0m\u001b[0;34m\u001b[0m\u001b[0;34m\u001b[0m\u001b[0m\n\u001b[1;32m     16\u001b[0m         \u001b[0mr\u001b[0m \u001b[0;34m=\u001b[0m \u001b[0misReal\u001b[0m\u001b[0;34m(\u001b[0m\u001b[0mpoly\u001b[0m\u001b[0;34m)\u001b[0m\u001b[0;34m\u001b[0m\u001b[0;34m\u001b[0m\u001b[0m\n",
      "\u001b[0;32m~/dev/proj/Cirq/cirq/circuits/circuit.py\u001b[0m in \u001b[0;36m_unitary_\u001b[0;34m(self)\u001b[0m\n\u001b[1;32m   1362\u001b[0m         \u001b[0;32mif\u001b[0m \u001b[0;32mnot\u001b[0m \u001b[0mself\u001b[0m\u001b[0;34m.\u001b[0m\u001b[0m_has_unitary_\u001b[0m\u001b[0;34m(\u001b[0m\u001b[0;34m)\u001b[0m\u001b[0;34m:\u001b[0m\u001b[0;34m\u001b[0m\u001b[0;34m\u001b[0m\u001b[0m\n\u001b[1;32m   1363\u001b[0m             \u001b[0;32mreturn\u001b[0m \u001b[0mNotImplemented\u001b[0m\u001b[0;34m\u001b[0m\u001b[0;34m\u001b[0m\u001b[0m\n\u001b[0;32m-> 1364\u001b[0;31m         \u001b[0;32mreturn\u001b[0m \u001b[0mself\u001b[0m\u001b[0;34m.\u001b[0m\u001b[0munitary\u001b[0m\u001b[0;34m(\u001b[0m\u001b[0mignore_terminal_measurements\u001b[0m\u001b[0;34m=\u001b[0m\u001b[0;32mTrue\u001b[0m\u001b[0;34m)\u001b[0m\u001b[0;34m\u001b[0m\u001b[0;34m\u001b[0m\u001b[0m\n\u001b[0m\u001b[1;32m   1365\u001b[0m \u001b[0;34m\u001b[0m\u001b[0m\n\u001b[1;32m   1366\u001b[0m     def unitary(self,\n",
      "\u001b[0;32m~/dev/proj/Cirq/cirq/circuits/circuit.py\u001b[0m in \u001b[0;36munitary\u001b[0;34m(self, qubit_order, qubits_that_should_be_present, ignore_terminal_measurements, dtype)\u001b[0m\n\u001b[1;32m   1416\u001b[0m         \u001b[0mstate\u001b[0m \u001b[0;34m=\u001b[0m \u001b[0mlinalg\u001b[0m\u001b[0;34m.\u001b[0m\u001b[0meye_tensor\u001b[0m\u001b[0;34m(\u001b[0m\u001b[0mqid_shape\u001b[0m\u001b[0;34m,\u001b[0m \u001b[0mdtype\u001b[0m\u001b[0;34m=\u001b[0m\u001b[0mdtype\u001b[0m\u001b[0;34m)\u001b[0m\u001b[0;34m\u001b[0m\u001b[0;34m\u001b[0m\u001b[0m\n\u001b[1;32m   1417\u001b[0m \u001b[0;34m\u001b[0m\u001b[0m\n\u001b[0;32m-> 1418\u001b[0;31m         \u001b[0mresult\u001b[0m \u001b[0;34m=\u001b[0m \u001b[0m_apply_unitary_circuit\u001b[0m\u001b[0;34m(\u001b[0m\u001b[0mself\u001b[0m\u001b[0;34m,\u001b[0m \u001b[0mstate\u001b[0m\u001b[0;34m,\u001b[0m \u001b[0mqs\u001b[0m\u001b[0;34m,\u001b[0m \u001b[0mdtype\u001b[0m\u001b[0;34m)\u001b[0m\u001b[0;34m\u001b[0m\u001b[0;34m\u001b[0m\u001b[0m\n\u001b[0m\u001b[1;32m   1419\u001b[0m         \u001b[0;32mreturn\u001b[0m \u001b[0mresult\u001b[0m\u001b[0;34m.\u001b[0m\u001b[0mreshape\u001b[0m\u001b[0;34m(\u001b[0m\u001b[0;34m(\u001b[0m\u001b[0mside_len\u001b[0m\u001b[0;34m,\u001b[0m \u001b[0mside_len\u001b[0m\u001b[0;34m)\u001b[0m\u001b[0;34m)\u001b[0m\u001b[0;34m\u001b[0m\u001b[0;34m\u001b[0m\u001b[0m\n\u001b[1;32m   1420\u001b[0m \u001b[0;34m\u001b[0m\u001b[0m\n",
      "\u001b[0;32m~/dev/proj/Cirq/cirq/circuits/circuit.py\u001b[0m in \u001b[0;36m_apply_unitary_circuit\u001b[0;34m(circuit, state, qubits, dtype)\u001b[0m\n\u001b[1;32m   1960\u001b[0m     return protocols.apply_unitaries(\n\u001b[1;32m   1961\u001b[0m         \u001b[0munitary_ops\u001b[0m\u001b[0;34m,\u001b[0m \u001b[0mqubits\u001b[0m\u001b[0;34m,\u001b[0m\u001b[0;34m\u001b[0m\u001b[0;34m\u001b[0m\u001b[0m\n\u001b[0;32m-> 1962\u001b[0;31m         protocols.ApplyUnitaryArgs(state, buffer, range(len(qubits))))\n\u001b[0m\u001b[1;32m   1963\u001b[0m \u001b[0;34m\u001b[0m\u001b[0m\n\u001b[1;32m   1964\u001b[0m \u001b[0;34m\u001b[0m\u001b[0m\n",
      "\u001b[0;32m~/dev/proj/Cirq/cirq/protocols/apply_unitary_protocol.py\u001b[0m in \u001b[0;36mapply_unitaries\u001b[0;34m(unitary_values, qubits, args, default)\u001b[0m\n\u001b[1;32m    492\u001b[0m         result = apply_unitary(unitary_value=op,\n\u001b[1;32m    493\u001b[0m                                \u001b[0margs\u001b[0m\u001b[0;34m=\u001b[0m\u001b[0mApplyUnitaryArgs\u001b[0m\u001b[0;34m(\u001b[0m\u001b[0mstate\u001b[0m\u001b[0;34m,\u001b[0m \u001b[0mbuffer\u001b[0m\u001b[0;34m,\u001b[0m \u001b[0mindices\u001b[0m\u001b[0;34m)\u001b[0m\u001b[0;34m,\u001b[0m\u001b[0;34m\u001b[0m\u001b[0;34m\u001b[0m\u001b[0m\n\u001b[0;32m--> 494\u001b[0;31m                                default=None)\n\u001b[0m\u001b[1;32m    495\u001b[0m \u001b[0;34m\u001b[0m\u001b[0m\n\u001b[1;32m    496\u001b[0m         \u001b[0;31m# Handle failure.\u001b[0m\u001b[0;34m\u001b[0m\u001b[0;34m\u001b[0m\u001b[0;34m\u001b[0m\u001b[0m\n",
      "\u001b[0;32m~/dev/proj/Cirq/cirq/protocols/apply_unitary_protocol.py\u001b[0m in \u001b[0;36mapply_unitary\u001b[0;34m(unitary_value, args, default)\u001b[0m\n\u001b[1;32m    345\u001b[0m     \u001b[0;31m# Try each strategy, stopping if one works.\u001b[0m\u001b[0;34m\u001b[0m\u001b[0;34m\u001b[0m\u001b[0;34m\u001b[0m\u001b[0m\n\u001b[1;32m    346\u001b[0m     \u001b[0;32mfor\u001b[0m \u001b[0mstrat\u001b[0m \u001b[0;32min\u001b[0m \u001b[0mstrats\u001b[0m\u001b[0;34m:\u001b[0m\u001b[0;34m\u001b[0m\u001b[0;34m\u001b[0m\u001b[0m\n\u001b[0;32m--> 347\u001b[0;31m         \u001b[0mresult\u001b[0m \u001b[0;34m=\u001b[0m \u001b[0mstrat\u001b[0m\u001b[0;34m(\u001b[0m\u001b[0munitary_value\u001b[0m\u001b[0;34m,\u001b[0m \u001b[0margs\u001b[0m\u001b[0;34m)\u001b[0m\u001b[0;34m\u001b[0m\u001b[0;34m\u001b[0m\u001b[0m\n\u001b[0m\u001b[1;32m    348\u001b[0m         \u001b[0;32mif\u001b[0m \u001b[0mresult\u001b[0m \u001b[0;32mis\u001b[0m \u001b[0;32mNone\u001b[0m\u001b[0;34m:\u001b[0m\u001b[0;34m\u001b[0m\u001b[0;34m\u001b[0m\u001b[0m\n\u001b[1;32m    349\u001b[0m             \u001b[0;32mbreak\u001b[0m\u001b[0;34m\u001b[0m\u001b[0;34m\u001b[0m\u001b[0m\n",
      "\u001b[0;32m~/dev/proj/Cirq/cirq/protocols/apply_unitary_protocol.py\u001b[0m in \u001b[0;36m_strat_apply_unitary_from_apply_unitary\u001b[0;34m(unitary_value, args)\u001b[0m\n\u001b[1;32m    382\u001b[0m     sub_args = args._for_operation_with_qid_shape(range(len(op_qid_shape)),\n\u001b[1;32m    383\u001b[0m                                                   op_qid_shape)\n\u001b[0;32m--> 384\u001b[0;31m     \u001b[0msub_result\u001b[0m \u001b[0;34m=\u001b[0m \u001b[0mfunc\u001b[0m\u001b[0;34m(\u001b[0m\u001b[0msub_args\u001b[0m\u001b[0;34m)\u001b[0m\u001b[0;34m\u001b[0m\u001b[0;34m\u001b[0m\u001b[0m\n\u001b[0m\u001b[1;32m    385\u001b[0m     \u001b[0;32mif\u001b[0m \u001b[0msub_result\u001b[0m \u001b[0;32mis\u001b[0m \u001b[0mNotImplemented\u001b[0m \u001b[0;32mor\u001b[0m \u001b[0msub_result\u001b[0m \u001b[0;32mis\u001b[0m \u001b[0;32mNone\u001b[0m\u001b[0;34m:\u001b[0m\u001b[0;34m\u001b[0m\u001b[0;34m\u001b[0m\u001b[0m\n\u001b[1;32m    386\u001b[0m         \u001b[0;32mreturn\u001b[0m \u001b[0msub_result\u001b[0m\u001b[0;34m\u001b[0m\u001b[0;34m\u001b[0m\u001b[0m\n",
      "\u001b[0;32m~/dev/proj/Cirq/cirq/ops/gate_operation.py\u001b[0m in \u001b[0;36m_apply_unitary_\u001b[0;34m(self, args)\u001b[0m\n\u001b[1;32m    111\u001b[0m     def _apply_unitary_(self, args: 'protocols.ApplyUnitaryArgs'\n\u001b[1;32m    112\u001b[0m                        ) -> Union[np.ndarray, None, NotImplementedType]:\n\u001b[0;32m--> 113\u001b[0;31m         \u001b[0;32mreturn\u001b[0m \u001b[0mprotocols\u001b[0m\u001b[0;34m.\u001b[0m\u001b[0mapply_unitary\u001b[0m\u001b[0;34m(\u001b[0m\u001b[0mself\u001b[0m\u001b[0;34m.\u001b[0m\u001b[0mgate\u001b[0m\u001b[0;34m,\u001b[0m \u001b[0margs\u001b[0m\u001b[0;34m,\u001b[0m \u001b[0mdefault\u001b[0m\u001b[0;34m=\u001b[0m\u001b[0;32mNone\u001b[0m\u001b[0;34m)\u001b[0m\u001b[0;34m\u001b[0m\u001b[0;34m\u001b[0m\u001b[0m\n\u001b[0m\u001b[1;32m    114\u001b[0m \u001b[0;34m\u001b[0m\u001b[0m\n\u001b[1;32m    115\u001b[0m     \u001b[0;32mdef\u001b[0m \u001b[0m_has_unitary_\u001b[0m\u001b[0;34m(\u001b[0m\u001b[0mself\u001b[0m\u001b[0;34m)\u001b[0m \u001b[0;34m->\u001b[0m \u001b[0mbool\u001b[0m\u001b[0;34m:\u001b[0m\u001b[0;34m\u001b[0m\u001b[0;34m\u001b[0m\u001b[0m\n",
      "\u001b[0;32m~/dev/proj/Cirq/cirq/protocols/apply_unitary_protocol.py\u001b[0m in \u001b[0;36mapply_unitary\u001b[0;34m(unitary_value, args, default)\u001b[0m\n\u001b[1;32m    345\u001b[0m     \u001b[0;31m# Try each strategy, stopping if one works.\u001b[0m\u001b[0;34m\u001b[0m\u001b[0;34m\u001b[0m\u001b[0;34m\u001b[0m\u001b[0m\n\u001b[1;32m    346\u001b[0m     \u001b[0;32mfor\u001b[0m \u001b[0mstrat\u001b[0m \u001b[0;32min\u001b[0m \u001b[0mstrats\u001b[0m\u001b[0;34m:\u001b[0m\u001b[0;34m\u001b[0m\u001b[0;34m\u001b[0m\u001b[0m\n\u001b[0;32m--> 347\u001b[0;31m         \u001b[0mresult\u001b[0m \u001b[0;34m=\u001b[0m \u001b[0mstrat\u001b[0m\u001b[0;34m(\u001b[0m\u001b[0munitary_value\u001b[0m\u001b[0;34m,\u001b[0m \u001b[0margs\u001b[0m\u001b[0;34m)\u001b[0m\u001b[0;34m\u001b[0m\u001b[0;34m\u001b[0m\u001b[0m\n\u001b[0m\u001b[1;32m    348\u001b[0m         \u001b[0;32mif\u001b[0m \u001b[0mresult\u001b[0m \u001b[0;32mis\u001b[0m \u001b[0;32mNone\u001b[0m\u001b[0;34m:\u001b[0m\u001b[0;34m\u001b[0m\u001b[0;34m\u001b[0m\u001b[0m\n\u001b[1;32m    349\u001b[0m             \u001b[0;32mbreak\u001b[0m\u001b[0;34m\u001b[0m\u001b[0;34m\u001b[0m\u001b[0m\n",
      "\u001b[0;32m~/dev/proj/Cirq/cirq/protocols/apply_unitary_protocol.py\u001b[0m in \u001b[0;36m_strat_apply_unitary_from_unitary\u001b[0;34m(unitary_value, args)\u001b[0m\n\u001b[1;32m    396\u001b[0m \u001b[0;34m\u001b[0m\u001b[0m\n\u001b[1;32m    397\u001b[0m     \u001b[0;31m# Attempt to get the unitary matrix.\u001b[0m\u001b[0;34m\u001b[0m\u001b[0;34m\u001b[0m\u001b[0;34m\u001b[0m\u001b[0m\n\u001b[0;32m--> 398\u001b[0;31m     \u001b[0mmatrix\u001b[0m \u001b[0;34m=\u001b[0m \u001b[0mmethod\u001b[0m\u001b[0;34m(\u001b[0m\u001b[0;34m)\u001b[0m\u001b[0;34m\u001b[0m\u001b[0;34m\u001b[0m\u001b[0m\n\u001b[0m\u001b[1;32m    399\u001b[0m     \u001b[0;32mif\u001b[0m \u001b[0mmatrix\u001b[0m \u001b[0;32mis\u001b[0m \u001b[0mNotImplemented\u001b[0m \u001b[0;32mor\u001b[0m \u001b[0mmatrix\u001b[0m \u001b[0;32mis\u001b[0m \u001b[0;32mNone\u001b[0m\u001b[0;34m:\u001b[0m\u001b[0;34m\u001b[0m\u001b[0;34m\u001b[0m\u001b[0m\n\u001b[1;32m    400\u001b[0m         \u001b[0;32mreturn\u001b[0m \u001b[0mmatrix\u001b[0m\u001b[0;34m\u001b[0m\u001b[0;34m\u001b[0m\u001b[0m\n",
      "\u001b[0;32m~/dev/proj/Cirq/cirq/ops/phased_x_gate.py\u001b[0m in \u001b[0;36m_unitary_\u001b[0;34m(self)\u001b[0m\n\u001b[1;32m    111\u001b[0m             \u001b[0;32mreturn\u001b[0m \u001b[0mNotImplemented\u001b[0m\u001b[0;34m\u001b[0m\u001b[0;34m\u001b[0m\u001b[0m\n\u001b[1;32m    112\u001b[0m         \u001b[0mz\u001b[0m \u001b[0;34m=\u001b[0m \u001b[0mprotocols\u001b[0m\u001b[0;34m.\u001b[0m\u001b[0munitary\u001b[0m\u001b[0;34m(\u001b[0m\u001b[0mcirq\u001b[0m\u001b[0;34m.\u001b[0m\u001b[0mZ\u001b[0m\u001b[0;34m**\u001b[0m\u001b[0mself\u001b[0m\u001b[0;34m.\u001b[0m\u001b[0m_phase_exponent\u001b[0m\u001b[0;34m)\u001b[0m\u001b[0;34m\u001b[0m\u001b[0;34m\u001b[0m\u001b[0m\n\u001b[0;32m--> 113\u001b[0;31m         \u001b[0mx\u001b[0m \u001b[0;34m=\u001b[0m \u001b[0mprotocols\u001b[0m\u001b[0;34m.\u001b[0m\u001b[0munitary\u001b[0m\u001b[0;34m(\u001b[0m\u001b[0mcirq\u001b[0m\u001b[0;34m.\u001b[0m\u001b[0mX\u001b[0m\u001b[0;34m**\u001b[0m\u001b[0mself\u001b[0m\u001b[0;34m.\u001b[0m\u001b[0m_exponent\u001b[0m\u001b[0;34m)\u001b[0m\u001b[0;34m\u001b[0m\u001b[0;34m\u001b[0m\u001b[0m\n\u001b[0m\u001b[1;32m    114\u001b[0m         \u001b[0mp\u001b[0m \u001b[0;34m=\u001b[0m \u001b[0mnp\u001b[0m\u001b[0;34m.\u001b[0m\u001b[0mexp\u001b[0m\u001b[0;34m(\u001b[0m\u001b[0;36m1j\u001b[0m \u001b[0;34m*\u001b[0m \u001b[0mnp\u001b[0m\u001b[0;34m.\u001b[0m\u001b[0mpi\u001b[0m \u001b[0;34m*\u001b[0m \u001b[0mself\u001b[0m\u001b[0;34m.\u001b[0m\u001b[0m_global_shift\u001b[0m \u001b[0;34m*\u001b[0m \u001b[0mself\u001b[0m\u001b[0;34m.\u001b[0m\u001b[0m_exponent\u001b[0m\u001b[0;34m)\u001b[0m\u001b[0;34m\u001b[0m\u001b[0;34m\u001b[0m\u001b[0m\n\u001b[1;32m    115\u001b[0m         \u001b[0;32mreturn\u001b[0m \u001b[0mnp\u001b[0m\u001b[0;34m.\u001b[0m\u001b[0mdot\u001b[0m\u001b[0;34m(\u001b[0m\u001b[0mnp\u001b[0m\u001b[0;34m.\u001b[0m\u001b[0mdot\u001b[0m\u001b[0;34m(\u001b[0m\u001b[0mz\u001b[0m\u001b[0;34m,\u001b[0m \u001b[0mx\u001b[0m\u001b[0;34m)\u001b[0m\u001b[0;34m,\u001b[0m \u001b[0mnp\u001b[0m\u001b[0;34m.\u001b[0m\u001b[0mconj\u001b[0m\u001b[0;34m(\u001b[0m\u001b[0mz\u001b[0m\u001b[0;34m)\u001b[0m\u001b[0;34m)\u001b[0m \u001b[0;34m*\u001b[0m \u001b[0mp\u001b[0m\u001b[0;34m\u001b[0m\u001b[0;34m\u001b[0m\u001b[0m\n",
      "\u001b[0;32m~/dev/proj/Cirq/cirq/protocols/unitary.py\u001b[0m in \u001b[0;36munitary\u001b[0;34m(val, default)\u001b[0m\n\u001b[1;32m    126\u001b[0m     ]\n\u001b[1;32m    127\u001b[0m     \u001b[0;32mfor\u001b[0m \u001b[0mstrat\u001b[0m \u001b[0;32min\u001b[0m \u001b[0mstrats\u001b[0m\u001b[0;34m:\u001b[0m\u001b[0;34m\u001b[0m\u001b[0;34m\u001b[0m\u001b[0m\n\u001b[0;32m--> 128\u001b[0;31m         \u001b[0mresult\u001b[0m \u001b[0;34m=\u001b[0m \u001b[0mstrat\u001b[0m\u001b[0;34m(\u001b[0m\u001b[0mval\u001b[0m\u001b[0;34m)\u001b[0m\u001b[0;34m\u001b[0m\u001b[0;34m\u001b[0m\u001b[0m\n\u001b[0m\u001b[1;32m    129\u001b[0m         \u001b[0;32mif\u001b[0m \u001b[0mresult\u001b[0m \u001b[0;32mis\u001b[0m \u001b[0;32mNone\u001b[0m\u001b[0;34m:\u001b[0m\u001b[0;34m\u001b[0m\u001b[0;34m\u001b[0m\u001b[0m\n\u001b[1;32m    130\u001b[0m             \u001b[0;32mbreak\u001b[0m\u001b[0;34m\u001b[0m\u001b[0;34m\u001b[0m\u001b[0m\n",
      "\u001b[0;32m~/dev/proj/Cirq/cirq/protocols/unitary.py\u001b[0m in \u001b[0;36m_strat_unitary_from_unitary\u001b[0;34m(val)\u001b[0m\n\u001b[1;32m    155\u001b[0m     \u001b[0;32mif\u001b[0m \u001b[0mgetter\u001b[0m \u001b[0;32mis\u001b[0m \u001b[0;32mNone\u001b[0m\u001b[0;34m:\u001b[0m\u001b[0;34m\u001b[0m\u001b[0;34m\u001b[0m\u001b[0m\n\u001b[1;32m    156\u001b[0m         \u001b[0;32mreturn\u001b[0m \u001b[0mNotImplemented\u001b[0m\u001b[0;34m\u001b[0m\u001b[0;34m\u001b[0m\u001b[0m\n\u001b[0;32m--> 157\u001b[0;31m     \u001b[0;32mreturn\u001b[0m \u001b[0mgetter\u001b[0m\u001b[0;34m(\u001b[0m\u001b[0;34m)\u001b[0m\u001b[0;34m\u001b[0m\u001b[0;34m\u001b[0m\u001b[0m\n\u001b[0m\u001b[1;32m    158\u001b[0m \u001b[0;34m\u001b[0m\u001b[0m\n\u001b[1;32m    159\u001b[0m \u001b[0;34m\u001b[0m\u001b[0m\n",
      "\u001b[0;32m~/dev/proj/Cirq/cirq/ops/eigen_gate.py\u001b[0m in \u001b[0;36m_unitary_\u001b[0;34m(self)\u001b[0m\n\u001b[1;32m    313\u001b[0m             component * 1j**(\n\u001b[1;32m    314\u001b[0m                     2 * e * (half_turns + self._global_shift))\n\u001b[0;32m--> 315\u001b[0;31m             \u001b[0;32mfor\u001b[0m \u001b[0mhalf_turns\u001b[0m\u001b[0;34m,\u001b[0m \u001b[0mcomponent\u001b[0m \u001b[0;32min\u001b[0m \u001b[0mself\u001b[0m\u001b[0;34m.\u001b[0m\u001b[0m_eigen_components\u001b[0m\u001b[0;34m(\u001b[0m\u001b[0;34m)\u001b[0m\u001b[0;34m\u001b[0m\u001b[0;34m\u001b[0m\u001b[0m\n\u001b[0m\u001b[1;32m    316\u001b[0m         ], axis=0)\n\u001b[1;32m    317\u001b[0m \u001b[0;34m\u001b[0m\u001b[0m\n",
      "\u001b[0;32m~/dev/proj/Cirq/cirq/ops/eigen_gate.py\u001b[0m in \u001b[0;36m<listcomp>\u001b[0;34m(.0)\u001b[0m\n\u001b[1;32m    313\u001b[0m             component * 1j**(\n\u001b[1;32m    314\u001b[0m                     2 * e * (half_turns + self._global_shift))\n\u001b[0;32m--> 315\u001b[0;31m             \u001b[0;32mfor\u001b[0m \u001b[0mhalf_turns\u001b[0m\u001b[0;34m,\u001b[0m \u001b[0mcomponent\u001b[0m \u001b[0;32min\u001b[0m \u001b[0mself\u001b[0m\u001b[0;34m.\u001b[0m\u001b[0m_eigen_components\u001b[0m\u001b[0;34m(\u001b[0m\u001b[0;34m)\u001b[0m\u001b[0;34m\u001b[0m\u001b[0;34m\u001b[0m\u001b[0m\n\u001b[0m\u001b[1;32m    316\u001b[0m         ], axis=0)\n\u001b[1;32m    317\u001b[0m \u001b[0;34m\u001b[0m\u001b[0m\n",
      "\u001b[0;31mKeyboardInterrupt\u001b[0m: "
     ]
    }
   ],
   "source": [
    "n_qubits = 3 \n",
    "\n",
    "def isReal(poly): \n",
    "    return np.alltrue(np.isclose(0, np.imag(poly)))\n",
    "\n",
    "def classify(poly):     \n",
    "    return sum(poly)\n",
    "\n",
    "\n",
    "for n_cnots in range(15): \n",
    "    classes = {}\n",
    "    realClasses = {}\n",
    "    for j in range(1000): \n",
    "        poly = np.round(np.poly(g3(special(randomCircuit(n_qubits,n_cnots)._unitary_()))),decimals=8)\n",
    "        p = classify(poly)\n",
    "        r = isReal(poly)\n",
    "        if not r in realClasses:\n",
    "            realClasses[r] = 1\n",
    "        else:\n",
    "            realClasses[r] = realClasses[r] + 1\n",
    "        if not p in classes:\n",
    "            classes[p] = 1\n",
    "        else:\n",
    "            classes[p] = classes[p] + 1\n",
    "    print(\"{} CNOTS, {} qubits: {} classes {} realClasses\".format(n_cnots, n_qubits, len(classes), realClasses.keys()))\n",
    "\n",
    "        \n",
    "\n"
   ]
  },
  {
   "cell_type": "code",
   "execution_count": 24,
   "metadata": {},
   "outputs": [
    {
     "name": "stdout",
     "output_type": "stream",
     "text": [
      "0 [ 1.        +0.j          0.00877194-0.00877194j  0.        -1.50570992j\n",
      " -0.01385355-0.01385355j -1.64153408-0.j         -0.01385355+0.01385355j\n",
      "  0.        +1.50570992j  0.00877194+0.00877194j  1.        -0.j        ]\n",
      "1 [  1.        +0.j          -2.91130416-2.63525338j\n",
      "   0.43961552+8.45360829j   8.59966836-9.21994283j\n",
      " -14.21640008-0.j           8.59966836+9.21994283j\n",
      "   0.43961552-8.45360829j  -2.91130416+2.63525338j\n",
      "   1.        +0.j        ]\n",
      "2 [ 1.        +0.j         -0.22671503+0.75537688j  0.20244148-0.17171301j\n",
      "  0.3163165 +0.09210181j -0.02967399+0.j          0.3163165 -0.09210181j\n",
      "  0.20244148+0.17171301j -0.22671503-0.75537688j  1.        +0.j        ]\n",
      "3 [ 1.        +0.j          0.17655339+1.38783983j -0.33536639+0.35557847j\n",
      " -0.36445518+0.75487725j -0.96111096-0.j         -0.36445518-0.75487725j\n",
      " -0.33536639-0.35557847j  0.17655339-1.38783983j  1.        +0.j        ]\n",
      "4 [ 1.        +0.j         -0.28236321+0.12270964j  1.04295199+0.41563164j\n",
      " -0.08678223+0.14024487j  0.66451943-0.j         -0.08678223-0.14024487j\n",
      "  1.04295199-0.41563164j -0.28236321-0.12270964j  1.        -0.j        ]\n",
      "5 [ 1.        +0.j         -0.46455216+1.14623893j -0.3798179 +0.25382376j\n",
      " -0.63679789-0.65428437j  0.8351635 +0.j         -0.63679789+0.65428437j\n",
      " -0.3798179 -0.25382376j -0.46455216-1.14623893j  1.        +0.j        ]\n",
      "6 [ 1.        +0.j          0.06048705+0.12525952j -0.13056599-1.96394785j\n",
      "  0.10130277-0.07591905j -1.98597221-0.j          0.10130277+0.07591905j\n",
      " -0.13056599+1.96394785j  0.06048705-0.12525952j  1.        +0.j        ]\n",
      "7 [ 1.        +0.j          0.02523616-0.68636197j -0.24138982-0.27756449j\n",
      "  0.57654742+0.72667673j  0.56269513+0.j          0.57654742-0.72667673j\n",
      " -0.24138982+0.27756449j  0.02523616+0.68636197j  1.        +0.j        ]\n",
      "8 [ 1.        +0.j         -0.08623356-0.0061935j   0.58352296-0.19267582j\n",
      "  0.39614522-0.27682847j  0.19163039-0.j          0.39614522+0.27682847j\n",
      "  0.58352296+0.19267582j -0.08623356+0.0061935j   1.        -0.j        ]\n",
      "9 [ 1.        +0.j          0.17450983-0.27318708j -0.44198959-0.32142425j\n",
      " -0.19564477+0.25876475j -0.094427  +0.j         -0.19564477-0.25876475j\n",
      " -0.44198959+0.32142425j  0.17450983+0.27318708j  1.        +0.j        ]\n",
      "10 [ 1.        +0.j          1.3306424 +0.47321217j  0.32413844+1.10369052j\n",
      " -0.91932382+0.85131023j -1.40643678+0.j         -0.91932382-0.85131023j\n",
      "  0.32413844-1.10369052j  1.3306424 -0.47321217j  1.        -0.j        ]\n",
      "11 [ 1.        +0.j         -0.70545508-1.38269208j -1.35865265+1.22300949j\n",
      "  0.81801056+0.97339968j  1.02565595+0.j          0.81801056-0.97339968j\n",
      " -1.35865265-1.22300949j -0.70545508+1.38269208j  1.        -0.j        ]\n",
      "12 [ 1.        +0.j         -0.58510156+1.05520995j -0.20866681-1.40075034j\n",
      "  0.95824215+0.47785827j -0.85844309+0.j          0.95824215-0.47785827j\n",
      " -0.20866681+1.40075034j -0.58510156-1.05520995j  1.        +0.j        ]\n",
      "13 [ 1.        +0.j         -0.26674694+0.16402643j -0.14828865-0.10858562j\n",
      "  0.24712427-0.18891678j -0.62449417-0.j          0.24712427+0.18891678j\n",
      " -0.14828865+0.10858562j -0.26674694-0.16402643j  1.        +0.j        ]\n",
      "14 [1.        +0.j         0.16278873+0.10391046j 0.19881718+0.48088494j\n",
      " 0.22598586-0.3893687j  0.07287428-0.j         0.22598586+0.3893687j\n",
      " 0.19881718-0.48088494j 0.16278873-0.10391046j 1.        -0.j        ]\n"
     ]
    }
   ],
   "source": [
    "for n_cnots in range(15): \n",
    "    print(n_cnots, np.round(np.poly(special(randomCircuit(3,n_cnots)._unitary_())),decimals=8))"
   ]
  },
  {
   "cell_type": "code",
   "execution_count": 25,
   "metadata": {},
   "outputs": [],
   "source": [
    "from cirq.linalg.decompositions import *"
   ]
  },
  {
   "cell_type": "code",
   "execution_count": 26,
   "metadata": {},
   "outputs": [
    {
     "data": {
      "text/plain": [
       "array([[ 0.+0.j,  0.+0.j,  0.+0.j,  1.+0.j],\n",
       "       [ 0.+0.j,  0.+0.j, -1.+0.j,  0.+0.j],\n",
       "       [ 0.+0.j, -1.+0.j,  0.+0.j,  0.+0.j],\n",
       "       [ 1.+0.j,  0.+0.j,  0.+0.j,  0.+0.j]])"
      ]
     },
     "execution_count": 26,
     "metadata": {},
     "output_type": "execute_result"
    }
   ],
   "source": [
    "# E E^T \n",
    "KAK_MAGIC @ KAK_MAGIC.T"
   ]
  },
  {
   "cell_type": "code",
   "execution_count": 27,
   "metadata": {},
   "outputs": [
    {
     "data": {
      "text/plain": [
       "array([[-0.-0.j, -0.-0.j, -0.-0.j,  1.+0.j],\n",
       "       [-0.-0.j, -0.-0.j, -1.-0.j, -0.-0.j],\n",
       "       [-0.-0.j, -1.-0.j, -0.-0.j, -0.-0.j],\n",
       "       [ 1.-0.j, -0.-0.j, -0.-0.j, -0.-0.j]])"
      ]
     },
     "execution_count": 27,
     "metadata": {},
     "output_type": "execute_result"
    }
   ],
   "source": [
    "# is the same as -(YY kron YY)\n",
    "- np.kron(cirq.Y._unitary_(), cirq.Y._unitary_())"
   ]
  },
  {
   "cell_type": "code",
   "execution_count": 28,
   "metadata": {},
   "outputs": [],
   "source": [
    "# we also know E SO(4) E* = SO(2)^(kron 2)"
   ]
  },
  {
   "cell_type": "code",
   "execution_count": 124,
   "metadata": {},
   "outputs": [
    {
     "name": "stdout",
     "output_type": "stream",
     "text": [
      "[[0.+0.j 0.+0.j 0.+0.j 0.+0.j 0.+0.j 0.+0.j 0.+0.j 1.+0.j]\n",
      " [0.+0.j 0.+0.j 0.+0.j 0.+0.j 0.+0.j 0.+0.j 1.+0.j 0.+0.j]\n",
      " [0.+0.j 0.+0.j 0.+0.j 0.+0.j 0.+0.j 1.+0.j 0.+0.j 0.+0.j]\n",
      " [0.+0.j 0.+0.j 0.+0.j 0.+0.j 1.+0.j 0.+0.j 0.+0.j 0.+0.j]\n",
      " [0.+0.j 0.+0.j 0.+0.j 1.+0.j 0.+0.j 0.+0.j 0.+0.j 0.+0.j]\n",
      " [0.+0.j 0.+0.j 1.+0.j 0.+0.j 0.+0.j 0.+0.j 0.+0.j 0.+0.j]\n",
      " [0.+0.j 1.+0.j 0.+0.j 0.+0.j 0.+0.j 0.+0.j 0.+0.j 0.+0.j]\n",
      " [1.+0.j 0.+0.j 0.+0.j 0.+0.j 0.+0.j 0.+0.j 0.+0.j 0.+0.j]]\n"
     ]
    }
   ],
   "source": [
    "# 1. do we have a GHZ based 3 qubit magic basis that does the same for SO(8) = SO(2)^(kron 3) \n",
    "# - ie convert real special orthogonal matrices to local unitaries? \n",
    "\n",
    "# 2. if yes, can we use that similarly to define g3 that will then create \n",
    "\n",
    "print(np.array2string(np.kron(np.kron(cirq.X._unitary_(), cirq.X._unitary_()),cirq.X._unitary_())))"
   ]
  },
  {
   "cell_type": "code",
   "execution_count": 70,
   "metadata": {},
   "outputs": [],
   "source": [
    "a,b,c = cirq.LineQubit.range(3)\n",
    "res = cirq.Simulator().simulate(cirq.Circuit([cirq.H(a), cirq.CNOT(a,b), cirq.CNOT(a,c)]))"
   ]
  },
  {
   "cell_type": "code",
   "execution_count": 72,
   "metadata": {},
   "outputs": [],
   "source": [
    "psi = res.final_state"
   ]
  },
  {
   "cell_type": "code",
   "execution_count": 75,
   "metadata": {},
   "outputs": [],
   "source": [
    "rho = np.outer(psi.conj().T, psi)"
   ]
  },
  {
   "cell_type": "code",
   "execution_count": 79,
   "metadata": {},
   "outputs": [
    {
     "name": "stdout",
     "output_type": "stream",
     "text": [
      "[[0.5+0.j 0. +0.j 0. +0.j 0. +0.j 0. +0.j 0. +0.j 0. +0.j 0.5+0.j]\n",
      " [0. +0.j 0. +0.j 0. +0.j 0. +0.j 0. +0.j 0. +0.j 0. +0.j 0. +0.j]\n",
      " [0. +0.j 0. +0.j 0. +0.j 0. +0.j 0. +0.j 0. +0.j 0. +0.j 0. +0.j]\n",
      " [0. +0.j 0. +0.j 0. +0.j 0. +0.j 0. +0.j 0. +0.j 0. +0.j 0. +0.j]\n",
      " [0. -0.j 0. -0.j 0. -0.j 0. -0.j 0. +0.j 0. +0.j 0. +0.j 0. -0.j]\n",
      " [0. -0.j 0. -0.j 0. -0.j 0. -0.j 0. +0.j 0. +0.j 0. +0.j 0. -0.j]\n",
      " [0. -0.j 0. -0.j 0. -0.j 0. -0.j 0. +0.j 0. +0.j 0. +0.j 0. -0.j]\n",
      " [0.5+0.j 0. +0.j 0. +0.j 0. +0.j 0. +0.j 0. +0.j 0. +0.j 0.5+0.j]]\n"
     ]
    }
   ],
   "source": [
    "np.set_printoptions(suppress=True, precision=2)\n",
    "print(np.array2string(rho))"
   ]
  },
  {
   "cell_type": "code",
   "execution_count": 118,
   "metadata": {},
   "outputs": [
    {
     "name": "stdout",
     "output_type": "stream",
     "text": [
      "[[1.+0.j 0.+0.j 0.+0.j 0.+0.j 0.+0.j 0.+0.j 0.+0.j 0.+0.j]\n",
      " [0.+0.j 1.+0.j 0.+0.j 0.+0.j 0.+0.j 0.+0.j 0.+0.j 0.+0.j]\n",
      " [0.+0.j 0.+0.j 1.+0.j 0.+0.j 0.+0.j 0.+0.j 0.+0.j 0.+0.j]\n",
      " [0.+0.j 0.+0.j 0.+0.j 1.+0.j 0.+0.j 0.+0.j 0.+0.j 0.+0.j]\n",
      " [0.+0.j 0.+0.j 0.+0.j 0.+0.j 1.+0.j 0.+0.j 0.+0.j 0.+0.j]\n",
      " [0.+0.j 0.+0.j 0.+0.j 0.+0.j 0.+0.j 1.+0.j 0.+0.j 0.+0.j]\n",
      " [0.+0.j 0.+0.j 0.+0.j 0.+0.j 0.+0.j 0.+0.j 1.+0.j 0.+0.j]\n",
      " [0.+0.j 0.+0.j 0.+0.j 0.+0.j 0.+0.j 0.+0.j 0.+0.j 1.+0.j]]\n"
     ]
    }
   ],
   "source": [
    "E3 = np.array([\n",
    "    [0,1,0,0,0  ,0,0,1j],\n",
    "    [0,0,1,0,0  ,0,1j,0],\n",
    "    [0,0,0,1,0  ,1j,0,0],\n",
    "    [1,0,0,0,1j,0,0,0],\n",
    "    [1,0,0,0,-1j ,0,0,0],\n",
    "    [0,0,0,1,0  ,-1j ,0,0],\n",
    "    [0,0,1,0,0  ,0,-1j,0],\n",
    "    [0,1,0,0,0  ,0,0,-1j],\n",
    "]) * 1/np.sqrt(2)\n",
    "np.set_printoptions(suppress=True, precision=2)\n",
    "print(np.array2string(E3 @ E3.conj().T))"
   ]
  },
  {
   "cell_type": "code",
   "execution_count": 119,
   "metadata": {},
   "outputs": [],
   "source": [
    "np.testing.assert_almost_equal(E3 @ E3.conj().T, np.eye(8))"
   ]
  },
  {
   "cell_type": "markdown",
   "metadata": {},
   "source": [
    "``` \n",
    "100 + 011 = 4 + 3 \n",
    "111 + 000 = 7 + 0 \n",
    "110 + 001 = 6 + 1\n",
    "101 + 010 = 5 + 2 \n",
    "\n",
    "-i ( 111-000 ) = 7 - 0 \n",
    "-i ( 100-011 ) = 4 - 3 \n",
    "-i ( 101-010 ) = 5 - 2 \n",
    "-i ( 110-001 ) = 6 - 1\n",
    "\n",
    "```\n"
   ]
  },
  {
   "cell_type": "code",
   "execution_count": 120,
   "metadata": {},
   "outputs": [
    {
     "name": "stdout",
     "output_type": "stream",
     "text": [
      "[[0.+0.j 0.+0.j 0.+0.j 0.+0.j 0.+0.j 0.+0.j 0.+0.j 1.+0.j]\n",
      " [0.+0.j 0.+0.j 0.+0.j 0.+0.j 0.+0.j 0.+0.j 1.+0.j 0.+0.j]\n",
      " [0.+0.j 0.+0.j 0.+0.j 0.+0.j 0.+0.j 1.+0.j 0.+0.j 0.+0.j]\n",
      " [0.+0.j 0.+0.j 0.+0.j 0.+0.j 1.+0.j 0.+0.j 0.+0.j 0.+0.j]\n",
      " [0.+0.j 0.+0.j 0.+0.j 1.+0.j 0.+0.j 0.+0.j 0.+0.j 0.+0.j]\n",
      " [0.+0.j 0.+0.j 1.+0.j 0.+0.j 0.+0.j 0.+0.j 0.+0.j 0.+0.j]\n",
      " [0.+0.j 1.+0.j 0.+0.j 0.+0.j 0.+0.j 0.+0.j 0.+0.j 0.+0.j]\n",
      " [1.+0.j 0.+0.j 0.+0.j 0.+0.j 0.+0.j 0.+0.j 0.+0.j 0.+0.j]]\n"
     ]
    }
   ],
   "source": [
    "print(np.array2string(E3 @ E3.T))"
   ]
  },
  {
   "cell_type": "code",
   "execution_count": 87,
   "metadata": {},
   "outputs": [
    {
     "data": {
      "text/plain": [
       "array([0.+0.71j, 0.+0.j  , 0.+0.j  , 0.-0.71j])"
      ]
     },
     "execution_count": 87,
     "metadata": {},
     "output_type": "execute_result"
    }
   ],
   "source": [
    "MAGIC @ np.array([0,0,0,1])"
   ]
  },
  {
   "cell_type": "code",
   "execution_count": 89,
   "metadata": {},
   "outputs": [
    {
     "data": {
      "text/plain": [
       "array([[ 1.+0.j,  0.+0.j,  0.+0.j,  0.+1.j],\n",
       "       [ 0.+0.j,  0.+1.j,  1.+0.j,  0.+0.j],\n",
       "       [ 0.+0.j,  0.+1.j, -1.+0.j,  0.+0.j],\n",
       "       [ 1.+0.j,  0.+0.j,  0.+0.j,  0.-1.j]])"
      ]
     },
     "execution_count": 89,
     "metadata": {},
     "output_type": "execute_result"
    }
   ],
   "source": [
    "MAGIC * np.sqrt(2)"
   ]
  },
  {
   "cell_type": "code",
   "execution_count": 133,
   "metadata": {},
   "outputs": [
    {
     "data": {
      "text/plain": [
       "array([[-0.13+0.01j,  0.11-0.22j,  0.38-0.13j,  0.34-0.35j, -0.11-0.18j,\n",
       "         0.16-0.2j , -0.54-0.01j, -0.05+0.34j],\n",
       "       [-0.27+0.11j,  0.18-0.j  , -0.13+0.3j , -0.49+0.23j, -0.13+0.17j,\n",
       "        -0.05+0.15j, -0.42-0.21j,  0.26+0.35j],\n",
       "       [ 0.3 +0.16j, -0.36+0.21j,  0.16+0.04j,  0.26-0.06j, -0.1 +0.4j ,\n",
       "        -0.56+0.2j , -0.2 -0.19j, -0.06+0.11j],\n",
       "       [ 0.55+0.17j, -0.41-0.21j, -0.18+0.06j, -0.22-0.02j,  0.37-0.2j ,\n",
       "         0.28-0.11j, -0.14-0.19j, -0.02+0.21j],\n",
       "       [-0.  -0.09j, -0.06+0.14j,  0.48-0.5j , -0.19+0.31j,  0.03+0.27j,\n",
       "         0.2 -0.19j,  0.25-0.24j,  0.09+0.27j],\n",
       "       [-0.29-0.01j, -0.26+0.j  , -0.16+0.2j ,  0.38+0.01j,  0.16-0.04j,\n",
       "         0.04+0.12j,  0.38+0.15j,  0.28+0.59j],\n",
       "       [ 0.01+0.12j,  0.22-0.14j,  0.32-0.07j, -0.18+0.08j,  0.34-0.52j,\n",
       "        -0.58+0.13j,  0.13+0.02j,  0.01+0.13j],\n",
       "       [ 0.44+0.39j,  0.5 +0.34j, -0.15-0.j  ,  0.11+0.08j, -0.27-0.07j,\n",
       "         0.07-0.13j,  0.13+0.17j, -0.06+0.32j]])"
      ]
     },
     "execution_count": 133,
     "metadata": {},
     "output_type": "execute_result"
    }
   ],
   "source": [
    "randomCircuit(3,3)._unitary_()"
   ]
  },
  {
   "cell_type": "code",
   "execution_count": null,
   "metadata": {},
   "outputs": [],
   "source": []
  }
 ],
 "metadata": {
  "kernelspec": {
   "display_name": "Python 3",
   "language": "python",
   "name": "python3"
  },
  "language_info": {
   "codemirror_mode": {
    "name": "ipython",
    "version": 3
   },
   "file_extension": ".py",
   "mimetype": "text/x-python",
   "name": "python",
   "nbconvert_exporter": "python",
   "pygments_lexer": "ipython3",
   "version": "3.7.5"
  }
 },
 "nbformat": 4,
 "nbformat_minor": 2
}
