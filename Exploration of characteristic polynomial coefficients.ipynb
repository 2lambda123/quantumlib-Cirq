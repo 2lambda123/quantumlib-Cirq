{
 "cells": [
  {
   "cell_type": "code",
   "execution_count": 1,
   "metadata": {},
   "outputs": [],
   "source": [
    "import cirq\n",
    "import numpy as np \n",
    "import random\n"
   ]
  },
  {
   "cell_type": "code",
   "execution_count": 2,
   "metadata": {},
   "outputs": [],
   "source": [
    "def special(u):\n",
    "    return u / (np.linalg.det(u) ** (1 / len(u)))\n",
    "\n",
    "def g2(u):\n",
    "    yy = np.kron(cirq.Y._unitary_(), cirq.Y._unitary_())\n",
    "    return u @ yy @ u.T @ yy\n",
    "\n",
    "def g3(u):\n",
    "    xxx = np.kron(np.kron(cirq.X._unitary_(), cirq.X._unitary_()),cirq.X._unitary_())\n",
    "    return u @ xxx @ u.T @ xxx\n",
    "\n",
    "def randomCircuit(n_qubits: int, n_CNOTs: int):\n",
    "    qubits = cirq.LineQubit.range(n_qubits)\n",
    "    circuit = cirq.Circuit()\n",
    "\n",
    "    for q in qubits:\n",
    "        circuit.append(cirq.PhasedXPowGate(exponent=random.random(), phase_exponent=random.random()).on(q))\n",
    "\n",
    "    \n",
    "    for i in range(n_CNOTs):\n",
    "        # choose two qubits randomly \n",
    "        a = random.choice(qubits)\n",
    "        b = a \n",
    "        while b == a: \n",
    "            b = random.choice(qubits)\n",
    "        \n",
    "        circuit.append(cirq.PhasedXPowGate(exponent=random.random(), phase_exponent=random.random()).on(a))\n",
    "        circuit.append(cirq.PhasedXPowGate(exponent=random.random(), phase_exponent=random.random()).on(b))\n",
    "        circuit.append(cirq.CNOT(a,b))\n",
    "        circuit.append(cirq.PhasedXPowGate(exponent=random.random(), phase_exponent=random.random()).on(a))\n",
    "        circuit.append(cirq.PhasedXPowGate(exponent=random.random(), phase_exponent=random.random()).on(b))\n",
    "    return circuit "
   ]
  },
  {
   "cell_type": "code",
   "execution_count": 3,
   "metadata": {},
   "outputs": [
    {
     "name": "stdout",
     "output_type": "stream",
     "text": [
      "0 CNOTS, 2 qubits: 2 classes dict_keys([True]) realClasses\n",
      "1 CNOTS, 2 qubits: 1 classes dict_keys([True]) realClasses\n",
      "2 CNOTS, 2 qubits: 100 classes dict_keys([True]) realClasses\n",
      "3 CNOTS, 2 qubits: 100 classes dict_keys([False]) realClasses\n"
     ]
    }
   ],
   "source": [
    "n_qubits = 2 \n",
    "\n",
    "def isReal(poly): \n",
    "    return np.alltrue(np.isclose(0, np.imag(poly)))\n",
    "\n",
    "def classify(poly):     \n",
    "    return sum(poly)\n",
    "\n",
    "\n",
    "for n_cnots in range(4): \n",
    "    classes = {}\n",
    "    realClasses = {}\n",
    "    for j in range(100): \n",
    "        poly = np.round(np.poly(g2(special(randomCircuit(n_qubits,n_cnots)._unitary_()))),decimals=8)\n",
    "        p = classify(poly)\n",
    "        r = isReal(poly)\n",
    "        if not r in realClasses:\n",
    "            realClasses[r] = 1\n",
    "        else:\n",
    "            realClasses[r] = realClasses[r] + 1\n",
    "        if not p in classes:\n",
    "            classes[p] = 1\n",
    "        else:\n",
    "            classes[p] = classes[p] + 1\n",
    "    print(\"{} CNOTS, {} qubits: {} classes {} realClasses\".format(n_cnots, n_qubits, len(classes), realClasses.keys()))\n",
    "\n",
    "        "
   ]
  },
  {
   "cell_type": "code",
   "execution_count": 4,
   "metadata": {},
   "outputs": [
    {
     "name": "stdout",
     "output_type": "stream",
     "text": [
      "0 CNOTS, 3 qubits: 1000 classes dict_keys([True, False]) realClasses\n",
      "1 CNOTS, 3 qubits: 1000 classes dict_keys([False]) realClasses\n",
      "2 CNOTS, 3 qubits: 1000 classes dict_keys([False]) realClasses\n",
      "3 CNOTS, 3 qubits: 1000 classes dict_keys([False]) realClasses\n",
      "4 CNOTS, 3 qubits: 1000 classes dict_keys([False]) realClasses\n",
      "5 CNOTS, 3 qubits: 1000 classes dict_keys([False]) realClasses\n",
      "6 CNOTS, 3 qubits: 1000 classes dict_keys([False]) realClasses\n",
      "7 CNOTS, 3 qubits: 1000 classes dict_keys([False]) realClasses\n",
      "8 CNOTS, 3 qubits: 1000 classes dict_keys([False]) realClasses\n",
      "9 CNOTS, 3 qubits: 1000 classes dict_keys([False]) realClasses\n",
      "10 CNOTS, 3 qubits: 1000 classes dict_keys([False]) realClasses\n",
      "11 CNOTS, 3 qubits: 1000 classes dict_keys([False]) realClasses\n",
      "12 CNOTS, 3 qubits: 1000 classes dict_keys([False]) realClasses\n",
      "13 CNOTS, 3 qubits: 1000 classes dict_keys([False]) realClasses\n",
      "14 CNOTS, 3 qubits: 1000 classes dict_keys([False]) realClasses\n"
     ]
    }
   ],
   "source": [
    "n_qubits = 3 \n",
    "\n",
    "def isReal(poly): \n",
    "    return np.alltrue(np.isclose(0, np.imag(poly)))\n",
    "\n",
    "def classify(poly):     \n",
    "    return sum(poly)\n",
    "\n",
    "\n",
    "for n_cnots in range(15): \n",
    "    classes = {}\n",
    "    realClasses = {}\n",
    "    for j in range(1000): \n",
    "        poly = np.round(np.poly(g3(special(randomCircuit(n_qubits,n_cnots)._unitary_()))),decimals=8)\n",
    "        p = classify(poly)\n",
    "        r = isReal(poly)\n",
    "        if not r in realClasses:\n",
    "            realClasses[r] = 1\n",
    "        else:\n",
    "            realClasses[r] = realClasses[r] + 1\n",
    "        if not p in classes:\n",
    "            classes[p] = 1\n",
    "        else:\n",
    "            classes[p] = classes[p] + 1\n",
    "    print(\"{} CNOTS, {} qubits: {} classes {} realClasses\".format(n_cnots, n_qubits, len(classes), realClasses.keys()))\n",
    "\n",
    "        \n",
    "\n"
   ]
  },
  {
   "cell_type": "code",
   "execution_count": 5,
   "metadata": {},
   "outputs": [
    {
     "name": "stdout",
     "output_type": "stream",
     "text": [
      "0 [ 1.        +0.j          0.        -2.05475754j -4.5027401 -0.j\n",
      " -0.        +5.58080544j  7.02550801+0.j          0.        -5.58080544j\n",
      " -4.5027401 -0.j         -0.        +2.05475754j  1.        -0.j        ]\n",
      "1 [ 1.        +0.j         -0.21847041-0.22517007j -0.11717671-1.55170286j\n",
      " -0.03062956+0.06898335j -1.79964313+0.j         -0.03062956-0.06898335j\n",
      " -0.11717671+1.55170286j -0.21847041+0.22517007j  1.        -0.j        ]\n",
      "2 [ 1.        +0.j          0.2607306 -1.49960013j -0.95437999-0.93007179j\n",
      " -0.90131251-0.15176924j -0.73142846-0.j         -0.90131251+0.15176924j\n",
      " -0.95437999+0.93007179j  0.2607306 +1.49960013j  1.        +0.j        ]\n",
      "3 [ 1.        +0.j          1.00507864+0.86646409j  0.14674854+1.01293472j\n",
      " -1.19439026+1.13932954j -2.3764642 -0.j         -1.19439026-1.13932954j\n",
      "  0.14674854-1.01293472j  1.00507864-0.86646409j  1.        +0.j        ]\n",
      "4 [ 1.        +0.j          0.5854688 +0.23707494j -0.32678023-0.18120758j\n",
      " -0.13724249+0.4183721j  -0.32158097-0.j         -0.13724249-0.4183721j\n",
      " -0.32678023+0.18120758j  0.5854688 -0.23707494j  1.        +0.j        ]\n",
      "5 [ 1.        +0.j         -0.72246006+0.37962517j  0.37065095-0.18422613j\n",
      " -0.57684016-0.14501952j  0.93159153+0.j         -0.57684016+0.14501952j\n",
      "  0.37065095+0.18422613j -0.72246006-0.37962517j  1.        +0.j        ]\n",
      "6 [ 1.        +0.j         -0.8555152 -1.67227075j -0.37971302+2.17767204j\n",
      "  2.18677327-2.20865536j -3.56627925+0.j          2.18677327+2.20865536j\n",
      " -0.37971302-2.17767204j -0.8555152 +1.67227075j  1.        +0.j        ]\n",
      "7 [ 1.        +0.j         -0.5371506 -0.76987269j  0.16940234+0.69646563j\n",
      "  0.15892116-0.26417378j -0.56418161-0.j          0.15892116+0.26417378j\n",
      "  0.16940234-0.69646563j -0.5371506 +0.76987269j  1.        -0.j        ]\n",
      "8 [ 1.        +0.j         -0.04006806+0.24104838j -0.11699591+0.59720465j\n",
      "  0.00276889-0.17370961j -0.96914864-0.j          0.00276889+0.17370961j\n",
      " -0.11699591-0.59720465j -0.04006806-0.24104838j  1.        +0.j        ]\n",
      "9 [ 1.        +0.j         -0.21772376+0.15775239j -0.04481122-0.45621674j\n",
      " -0.20597589+0.05212042j -0.73281602+0.j         -0.20597589-0.05212042j\n",
      " -0.04481122+0.45621674j -0.21772376-0.15775239j  1.        +0.j        ]\n",
      "10 [1.        +0.j         0.85800661-0.0934655j  0.6567622 -0.33541915j\n",
      " 0.71409   -0.60944089j 0.11991499+0.j         0.71409   +0.60944089j\n",
      " 0.6567622 +0.33541915j 0.85800661+0.0934655j  1.        +0.j        ]\n",
      "11 [ 1.        +0.j         -0.71023321-0.06673151j  0.25670335+0.16271112j\n",
      "  0.84070954-0.38678787j -1.39621375+0.j          0.84070954+0.38678787j\n",
      "  0.25670335-0.16271112j -0.71023321+0.06673151j  1.        +0.j        ]\n",
      "12 [ 1.        +0.j         -0.257715  -0.25577741j -0.10694776-0.16962348j\n",
      " -0.01282862+0.45404113j -0.2975126 +0.j         -0.01282862-0.45404113j\n",
      " -0.10694776+0.16962348j -0.257715  +0.25577741j  1.        -0.j        ]\n",
      "13 [ 1.        +0.j          0.9039267 +0.14202008j  0.51399789+0.10490429j\n",
      " -0.43345751+0.11157392j -0.54184842-0.j         -0.43345751-0.11157392j\n",
      "  0.51399789-0.10490429j  0.9039267 -0.14202008j  1.        +0.j        ]\n",
      "14 [ 1.        +0.j          0.24595913-0.38926092j -0.42839146-0.41485878j\n",
      " -0.36012365-0.60643857j -0.56158433+0.j         -0.36012365+0.60643857j\n",
      " -0.42839146+0.41485878j  0.24595913+0.38926092j  1.        -0.j        ]\n"
     ]
    }
   ],
   "source": [
    "for n_cnots in range(15): \n",
    "    print(n_cnots, np.round(np.poly(special(randomCircuit(3,n_cnots)._unitary_())),decimals=8))"
   ]
  },
  {
   "cell_type": "code",
   "execution_count": 6,
   "metadata": {},
   "outputs": [],
   "source": [
    "from cirq.linalg.decompositions import *"
   ]
  },
  {
   "cell_type": "code",
   "execution_count": 7,
   "metadata": {},
   "outputs": [
    {
     "data": {
      "text/plain": [
       "array([[ 0.+0.j,  0.+0.j,  0.+0.j,  1.+0.j],\n",
       "       [ 0.+0.j,  0.+0.j, -1.+0.j,  0.+0.j],\n",
       "       [ 0.+0.j, -1.+0.j,  0.+0.j,  0.+0.j],\n",
       "       [ 1.+0.j,  0.+0.j,  0.+0.j,  0.+0.j]])"
      ]
     },
     "execution_count": 7,
     "metadata": {},
     "output_type": "execute_result"
    }
   ],
   "source": [
    "# E E^T \n",
    "KAK_MAGIC @ KAK_MAGIC.T"
   ]
  },
  {
   "cell_type": "code",
   "execution_count": 8,
   "metadata": {},
   "outputs": [
    {
     "data": {
      "text/plain": [
       "array([[-0.-0.j, -0.-0.j, -0.-0.j,  1.+0.j],\n",
       "       [-0.-0.j, -0.-0.j, -1.-0.j, -0.-0.j],\n",
       "       [-0.-0.j, -1.-0.j, -0.-0.j, -0.-0.j],\n",
       "       [ 1.-0.j, -0.-0.j, -0.-0.j, -0.-0.j]])"
      ]
     },
     "execution_count": 8,
     "metadata": {},
     "output_type": "execute_result"
    }
   ],
   "source": [
    "# is the same as -(YY kron YY)\n",
    "- np.kron(cirq.Y._unitary_(), cirq.Y._unitary_())"
   ]
  },
  {
   "cell_type": "code",
   "execution_count": 9,
   "metadata": {},
   "outputs": [],
   "source": [
    "# we also know E SO(4) E* = SO(2)^(kron 2)"
   ]
  },
  {
   "cell_type": "code",
   "execution_count": 10,
   "metadata": {},
   "outputs": [
    {
     "name": "stdout",
     "output_type": "stream",
     "text": [
      "[[0.+0.j 0.+0.j 0.+0.j 0.+0.j 0.+0.j 0.+0.j 0.+0.j 1.+0.j]\n",
      " [0.+0.j 0.+0.j 0.+0.j 0.+0.j 0.+0.j 0.+0.j 1.+0.j 0.+0.j]\n",
      " [0.+0.j 0.+0.j 0.+0.j 0.+0.j 0.+0.j 1.+0.j 0.+0.j 0.+0.j]\n",
      " [0.+0.j 0.+0.j 0.+0.j 0.+0.j 1.+0.j 0.+0.j 0.+0.j 0.+0.j]\n",
      " [0.+0.j 0.+0.j 0.+0.j 1.+0.j 0.+0.j 0.+0.j 0.+0.j 0.+0.j]\n",
      " [0.+0.j 0.+0.j 1.+0.j 0.+0.j 0.+0.j 0.+0.j 0.+0.j 0.+0.j]\n",
      " [0.+0.j 1.+0.j 0.+0.j 0.+0.j 0.+0.j 0.+0.j 0.+0.j 0.+0.j]\n",
      " [1.+0.j 0.+0.j 0.+0.j 0.+0.j 0.+0.j 0.+0.j 0.+0.j 0.+0.j]]\n"
     ]
    }
   ],
   "source": [
    "# 1. do we have a GHZ based 3 qubit magic basis that does the same for SO(8) = SO(2)^(kron 3) \n",
    "# - ie convert real special orthogonal matrices to local unitaries? \n",
    "\n",
    "# 2. if yes, can we use that similarly to define g3 that will then create \n",
    "\n",
    "print(np.array2string(np.kron(np.kron(cirq.X._unitary_(), cirq.X._unitary_()),cirq.X._unitary_())))"
   ]
  },
  {
   "cell_type": "code",
   "execution_count": 11,
   "metadata": {},
   "outputs": [],
   "source": [
    "a,b,c = cirq.LineQubit.range(3)\n",
    "res = cirq.Simulator().simulate(cirq.Circuit([cirq.H(a), cirq.CNOT(a,b), cirq.CNOT(a,c)]))"
   ]
  },
  {
   "cell_type": "code",
   "execution_count": 12,
   "metadata": {},
   "outputs": [],
   "source": [
    "psi = res.final_state"
   ]
  },
  {
   "cell_type": "code",
   "execution_count": 13,
   "metadata": {},
   "outputs": [],
   "source": [
    "rho = np.outer(psi.conj().T, psi)"
   ]
  },
  {
   "cell_type": "code",
   "execution_count": 14,
   "metadata": {},
   "outputs": [
    {
     "name": "stdout",
     "output_type": "stream",
     "text": [
      "[[0.5+0.j 0. +0.j 0. +0.j 0. +0.j 0. +0.j 0. +0.j 0. +0.j 0.5+0.j]\n",
      " [0. +0.j 0. +0.j 0. +0.j 0. +0.j 0. +0.j 0. +0.j 0. +0.j 0. +0.j]\n",
      " [0. +0.j 0. +0.j 0. +0.j 0. +0.j 0. +0.j 0. +0.j 0. +0.j 0. +0.j]\n",
      " [0. +0.j 0. +0.j 0. +0.j 0. +0.j 0. +0.j 0. +0.j 0. +0.j 0. +0.j]\n",
      " [0. -0.j 0. -0.j 0. -0.j 0. -0.j 0. +0.j 0. +0.j 0. +0.j 0. -0.j]\n",
      " [0. -0.j 0. -0.j 0. -0.j 0. -0.j 0. +0.j 0. +0.j 0. +0.j 0. -0.j]\n",
      " [0. -0.j 0. -0.j 0. -0.j 0. -0.j 0. +0.j 0. +0.j 0. +0.j 0. -0.j]\n",
      " [0.5+0.j 0. +0.j 0. +0.j 0. +0.j 0. +0.j 0. +0.j 0. +0.j 0.5+0.j]]\n"
     ]
    }
   ],
   "source": [
    "np.set_printoptions(suppress=True, precision=2)\n",
    "print(np.array2string(rho))"
   ]
  },
  {
   "cell_type": "code",
   "execution_count": 15,
   "metadata": {},
   "outputs": [
    {
     "name": "stdout",
     "output_type": "stream",
     "text": [
      "[[1.+0.j 0.+0.j 0.+0.j 0.+0.j 0.+0.j 0.+0.j 0.+0.j 0.+0.j]\n",
      " [0.+0.j 1.+0.j 0.+0.j 0.+0.j 0.+0.j 0.+0.j 0.+0.j 0.+0.j]\n",
      " [0.+0.j 0.+0.j 1.+0.j 0.+0.j 0.+0.j 0.+0.j 0.+0.j 0.+0.j]\n",
      " [0.+0.j 0.+0.j 0.+0.j 1.+0.j 0.+0.j 0.+0.j 0.+0.j 0.+0.j]\n",
      " [0.+0.j 0.+0.j 0.+0.j 0.+0.j 1.+0.j 0.+0.j 0.+0.j 0.+0.j]\n",
      " [0.+0.j 0.+0.j 0.+0.j 0.+0.j 0.+0.j 1.+0.j 0.+0.j 0.+0.j]\n",
      " [0.+0.j 0.+0.j 0.+0.j 0.+0.j 0.+0.j 0.+0.j 1.+0.j 0.+0.j]\n",
      " [0.+0.j 0.+0.j 0.+0.j 0.+0.j 0.+0.j 0.+0.j 0.+0.j 1.+0.j]]\n"
     ]
    }
   ],
   "source": [
    "E3 = np.array([\n",
    "    [0,1,0,0,0  ,0,0,1j],\n",
    "    [0,0,1,0,0  ,0,1j,0],\n",
    "    [0,0,0,1,0  ,1j,0,0],\n",
    "    [1,0,0,0,1j,0,0,0],\n",
    "    [1,0,0,0,-1j ,0,0,0],\n",
    "    [0,0,0,1,0  ,-1j ,0,0],\n",
    "    [0,0,1,0,0  ,0,-1j,0],\n",
    "    [0,1,0,0,0  ,0,0,-1j],\n",
    "]) * 1/np.sqrt(2)\n",
    "np.set_printoptions(suppress=True, precision=2)\n",
    "print(np.array2string(E3 @ E3.conj().T))"
   ]
  },
  {
   "cell_type": "code",
   "execution_count": 16,
   "metadata": {},
   "outputs": [],
   "source": [
    "np.testing.assert_almost_equal(E3 @ E3.conj().T, np.eye(8))"
   ]
  },
  {
   "cell_type": "markdown",
   "metadata": {},
   "source": [
    "``` \n",
    "100 + 011 = 4 + 3 \n",
    "111 + 000 = 7 + 0 \n",
    "110 + 001 = 6 + 1\n",
    "101 + 010 = 5 + 2 \n",
    "\n",
    "-i ( 111-000 ) = 7 - 0 \n",
    "-i ( 100-011 ) = 4 - 3 \n",
    "-i ( 101-010 ) = 5 - 2 \n",
    "-i ( 110-001 ) = 6 - 1\n",
    "\n",
    "```\n"
   ]
  },
  {
   "cell_type": "code",
   "execution_count": 17,
   "metadata": {},
   "outputs": [
    {
     "name": "stdout",
     "output_type": "stream",
     "text": [
      "[[0.+0.j 0.+0.j 0.+0.j 0.+0.j 0.+0.j 0.+0.j 0.+0.j 1.+0.j]\n",
      " [0.+0.j 0.+0.j 0.+0.j 0.+0.j 0.+0.j 0.+0.j 1.+0.j 0.+0.j]\n",
      " [0.+0.j 0.+0.j 0.+0.j 0.+0.j 0.+0.j 1.+0.j 0.+0.j 0.+0.j]\n",
      " [0.+0.j 0.+0.j 0.+0.j 0.+0.j 1.+0.j 0.+0.j 0.+0.j 0.+0.j]\n",
      " [0.+0.j 0.+0.j 0.+0.j 1.+0.j 0.+0.j 0.+0.j 0.+0.j 0.+0.j]\n",
      " [0.+0.j 0.+0.j 1.+0.j 0.+0.j 0.+0.j 0.+0.j 0.+0.j 0.+0.j]\n",
      " [0.+0.j 1.+0.j 0.+0.j 0.+0.j 0.+0.j 0.+0.j 0.+0.j 0.+0.j]\n",
      " [1.+0.j 0.+0.j 0.+0.j 0.+0.j 0.+0.j 0.+0.j 0.+0.j 0.+0.j]]\n"
     ]
    }
   ],
   "source": [
    "print(np.array2string(E3 @ E3.T))"
   ]
  },
  {
   "cell_type": "code",
   "execution_count": 18,
   "metadata": {},
   "outputs": [
    {
     "data": {
      "text/plain": [
       "array([0.+0.71j, 0.+0.j  , 0.+0.j  , 0.-0.71j])"
      ]
     },
     "execution_count": 18,
     "metadata": {},
     "output_type": "execute_result"
    }
   ],
   "source": [
    "MAGIC @ np.array([0,0,0,1])"
   ]
  },
  {
   "cell_type": "code",
   "execution_count": 19,
   "metadata": {},
   "outputs": [
    {
     "data": {
      "text/plain": [
       "array([[ 1.+0.j,  0.+0.j,  0.+0.j,  0.+1.j],\n",
       "       [ 0.+0.j,  0.+1.j,  1.+0.j,  0.+0.j],\n",
       "       [ 0.+0.j,  0.+1.j, -1.+0.j,  0.+0.j],\n",
       "       [ 1.+0.j,  0.+0.j,  0.+0.j,  0.-1.j]])"
      ]
     },
     "execution_count": 19,
     "metadata": {},
     "output_type": "execute_result"
    }
   ],
   "source": [
    "MAGIC * np.sqrt(2)"
   ]
  },
  {
   "cell_type": "code",
   "execution_count": 20,
   "metadata": {},
   "outputs": [
    {
     "data": {
      "text/plain": [
       "array([[-0.11+0.55j,  0.15+0.31j, -0.23+0.46j, -0.17-0.13j,  0.06+0.18j,\n",
       "         0.03+0.26j, -0.16+0.25j, -0.11-0.22j],\n",
       "       [ 0.21+0.07j, -0.25+0.5j , -0.05-0.25j, -0.2 +0.52j,  0.09-0.04j,\n",
       "        -0.26+0.23j, -0.03+0.06j, -0.07+0.34j],\n",
       "       [-0.16-0.41j,  0.23+0.06j,  0.11+0.02j, -0.35+0.06j,  0.3 -0.44j,\n",
       "        -0.17+0.28j, -0.11-0.04j, -0.07-0.45j],\n",
       "       [-0.23-0.02j, -0.02+0.21j,  0.43+0.1j ,  0.27-0.15j, -0.1 -0.23j,\n",
       "        -0.38-0.18j,  0.07+0.59j,  0.1 +0.11j],\n",
       "       [-0.34+0.1j , -0.15-0.09j, -0.17-0.17j,  0.17+0.1j ,  0.7 +0.03j,\n",
       "         0.2 -0.06j,  0.4 +0.21j, -0.08-0.01j],\n",
       "       [ 0.01+0.18j, -0.06-0.17j,  0.03-0.24j, -0.31-0.19j,  0.08-0.29j,\n",
       "         0.37+0.14j, -0.31+0.26j,  0.51+0.27j],\n",
       "       [-0.14+0.42j,  0.18-0.33j,  0.21+0.03j,  0.09+0.47j,  0.12+0.06j,\n",
       "        -0.35-0.07j, -0.15-0.23j,  0.38-0.13j],\n",
       "       [ 0.1 +0.17j,  0.49+0.14j, -0.15-0.53j,  0.01-0.11j,  0.1 -0.01j,\n",
       "        -0.08-0.44j, -0.3 +0.1j , -0.27-0.07j]])"
      ]
     },
     "execution_count": 20,
     "metadata": {},
     "output_type": "execute_result"
    }
   ],
   "source": [
    "randomCircuit(3,3)._unitary_()"
   ]
  },
  {
   "cell_type": "code",
   "execution_count": null,
   "metadata": {},
   "outputs": [],
   "source": []
  },
  {
   "cell_type": "code",
   "execution_count": null,
   "metadata": {},
   "outputs": [],
   "source": []
  }
 ],
 "metadata": {
  "kernelspec": {
   "display_name": "Python 3",
   "language": "python",
   "name": "python3"
  },
  "language_info": {
   "codemirror_mode": {
    "name": "ipython",
    "version": 3
   },
   "file_extension": ".py",
   "mimetype": "text/x-python",
   "name": "python",
   "nbconvert_exporter": "python",
   "pygments_lexer": "ipython3",
   "version": "3.7.5"
  }
 },
 "nbformat": 4,
 "nbformat_minor": 2
}
