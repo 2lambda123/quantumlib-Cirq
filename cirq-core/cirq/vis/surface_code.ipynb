{
 "cells": [
  {
   "cell_type": "markdown",
   "id": "cd018787",
   "metadata": {},
   "source": [
    "# Surface Code Drawing"
   ]
  },
  {
   "cell_type": "code",
   "execution_count": null,
   "id": "8f0fdad6",
   "metadata": {},
   "outputs": [],
   "source": [
    "%matplotlib inline\n",
    "from matplotlib import pyplot as plt\n",
    "\n",
    "import matplotlib\n",
    "matplotlib.rcParams.update(**{\n",
    "    'axes.titlesize': 14,\n",
    "    'axes.labelsize': 14,\n",
    "    'xtick.labelsize': 12,\n",
    "    'ytick.labelsize': 12,\n",
    "    'legend.fontsize': 12,\n",
    "    'legend.title_fontsize': 12,\n",
    "    'figure.figsize': (7, 5),\n",
    "})"
   ]
  },
  {
   "cell_type": "code",
   "execution_count": null,
   "id": "dfcf379e",
   "metadata": {},
   "outputs": [],
   "source": [
    "from cirq.vis.surface_code import *"
   ]
  },
  {
   "cell_type": "markdown",
   "id": "a791adfa",
   "metadata": {},
   "source": [
    "## Qubits"
   ]
  },
  {
   "cell_type": "code",
   "execution_count": null,
   "id": "4a3ad138",
   "metadata": {},
   "outputs": [],
   "source": [
    "width = 7\n",
    "height = 7\n",
    "data, meas = get_data_and_meas_qubits(width, height, False)\n",
    "\n",
    "fig, ax = plt.subplots(figsize=(4,4))\n",
    "ax.scatter([x for x,y in data], [y for x,y in data])\n",
    "ax.scatter([x for x,y in meas], [y for x,y in meas])\n",
    "\n",
    "ax.axis('equal')\n",
    "fig.tight_layout()"
   ]
  },
  {
   "cell_type": "markdown",
   "id": "aad5a70a",
   "metadata": {},
   "source": [
    "## Connected Qubits"
   ]
  },
  {
   "cell_type": "code",
   "execution_count": null,
   "id": "740eb310",
   "metadata": {},
   "outputs": [],
   "source": [
    "width = 7\n",
    "height = 7\n",
    "data, meas = get_data_and_meas_qubits(width, height, False)\n",
    "\n",
    "fig, ax = plt.subplots(figsize=(4,4))\n",
    "ax.scatter([x for x,y in data], [y for x,y in data], zorder=10)\n",
    "ax.scatter([x for x,y in meas], [y for x,y in meas], zorder=10)\n",
    "\n",
    "g = wire_up_graph(data, meas)\n",
    "nx.draw_networkx_edges(g, pos={n:n for n in g.nodes}, ax=ax)\n",
    "\n",
    "ax.axis('equal')\n",
    "fig.tight_layout()"
   ]
  },
  {
   "cell_type": "markdown",
   "id": "daca2b81",
   "metadata": {},
   "source": [
    "## Stabilizers"
   ]
  },
  {
   "cell_type": "code",
   "execution_count": null,
   "id": "4184b5d0",
   "metadata": {},
   "outputs": [],
   "source": [
    "width = 7\n",
    "height = 7\n",
    "data, meas = get_data_and_meas_qubits(width, height, False)\n",
    "\n",
    "fig, ax = plt.subplots(figsize=(4,4))\n",
    "ax.scatter([x for x,y in data], [y for x,y in data], zorder=10, color='black')\n",
    "ax.scatter([x for x,y in meas], [y for x,y in meas], zorder=10, color='white', ec='black')\n",
    "\n",
    "g = wire_up_graph(data, meas)\n",
    "nx.draw_networkx_edges(g, pos={n:n for n in g.nodes}, ax=ax)\n",
    "\n",
    "\n",
    "for stab in iter_stabilizers(width, height, False):\n",
    "    fc = 'red' if stab.stabtype else 'blue'\n",
    "    x = 2*stab.x\n",
    "    y = 2*stab.y\n",
    "    ax.add_patch(plt.Rectangle((x,y), 2, 2, fc=fc, zorder=20, alpha=0.2))\n",
    "\n",
    "ax.axis('equal')\n",
    "fig.tight_layout()"
   ]
  },
  {
   "cell_type": "markdown",
   "id": "9ec55217",
   "metadata": {},
   "source": [
    "## Pretty Drawing Functions"
   ]
  },
  {
   "cell_type": "code",
   "execution_count": null,
   "id": "28313acb",
   "metadata": {},
   "outputs": [],
   "source": [
    "fig, ax = plt.subplots(figsize=(10,7))\n",
    "\n",
    "d = 7\n",
    "draw_tile(d, d, True,  ax=ax, draw_couplings=False)\n",
    "draw_tile(d, d, False, ax=ax, offset_x=d, qubit_size=0)\n",
    "draw_tile(d, d, False, ax=ax, offset_y=d)\n",
    "draw_tile(d, d, True,  ax=ax, offset_x=d, offset_y=d, draw_couplings=False, qubit_size=0)\n",
    "\n",
    "draw_tile_outline(d,d, True, offset_x=2*d, ax=ax)\n",
    "\n",
    "ax.axis('off')\n",
    "fig.tight_layout()"
   ]
  },
  {
   "cell_type": "markdown",
   "id": "6cc9993e",
   "metadata": {},
   "source": [
    "## Many Tiles"
   ]
  },
  {
   "cell_type": "code",
   "execution_count": null,
   "id": "f8012116",
   "metadata": {},
   "outputs": [],
   "source": [
    "fig, ax = plt.subplots(figsize=(15,5))\n",
    "\n",
    "ds = [3, 7, 9, 11, 13]\n",
    "spacing = 1\n",
    "\n",
    "for i, d in enumerate(ds):\n",
    "    draw_tile(d, d, True, offset_x=sum(ds[:i])+spacing*i, ax=ax, draw_couplings=False, qubit_size=3)\n",
    "\n",
    "ax.axis('off')\n",
    "fig.tight_layout()"
   ]
  },
  {
   "cell_type": "code",
   "execution_count": null,
   "id": "4df2d829",
   "metadata": {},
   "outputs": [],
   "source": [
    "fig, ax = plt.subplots(figsize=(8,8))\n",
    "\n",
    "for x in range(8):\n",
    "    for y in range(4):\n",
    "        draw_tile_outline(7, 7, True, ax=ax, offset_x=7*x - 8 * 7, offset_y=7*y)\n",
    "\n",
    "\n",
    "for x in range(3):\n",
    "    for y in range(8):\n",
    "        draw_tile_outline(15, 15, True, ax=ax, offset_x=15*x, offset_y=15*y)\n",
    "        \n",
    "ax.axis('off')\n",
    "fig.tight_layout()"
   ]
  }
 ],
 "metadata": {
  "kernelspec": {
   "display_name": "Python 3",
   "language": "python",
   "name": "python3"
  },
  "language_info": {
   "codemirror_mode": {
    "name": "ipython",
    "version": 3
   },
   "file_extension": ".py",
   "mimetype": "text/x-python",
   "name": "python",
   "nbconvert_exporter": "python",
   "pygments_lexer": "ipython3",
   "version": "3.10.9"
  }
 },
 "nbformat": 4,
 "nbformat_minor": 5
}
