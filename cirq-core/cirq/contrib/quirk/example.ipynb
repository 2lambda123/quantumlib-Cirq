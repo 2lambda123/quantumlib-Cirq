{
 "cells": [
  {
   "cell_type": "code",
   "execution_count": 1,
   "metadata": {},
   "outputs": [],
   "source": [
    "import cirq\n",
    "\n",
    "from cirq.contrib.quirk.export_to_quirk import circuit_to_quirk_url\n",
    "from cirq import circuits\n",
    "from pyQuirk import Quirk"
   ]
  },
  {
   "cell_type": "code",
   "execution_count": 2,
   "metadata": {},
   "outputs": [],
   "source": [
    "def circuit_to_quirk(circuit: circuits.Circuit):\n",
    "    \"\"\"Returns a Quirk Editor embed for the given circuit.\n",
    "\n",
    "    Args:\n",
    "        circuit: The circuit to open in Quirk.\n",
    "\n",
    "    Returns:\n",
    "        A Quirk embed with the given circuit.\n",
    "    \"\"\"\n",
    "    circuit_qasm = circuit.to_qasm(header=\"\")\n",
    "\n",
    "    # Format the qasm string to fit the Quirk's requirements\n",
    "    quirk_qasm = \"\\n\".join(\n",
    "        [\n",
    "            line.rstrip()\n",
    "            for line in circuit_qasm.splitlines()\n",
    "            if (line.strip() and not line.startswith('//'))\n",
    "            # TODO: some keywords cause an Error. (eg: `reset`)\n",
    "        ]\n",
    "    )\n",
    "\n",
    "    # TODO: Return a Quirk embed instead of the QASM string\n",
    "    return quirk_qasm"
   ]
  },
  {
   "cell_type": "code",
   "execution_count": 3,
   "metadata": {},
   "outputs": [],
   "source": [
    "a, b = cirq.LineQubit.range(2)\n",
    "c = cirq.Circuit(cirq.H(a), cirq.CNOT(a, b))"
   ]
  },
  {
   "cell_type": "code",
   "execution_count": 4,
   "metadata": {},
   "outputs": [
    {
     "name": "stdout",
     "output_type": "stream",
     "text": [
      "OPENQASM 2.0;\n",
      "include \"qelib1.inc\";\n",
      "qreg q[2];\n",
      "h q[0];\n",
      "cx q[0],q[1];\n"
     ]
    }
   ],
   "source": [
    "modified_qasm = circuit_to_quirk(c)\n",
    "print(modified_qasm)"
   ]
  },
  {
   "cell_type": "code",
   "execution_count": 5,
   "metadata": {},
   "outputs": [
    {
     "data": {
      "application/vnd.jupyter.widget-view+json": {
       "model_id": "be21b6dae38443fab3651d2b2a52600f",
       "version_major": 2,
       "version_minor": 0
      },
      "text/plain": [
       "Quirk(scale=0.8)"
      ]
     },
     "metadata": {},
     "output_type": "display_data"
    }
   ],
   "source": [
    "# Launches an instance of the Quirk Editor as an embed\n",
    "quirk = Quirk(scale=0.8)\n",
    "quirk"
   ]
  },
  {
   "cell_type": "code",
   "execution_count": 6,
   "metadata": {},
   "outputs": [],
   "source": [
    "# Imports the QASM into the embed\n",
    "quirk.update_from_qasm(modified_qasm)"
   ]
  }
 ],
 "metadata": {
  "interpreter": {
   "hash": "459065f83c55c5ec87435afb9cf974e2bae185d60e66b2525285e1b3ed864f05"
  },
  "kernelspec": {
   "display_name": "Python 3 (ipykernel)",
   "language": "python",
   "name": "python3"
  },
  "language_info": {
   "codemirror_mode": {
    "name": "ipython",
    "version": 3
   },
   "file_extension": ".py",
   "mimetype": "text/x-python",
   "name": "python",
   "nbconvert_exporter": "python",
   "pygments_lexer": "ipython3",
   "version": "3.8.5"
  }
 },
 "nbformat": 4,
 "nbformat_minor": 4
}
