{
  "nbformat": 4,
  "nbformat_minor": 0,
  "metadata": {
    "accelerator": "GPU",
    "colab": {
      "name": "supremacy_cir_with_cupy.ipynb",
      "provenance": [],
      "collapsed_sections": []
    },
    "kernelspec": {
      "display_name": "Python 3",
      "name": "python3"
    }
  },
  "cells": [
    {
      "cell_type": "code",
      "metadata": {
        "id": "0H7_YQLZXSKV"
      },
      "source": [
        "\n",
        "# from google.colab import  drive\n",
        "# drive.mount('/content/drive')\n",
        "\n",
        "# You can instead clone the cirq_cupy repo"
      ],
      "execution_count": null,
      "outputs": []
    },
    {
      "cell_type": "code",
      "metadata": {
        "id": "ur6uAwFDXkVe"
      },
      "source": [
        "# %cd drive/My\\ Drive/"
      ],
      "execution_count": null,
      "outputs": []
    },
    {
      "cell_type": "code",
      "metadata": {
        "id": "eSdrsDr8X9uB"
      },
      "source": [
        "# navigate to the Cirq repo in cirq\n",
        "%cd Cirq"
      ],
      "execution_count": null,
      "outputs": []
    },
    {
      "cell_type": "code",
      "metadata": {
        "id": "et0Pktp5YuZT"
      },
      "source": [
        "import cirq\n",
        "import time\n",
        "import cupy as cp\n",
        "start_time = time.time()\n",
        "function=0\n",
        "Dtime_result = []\n",
        "for n in range(3,28):\n",
        "  q = [cirq.NamedQubit(\"a\"+str(i)) for i in range(n)]\n",
        "  circuit = cirq.Circuit()\n",
        "  moments = [cirq.H(q[i]) for i in range(n)]\n",
        "  if function!=None:\n",
        "      for i in range(n-1):\n",
        "        moments += [cirq.CNOT(q[i], q[-1])]\n",
        "\n",
        "  moments += [cirq.H(q[i]) for i in range(n-1)]\n",
        "  circuit.append(moments)\n",
        "\n",
        "  simulator = cirq.Simulator()\n",
        "  initial_state = cp.array([0]*(2**n))\n",
        "  initial_state[1] = 1\n",
        "  results = simulator.simulate(circuit, initial_state=initial_state, qubit_order=q)\n",
        "  Dtime_result.append(time.time() - start_time)"
      ],
      "execution_count": 5,
      "outputs": []
    },
    {
      "cell_type": "code",
      "metadata": {
        "colab": {
          "base_uri": "https://localhost:8080/"
        },
        "id": "NqzZ7lBIxdFp",
        "outputId": "3540ee85-2662-42e1-cb54-8311254e742f"
      },
      "source": [
        "Dtime_result"
      ],
      "execution_count": null,
      "outputs": [
        {
          "output_type": "execute_result",
          "data": {
            "text/plain": [
              "[0.005408048629760742,\n",
              " 0.011189937591552734,\n",
              " 0.01640939712524414,\n",
              " 0.022728681564331055,\n",
              " 0.030040502548217773,\n",
              " 0.03853297233581543,\n",
              " 0.04846549034118652,\n",
              " 0.05917048454284668,\n",
              " 0.07071423530578613,\n",
              " 0.08397936820983887,\n",
              " 0.09830236434936523,\n",
              " 0.11416292190551758,\n",
              " 0.13199234008789062,\n",
              " 0.15342473983764648,\n",
              " 0.17996597290039062,\n",
              " 0.2169175148010254,\n",
              " 0.2715115547180176,\n",
              " 0.3690464496612549,\n",
              " 0.5572605133056641,\n",
              " 0.9344820976257324,\n",
              " 1.6972339153289795,\n",
              " 3.0916144847869873,\n",
              " 5.971081256866455,\n",
              " 11.6922447681427,\n",
              " 23.124481201171875]"
            ]
          },
          "metadata": {
            "tags": []
          },
          "execution_count": 24
        }
      ]
    },
    {
      "cell_type": "code",
      "metadata": {
        "id": "Ugx7NAbPkoAK"
      },
      "source": [
        "import cupy as cp\n",
        "import cirq\n",
        "import time\n",
        "from cirq.experiments.google_v2_supremacy_circuit import *\n",
        "def experiment1(n, m, cz_depth, seed, qubits_to_be_ignored=None):\n",
        "  # qubits = [cirq.GridQubit(i,j) for i in range(n) for j in range(n)]\n",
        "  circuit = generate_boixo_2018_supremacy_circuits_v2_grid(n_rows=n, n_cols=m, cz_depth=cz_depth, seed=seed)\n",
        "  supremacy_circuit = cirq.Circuit()\n",
        "  for moment in circuit:\n",
        "    for operation in moment:\n",
        "      if not set(qubits_to_be_ignored) & set(operation.qubits):\n",
        "        supremacy_circuit.append(operation)\n",
        "  s = n*m-len(qubits_to_be_ignored)\n",
        "  initial_state_vector = cp.array([0]*2**s)\n",
        "  initial_state_vector[0] = 1\n",
        "  time_result = []\n",
        "  qubits = list(supremacy_circuit.all_qubits())\n",
        "  for p in range(10):\n",
        "    start_time = time.time()\n",
        "    simulator = cirq.Simulator()\n",
        "    results = simulator.simulate(supremacy_circuit, initial_state = initial_state_vector, qubit_order = qubits)\n",
        "    time_result.append(time.time() - start_time)\n",
        "  time_result = cp.array(time_result)\n",
        "  return supremacy_circuit, results, cp.mean(time_result)\n"
      ],
      "execution_count": 39,
      "outputs": []
    },
    {
      "cell_type": "code",
      "metadata": {
        "colab": {
          "base_uri": "https://localhost:8080/"
        },
        "id": "DG112IxqllJF",
        "outputId": "afceaead-778a-4f2e-f58c-614a287ac126"
      },
      "source": [
        "import numpy as np\n",
        "from itertools import product\n",
        "from random import sample\n",
        "time_results = []\n",
        "c, r, mt = experiment1(n=2, m=2, cz_depth=4, seed=2, qubits_to_be_ignored=[])\n",
        "X = [4]\n",
        "time_results.append(mt)\n",
        "\n",
        "for n in range(3,6):\n",
        "  list_of_indices = list(product(range(n),repeat=2))\n",
        "  for i in range(2*n-2, -1,-1):\n",
        "    X.append(n**2-i)\n",
        "    qubits_to_be_ignored = [cirq.GridQubit(x[0], x[1]) for x in sample(list_of_indices, i)]\n",
        "    circuit, result, x = experiment1(n=n, m=n, cz_depth=2*n,seed=2, qubits_to_be_ignored=qubits_to_be_ignored)\n",
        "  # circuit, result, x = experiment1(n=n, m=n, cz_depth=2*n,seed=2)\n",
        "    time_results.append(x)\n",
        "\n",
        "c, r, mt = experiment1(n=7, m=4, cz_depth=14, seed=1, qubits_to_be_ignored=[cirq.GridQubit(0,0), cirq.GridQubit(0,1)])\n",
        "X.append(26)\n",
        "time_results.append(mt)\n",
        "\n",
        "c, r, mt = experiment1(n=7, m=4, cz_depth=14, seed=1, qubits_to_be_ignored=[cirq.GridQubit(0,0)])\n",
        "X.append(27)\n",
        "time_results.append(mt)\n",
        "\n",
        "\n",
        "X = np.array(X)\n",
        "y1 = np.array(time_results)\n",
        "\n",
        "# These numbers are from the supremacy_cir_with_numpy\n",
        "y2 = np.array([0.004195451736450195, 0.0038480520248413085, 0.005486869812011718, 0.004797840118408203, 0.006438493728637695, 0.008353686332702637, 0.008139204978942872, 0.010401463508605957, 0.011721992492675781, 0.01622469425201416, 0.021231603622436524, 0.030955195426940918, 0.05592355728149414, 0.20605340003967285, 0.34598114490509035, 0.5079902172088623, 1.0100622415542602, 2.0481415510177614, 4.197118926048279, 8.385995697975158, 16.85278730392456, 36.125806427001955, 94.51600887775422, 198.4059149980545])\n",
        "y3 = np.array([0.0036581993103027345, 0.001595783233642578, 0.0019182443618774414, 0.00233311653137207, 0.0025788545608520508, 0.0027222633361816406, 0.002931499481201172, 0.0032016992568969726, 0.00416877269744873, 0.003957128524780274, 0.004674053192138672, 0.005312824249267578, 0.007239437103271485, 0.009012174606323243, 0.012385129928588867, 0.02064509391784668, 0.04414701461791992, 0.10217959880828857, 0.2147991418838501, 0.46319141387939455, 1.031615924835205, 2.1322256326675415, 5.9295084238052365, 12.252466011047364])\n",
        "y1"
      ],
      "execution_count": 42,
      "outputs": [
        {
          "output_type": "execute_result",
          "data": {
            "text/plain": [
              "array([array(0.00625405), array(0.00901821), array(0.01123056),\n",
              "       array(0.01364348), array(0.01479173), array(0.01684647),\n",
              "       array(0.01985195), array(0.02334197), array(0.02363589),\n",
              "       array(0.02542107), array(0.02823827), array(0.03017416),\n",
              "       array(0.03260214), array(0.04164526), array(0.04168057),\n",
              "       array(0.0439697), array(0.05285158), array(0.07547131),\n",
              "       array(0.1434798), array(0.28128653), array(0.57800946),\n",
              "       array(1.21078665), array(3.08967879), array(6.42504966)],\n",
              "      dtype=object)"
            ]
          },
          "metadata": {
            "tags": []
          },
          "execution_count": 42
        }
      ]
    },
    {
      "cell_type": "code",
      "metadata": {
        "colab": {
          "base_uri": "https://localhost:8080/",
          "height": 313
        },
        "id": "4KmMeoYNhJxB",
        "outputId": "cb504c29-746a-4d79-cd32-7123c07fdcb2"
      },
      "source": [
        "# Ploting the supremacy circuits' execution time\n",
        "import matplotlib.pyplot as plt\n",
        "import numpy as np\n",
        "plt.figure()\n",
        "plt.plot(X,y1, label=\"time execution with cupy\", marker='o')\n",
        "plt.yscale('log')\n",
        "plt.plot(X,y2, label=\"time execution with numpy\", marker=\"x\")\n",
        "plt.yscale('log')\n",
        "plt.plot(X,y3, label=\"time execution with qsim\")\n",
        "plt.yscale('log')\n",
        "plt.xlabel(\"Number of qubits\")\n",
        "plt.ylabel(\"execution time in seconds\")\n",
        "plt.title(\"Supremacy circuit execution time\")\n",
        "plt.legend()"
      ],
      "execution_count": 43,
      "outputs": [
        {
          "output_type": "execute_result",
          "data": {
            "text/plain": [
              "<matplotlib.legend.Legend at 0x7f28c3f17e10>"
            ]
          },
          "metadata": {
            "tags": []
          },
          "execution_count": 43
        },
        {
          "output_type": "display_data",
          "data": {
            "image/png": "[encoded data removed]",
            "text/plain": [
              "<Figure size 432x288 with 1 Axes>"
            ]
          },
          "metadata": {
            "tags": [],
            "needs_background": "light"
          }
        }
      ]
    },
    {
      "cell_type": "code",
      "metadata": {
        "id": "virfaPaEh9Ok"
      },
      "source": [
        "# Deutsch alg execution time with cupy \n",
        "y3 = Dtime_result\n",
        "\n",
        "# These numbers are from supremacy_cir_with_numpy\n",
        "y4 = [0.005854129791259766,\n",
        " 0.0013790130615234375,\n",
        " 0.0014646053314208984,\n",
        " 0.001741170883178711,\n",
        " 0.002026081085205078,\n",
        " 0.0024695396423339844,\n",
        " 0.0027348995208740234,\n",
        " 0.003202676773071289,\n",
        " 0.003937721252441406,\n",
        " 0.004748106002807617,\n",
        " 0.005673408508300781,\n",
        " 0.007822751998901367,\n",
        " 0.011965274810791016,\n",
        " 0.02459120750427246,\n",
        " 0.042424678802490234,\n",
        " 0.07975006103515625,\n",
        " 0.15691471099853516,\n",
        " 0.34197497367858887,\n",
        " 0.7501974105834961,\n",
        " 1.543952226638794,\n",
        " 3.1929843425750732,\n",
        " 6.614231109619141,\n",
        " 13.492998838424683,\n",
        " 27.667491674423218,\n",
        " 56.77741861343384]"
      ],
      "execution_count": null,
      "outputs": []
    },
    {
      "cell_type": "code",
      "metadata": {
        "colab": {
          "base_uri": "https://localhost:8080/",
          "height": 313
        },
        "id": "D7UDQJvllAbA",
        "outputId": "157e2c84-5804-4546-98d6-3392f1e833bb"
      },
      "source": [
        "# Plotting Deutsch alg execution \n",
        "import matplotlib.pyplot as plt\n",
        "import numpy as np\n",
        "y3 = np.array(y3)\n",
        "y4 = np.array(y4)\n",
        "x = np.array(range(3,28))\n",
        "plt.figure()\n",
        "plt.plot(x,y3, label=\"time execution with cupy\", marker=\"o\")\n",
        "plt.yscale('log')\n",
        "plt.plot(x,y4, label=\"time execution with numpy\", marker=\"x\")\n",
        "plt.yscale('log')\n",
        "plt.xlabel(\"Number of qubits\")\n",
        "plt.ylabel(\"execution time in seconds\")\n",
        "plt.title(\"Deutsch algorithm execution time\")\n",
        "plt.legend()"
      ],
      "execution_count": null,
      "outputs": [
        {
          "output_type": "execute_result",
          "data": {
            "text/plain": [
              "<matplotlib.legend.Legend at 0x7fb7a4032978>"
            ]
          },
          "metadata": {
            "tags": []
          },
          "execution_count": 9
        },
        {
          "output_type": "display_data",
          "data": {
            "image/png": "[encoded data removed]",
            "text/plain": [
              "<Figure size 432x288 with 1 Axes>"
            ]
          },
          "metadata": {
            "tags": []
          }
        }
      ]
    },
    {
      "cell_type": "code",
      "metadata": {
        "id": "l7VhO6U9LcIO"
      },
      "source": [
        "# !cp -avr /content/drive/MyDrive/mathematics /usr/local/lib/python3.7/dist-packages\n",
        "# make sure to import the mathematics package from quantify"
      ],
      "execution_count": null,
      "outputs": []
    },
    {
      "cell_type": "code",
      "metadata": {
        "id": "j4nTH3U94Q0W"
      },
      "source": [
        "import cirq\n",
        "import mathematics.multiplier as mt\n",
        "import cupy as cp\n",
        "import time\n",
        "\n",
        "def multiplier_experiment(n, qubits_to_be_ignored=[]):\n",
        "\n",
        "    # A and B are the numbers to be multiplied\n",
        "    A = [cirq.NamedQubit('a' + str(i)) for i in range(n)]\n",
        "    B = [cirq.NamedQubit('b' + str(i)) for i in range(n)]\n",
        "\n",
        "    # instanciate the multiplier class and invoke the multiply method\n",
        "    # the result is the corresponding circuit\n",
        "    circuit = mt.multiplier(A, B).multiply()\n",
        "    final_circuit = cirq.Circuit()\n",
        "    for moment in circuit:\n",
        "      for operation in moment:\n",
        "        if not set(qubits_to_be_ignored) & set(operation.qubits):\n",
        "          final_circuit.append(operation)\n",
        "    \n",
        "    \n",
        "    simulator = cirq.Simulator()\n",
        "\n",
        "    # sort the qubits in a way such that B has the most significant bits then A then P\n",
        "    \n",
        "    qubits = sorted(list(final_circuit.all_qubits()))[::-1]\n",
        "\n",
        "    s = len(qubits)\n",
        "    print(s)\n",
        "    intial_state = [0] * 2 ** (len(qubits))\n",
        "\n",
        "    intial_state[0] = 1\n",
        "    intial_state = cp.array(intial_state, dtype=np.complex64)\n",
        "    start_time = time.time()\n",
        "    result = simulator.simulate(final_circuit, qubit_order=qubits, initial_state=intial_state)\n",
        "    time_result = time.time()-start_time\n",
        "\n",
        "    # \"\"\"Now consider B and A as a concatinated bitstring with B having the most significant bits\n",
        "    #     Afterwards add 2n+1 bits of 0 which represents P0, P1...P2n\n",
        "    # \"\"\"\n",
        "\n",
        "    # \"\"\"the list of all possible integers is exactly the range(2^(2n)) but we need to shift it \n",
        "    #     in order to initialize the qubits of P to 0\n",
        "    # \"\"\"\n",
        "    # shift = 2 ** n - 1\n",
        "    # # list_of_possible_integers = [i << shift for i in range(2 ** (2 * n))]\n",
        "    # list_of_possible_integers = [2 ** (2 * n)-2]\n",
        "    # # print(list_of_possible_integers)\n",
        "    # for i in list_of_possible_integers:\n",
        "    #     intial_state[i] = 1\n",
        "    #     # state[1920]=1\n",
        "    #     intial_state = np.array(intial_state, dtype=np.complex64)\n",
        "    #     start_time = time.time()\n",
        "    #     result = simulator.simulate(circuit, qubit_order=qubits, initial_state=intial_state)\n",
        "    #     time_result = time.time()-start_time\n",
        "    #     BA = i >> shift\n",
        "    #     B_times_A = BA % (2 ** 3) * (BA >> n)\n",
        "    #     # assert (np.where(result.final_state == 1)[0][0] == i + B_times_A)\n",
        "    #     intial_state[i] = 0\n",
        "    return time_result\n"
      ],
      "execution_count": 44,
      "outputs": []
    },
    {
      "cell_type": "code",
      "metadata": {
        "id": "O1fFMCwC9ZUF",
        "colab": {
          "base_uri": "https://localhost:8080/"
        },
        "outputId": "b622b5f4-84b6-4c5b-96cc-691dd4d3d237"
      },
      "source": [
        "import numpy as np\n",
        "from itertools import product\n",
        "from random import sample\n",
        "time_results = []\n",
        "time_results.append(multiplier_experiment(3, qubits_to_be_ignored=[]))\n",
        "for n in range(4,8):\n",
        "  # list_of_indices = list(product(range(n),repeat=2))\n",
        "  if n == 7:\n",
        "    for i in range(3,1,-1):\n",
        "      qubits_to_be_ignored = [cirq.NamedQubit(\"P\"+str(j)) for j in range(i)]\n",
        "      time_results.append(multiplier_experiment(n, qubits_to_be_ignored=qubits_to_be_ignored))\n",
        "  else:\n",
        "    for i in range(3,-1,-1):\n",
        "      qubits_to_be_ignored = [cirq.NamedQubit(\"P\"+str(j)) for j in range(i)]\n",
        "      time_results.append(multiplier_experiment(n, qubits_to_be_ignored=qubits_to_be_ignored))\n"
      ],
      "execution_count": 60,
      "outputs": [
        {
          "output_type": "stream",
          "text": [
            "13\n",
            "14\n",
            "15\n",
            "16\n",
            "17\n",
            "18\n",
            "19\n",
            "20\n",
            "21\n",
            "22\n",
            "23\n",
            "24\n",
            "25\n",
            "26\n",
            "27\n"
          ],
          "name": "stdout"
        }
      ]
    },
    {
      "cell_type": "code",
      "metadata": {
        "colab": {
          "base_uri": "https://localhost:8080/"
        },
        "id": "XYWZY5vABEff",
        "outputId": "80ad629a-c18f-41a2-a219-976ca01e1da5"
      },
      "source": [
        "time_results"
      ],
      "execution_count": 61,
      "outputs": [
        {
          "output_type": "execute_result",
          "data": {
            "text/plain": [
              "[0.017586946487426758,\n",
              " 0.0268857479095459,\n",
              " 0.030800342559814453,\n",
              " 0.03242325782775879,\n",
              " 0.0339810848236084,\n",
              " 0.05010986328125,\n",
              " 0.05491805076599121,\n",
              " 0.058710575103759766,\n",
              " 0.06209850311279297,\n",
              " 0.1032257080078125,\n",
              " 0.15276765823364258,\n",
              " 0.2462148666381836,\n",
              " 0.4233129024505615,\n",
              " 1.225797414779663,\n",
              " 2.31611704826355]"
            ]
          },
          "metadata": {
            "tags": []
          },
          "execution_count": 61
        }
      ]
    },
    {
      "cell_type": "code",
      "metadata": {
        "id": "wg_UhbI5BSSS"
      },
      "source": [
        "y5 = [0.0160977840423584, 0.01616835594177246, 0.031195878982543945, 0.08072137832641602, 0.04287838935852051, 0.20384621620178223, 0.28908276557922363, 0.4622933864593506, 0.7720737457275391, 2.040431499481201, 3.806870222091675, 7.404092073440552, 15.099214553833008, 40.45326542854309, 84.57066607475281]\n",
        "y6 = [0.006653547286987305, 0.010313034057617188, 0.010963916778564453, 0.01484370231628418, 0.022917985916137695, 0.06537890434265137, 0.09955430030822754, 0.2655363082885742, 0.585322380065918, 1.4442849159240723, 2.9331512451171875, 6.070271253585815, 11.998790979385376, 33.90473747253418, 56.47514629364014]"
      ],
      "execution_count": 62,
      "outputs": []
    },
    {
      "cell_type": "code",
      "metadata": {
        "id": "uCZ4czd-CBE5"
      },
      "source": [
        "x = np.array(range(13,28))"
      ],
      "execution_count": 63,
      "outputs": []
    },
    {
      "cell_type": "code",
      "metadata": {
        "colab": {
          "base_uri": "https://localhost:8080/",
          "height": 313
        },
        "id": "M2_71kCQCF9X",
        "outputId": "2b3e7a5d-95ef-421d-a105-fb49295d3de2"
      },
      "source": [
        "import matplotlib.pyplot as plt\n",
        "import numpy as np\n",
        "y4 = np.array(time_results)\n",
        "y5 = np.array(y5)\n",
        "plt.figure()\n",
        "plt.plot(x,y4, label=\"time execution with cupy\", marker=\"o\")\n",
        "plt.yscale('log')\n",
        "plt.plot(x,y5, label=\"time execution with numpy\", marker=\"x\")\n",
        "plt.yscale('log')\n",
        "plt.plot(x,y6, label=\"time execution with qsim\")\n",
        "plt.yscale('log')\n",
        "plt.xlabel(\"Number of qubits\")\n",
        "plt.ylabel(\"execution time in seconds\")\n",
        "plt.title(\"Multiplier\")\n",
        "plt.legend()"
      ],
      "execution_count": 64,
      "outputs": [
        {
          "output_type": "execute_result",
          "data": {
            "text/plain": [
              "<matplotlib.legend.Legend at 0x7f28c333fa10>"
            ]
          },
          "metadata": {
            "tags": []
          },
          "execution_count": 64
        },
        {
          "output_type": "display_data",
          "data": {
            "image/png": "[encoded data removed]",
            "text/plain": [
              "<Figure size 432x288 with 1 Axes>"
            ]
          },
          "metadata": {
            "tags": [],
            "needs_background": "light"
          }
        }
      ]
    },
    {
      "cell_type": "code",
      "metadata": {
        "id": "jFXVmZUsfOR_"
      },
      "source": [
        ""
      ],
      "execution_count": null,
      "outputs": []
    }
  ]
}