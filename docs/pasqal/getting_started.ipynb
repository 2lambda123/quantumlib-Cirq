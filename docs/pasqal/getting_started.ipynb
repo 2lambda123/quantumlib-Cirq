{
 "cells": [
  {
   "cell_type": "markdown",
   "metadata": {},
   "source": [
    "# Run a quantum circuit in Cirq, with a Pasqal device as a backend\n",
    "<br>\n",
    "<br>\n",
    "<div>\n",
    "<img src=\"files/files/Cirq_pasqal.png\" width=\"700\"/>\n",
    "</div>\n",
    "<br>\n",
    "<br>"
   ]
  },
  {
   "cell_type": "markdown",
   "metadata": {},
   "source": [
    "In this notebook, we show how to program a quantum circuit for Pasqal using cirq. The first step is to import cirq, and Pasqal custom classes. We use ``PasqalVirtualDevice`` to showcase how Cirq enforces Pasqal's devices' restrictions throughout the process (note that unconstrained circuit generation is also supported through the ``PasqalDevice`` class)."
   ]
  },
  {
   "cell_type": "code",
   "execution_count": 1,
   "metadata": {},
   "outputs": [],
   "source": [
    "import cirq\n",
    "from cirq import ops\n",
    "from cirq.pasqal import ThreeDQubit, TwoDQubit, PasqalVirtualDevice, PasqalNoiseModel"
   ]
  },
  {
   "cell_type": "markdown",
   "metadata": {},
   "source": [
    "## Create an array of qubits on a lattice\n",
    "<br>\n",
    "<br>\n",
    "The QPU of Pasqal is made of neutral atoms controlled by lasers. Individual atoms are trapped at well-defined positions in 1, 2 or even 3D, as shown on the following plot (Nature 561, 79 (2018)).\n",
    "<br>\n",
    "<br>\n",
    "\n",
    "\n",
    "<div>\n",
    "<img src=\"files/files/eiffel_tower.png\" width=\"500\"/>\n",
    "</div>\n",
    "<br>\n",
    "<br>\n",
    "We created a custom class in cirq, ThreeDGridQubit, that corresponds to a qubit placed on a 3D grid. Let us start by creating a register comprising $36=6\\times6$ qubits in 2D, regularly arranged on a square lattice. It corresponds to the following configuration (image taken from Nature 561, 79 (2018))"
   ]
  },
  {
   "cell_type": "markdown",
   "metadata": {},
   "source": [
    "<div>\n",
    "<img src=\"files/files/grid_atoms.png\" width=\"300\"/>\n",
    "</div>\n",
    "<br>\n",
    "<br>"
   ]
  },
  {
   "cell_type": "code",
   "execution_count": 2,
   "metadata": {},
   "outputs": [],
   "source": [
    "width=6\n",
    "height=6\n",
    "depth=1\n",
    "# Creating p_qubits, a list of ThreeDGridQubit.\n",
    "p_qubits=[ThreeDQubit(row, col, lay) \n",
    "          for row in range(width) \n",
    "          for col in range(height)\n",
    "          for lay in range(depth)]"
   ]
  },
  {
   "cell_type": "markdown",
   "metadata": {},
   "source": [
    "## Create a PasqalDevice"
   ]
  },
  {
   "cell_type": "markdown",
   "metadata": {},
   "source": [
    "Multi-qubit gates can be applied between qubits in the device, provided that the distance between them is smaller than the so-called Rydberg blocade radius (or control radius), that can be passed as a parameter of the device (in units of the lattice size). Here, we instantiate a ``PasqalVirtualDevice`` with 36 qubits and a control radius of $2.1$. \n",
    "<br>\n",
    "<br>\n",
    "Using the ``Circuit`` class of Cirq, one can then build a circuit that will be implemented with a ``PasqalVirtualDevice`` as a backend.\n",
    "<br>"
   ]
  },
  {
   "cell_type": "code",
   "execution_count": 3,
   "metadata": {},
   "outputs": [],
   "source": [
    "# Create a Pasqal device with a control radius of 2.1 (in units of the lattice spacing)\n",
    "p_device=PasqalVirtualDevice(control_radius=2.1, qubits=p_qubits)\n",
    "\n",
    "# Initialize a circuit, specifying the device\n",
    "p_circuit = cirq.Circuit(device=p_device)\n",
    "\n",
    "# Create the circuit\n",
    "p_circuit.append(cirq.CZ(p_qubits[0], p_qubits[1]))\n",
    "p_circuit.append(cirq.Z(p_qubits[0]))\n",
    "p_circuit.append(cirq.CX(p_qubits[0], p_qubits[2]))"
   ]
  },
  {
   "cell_type": "markdown",
   "metadata": {},
   "source": [
    "Notice how, by declaring the device at the beginning, all non-native gates are automatically decomposed and each moment forced to have a single gate."
   ]
  },
  {
   "cell_type": "code",
   "execution_count": 4,
   "metadata": {
    "scrolled": true
   },
   "outputs": [
    {
     "name": "stdout",
     "output_type": "stream",
     "text": [
      "(0, 0, 0): ───@───Z───────────────────@──────────────────\n",
      "              │                       │\n",
      "(0, 1, 0): ───@───────────────────────┼──────────────────\n",
      "                                      │\n",
      "(0, 2, 0): ───────────PhX(-0.5)^0.5───@───PhX(0.5)^0.5───\n"
     ]
    }
   ],
   "source": [
    "print(p_circuit)"
   ]
  },
  {
   "cell_type": "markdown",
   "metadata": {},
   "source": [
    "When the distance between the two qubits involved in the gate is greater than the control radius, as shown for example in the following plot, cirq will raise an error.\n",
    "<br>\n",
    "<br>\n",
    "<img src=\"files/files/r_radius.001.png\" width=\"300\"/><br>"
   ]
  },
  {
   "cell_type": "code",
   "execution_count": 5,
   "metadata": {},
   "outputs": [
    {
     "name": "stdout",
     "output_type": "stream",
     "text": [
      "ERROR: Qubits pasqal.ThreeDQubit(0, 0, 0), pasqal.ThreeDQubit(5, 5, 0) are too far away\n"
     ]
    }
   ],
   "source": [
    "# It is impossible to add a multi-qubit gate if the qubits involved are too far away\n",
    "try:\n",
    "    p_circuit.append(cirq.CZ(p_qubits[0], p_qubits[-1]))\n",
    "except ValueError as msg:\n",
    "    print(\"ERROR:\", msg)\n",
    "else:\n",
    "    print(\"Failed to raise the expected ValueError.\")"
   ]
  },
  {
   "cell_type": "markdown",
   "metadata": {},
   "source": [
    "## Send a circuit to a remote Pasqal machine\n",
    "\n",
    "\n",
    "Using the Circuit class of Cirq, one can then build a circuit that will be implemented with one of Pasqal's devices as a backend.\n",
    "\n",
    "\n",
    "The real QPU is not plugged in yet as a backend. If you send us your circuit, we currently use a classical emulator as a backend to determine the result of your simulation. As emulating a quantum circuit with a large number of qubits is computationnaly intensive, here we choose to realize a circuit on a smaller register.\n",
    "\n",
    "More precisely, we will implement Grover's algorithm to search for the state $|10\\rangle$, which corresponds to the circuit:\n",
    "\n",
    "<br>\n",
    "<img src=\"files/files/Grover_circuit.png\" width=\"750\"/><br>\n",
    "<br>\n",
    "\n",
    "Bear in mind that this is a naïve implementation that can be substantially optimized, particularly in the oracle and the usage of an ancilla, but that is beyond the scope of this tutorial.\n",
    "\n",
    "Here is the cirq implementation of the circuit using generators:"
   ]
  },
  {
   "cell_type": "code",
   "execution_count": 6,
   "metadata": {},
   "outputs": [],
   "source": [
    "import numpy as np\n",
    "\n",
    "#Place qubits at vertices of an equilateral triangle\n",
    "qs = [TwoDQubit(0, 0), TwoDQubit(1, 0), TwoDQubit(0.5, np.sqrt(3)/2)]\n",
    "q_meas = [TwoDQubit(1, 0), TwoDQubit(0, 0)]\n",
    "\n",
    "def state_preparation():\n",
    "    for q in qs[:-1]:\n",
    "        yield cirq.H(q)\n",
    "    yield cirq.X(qs[-1])\n",
    "    yield cirq.H(qs[-1])\n",
    "\n",
    "def oracle():\n",
    "    # Signals the state 10\n",
    "    yield cirq.X(qs[0])\n",
    "    yield cirq.CCX(*qs)\n",
    "    yield cirq.X(qs[0])\n",
    "\n",
    "def grover_operator():\n",
    "    for q in qs[:-1]:\n",
    "        yield cirq.H(q)\n",
    "        yield cirq.X(q)\n",
    "\n",
    "    yield cirq.CZ(*qs[:-1])\n",
    "\n",
    "    for q in qs[:-1]:\n",
    "        yield cirq.X(q)\n",
    "        yield cirq.H(q)\n",
    "        \n",
    "def generate_grover():\n",
    "    yield state_preparation()\n",
    "    yield oracle()\n",
    "    yield grover_operator()\n",
    "        \n",
    "device = PasqalVirtualDevice(control_radius=1.1, qubits=qs)        \n",
    "grover_circuit = cirq.Circuit(generate_grover(), device=device)\n",
    "grover_circuit.append(cirq.measure(*q_meas, key='x'))"
   ]
  },
  {
   "cell_type": "markdown",
   "metadata": {},
   "source": [
    "Now, to execute the circuit on one of our servers, one has to create a sampler that will send the circuit to the remote host address. One currently needs a token to do this. Please contact us to get one !"
   ]
  },
  {
   "cell_type": "code",
   "execution_count": 7,
   "metadata": {},
   "outputs": [],
   "source": [
    "# To execute on one of Pasqal's servers, get an access token and uncomment these lines\n",
    "# sampler = cirq.pasqal.PasqalSampler(remote_host='http://34.98.71.118/v0/pasqal',\n",
    "#                                     access_token='')"
   ]
  },
  {
   "cell_type": "markdown",
   "metadata": {},
   "source": [
    "Alternatively, small circuits can also be simullated locally using Cirq's `Simulator`, which we will do here. "
   ]
  },
  {
   "cell_type": "code",
   "execution_count": 8,
   "metadata": {},
   "outputs": [],
   "source": [
    "sampler = cirq.Simulator()"
   ]
  },
  {
   "cell_type": "code",
   "execution_count": 9,
   "metadata": {},
   "outputs": [],
   "source": [
    "data_raw = sampler.run(grover_circuit, repetitions=200)"
   ]
  },
  {
   "cell_type": "markdown",
   "metadata": {},
   "source": [
    "Next, we can plot the results obtained."
   ]
  },
  {
   "cell_type": "code",
   "execution_count": 10,
   "metadata": {
    "scrolled": true
   },
   "outputs": [
    {
     "data": {
      "image/png": "[encoded data removed]",
      "text/plain": [
       "<Figure size 432x288 with 1 Axes>"
      ]
     },
     "metadata": {
      "needs_background": "light"
     },
     "output_type": "display_data"
    }
   ],
   "source": [
    "import matplotlib.pyplot as plt\n",
    "\n",
    "data0 = data_raw.data.to_dict()\n",
    "vec=[j for j in range(4)]\n",
    "res=np.zeros(len(vec))\n",
    "for jj in range(200):\n",
    "    number = data0['x'][jj]\n",
    "    res[number] += 1\n",
    "res=res/200.\n",
    "\n",
    "fig = plt.figure()\n",
    "ax = fig.add_axes([0.16, 0.16, 0.78, 0.78])\n",
    "ax.plot(vec, res,'o')\n",
    "ax.set_xticks(vec)\n",
    "ax.set_xticklabels([r'$|00\\rangle$',r'$|01\\rangle$', r'$|10\\rangle$', r'$|11\\rangle$'])\n",
    "plt.xlabel(r'$j$', fontsize=20)\n",
    "plt.ylabel(r'$p$', fontsize=20)\n",
    "plt.show()"
   ]
  },
  {
   "cell_type": "markdown",
   "metadata": {},
   "source": [
    "In this particular case, it takes a single Grover iteration to find the correct result ($|10\\rangle$) with 100% probability on a perfect device."
   ]
  },
  {
   "cell_type": "markdown",
   "metadata": {},
   "source": [
    "## Incorporate the effect of noise during a classical emulation of the circuit\n",
    "<br>\n",
    "<br>\n",
    "Current NISQ processors are imperfect and prone to errors. We incorporated in Cirq a typical noise model for Pasqal devices, that can be used when one emulates the behavior of the device with a classical computer.\n",
    "<br>"
   ]
  },
  {
   "cell_type": "code",
   "execution_count": 11,
   "metadata": {},
   "outputs": [
    {
     "data": {
      "image/png": "[encoded data removed]",
      "text/plain": [
       "<Figure size 432x288 with 1 Axes>"
      ]
     },
     "metadata": {
      "needs_background": "light"
     },
     "output_type": "display_data"
    }
   ],
   "source": [
    "# Use the custom noise model of Pasqal devices\n",
    "noise_model = PasqalNoiseModel(device)\n",
    "grover_circuit = cirq.Circuit(generate_grover(), device=device)\n",
    "grover_circuit = grover_circuit.with_noise(noise_model)\n",
    "grover_circuit.append(cirq.measure(*q_meas, key='x'))\n",
    "\n",
    "# Run a simulation locally locally\n",
    "data_raw = sampler.run(grover_circuit, repetitions=200)\n",
    "\n",
    "# Plot the results\n",
    "data0 = data_raw.data.to_dict()\n",
    "vec=[j for j in range(4)]\n",
    "res=np.zeros(len(vec))\n",
    "for jj in range(200):\n",
    "    number = data0['x'][jj]\n",
    "    res[number] += 1\n",
    "res=res/200.\n",
    "\n",
    "fig = plt.figure()\n",
    "ax = fig.add_axes([0.16, 0.16, 0.78, 0.78])\n",
    "ax.plot(vec, res,'o')\n",
    "ax.set_xticks(vec)\n",
    "ax.set_xticklabels([r'$|00\\rangle$',r'$|01\\rangle$', r'$|10\\rangle$', r'$|11\\rangle$'])\n",
    "plt.xlabel(r'$j$', fontsize=20)\n",
    "plt.ylabel(r'$p$', fontsize=20)\n",
    "plt.show()"
   ]
  },
  {
   "cell_type": "markdown",
   "metadata": {},
   "source": [
    "One still finds a rather large probability to measure $|10\\rangle$, but we note the appearance of other measurement outcomes, due to the presence of noise."
   ]
  }
 ],
 "metadata": {
  "kernelspec": {
   "display_name": "Cirq",
   "language": "python",
   "name": "cirq"
  },
  "language_info": {
   "codemirror_mode": {
    "name": "ipython",
    "version": 3
   },
   "file_extension": ".py",
   "mimetype": "text/x-python",
   "name": "python",
   "nbconvert_exporter": "python",
   "pygments_lexer": "ipython3",
   "version": "3.7.6"
  }
 },
 "nbformat": 4,
 "nbformat_minor": 2
}
