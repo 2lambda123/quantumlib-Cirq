{
 "cells": [
  {
   "cell_type": "code",
   "execution_count": 1,
   "id": "2e694355-6c8f-43c5-b1ae-4e86af9fc9eb",
   "metadata": {
    "cellView": "form",
    "id": "KQa9t_gadIuR"
   },
   "outputs": [],
   "source": [
    "#@title Copyright 2022 The Cirq Developers\n",
    "# Licensed under the Apache License, Version 2.0 (the \"License\");\n",
    "# you may not use this file except in compliance with the License.\n",
    "# You may obtain a copy of the License at\n",
    "#\n",
    "# https://www.apache.org/licenses/LICENSE-2.0\n",
    "#\n",
    "# Unless required by applicable law or agreed to in writing, software\n",
    "# distributed under the License is distributed on an \"AS IS\" BASIS,\n",
    "# WITHOUT WARRANTIES OR CONDITIONS OF ANY KIND, either express or implied.\n",
    "# See the License for the specific language governing permissions and\n",
    "# limitations under the License."
   ]
  },
  {
   "cell_type": "markdown",
   "id": "42a837dc-73a7-4a4e-a79b-563786f1bfc6",
   "metadata": {
    "id": "xwec7FrkdFmi"
   },
   "source": [
    "# Gate Zoo"
   ]
  },
  {
   "cell_type": "markdown",
   "id": "1ffc5e6a-50af-495e-b713-ad7c626a6181",
   "metadata": {
    "id": "5KZia7jmdJ3V"
   },
   "source": [
    "<table class=\"tfo-notebook-buttons\" align=\"left\">\n",
    "  <td>\n",
    "    <a target=\"_blank\" href=\"https://quantumai.google/cirq/qubits\"><img src=\"https://quantumai.google/site-assets/images/buttons/quantumai_logo_1x.png\" />View on QuantumAI</a>\n",
    "  </td>\n",
    "  <td>\n",
    "    <a target=\"_blank\" href=\"https://colab.research.google.com/github/quantumlib/Cirq/blob/master/docs/qubits.ipynb\"><img src=\"https://quantumai.google/site-assets/images/buttons/colab_logo_1x.png\" />Run in Google Colab</a>\n",
    "  </td>\n",
    "  <td>\n",
    "    <a target=\"_blank\" href=\"https://github.com/quantumlib/Cirq/blob/master/docs/qubits.ipynb\"><img src=\"https://quantumai.google/site-assets/images/buttons/github_logo_1x.png\" />View source on GitHub</a>\n",
    "  </td>\n",
    "  <td>\n",
    "    <a href=\"https://storage.googleapis.com/tensorflow_docs/Cirq/docs/qubits.ipynb\"><img src=\"https://quantumai.google/site-assets/images/buttons/download_icon_1x.png\" />Download notebook</a>\n",
    "  </td>\n",
    "</table>"
   ]
  },
  {
   "cell_type": "code",
   "execution_count": 2,
   "id": "0b650764-128c-46fe-8b19-ee54762a77ef",
   "metadata": {
    "id": "bd9529db1c0b"
   },
   "outputs": [],
   "source": [
    "try:\n",
    "    import cirq\n",
    "except ImportError:\n",
    "    print(\"installing cirq...\")\n",
    "    !pip install --quiet cirq\n",
    "    print(\"installed cirq.\")\n",
    "    \n",
    "import IPython.display as ipd\n",
    "import cirq\n",
    "import inspect\n",
    "\n",
    "def display_gates(*gates):\n",
    "    for gate_name in gates:\n",
    "        ipd.display(ipd.Markdown(\"---\"))\n",
    "        gate = getattr(cirq, gate_name)\n",
    "        ipd.display(ipd.Markdown(f\"#### cirq.{gate_name}\"))\n",
    "        ipd.display(ipd.Markdown(inspect.cleandoc(gate.__doc__)))\n",
    "    else:\n",
    "        ipd.display(ipd.Markdown(\"---\"))    "
   ]
  },
  {
   "cell_type": "markdown",
   "id": "5731f798-b633-4039-a138-8c70b4d8fac4",
   "metadata": {},
   "source": [
    "Cirq comes with many gates that are standard across quantum computing. This notebook serves as a reference sheet for these gates.\n",
    "\n",
    "## Single Qubit Gates\n",
    "\n",
    "\n",
    "### Gate constants \n",
    "\n",
    "Cirq defines constants which are gate instances for particular important single qubit gates."
   ]
  },
  {
   "cell_type": "code",
   "execution_count": 3,
   "id": "6cb68f8a-4285-42ba-9a0f-b73bf13cd4f1",
   "metadata": {},
   "outputs": [
    {
     "data": {
      "text/markdown": [
       "---"
      ],
      "text/plain": [
       "<IPython.core.display.Markdown object>"
      ]
     },
     "metadata": {},
     "output_type": "display_data"
    },
    {
     "data": {
      "text/markdown": [
       "#### cirq.X"
      ],
      "text/plain": [
       "<IPython.core.display.Markdown object>"
      ]
     },
     "metadata": {},
     "output_type": "display_data"
    },
    {
     "data": {
      "text/markdown": [
       "The Pauli X gate.\n",
       "\n",
       "This is the `exponent=1` instance of the `cirq.XPowGate`.\n",
       "\n",
       "The untary matrix of `cirq.X` is:\n",
       "$$\n",
       "\\begin{bmatrix}\n",
       "    0 & 1 \\\\\n",
       "    1 & 0\n",
       "\\end{bmatrix}\n",
       "$$"
      ],
      "text/plain": [
       "<IPython.core.display.Markdown object>"
      ]
     },
     "metadata": {},
     "output_type": "display_data"
    },
    {
     "data": {
      "text/markdown": [
       "---"
      ],
      "text/plain": [
       "<IPython.core.display.Markdown object>"
      ]
     },
     "metadata": {},
     "output_type": "display_data"
    },
    {
     "data": {
      "text/markdown": [
       "#### cirq.Y"
      ],
      "text/plain": [
       "<IPython.core.display.Markdown object>"
      ]
     },
     "metadata": {},
     "output_type": "display_data"
    },
    {
     "data": {
      "text/markdown": [
       "The Pauli Y gate.\n",
       "\n",
       "This is the `exponent=1` instance of the `cirq.YPowGate`.\n",
       "\n",
       "The unitary matrix of `cirq.Y` is:\n",
       "$$\n",
       "\\begin{bmatrix}\n",
       "    0 & -i \\\\\n",
       "    i & 0\n",
       "\\end{bmatrix}\n",
       "$$"
      ],
      "text/plain": [
       "<IPython.core.display.Markdown object>"
      ]
     },
     "metadata": {},
     "output_type": "display_data"
    },
    {
     "data": {
      "text/markdown": [
       "---"
      ],
      "text/plain": [
       "<IPython.core.display.Markdown object>"
      ]
     },
     "metadata": {},
     "output_type": "display_data"
    },
    {
     "data": {
      "text/markdown": [
       "#### cirq.Z"
      ],
      "text/plain": [
       "<IPython.core.display.Markdown object>"
      ]
     },
     "metadata": {},
     "output_type": "display_data"
    },
    {
     "data": {
      "text/markdown": [
       "The Pauli Z gate.\n",
       "\n",
       "This is the `exponent=1` instance of the `cirq.ZPowGate`.\n",
       "\n",
       "The unitary matrix of `cirq.Z` is:\n",
       "$$\n",
       "\\begin{bmatrix}\n",
       "    1 & 0 \\\\\n",
       "    0 & -1\n",
       "\\end{bmatrix}\n",
       "$$"
      ],
      "text/plain": [
       "<IPython.core.display.Markdown object>"
      ]
     },
     "metadata": {},
     "output_type": "display_data"
    },
    {
     "data": {
      "text/markdown": [
       "---"
      ],
      "text/plain": [
       "<IPython.core.display.Markdown object>"
      ]
     },
     "metadata": {},
     "output_type": "display_data"
    },
    {
     "data": {
      "text/markdown": [
       "#### cirq.H"
      ],
      "text/plain": [
       "<IPython.core.display.Markdown object>"
      ]
     },
     "metadata": {},
     "output_type": "display_data"
    },
    {
     "data": {
      "text/markdown": [
       "The Hadamard gate.\n",
       "\n",
       "The `exponent=1` instance of `cirq.HPowGate`.\n",
       "\n",
       "The unitary matrix of `cirq.H` is:\n",
       "$$\n",
       "\\begin{bmatrix}\n",
       "    \\frac{1}{\\sqrt{2}} & \\frac{1}{\\sqrt{2}} \\\\\n",
       "    \\frac{1}{\\sqrt{2}} & -\\frac{1}{\\sqrt{2}}\n",
       "\\end{bmatrix}\n",
       "$$"
      ],
      "text/plain": [
       "<IPython.core.display.Markdown object>"
      ]
     },
     "metadata": {},
     "output_type": "display_data"
    },
    {
     "data": {
      "text/markdown": [
       "---"
      ],
      "text/plain": [
       "<IPython.core.display.Markdown object>"
      ]
     },
     "metadata": {},
     "output_type": "display_data"
    },
    {
     "data": {
      "text/markdown": [
       "#### cirq.S"
      ],
      "text/plain": [
       "<IPython.core.display.Markdown object>"
      ]
     },
     "metadata": {},
     "output_type": "display_data"
    },
    {
     "data": {
      "text/markdown": [
       "The Clifford S gate.\n",
       "\n",
       "The `exponent=0.5` instance of `cirq.ZPowGate`.\n",
       "\n",
       "The unitary matrix of `cirq.S` is:\n",
       "$$\n",
       "\\begin{bmatrix}\n",
       "    1 & 0 \\\\\n",
       "    0 & i\n",
       "\\end{bmatrix}\n",
       "$$"
      ],
      "text/plain": [
       "<IPython.core.display.Markdown object>"
      ]
     },
     "metadata": {},
     "output_type": "display_data"
    },
    {
     "data": {
      "text/markdown": [
       "---"
      ],
      "text/plain": [
       "<IPython.core.display.Markdown object>"
      ]
     },
     "metadata": {},
     "output_type": "display_data"
    },
    {
     "data": {
      "text/markdown": [
       "#### cirq.T"
      ],
      "text/plain": [
       "<IPython.core.display.Markdown object>"
      ]
     },
     "metadata": {},
     "output_type": "display_data"
    },
    {
     "data": {
      "text/markdown": [
       "The non-Clifford T gate.\n",
       "\n",
       "The `exponent=0.25` instance of `cirq.ZPowGate`.\n",
       "\n",
       "The unitary matrix of `cirq.T` is\n",
       "$$\n",
       "\\begin{bmatrix}\n",
       "    1 & 0 \\\\\n",
       "    0 & e^{i \\pi /4}\n",
       "\\end{bmatrix}\n",
       "$$"
      ],
      "text/plain": [
       "<IPython.core.display.Markdown object>"
      ]
     },
     "metadata": {},
     "output_type": "display_data"
    },
    {
     "data": {
      "text/markdown": [
       "---"
      ],
      "text/plain": [
       "<IPython.core.display.Markdown object>"
      ]
     },
     "metadata": {},
     "output_type": "display_data"
    }
   ],
   "source": [
    "display_gates(\"X\", \"Y\", \"Z\", \"H\", \"S\", \"T\")"
   ]
  },
  {
   "cell_type": "markdown",
   "id": "d65a3acf-4446-4d7b-9077-39cd0b1095b6",
   "metadata": {},
   "source": [
    "### Traditional Pauli Rotation Gates\n",
    "\n",
    "Traditional single qubit rotations expressed in radians of rotation about Pauli axis are defined."
   ]
  },
  {
   "cell_type": "code",
   "execution_count": 4,
   "id": "e5d38c50-1774-4acf-b22c-47cd103c8a8d",
   "metadata": {},
   "outputs": [
    {
     "data": {
      "text/markdown": [
       "---"
      ],
      "text/plain": [
       "<IPython.core.display.Markdown object>"
      ]
     },
     "metadata": {},
     "output_type": "display_data"
    },
    {
     "data": {
      "text/markdown": [
       "#### cirq.Rx"
      ],
      "text/plain": [
       "<IPython.core.display.Markdown object>"
      ]
     },
     "metadata": {},
     "output_type": "display_data"
    },
    {
     "data": {
      "text/markdown": [
       "A gate, with matrix $e^{-i X t/2}$ that rotates around the X axis of the Bloch sphere by $t$.\n",
       "\n",
       "The unitary matrix of `cirq.Rx(rads=t)` is:\n",
       "$$\n",
       "e^{-i X t /2} =\n",
       "    \\begin{bmatrix}\n",
       "        \\cos(t/2) & -i \\sin(t/2) \\\\\n",
       "        -i \\sin(t/2) & \\cos(t/2)\n",
       "    \\end{bmatrix}\n",
       "$$\n",
       "\n",
       "This gate corresponds to the traditionally defined rotation matrices about the Pauli X axis."
      ],
      "text/plain": [
       "<IPython.core.display.Markdown object>"
      ]
     },
     "metadata": {},
     "output_type": "display_data"
    },
    {
     "data": {
      "text/markdown": [
       "---"
      ],
      "text/plain": [
       "<IPython.core.display.Markdown object>"
      ]
     },
     "metadata": {},
     "output_type": "display_data"
    },
    {
     "data": {
      "text/markdown": [
       "#### cirq.Ry"
      ],
      "text/plain": [
       "<IPython.core.display.Markdown object>"
      ]
     },
     "metadata": {},
     "output_type": "display_data"
    },
    {
     "data": {
      "text/markdown": [
       "A gate with matrix $e^{-i Y t/2}$ that rotates around the Y axis of the Bloch sphere by $t$.\n",
       "\n",
       "The unitary matrix of `cirq.Ry(rads=t)` is:\n",
       "$$\n",
       "e^{-i Y t / 2} =\n",
       "    \\begin{bmatrix}\n",
       "        \\cos(t/2) & -\\sin(t/2) \\\\\n",
       "        \\sin(t/2) & \\cos(t/2)\n",
       "    \\end{bmatrix}\n",
       "$$\n",
       "\n",
       "This gate corresponds to the traditionally defined rotation matrices about the Pauli Y axis."
      ],
      "text/plain": [
       "<IPython.core.display.Markdown object>"
      ]
     },
     "metadata": {},
     "output_type": "display_data"
    },
    {
     "data": {
      "text/markdown": [
       "---"
      ],
      "text/plain": [
       "<IPython.core.display.Markdown object>"
      ]
     },
     "metadata": {},
     "output_type": "display_data"
    },
    {
     "data": {
      "text/markdown": [
       "#### cirq.Rz"
      ],
      "text/plain": [
       "<IPython.core.display.Markdown object>"
      ]
     },
     "metadata": {},
     "output_type": "display_data"
    },
    {
     "data": {
      "text/markdown": [
       "A gate with matrix $e^{-i Z t/2}$ that rotates around the Z axis of the Bloch sphere by $t$.\n",
       "\n",
       "The unitary matrix of `cirq.Rz(rads=t)` is:\n",
       "$$\n",
       "e^{-i Z t /2} =\n",
       "    \\begin{bmatrix}\n",
       "        e^{-it/2} & 0 \\\\\n",
       "        0 & e^{it/2}\n",
       "    \\end{bmatrix}\n",
       "$$\n",
       "\n",
       "This gate corresponds to the traditionally defined rotation matrices about the Pauli Z axis."
      ],
      "text/plain": [
       "<IPython.core.display.Markdown object>"
      ]
     },
     "metadata": {},
     "output_type": "display_data"
    },
    {
     "data": {
      "text/markdown": [
       "---"
      ],
      "text/plain": [
       "<IPython.core.display.Markdown object>"
      ]
     },
     "metadata": {},
     "output_type": "display_data"
    }
   ],
   "source": [
    "display_gates(\"Rx\", \"Ry\", \"Rz\")"
   ]
  },
  {
   "cell_type": "markdown",
   "id": "9a7fec58-bbe6-4ec7-8158-5afe735ea7e2",
   "metadata": {},
   "source": [
    "### Pauli PowGates\n",
    "\n",
    "If you think of the `cirq.Z` gate as phasing the state $|1\\rangle$ by $-1$, then you might think that the square root of this gate phases the state $|1\\rangle$ by $i=\\sqrt{-1}$.  The `XPowGate`, `YPowGate` and `ZPowGate`s all act in this manner, phasing the state corresponding to their $-1$ eigenvalue by a prescribed amount.  This ends up being the same as the `Rx`, `Ry`, and `Rz` up to a global phase."
   ]
  },
  {
   "cell_type": "code",
   "execution_count": 5,
   "id": "e478b06c-3a62-4b6c-a614-12dc25182304",
   "metadata": {},
   "outputs": [
    {
     "data": {
      "text/markdown": [
       "---"
      ],
      "text/plain": [
       "<IPython.core.display.Markdown object>"
      ]
     },
     "metadata": {},
     "output_type": "display_data"
    },
    {
     "data": {
      "text/markdown": [
       "#### cirq.XPowGate"
      ],
      "text/plain": [
       "<IPython.core.display.Markdown object>"
      ]
     },
     "metadata": {},
     "output_type": "display_data"
    },
    {
     "data": {
      "text/markdown": [
       "A gate that rotates around the X axis of the Bloch sphere.\n",
       "\n",
       "The unitary matrix of `cirq.XPowGate(exponent=t)` is:\n",
       "$$\n",
       "\\begin{bmatrix}\n",
       "  e^{i \\pi t /2} \\cos(\\pi t) & -i e^{i \\pi t /2} \\sin(\\pi t) \\\\\n",
       "  -i e^{i \\pi t /2} \\sin(\\pi t) & e^{i \\pi t /2} \\cos(\\pi t)\n",
       "\\end{bmatrix}\n",
       "$$\n",
       "\n",
       "Note in particular that this gate has a global phase factor of\n",
       "$e^{i \\pi t / 2}$ vs the traditionally defined rotation matrices\n",
       "about the Pauli X axis. See `cirq.Rx` for rotations without the global\n",
       "phase. The global phase factor can be adjusted by using the `global_shift`\n",
       "parameter when initializing.\n",
       "\n",
       "`cirq.X`, the Pauli X gate, is an instance of this gate at `exponent=1`."
      ],
      "text/plain": [
       "<IPython.core.display.Markdown object>"
      ]
     },
     "metadata": {},
     "output_type": "display_data"
    },
    {
     "data": {
      "text/markdown": [
       "---"
      ],
      "text/plain": [
       "<IPython.core.display.Markdown object>"
      ]
     },
     "metadata": {},
     "output_type": "display_data"
    },
    {
     "data": {
      "text/markdown": [
       "#### cirq.YPowGate"
      ],
      "text/plain": [
       "<IPython.core.display.Markdown object>"
      ]
     },
     "metadata": {},
     "output_type": "display_data"
    },
    {
     "data": {
      "text/markdown": [
       "A gate that rotates around the Y axis of the Bloch sphere.\n",
       "\n",
       "The unitary matrix of `cirq.YPowGate(exponent=t)` is:\n",
       "$$\n",
       "    \\begin{bmatrix}\n",
       "        e^{i \\pi t /2} \\cos(\\pi t /2) & - e^{i \\pi t /2} \\sin(\\pi t /2) \\\\\n",
       "        e^{i \\pi t /2} \\sin(\\pi t /2) & e^{i \\pi t /2} \\cos(\\pi t /2)\n",
       "    \\end{bmatrix}\n",
       "$$\n",
       "\n",
       "Note in particular that this gate has a global phase factor of\n",
       "$e^{i \\pi t / 2}$ vs the traditionally defined rotation matrices\n",
       "about the Pauli Y axis. See `cirq.Ry` for rotations without the global\n",
       "phase. The global phase factor can be adjusted by using the `global_shift`\n",
       "parameter when initializing.\n",
       "\n",
       "`cirq.Y`, the Pauli Y gate, is an instance of this gate at `exponent=1`."
      ],
      "text/plain": [
       "<IPython.core.display.Markdown object>"
      ]
     },
     "metadata": {},
     "output_type": "display_data"
    },
    {
     "data": {
      "text/markdown": [
       "---"
      ],
      "text/plain": [
       "<IPython.core.display.Markdown object>"
      ]
     },
     "metadata": {},
     "output_type": "display_data"
    },
    {
     "data": {
      "text/markdown": [
       "#### cirq.ZPowGate"
      ],
      "text/plain": [
       "<IPython.core.display.Markdown object>"
      ]
     },
     "metadata": {},
     "output_type": "display_data"
    },
    {
     "data": {
      "text/markdown": [
       "A gate that rotates around the Z axis of the Bloch sphere.\n",
       "\n",
       "The unitary matrix of `cirq.ZPowGate(exponent=t)` is:\n",
       "$$\n",
       "    \\begin{bmatrix}\n",
       "        1 & 0 \\\\\n",
       "        0 & e^{i \\pi t}\n",
       "    \\end{bmatrix}\n",
       "$$\n",
       "\n",
       "Note in particular that this gate has a global phase factor of\n",
       "$e^{i\\pi t/2}$ vs the traditionally defined rotation matrices\n",
       "about the Pauli Z axis. See `cirq.Rz` for rotations without the global\n",
       "phase. The global phase factor can be adjusted by using the `global_shift`\n",
       "parameter when initializing.\n",
       "\n",
       "`cirq.Z`, the Pauli Z gate, is an instance of this gate at `exponent=1`."
      ],
      "text/plain": [
       "<IPython.core.display.Markdown object>"
      ]
     },
     "metadata": {},
     "output_type": "display_data"
    },
    {
     "data": {
      "text/markdown": [
       "---"
      ],
      "text/plain": [
       "<IPython.core.display.Markdown object>"
      ]
     },
     "metadata": {},
     "output_type": "display_data"
    }
   ],
   "source": [
    "display_gates(\"XPowGate\", \"YPowGate\", \"ZPowGate\")"
   ]
  },
  {
   "cell_type": "markdown",
   "id": "110838d7-5a53-4b53-aeea-4496549e8e1f",
   "metadata": {},
   "source": [
    "### More Single Qubit Gate\n",
    "\n",
    "Many quantum computing implementations use qubits whose energy eigenstates for a qubit that is not interacting are the computational basis states. In these cases it is often useful to move `cirq.ZPowGate`'s through other single qubit gates, \"phasing\" the "
   ]
  },
  {
   "cell_type": "code",
   "execution_count": 6,
   "id": "7a560cfb-6d7b-4837-85d1-6aa96accc264",
   "metadata": {},
   "outputs": [
    {
     "data": {
      "text/markdown": [
       "---"
      ],
      "text/plain": [
       "<IPython.core.display.Markdown object>"
      ]
     },
     "metadata": {},
     "output_type": "display_data"
    },
    {
     "data": {
      "text/markdown": [
       "#### cirq.PhasedXPowGate"
      ],
      "text/plain": [
       "<IPython.core.display.Markdown object>"
      ]
     },
     "metadata": {},
     "output_type": "display_data"
    },
    {
     "data": {
      "text/markdown": [
       "A gate equivalent to $Z^{p} X^t Z^{-p}$.\n",
       "\n",
       "The unitary matrix of `cirq.PhasedXPowGate(exponent=t, phase_exponent=p)` is:\n",
       "$$\n",
       "    \\begin{bmatrix}\n",
       "        e^{i \\pi t /2} \\cos(\\pi t/2) & -i e^{i \\pi (t /2 - p)} \\sin(\\pi t /2) \\\\\n",
       "        -i e^{i \\pi (t /2 + p)} \\sin(\\pi t /2) & e^{i \\pi t /2} \\cos(\\pi t/2)\n",
       "    \\end{bmatrix}\n",
       "$$\n",
       "\n",
       "This gate is like an `cirq.XPowGate`, but which has been \"phased\",\n",
       "by applying a `cirq.ZPowGate` before and after this gate. In the language\n",
       "of the Bloch sphere, $p$ determines the axis in the XY plane about which\n",
       "a rotation of amount determined by $t$ occurs."
      ],
      "text/plain": [
       "<IPython.core.display.Markdown object>"
      ]
     },
     "metadata": {},
     "output_type": "display_data"
    },
    {
     "data": {
      "text/markdown": [
       "---"
      ],
      "text/plain": [
       "<IPython.core.display.Markdown object>"
      ]
     },
     "metadata": {},
     "output_type": "display_data"
    },
    {
     "data": {
      "text/markdown": [
       "#### cirq.PhasedXZGate"
      ],
      "text/plain": [
       "<IPython.core.display.Markdown object>"
      ]
     },
     "metadata": {},
     "output_type": "display_data"
    },
    {
     "data": {
      "text/markdown": [
       "A single qubit gate equivalent to the circuit $Z^z Z^{a} X^x Z^{-a}$.\n",
       "\n",
       "The unitary matrix of `cirq.PhasedXZGate(x_exponent=x, z_exponent=z, axis_phase_exponent=a)` is:\n",
       "$$\n",
       "    \\begin{bmatrix}\n",
       "        e^{i \\pi x / 2} \\cos(\\pi x /2) & -i e^{i \\pi (x/2 - a)} \\sin(\\pi x / 2) \\\\\n",
       "         -i e^{i \\pi (x/2 + z + a)} \\sin(\\pi x / 2) &&  e^{i \\pi (x / 2 + z)} \\cos(\\pi x /2)\n",
       "    \\end{bmatrix}\n",
       "$$\n",
       "\n",
       "This gate can be thought of as a `cirq.PhasedXPowGate` followed by a `cirq.ZPowGate`.\n",
       "\n",
       "The axis phase exponent ($a$) decides which axis in the XY plane to rotate\n",
       "around. The amount of rotation around that axis is decided by the x\n",
       "exponent ($x$). Then the z exponent ($z$) decides how much to finally phase the qubit.\n",
       "\n",
       "Every single qubit gate can be written as a single `cirq.PhasedXZGate`."
      ],
      "text/plain": [
       "<IPython.core.display.Markdown object>"
      ]
     },
     "metadata": {},
     "output_type": "display_data"
    },
    {
     "data": {
      "text/markdown": [
       "---"
      ],
      "text/plain": [
       "<IPython.core.display.Markdown object>"
      ]
     },
     "metadata": {},
     "output_type": "display_data"
    },
    {
     "data": {
      "text/markdown": [
       "#### cirq.HPowGate"
      ],
      "text/plain": [
       "<IPython.core.display.Markdown object>"
      ]
     },
     "metadata": {},
     "output_type": "display_data"
    },
    {
     "data": {
      "text/markdown": [
       "A Gate that performs a rotation around the X+Z axis of the Bloch sphere.\n",
       "\n",
       "The unitary matrix of `cirq.HPowGate(exponent=t)` is:\n",
       "$$\n",
       "    \\begin{bmatrix}\n",
       "        e^{i\\pi t/2} \\left(\\cos(\\pi t/2) - i \\frac{\\sin (\\pi t /2)}{\\sqrt{2}}\\right)\n",
       "            && -i e^{i\\pi t/2} \\frac{\\sin(\\pi t /2)}{\\sqrt{2}} \\\\\n",
       "        -i e^{i\\pi t/2} \\frac{\\sin(\\pi t /2)}{\\sqrt{2}}\n",
       "            && e^{i\\pi t/2} \\left(\\cos(\\pi t/2) + i \\frac{\\sin (\\pi t /2)}{\\sqrt{2}}\\right)\n",
       "    \\end{bmatrix}\n",
       "$$\n",
       "Note in particular that for $t=1$, this gives the Hadamard matrix\n",
       "$$\n",
       "    \\begin{bmatrix}\n",
       "        \\frac{1}{\\sqrt{2}} & \\frac{1}{\\sqrt{2}} \\\\\n",
       "        \\frac{1}{\\sqrt{2}} & -\\frac{1}{\\sqrt{2}}\n",
       "    \\end{bmatrix}\n",
       "$$\n",
       "\n",
       "`cirq.H`, the Hadamard gate, is an instance of this gate at `exponent=1`."
      ],
      "text/plain": [
       "<IPython.core.display.Markdown object>"
      ]
     },
     "metadata": {},
     "output_type": "display_data"
    },
    {
     "data": {
      "text/markdown": [
       "---"
      ],
      "text/plain": [
       "<IPython.core.display.Markdown object>"
      ]
     },
     "metadata": {},
     "output_type": "display_data"
    }
   ],
   "source": [
    "display_gates(\"PhasedXPowGate\", \"PhasedXZGate\", \"HPowGate\")"
   ]
  }
 ],
 "metadata": {
  "kernelspec": {
   "display_name": "Python 3",
   "language": "python",
   "name": "python3"
  },
  "language_info": {
   "codemirror_mode": {
    "name": "ipython",
    "version": 3
   },
   "file_extension": ".py",
   "mimetype": "text/x-python",
   "name": "python",
   "nbconvert_exporter": "python",
   "pygments_lexer": "ipython3",
   "version": "3.9.9"
  }
 },
 "nbformat": 4,
 "nbformat_minor": 5
}
