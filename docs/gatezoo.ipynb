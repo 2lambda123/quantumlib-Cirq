{
 "cells": [
  {
   "cell_type": "code",
   "execution_count": 1,
   "metadata": {
    "cellView": "form",
    "id": "KQa9t_gadIuR"
   },
   "outputs": [],
   "source": [
    "#@title Copyright 2022 The Cirq Developers\n",
    "# Licensed under the Apache License, Version 2.0 (the \"License\");\n",
    "# you may not use this file except in compliance with the License.\n",
    "# You may obtain a copy of the License at\n",
    "#\n",
    "# https://www.apache.org/licenses/LICENSE-2.0\n",
    "#\n",
    "# Unless required by applicable law or agreed to in writing, software\n",
    "# distributed under the License is distributed on an \"AS IS\" BASIS,\n",
    "# WITHOUT WARRANTIES OR CONDITIONS OF ANY KIND, either express or implied.\n",
    "# See the License for the specific language governing permissions and\n",
    "# limitations under the License."
   ]
  },
  {
   "cell_type": "markdown",
   "metadata": {
    "id": "xwec7FrkdFmi"
   },
   "source": [
    "# Gate Zoo"
   ]
  },
  {
   "cell_type": "markdown",
   "metadata": {
    "id": "5KZia7jmdJ3V"
   },
   "source": [
    "<table class=\"tfo-notebook-buttons\" align=\"left\">\n",
    "  <td>\n",
    "    <a target=\"_blank\" href=\"https://quantumai.google/cirq/gatezoo.ipynb\"><img src=\"https://quantumai.google/site-assets/images/buttons/quantumai_logo_1x.png\" />View on QuantumAI</a>\n",
    "  </td>\n",
    "  <td>\n",
    "    <a target=\"_blank\" href=\"https://colab.research.google.com/github/quantumlib/Cirq/blob/master/docs/gatezoo.ipynb\"><img src=\"https://quantumai.google/site-assets/images/buttons/colab_logo_1x.png\" />Run in Google Colab</a>\n",
    "  </td>\n",
    "  <td>\n",
    "    <a target=\"_blank\" href=\"https://github.com/quantumlib/Cirq/blob/master/docs/gatezoo.ipynbb\"><img src=\"https://quantumai.google/site-assets/images/buttons/github_logo_1x.png\" />View source on GitHub</a>\n",
    "  </td>\n",
    "  <td>\n",
    "    <a href=\"https://storage.googleapis.com/tensorflow_docs/Cirq/docs/gatezoo.ipynb\"><img src=\"https://quantumai.google/site-assets/images/buttons/download_icon_1x.png\" />Download notebook</a>\n",
    "  </td>\n",
    "</table>"
   ]
  },
  {
   "cell_type": "markdown",
   "metadata": {
    "id": "541571c2edcd"
   },
   "source": [
    "## Setup\n",
    "Note: this notebook relies on unreleased Cirq features. If you want to try these features, make sure you install cirq via `pip install cirq --pre`"
   ]
  },
  {
   "cell_type": "code",
   "execution_count": 2,
   "metadata": {
    "id": "bd9529db1c0b"
   },
   "outputs": [],
   "source": [
    "try:\n",
    "    import cirq\n",
    "except ImportError:\n",
    "    print(\"installing cirq...\")\n",
    "    !pip install --quiet --pre cirq\n",
    "    print(\"installed cirq.\")\n",
    "    \n",
    "import IPython.display as ipd\n",
    "import cirq\n",
    "import inspect\n",
    "\n",
    "def display_gates(*gates):\n",
    "    for gate_name in gates:\n",
    "        ipd.display(ipd.Markdown(\"---\"))\n",
    "        gate = getattr(cirq, gate_name)\n",
    "        ipd.display(ipd.Markdown(f\"#### cirq.{gate_name}\"))\n",
    "        ipd.display(ipd.Markdown(inspect.cleandoc(gate.__doc__ or \"\")))\n",
    "    else:\n",
    "        ipd.display(ipd.Markdown(\"---\"))    "
   ]
  },
  {
   "cell_type": "markdown",
   "metadata": {
    "id": "1cd004cc2f3a"
   },
   "source": [
    "Cirq comes with many gates that are standard across quantum computing. This notebook serves as a reference sheet for these gates.\n",
    "\n",
    "## Single Qubit Gates\n",
    "\n",
    "\n",
    "### Gate Constants \n",
    "\n",
    "Cirq defines constants which are gate instances for particular important single qubit gates."
   ]
  },
  {
   "cell_type": "code",
   "execution_count": 3,
   "metadata": {
    "id": "0c3a029e2155"
   },
   "outputs": [
    {
     "data": {
      "text/markdown": [
       "---"
      ],
      "text/plain": [
       "<IPython.core.display.Markdown object>"
      ]
     },
     "metadata": {},
     "output_type": "display_data"
    },
    {
     "data": {
      "text/markdown": [
       "#### cirq.X"
      ],
      "text/plain": [
       "<IPython.core.display.Markdown object>"
      ]
     },
     "metadata": {},
     "output_type": "display_data"
    },
    {
     "data": {
      "text/markdown": [
       "The Pauli X gate.\n",
       "\n",
       "This is the `exponent=1` instance of the `cirq.XPowGate`.\n",
       "\n",
       "The untary matrix of `cirq.X` is:\n",
       "$$\n",
       "\\begin{bmatrix}\n",
       "    0 & 1 \\\\\n",
       "    1 & 0\n",
       "\\end{bmatrix}\n",
       "$$"
      ],
      "text/plain": [
       "<IPython.core.display.Markdown object>"
      ]
     },
     "metadata": {},
     "output_type": "display_data"
    },
    {
     "data": {
      "text/markdown": [
       "---"
      ],
      "text/plain": [
       "<IPython.core.display.Markdown object>"
      ]
     },
     "metadata": {},
     "output_type": "display_data"
    },
    {
     "data": {
      "text/markdown": [
       "#### cirq.Y"
      ],
      "text/plain": [
       "<IPython.core.display.Markdown object>"
      ]
     },
     "metadata": {},
     "output_type": "display_data"
    },
    {
     "data": {
      "text/markdown": [
       "The Pauli Y gate.\n",
       "\n",
       "This is the `exponent=1` instance of the `cirq.YPowGate`.\n",
       "\n",
       "The unitary matrix of `cirq.Y` is:\n",
       "$$\n",
       "\\begin{bmatrix}\n",
       "    0 & -i \\\\\n",
       "    i & 0\n",
       "\\end{bmatrix}\n",
       "$$"
      ],
      "text/plain": [
       "<IPython.core.display.Markdown object>"
      ]
     },
     "metadata": {},
     "output_type": "display_data"
    },
    {
     "data": {
      "text/markdown": [
       "---"
      ],
      "text/plain": [
       "<IPython.core.display.Markdown object>"
      ]
     },
     "metadata": {},
     "output_type": "display_data"
    },
    {
     "data": {
      "text/markdown": [
       "#### cirq.Z"
      ],
      "text/plain": [
       "<IPython.core.display.Markdown object>"
      ]
     },
     "metadata": {},
     "output_type": "display_data"
    },
    {
     "data": {
      "text/markdown": [
       "The Pauli Z gate.\n",
       "\n",
       "This is the `exponent=1` instance of the `cirq.ZPowGate`.\n",
       "\n",
       "The unitary matrix of `cirq.Z` is:\n",
       "$$\n",
       "\\begin{bmatrix}\n",
       "    1 & 0 \\\\\n",
       "    0 & -1\n",
       "\\end{bmatrix}\n",
       "$$"
      ],
      "text/plain": [
       "<IPython.core.display.Markdown object>"
      ]
     },
     "metadata": {},
     "output_type": "display_data"
    },
    {
     "data": {
      "text/markdown": [
       "---"
      ],
      "text/plain": [
       "<IPython.core.display.Markdown object>"
      ]
     },
     "metadata": {},
     "output_type": "display_data"
    },
    {
     "data": {
      "text/markdown": [
       "#### cirq.H"
      ],
      "text/plain": [
       "<IPython.core.display.Markdown object>"
      ]
     },
     "metadata": {},
     "output_type": "display_data"
    },
    {
     "data": {
      "text/markdown": [
       "The Hadamard gate.\n",
       "\n",
       "The `exponent=1` instance of `cirq.HPowGate`.\n",
       "\n",
       "The unitary matrix of `cirq.H` is:\n",
       "$$\n",
       "\\begin{bmatrix}\n",
       "    \\frac{1}{\\sqrt{2}} & \\frac{1}{\\sqrt{2}} \\\\\n",
       "    \\frac{1}{\\sqrt{2}} & -\\frac{1}{\\sqrt{2}}\n",
       "\\end{bmatrix}\n",
       "$$"
      ],
      "text/plain": [
       "<IPython.core.display.Markdown object>"
      ]
     },
     "metadata": {},
     "output_type": "display_data"
    },
    {
     "data": {
      "text/markdown": [
       "---"
      ],
      "text/plain": [
       "<IPython.core.display.Markdown object>"
      ]
     },
     "metadata": {},
     "output_type": "display_data"
    },
    {
     "data": {
      "text/markdown": [
       "#### cirq.S"
      ],
      "text/plain": [
       "<IPython.core.display.Markdown object>"
      ]
     },
     "metadata": {},
     "output_type": "display_data"
    },
    {
     "data": {
      "text/markdown": [
       "The Clifford S gate.\n",
       "\n",
       "The `exponent=0.5` instance of `cirq.ZPowGate`.\n",
       "\n",
       "The unitary matrix of `cirq.S` is:\n",
       "$$\n",
       "\\begin{bmatrix}\n",
       "    1 & 0 \\\\\n",
       "    0 & i\n",
       "\\end{bmatrix}\n",
       "$$"
      ],
      "text/plain": [
       "<IPython.core.display.Markdown object>"
      ]
     },
     "metadata": {},
     "output_type": "display_data"
    },
    {
     "data": {
      "text/markdown": [
       "---"
      ],
      "text/plain": [
       "<IPython.core.display.Markdown object>"
      ]
     },
     "metadata": {},
     "output_type": "display_data"
    },
    {
     "data": {
      "text/markdown": [
       "#### cirq.T"
      ],
      "text/plain": [
       "<IPython.core.display.Markdown object>"
      ]
     },
     "metadata": {},
     "output_type": "display_data"
    },
    {
     "data": {
      "text/markdown": [
       "The non-Clifford T gate.\n",
       "\n",
       "The `exponent=0.25` instance of `cirq.ZPowGate`.\n",
       "\n",
       "The unitary matrix of `cirq.T` is\n",
       "$$\n",
       "\\begin{bmatrix}\n",
       "    1 & 0 \\\\\n",
       "    0 & e^{i \\pi /4}\n",
       "\\end{bmatrix}\n",
       "$$"
      ],
      "text/plain": [
       "<IPython.core.display.Markdown object>"
      ]
     },
     "metadata": {},
     "output_type": "display_data"
    },
    {
     "data": {
      "text/markdown": [
       "---"
      ],
      "text/plain": [
       "<IPython.core.display.Markdown object>"
      ]
     },
     "metadata": {},
     "output_type": "display_data"
    }
   ],
   "source": [
    "display_gates(\"X\", \"Y\", \"Z\", \"H\", \"S\", \"T\")"
   ]
  },
  {
   "cell_type": "markdown",
   "metadata": {
    "id": "10c855370f45"
   },
   "source": [
    "### Traditional Pauli Rotation Gates\n",
    "\n",
    "Cirq defines traditional single qubit rotations that are rotations in radiants abougt different Pauli directions."
   ]
  },
  {
   "cell_type": "code",
   "execution_count": 4,
   "metadata": {
    "id": "e96e1c459258"
   },
   "outputs": [
    {
     "data": {
      "text/markdown": [
       "---"
      ],
      "text/plain": [
       "<IPython.core.display.Markdown object>"
      ]
     },
     "metadata": {},
     "output_type": "display_data"
    },
    {
     "data": {
      "text/markdown": [
       "#### cirq.Rx"
      ],
      "text/plain": [
       "<IPython.core.display.Markdown object>"
      ]
     },
     "metadata": {},
     "output_type": "display_data"
    },
    {
     "data": {
      "text/markdown": [
       "A gate with matrix $e^{-i X t/2}$ that rotates around the X axis of the Bloch sphere by $t$.\n",
       "\n",
       "The unitary matrix of `cirq.Rx(rads=t)` is:\n",
       "$$\n",
       "e^{-i X t /2} =\n",
       "    \\begin{bmatrix}\n",
       "        \\cos(t/2) & -i \\sin(t/2) \\\\\n",
       "        -i \\sin(t/2) & \\cos(t/2)\n",
       "    \\end{bmatrix}\n",
       "$$\n",
       "\n",
       "This gate corresponds to the traditionally defined rotation matrices about the Pauli X axis."
      ],
      "text/plain": [
       "<IPython.core.display.Markdown object>"
      ]
     },
     "metadata": {},
     "output_type": "display_data"
    },
    {
     "data": {
      "text/markdown": [
       "---"
      ],
      "text/plain": [
       "<IPython.core.display.Markdown object>"
      ]
     },
     "metadata": {},
     "output_type": "display_data"
    },
    {
     "data": {
      "text/markdown": [
       "#### cirq.Ry"
      ],
      "text/plain": [
       "<IPython.core.display.Markdown object>"
      ]
     },
     "metadata": {},
     "output_type": "display_data"
    },
    {
     "data": {
      "text/markdown": [
       "A gate with matrix $e^{-i Y t/2}$ that rotates around the Y axis of the Bloch sphere by $t$.\n",
       "\n",
       "The unitary matrix of `cirq.Ry(rads=t)` is:\n",
       "$$\n",
       "e^{-i Y t / 2} =\n",
       "    \\begin{bmatrix}\n",
       "        \\cos(t/2) & -\\sin(t/2) \\\\\n",
       "        \\sin(t/2) & \\cos(t/2)\n",
       "    \\end{bmatrix}\n",
       "$$\n",
       "\n",
       "This gate corresponds to the traditionally defined rotation matrices about the Pauli Y axis."
      ],
      "text/plain": [
       "<IPython.core.display.Markdown object>"
      ]
     },
     "metadata": {},
     "output_type": "display_data"
    },
    {
     "data": {
      "text/markdown": [
       "---"
      ],
      "text/plain": [
       "<IPython.core.display.Markdown object>"
      ]
     },
     "metadata": {},
     "output_type": "display_data"
    },
    {
     "data": {
      "text/markdown": [
       "#### cirq.Rz"
      ],
      "text/plain": [
       "<IPython.core.display.Markdown object>"
      ]
     },
     "metadata": {},
     "output_type": "display_data"
    },
    {
     "data": {
      "text/markdown": [
       "A gate with matrix $e^{-i Z t/2}$ that rotates around the Z axis of the Bloch sphere by $t$.\n",
       "\n",
       "The unitary matrix of `cirq.Rz(rads=t)` is:\n",
       "$$\n",
       "e^{-i Z t /2} =\n",
       "    \\begin{bmatrix}\n",
       "        e^{-it/2} & 0 \\\\\n",
       "        0 & e^{it/2}\n",
       "    \\end{bmatrix}\n",
       "$$\n",
       "\n",
       "This gate corresponds to the traditionally defined rotation matrices about the Pauli Z axis."
      ],
      "text/plain": [
       "<IPython.core.display.Markdown object>"
      ]
     },
     "metadata": {},
     "output_type": "display_data"
    },
    {
     "data": {
      "text/markdown": [
       "---"
      ],
      "text/plain": [
       "<IPython.core.display.Markdown object>"
      ]
     },
     "metadata": {},
     "output_type": "display_data"
    }
   ],
   "source": [
    "display_gates(\"Rx\", \"Ry\", \"Rz\")"
   ]
  },
  {
   "cell_type": "markdown",
   "metadata": {
    "id": "4bfc17ef80bb"
   },
   "source": [
    "### Pauli PowGates\n",
    "\n",
    "If you think of the `cirq.Z` gate as phasing the state $|1\\rangle$ by $-1$, then you might think that the square root of this gate phases the state $|1\\rangle$ by $i=\\sqrt{-1}$.  The `XPowGate`, `YPowGate` and `ZPowGate`s all act in this manner, phasing the state corresponding to their $-1$ eigenvalue by a prescribed amount.  This ends up being the same as the `Rx`, `Ry`, and `Rz` up to a global phase."
   ]
  },
  {
   "cell_type": "code",
   "execution_count": 5,
   "metadata": {
    "id": "0e2ea8a0a0ae"
   },
   "outputs": [
    {
     "data": {
      "text/markdown": [
       "---"
      ],
      "text/plain": [
       "<IPython.core.display.Markdown object>"
      ]
     },
     "metadata": {},
     "output_type": "display_data"
    },
    {
     "data": {
      "text/markdown": [
       "#### cirq.XPowGate"
      ],
      "text/plain": [
       "<IPython.core.display.Markdown object>"
      ]
     },
     "metadata": {},
     "output_type": "display_data"
    },
    {
     "data": {
      "text/markdown": [
       "A gate that rotates around the X axis of the Bloch sphere.\n",
       "\n",
       "The unitary matrix of `cirq.XPowGate(exponent=t)` is:\n",
       "$$\n",
       "\\begin{bmatrix}\n",
       "  e^{i \\pi t /2} \\cos(\\pi t) & -i e^{i \\pi t /2} \\sin(\\pi t) \\\\\n",
       "  -i e^{i \\pi t /2} \\sin(\\pi t) & e^{i \\pi t /2} \\cos(\\pi t)\n",
       "\\end{bmatrix}\n",
       "$$\n",
       "\n",
       "Note in particular that this gate has a global phase factor of\n",
       "$e^{i \\pi t / 2}$ vs the traditionally defined rotation matrices\n",
       "about the Pauli X axis. See `cirq.Rx` for rotations without the global\n",
       "phase. The global phase factor can be adjusted by using the `global_shift`\n",
       "parameter when initializing.\n",
       "\n",
       "`cirq.X`, the Pauli X gate, is an instance of this gate at `exponent=1`."
      ],
      "text/plain": [
       "<IPython.core.display.Markdown object>"
      ]
     },
     "metadata": {},
     "output_type": "display_data"
    },
    {
     "data": {
      "text/markdown": [
       "---"
      ],
      "text/plain": [
       "<IPython.core.display.Markdown object>"
      ]
     },
     "metadata": {},
     "output_type": "display_data"
    },
    {
     "data": {
      "text/markdown": [
       "#### cirq.YPowGate"
      ],
      "text/plain": [
       "<IPython.core.display.Markdown object>"
      ]
     },
     "metadata": {},
     "output_type": "display_data"
    },
    {
     "data": {
      "text/markdown": [
       "A gate that rotates around the Y axis of the Bloch sphere.\n",
       "\n",
       "The unitary matrix of `cirq.YPowGate(exponent=t)` is:\n",
       "$$\n",
       "    \\begin{bmatrix}\n",
       "        e^{i \\pi t /2} \\cos(\\pi t /2) & - e^{i \\pi t /2} \\sin(\\pi t /2) \\\\\n",
       "        e^{i \\pi t /2} \\sin(\\pi t /2) & e^{i \\pi t /2} \\cos(\\pi t /2)\n",
       "    \\end{bmatrix}\n",
       "$$\n",
       "\n",
       "Note in particular that this gate has a global phase factor of\n",
       "$e^{i \\pi t / 2}$ vs the traditionally defined rotation matrices\n",
       "about the Pauli Y axis. See `cirq.Ry` for rotations without the global\n",
       "phase. The global phase factor can be adjusted by using the `global_shift`\n",
       "parameter when initializing.\n",
       "\n",
       "`cirq.Y`, the Pauli Y gate, is an instance of this gate at `exponent=1`."
      ],
      "text/plain": [
       "<IPython.core.display.Markdown object>"
      ]
     },
     "metadata": {},
     "output_type": "display_data"
    },
    {
     "data": {
      "text/markdown": [
       "---"
      ],
      "text/plain": [
       "<IPython.core.display.Markdown object>"
      ]
     },
     "metadata": {},
     "output_type": "display_data"
    },
    {
     "data": {
      "text/markdown": [
       "#### cirq.ZPowGate"
      ],
      "text/plain": [
       "<IPython.core.display.Markdown object>"
      ]
     },
     "metadata": {},
     "output_type": "display_data"
    },
    {
     "data": {
      "text/markdown": [
       "A gate that rotates around the Z axis of the Bloch sphere.\n",
       "\n",
       "The unitary matrix of `cirq.ZPowGate(exponent=t)` is:\n",
       "$$\n",
       "    \\begin{bmatrix}\n",
       "        1 & 0 \\\\\n",
       "        0 & e^{i \\pi t}\n",
       "    \\end{bmatrix}\n",
       "$$\n",
       "\n",
       "Note in particular that this gate has a global phase factor of\n",
       "$e^{i\\pi t/2}$ vs the traditionally defined rotation matrices\n",
       "about the Pauli Z axis. See `cirq.Rz` for rotations without the global\n",
       "phase. The global phase factor can be adjusted by using the `global_shift`\n",
       "parameter when initializing.\n",
       "\n",
       "`cirq.Z`, the Pauli Z gate, is an instance of this gate at `exponent=1`."
      ],
      "text/plain": [
       "<IPython.core.display.Markdown object>"
      ]
     },
     "metadata": {},
     "output_type": "display_data"
    },
    {
     "data": {
      "text/markdown": [
       "---"
      ],
      "text/plain": [
       "<IPython.core.display.Markdown object>"
      ]
     },
     "metadata": {},
     "output_type": "display_data"
    }
   ],
   "source": [
    "display_gates(\"XPowGate\", \"YPowGate\", \"ZPowGate\")"
   ]
  },
  {
   "cell_type": "markdown",
   "metadata": {
    "id": "6631a361ac42"
   },
   "source": [
    "### More Single Qubit Gate\n",
    "\n",
    "Many quantum computing implementations use qubits whose energy eigenstate are the computational basis states. In these cases it is often useful to move `cirq.ZPowGate`'s through other single qubit gates, \"phasing\" the other gates.  For these scenarios, the following phased gates are useful."
   ]
  },
  {
   "cell_type": "code",
   "execution_count": 6,
   "metadata": {
    "id": "b5ffeefa3c76"
   },
   "outputs": [
    {
     "data": {
      "text/markdown": [
       "---"
      ],
      "text/plain": [
       "<IPython.core.display.Markdown object>"
      ]
     },
     "metadata": {},
     "output_type": "display_data"
    },
    {
     "data": {
      "text/markdown": [
       "#### cirq.PhasedXPowGate"
      ],
      "text/plain": [
       "<IPython.core.display.Markdown object>"
      ]
     },
     "metadata": {},
     "output_type": "display_data"
    },
    {
     "data": {
      "text/markdown": [
       "A gate equivalent to $Z^{p} X^t Z^{-p}$.\n",
       "\n",
       "The unitary matrix of `cirq.PhasedXPowGate(exponent=t, phase_exponent=p)` is:\n",
       "$$\n",
       "    \\begin{bmatrix}\n",
       "        e^{i \\pi t /2} \\cos(\\pi t/2) & -i e^{i \\pi (t /2 - p)} \\sin(\\pi t /2) \\\\\n",
       "        -i e^{i \\pi (t /2 + p)} \\sin(\\pi t /2) & e^{i \\pi t /2} \\cos(\\pi t/2)\n",
       "    \\end{bmatrix}\n",
       "$$\n",
       "\n",
       "This gate is like an `cirq.XPowGate`, but which has been \"phased\",\n",
       "by applying a `cirq.ZPowGate` before and after this gate. In the language\n",
       "of the Bloch sphere, $p$ determines the axis in the XY plane about which\n",
       "a rotation of amount determined by $t$ occurs."
      ],
      "text/plain": [
       "<IPython.core.display.Markdown object>"
      ]
     },
     "metadata": {},
     "output_type": "display_data"
    },
    {
     "data": {
      "text/markdown": [
       "---"
      ],
      "text/plain": [
       "<IPython.core.display.Markdown object>"
      ]
     },
     "metadata": {},
     "output_type": "display_data"
    },
    {
     "data": {
      "text/markdown": [
       "#### cirq.PhasedXZGate"
      ],
      "text/plain": [
       "<IPython.core.display.Markdown object>"
      ]
     },
     "metadata": {},
     "output_type": "display_data"
    },
    {
     "data": {
      "text/markdown": [
       "A single qubit gate equivalent to the circuit $Z^z Z^{a} X^x Z^{-a}$.\n",
       "\n",
       "The unitary matrix of `cirq.PhasedXZGate(x_exponent=x, z_exponent=z, axis_phase_exponent=a)` is:\n",
       "$$\n",
       "    \\begin{bmatrix}\n",
       "        e^{i \\pi x / 2} \\cos(\\pi x /2) & -i e^{i \\pi (x/2 - a)} \\sin(\\pi x / 2) \\\\\n",
       "         -i e^{i \\pi (x/2 + z + a)} \\sin(\\pi x / 2) &  e^{i \\pi (x / 2 + z)} \\cos(\\pi x /2)\n",
       "    \\end{bmatrix}\n",
       "$$\n",
       "\n",
       "This gate can be thought of as a `cirq.PhasedXPowGate` followed by a `cirq.ZPowGate`.\n",
       "\n",
       "The axis phase exponent ($a$) decides which axis in the XY plane to rotate\n",
       "around. The amount of rotation around that axis is decided by the x\n",
       "exponent ($x$). Then the z exponent ($z$) decides how much to finally phase the qubit.\n",
       "\n",
       "Every single qubit gate can be written as a single `cirq.PhasedXZGate`."
      ],
      "text/plain": [
       "<IPython.core.display.Markdown object>"
      ]
     },
     "metadata": {},
     "output_type": "display_data"
    },
    {
     "data": {
      "text/markdown": [
       "---"
      ],
      "text/plain": [
       "<IPython.core.display.Markdown object>"
      ]
     },
     "metadata": {},
     "output_type": "display_data"
    },
    {
     "data": {
      "text/markdown": [
       "#### cirq.HPowGate"
      ],
      "text/plain": [
       "<IPython.core.display.Markdown object>"
      ]
     },
     "metadata": {},
     "output_type": "display_data"
    },
    {
     "data": {
      "text/markdown": [
       "A Gate that performs a rotation around the X+Z axis of the Bloch sphere.\n",
       "\n",
       "The unitary matrix of `cirq.HPowGate(exponent=t)` is:\n",
       "$$\n",
       "    \\begin{bmatrix}\n",
       "        e^{i\\pi t/2} \\left(\\cos(\\pi t/2) - i \\frac{\\sin (\\pi t /2)}{\\sqrt{2}}\\right)\n",
       "            && -i e^{i\\pi t/2} \\frac{\\sin(\\pi t /2)}{\\sqrt{2}} \\\\\n",
       "        -i e^{i\\pi t/2} \\frac{\\sin(\\pi t /2)}{\\sqrt{2}}\n",
       "            && e^{i\\pi t/2} \\left(\\cos(\\pi t/2) + i \\frac{\\sin (\\pi t /2)}{\\sqrt{2}}\\right)\n",
       "    \\end{bmatrix}\n",
       "$$\n",
       "Note in particular that for $t=1$, this gives the Hadamard matrix\n",
       "$$\n",
       "    \\begin{bmatrix}\n",
       "        \\frac{1}{\\sqrt{2}} & \\frac{1}{\\sqrt{2}} \\\\\n",
       "        \\frac{1}{\\sqrt{2}} & -\\frac{1}{\\sqrt{2}}\n",
       "    \\end{bmatrix}\n",
       "$$\n",
       "\n",
       "`cirq.H`, the Hadamard gate, is an instance of this gate at `exponent=1`."
      ],
      "text/plain": [
       "<IPython.core.display.Markdown object>"
      ]
     },
     "metadata": {},
     "output_type": "display_data"
    },
    {
     "data": {
      "text/markdown": [
       "---"
      ],
      "text/plain": [
       "<IPython.core.display.Markdown object>"
      ]
     },
     "metadata": {},
     "output_type": "display_data"
    }
   ],
   "source": [
    "display_gates(\"PhasedXPowGate\", \"PhasedXZGate\", \"HPowGate\")"
   ]
  },
  {
   "cell_type": "markdown",
   "metadata": {
    "id": "3a2c64c91b88"
   },
   "source": [
    "## Two Qubit Gates\n",
    "\n",
    "### Gate Constants\n",
    "\n",
    "Cirq defines convenient constants for common two qubit gates."
   ]
  },
  {
   "cell_type": "code",
   "execution_count": 7,
   "metadata": {
    "id": "c964adb80c40"
   },
   "outputs": [
    {
     "data": {
      "text/markdown": [
       "---"
      ],
      "text/plain": [
       "<IPython.core.display.Markdown object>"
      ]
     },
     "metadata": {},
     "output_type": "display_data"
    },
    {
     "data": {
      "text/markdown": [
       "#### cirq.CX"
      ],
      "text/plain": [
       "<IPython.core.display.Markdown object>"
      ]
     },
     "metadata": {},
     "output_type": "display_data"
    },
    {
     "data": {
      "text/markdown": [
       "The controlled NOT gate.\n",
       "\n",
       "This is the `exponent=1` instance of `cirq.CXPowGate`.\n",
       "\n",
       "Alternative name: `cirq.CNOT`.\n",
       "\n",
       "The unitary matrix of this gate is:\n",
       "$$\n",
       "    \\begin{bmatrix}\n",
       "        1 & 0 & 0 & 0 \\\\\n",
       "        0 & 1 & 0 & 0 \\\\\n",
       "        0 & 0 & 0 & 1 \\\\\n",
       "        0 & 0 & 1 & 0\n",
       "    \\end{bmatrix}\n",
       "$$"
      ],
      "text/plain": [
       "<IPython.core.display.Markdown object>"
      ]
     },
     "metadata": {},
     "output_type": "display_data"
    },
    {
     "data": {
      "text/markdown": [
       "---"
      ],
      "text/plain": [
       "<IPython.core.display.Markdown object>"
      ]
     },
     "metadata": {},
     "output_type": "display_data"
    },
    {
     "data": {
      "text/markdown": [
       "#### cirq.CZ"
      ],
      "text/plain": [
       "<IPython.core.display.Markdown object>"
      ]
     },
     "metadata": {},
     "output_type": "display_data"
    },
    {
     "data": {
      "text/markdown": [
       "The controlled Z gate.\n",
       "\n",
       "This is the `exponent=1` instance of `cirq.CZPowGate`.\n",
       "\n",
       "The unitary matrix of this gate is:\n",
       "$$\n",
       "    \\begin{bmatrix}\n",
       "        1 & 0 & 0 & 0 \\\\\n",
       "        0 & 1 & 0 & 0 \\\\\n",
       "        0 & 0 & 1 & 0 \\\\\n",
       "        0 & 0 & 0 & -1\n",
       "    \\end{bmatrix}\n",
       "$$"
      ],
      "text/plain": [
       "<IPython.core.display.Markdown object>"
      ]
     },
     "metadata": {},
     "output_type": "display_data"
    },
    {
     "data": {
      "text/markdown": [
       "---"
      ],
      "text/plain": [
       "<IPython.core.display.Markdown object>"
      ]
     },
     "metadata": {},
     "output_type": "display_data"
    },
    {
     "data": {
      "text/markdown": [
       "#### cirq.SWAP"
      ],
      "text/plain": [
       "<IPython.core.display.Markdown object>"
      ]
     },
     "metadata": {},
     "output_type": "display_data"
    },
    {
     "data": {
      "text/markdown": [
       "The swap gate.\n",
       "\n",
       "This gate will swap two qubits (in any basis).\n",
       "\n",
       "The unitary matrix of this gate is:\n",
       "$$\n",
       "    \\begin{bmatrix}\n",
       "        1 & 0 & 0 & 0 \\\\\n",
       "        0 & 0 & 1 & 0 \\\\\n",
       "        0 & 1 & 0 & 0 \\\\\n",
       "        0 & 0 & 0 & 1\n",
       "    \\end{bmatrix}\n",
       "$$"
      ],
      "text/plain": [
       "<IPython.core.display.Markdown object>"
      ]
     },
     "metadata": {},
     "output_type": "display_data"
    },
    {
     "data": {
      "text/markdown": [
       "---"
      ],
      "text/plain": [
       "<IPython.core.display.Markdown object>"
      ]
     },
     "metadata": {},
     "output_type": "display_data"
    },
    {
     "data": {
      "text/markdown": [
       "#### cirq.ISWAP"
      ],
      "text/plain": [
       "<IPython.core.display.Markdown object>"
      ]
     },
     "metadata": {},
     "output_type": "display_data"
    },
    {
     "data": {
      "text/markdown": [
       "The iswap gate.\n",
       "\n",
       "The unitary matrix of this gate is:\n",
       "$$\n",
       "\\begin{bmatrix}\n",
       "    1 & 0 & 0 & 0 \\\\\n",
       "    0 & 0 & i & 0 \\\\\n",
       "    0 & i & 0 & 0 \\\\\n",
       "    0 & 0 & 0 & 1\n",
       "\\end{bmatrix}\n",
       "$$"
      ],
      "text/plain": [
       "<IPython.core.display.Markdown object>"
      ]
     },
     "metadata": {},
     "output_type": "display_data"
    },
    {
     "data": {
      "text/markdown": [
       "---"
      ],
      "text/plain": [
       "<IPython.core.display.Markdown object>"
      ]
     },
     "metadata": {},
     "output_type": "display_data"
    },
    {
     "data": {
      "text/markdown": [
       "#### cirq.SQRT_ISWAP"
      ],
      "text/plain": [
       "<IPython.core.display.Markdown object>"
      ]
     },
     "metadata": {},
     "output_type": "display_data"
    },
    {
     "data": {
      "text/markdown": [
       "The square root of iswap gate.\n",
       "\n",
       "The unitary matrix of this gate is:\n",
       "$$\n",
       "    \\begin{bmatrix}\n",
       "        1 & 0 & 0 & 0 \\\\\n",
       "        0 & \\frac{1}{\\sqrt{2}} & \\frac{i}{\\sqrt{2}} & 0 \\\\\n",
       "        0 & \\frac{i}{\\sqrt{2}} & \\frac{1}{\\sqrt{2}} & 0 \\\\\n",
       "        0 & 0 & 0 & 1\n",
       "    \\end{bmatrix}\n",
       "$$"
      ],
      "text/plain": [
       "<IPython.core.display.Markdown object>"
      ]
     },
     "metadata": {},
     "output_type": "display_data"
    },
    {
     "data": {
      "text/markdown": [
       "---"
      ],
      "text/plain": [
       "<IPython.core.display.Markdown object>"
      ]
     },
     "metadata": {},
     "output_type": "display_data"
    },
    {
     "data": {
      "text/markdown": [
       "#### cirq.SQRT_ISWAP_INV"
      ],
      "text/plain": [
       "<IPython.core.display.Markdown object>"
      ]
     },
     "metadata": {},
     "output_type": "display_data"
    },
    {
     "data": {
      "text/markdown": [
       "The inverse square root of iswap gate.\n",
       "\n",
       "The unitary matrix of this gate is:\n",
       "$$\n",
       "    \\begin{bmatrix}\n",
       "        1 & 0 & 0 & 0 \\\\\n",
       "        0 & \\frac{1}{\\sqrt{2}} & -\\frac{i}{\\sqrt{2}} & 0 \\\\\n",
       "        0 & -\\frac{i}{\\sqrt{2}} & \\frac{1}{\\sqrt{2}} & 0 \\\\\n",
       "        0 & 0 & 0 & 1\n",
       "    \\end{bmatrix}\n",
       "$$"
      ],
      "text/plain": [
       "<IPython.core.display.Markdown object>"
      ]
     },
     "metadata": {},
     "output_type": "display_data"
    },
    {
     "data": {
      "text/markdown": [
       "---"
      ],
      "text/plain": [
       "<IPython.core.display.Markdown object>"
      ]
     },
     "metadata": {},
     "output_type": "display_data"
    }
   ],
   "source": [
    "display_gates(\"CX\", \"CZ\", \"SWAP\", \"ISWAP\", \"SQRT_ISWAP\", \"SQRT_ISWAP_INV\")"
   ]
  },
  {
   "cell_type": "markdown",
   "metadata": {
    "id": "900df682eac9"
   },
   "source": [
    "### Parity Gates\n",
    "\n",
    "If $P$ is a non-identity Pauli matrix, then it has eigenvalues $\\pm 1$.  $P \\otimes P$ similarly has eigenvalues $\\pm 1$ which are the product of the eigenvalues of the single $P$ eigenvalues. In this sense, $P \\otimes P$ has an eigenvalue which encodes the parity of the eigenvalues of the two qubits.  If you think of $P \\otimes P$ as phasing its $-1$ eigenvectors by $-1$, then you could consider $(P \\otimes P)^{\\frac{1}{2}}$ as the gate that phases the $-1$ eigenvectors by $\\sqrt{-1} =i$.  The Parity gates are exactly these gates for the three different non-identity Paulis. "
   ]
  },
  {
   "cell_type": "code",
   "execution_count": 8,
   "metadata": {
    "id": "3eb331e1369d"
   },
   "outputs": [
    {
     "data": {
      "text/markdown": [
       "---"
      ],
      "text/plain": [
       "<IPython.core.display.Markdown object>"
      ]
     },
     "metadata": {},
     "output_type": "display_data"
    },
    {
     "data": {
      "text/markdown": [
       "#### cirq.XXPowGate"
      ],
      "text/plain": [
       "<IPython.core.display.Markdown object>"
      ]
     },
     "metadata": {},
     "output_type": "display_data"
    },
    {
     "data": {
      "text/markdown": [
       "The X-parity gate, possibly raised to a power.\n",
       "\n",
       "The XX**t gate implements the following unitary:\n",
       "\n",
       "$$\n",
       "(X \\otimes X)^t = \\begin{bmatrix}\n",
       "                  c & 0 & 0 & s \\\\\n",
       "                  0 & c & s & 0 \\\\\n",
       "                  0 & s & c & 0 \\\\\n",
       "                  s & 0 & 0 & c\n",
       "                  \\end{bmatrix}\n",
       "$$\n",
       "\n",
       "where\n",
       "\n",
       "$$\n",
       "c = f \\cos\\left(\\frac{\\pi t}{2}\\right)\n",
       "$$\n",
       "\n",
       "$$\n",
       "s = -i f \\sin\\left(\\frac{\\pi t}{2}\\right)\n",
       "$$\n",
       "\n",
       "$$\n",
       "f = e^{\\frac{i \\pi t}{2}}.\n",
       "$$\n",
       "\n",
       "See also: `cirq.ion.ion_gates.MSGate` (the Mølmer–Sørensen gate), which is\n",
       "implemented via this class."
      ],
      "text/plain": [
       "<IPython.core.display.Markdown object>"
      ]
     },
     "metadata": {},
     "output_type": "display_data"
    },
    {
     "data": {
      "text/markdown": [
       "---"
      ],
      "text/plain": [
       "<IPython.core.display.Markdown object>"
      ]
     },
     "metadata": {},
     "output_type": "display_data"
    },
    {
     "data": {
      "text/markdown": [
       "#### cirq.YYPowGate"
      ],
      "text/plain": [
       "<IPython.core.display.Markdown object>"
      ]
     },
     "metadata": {},
     "output_type": "display_data"
    },
    {
     "data": {
      "text/markdown": [
       "The Y-parity gate, possibly raised to a power.\n",
       "\n",
       "The YY**t gate implements the following unitary:\n",
       "\n",
       "$$\n",
       "(Y \\otimes Y)^t = \\begin{bmatrix}\n",
       "                  c & 0 & 0 & -s \\\\\n",
       "                  0 & c & s & 0 \\\\\n",
       "                  0 & s & c & 0 \\\\\n",
       "                  -s & 0 & 0 & c \\\\\n",
       "                  \\end{bmatrix}\n",
       "$$\n",
       "\n",
       "where\n",
       "\n",
       "$$\n",
       "c = f \\cos\\left(\\frac{\\pi t}{2}\\right)\n",
       "$$\n",
       "\n",
       "$$\n",
       "s = -i f \\sin\\left(\\frac{\\pi t}{2}\\right)\n",
       "$$\n",
       "\n",
       "$$\n",
       "f = e^{\\frac{i \\pi t}{2}}.\n",
       "$$"
      ],
      "text/plain": [
       "<IPython.core.display.Markdown object>"
      ]
     },
     "metadata": {},
     "output_type": "display_data"
    },
    {
     "data": {
      "text/markdown": [
       "---"
      ],
      "text/plain": [
       "<IPython.core.display.Markdown object>"
      ]
     },
     "metadata": {},
     "output_type": "display_data"
    },
    {
     "data": {
      "text/markdown": [
       "#### cirq.ZZPowGate"
      ],
      "text/plain": [
       "<IPython.core.display.Markdown object>"
      ]
     },
     "metadata": {},
     "output_type": "display_data"
    },
    {
     "data": {
      "text/markdown": [
       "The Z-parity gate, possibly raised to a power.\n",
       "\n",
       "The ZZ**t gate implements the following unitary:\n",
       "\n",
       "$$\n",
       "(Z \\otimes Z)^t = \\begin{bmatrix}\n",
       "                  1 & 0 & 0 & 0 \\\\\n",
       "                  0 & e^{i \\pi t} & 0 & 0 \\\\\n",
       "                  0 & 0 & e^{i \\pi t} & 0 \\\\\n",
       "                  0 & 0 & 0 & 1\n",
       "                  \\end{bmatrix}\n",
       "$$"
      ],
      "text/plain": [
       "<IPython.core.display.Markdown object>"
      ]
     },
     "metadata": {},
     "output_type": "display_data"
    },
    {
     "data": {
      "text/markdown": [
       "---"
      ],
      "text/plain": [
       "<IPython.core.display.Markdown object>"
      ]
     },
     "metadata": {},
     "output_type": "display_data"
    }
   ],
   "source": [
    "display_gates(\"XXPowGate\", \"YYPowGate\", \"ZZPowGate\")"
   ]
  },
  {
   "cell_type": "markdown",
   "metadata": {
    "id": "ce06c9c4af09"
   },
   "source": [
    "There are also constants that one can use to define the parity gates via exponentiating them."
   ]
  },
  {
   "cell_type": "code",
   "execution_count": 9,
   "metadata": {
    "id": "f4d5b06fe14f"
   },
   "outputs": [
    {
     "data": {
      "text/markdown": [
       "---"
      ],
      "text/plain": [
       "<IPython.core.display.Markdown object>"
      ]
     },
     "metadata": {},
     "output_type": "display_data"
    },
    {
     "data": {
      "text/markdown": [
       "#### cirq.XX"
      ],
      "text/plain": [
       "<IPython.core.display.Markdown object>"
      ]
     },
     "metadata": {},
     "output_type": "display_data"
    },
    {
     "data": {
      "text/markdown": [
       "The tensor product of two X gates.\n",
       "\n",
       "Useful for creating `cirq.XXPowGate`s via `cirq.XX**t`.\n",
       "\n",
       "This is the `exponent=1` instance of `cirq.XXPowGate`."
      ],
      "text/plain": [
       "<IPython.core.display.Markdown object>"
      ]
     },
     "metadata": {},
     "output_type": "display_data"
    },
    {
     "data": {
      "text/markdown": [
       "---"
      ],
      "text/plain": [
       "<IPython.core.display.Markdown object>"
      ]
     },
     "metadata": {},
     "output_type": "display_data"
    },
    {
     "data": {
      "text/markdown": [
       "#### cirq.YY"
      ],
      "text/plain": [
       "<IPython.core.display.Markdown object>"
      ]
     },
     "metadata": {},
     "output_type": "display_data"
    },
    {
     "data": {
      "text/markdown": [
       "The tensor product of two Y gates.\n",
       "\n",
       "Useful for creating `cirq.YYPowGate`s via `cirq.YY**t`.\n",
       "\n",
       "This is the `exponent=1` instance of `cirq.YYPowGate`."
      ],
      "text/plain": [
       "<IPython.core.display.Markdown object>"
      ]
     },
     "metadata": {},
     "output_type": "display_data"
    },
    {
     "data": {
      "text/markdown": [
       "---"
      ],
      "text/plain": [
       "<IPython.core.display.Markdown object>"
      ]
     },
     "metadata": {},
     "output_type": "display_data"
    },
    {
     "data": {
      "text/markdown": [
       "#### cirq.ZZ"
      ],
      "text/plain": [
       "<IPython.core.display.Markdown object>"
      ]
     },
     "metadata": {},
     "output_type": "display_data"
    },
    {
     "data": {
      "text/markdown": [
       "The tensor product of two Z gates.\n",
       "\n",
       "Useful for creating `cirq.ZZPowGate`s via `cirq.ZZ**t`.\n",
       "\n",
       "This is the `exponent=1` instance of `cirq.ZZPowGate`."
      ],
      "text/plain": [
       "<IPython.core.display.Markdown object>"
      ]
     },
     "metadata": {},
     "output_type": "display_data"
    },
    {
     "data": {
      "text/markdown": [
       "---"
      ],
      "text/plain": [
       "<IPython.core.display.Markdown object>"
      ]
     },
     "metadata": {},
     "output_type": "display_data"
    }
   ],
   "source": [
    "display_gates(\"XX\", \"YY\", \"ZZ\")"
   ]
  },
  {
   "cell_type": "markdown",
   "metadata": {
    "id": "7018ad92af8a"
   },
   "source": [
    "### Fermionic Gates\n",
    "\n",
    "If we think of $|1\\rangle$ as an excitation, then the gates that preserve the number of excitations are the fermionic gates.  There are two implementations, with differing phase conventions."
   ]
  },
  {
   "cell_type": "code",
   "execution_count": 10,
   "metadata": {
    "id": "fcba4202211b"
   },
   "outputs": [
    {
     "data": {
      "text/markdown": [
       "---"
      ],
      "text/plain": [
       "<IPython.core.display.Markdown object>"
      ]
     },
     "metadata": {},
     "output_type": "display_data"
    },
    {
     "data": {
      "text/markdown": [
       "#### cirq.FSimGate"
      ],
      "text/plain": [
       "<IPython.core.display.Markdown object>"
      ]
     },
     "metadata": {},
     "output_type": "display_data"
    },
    {
     "data": {
      "text/markdown": [
       "Fermionic simulation gate family.\n",
       "\n",
       "Contains all two qubit interactions that preserve excitations, up to\n",
       "single-qubit rotations and global phase.\n",
       "\n",
       "The unitary matrix of this gate is:\n",
       "\n",
       "$$\n",
       "\\begin{bmatrix}\n",
       "    1 & 0 & 0 & 0 \\\\\n",
       "    0 & a & b & 0 \\\\\n",
       "    0 & b & a & 0 \\\\\n",
       "    0 & 0 & 0 & c\n",
       "\\end{bmatrix}\n",
       "$$\n",
       "\n",
       "where:\n",
       "\n",
       "$$\n",
       "a = \\cos(\\theta)\n",
       "$$\n",
       "\n",
       "$$\n",
       "b = -i \\sin(\\theta)\n",
       "$$\n",
       "\n",
       "$$\n",
       "c = e^{i \\phi}\n",
       "$$\n",
       "\n",
       "Note the difference in sign conventions between FSimGate and the\n",
       "ISWAP and CZPowGate:\n",
       "\n",
       "FSimGate(θ, φ) = ISWAP**(-2θ/π) CZPowGate(exponent=-φ/π)"
      ],
      "text/plain": [
       "<IPython.core.display.Markdown object>"
      ]
     },
     "metadata": {},
     "output_type": "display_data"
    },
    {
     "data": {
      "text/markdown": [
       "---"
      ],
      "text/plain": [
       "<IPython.core.display.Markdown object>"
      ]
     },
     "metadata": {},
     "output_type": "display_data"
    },
    {
     "data": {
      "text/markdown": [
       "#### cirq.PhasedFSimGate"
      ],
      "text/plain": [
       "<IPython.core.display.Markdown object>"
      ]
     },
     "metadata": {},
     "output_type": "display_data"
    },
    {
     "data": {
      "text/markdown": [
       "General excitation-preserving two-qubit gate.\n",
       "\n",
       "The unitary matrix of PhasedFSimGate(θ, ζ, χ, γ, φ) is:\n",
       "\n",
       "$$\n",
       "\\begin{bmatrix}\n",
       "    1 & 0 & 0 & 0 \\\\\n",
       "    0 & e^{-i \\gamma - i \\zeta} & -i e^{-i \\gamma + i\\chi} & 0 \\\\\n",
       "    0 & -i e^{-i \\gamma - i \\chi} & e^{-i \\gamma + i \\zeta} & 0 \\\\\n",
       "    0 & 0 & 0 & e^{-2i \\gamma - i \\phi}\n",
       "\\end{bmatrix}\n",
       "$$\n",
       "\n",
       "This parametrization follows eq (18) in https://arxiv.org/abs/2010.07965.\n",
       "See also eq (43) in https://arxiv.org/abs/1910.11333 for an older variant\n",
       "which uses the same θ and φ parameters, but has three phase angles that\n",
       "have different names and opposite sign. Specifically, ∆+ angle corresponds\n",
       "to -γ, ∆- corresponds to -ζ and ∆-,off corresponds to -χ.\n",
       "\n",
       "Another useful parametrization of PhasedFSimGate is based on the fact that\n",
       "the gate is equivalent up to global phase to the following circuit:\n",
       "\n",
       "    0: ───Rz(α0)───FSim(θ, φ)───Rz(β0)───\n",
       "                   │\n",
       "    1: ───Rz(α1)───FSim(θ, φ)───Rz(β1)───\n",
       "\n",
       "where α0 and α1 are Rz angles to be applied before the core FSimGate,\n",
       "β0 and β1 are Rz angles to be applied after FSimGate and θ and φ specify\n",
       "the core FSimGate. Use the static factory function from_fsim_rz to\n",
       "instantiate the gate using this parametrization.\n",
       "\n",
       "Note that the θ and φ parameters in the two parametrizations are the same.\n",
       "\n",
       "The matrix above is block diagonal where the middle block may be any\n",
       "element of U(2) and the bottom right block may be any element of U(1).\n",
       "Consequently, five real parameters are required to specify an instance\n",
       "of PhasedFSimGate. Therefore, the second parametrization is not injective.\n",
       "Indeed, for any angle δ\n",
       "\n",
       "    cirq.PhasedFSimGate.from_fsim_rz(θ, φ, (α0, α1), (β0, β1))\n",
       "\n",
       "and\n",
       "\n",
       "    cirq.PhasedFSimGate.from_fsim_rz(θ, φ,\n",
       "                                     (α0 + δ, α1 + δ),\n",
       "                                     (β0 - δ, β1 - δ))\n",
       "\n",
       "specify the same gate and therefore the two instances will compare as\n",
       "equal up to numerical error. Another consequence of the non-injective\n",
       "character of the second parametrization is the fact that the properties\n",
       "rz_angles_before and rz_angles_after may return different Rz angles\n",
       "than the ones used in the call to from_fsim_rz.\n",
       "\n",
       "This gate is generally not symmetric under exchange of qubits. It becomes\n",
       "symmetric if both of the following conditions are satisfied:\n",
       " * ζ = kπ or θ = π/2 + lπ for k and l integers,\n",
       " * χ = kπ or θ = lπ for k and l integers."
      ],
      "text/plain": [
       "<IPython.core.display.Markdown object>"
      ]
     },
     "metadata": {},
     "output_type": "display_data"
    },
    {
     "data": {
      "text/markdown": [
       "---"
      ],
      "text/plain": [
       "<IPython.core.display.Markdown object>"
      ]
     },
     "metadata": {},
     "output_type": "display_data"
    }
   ],
   "source": [
    "display_gates(\"FSimGate\", \"PhasedFSimGate\")"
   ]
  },
  {
   "cell_type": "markdown",
   "metadata": {
    "id": "921c70a620ec"
   },
   "source": [
    "### Two qubit PowGates\n",
    "\n",
    "Just as `cirq.XPowGate` represents a powering of `cirq.X`, our two qubit gate constants also have corresponding \"Pow\" versions."
   ]
  },
  {
   "cell_type": "code",
   "execution_count": 11,
   "metadata": {
    "id": "492accb5827e"
   },
   "outputs": [
    {
     "data": {
      "text/markdown": [
       "---"
      ],
      "text/plain": [
       "<IPython.core.display.Markdown object>"
      ]
     },
     "metadata": {},
     "output_type": "display_data"
    },
    {
     "data": {
      "text/markdown": [
       "#### cirq.SwapPowGate"
      ],
      "text/plain": [
       "<IPython.core.display.Markdown object>"
      ]
     },
     "metadata": {},
     "output_type": "display_data"
    },
    {
     "data": {
      "text/markdown": [
       "The SWAP gate, possibly raised to a power. Exchanges qubits.\n",
       "\n",
       "SwapPowGate()**t = SwapPowGate(exponent=t) and acts on two qubits in the\n",
       "computational basis as the matrix:\n",
       "\n",
       "$$\n",
       "\\begin{bmatrix}\n",
       "    1 & 0 & 0 & 0 \\\\\n",
       "    0 & g c & -i g s & 0 \\\\\n",
       "    0 & -i g s & g c & 0 \\\\\n",
       "    0 & 0 & 0 & 1\n",
       "\\end{bmatrix}\n",
       "$$\n",
       "\n",
       "where:\n",
       "\n",
       "$$\n",
       "c = \\cos\\left(\\frac{\\pi t}{2}\\right)\n",
       "$$\n",
       "$$\n",
       "s = \\sin(\\left(\\frac{\\pi t}{2}\\right)\n",
       "$$\n",
       "$$\n",
       "g = e^{\\frac{i \\pi t}{2}}\n",
       "$$\n",
       "\n",
       "`cirq.SWAP`, the swap gate, is an instance of this gate at exponent=1."
      ],
      "text/plain": [
       "<IPython.core.display.Markdown object>"
      ]
     },
     "metadata": {},
     "output_type": "display_data"
    },
    {
     "data": {
      "text/markdown": [
       "---"
      ],
      "text/plain": [
       "<IPython.core.display.Markdown object>"
      ]
     },
     "metadata": {},
     "output_type": "display_data"
    },
    {
     "data": {
      "text/markdown": [
       "#### cirq.ISwapPowGate"
      ],
      "text/plain": [
       "<IPython.core.display.Markdown object>"
      ]
     },
     "metadata": {},
     "output_type": "display_data"
    },
    {
     "data": {
      "text/markdown": [
       "Rotates the |01⟩ vs |10⟩ subspace of two qubits around its Bloch X-axis.\n",
       "\n",
       "When exponent=1, swaps the two qubits and phases |01⟩ and |10⟩ by i. More\n",
       "generally, this gate's matrix is defined as follows:\n",
       "\n",
       "    ISWAP**t ≡ exp(+i π t (X⊗X + Y⊗Y) / 4)\n",
       "\n",
       "which is given by the matrix:\n",
       "\n",
       "$$\n",
       "\\begin{bmatrix}\n",
       "    1 & 0 & 0 & 0 \\\\\n",
       "    0 & c & i s & 0 \\\\\n",
       "    0 & i s & c & 0 \\\\\n",
       "    0 & 0 & 0 & 1\n",
       "\\end{bmatrix}\n",
       "$$\n",
       "\n",
       "where\n",
       "\n",
       "$$\n",
       "c = \\cos\\left(\\frac{\\pi t}{2}\\right)\n",
       "$$\n",
       "$$\n",
       "s = \\sin\\left(\\frac{\\pi t}{2}\\right)\n",
       "$$\n",
       "\n",
       "`cirq.ISWAP`, the swap gate that applies i to the |01⟩ and |10⟩ states,\n",
       "is an instance of this gate at exponent=1.\n",
       "\n",
       "References:\n",
       "    \"What is the matrix of the iSwap gate?\"\n",
       "    https://quantumcomputing.stackexchange.com/questions/2594/"
      ],
      "text/plain": [
       "<IPython.core.display.Markdown object>"
      ]
     },
     "metadata": {},
     "output_type": "display_data"
    },
    {
     "data": {
      "text/markdown": [
       "---"
      ],
      "text/plain": [
       "<IPython.core.display.Markdown object>"
      ]
     },
     "metadata": {},
     "output_type": "display_data"
    },
    {
     "data": {
      "text/markdown": [
       "#### cirq.CZPowGate"
      ],
      "text/plain": [
       "<IPython.core.display.Markdown object>"
      ]
     },
     "metadata": {},
     "output_type": "display_data"
    },
    {
     "data": {
      "text/markdown": [
       "A gate that applies a phase to the |11⟩ state of two qubits.\n",
       "\n",
       "The unitary matrix of `CZPowGate(exponent=t)` is (empty cells are $0$)\n",
       "\n",
       "$$\n",
       "\\begin{bmatrix}\n",
       "    1 & & & \\\\\n",
       "    & 1 & & \\\\\n",
       "    & & 1 & \\\\\n",
       "    & & & e^{i \\pi t} \\\\\n",
       "\\end{bmatrix}\n",
       "$$\n",
       "\n",
       "`cirq.CZ`, the controlled Z gate, is an instance of this gate at\n",
       "`exponent=1`."
      ],
      "text/plain": [
       "<IPython.core.display.Markdown object>"
      ]
     },
     "metadata": {},
     "output_type": "display_data"
    },
    {
     "data": {
      "text/markdown": [
       "---"
      ],
      "text/plain": [
       "<IPython.core.display.Markdown object>"
      ]
     },
     "metadata": {},
     "output_type": "display_data"
    },
    {
     "data": {
      "text/markdown": [
       "#### cirq.CXPowGate"
      ],
      "text/plain": [
       "<IPython.core.display.Markdown object>"
      ]
     },
     "metadata": {},
     "output_type": "display_data"
    },
    {
     "data": {
      "text/markdown": [
       "A gate that applies a controlled power of an X gate.\n",
       "\n",
       "When applying CNOT (controlled-not) to qubits, you can either use\n",
       "positional arguments CNOT(q1, q2), where q2 is toggled when q1 is on,\n",
       "or named arguments CNOT(control=q1, target=q2).\n",
       "(Mixing the two is not permitted.)\n",
       "\n",
       "The unitary matrix of `cirq.CXPowGate(exponent=t)` is:\n",
       "\n",
       "$$\n",
       "\\begin{bmatrix}\n",
       "    1 & & & \\\\\n",
       "    & 1 & & \\\\\n",
       "    & & g c & -i g s \\\\\n",
       "    & & -i g s & g c\n",
       "\\end{bmatrix}\n",
       "$$\n",
       "\n",
       "where:\n",
       "\n",
       "$$\n",
       "c = \\cos\\left(\\frac{\\pi t}{2}\\right)\n",
       "$$\n",
       "$$\n",
       "s = \\sin\\left(\\frac{\\pi t}{2}\\right)\n",
       "$$\n",
       "$$\n",
       "g = e^{\\frac{i \\pi t}{2}}\n",
       "$$\n",
       "\n",
       "`cirq.CNOT`, the controlled NOT gate, is an instance of this gate at\n",
       "`exponent=1`."
      ],
      "text/plain": [
       "<IPython.core.display.Markdown object>"
      ]
     },
     "metadata": {},
     "output_type": "display_data"
    },
    {
     "data": {
      "text/markdown": [
       "---"
      ],
      "text/plain": [
       "<IPython.core.display.Markdown object>"
      ]
     },
     "metadata": {},
     "output_type": "display_data"
    },
    {
     "data": {
      "text/markdown": [
       "#### cirq.PhasedISwapPowGate"
      ],
      "text/plain": [
       "<IPython.core.display.Markdown object>"
      ]
     },
     "metadata": {},
     "output_type": "display_data"
    },
    {
     "data": {
      "text/markdown": [
       "Fractional ISWAP conjugated by Z rotations.\n",
       "\n",
       "PhasedISwapPowGate with phase_exponent p and exponent t is equivalent to\n",
       "the composition\n",
       "\n",
       "    (Z^-p ⊗ Z^p) ISWAP^t (Z^p ⊗ Z^-p)\n",
       "\n",
       "and is given by the matrix:\n",
       "\n",
       "$$\n",
       "\\begin{bmatrix}\n",
       "    1 & 0 & 0 & 0 \\\\\n",
       "    0 & c & i s f & 0 \\\\\n",
       "    0 & i s f^* & c & 0 \\\\\n",
       "    0 & 0 & 0 & 1\n",
       "\\end{bmatrix}\n",
       "$$\n",
       "\n",
       "where:\n",
       "\n",
       "$$\n",
       "c = \\cos\\left(\\frac{\\pi t}{2}\\right)\n",
       "$$\n",
       "$$\n",
       "s = \\sin\\left(\\frac{\\pi t}{2}\\right)\n",
       "$$\n",
       "$$\n",
       "f = e^{2 \\pi p i}\n",
       "$$"
      ],
      "text/plain": [
       "<IPython.core.display.Markdown object>"
      ]
     },
     "metadata": {},
     "output_type": "display_data"
    },
    {
     "data": {
      "text/markdown": [
       "---"
      ],
      "text/plain": [
       "<IPython.core.display.Markdown object>"
      ]
     },
     "metadata": {},
     "output_type": "display_data"
    }
   ],
   "source": [
    "display_gates(\"SwapPowGate\", \"ISwapPowGate\", \"CZPowGate\", \"CXPowGate\", \"PhasedISwapPowGate\")"
   ]
  },
  {
   "cell_type": "markdown",
   "metadata": {
    "id": "c02cf4d59d01"
   },
   "source": [
    "## Three Qubit Gates\n",
    "\n",
    "### Gate Constants\n",
    "\n",
    "Cirq provides constants for common three qubit gates."
   ]
  },
  {
   "cell_type": "code",
   "execution_count": 12,
   "metadata": {
    "id": "7ceda5b42e82"
   },
   "outputs": [
    {
     "data": {
      "text/markdown": [
       "---"
      ],
      "text/plain": [
       "<IPython.core.display.Markdown object>"
      ]
     },
     "metadata": {},
     "output_type": "display_data"
    },
    {
     "data": {
      "text/markdown": [
       "#### cirq.CCX"
      ],
      "text/plain": [
       "<IPython.core.display.Markdown object>"
      ]
     },
     "metadata": {},
     "output_type": "display_data"
    },
    {
     "data": {
      "text/markdown": [
       "The Tofolli gate, also known as the Controlled-Controlled-X gate.\n",
       "\n",
       "If the first two qubits are in the |11⟩ state, this flips the third qubit\n",
       "in the computational basis, otherwise this applies identity to the third qubit.\n",
       "\n",
       "The `exponent=1` instance of `cirq.CCXPowGate`.\n",
       "\n",
       "The unitary matrix of this gate is:\n",
       "\n",
       "$$\n",
       "\\begin{bmatrix}\n",
       "    1 & 0 & 0 & 0 & 0 & 0 & 0 & 0 \\\\\n",
       "    0 & 1 & 0 & 0 & 0 & 0 & 0 & 0 \\\\\n",
       "    0 & 0 & 1 & 0 & 0 & 0 & 0 & 0 \\\\\n",
       "    0 & 0 & 0 & 1 & 0 & 0 & 0 & 0 \\\\\n",
       "    0 & 0 & 0 & 0 & 1 & 0 & 0 & 0 \\\\\n",
       "    0 & 0 & 0 & 0 & 0 & 1 & 0 & 0 \\\\\n",
       "    0 & 0 & 0 & 0 & 0 & 0 & 0 & 1 \\\\\n",
       "    0 & 0 & 0 & 0 & 0 & 0 & 1 & 0\n",
       "\\end{bmatrix}\n",
       "$$\n",
       "\n",
       "Alternative names: `cirq.CCNOT` and `cirq.TOFFOLI`."
      ],
      "text/plain": [
       "<IPython.core.display.Markdown object>"
      ]
     },
     "metadata": {},
     "output_type": "display_data"
    },
    {
     "data": {
      "text/markdown": [
       "---"
      ],
      "text/plain": [
       "<IPython.core.display.Markdown object>"
      ]
     },
     "metadata": {},
     "output_type": "display_data"
    },
    {
     "data": {
      "text/markdown": [
       "#### cirq.CCZ"
      ],
      "text/plain": [
       "<IPython.core.display.Markdown object>"
      ]
     },
     "metadata": {},
     "output_type": "display_data"
    },
    {
     "data": {
      "text/markdown": [
       "The Controlled-Controlled-Z gate.\n",
       "\n",
       "The `exponent=1` instance of `cirq.CCZPowGate`.\n",
       "\n",
       "The unitary matrix of this gate is:\n",
       "$$\n",
       "\\begin{bmatrix}\n",
       "    1 & 0 & 0 & 0 & 0 & 0 & 0 & 0 \\\\\n",
       "    0 & 1 & 0 & 0 & 0 & 0 & 0 & 0 \\\\\n",
       "    0 & 0 & 1 & 0 & 0 & 0 & 0 & 0 \\\\\n",
       "    0 & 0 & 0 & 1 & 0 & 0 & 0 & 0 \\\\\n",
       "    0 & 0 & 0 & 0 & 1 & 0 & 0 & 0 \\\\\n",
       "    0 & 0 & 0 & 0 & 0 & 1 & 0 & 0 \\\\\n",
       "    0 & 0 & 0 & 0 & 0 & 0 & 1 & 0 \\\\\n",
       "    0 & 0 & 0 & 0 & 0 & 0 & 0 & -1\n",
       "\\end{bmatrix}\n",
       "$$"
      ],
      "text/plain": [
       "<IPython.core.display.Markdown object>"
      ]
     },
     "metadata": {},
     "output_type": "display_data"
    },
    {
     "data": {
      "text/markdown": [
       "---"
      ],
      "text/plain": [
       "<IPython.core.display.Markdown object>"
      ]
     },
     "metadata": {},
     "output_type": "display_data"
    },
    {
     "data": {
      "text/markdown": [
       "#### cirq.CSWAP"
      ],
      "text/plain": [
       "<IPython.core.display.Markdown object>"
      ]
     },
     "metadata": {},
     "output_type": "display_data"
    },
    {
     "data": {
      "text/markdown": [
       "The Controlled Swap gate, also known as the Fredkin gate.\n",
       "\n",
       "If the first qubit is |1⟩, this applies a SWAP between the second and third qubit,\n",
       "otherwise it acts as identity on the second and third qubit.\n",
       "\n",
       "An instance of `cirq.CSwapGate`.\n",
       "\n",
       "The unitary matrix of this gate is:\n",
       "$$\n",
       "\\begin{bmatrix}\n",
       "    1 & 0 & 0 & 0 & 0 & 0 & 0 & 0 \\\\\n",
       "    0 & 1 & 0 & 0 & 0 & 0 & 0 & 0 \\\\\n",
       "    0 & 0 & 1 & 0 & 0 & 0 & 0 & 0 \\\\\n",
       "    0 & 0 & 0 & 1 & 0 & 0 & 0 & 0 \\\\\n",
       "    0 & 0 & 0 & 0 & 1 & 0 & 0 & 0 \\\\\n",
       "    0 & 0 & 0 & 0 & 0 & 0 & 1 & 0 \\\\\n",
       "    0 & 0 & 0 & 0 & 0 & 1 & 0 & 0 \\\\\n",
       "    0 & 0 & 0 & 0 & 0 & 0 & 0 & 1\n",
       "\\end{bmatrix}\n",
       "$$\n",
       "\n",
       "Alternative names: `cirq.FREDKIN`."
      ],
      "text/plain": [
       "<IPython.core.display.Markdown object>"
      ]
     },
     "metadata": {},
     "output_type": "display_data"
    },
    {
     "data": {
      "text/markdown": [
       "---"
      ],
      "text/plain": [
       "<IPython.core.display.Markdown object>"
      ]
     },
     "metadata": {},
     "output_type": "display_data"
    }
   ],
   "source": [
    "display_gates(\"CCX\", \"CCZ\", \"CSWAP\")"
   ]
  },
  {
   "cell_type": "markdown",
   "metadata": {
    "id": "8c731a5d0e51"
   },
   "source": [
    "### Three Qubit Pow Gates\n",
    "\n",
    "Corresponding to some of the above gate constants are the corresponding PowGates."
   ]
  },
  {
   "cell_type": "code",
   "execution_count": 13,
   "metadata": {
    "id": "3de3b125d41c"
   },
   "outputs": [
    {
     "data": {
      "text/markdown": [
       "---"
      ],
      "text/plain": [
       "<IPython.core.display.Markdown object>"
      ]
     },
     "metadata": {},
     "output_type": "display_data"
    },
    {
     "data": {
      "text/markdown": [
       "#### cirq.CCXPowGate"
      ],
      "text/plain": [
       "<IPython.core.display.Markdown object>"
      ]
     },
     "metadata": {},
     "output_type": "display_data"
    },
    {
     "data": {
      "text/markdown": [
       "A Toffoli (doubly-controlled-NOT) that can be raised to a power.\n",
       "\n",
       "The unitary matrix of `CCX**t` is an 8x8 identity except the bottom right\n",
       "2x2 area is the matrix of `X**t`:\n",
       "\n",
       "$$\n",
       "\\begin{bmatrix}\n",
       "    1 & 0 & 0 & 0 & 0 & 0 & 0 & 0 \\\\\n",
       "    0 & 1 & 0 & 0 & 0 & 0 & 0 & 0 \\\\\n",
       "    0 & 0 & 1 & 0 & 0 & 0 & 0 & 0 \\\\\n",
       "    0 & 0 & 0 & 1 & 0 & 0 & 0 & 0 \\\\\n",
       "    0 & 0 & 0 & 0 & 1 & 0 & 0 & 0 \\\\\n",
       "    0 & 0 & 0 & 0 & 0 & 1 & 0 & 0 \\\\\n",
       "    0 & 0 & 0 & 0 & 0 & 0 & e^{i \\pi t /2} \\cos(\\pi t) & -i e^{i \\pi t /2} \\sin(\\pi t) \\\\\n",
       "    0 & 0 & 0 & 0 & 0 & 0 & -i e^{i \\pi t /2} \\sin(\\pi t) & e^{i \\pi t /2} \\cos(\\pi t)\n",
       "\\end{bmatrix}\n",
       "$$"
      ],
      "text/plain": [
       "<IPython.core.display.Markdown object>"
      ]
     },
     "metadata": {},
     "output_type": "display_data"
    },
    {
     "data": {
      "text/markdown": [
       "---"
      ],
      "text/plain": [
       "<IPython.core.display.Markdown object>"
      ]
     },
     "metadata": {},
     "output_type": "display_data"
    },
    {
     "data": {
      "text/markdown": [
       "#### cirq.CCZPowGate"
      ],
      "text/plain": [
       "<IPython.core.display.Markdown object>"
      ]
     },
     "metadata": {},
     "output_type": "display_data"
    },
    {
     "data": {
      "text/markdown": [
       "A doubly-controlled-Z that can be raised to a power.\n",
       "\n",
       "The unitary matrix of `CCZ**t` is\n",
       "\n",
       "$$\n",
       "\\begin{bmatrix}\n",
       "    1 & 0 & 0 & 0 & 0 & 0 & 0 & 0 \\\\\n",
       "    0 & 1 & 0 & 0 & 0 & 0 & 0 & 0 \\\\\n",
       "    0 & 0 & 1 & 0 & 0 & 0 & 0 & 0 \\\\\n",
       "    0 & 0 & 0 & 1 & 0 & 0 & 0 & 0 \\\\\n",
       "    0 & 0 & 0 & 0 & 1 & 0 & 0 & 0 \\\\\n",
       "    0 & 0 & 0 & 0 & 0 & 1 & 0 & 0 \\\\\n",
       "    0 & 0 & 0 & 0 & 0 & 0 & 1 & 0 \\\\\n",
       "    0 & 0 & 0 & 0 & 0 & 0 & 0 & e^{i \\pi t}\n",
       "\\end{bmatrix}\n",
       "$$"
      ],
      "text/plain": [
       "<IPython.core.display.Markdown object>"
      ]
     },
     "metadata": {},
     "output_type": "display_data"
    },
    {
     "data": {
      "text/markdown": [
       "---"
      ],
      "text/plain": [
       "<IPython.core.display.Markdown object>"
      ]
     },
     "metadata": {},
     "output_type": "display_data"
    }
   ],
   "source": [
    "display_gates(\"CCXPowGate\", \"CCZPowGate\")"
   ]
  },
  {
   "cell_type": "markdown",
   "metadata": {
    "id": "1f05b8d50eae"
   },
   "source": [
    "## N Qubit Gates\n",
    "\n",
    "### Do Nothing Gates\n",
    "\n",
    "Sometimes you just want a gate to represent doing nothing."
   ]
  },
  {
   "cell_type": "code",
   "execution_count": 14,
   "metadata": {
    "id": "9bff9fe0f592"
   },
   "outputs": [
    {
     "data": {
      "text/markdown": [
       "---"
      ],
      "text/plain": [
       "<IPython.core.display.Markdown object>"
      ]
     },
     "metadata": {},
     "output_type": "display_data"
    },
    {
     "data": {
      "text/markdown": [
       "#### cirq.IdentityGate"
      ],
      "text/plain": [
       "<IPython.core.display.Markdown object>"
      ]
     },
     "metadata": {},
     "output_type": "display_data"
    },
    {
     "data": {
      "text/markdown": [
       "A Gate that perform no operation on qubits.\n",
       "\n",
       "The unitary matrix of this gate is a diagonal matrix with all 1s on the\n",
       "diagonal and all 0s off the diagonal in any basis.\n",
       "\n",
       "`cirq.I` is the single qubit identity gate."
      ],
      "text/plain": [
       "<IPython.core.display.Markdown object>"
      ]
     },
     "metadata": {},
     "output_type": "display_data"
    },
    {
     "data": {
      "text/markdown": [
       "---"
      ],
      "text/plain": [
       "<IPython.core.display.Markdown object>"
      ]
     },
     "metadata": {},
     "output_type": "display_data"
    },
    {
     "data": {
      "text/markdown": [
       "#### cirq.WaitGate"
      ],
      "text/plain": [
       "<IPython.core.display.Markdown object>"
      ]
     },
     "metadata": {},
     "output_type": "display_data"
    },
    {
     "data": {
      "text/markdown": [
       "An idle gate that represents waiting.\n",
       "\n",
       "In non-noisy simulators, this gate is just an identity gate. But noisy\n",
       "simulators and noise models may insert more error for longer waits."
      ],
      "text/plain": [
       "<IPython.core.display.Markdown object>"
      ]
     },
     "metadata": {},
     "output_type": "display_data"
    },
    {
     "data": {
      "text/markdown": [
       "---"
      ],
      "text/plain": [
       "<IPython.core.display.Markdown object>"
      ]
     },
     "metadata": {},
     "output_type": "display_data"
    }
   ],
   "source": [
    "display_gates(\"IdentityGate\", \"WaitGate\")"
   ]
  },
  {
   "cell_type": "markdown",
   "metadata": {
    "id": "49c9543253c7"
   },
   "source": [
    "### Measurement Gates\n",
    "\n",
    "Measurement gates are gates that represent a measurement and can operate on any number of qubits."
   ]
  },
  {
   "cell_type": "code",
   "execution_count": 15,
   "metadata": {
    "id": "d8ad747875a8"
   },
   "outputs": [
    {
     "data": {
      "text/markdown": [
       "---"
      ],
      "text/plain": [
       "<IPython.core.display.Markdown object>"
      ]
     },
     "metadata": {},
     "output_type": "display_data"
    },
    {
     "data": {
      "text/markdown": [
       "#### cirq.MeasurementGate"
      ],
      "text/plain": [
       "<IPython.core.display.Markdown object>"
      ]
     },
     "metadata": {},
     "output_type": "display_data"
    },
    {
     "data": {
      "text/markdown": [
       "A gate that measures qubits in the computational basis.\n",
       "\n",
       "The measurement gate contains a key that is used to identify results\n",
       "of measurements.\n",
       "\n",
       "Instead of constructing this directly, consider using the `cirq.measure`\n",
       "helper method."
      ],
      "text/plain": [
       "<IPython.core.display.Markdown object>"
      ]
     },
     "metadata": {},
     "output_type": "display_data"
    },
    {
     "data": {
      "text/markdown": [
       "---"
      ],
      "text/plain": [
       "<IPython.core.display.Markdown object>"
      ]
     },
     "metadata": {},
     "output_type": "display_data"
    }
   ],
   "source": [
    "display_gates(\"MeasurementGate\")"
   ]
  },
  {
   "cell_type": "markdown",
   "metadata": {
    "id": "fba13da22109"
   },
   "source": [
    "### Matrix Gates\n",
    "\n",
    "If one has a specific unitary matrix in mind, then one can construct it using matrix gates, or, if the unitary is diagonal, the diagonal gates."
   ]
  },
  {
   "cell_type": "code",
   "execution_count": 16,
   "metadata": {
    "id": "05a4209d7313"
   },
   "outputs": [
    {
     "data": {
      "text/markdown": [
       "---"
      ],
      "text/plain": [
       "<IPython.core.display.Markdown object>"
      ]
     },
     "metadata": {},
     "output_type": "display_data"
    },
    {
     "data": {
      "text/markdown": [
       "#### cirq.MatrixGate"
      ],
      "text/plain": [
       "<IPython.core.display.Markdown object>"
      ]
     },
     "metadata": {},
     "output_type": "display_data"
    },
    {
     "data": {
      "text/markdown": [
       "A unitary qubit or qudit gate defined entirely by its numpy matrix.\n",
       "\n",
       "For example `cirq.MatrixGate(np.array([[0, 1j], [1, 0]]))` has the unitary matrix:\n",
       "\n",
       "$$\n",
       "\\begin{bmatrix}\n",
       "    0 & i \\\\\n",
       "    1 & 0\n",
       "\\end{bmatrix}\n",
       "$$"
      ],
      "text/plain": [
       "<IPython.core.display.Markdown object>"
      ]
     },
     "metadata": {},
     "output_type": "display_data"
    },
    {
     "data": {
      "text/markdown": [
       "---"
      ],
      "text/plain": [
       "<IPython.core.display.Markdown object>"
      ]
     },
     "metadata": {},
     "output_type": "display_data"
    },
    {
     "data": {
      "text/markdown": [
       "#### cirq.DiagonalGate"
      ],
      "text/plain": [
       "<IPython.core.display.Markdown object>"
      ]
     },
     "metadata": {},
     "output_type": "display_data"
    },
    {
     "data": {
      "text/markdown": [
       "An n qubit gate which acts as phases on computational basis states.\n",
       "\n",
       "This gate's off-diagonal elements are zero and its on-diagonal elements are\n",
       "all phases."
      ],
      "text/plain": [
       "<IPython.core.display.Markdown object>"
      ]
     },
     "metadata": {},
     "output_type": "display_data"
    },
    {
     "data": {
      "text/markdown": [
       "---"
      ],
      "text/plain": [
       "<IPython.core.display.Markdown object>"
      ]
     },
     "metadata": {},
     "output_type": "display_data"
    },
    {
     "data": {
      "text/markdown": [
       "#### cirq.TwoQubitDiagonalGate"
      ],
      "text/plain": [
       "<IPython.core.display.Markdown object>"
      ]
     },
     "metadata": {},
     "output_type": "display_data"
    },
    {
     "data": {
      "text/markdown": [
       "A two qubit gate whose unitary is a diagonal $4 \\times 4$ matrix.\n",
       "\n",
       "This gate's off-diagonal elements are zero and its on-diagonal\n",
       "elements are all phases.\n",
       "\n",
       "For example, `cirq.TwoQubitDiagonalGate([0, 1, -1, 0])` has the\n",
       "unitary matrix\n",
       "\n",
       "$$\n",
       "\\begin{bmatrix}\n",
       "    1 & 0 & 0 & 0 \\\\\n",
       "    0 & e^i & 0 & 0 \\\\\n",
       "    0 & 0 & e^{-i} & 0 \\\\\n",
       "    0 & 0 & 0 & 1\n",
       "\\end{bmatrix}\n",
       "$$"
      ],
      "text/plain": [
       "<IPython.core.display.Markdown object>"
      ]
     },
     "metadata": {},
     "output_type": "display_data"
    },
    {
     "data": {
      "text/markdown": [
       "---"
      ],
      "text/plain": [
       "<IPython.core.display.Markdown object>"
      ]
     },
     "metadata": {},
     "output_type": "display_data"
    },
    {
     "data": {
      "text/markdown": [
       "#### cirq.ThreeQubitDiagonalGate"
      ],
      "text/plain": [
       "<IPython.core.display.Markdown object>"
      ]
     },
     "metadata": {},
     "output_type": "display_data"
    },
    {
     "data": {
      "text/markdown": [
       "A three qubit gate whose unitary is given by a diagonal $8 \\times 8$ matrix.\n",
       "\n",
       "This gate's off-diagonal elements are zero and its on diagonal\n",
       "elements are all phases."
      ],
      "text/plain": [
       "<IPython.core.display.Markdown object>"
      ]
     },
     "metadata": {},
     "output_type": "display_data"
    },
    {
     "data": {
      "text/markdown": [
       "---"
      ],
      "text/plain": [
       "<IPython.core.display.Markdown object>"
      ]
     },
     "metadata": {},
     "output_type": "display_data"
    }
   ],
   "source": [
    "display_gates(\"MatrixGate\", \"DiagonalGate\", \"TwoQubitDiagonalGate\", \"ThreeQubitDiagonalGate\")"
   ]
  },
  {
   "cell_type": "markdown",
   "metadata": {
    "id": "12407f46f859"
   },
   "source": [
    "### Pauli String Gates\n",
    "\n",
    "Pauli strings are expressions like \"XXZ\" representing the Pauli operator X operating on the first two qubits, and Z on the last qubit, along with a numeric (or symbolic) coefficient. When the coefficient is a unit complex number, then this is a valid unitary gate.  Similarly one can construct gates which phases the $\\pm 1$ eigenvalues of such a Pauli string."
   ]
  },
  {
   "cell_type": "code",
   "execution_count": 17,
   "metadata": {
    "id": "4e901520caf3"
   },
   "outputs": [
    {
     "data": {
      "text/markdown": [
       "---"
      ],
      "text/plain": [
       "<IPython.core.display.Markdown object>"
      ]
     },
     "metadata": {},
     "output_type": "display_data"
    },
    {
     "data": {
      "text/markdown": [
       "#### cirq.DensePauliString"
      ],
      "text/plain": [
       "<IPython.core.display.Markdown object>"
      ]
     },
     "metadata": {},
     "output_type": "display_data"
    },
    {
     "data": {
      "text/markdown": [
       "An immutable string of Paulis, like `XIXY`, with a coefficient.\n",
       "\n",
       "This represents a Pauli operator acting on qubits.\n",
       "\n",
       "For example, `cirq.MutableDensePauliString(\"XXY\")` represents a\n",
       "three qubit operation that acts with `X` on the first two qubits, and\n",
       "`Y` on the last.\n",
       "\n",
       "This can optionally take a coefficient, for example,\n",
       "`cirq.MutableDensePauliString(\"XX\", 3)`, which represents 3 times\n",
       "the operator acting on X on two qubits.\n",
       "\n",
       "If the coefficient has magnitude of 1, then this is also a `cirq.Gate`."
      ],
      "text/plain": [
       "<IPython.core.display.Markdown object>"
      ]
     },
     "metadata": {},
     "output_type": "display_data"
    },
    {
     "data": {
      "text/markdown": [
       "---"
      ],
      "text/plain": [
       "<IPython.core.display.Markdown object>"
      ]
     },
     "metadata": {},
     "output_type": "display_data"
    },
    {
     "data": {
      "text/markdown": [
       "#### cirq.MutableDensePauliString"
      ],
      "text/plain": [
       "<IPython.core.display.Markdown object>"
      ]
     },
     "metadata": {},
     "output_type": "display_data"
    },
    {
     "data": {
      "text/markdown": [
       "A mutable string of Paulis, like `XIXY`, with a coefficient.\n",
       "\n",
       "This represents a Pauli operator acting on qubits.\n",
       "\n",
       "For example, `cirq.MutableDensePauliString(\"XXY\")` represents a\n",
       "three qubit operation that acts with `X` on the first two qubits, and\n",
       "`Y` on the last.\n",
       "\n",
       "This can optionally take a coefficient, for example,\n",
       "`cirq.MutableDensePauliString(\"XX\", 3)`, which represents 3 times\n",
       "the operator acting on X on two qubits.\n",
       "\n",
       "If the coefficient has magnitude of 1, then this is also a `cirq.Gate`."
      ],
      "text/plain": [
       "<IPython.core.display.Markdown object>"
      ]
     },
     "metadata": {},
     "output_type": "display_data"
    },
    {
     "data": {
      "text/markdown": [
       "---"
      ],
      "text/plain": [
       "<IPython.core.display.Markdown object>"
      ]
     },
     "metadata": {},
     "output_type": "display_data"
    },
    {
     "data": {
      "text/markdown": [
       "#### cirq.PauliStringPhasorGate"
      ],
      "text/plain": [
       "<IPython.core.display.Markdown object>"
      ]
     },
     "metadata": {},
     "output_type": "display_data"
    },
    {
     "data": {
      "text/markdown": [
       "A gate that phases the eigenstates of a Pauli string.\n",
       "\n",
       "The -1 eigenstates of the Pauli string will have their amplitude multiplied\n",
       "by e^(i pi exponent_neg) while +1 eigenstates of the Pauli string will have\n",
       "their amplitude multiplied by e^(i pi exponent_pos)."
      ],
      "text/plain": [
       "<IPython.core.display.Markdown object>"
      ]
     },
     "metadata": {},
     "output_type": "display_data"
    },
    {
     "data": {
      "text/markdown": [
       "---"
      ],
      "text/plain": [
       "<IPython.core.display.Markdown object>"
      ]
     },
     "metadata": {},
     "output_type": "display_data"
    }
   ],
   "source": [
    "display_gates(\"DensePauliString\", \"MutableDensePauliString\", \"PauliStringPhasorGate\")"
   ]
  },
  {
   "cell_type": "markdown",
   "metadata": {
    "id": "7be674562875"
   },
   "source": [
    "### Algorithm Based Gates\n",
    "\n",
    "It is useful to define composite gates which correspond to algorithmic primitives, i.e. one can think of the fourier transform as a single unitary gate."
   ]
  },
  {
   "cell_type": "code",
   "execution_count": 18,
   "metadata": {
    "id": "ccad5e95edcc"
   },
   "outputs": [
    {
     "data": {
      "text/markdown": [
       "---"
      ],
      "text/plain": [
       "<IPython.core.display.Markdown object>"
      ]
     },
     "metadata": {},
     "output_type": "display_data"
    },
    {
     "data": {
      "text/markdown": [
       "#### cirq.BooleanHamiltonianGate"
      ],
      "text/plain": [
       "<IPython.core.display.Markdown object>"
      ]
     },
     "metadata": {},
     "output_type": "display_data"
    },
    {
     "data": {
      "text/markdown": [
       "A gate that represents evolution due to a Hamiltonian from a set of Boolean functions.\n",
       "\n",
       "This gate constructs a diagonal gate in the computational basis that encodes in its\n",
       "phases classical functions.\n",
       "\n",
       "The gate is specified by a list of parameters, $[x_0, x_1, \\dots, x_{n-1}]$, a\n",
       "list of boolean expressions that are functions of these parameters,\n",
       "$[f_0(x_0,\\dots,x_{n-1}), f_1(x_0,\\dots,x_{n-1}), \\dots f_{p-1}(x_0,\\dots,x_{n-1})]$\n",
       "and an angle $t$. For these parameters the gate is\n",
       "\n",
       "$$\n",
       "\\sum_{x=0}^{2^n-1} e^{i \\frac{t}{2} \\sum_{k=0}^{p-1}f_k(x_0,\\dots,x_{n-1})} |x\\rangle\\langle x|\n",
       "$$"
      ],
      "text/plain": [
       "<IPython.core.display.Markdown object>"
      ]
     },
     "metadata": {},
     "output_type": "display_data"
    },
    {
     "data": {
      "text/markdown": [
       "---"
      ],
      "text/plain": [
       "<IPython.core.display.Markdown object>"
      ]
     },
     "metadata": {},
     "output_type": "display_data"
    },
    {
     "data": {
      "text/markdown": [
       "#### cirq.QuantumFourierTransformGate"
      ],
      "text/plain": [
       "<IPython.core.display.Markdown object>"
      ]
     },
     "metadata": {},
     "output_type": "display_data"
    },
    {
     "data": {
      "text/markdown": [
       "Switches from the computational basis to the frequency basis.\n",
       "\n",
       "This gate has the unitary\n",
       "\n",
       "$$\n",
       "\\frac{1}{2^{n/2}}\\sum_{x,y=0}^{2^n-1} \\omega^{xy} |x\\rangle\\langle y|\n",
       "$$\n",
       "\n",
       "where\n",
       "$$\n",
       "\\omega = e^{\\frac{2\\pi i}{2^n}}\n",
       "$$"
      ],
      "text/plain": [
       "<IPython.core.display.Markdown object>"
      ]
     },
     "metadata": {},
     "output_type": "display_data"
    },
    {
     "data": {
      "text/markdown": [
       "---"
      ],
      "text/plain": [
       "<IPython.core.display.Markdown object>"
      ]
     },
     "metadata": {},
     "output_type": "display_data"
    },
    {
     "data": {
      "text/markdown": [
       "#### cirq.PhaseGradientGate"
      ],
      "text/plain": [
       "<IPython.core.display.Markdown object>"
      ]
     },
     "metadata": {},
     "output_type": "display_data"
    },
    {
     "data": {
      "text/markdown": [
       "Phases all computational basis states proportional to the integer value of the state.\n",
       "\n",
       "The gate `cirq.PhaseGradientGate(n, t)` has the unitary\n",
       "$$\n",
       "\\sum_{x=0}^{2^n-1} \\omega^x |x\\rangle \\langle x|\n",
       "$$\n",
       "where\n",
       "$$\n",
       "\\omega=e^{2 \\pi i/2^n}\n",
       "$$\n",
       "\n",
       "This gate makes up a portion of the quantum fourier transform."
      ],
      "text/plain": [
       "<IPython.core.display.Markdown object>"
      ]
     },
     "metadata": {},
     "output_type": "display_data"
    },
    {
     "data": {
      "text/markdown": [
       "---"
      ],
      "text/plain": [
       "<IPython.core.display.Markdown object>"
      ]
     },
     "metadata": {},
     "output_type": "display_data"
    }
   ],
   "source": [
    "display_gates(\"BooleanHamiltonianGate\", \"QuantumFourierTransformGate\", \"PhaseGradientGate\")"
   ]
  },
  {
   "cell_type": "markdown",
   "metadata": {
    "id": "001da7020514"
   },
   "source": [
    "### Classiscal Permutation Gates\n",
    "\n",
    "Sometimes you want to represent shuffling of qubits. "
   ]
  },
  {
   "cell_type": "code",
   "execution_count": 19,
   "metadata": {
    "id": "2804cdd9c98c"
   },
   "outputs": [
    {
     "data": {
      "text/markdown": [
       "---"
      ],
      "text/plain": [
       "<IPython.core.display.Markdown object>"
      ]
     },
     "metadata": {},
     "output_type": "display_data"
    },
    {
     "data": {
      "text/markdown": [
       "#### cirq.QubitPermutationGate"
      ],
      "text/plain": [
       "<IPython.core.display.Markdown object>"
      ]
     },
     "metadata": {},
     "output_type": "display_data"
    },
    {
     "data": {
      "text/markdown": [
       "A qubit permutation gate specified by a permutation list.\n",
       "\n",
       "For a permutation list $[p_0, p_1,\\dots,p_{n-1}]$ this gate has the unitary\n",
       "\n",
       "$$\n",
       "\\sum_{x_0,x_1,\\dots,x_{n-1} \\in \\{0, 1\\}} |x_{p_0}, x_{p_1}, \\dots, x_{p_{n-1}}\\rangle\n",
       "                                          \\langle x_0, x_1, \\dots, x_{n-1}|\n",
       "$$"
      ],
      "text/plain": [
       "<IPython.core.display.Markdown object>"
      ]
     },
     "metadata": {},
     "output_type": "display_data"
    },
    {
     "data": {
      "text/markdown": [
       "---"
      ],
      "text/plain": [
       "<IPython.core.display.Markdown object>"
      ]
     },
     "metadata": {},
     "output_type": "display_data"
    }
   ],
   "source": [
    "display_gates(\"QubitPermutationGate\")"
   ]
  }
 ],
 "metadata": {
  "colab": {
   "name": "gatezoo.ipynb",
   "toc_visible": true
  },
  "kernelspec": {
   "display_name": "Python 3",
   "language": "python",
   "name": "python3"
  },
  "language_info": {
   "codemirror_mode": {
    "name": "ipython",
    "version": 3
   },
   "file_extension": ".py",
   "mimetype": "text/x-python",
   "name": "python",
   "nbconvert_exporter": "python",
   "pygments_lexer": "ipython3",
   "version": "3.9.10"
  }
 },
 "nbformat": 4,
 "nbformat_minor": 4
}
