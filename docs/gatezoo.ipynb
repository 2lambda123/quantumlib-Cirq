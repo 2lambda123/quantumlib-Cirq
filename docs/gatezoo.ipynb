{
 "cells": [
  {
   "cell_type": "code",
   "execution_count": null,
   "id": "2e694355-6c8f-43c5-b1ae-4e86af9fc9eb",
   "metadata": {
    "cellView": "form",
    "id": "KQa9t_gadIuR"
   },
   "outputs": [],
   "source": [
    "#@title Copyright 2022 The Cirq Developers\n",
    "# Licensed under the Apache License, Version 2.0 (the \"License\");\n",
    "# you may not use this file except in compliance with the License.\n",
    "# You may obtain a copy of the License at\n",
    "#\n",
    "# https://www.apache.org/licenses/LICENSE-2.0\n",
    "#\n",
    "# Unless required by applicable law or agreed to in writing, software\n",
    "# distributed under the License is distributed on an \"AS IS\" BASIS,\n",
    "# WITHOUT WARRANTIES OR CONDITIONS OF ANY KIND, either express or implied.\n",
    "# See the License for the specific language governing permissions and\n",
    "# limitations under the License."
   ]
  },
  {
   "cell_type": "markdown",
   "id": "42a837dc-73a7-4a4e-a79b-563786f1bfc6",
   "metadata": {
    "id": "xwec7FrkdFmi"
   },
   "source": [
    "# Gate Zoo"
   ]
  },
  {
   "cell_type": "markdown",
   "id": "1ffc5e6a-50af-495e-b713-ad7c626a6181",
   "metadata": {
    "id": "5KZia7jmdJ3V"
   },
   "source": [
    "<table class=\"tfo-notebook-buttons\" align=\"left\">\n",
    "  <td>\n",
    "    <a target=\"_blank\" href=\"https://quantumai.google/cirq/qubits\"><img src=\"https://quantumai.google/site-assets/images/buttons/quantumai_logo_1x.png\" />View on QuantumAI</a>\n",
    "  </td>\n",
    "  <td>\n",
    "    <a target=\"_blank\" href=\"https://colab.research.google.com/github/quantumlib/Cirq/blob/master/docs/qubits.ipynb\"><img src=\"https://quantumai.google/site-assets/images/buttons/colab_logo_1x.png\" />Run in Google Colab</a>\n",
    "  </td>\n",
    "  <td>\n",
    "    <a target=\"_blank\" href=\"https://github.com/quantumlib/Cirq/blob/master/docs/qubits.ipynb\"><img src=\"https://quantumai.google/site-assets/images/buttons/github_logo_1x.png\" />View source on GitHub</a>\n",
    "  </td>\n",
    "  <td>\n",
    "    <a href=\"https://storage.googleapis.com/tensorflow_docs/Cirq/docs/qubits.ipynb\"><img src=\"https://quantumai.google/site-assets/images/buttons/download_icon_1x.png\" />Download notebook</a>\n",
    "  </td>\n",
    "</table>"
   ]
  },
  {
   "cell_type": "code",
   "execution_count": 2,
   "id": "0b650764-128c-46fe-8b19-ee54762a77ef",
   "metadata": {
    "id": "bd9529db1c0b"
   },
   "outputs": [],
   "source": [
    "try:\n",
    "    import cirq\n",
    "except ImportError:\n",
    "    print(\"installing cirq...\")\n",
    "    !pip install --quiet cirq\n",
    "    print(\"installed cirq.\")\n",
    "    import cirq"
   ]
  },
  {
   "cell_type": "markdown",
   "id": "5731f798-b633-4039-a138-8c70b4d8fac4",
   "metadata": {},
   "source": [
    "Cirq comes with many gates that are standard across quantum computing. This notebook serves as a reference sheet for these gates.\n",
    "\n",
    "## Single Qubit Gates\n",
    "\n",
    "Cirq defines constants which are gate instances for particular important single qubit gates."
   ]
  },
  {
   "cell_type": "code",
   "execution_count": 31,
   "id": "6cb68f8a-4285-42ba-9a0f-b73bf13cd4f1",
   "metadata": {},
   "outputs": [
    {
     "name": "stdout",
     "output_type": "stream",
     "text": [
      "Gate: X\n",
      "The Pauli X gate.\n",
      "\n",
      "    Matrix:\n",
      "\n",
      "        [[0, 1],\n",
      "         [1, 0]]\n",
      "    \n",
      "\n",
      "Gate: Y\n",
      "The Pauli Y gate.\n",
      "\n",
      "    Matrix:\n",
      "\n",
      "        [[0, -i],\n",
      "         [i, 0]]\n",
      "    \n",
      "\n",
      "Gate: Z\n",
      "The Pauli Z gate.\n",
      "\n",
      "    Matrix:\n",
      "\n",
      "        [[1, 0],\n",
      "         [0, -1]]\n",
      "    \n",
      "\n",
      "Gate: H\n",
      "The Hadamard gate.\n",
      "\n",
      "    The `exponent=1` instance of `cirq.HPowGate`.\n",
      "\n",
      "    Matrix:\n",
      "    ```\n",
      "        [[s, s],\n",
      "         [s, -s]]\n",
      "    ```\n",
      "        where s = sqrt(0.5).\n",
      "    \n",
      "\n",
      "Gate: S\n",
      "The Clifford S gate.\n",
      "\n",
      "    The `exponent=0.5` instance of `cirq.ZPowGate`.\n",
      "\n",
      "    Matrix:\n",
      "    ```\n",
      "        [[1, 0],\n",
      "         [0, i]]\n",
      "    ```\n",
      "    \n",
      "\n",
      "Gate: T\n",
      "The non-Clifford T gate.\n",
      "\n",
      "    The `exponent=0.25` instance of `cirq.ZPowGate`.\n",
      "\n",
      "    Matrix:\n",
      "    ```\n",
      "        [[1, 0]\n",
      "         [0, exp(i pi / 4)]]\n",
      "    ```\n",
      "    \n",
      "\n"
     ]
    }
   ],
   "source": [
    "constant_gates = [\"X\", \"Y\", \"Z\", \"H\", \"S\", \"T\"]\n",
    "for gate_name in constant_gates:\n",
    "    gate = getattr(cirq, gate_name)\n",
    "    print(f\"Gate: {gate_name}\")\n",
    "    print(gate.__doc__)\n",
    "    print()"
   ]
  },
  {
   "cell_type": "code",
   "execution_count": 17,
   "id": "e5d38c50-1774-4acf-b22c-47cd103c8a8d",
   "metadata": {},
   "outputs": [
    {
     "name": "stdout",
     "output_type": "stream",
     "text": [
      "cirq.Y\n",
      "The Pauli Y gate.\n",
      "\n",
      "    Matrix:\n",
      "\n",
      "        [[0, -i],\n",
      "         [i, 0]]\n",
      "    \n"
     ]
    }
   ],
   "source": [
    "print(\"cirq.Y\")\n",
    "print(cirq.Y.__doc__)"
   ]
  },
  {
   "cell_type": "code",
   "execution_count": 24,
   "id": "e478b06c-3a62-4b6c-a614-12dc25182304",
   "metadata": {},
   "outputs": [
    {
     "data": {
      "text/plain": [
       "['_XYZ',\n",
       " '__abstractmethods__',\n",
       " '__add__',\n",
       " '__annotations__',\n",
       " '__call__',\n",
       " '__class__',\n",
       " '__delattr__',\n",
       " '__dict__',\n",
       " '__dir__',\n",
       " '__doc__',\n",
       " '__eq__',\n",
       " '__format__',\n",
       " '__ge__',\n",
       " '__getattribute__',\n",
       " '__gt__',\n",
       " '__hash__',\n",
       " '__init__',\n",
       " '__init_subclass__',\n",
       " '__le__',\n",
       " '__lt__',\n",
       " '__module__',\n",
       " '__mul__',\n",
       " '__ne__',\n",
       " '__neg__',\n",
       " '__new__',\n",
       " '__pow__',\n",
       " '__reduce__',\n",
       " '__reduce_ex__',\n",
       " '__repr__',\n",
       " '__rmul__',\n",
       " '__setattr__',\n",
       " '__sizeof__',\n",
       " '__str__',\n",
       " '__sub__',\n",
       " '__subclasshook__',\n",
       " '__truediv__',\n",
       " '__weakref__',\n",
       " '_abc_impl',\n",
       " '_apply_unitary_',\n",
       " '_approx_eq_',\n",
       " '_backwards_compatibility_num_qubits',\n",
       " '_canonical_exponent',\n",
       " '_canonical_exponent_cached',\n",
       " '_circuit_diagram_info_',\n",
       " '_commutes_',\n",
       " '_commutes_on_qids_',\n",
       " '_decompose_into_clifford_with_qubits_',\n",
       " '_default_shape_from_num_qubits',\n",
       " '_diagram_exponent',\n",
       " '_eigen_components',\n",
       " '_eigen_shifts',\n",
       " '_equal_up_to_global_phase_',\n",
       " '_exponent',\n",
       " '_format_exponent_as_angle',\n",
       " '_from_json_dict_',\n",
       " '_global_shift',\n",
       " '_has_stabilizer_effect_',\n",
       " '_has_unitary_',\n",
       " '_implemented_by_',\n",
       " '_index',\n",
       " '_is_parameterized_',\n",
       " '_json_dict_',\n",
       " '_mul_with_qubits',\n",
       " '_name',\n",
       " '_num_qubits_',\n",
       " '_num_qubits_from_shape',\n",
       " '_num_qubits_proto_from_num_qubits',\n",
       " '_parameter_names_',\n",
       " '_pauli_expansion_',\n",
       " '_period',\n",
       " '_phase_by_',\n",
       " '_qasm_',\n",
       " '_qid_shape_',\n",
       " '_quil_',\n",
       " '_resolve_parameters_',\n",
       " '_rmul_with_qubits',\n",
       " '_trace_distance_bound_',\n",
       " '_unitary_',\n",
       " '_value_equality_approximate_values_',\n",
       " '_value_equality_values_',\n",
       " '_value_equality_values_cls_',\n",
       " '_with_exponent',\n",
       " 'basis',\n",
       " 'by_index',\n",
       " 'by_relative_index',\n",
       " 'controlled',\n",
       " 'exponent',\n",
       " 'global_shift',\n",
       " 'in_su2',\n",
       " 'num_qubits',\n",
       " 'on',\n",
       " 'on_each',\n",
       " 'phase_exponent',\n",
       " 'phased_pauli_product',\n",
       " 'relative_index',\n",
       " 'third',\n",
       " 'validate_args',\n",
       " 'with_canonical_global_phase',\n",
       " 'with_probability',\n",
       " 'wrap_in_linear_combination']"
      ]
     },
     "execution_count": 24,
     "metadata": {},
     "output_type": "execute_result"
    }
   ],
   "source": [
    "dir(cirq.X)"
   ]
  },
  {
   "cell_type": "code",
   "execution_count": null,
   "id": "7a560cfb-6d7b-4837-85d1-6aa96accc264",
   "metadata": {},
   "outputs": [],
   "source": []
  }
 ],
 "metadata": {
  "kernelspec": {
   "display_name": "Python 3",
   "language": "python",
   "name": "python3"
  },
  "language_info": {
   "codemirror_mode": {
    "name": "ipython",
    "version": 3
   },
   "file_extension": ".py",
   "mimetype": "text/x-python",
   "name": "python",
   "nbconvert_exporter": "python",
   "pygments_lexer": "ipython3",
   "version": "3.9.9"
  }
 },
 "nbformat": 4,
 "nbformat_minor": 5
}
