{
  "nbformat": 4,
  "nbformat_minor": 0,
  "metadata": {
    "colab": {
      "name": "colab.ipynb",
      "provenance": [],
      "collapsed_sections": []
    },
    "kernelspec": {
      "name": "python3",
      "display_name": "Python 3"
    }
  },
  "cells": [
    {
      "cell_type": "markdown",
      "metadata": {
        "id": "czt1fSEHooF9",
        "colab_type": "text"
      },
      "source": [
        "# Make a copy of this template to use as base for using Quantum Engine\n",
        "\n",
        "You will need to have access to Quantum Engine before running this colab.\n",
        "\n",
        "This notebook can serve as a starter kit for you to run programs on quantum engine.  You can download it using the directions below, open it in colab (or Jupyter), and modify it to begin your experiments.\n",
        "\n",
        "## How to download iPython notebooks from github\n",
        "\n",
        "You can retrieve ipython notebooks in the cirq repository by\n",
        "going to the [doc directory](https://github.com/quantumlib/Cirq/tree/master/docs).  Select the file that you would like to download and then click the \"Raw\" button in the upper right part of the window:\n",
        "\n",
        "![Raw button](https://cirq.readthedocs.io/en/latest/_images/colab_github.png)\n",
        "\n",
        "This will show the entire file contents.  Right-click and select \"Save as\" to save this file to your computer.  Make sure to save to a file with a \".ipynb\" extension.  (Note: you may need to select \"All files\" from the format dropdown instead of \"text\").\n",
        "\n",
        "You can also retrieve the entire cirq repository by running the following command in a terminal that has git installed.  `git checkout https://github.com/quantumlib/Cirq.git` \n",
        "\n",
        "## How to open colab\n",
        "\n",
        "You can open a new colab from your Google Drive window or by visiting the [colab site](https://colab.research.google.com/notebooks/intro.ipynb).  From the colaboratory site, you can use the menu to upload an ipython notebook:\n",
        "\n",
        "![Upload menu](https://cirq.readthedocs.io/en/latest/_images/colab_upload.png)\n",
        "\n",
        "This will upload the ipynb file that you downloaded before.  You can now run all the commands, modify it to suit your goals, and share it with others.\n",
        "\n",
        "### More Documentation Links\n",
        "\n",
        "* [Quantum Engine concepts](https://cirq.readthedocs.io/en/latest/docs/google/concepts.html)\n",
        "* [Quantum Engine documentation](https://cirq.readthedocs.io/en/latest/docs/google/engine.html)\n",
        "* [Cirq documentation](https://cirq.readthedocs.io)\n",
        "* [Colab documentation](https://colab.sandbox.google.com/notebooks/welcome.ipynb)\n"
      ]
    },
    {
      "cell_type": "markdown",
      "metadata": {
        "id": "Bip6ZAIQ6min",
        "colab_type": "text"
      },
      "source": [
        "## Authenticate and install cirq\n",
        "\n",
        "For details of authentication and installation, please see [go/quantum-engine-quickstart](https://go/quantum-engine-quickstart). \n",
        "\n",
        "Note:  The below code will install the latest stable release of cirq.  If you need the latest and greatest features and don't mind if a few things aren't quite working correctly, you can install `cirq-unstable` instead of `cirq` to get the most up-to-date features of cirq.\n",
        "\n",
        "1. Enter the cloud project_id you'd like to use in the 'project_id' field.\n",
        "\n",
        "2. Then run the cell below (and go through the auth flow for access to the project id you entered).\n",
        "\n",
        "![Quantum Engine console](https://storage.cloud.google.com/quantum-engine-docs-images/run-code-block.png)"
      ]
    },
    {
      "cell_type": "code",
      "metadata": {
        "id": "wfHdoHW67EGh",
        "colab_type": "code",
        "cellView": "both",
        "colab": {}
      },
      "source": [
        "# The Google Cloud Project id to use.\n",
        "project_id = '' #@param {type:\"string\"}\n",
        "\n",
        "\n",
        "def setup_auth():\n",
        "  \"\"\"Runs the user through the Colab OAuth process.\n",
        "  \n",
        "  Sets the local Application Default Credentials. For more information on on \n",
        "  using Application Default Credentials see \n",
        "  https://cloud.google.com/docs/authentication/production\n",
        "  \"\"\"\n",
        "  from google.colab import auth\n",
        "  auth.authenticate_user(clear_output=False)\n",
        "\n",
        "\n",
        "print(\"Getting OAuth2 credentials.\")\n",
        "print(\"Press enter after entering the verification code.\")\n",
        "setup_auth()\n",
        "print(\"Authentication complete.\")\n",
        "\n",
        "!pip install cirq\n",
        "print(\"Cirq installed.\")"
      ],
      "execution_count": null,
      "outputs": []
    },
    {
      "cell_type": "markdown",
      "metadata": {
        "id": "5mwzenpB8FYi",
        "colab_type": "text"
      },
      "source": [
        "## Create an Engine variable"
      ]
    },
    {
      "cell_type": "markdown",
      "metadata": {
        "id": "sr2nYs1M8TzR",
        "colab_type": "text"
      },
      "source": [
        "The following creates and engine variable which can be used to run programs under the project id you entered. above"
      ]
    },
    {
      "cell_type": "code",
      "metadata": {
        "id": "HCb_9m_o8KEK",
        "colab_type": "code",
        "colab": {}
      },
      "source": [
        "import cirq\n",
        "\n",
        "# Create an Engine object to use, providing the project id and the args\n",
        "# used for authentication (produced by running the authentication above).\n",
        "engine = cirq.google.Engine(project_id=project_id)"
      ],
      "execution_count": null,
      "outputs": []
    },
    {
      "cell_type": "markdown",
      "metadata": {
        "id": "XEG4t_2b8dYx",
        "colab_type": "text"
      },
      "source": [
        "## Example"
      ]
    },
    {
      "cell_type": "code",
      "metadata": {
        "id": "xujtwGxt8fOA",
        "colab_type": "code",
        "colab": {}
      },
      "source": [
        "import random\n",
        "import string\n",
        "\n",
        "# A simple example.\n",
        "q = cirq.GridQubit(5, 2)\n",
        "circuit = cirq.Circuit.from_ops(cirq.X(q)**0.5, cirq.measure(q, key='m'))\n",
        "\n",
        "# A unique random name for the program.\n",
        "program_id = 'example-{}'.format(\n",
        "    ''.join(random.choice(string.ascii_uppercase) for _ in range(6)))\n",
        "\n",
        "job = engine.run_sweep(\n",
        "    program=circuit,\n",
        "    program_id=program_id,\n",
        "    repetitions=10000,\n",
        "    processor_ids=['rainbow'],\n",
        "    gate_set=cirq.google.SYC_GATESET)\n",
        "\n",
        "results = [str(int(b)) for b in job.results()[0].measurements['m'][:, 0]]\n",
        "print('Success!  Results:')\n",
        "print(''.join(results))"
      ],
      "execution_count": null,
      "outputs": []
    }
  ]
}