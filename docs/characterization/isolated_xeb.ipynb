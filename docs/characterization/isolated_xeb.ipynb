{
 "cells": [
  {
   "cell_type": "markdown",
   "metadata": {
    "id": "dd95be2a71eb"
   },
   "source": [
    "# Isolated XEB"
   ]
  },
  {
   "cell_type": "code",
   "execution_count": null,
   "metadata": {
    "id": "046b07823210"
   },
   "outputs": [],
   "source": [
    "import cirq\n",
    "import numpy as np"
   ]
  },
  {
   "cell_type": "markdown",
   "metadata": {
    "id": "ace31cc4d258"
   },
   "source": [
    "## Set up Random Circuits\n",
    "\n",
    "We create a set of 10 random, two-qubit `circuits`."
   ]
  },
  {
   "cell_type": "code",
   "execution_count": null,
   "metadata": {
    "scrolled": false
   },
   "outputs": [],
   "source": [
    "from cirq.experiments import random_quantum_circuit_generation as rqcg\n",
    "circuits = rqcg.generate_library_of_2q_circuits(\n",
    "    n_library_circuits=10,\n",
    "    two_qubit_gate=cirq.ISWAP**0.5,\n",
    "    q0=cirq.GridQubit(4,4),\n",
    "    q1=cirq.GridQubit(4,5),\n",
    ")\n",
    "print(len(circuits))"
   ]
  },
  {
   "cell_type": "code",
   "execution_count": null,
   "metadata": {
    "id": "c7c044ec12ac"
   },
   "outputs": [],
   "source": [
    "# We will truncate to these lengths\n",
    "cycle_depths = np.arange(3, 100, 20)\n",
    "cycle_depths"
   ]
  },
  {
   "cell_type": "code",
   "execution_count": null,
   "metadata": {},
   "outputs": [],
   "source": [
    "sampler = cirq.DensityMatrixSimulator(noise=cirq.depolarize(5e-3))"
   ]
  },
  {
   "cell_type": "code",
   "execution_count": null,
   "metadata": {},
   "outputs": [],
   "source": [
    "# import cirq.google as cg\n",
    "# import os\n",
    "# os.environ['GOOGLE_CLOUD_PROJECT'] = 'google.com:quantum-experiments'\n",
    "# sampler = cg.get_engine_sampler('rainbow', gate_set_name='sqrt_iswap')\n",
    "\n",
    "# device = cg.get_engine_device('rainbow')\n",
    "# device\n",
    "\n",
    "# import cirq.contrib.routing as ccr\n",
    "# graph = ccr.xmon_device_to_graph(device)\n",
    "# nx.draw_networkx(graph)"
   ]
  },
  {
   "cell_type": "code",
   "execution_count": null,
   "metadata": {},
   "outputs": [],
   "source": [
    "from cirq.experiments.fidelity_estimation import sample_2q_xeb_circuits\n",
    "sampled_df = sample_2q_xeb_circuits(\n",
    "    sampler=sampler,\n",
    "    circuits=circuits,\n",
    "    cycle_depths=cycle_depths,\n",
    ")\n",
    "sampled_df"
   ]
  },
  {
   "cell_type": "code",
   "execution_count": null,
   "metadata": {},
   "outputs": [],
   "source": [
    "from cirq.experiments.fidelity_estimation import benchmark_2q_xeb_fidelities\n",
    "fids = benchmark_2q_xeb_fidelities(\n",
    "    sampled_df=sampled_df,\n",
    "    circuits=circuits,\n",
    "    cycle_depths=cycle_depths,\n",
    ")\n",
    "fids"
   ]
  },
  {
   "cell_type": "code",
   "execution_count": null,
   "metadata": {
    "id": "8c08c9ab8109"
   },
   "outputs": [],
   "source": [
    "%matplotlib inline\n",
    "from matplotlib import pyplot as plt\n",
    "\n",
    "xx = np.linspace(0, fids['cycle_depth'].max())\n",
    "plt.plot(xx, (1-5e-3)**(4*xx), label=r'Exponential Reference')\n",
    "\n",
    "def _p(fids):\n",
    "    plt.plot(fids['cycle_depth'], fids['fidelity'], 'o-', label=fids.name)\n",
    "\n",
    "fids['group'] = 'Sampled'\n",
    "fids.groupby('group').apply(_p)\n",
    "\n",
    "plt.ylabel('Circuit fidelity')\n",
    "plt.xlabel('Cycle Depth $d$')\n",
    "plt.legend(loc='best')"
   ]
  },
  {
   "cell_type": "markdown",
   "metadata": {
    "id": "6025a292d19b"
   },
   "source": [
    "## Optimize `PhasedFSimGate` parameters\n",
    "\n",
    "We know what circuits we requested, and in this simulated example, we know what coherent error has happened. But in a real experiment, there is likely unknown coherent error that you would like to characterize. Therefore, we make the five angles in `PhasedFSimGate` free parameters and use a classical optimizer to find which set of parameters best describes the data we collected from the noisy simulator (or device, if this was a real experiment)."
   ]
  },
  {
   "cell_type": "markdown",
   "metadata": {
    "id": "c175576bf0d6"
   },
   "source": [
    "fids_opt = simulate_2q_xeb_fids(sampled_df, pcircuits, cycle_depths, param_resolver={'theta': -np.pi/4, 'phi': 0.1})"
   ]
  },
  {
   "cell_type": "code",
   "execution_count": null,
   "metadata": {
    "id": "baff45b4ad70"
   },
   "outputs": [],
   "source": [
    "import multiprocessing\n",
    "pool = multiprocessing.get_context('spawn').Pool()"
   ]
  },
  {
   "cell_type": "code",
   "execution_count": null,
   "metadata": {
    "id": "c3617e5b28de",
    "scrolled": true
   },
   "outputs": [],
   "source": [
    "from cirq.experiments.fidelity_estimation import \\\n",
    "    parameterize_phased_fsim_circuit, optimize_xeb, SqrtISwapXEBOptions\n",
    "\n",
    "options = SqrtISwapXEBOptions()\n",
    "pcircuits = [parameterize_phased_fsim_circuit(circuit, options) for circuit in circuits]\n",
    "res = optimize_xeb(sampled_df, pcircuits, cycle_depths, options, pool=pool)"
   ]
  },
  {
   "cell_type": "code",
   "execution_count": null,
   "metadata": {
    "id": "55535fcc871d"
   },
   "outputs": [],
   "source": [
    "res"
   ]
  },
  {
   "cell_type": "code",
   "execution_count": null,
   "metadata": {
    "id": "305182fdc372"
   },
   "outputs": [],
   "source": [
    "_, names = options.get_initial_simplex_and_names()\n",
    "final_params = dict(zip(names, res.x))\n",
    "final_params"
   ]
  },
  {
   "cell_type": "code",
   "execution_count": null,
   "metadata": {
    "id": "516392c92916"
   },
   "outputs": [],
   "source": [
    "fids_opt = simulate_2q_xeb_fidelities(\n",
    "    sampled_df, pcircuits, cycle_depths, \n",
    "    param_resolver=final_params)"
   ]
  },
  {
   "cell_type": "code",
   "execution_count": null,
   "metadata": {
    "id": "a11414898e89"
   },
   "outputs": [],
   "source": [
    "xx = np.linspace(0, fids['cycle_depth'].max())\n",
    "p_depol = 5e-3 # from above\n",
    "plt.plot(xx, (1-p_depol)**(4*xx), label=r'Exponential Reference')\n",
    "plt.axhline(1, color='grey', ls='--')\n",
    "\n",
    "plt.plot(fids['cycle_depth'], fids['fidelity'], 'o-', label='Raw')\n",
    "plt.plot(fids_opt['cycle_depth'], fids_opt['fidelity'], 'o-', label='Refit')\n",
    "\n",
    "plt.ylabel('Circuit fidelity')\n",
    "plt.xlabel('Cycle Depth')\n",
    "plt.legend(loc='best')\n",
    "plt.tight_layout()"
   ]
  }
 ],
 "metadata": {
  "colab": {
   "name": "xeb_coherent_noise.ipynb",
   "toc_visible": true
  },
  "kernelspec": {
   "display_name": "Python 3",
   "language": "python",
   "name": "python3"
  },
  "language_info": {
   "codemirror_mode": {
    "name": "ipython",
    "version": 3
   },
   "file_extension": ".py",
   "mimetype": "text/x-python",
   "name": "python",
   "nbconvert_exporter": "python",
   "pygments_lexer": "ipython3",
   "version": "3.7.7"
  }
 },
 "nbformat": 4,
 "nbformat_minor": 1
}
