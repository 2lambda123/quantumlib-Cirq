{
 "cells": [
  {
   "cell_type": "markdown",
   "metadata": {
    "id": "dd95be2a71eb"
   },
   "source": [
    "# Parallel XEB"
   ]
  },
  {
   "cell_type": "code",
   "execution_count": null,
   "metadata": {
    "id": "046b07823210"
   },
   "outputs": [],
   "source": [
    "import cirq\n",
    "import numpy as np"
   ]
  },
  {
   "cell_type": "markdown",
   "metadata": {
    "id": "ace31cc4d258"
   },
   "source": [
    "## Set up Random Circuits\n",
    "\n",
    "We create a set of 20 random, two-qubit `circuits`"
   ]
  },
  {
   "cell_type": "code",
   "execution_count": null,
   "metadata": {
    "scrolled": false
   },
   "outputs": [],
   "source": [
    "from cirq.experiments import random_quantum_circuit_generation as rqcg\n",
    "\n",
    "circuits = rqcg.generate_library_of_2q_circuits(\n",
    "    n_library_circuits=20, \n",
    "    two_qubit_gate=cirq.ISWAP**0.5,\n",
    ")\n",
    "print(len(circuits))"
   ]
  },
  {
   "cell_type": "code",
   "execution_count": null,
   "metadata": {
    "id": "c7c044ec12ac"
   },
   "outputs": [],
   "source": [
    "# We will truncate to these lengths\n",
    "cycle_depths = np.arange(3, 75, 11)\n",
    "cycle_depths"
   ]
  },
  {
   "cell_type": "markdown",
   "metadata": {},
   "source": [
    "## Make a device to run in parallel on"
   ]
  },
  {
   "cell_type": "code",
   "execution_count": null,
   "metadata": {},
   "outputs": [],
   "source": [
    "qubits = cirq.GridQubit.rect(3, 2, 4, 3)\n",
    "qubits = qubits[:-1]  # make it irregular\n",
    "qubits = qubits[:-2]  # make it tiny\n",
    "sampler = cirq.DensityMatrixSimulator(noise=cirq.depolarize(5e-3))\n",
    "\n",
    "import cirq.contrib.routing as ccr\n",
    "import networkx as nx\n",
    "graph = ccr.gridqubits_to_graph_device(qubits)\n",
    "pos = {q: (q.row, q.col) for q in qubits}\n",
    "nx.draw_networkx(graph, pos=pos)"
   ]
  },
  {
   "cell_type": "code",
   "execution_count": null,
   "metadata": {},
   "outputs": [],
   "source": [
    "import cirq.contrib.routing as ccr\n",
    "import cirq.google as cg\n",
    "import os\n",
    "os.environ['GOOGLE_CLOUD_PROJECT'] = 'google.com:quantum-experiments'\n",
    "device_name = 'mcgee'\n",
    "sampler = cg.get_engine_sampler(device_name, gate_set_name='sqrt_iswap')\n",
    "\n",
    "device = cg.get_engine_device(device_name)\n",
    "qubits = sorted(device.qubits)\n",
    "if device_name == 'mcgee':\n",
    "    qubits = qubits[:-2]\n",
    "    qubits.remove(cirq.GridQubit(2,3))\n",
    "if device_name == 'rainbow':\n",
    "    qubits = cirq.GridQubit.rect(3,2,4,3)\n",
    "\n",
    "graph = ccr.gridqubits_to_graph_device(qubits)\n",
    "pos = {q: (q.row, q.col) for q in qubits}\n",
    "nx.draw_networkx(graph, pos=pos)"
   ]
  },
  {
   "cell_type": "markdown",
   "metadata": {},
   "source": [
    "## Set up our combinations\n",
    "We take the library of two-qubit circuits and mix-and-match to run parallel efficiently.\n",
    "\n",
    "We pass to the sampling function and it will \"zip\" the circuits according to these combinations which are given by a GridInteractionLayer (one of four for the degree-four GridQubit implied graph), and a row of circuit indices."
   ]
  },
  {
   "cell_type": "code",
   "execution_count": null,
   "metadata": {
    "scrolled": true
   },
   "outputs": [],
   "source": [
    "combs_by_layer = rqcg.get_random_combinations_for_device(\n",
    "    n_library_circuits=len(circuits),\n",
    "    n_combinations=20,\n",
    "    device_graph=graph,\n",
    ")\n",
    "combs_by_layer"
   ]
  },
  {
   "cell_type": "code",
   "execution_count": null,
   "metadata": {},
   "outputs": [],
   "source": [
    "from matplotlib import pyplot as plt\n",
    "\n",
    "fig, axes = plt.subplots(2,2, figsize=(9,6))\n",
    "for comb_layer, ax in zip(combs_by_layer, axes.reshape(-1)):\n",
    "    active_qubits = np.array(comb_layer.pairs).reshape(-1)\n",
    "    colors = ['red' if q in active_qubits else 'blue' for q in graph.nodes]\n",
    "    nx.draw_networkx(graph, pos=pos, node_color=colors, ax=ax)\n",
    "    nx.draw_networkx_edges(graph, pos=pos, edgelist=comb_layer.pairs, width=3, edge_color='red', ax=ax)\n",
    "    \n",
    "plt.tight_layout()"
   ]
  },
  {
   "cell_type": "code",
   "execution_count": null,
   "metadata": {},
   "outputs": [],
   "source": [
    "from cirq.experiments.fidelity_estimation import sample_2q_xeb_circuits\n",
    "sampled_df = sample_2q_xeb_circuits(\n",
    "    sampler=sampler,\n",
    "    circuits=circuits,\n",
    "    cycle_depths=cycle_depths,\n",
    "    combinations_by_layer=combs_by_layer\n",
    ")\n",
    "sampled_df"
   ]
  },
  {
   "cell_type": "code",
   "execution_count": null,
   "metadata": {},
   "outputs": [],
   "source": [
    "#sampled_df.to_pickle('02-03-mcgee.pickl')\n",
    "#cirq.to_json(circuits, '02-03-mcgee.json')"
   ]
  },
  {
   "cell_type": "code",
   "execution_count": null,
   "metadata": {},
   "outputs": [],
   "source": [
    "from cirq.experiments.fidelity_estimation import benchmark_2q_xeb_fidelities\n",
    "# TODO: only simulate the circuits that are here\n",
    "fids = benchmark_2q_xeb_fidelities(\n",
    "    sampled_df=sampled_df,\n",
    "    circuits=circuits,\n",
    "    cycle_depths=cycle_depths,\n",
    ")\n",
    "fids"
   ]
  },
  {
   "cell_type": "code",
   "execution_count": null,
   "metadata": {},
   "outputs": [],
   "source": [
    "# from cirq.experiments.fidelity_estimation import simulate_2q_xeb_circuits\n",
    "# simulated_df = simulate_2q_xeb_circuits(circuits=circuits, cycle_depths=cycle_depths, param_resolver=None)\n",
    "# simulated_df"
   ]
  },
  {
   "cell_type": "code",
   "execution_count": null,
   "metadata": {},
   "outputs": [],
   "source": [
    "# df = sampled_df[sampled_df['pair_name'] == '(0, 6)-(1, 6)'].join(simulated_df)\n",
    "# df"
   ]
  },
  {
   "cell_type": "code",
   "execution_count": null,
   "metadata": {
    "id": "8c08c9ab8109"
   },
   "outputs": [],
   "source": [
    "%matplotlib inline\n",
    "from matplotlib import pyplot as plt\n",
    "import seaborn as sns\n",
    "\n",
    "# Give each pair its own color\n",
    "colors = sns.cubehelix_palette(n_colors=graph.number_of_edges())\n",
    "colors = {f'{q0}-{q1}': color for (q0, q1), color in zip(graph.edges, colors)}\n",
    "\n",
    "# Exponential reference\n",
    "xx = np.linspace(0, fids['cycle_depth'].max())\n",
    "plt.plot(xx, (1-5e-3)**(4*xx), label=r'Exponential Reference', color='black')\n",
    "\n",
    "# Plot each pair\n",
    "def _p(fids):\n",
    "    plt.plot(fids['cycle_depth'], fids['fidelity'], \n",
    "             'o-', label=fids.name, color=colors[fids.name],\n",
    "             alpha=0.5)\n",
    "fids.groupby('pair_name').apply(_p)\n",
    "\n",
    "plt.ylabel('Circuit fidelity')\n",
    "plt.xlabel('Cycle Depth $d$')\n",
    "plt.legend(loc='best')\n",
    "plt.tight_layout()"
   ]
  },
  {
   "cell_type": "markdown",
   "metadata": {
    "id": "6025a292d19b"
   },
   "source": [
    "## Optimize `PhasedFSimGate` parameters\n",
    "\n",
    "We know what circuits we requested, and in this simulated example, we know what coherent error has happened. But in a real experiment, there is likely unknown coherent error that you would like to characterize. Therefore, we make the five angles in `PhasedFSimGate` free parameters and use a classical optimizer to find which set of parameters best describes the data we collected from the noisy simulator (or device, if this was a real experiment)."
   ]
  },
  {
   "cell_type": "markdown",
   "metadata": {
    "id": "c175576bf0d6"
   },
   "source": [
    "fids_opt = simulate_2q_xeb_fids(sampled_df, pcircuits, cycle_depths, param_resolver={'theta': -np.pi/4, 'phi': 0.1})"
   ]
  },
  {
   "cell_type": "code",
   "execution_count": null,
   "metadata": {
    "id": "baff45b4ad70"
   },
   "outputs": [],
   "source": [
    "import multiprocessing\n",
    "pool = multiprocessing.get_context('spawn').Pool()"
   ]
  },
  {
   "cell_type": "code",
   "execution_count": null,
   "metadata": {},
   "outputs": [],
   "source": [
    "sampled_df.set_index('pair_name').sort_index()"
   ]
  },
  {
   "cell_type": "code",
   "execution_count": null,
   "metadata": {},
   "outputs": [],
   "source": [
    "from cirq.experiments.fidelity_estimation import \\\n",
    "    parameterize_phased_fsim_circuit, characterize_phased_fsim_parameters_with_xeb, SqrtISwapXEBOptions\n",
    "\n",
    "options = SqrtISwapXEBOptions()\n",
    "pcircuits = [parameterize_phased_fsim_circuit(circuit, options) for circuit in circuits]\n",
    "res = characterize_phased_fsim_parameters_with_xeb(\n",
    "                    sampled_df, pcircuits, cycle_depths, options, pool=pool, fatol=5e-3, xatol=5e-3)"
   ]
  },
  {
   "cell_type": "code",
   "execution_count": null,
   "metadata": {},
   "outputs": [],
   "source": [
    "from cirq.experiments.fidelity_estimation import \\\n",
    "    parameterize_phased_fsim_circuit, characterize_phased_fsim_parameters_with_xeb_by_pair, SqrtISwapXEBOptions\n",
    "\n",
    "options = SqrtISwapXEBOptions()\n",
    "pcircuits = [parameterize_phased_fsim_circuit(circuit, options) for circuit in circuits]\n",
    "res_by_pn = characterize_phased_fsim_parameters_with_xeb_by_pair(\n",
    "                    sampled_df, pcircuits, cycle_depths, options, pool=pool, fatol=5e-3, xatol=5e-3)"
   ]
  },
  {
   "cell_type": "code",
   "execution_count": null,
   "metadata": {
    "id": "305182fdc372"
   },
   "outputs": [],
   "source": [
    "# TODO: put in the opty func.\n",
    "opt_df_by_pn = {}\n",
    "for pair_name in res_by_pn.keys():\n",
    "    res = res_by_pn[pair_name]\n",
    "    _, names = options.get_initial_simplex_and_names()\n",
    "    final_params = dict(zip(names, res.x))\n",
    "    print(final_params)\n",
    "    \n",
    "    fids_opt = benchmark_2q_xeb_fidelities(\n",
    "        sampled_df[sampled_df['pair_name'] == pair_name], pcircuits, cycle_depths, \n",
    "        param_resolver=final_params)\n",
    "    \n",
    "    opt_df_by_pn[pair_name] = fids_opt"
   ]
  },
  {
   "cell_type": "code",
   "execution_count": null,
   "metadata": {
    "id": "516392c92916"
   },
   "outputs": [],
   "source": [
    "# fids_opt = benchmark_2q_xeb_fidelities(\n",
    "#     sampled_df[sampled_df['pair_name'] == pair_name], pcircuits, cycle_depths, \n",
    "#     param_resolver=final_params)"
   ]
  },
  {
   "cell_type": "code",
   "execution_count": null,
   "metadata": {},
   "outputs": [],
   "source": [
    "import pandas as pd\n",
    "fids_opt = pd.concat(opt_df_by_pn.values())\n",
    "fids_opt"
   ]
  },
  {
   "cell_type": "code",
   "execution_count": null,
   "metadata": {
    "id": "a11414898e89"
   },
   "outputs": [],
   "source": [
    "xx = np.linspace(0, fids['cycle_depth'].max())\n",
    "plt.plot(xx, (1-5e-3)**(4*xx), label=r'Exponential Reference', color='black')\n",
    "plt.axhline(1, color='grey', ls='--')\n",
    "\n",
    "#plt.plot(fids['cycle_depth'], fids['fidelity'], 'o-', label='Raw')\n",
    "#plt.plot(fids_opt['cycle_depth'], fids_opt['fidelity'], 'o-', label='Refit')\n",
    "\n",
    "# Plot each pair\n",
    "def _p(fids, marker='.', ls='-'):\n",
    "    plt.plot(fids['cycle_depth'], fids['fidelity'], \n",
    "             marker=marker, ls=ls, label=fids.name, color=colors[fids.name],\n",
    "             alpha=0.9)\n",
    "\n",
    "fids.groupby('pair_name').apply(_p, ls='--', marker='')\n",
    "fids_opt.groupby('pair_name').apply(_p)\n",
    "#plt.yscale('log')\n",
    "\n",
    "plt.ylabel('Circuit fidelity')\n",
    "plt.xlabel('Cycle Depth')\n",
    "plt.legend(loc='best')\n",
    "plt.tight_layout()"
   ]
  },
  {
   "cell_type": "code",
   "execution_count": null,
   "metadata": {
    "scrolled": false
   },
   "outputs": [],
   "source": [
    "import scipy.optimize\n",
    "\n",
    "def exp(x, A, fid):\n",
    "    # TODO: is the 4 appropriate here?\n",
    "    #return A * fid**(4*x) + b\n",
    "    return A * np.exp(np.log(fid) * x)\n",
    "    \n",
    "\n",
    "xx = np.linspace(0, fids['cycle_depth'].max())\n",
    "for pair_name in fids['pair_name'].unique():\n",
    "    f1 = fids[fids['pair_name'] == pair_name]\n",
    "    f2 = fids_opt[fids_opt['pair_name'] == pair_name]\n",
    "    \n",
    "    #plt.plot(xx, (1-5e-3)**(4*xx), label=r'Exponential Reference', color='black')\n",
    "    plt.axhline(1, color='grey', ls='--')\n",
    "    plt.plot(f1['cycle_depth'], f1['fidelity'], '.--')\n",
    "    plt.plot(f2['cycle_depth'], f2['fidelity'], 'o-')\n",
    "    \n",
    "    popt, pcov = scipy.optimize.curve_fit(exp, f2['cycle_depth'], f2['fidelity'], p0=(0.95, 5e-3),\n",
    "                                         bounds=(\n",
    "                                             [0, 0,],\n",
    "                                             [1, 1,],\n",
    "                                         ))\n",
    "    print(popt)\n",
    "    plt.plot(xx, exp(xx, *popt), label='Fit')\n",
    "    \n",
    "    plt.ylabel('Circuit fidelity')\n",
    "    plt.xlabel('Cycle Depth')\n",
    "    plt.tight_layout()\n",
    "    plt.show()"
   ]
  },
  {
   "cell_type": "code",
   "execution_count": null,
   "metadata": {},
   "outputs": [],
   "source": []
  }
 ],
 "metadata": {
  "colab": {
   "name": "xeb_coherent_noise.ipynb",
   "toc_visible": true
  },
  "kernelspec": {
   "display_name": "Python 3",
   "language": "python",
   "name": "python3"
  },
  "language_info": {
   "codemirror_mode": {
    "name": "ipython",
    "version": 3
   },
   "file_extension": ".py",
   "mimetype": "text/x-python",
   "name": "python",
   "nbconvert_exporter": "python",
   "pygments_lexer": "ipython3",
   "version": "3.7.7"
  }
 },
 "nbformat": 4,
 "nbformat_minor": 1
}
