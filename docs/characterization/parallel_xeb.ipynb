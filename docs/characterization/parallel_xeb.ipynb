{
 "cells": [
  {
   "cell_type": "markdown",
   "metadata": {
    "id": "dd95be2a71eb"
   },
   "source": [
    "# Parallel XEB"
   ]
  },
  {
   "cell_type": "code",
   "execution_count": 1,
   "metadata": {
    "id": "046b07823210"
   },
   "outputs": [],
   "source": [
    "import cirq\n",
    "import numpy as np"
   ]
  },
  {
   "cell_type": "markdown",
   "metadata": {
    "id": "ace31cc4d258"
   },
   "source": [
    "## Set up Random Circuits\n",
    "\n",
    "We create a set of 20 random, two-qubit `circuits`"
   ]
  },
  {
   "cell_type": "code",
   "execution_count": 2,
   "metadata": {
    "scrolled": false
   },
   "outputs": [
    {
     "name": "stdout",
     "output_type": "stream",
     "text": [
      "20\n"
     ]
    }
   ],
   "source": [
    "from cirq.experiments import random_quantum_circuit_generation as rqcg\n",
    "\n",
    "circuits = rqcg.generate_library_of_2q_circuits(\n",
    "    n_library_circuits=20, \n",
    "    two_qubit_gate=cirq.ISWAP**0.5,\n",
    ")\n",
    "print(len(circuits))"
   ]
  },
  {
   "cell_type": "code",
   "execution_count": 3,
   "metadata": {
    "id": "c7c044ec12ac"
   },
   "outputs": [
    {
     "data": {
      "text/plain": [
       "array([ 3, 14, 25, 36, 47, 58, 69])"
      ]
     },
     "execution_count": 3,
     "metadata": {},
     "output_type": "execute_result"
    }
   ],
   "source": [
    "# We will truncate to these lengths\n",
    "cycle_depths = np.arange(3, 75, 11)\n",
    "cycle_depths"
   ]
  },
  {
   "cell_type": "markdown",
   "metadata": {},
   "source": [
    "## Make a device to run in parallel on"
   ]
  },
  {
   "cell_type": "code",
   "execution_count": 4,
   "metadata": {},
   "outputs": [
    {
     "data": {
      "image/png": "[encoded data removed]",
      "text/plain": [
       "<Figure size 432x288 with 1 Axes>"
      ]
     },
     "metadata": {},
     "output_type": "display_data"
    }
   ],
   "source": [
    "qubits = cirq.GridQubit.rect(3, 2, 4, 3)\n",
    "qubits = qubits[:-1]  # make it irregular\n",
    "qubits = qubits[:-2]  # make it tiny\n",
    "sampler = cirq.DensityMatrixSimulator(noise=cirq.depolarize(5e-3))\n",
    "\n",
    "import cirq.contrib.routing as ccr\n",
    "import networkx as nx\n",
    "graph = ccr.gridqubits_to_graph_device(qubits)\n",
    "pos = {q: (q.row, q.col) for q in qubits}\n",
    "nx.draw_networkx(graph, pos=pos)"
   ]
  },
  {
   "cell_type": "code",
   "execution_count": 5,
   "metadata": {},
   "outputs": [],
   "source": [
    "# import cirq.contrib.routing as ccr\n",
    "# import cirq.google as cg\n",
    "# import os\n",
    "# os.environ['GOOGLE_CLOUD_PROJECT'] = 'google.com:quantum-experiments'\n",
    "# device_name = 'mcgee'\n",
    "# sampler = cg.get_engine_sampler(device_name, gate_set_name='sqrt_iswap')\n",
    "\n",
    "# device = cg.get_engine_device(device_name)\n",
    "# qubits = sorted(device.qubits)\n",
    "# if device_name == 'mcgee':\n",
    "#     qubits = qubits[:-2]\n",
    "#     qubits.remove(cirq.GridQubit(2,3))\n",
    "# if device_name == 'rainbow':\n",
    "#     qubits = cirq.GridQubit.rect(3,2,4,3)\n",
    "\n",
    "# graph = ccr.gridqubits_to_graph_device(qubits)\n",
    "# pos = {q: (q.row, q.col) for q in qubits}\n",
    "# nx.draw_networkx(graph, pos=pos)"
   ]
  },
  {
   "cell_type": "markdown",
   "metadata": {},
   "source": [
    "## Set up our combinations\n",
    "We take the library of two-qubit circuits and mix-and-match to run parallel efficiently.\n",
    "\n",
    "We pass to the sampling function and it will \"zip\" the circuits according to these combinations which are given by a GridInteractionLayer (one of four for the degree-four GridQubit implied graph), and a row of circuit indices."
   ]
  },
  {
   "cell_type": "code",
   "execution_count": 6,
   "metadata": {
    "scrolled": true
   },
   "outputs": [
    {
     "data": {
      "text/plain": [
       "[CircuitLibraryCombination(layer=cirq.experiments.GridInteractionLayer(col_offset=1, vertical=True, stagger=True), combinations=array([[ 1],\n",
       "        [ 9],\n",
       "        [ 0],\n",
       "        [11],\n",
       "        [ 0],\n",
       "        [18],\n",
       "        [ 2],\n",
       "        [16],\n",
       "        [ 5],\n",
       "        [ 1],\n",
       "        [18],\n",
       "        [ 3],\n",
       "        [ 1],\n",
       "        [ 4],\n",
       "        [17],\n",
       "        [13],\n",
       "        [19],\n",
       "        [ 8],\n",
       "        [15],\n",
       "        [10]]), pairs=[(cirq.GridQubit(4, 3), cirq.GridQubit(5, 3))]),\n",
       " CircuitLibraryCombination(layer=cirq.experiments.GridInteractionLayer(col_offset=1, vertical=False, stagger=True), combinations=array([[ 1],\n",
       "        [18],\n",
       "        [13],\n",
       "        [11],\n",
       "        [12],\n",
       "        [11],\n",
       "        [ 3],\n",
       "        [ 0],\n",
       "        [16],\n",
       "        [19],\n",
       "        [ 7],\n",
       "        [ 5],\n",
       "        [12],\n",
       "        [19],\n",
       "        [ 3],\n",
       "        [ 9],\n",
       "        [ 7],\n",
       "        [ 1],\n",
       "        [ 5],\n",
       "        [16]]), pairs=[(cirq.GridQubit(4, 3), cirq.GridQubit(4, 4))])]"
      ]
     },
     "execution_count": 6,
     "metadata": {},
     "output_type": "execute_result"
    }
   ],
   "source": [
    "combs_by_layer = rqcg.get_random_combinations_for_device(\n",
    "    n_library_circuits=len(circuits),\n",
    "    n_combinations=20,\n",
    "    device_graph=graph,\n",
    ")\n",
    "combs_by_layer"
   ]
  },
  {
   "cell_type": "code",
   "execution_count": 7,
   "metadata": {},
   "outputs": [
    {
     "data": {
      "image/png": "[encoded data removed]",
      "text/plain": [
       "<Figure size 648x432 with 4 Axes>"
      ]
     },
     "metadata": {
      "needs_background": "light"
     },
     "output_type": "display_data"
    }
   ],
   "source": [
    "from matplotlib import pyplot as plt\n",
    "\n",
    "fig, axes = plt.subplots(2,2, figsize=(9,6))\n",
    "for comb_layer, ax in zip(combs_by_layer, axes.reshape(-1)):\n",
    "    active_qubits = np.array(comb_layer.pairs).reshape(-1)\n",
    "    colors = ['red' if q in active_qubits else 'blue' for q in graph.nodes]\n",
    "    nx.draw_networkx(graph, pos=pos, node_color=colors, ax=ax)\n",
    "    nx.draw_networkx_edges(graph, pos=pos, edgelist=comb_layer.pairs, width=3, edge_color='red', ax=ax)\n",
    "    \n",
    "plt.tight_layout()"
   ]
  },
  {
   "cell_type": "code",
   "execution_count": 8,
   "metadata": {},
   "outputs": [
    {
     "name": "stderr",
     "output_type": "stream",
     "text": [
      "288it [01:14,  3.85it/s]                         \n"
     ]
    },
    {
     "data": {
      "text/html": [
       "<div>\n",
       "<style scoped>\n",
       "    .dataframe tbody tr th:only-of-type {\n",
       "        vertical-align: middle;\n",
       "    }\n",
       "\n",
       "    .dataframe tbody tr th {\n",
       "        vertical-align: top;\n",
       "    }\n",
       "\n",
       "    .dataframe thead th {\n",
       "        text-align: right;\n",
       "    }\n",
       "</style>\n",
       "<table border=\"1\" class=\"dataframe\">\n",
       "  <thead>\n",
       "    <tr style=\"text-align: right;\">\n",
       "      <th></th>\n",
       "      <th></th>\n",
       "      <th>sampled_probs</th>\n",
       "      <th>layer_i</th>\n",
       "      <th>pair_i</th>\n",
       "      <th>combination_i</th>\n",
       "      <th>pair_name</th>\n",
       "      <th>q0</th>\n",
       "      <th>q1</th>\n",
       "    </tr>\n",
       "    <tr>\n",
       "      <th>circuit_i</th>\n",
       "      <th>cycle_depth</th>\n",
       "      <th></th>\n",
       "      <th></th>\n",
       "      <th></th>\n",
       "      <th></th>\n",
       "      <th></th>\n",
       "      <th></th>\n",
       "      <th></th>\n",
       "    </tr>\n",
       "  </thead>\n",
       "  <tbody>\n",
       "    <tr>\n",
       "      <th>1</th>\n",
       "      <th>3</th>\n",
       "      <td>[0.0344, 0.5223, 0.3016, 0.1417]</td>\n",
       "      <td>0</td>\n",
       "      <td>0</td>\n",
       "      <td>0</td>\n",
       "      <td>(4, 3)-(5, 3)</td>\n",
       "      <td>(4, 3)</td>\n",
       "      <td>(5, 3)</td>\n",
       "    </tr>\n",
       "    <tr>\n",
       "      <th>9</th>\n",
       "      <th>3</th>\n",
       "      <td>[0.071, 0.2801, 0.5564, 0.0925]</td>\n",
       "      <td>0</td>\n",
       "      <td>0</td>\n",
       "      <td>1</td>\n",
       "      <td>(4, 3)-(5, 3)</td>\n",
       "      <td>(4, 3)</td>\n",
       "      <td>(5, 3)</td>\n",
       "    </tr>\n",
       "    <tr>\n",
       "      <th>0</th>\n",
       "      <th>3</th>\n",
       "      <td>[0.0233, 0.3545, 0.0624, 0.5598]</td>\n",
       "      <td>0</td>\n",
       "      <td>0</td>\n",
       "      <td>2</td>\n",
       "      <td>(4, 3)-(5, 3)</td>\n",
       "      <td>(4, 3)</td>\n",
       "      <td>(5, 3)</td>\n",
       "    </tr>\n",
       "    <tr>\n",
       "      <th>11</th>\n",
       "      <th>3</th>\n",
       "      <td>[0.4734, 0.0284, 0.3531, 0.1451]</td>\n",
       "      <td>0</td>\n",
       "      <td>0</td>\n",
       "      <td>3</td>\n",
       "      <td>(4, 3)-(5, 3)</td>\n",
       "      <td>(4, 3)</td>\n",
       "      <td>(5, 3)</td>\n",
       "    </tr>\n",
       "    <tr>\n",
       "      <th>0</th>\n",
       "      <th>3</th>\n",
       "      <td>[0.0234, 0.3674, 0.0598, 0.5494]</td>\n",
       "      <td>0</td>\n",
       "      <td>0</td>\n",
       "      <td>4</td>\n",
       "      <td>(4, 3)-(5, 3)</td>\n",
       "      <td>(4, 3)</td>\n",
       "      <td>(5, 3)</td>\n",
       "    </tr>\n",
       "    <tr>\n",
       "      <th>...</th>\n",
       "      <th>...</th>\n",
       "      <td>...</td>\n",
       "      <td>...</td>\n",
       "      <td>...</td>\n",
       "      <td>...</td>\n",
       "      <td>...</td>\n",
       "      <td>...</td>\n",
       "      <td>...</td>\n",
       "    </tr>\n",
       "    <tr>\n",
       "      <th>3</th>\n",
       "      <th>69</th>\n",
       "      <td>[0.3149, 0.2079, 0.2733, 0.2039]</td>\n",
       "      <td>1</td>\n",
       "      <td>0</td>\n",
       "      <td>14</td>\n",
       "      <td>(4, 3)-(4, 4)</td>\n",
       "      <td>(4, 3)</td>\n",
       "      <td>(4, 4)</td>\n",
       "    </tr>\n",
       "    <tr>\n",
       "      <th>9</th>\n",
       "      <th>69</th>\n",
       "      <td>[0.2453, 0.2306, 0.3141, 0.21]</td>\n",
       "      <td>1</td>\n",
       "      <td>0</td>\n",
       "      <td>15</td>\n",
       "      <td>(4, 3)-(4, 4)</td>\n",
       "      <td>(4, 3)</td>\n",
       "      <td>(4, 4)</td>\n",
       "    </tr>\n",
       "    <tr>\n",
       "      <th>7</th>\n",
       "      <th>69</th>\n",
       "      <td>[0.2625, 0.2722, 0.2082, 0.2571]</td>\n",
       "      <td>1</td>\n",
       "      <td>0</td>\n",
       "      <td>16</td>\n",
       "      <td>(4, 3)-(4, 4)</td>\n",
       "      <td>(4, 3)</td>\n",
       "      <td>(4, 4)</td>\n",
       "    </tr>\n",
       "    <tr>\n",
       "      <th>1</th>\n",
       "      <th>69</th>\n",
       "      <td>[0.2749, 0.2897, 0.2078, 0.2276]</td>\n",
       "      <td>1</td>\n",
       "      <td>0</td>\n",
       "      <td>17</td>\n",
       "      <td>(4, 3)-(4, 4)</td>\n",
       "      <td>(4, 3)</td>\n",
       "      <td>(4, 4)</td>\n",
       "    </tr>\n",
       "    <tr>\n",
       "      <th>5</th>\n",
       "      <th>69</th>\n",
       "      <td>[0.2294, 0.2348, 0.2855, 0.2503]</td>\n",
       "      <td>1</td>\n",
       "      <td>0</td>\n",
       "      <td>18</td>\n",
       "      <td>(4, 3)-(4, 4)</td>\n",
       "      <td>(4, 3)</td>\n",
       "      <td>(4, 4)</td>\n",
       "    </tr>\n",
       "  </tbody>\n",
       "</table>\n",
       "<p>280 rows × 7 columns</p>\n",
       "</div>"
      ],
      "text/plain": [
       "                                          sampled_probs  layer_i  pair_i  \\\n",
       "circuit_i cycle_depth                                                      \n",
       "1         3            [0.0344, 0.5223, 0.3016, 0.1417]        0       0   \n",
       "9         3             [0.071, 0.2801, 0.5564, 0.0925]        0       0   \n",
       "0         3            [0.0233, 0.3545, 0.0624, 0.5598]        0       0   \n",
       "11        3            [0.4734, 0.0284, 0.3531, 0.1451]        0       0   \n",
       "0         3            [0.0234, 0.3674, 0.0598, 0.5494]        0       0   \n",
       "...                                                 ...      ...     ...   \n",
       "3         69           [0.3149, 0.2079, 0.2733, 0.2039]        1       0   \n",
       "9         69             [0.2453, 0.2306, 0.3141, 0.21]        1       0   \n",
       "7         69           [0.2625, 0.2722, 0.2082, 0.2571]        1       0   \n",
       "1         69           [0.2749, 0.2897, 0.2078, 0.2276]        1       0   \n",
       "5         69           [0.2294, 0.2348, 0.2855, 0.2503]        1       0   \n",
       "\n",
       "                       combination_i      pair_name      q0      q1  \n",
       "circuit_i cycle_depth                                                \n",
       "1         3                        0  (4, 3)-(5, 3)  (4, 3)  (5, 3)  \n",
       "9         3                        1  (4, 3)-(5, 3)  (4, 3)  (5, 3)  \n",
       "0         3                        2  (4, 3)-(5, 3)  (4, 3)  (5, 3)  \n",
       "11        3                        3  (4, 3)-(5, 3)  (4, 3)  (5, 3)  \n",
       "0         3                        4  (4, 3)-(5, 3)  (4, 3)  (5, 3)  \n",
       "...                              ...            ...     ...     ...  \n",
       "3         69                      14  (4, 3)-(4, 4)  (4, 3)  (4, 4)  \n",
       "9         69                      15  (4, 3)-(4, 4)  (4, 3)  (4, 4)  \n",
       "7         69                      16  (4, 3)-(4, 4)  (4, 3)  (4, 4)  \n",
       "1         69                      17  (4, 3)-(4, 4)  (4, 3)  (4, 4)  \n",
       "5         69                      18  (4, 3)-(4, 4)  (4, 3)  (4, 4)  \n",
       "\n",
       "[280 rows x 7 columns]"
      ]
     },
     "execution_count": 8,
     "metadata": {},
     "output_type": "execute_result"
    }
   ],
   "source": [
    "from cirq.experiments.fidelity_estimation import sample_2q_xeb_circuits\n",
    "sampled_df = sample_2q_xeb_circuits(\n",
    "    sampler=sampler,\n",
    "    circuits=circuits,\n",
    "    cycle_depths=cycle_depths,\n",
    "    combinations_by_layer=combs_by_layer\n",
    ")\n",
    "sampled_df"
   ]
  },
  {
   "cell_type": "code",
   "execution_count": 9,
   "metadata": {},
   "outputs": [],
   "source": [
    "#sampled_df.to_pickle('02-03-mcgee.pickl')\n",
    "#cirq.to_json(circuits, '02-03-mcgee.json')"
   ]
  },
  {
   "cell_type": "code",
   "execution_count": 10,
   "metadata": {},
   "outputs": [
    {
     "data": {
      "text/html": [
       "<div>\n",
       "<style scoped>\n",
       "    .dataframe tbody tr th:only-of-type {\n",
       "        vertical-align: middle;\n",
       "    }\n",
       "\n",
       "    .dataframe tbody tr th {\n",
       "        vertical-align: top;\n",
       "    }\n",
       "\n",
       "    .dataframe thead th {\n",
       "        text-align: right;\n",
       "    }\n",
       "</style>\n",
       "<table border=\"1\" class=\"dataframe\">\n",
       "  <thead>\n",
       "    <tr style=\"text-align: right;\">\n",
       "      <th></th>\n",
       "      <th>layer_i</th>\n",
       "      <th>pair_i</th>\n",
       "      <th>cycle_depth</th>\n",
       "      <th>fidelity</th>\n",
       "      <th>q0</th>\n",
       "      <th>q1</th>\n",
       "      <th>pair_name</th>\n",
       "    </tr>\n",
       "  </thead>\n",
       "  <tbody>\n",
       "    <tr>\n",
       "      <th>0</th>\n",
       "      <td>0</td>\n",
       "      <td>0</td>\n",
       "      <td>3</td>\n",
       "      <td>0.927034</td>\n",
       "      <td>(4, 3)</td>\n",
       "      <td>(5, 3)</td>\n",
       "      <td>(4, 3)-(5, 3)</td>\n",
       "    </tr>\n",
       "    <tr>\n",
       "      <th>1</th>\n",
       "      <td>0</td>\n",
       "      <td>0</td>\n",
       "      <td>14</td>\n",
       "      <td>0.717671</td>\n",
       "      <td>(4, 3)</td>\n",
       "      <td>(5, 3)</td>\n",
       "      <td>(4, 3)-(5, 3)</td>\n",
       "    </tr>\n",
       "    <tr>\n",
       "      <th>2</th>\n",
       "      <td>0</td>\n",
       "      <td>0</td>\n",
       "      <td>25</td>\n",
       "      <td>0.573164</td>\n",
       "      <td>(4, 3)</td>\n",
       "      <td>(5, 3)</td>\n",
       "      <td>(4, 3)-(5, 3)</td>\n",
       "    </tr>\n",
       "    <tr>\n",
       "      <th>3</th>\n",
       "      <td>0</td>\n",
       "      <td>0</td>\n",
       "      <td>36</td>\n",
       "      <td>0.453712</td>\n",
       "      <td>(4, 3)</td>\n",
       "      <td>(5, 3)</td>\n",
       "      <td>(4, 3)-(5, 3)</td>\n",
       "    </tr>\n",
       "    <tr>\n",
       "      <th>4</th>\n",
       "      <td>0</td>\n",
       "      <td>0</td>\n",
       "      <td>47</td>\n",
       "      <td>0.352391</td>\n",
       "      <td>(4, 3)</td>\n",
       "      <td>(5, 3)</td>\n",
       "      <td>(4, 3)-(5, 3)</td>\n",
       "    </tr>\n",
       "    <tr>\n",
       "      <th>5</th>\n",
       "      <td>0</td>\n",
       "      <td>0</td>\n",
       "      <td>58</td>\n",
       "      <td>0.279952</td>\n",
       "      <td>(4, 3)</td>\n",
       "      <td>(5, 3)</td>\n",
       "      <td>(4, 3)-(5, 3)</td>\n",
       "    </tr>\n",
       "    <tr>\n",
       "      <th>6</th>\n",
       "      <td>0</td>\n",
       "      <td>0</td>\n",
       "      <td>69</td>\n",
       "      <td>0.229378</td>\n",
       "      <td>(4, 3)</td>\n",
       "      <td>(5, 3)</td>\n",
       "      <td>(4, 3)-(5, 3)</td>\n",
       "    </tr>\n",
       "    <tr>\n",
       "      <th>7</th>\n",
       "      <td>1</td>\n",
       "      <td>0</td>\n",
       "      <td>3</td>\n",
       "      <td>0.925950</td>\n",
       "      <td>(4, 3)</td>\n",
       "      <td>(4, 4)</td>\n",
       "      <td>(4, 3)-(4, 4)</td>\n",
       "    </tr>\n",
       "    <tr>\n",
       "      <th>8</th>\n",
       "      <td>1</td>\n",
       "      <td>0</td>\n",
       "      <td>14</td>\n",
       "      <td>0.723725</td>\n",
       "      <td>(4, 3)</td>\n",
       "      <td>(4, 4)</td>\n",
       "      <td>(4, 3)-(4, 4)</td>\n",
       "    </tr>\n",
       "    <tr>\n",
       "      <th>9</th>\n",
       "      <td>1</td>\n",
       "      <td>0</td>\n",
       "      <td>25</td>\n",
       "      <td>0.577695</td>\n",
       "      <td>(4, 3)</td>\n",
       "      <td>(4, 4)</td>\n",
       "      <td>(4, 3)-(4, 4)</td>\n",
       "    </tr>\n",
       "    <tr>\n",
       "      <th>10</th>\n",
       "      <td>1</td>\n",
       "      <td>0</td>\n",
       "      <td>36</td>\n",
       "      <td>0.447938</td>\n",
       "      <td>(4, 3)</td>\n",
       "      <td>(4, 4)</td>\n",
       "      <td>(4, 3)-(4, 4)</td>\n",
       "    </tr>\n",
       "    <tr>\n",
       "      <th>11</th>\n",
       "      <td>1</td>\n",
       "      <td>0</td>\n",
       "      <td>47</td>\n",
       "      <td>0.357904</td>\n",
       "      <td>(4, 3)</td>\n",
       "      <td>(4, 4)</td>\n",
       "      <td>(4, 3)-(4, 4)</td>\n",
       "    </tr>\n",
       "    <tr>\n",
       "      <th>12</th>\n",
       "      <td>1</td>\n",
       "      <td>0</td>\n",
       "      <td>58</td>\n",
       "      <td>0.290118</td>\n",
       "      <td>(4, 3)</td>\n",
       "      <td>(4, 4)</td>\n",
       "      <td>(4, 3)-(4, 4)</td>\n",
       "    </tr>\n",
       "    <tr>\n",
       "      <th>13</th>\n",
       "      <td>1</td>\n",
       "      <td>0</td>\n",
       "      <td>69</td>\n",
       "      <td>0.226308</td>\n",
       "      <td>(4, 3)</td>\n",
       "      <td>(4, 4)</td>\n",
       "      <td>(4, 3)-(4, 4)</td>\n",
       "    </tr>\n",
       "  </tbody>\n",
       "</table>\n",
       "</div>"
      ],
      "text/plain": [
       "    layer_i  pair_i  cycle_depth  fidelity      q0      q1      pair_name\n",
       "0         0       0            3  0.927034  (4, 3)  (5, 3)  (4, 3)-(5, 3)\n",
       "1         0       0           14  0.717671  (4, 3)  (5, 3)  (4, 3)-(5, 3)\n",
       "2         0       0           25  0.573164  (4, 3)  (5, 3)  (4, 3)-(5, 3)\n",
       "3         0       0           36  0.453712  (4, 3)  (5, 3)  (4, 3)-(5, 3)\n",
       "4         0       0           47  0.352391  (4, 3)  (5, 3)  (4, 3)-(5, 3)\n",
       "5         0       0           58  0.279952  (4, 3)  (5, 3)  (4, 3)-(5, 3)\n",
       "6         0       0           69  0.229378  (4, 3)  (5, 3)  (4, 3)-(5, 3)\n",
       "7         1       0            3  0.925950  (4, 3)  (4, 4)  (4, 3)-(4, 4)\n",
       "8         1       0           14  0.723725  (4, 3)  (4, 4)  (4, 3)-(4, 4)\n",
       "9         1       0           25  0.577695  (4, 3)  (4, 4)  (4, 3)-(4, 4)\n",
       "10        1       0           36  0.447938  (4, 3)  (4, 4)  (4, 3)-(4, 4)\n",
       "11        1       0           47  0.357904  (4, 3)  (4, 4)  (4, 3)-(4, 4)\n",
       "12        1       0           58  0.290118  (4, 3)  (4, 4)  (4, 3)-(4, 4)\n",
       "13        1       0           69  0.226308  (4, 3)  (4, 4)  (4, 3)-(4, 4)"
      ]
     },
     "execution_count": 10,
     "metadata": {},
     "output_type": "execute_result"
    }
   ],
   "source": [
    "from cirq.experiments.fidelity_estimation import benchmark_2q_xeb_fidelities\n",
    "# TODO: only simulate the circuits that are here\n",
    "fids = benchmark_2q_xeb_fidelities(\n",
    "    sampled_df=sampled_df,\n",
    "    circuits=circuits,\n",
    "    cycle_depths=cycle_depths,\n",
    ")\n",
    "fids"
   ]
  },
  {
   "cell_type": "code",
   "execution_count": 13,
   "metadata": {},
   "outputs": [
    {
     "data": {
      "image/png": "[encoded data removed]",
      "text/plain": [
       "<Figure size 432x288 with 1 Axes>"
      ]
     },
     "metadata": {
      "needs_background": "light"
     },
     "output_type": "display_data"
    },
    {
     "data": {
      "image/png": "[encoded data removed]",
      "text/plain": [
       "<Figure size 432x288 with 1 Axes>"
      ]
     },
     "metadata": {
      "needs_background": "light"
     },
     "output_type": "display_data"
    }
   ],
   "source": [
    "from cirq.experiments.fidelity_estimation import fit_decays, exp\n",
    "for record in fit_decays(fids):\n",
    "    plt.axhline(1, color='grey', ls='--')\n",
    "    plt.plot(record['cycle_depths'], record['fidelities'], 'o--')\n",
    "    xx = np.linspace(0, np.max(record['cycle_depths']))\n",
    "    plt.plot(xx, exp(xx, A=record['A'], fid=record['fid']))\n",
    "    plt.show()"
   ]
  },
  {
   "cell_type": "code",
   "execution_count": 14,
   "metadata": {
    "id": "8c08c9ab8109"
   },
   "outputs": [
    {
     "data": {
      "image/png": "[encoded data removed]",
      "text/plain": [
       "<Figure size 432x288 with 1 Axes>"
      ]
     },
     "metadata": {
      "needs_background": "light"
     },
     "output_type": "display_data"
    }
   ],
   "source": [
    "%matplotlib inline\n",
    "from matplotlib import pyplot as plt\n",
    "import seaborn as sns\n",
    "\n",
    "# Give each pair its own color\n",
    "colors = sns.cubehelix_palette(n_colors=graph.number_of_edges())\n",
    "colors = {f'{q0}-{q1}': color for (q0, q1), color in zip(graph.edges, colors)}\n",
    "\n",
    "# Exponential reference\n",
    "xx = np.linspace(0, fids['cycle_depth'].max())\n",
    "plt.plot(xx, (1-5e-3)**(4*xx), label=r'Exponential Reference', color='black')\n",
    "\n",
    "# Plot each pair\n",
    "def _p(fids):\n",
    "    plt.plot(fids['cycle_depth'], fids['fidelity'], \n",
    "             'o-', label=fids.name, color=colors[fids.name],\n",
    "             alpha=0.5)\n",
    "fids.groupby('pair_name').apply(_p)\n",
    "\n",
    "plt.ylabel('Circuit fidelity')\n",
    "plt.xlabel('Cycle Depth $d$')\n",
    "plt.legend(loc='best')\n",
    "plt.tight_layout()"
   ]
  },
  {
   "cell_type": "markdown",
   "metadata": {
    "id": "6025a292d19b"
   },
   "source": [
    "## Optimize `PhasedFSimGate` parameters\n",
    "\n",
    "We know what circuits we requested, and in this simulated example, we know what coherent error has happened. But in a real experiment, there is likely unknown coherent error that you would like to characterize. Therefore, we make the five angles in `PhasedFSimGate` free parameters and use a classical optimizer to find which set of parameters best describes the data we collected from the noisy simulator (or device, if this was a real experiment)."
   ]
  },
  {
   "cell_type": "markdown",
   "metadata": {
    "id": "c175576bf0d6"
   },
   "source": [
    "fids_opt = simulate_2q_xeb_fids(sampled_df, pcircuits, cycle_depths, param_resolver={'theta': -np.pi/4, 'phi': 0.1})"
   ]
  },
  {
   "cell_type": "code",
   "execution_count": 15,
   "metadata": {
    "id": "baff45b4ad70"
   },
   "outputs": [],
   "source": [
    "import multiprocessing\n",
    "pool = multiprocessing.get_context('spawn').Pool()"
   ]
  },
  {
   "cell_type": "markdown",
   "metadata": {},
   "source": [
    "```python\n",
    "from cirq.experiments.fidelity_estimation import \\\n",
    "    parameterize_phased_fsim_circuit, characterize_phased_fsim_parameters_with_xeb, SqrtISwapXEBOptions\n",
    "\n",
    "options = SqrtISwapXEBOptions()\n",
    "pcircuits = [parameterize_phased_fsim_circuit(circuit, options) for circuit in circuits]\n",
    "res = characterize_phased_fsim_parameters_with_xeb(\n",
    "                    sampled_df, pcircuits, cycle_depths, options, pool=pool, fatol=5e-3, xatol=5e-3)\n",
    "```"
   ]
  },
  {
   "cell_type": "code",
   "execution_count": 16,
   "metadata": {},
   "outputs": [],
   "source": [
    "from cirq.experiments.fidelity_estimation import \\\n",
    "    parameterize_phased_fsim_circuit, characterize_phased_fsim_parameters_with_xeb_by_pair, SqrtISwapXEBOptions\n",
    "\n",
    "options = SqrtISwapXEBOptions()\n",
    "pcircuits = [parameterize_phased_fsim_circuit(circuit, options) for circuit in circuits]\n",
    "oresults, angles, fids_opt = characterize_phased_fsim_parameters_with_xeb_by_pair(\n",
    "                             sampled_df, pcircuits, cycle_depths, options, pool=pool, fatol=5e-3, xatol=5e-3)"
   ]
  },
  {
   "cell_type": "code",
   "execution_count": 18,
   "metadata": {},
   "outputs": [
    {
     "data": {
      "image/png": "[encoded data removed]",
      "text/plain": [
       "<Figure size 432x288 with 1 Axes>"
      ]
     },
     "metadata": {
      "needs_background": "light"
     },
     "output_type": "display_data"
    },
    {
     "data": {
      "image/png": "[encoded data removed]",
      "text/plain": [
       "<Figure size 432x288 with 1 Axes>"
      ]
     },
     "metadata": {
      "needs_background": "light"
     },
     "output_type": "display_data"
    }
   ],
   "source": [
    "for r1, r2 in zip(fit_decays(fids), fit_decays(fids_opt)):\n",
    "    assert r1['pair_name'] == r2['pair_name']\n",
    "    plt.axhline(1, color='grey', ls='--')\n",
    "    plt.plot(r1['cycle_depths'], r1['fidelities'], '--', color='red')\n",
    "    plt.plot(r2['cycle_depths'], r2['fidelities'], 'o-', color='blue')\n",
    "\n",
    "    xx = np.linspace(0, np.max(r1['cycle_depths']))\n",
    "    plt.plot(xx, exp(xx, A=r1['A'], fid=r1['fid']), color='red')\n",
    "    plt.plot(xx, exp(xx, A=r2['A'], fid=r2['fid']), color='blue')\n",
    "    \n",
    "    plt.show()"
   ]
  },
  {
   "cell_type": "code",
   "execution_count": 19,
   "metadata": {
    "id": "a11414898e89"
   },
   "outputs": [
    {
     "data": {
      "image/png": "[encoded data removed]",
      "text/plain": [
       "<Figure size 432x288 with 1 Axes>"
      ]
     },
     "metadata": {
      "needs_background": "light"
     },
     "output_type": "display_data"
    }
   ],
   "source": [
    "xx = np.linspace(0, fids['cycle_depth'].max())\n",
    "plt.plot(xx, (1-5e-3)**(4*xx), label=r'Exponential Reference', color='black')\n",
    "plt.axhline(1, color='grey', ls='--')\n",
    "\n",
    "#plt.plot(fids['cycle_depth'], fids['fidelity'], 'o-', label='Raw')\n",
    "#plt.plot(fids_opt['cycle_depth'], fids_opt['fidelity'], 'o-', label='Refit')\n",
    "\n",
    "# Plot each pair\n",
    "def _p(fids, marker='.', ls='-'):\n",
    "    plt.plot(fids['cycle_depth'], fids['fidelity'], \n",
    "             marker=marker, ls=ls, label=fids.name, color=colors[fids.name],\n",
    "             alpha=0.9)\n",
    "\n",
    "fids.groupby('pair_name').apply(_p, ls='--', marker='')\n",
    "fids_opt.groupby('pair_name').apply(_p)\n",
    "#plt.yscale('log')\n",
    "\n",
    "plt.ylabel('Circuit fidelity')\n",
    "plt.xlabel('Cycle Depth')\n",
    "plt.legend(loc='best')\n",
    "plt.tight_layout()"
   ]
  },
  {
   "cell_type": "code",
   "execution_count": null,
   "metadata": {},
   "outputs": [],
   "source": []
  }
 ],
 "metadata": {
  "colab": {
   "name": "xeb_coherent_noise.ipynb",
   "toc_visible": true
  },
  "kernelspec": {
   "display_name": "Python 3",
   "language": "python",
   "name": "python3"
  },
  "language_info": {
   "codemirror_mode": {
    "name": "ipython",
    "version": 3
   },
   "file_extension": ".py",
   "mimetype": "text/x-python",
   "name": "python",
   "nbconvert_exporter": "python",
   "pygments_lexer": "ipython3",
   "version": "3.7.7"
  }
 },
 "nbformat": 4,
 "nbformat_minor": 1
}
