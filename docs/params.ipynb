{
 "cells": [
  {
   "cell_type": "markdown",
   "id": "be796cb3-8b58-460b-b717-733ec0bc3e4b",
   "metadata": {
    "id": "f6b480b258ee"
   },
   "source": [
    "##### Copyright 2022 The Cirq Developers"
   ]
  },
  {
   "cell_type": "code",
   "execution_count": null,
   "id": "e1552f54-54a2-4d4f-ae1a-1bb15d24dcab",
   "metadata": {
    "cellView": "form",
    "id": "906e07f6e562"
   },
   "outputs": [],
   "source": [
    "#@title Licensed under the Apache License, Version 2.0 (the \"License\");\n",
    "# you may not use this file except in compliance with the License.\n",
    "# You may obtain a copy of the License at\n",
    "#\n",
    "# https://www.apache.org/licenses/LICENSE-2.0\n",
    "#\n",
    "# Unless required by applicable law or agreed to in writing, software\n",
    "# distributed under the License is distributed on an \"AS IS\" BASIS,\n",
    "# WITHOUT WARRANTIES OR CONDITIONS OF ANY KIND, either express or implied.\n",
    "# See the License for the specific language governing permissions and\n",
    "# limitations under the License."
   ]
  },
  {
   "cell_type": "markdown",
   "id": "ccb2d671-f8af-4d79-b477-030de935156c",
   "metadata": {
    "id": "EQvWLKKRgZR9"
   },
   "source": [
    "# Parameter Sweeps"
   ]
  },
  {
   "cell_type": "markdown",
   "id": "9d101fdc-94b6-4aff-b165-bf56a6a880bf",
   "metadata": {
    "id": "EvZ_JecKga2p"
   },
   "source": [
    "<table class=\"tfo-notebook-buttons\" align=\"left\">\n",
    "  <td>\n",
    "    <a target=\"_blank\" href=\"https://quantumai.google/cirq/params\"><img src=\"https://quantumai.google/site-assets/images/buttons/quantumai_logo_1x.png\" />View on QuantumAI</a>\n",
    "  </td>\n",
    "  <td>\n",
    "    <a target=\"_blank\" href=\"https://colab.research.google.com/github/quantumlib/Cirq/blob/master/docs/params.ipynb\"><img src=\"https://quantumai.google/site-assets/images/buttons/colab_logo_1x.png\" />Run in Google Colab</a>\n",
    "  </td>\n",
    "  <td>\n",
    "    <a target=\"_blank\" href=\"https://github.com/quantumlib/Cirq/blob/master/docs/params.ipynb\"><img src=\"https://quantumai.google/site-assets/images/buttons/github_logo_1x.png\" />View source on GitHub</a>\n",
    "  </td>\n",
    "  <td>\n",
    "    <a href=\"https://storage.googleapis.com/tensorflow_docs/Cirq/docs/params.ipynb\"><img src=\"https://quantumai.google/site-assets/images/buttons/download_icon_1x.png\" />Download notebook</a>\n",
    "  </td>\n",
    "</table>"
   ]
  },
  {
   "cell_type": "code",
   "execution_count": null,
   "id": "b6858f27-50a0-4603-8979-10810fce18f5",
   "metadata": {
    "id": "bd9529db1c0b"
   },
   "outputs": [],
   "source": [
    "try:\n",
    "    import cirq\n",
    "except ImportError:\n",
    "    print(\"installing cirq...\")\n",
    "    !pip install --quiet cirq\n",
    "    print(\"installed cirq.\")\n",
    "    import cirq"
   ]
  },
  {
   "cell_type": "markdown",
   "id": "3ed0b5c5-1e40-4fed-b867-e5a81247bdec",
   "metadata": {
    "id": "0e4a50aed04a"
   },
   "source": [
    "## Concept of Circuit Parameterization and Sweeps\n",
    "\n",
    "Suppose one has a quantum circuit and in this circuit there is a gate with some parameter. One might wish to run this circuit for different values of this parameter.  An example of this type of setup is a Rabi flop experiment. In this experiment, one runs a set of quantum computations where one 1) starts in  $|0\\rangle$ state, 2) rotates the state by $\\theta$ about the $x$ axis, i.e. applies the gate $\\exp(i \\theta X)$, and 3) measures the state in the computational basis.  Running this experiment for multiple values of $\\theta$, and plotting the probability of observing a $|1\\rangle$ outcome yields the quintessential $\\cos^2$ probability distribution as a function of the different parameters $\\theta$.  To support this type of experiment, Cirq provides the concept of parameterized circuits and parameter sweeps.  \n",
    "\n",
    "Let's illustrate parameter sweeps by a simple example.  Suppose that we want to compare two quantum circuits that are very similar except for a single gate."
   ]
  },
  {
   "cell_type": "code",
   "execution_count": null,
   "id": "773ec3c4-a068-4695-b598-c0ac35c66320",
   "metadata": {
    "id": "5b7f70e0044a"
   },
   "outputs": [],
   "source": [
    "q0 = cirq.LineQubit(0)\n",
    "\n",
    "circuit1 = cirq.Circuit([cirq.H(q0), cirq.Z(q0)**0.5, cirq.H(q0), cirq.measure(q0)])\n",
    "print(f\"circuit1:\\n{circuit1}\")\n",
    "\n",
    "circuit2 = cirq.Circuit([cirq.H(q0), cirq.Z(q0)**0.25, cirq.H(q0), cirq.measure(q0)])\n",
    "print(f\"circuit2:\\n{circuit2}\")"
   ]
  },
  {
   "cell_type": "markdown",
   "id": "6cfff8b9-7a3e-423b-b03d-0867fa5b31f0",
   "metadata": {
    "id": "0bbbafcbd46b"
   },
   "source": [
    "One could run (either on hardware or in simulation) these circuits separately, for example, and collect statistics on the results of these circuits. However we can use parameter sweeps to do this in a cleaner and more perfomant manner.  \n",
    "\n",
    "First one defines a parameter, and constructs a circuit that depends on this parameter. We use [SymPy](https://www.sympy.org/en/index.html){:external}, a symbolic mathematics package, to define our parameters.  For example, here we define a symbol, theta, and use it to construct a paremeterized circuit."
   ]
  },
  {
   "cell_type": "code",
   "execution_count": null,
   "id": "e05f10d8-f4fb-4b97-9b10-fc2e6b6d6b72",
   "metadata": {
    "id": "e3a500a02d00"
   },
   "outputs": [],
   "source": [
    "import sympy\n",
    "\n",
    "theta = sympy.Symbol(\"theta\")\n",
    "\n",
    "circuit = cirq.Circuit([cirq.H(q0), cirq.Z(q0)**theta, cirq.H(q0), cirq.measure(q0)])\n",
    "print(f\"circuit:\\n{circuit}\")"
   ]
  },
  {
   "cell_type": "markdown",
   "id": "95f1cbac-ee3f-4ee9-b11f-8ac930b771cf",
   "metadata": {
    "id": "39411f440f90"
   },
   "source": [
    "Notice now that our circuit contains a `cirq.Z` gate that is raised to a power, but this power is our parameter `theta`.  This is a \"parameterized circuit\".  An alternative way to construct this, where we see that the parameter is actually a parameter on the gate's constructor arguments, is"
   ]
  },
  {
   "cell_type": "code",
   "execution_count": null,
   "id": "2a6e5c1c-1d23-4f35-979e-de362d2366ce",
   "metadata": {
    "id": "72016524d2b8"
   },
   "outputs": [],
   "source": [
    "circuit = cirq.Circuit([cirq.H(q0), cirq.ZPowGate(exponent=theta)(q0), cirq.H(q0), cirq.measure(q0)])\n",
    "print(f\"circuit:\\n{circuit}\")"
   ]
  },
  {
   "cell_type": "markdown",
   "id": "465cd2a4-944a-41b1-8320-258e4da3150a",
   "metadata": {
    "id": "5ee7e4d0795f"
   },
   "source": [
    "We can check whether an object in Cirq is parameterized using `cirq.is_parameterized`:"
   ]
  },
  {
   "cell_type": "code",
   "execution_count": null,
   "id": "b5c76a4c-8ba5-445c-9fa8-c1cfa63f73f3",
   "metadata": {
    "id": "6a13c552a879"
   },
   "outputs": [],
   "source": [
    "cirq.is_parameterized(circuit)"
   ]
  },
  {
   "cell_type": "markdown",
   "id": "6c64e565-8d3e-45d9-8618-3ad661d0f8d2",
   "metadata": {
    "id": "83d26b614ffe"
   },
   "source": [
    "Parameterized circuits are just like normal circuits, they just aren't defined in terms of actually gates you can run on a quantum computer without the additional information about the values of the parameters.  Following along with our example above, we can generate the two circuits (`circuit1` and `circuit2`) by using `cirq.resolve_parameter` and supplying the parameters:"
   ]
  },
  {
   "cell_type": "code",
   "execution_count": null,
   "id": "1f98386c-f0a0-4903-a9ff-d514ff4e342f",
   "metadata": {
    "id": "380c37fade59"
   },
   "outputs": [],
   "source": [
    "# circuit1 has theta = 0.5\n",
    "cirq.resolve_parameters(circuit, {\"theta\": 0.5})"
   ]
  },
  {
   "cell_type": "markdown",
   "id": "09d74416-2708-428e-a28b-44128c339b7e",
   "metadata": {
    "id": "6463c8d810fa"
   },
   "source": [
    "More interestingly, can combine parameterized circuits with a list of parameter assignments when doing things like running circuits or simulating them.  These lists of parameter assignements are called \"sweeps\".  For example we can use a simulators `run_sweep` method to run simulations for the parameters corresonding to the two circuits defined above."
   ]
  },
  {
   "cell_type": "code",
   "execution_count": null,
   "id": "a6aff8f5-b5be-4226-a470-4bac2c323965",
   "metadata": {
    "id": "5ad9784a61b5"
   },
   "outputs": [],
   "source": [
    "sim = cirq.Simulator()\n",
    "results = sim.run_sweep(circuit, repetitions=25, params=[{\"theta\": 0.5}, {\"theta\": 0.25}])\n",
    "for result in results:\n",
    "    print(f\"param: {result.params}, result: {result}\")"
   ]
  },
  {
   "cell_type": "markdown",
   "id": "af7f2728-4007-4252-b29c-9bea97f866fd",
   "metadata": {
    "id": "75e583a33046"
   },
   "source": [
    "To recap, we can construct parameterized circuits which depend on parameters that have not yet been assigned a value.  These parameterized circuits can then be resolved to circuits with actual values via a dictionary that maps the parameter name to the value. We can also construct lists of dictionaries of parameter assignments, called sweeps, and pass this to many objects in Cirq that use circuits to do an action (such as simulate or run on hardware).  For each of the elements in the sweep, the object will do the action using the parameters as described by the element."
   ]
  },
  {
   "cell_type": "markdown",
   "id": "5f527620-85e0-4355-ab95-0df1bbe7d8d9",
   "metadata": {
    "id": "985ff927ebdd"
   },
   "source": [
    "## Constructing Sweeps\n",
    "\n",
    "Above we constructed a sweep by simply constructing a list of parameter assignments, `[{\"theta\": 0.5}, {\"theta\": 0.25}]`.  Cirq also provides other ways to construct sweeps.  \n",
    "\n",
    "One useful method for constructing parameter sweeps is `cirq.Linspace` which creates a sweep over a list of equally spaced elements.  "
   ]
  },
  {
   "cell_type": "code",
   "execution_count": null,
   "id": "d77dcdb1-2cdf-4722-b66b-add7a0348db0",
   "metadata": {
    "id": "fcf802956766"
   },
   "outputs": [],
   "source": [
    "# Create a sweep over 5 equally spaced values from 0 to 2.5.\n",
    "params = cirq.Linspace(key=\"theta\", start=0, stop=2.5, length=5)\n",
    "for param in params:\n",
    "    print(param)"
   ]
  },
  {
   "cell_type": "markdown",
   "id": "ce193af9-8cb7-499d-8eb5-aaa8b307e3f9",
   "metadata": {
    "id": "e0d86edee975"
   },
   "source": [
    "Many methods that take a sweepable will take a list, but if one want to construct an explicit sweepable from a list, `cirq.Points` does this."
   ]
  },
  {
   "cell_type": "code",
   "execution_count": null,
   "id": "c0400fef-e76c-4c35-a294-f0603473d4d1",
   "metadata": {
    "id": "8371d9c02076"
   },
   "outputs": [],
   "source": [
    "params = cirq.Points(key=\"theta\", points=[0, 1, 3])\n",
    "for param in params:\n",
    "    print(param)"
   ]
  },
  {
   "cell_type": "markdown",
   "id": "dd430fea-649a-4d74-92cc-64a7d303cf84",
   "metadata": {
    "id": "cd97c725e966"
   },
   "source": [
    "Often one wants to sweep over multiple parameters. Two common cases are that one wants to combined two sweeps over parameters to take all combinations of these parameters (the cartesian product), or taking combinations that match up elementwise (zipping). Here are two examples that show how to do this"
   ]
  },
  {
   "cell_type": "code",
   "execution_count": null,
   "id": "90e60c91-0da3-4c89-8889-c2dada9a75a7",
   "metadata": {
    "id": "bd9ace411791"
   },
   "outputs": [],
   "source": [
    "sweep1 = cirq.Linspace(\"theta\", 0, 1, 5)\n",
    "sweep2 = cirq.Points(\"gamma\", [0, 3])\n",
    "# By taking the product of these two sweeps, we can sweep over all possible\n",
    "# combinations of the parameters.\n",
    "for param in sweep1 * sweep2:\n",
    "    print(param)"
   ]
  },
  {
   "cell_type": "code",
   "execution_count": null,
   "id": "b526aacb-dbff-46d7-8b04-3845cd066642",
   "metadata": {
    "id": "c55ea3d1b5ae"
   },
   "outputs": [],
   "source": [
    "sweep1 = cirq.Points(\"theta\", [1, 2, 3])\n",
    "sweep2 = cirq.Points(\"gamma\", [0, 3, 4])\n",
    "# By taking the sum of these two sweeps, we can combine the sweeps\n",
    "# elementwise (similar to python's zip function):\n",
    "for param in sweep1 + sweep2:\n",
    "    print(param)"
   ]
  },
  {
   "cell_type": "markdown",
   "id": "2a964571-357f-428d-a374-1d5f016e88bd",
   "metadata": {
    "id": "a3eac1b9cf98"
   },
   "source": [
    "## Symbols and Expressions"
   ]
  },
  {
   "cell_type": "markdown",
   "id": "833e8e5d-5e8a-4820-8338-576a9b40ca87",
   "metadata": {
    "id": "802e8fabd18c"
   },
   "source": [
    "Cirq uses Sympy to define its parameters. Sympy is a general symbolic mathematics toolset, and we can leverage this in Cirq.  For example, in Sympy, we can define an expression and use it to construct circuits that depend on this expression:"
   ]
  },
  {
   "cell_type": "code",
   "execution_count": null,
   "id": "5c51b35a-1feb-4dcf-ba55-fe1ea9d603bc",
   "metadata": {
    "id": "54f791f74371"
   },
   "outputs": [],
   "source": [
    "# We construct an expression for 0.5 * a + 0.25:\n",
    "expr = 0.5 * sympy.Symbol(\"a\") + 0.25\n",
    "print(expr)"
   ]
  },
  {
   "cell_type": "code",
   "execution_count": null,
   "id": "87d44508-b1a8-498a-9c35-8de068c90d05",
   "metadata": {
    "id": "2f207f4bc301"
   },
   "outputs": [],
   "source": [
    "# We can use this in the circuit:\n",
    "circuit = cirq.Circuit(cirq.X(q0)**expr, cirq.measure(q0))\n",
    "print(f\"circuit:\\n{circuit}\")"
   ]
  },
  {
   "cell_type": "markdown",
   "id": "b6667d61-43c6-4485-bbd1-503097c92316",
   "metadata": {
    "id": "d6501bf32491"
   },
   "source": [
    "When we resolve parameters for this circuit, the expression will be evaluated"
   ]
  },
  {
   "cell_type": "code",
   "execution_count": null,
   "id": "5a13bfa7-b23a-47e4-bf30-a750ecbe6548",
   "metadata": {
    "id": "310b5976c042"
   },
   "outputs": [],
   "source": [
    "print(cirq.resolve_parameters(circuit, {\"a\": 0}))"
   ]
  },
  {
   "cell_type": "markdown",
   "id": "1d206045-2d43-45d5-9243-e0f4c4c59766",
   "metadata": {
    "id": "3853e96f6abd"
   },
   "source": [
    "Similarly when we run a simulation, we can pass in a sweep, and Cirq will evaluate this expression for each of the possible values in the sweep:"
   ]
  },
  {
   "cell_type": "code",
   "execution_count": null,
   "id": "9d48df3b-4f8e-4b31-aa3e-674f61c62b5e",
   "metadata": {
    "id": "9b36047325eb"
   },
   "outputs": [],
   "source": [
    "sim.run_sweep(circuit, repetitions=20, params=[{\"a\": 0}, {\"a\": 1}])"
   ]
  },
  {
   "cell_type": "markdown",
   "id": "e4ee19df-0d2e-4bb3-a381-e1ee6b0bbe18",
   "metadata": {
    "id": "dae5c1c38113"
   },
   "source": [
    "Sympy supports a large number of numeric functions and methods, and we can create fairly sophisticated expressions:"
   ]
  },
  {
   "cell_type": "code",
   "execution_count": null,
   "id": "b36f1e7b-d420-4fcd-8212-c1bf870e3df2",
   "metadata": {
    "id": "b5f03870ccf3"
   },
   "outputs": [],
   "source": [
    "print(sympy.cos(sympy.Symbol(\"a\"))** sympy.Symbol(\"b\"))"
   ]
  },
  {
   "cell_type": "markdown",
   "id": "9a86a714-f0a9-4c8c-8533-a11552522477",
   "metadata": {
    "id": "93ddeb7cee7d"
   },
   "source": [
    "Cirq can evaluate numerically all of the expressions Sympy can evalute. One should note however, that if one is running a parameterized circuit on a serivce (such as Google's Quantum Computing Service) these services may not suport evaluating all expressions. See documentation for the particular service for details. However, as a general workaround, one can instead use Cirq's flattening ability to evaluate the parameters server side."
   ]
  },
  {
   "cell_type": "markdown",
   "id": "6092e21d-c3fb-4424-a470-473d210afcaf",
   "metadata": {
    "id": "d734d8b4ccdb"
   },
   "source": [
    "### Flattening Expressions\n",
    "\n",
    "Suppose we build a circuit with multiple expressions in the circuit:"
   ]
  },
  {
   "cell_type": "code",
   "execution_count": null,
   "id": "1233720c-e72b-4991-92c0-cc4e4c360b2b",
   "metadata": {
    "id": "4a521736bfcd"
   },
   "outputs": [],
   "source": [
    "a = sympy.Symbol('a')\n",
    "circuit = cirq.Circuit(\n",
    "    cirq.X(q0) ** (a/4),\n",
    "    cirq.Y(q0) ** (1-a/2),\n",
    ")\n",
    "print(circuit)"
   ]
  },
  {
   "cell_type": "markdown",
   "id": "379ac657-b10e-4bda-b7d1-e66c0a7a5dd8",
   "metadata": {
    "id": "a7592df0d861"
   },
   "source": [
    "The idea behind flattening is that for each of the expressions used in the circuit, we create a new symbol for this expression, and then construct and object, a `cirq.ExpressionMap`, that has knowledge about how to map from the bare symbols to the value of the expression. "
   ]
  },
  {
   "cell_type": "code",
   "execution_count": null,
   "id": "ae2fa32f-2140-48db-8a0b-e519dccb441e",
   "metadata": {
    "id": "7547e141b34b"
   },
   "outputs": [],
   "source": [
    "# Flatten returns two objects, the circuit with new symbols, and the mapping from old to new values.\n",
    "c_flat, expr_map = cirq.flatten(circuit)\n",
    "print(c_flat)\n",
    "print(expr_map)"
   ]
  },
  {
   "cell_type": "markdown",
   "id": "173c87a0-91c4-40db-a9c9-bd29aeb0695c",
   "metadata": {
    "id": "756ad9a92137"
   },
   "source": [
    "Notice that the new circuit has new symbols, `<a/2>` and `<1-a/2`. These are not expressions.  We can see this by looking at the value of the exponent in the first gate:"
   ]
  },
  {
   "cell_type": "code",
   "execution_count": null,
   "id": "4b4daf6f-21f4-4235-a5e6-af274378ba32",
   "metadata": {
    "id": "66a3c56a21e2"
   },
   "outputs": [],
   "source": [
    "first_gate = c_flat[0][q0].gate\n",
    "print(first_gate.exponent)\n",
    "# Note this is a symbol, not an expression\n",
    "print(type(first_gate.exponent))"
   ]
  },
  {
   "cell_type": "markdown",
   "id": "469e6ed6-2d82-4489-a37e-d3eb177a3c44",
   "metadata": {
    "id": "3b5a767a93bc"
   },
   "source": [
    "The second object returned by `cirq.flatten` is an object that can map sweeps with particular values to the new symbols that corresond to the expressions, with the value being that of the evaluated expression."
   ]
  },
  {
   "cell_type": "code",
   "execution_count": null,
   "id": "18e446c6-e2ba-4c4d-beb3-afb642fd027c",
   "metadata": {
    "id": "09f7a22f32a7"
   },
   "outputs": [],
   "source": [
    "sweep = cirq.Linspace(a, start=0, stop=3, length=4)\n",
    "print(f\"Old {sweep}\")\n",
    "\n",
    "new_sweep = expr_map.transform_sweep(sweep)\n",
    "print(f\"New {new_sweep}\")"
   ]
  },
  {
   "cell_type": "markdown",
   "id": "3bc4d32e-1324-4f17-b33b-17ec685cedf8",
   "metadata": {
    "id": "c560b632e84d"
   },
   "source": [
    "One can then use these new sweep elements with the flattened circuit"
   ]
  },
  {
   "cell_type": "code",
   "execution_count": null,
   "id": "bde75b51-0690-451d-958f-91ecf0ef1a90",
   "metadata": {
    "id": "943624f92b80"
   },
   "outputs": [],
   "source": [
    "for params in new_sweep:\n",
    "    print(c_flat, '=>', end=' ')\n",
    "    print(cirq.resolve_parameters(c_flat, params))"
   ]
  },
  {
   "cell_type": "markdown",
   "id": "7154b75c-1cca-4d01-a064-bbfb36c79169",
   "metadata": {
    "id": "beff46419af0"
   },
   "source": [
    "Using `cirq.flatten` one can always take a paramterized circuit with complicated expressions plus a sweep, and produce an equivalent circuit with no expressions, only symbols, and a sweep for these symbols. Because this is a common flow, cirq provides `cirq.flatten_sweep` to do this in one step:"
   ]
  },
  {
   "cell_type": "code",
   "execution_count": null,
   "id": "3ecce176-d3d7-43b9-889d-d4cb016a0452",
   "metadata": {
    "id": "42384c62a42d"
   },
   "outputs": [],
   "source": [
    "c_flat, new_sweep = cirq.flatten_with_sweep(circuit, sweep)\n",
    "print(c_flat)\n",
    "print(new_sweep)"
   ]
  }
 ],
 "metadata": {
  "colab": {
   "name": "params.ipynb",
   "toc_visible": true
  },
  "kernelspec": {
   "display_name": "Python 3",
   "name": "python3"
  }
 },
 "nbformat": 4,
 "nbformat_minor": 0
}
