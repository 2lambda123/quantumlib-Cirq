{
 "cells": [
  {
   "cell_type": "markdown",
   "metadata": {
    "id": "SzKwuqYESWwm"
   },
   "source": [
    "##### Copyright 2021 The Cirq Developers"
   ]
  },
  {
   "cell_type": "code",
   "execution_count": 1,
   "metadata": {
    "cellView": "form",
    "id": "4yPUsdJxSXFq"
   },
   "outputs": [],
   "source": [
    "# @title Licensed under the Apache License, Version 2.0 (the \"License\");\n",
    "# you may not use this file except in compliance with the License.\n",
    "# You may obtain a copy of the License at\n",
    "#\n",
    "# https://www.apache.org/licenses/LICENSE-2.0\n",
    "#\n",
    "# Unless required by applicable law or agreed to in writing, software\n",
    "# distributed under the License is distributed on an \"AS IS\" BASIS,\n",
    "# WITHOUT WARRANTIES OR CONDITIONS OF ANY KIND, either express or implied.\n",
    "# See the License for the specific language governing permissions and\n",
    "# limitations under the License."
   ]
  },
  {
   "cell_type": "markdown",
   "metadata": {
    "id": "zC1qlUJoSXhm"
   },
   "source": [
    "<table class=\"tfo-notebook-buttons\" align=\"left\">\n",
    "  <td>\n",
    "    <a target=\"_blank\" href=\"https://quantumai.google/cirq/noise/qcvv/xeb_characterization_pipeline>\"><img src=\"https://quantumai.google/site-assets/images/buttons/quantumai_logo_1x.png\" />View on QuantumAI</a>\n",
    "  </td>\n",
    "  <td>\n",
    "    <a target=\"_blank\" href=\"https://colab.research.google.com/github/quantumlib/Cirq/blob/master/docs/noise/qcvv/xeb_characterization_pipeline.ipynb\"><img src=\"https://quantumai.google/site-assets/images/buttons/colab_logo_1x.png\" />Run in Google Colab</a>\n",
    "  </td>\n",
    "  <td>\n",
    "    <a target=\"_blank\" href=\"https://github.com/quantumlib/Cirq/blob/master/docs/noise/qcvv/xeb_characterization_pipeline.ipynb\"><img src=\"https://quantumai.google/site-assets/images/buttons/github_logo_1x.png\" />View source on GitHub</a>\n",
    "  </td>\n",
    "  <td>\n",
    "    <a href=\"https://storage.googleapis.com/tensorflow_docs/Cirq/docs/noise/qcvv/xeb_characterization_pipeline.ipynb\"><img src=\"https://quantumai.google/site-assets/images/buttons/download_icon_1x.png\" />Download notebook</a>\n",
    "  </td>\n",
    "</table>"
   ]
  },
  {
   "cell_type": "markdown",
   "metadata": {
    "id": "dd95be2a71eb"
   },
   "source": [
    "This notebook is a straightforward outline of how to characterize coherent error with [Cross Entropy Benchmarking (XEB)](./xeb_theory.ipynb). "
   ]
  },
  {
   "cell_type": "code",
   "execution_count": 2,
   "metadata": {
    "id": "bd9529db1c0b"
   },
   "outputs": [],
   "source": [
    "# @title Install `cirq_google`\n",
    "\n",
    "try:\n",
    "    import cirq\n",
    "    import cirq_google\n",
    "except ImportError:\n",
    "    print(\"installing cirq...\")\n",
    "    !pip install --quiet cirq-google\n",
    "    print(\"installed cirq.\")\n",
    "    import cirq\n",
    "    import cirq_google\n",
    "\n",
    "import numpy as np"
   ]
  },
  {
   "cell_type": "markdown",
   "metadata": {
    "id": "ace31cc4d258"
   },
   "source": [
    "## Set up Random Circuits\n",
    "\n",
    "Create a library of random, two-qubit `circuits` using the `SQRT_ISWAP` gate. These library circuits will be truncated to circuits by lengths defined in  `cycle_depths`, and mixed-and-matched among all the qubit pairs on the device to be characterized."
   ]
  },
  {
   "cell_type": "code",
   "execution_count": 3,
   "metadata": {
    "id": "6fa8a0266b7a"
   },
   "outputs": [],
   "source": [
    "from cirq.experiments import random_quantum_circuit_generation as rqcg\n",
    "\n",
    "RANDOM_SEED = np.random.RandomState(53)\n",
    "circuit_library = rqcg.generate_library_of_2q_circuits(\n",
    "    n_library_circuits=20, two_qubit_gate=cirq.SQRT_ISWAP, random_state=RANDOM_SEED\n",
    ")\n",
    "# Will truncate to these lengths\n",
    "max_depth = 100\n",
    "cycle_depths = np.arange(3, max_depth, 20)"
   ]
  },
  {
   "cell_type": "markdown",
   "metadata": {
    "id": "6fbec4054504"
   },
   "source": [
    "## Determine the device topology\n",
    "\n",
    "XEB can be run on all pairs from a given device topology. The code below supplies both the `qubits` to be tested, and a `sampler` to run circuits with. By default, this sampler uses a simple `cirq.DensityMatrixSimulator` with a `cirq.ConstantQubitNoiseModel` for speed, but it also supports the [Quantum Virtual Machine](/cirq/simulate/quantum_virtual_machine) to use noise models that more closely mimic the behavior of the hardware. If you use the QVM, the sampling process will take significantly longer."
   ]
  },
  {
   "cell_type": "code",
   "execution_count": 4,
   "metadata": {
    "id": "af1e12169e88"
   },
   "outputs": [
    {
     "data": {
      "image/png": "[encoded data removed]",
      "text/plain": [
       "<Figure size 432x288 with 1 Axes>"
      ]
     },
     "metadata": {},
     "output_type": "display_data"
    }
   ],
   "source": [
    "import networkx as nx\n",
    "import itertools\n",
    "\n",
    "# specify the qubits to be tested\n",
    "qubits = cirq.GridQubit.rect(3, 2, 4, 2)\n",
    "# delete one qubit from the rectangular arangement to\n",
    "# 1) make it irregular 2) simplify simulation.\n",
    "qubits = qubits[:-1]\n",
    "\n",
    "processor_id = None  # 'rainbow' or 'weber' for a QVM, None for a simpler simulator\n",
    "if processor_id is None:\n",
    "    # create a simple constant noise model sampler\n",
    "    noise_model = cirq.ConstantQubitNoiseModel(cirq.depolarize(5e-3))\n",
    "    sampler = cirq.DensityMatrixSimulator(noise=noise_model)\n",
    "\n",
    "else:\n",
    "    # instantiate a QVM engine\n",
    "    simulated_engine = cirq_google.engine.create_default_noisy_quantum_virtual_machine(\n",
    "        processor_id=processor_id\n",
    "    )\n",
    "\n",
    "    # get the simulated device's qubits\n",
    "    device_qubits = simulated_engine.get_processor(processor_id).get_device().metadata.qubit_set\n",
    "    # ensure the qubits selected are a subset of the device's qubit set\n",
    "    print(f\"selected qubit subset is legal: {set(qubits).issubset(device_qubits)}\")\n",
    "\n",
    "    # initialize a sampler\n",
    "    sampler = simulated_engine.get_sampler(processor_id)\n",
    "\n",
    "\n",
    "# create a graph from adjacent qubits and draw it\n",
    "graph = nx.Graph((q1, q2) for (q1, q2) in itertools.combinations(qubits, r=2) if q1.is_adjacent(q2))\n",
    "pos = {q: (q.row, q.col) for q in qubits}\n",
    "nx.draw_networkx(graph, pos=pos)"
   ]
  },
  {
   "cell_type": "markdown",
   "metadata": {
    "id": "5d6f40acc7bf"
   },
   "source": [
    "## Set up qubit pair combinations\n",
    "\n",
    "XEB can be performed in a parallel or isolated manner. In the parallel case, multiple qubits are \"active\" to be tested simultaneously in the same circuit, where the isolated case has only one active pair running at any time. The following cell creates the `combinations_by_layer` data structure, which defines which qubit pairs are active in parallel, and which two-qubit circuits (from `circuit_library`) will be applied to each of the active pairs.\n",
    "\n",
    "The outer list  of `combinations_by_layer` corresponds to the different layers. Each inner layer defines the `combinations` matrix, which indexes the circuit library circuits to use, and the `pairs` list, which notes which qubit pairs are active."
   ]
  },
  {
   "cell_type": "code",
   "execution_count": 5,
   "metadata": {
    "id": "fbaf9c5c5335"
   },
   "outputs": [
    {
     "name": "stdout",
     "output_type": "stream",
     "text": [
      "4\n"
     ]
    },
    {
     "data": {
      "text/plain": [
       "CircuitLibraryCombination(layer=cirq.experiments.GridInteractionLayer(col_offset=0, vertical=True, stagger=True), combinations=array([[ 4],\n",
       "       [15],\n",
       "       [13],\n",
       "       [18],\n",
       "       [10],\n",
       "       [12],\n",
       "       [ 1],\n",
       "       [ 4],\n",
       "       [14],\n",
       "       [17]]), pairs=[(cirq.GridQubit(4, 2), cirq.GridQubit(5, 2))])"
      ]
     },
     "execution_count": 5,
     "metadata": {},
     "output_type": "execute_result"
    }
   ],
   "source": [
    "parallel = True\n",
    "\n",
    "if parallel:\n",
    "    # automatically selects multiple active pairs per layer\n",
    "    combinations_by_layer = rqcg.get_random_combinations_for_device(\n",
    "        n_library_circuits=len(circuit_library),\n",
    "        n_combinations=10,\n",
    "        device_graph=graph,\n",
    "        random_state=RANDOM_SEED,\n",
    "    )\n",
    "else:\n",
    "    # only one active pair per layer\n",
    "    layer_pairs = [[pair] for pair in graph.edges]\n",
    "    combinations_by_layer = rqcg.get_random_combinations_for_pairs(\n",
    "        n_library_circuits=len(circuit_library),\n",
    "        n_combinations=10,\n",
    "        all_pairs=layer_pairs,\n",
    "        random_state=RANDOM_SEED,\n",
    "    )\n",
    "print(len(combinations_by_layer))\n",
    "combinations_by_layer[0]"
   ]
  },
  {
   "cell_type": "markdown",
   "metadata": {
    "id": "d82866ff2269"
   },
   "source": [
    "### Visualize\n",
    "Here, draw the layers' active pairs to see which qubits will be tested in which layers. The active pairs are highlighted in red, and some layers demonstrate non-overlapping qubit pairs which will be active in parallel (if using `parallel=true` above)."
   ]
  },
  {
   "cell_type": "code",
   "execution_count": 6,
   "metadata": {
    "id": "7ea374d2d337"
   },
   "outputs": [
    {
     "data": {
      "image/png": "[encoded data removed]",
      "text/plain": [
       "<Figure size 648x432 with 4 Axes>"
      ]
     },
     "metadata": {},
     "output_type": "display_data"
    }
   ],
   "source": [
    "%matplotlib inline\n",
    "from matplotlib import pyplot as plt\n",
    "\n",
    "ncols = int(len(combinations_by_layer) ** (1 / 2))\n",
    "nrows = ncols + 1 if ncols**2 < len(combinations_by_layer) else ncols\n",
    "fig, axes = plt.subplots(ncols=ncols, nrows=nrows, figsize=(9, 6))\n",
    "for comb_layer, ax in zip(combinations_by_layer, axes.reshape(-1)):\n",
    "    active_qubits = np.array(comb_layer.pairs).reshape(-1)\n",
    "    # highlight the active qubits in red\n",
    "    colors = ['red' if q in active_qubits else 'blue' for q in graph.nodes]\n",
    "    nx.draw_networkx(graph, pos=pos, node_color=colors, ax=ax)\n",
    "    # highlight the active pair edges in red\n",
    "    nx.draw_networkx_edges(\n",
    "        graph, pos=pos, edgelist=comb_layer.pairs, width=3, edge_color='red', ax=ax\n",
    "    )\n",
    "\n",
    "plt.tight_layout()"
   ]
  },
  {
   "cell_type": "markdown",
   "metadata": {
    "id": "423f56a942f6"
   },
   "source": [
    "## Sample Data\n",
    "\n",
    "The sampling function `sample_2q_xeb_circuits` zips the circuits of `circuit_library` together according to `combinations_by_layer`, before sampling them and computing the sampled probabilities (`sampled_probs`) of getting the correct bit string. \n",
    "\n",
    "For layers with multiple active qubit pairs, it will combine the two-qubit circuits from `circuit_library` by placing different circuits on different active pairs. This creates larger, many-pair circuits, which operate on all the active pairs of a layer in parallel, without ever connecting the distinct pairs' circuits to each other. An inspection of one of the sampled `DataFrame`s reveals the available types of data, including the sampled probabilities `sampled_probs`.\n"
   ]
  },
  {
   "cell_type": "code",
   "execution_count": 7,
   "metadata": {
    "id": "aab08193f046"
   },
   "outputs": [
    {
     "name": "stderr",
     "output_type": "stream",
     "text": [
      "100%|█████████████████████████████████████████████████████████████████| 207/207 [00:48<00:00,  4.30it/s]\n"
     ]
    },
    {
     "data": {
      "text/html": [
       "<div>\n",
       "<style scoped>\n",
       "    .dataframe tbody tr th:only-of-type {\n",
       "        vertical-align: middle;\n",
       "    }\n",
       "\n",
       "    .dataframe tbody tr th {\n",
       "        vertical-align: top;\n",
       "    }\n",
       "\n",
       "    .dataframe thead th {\n",
       "        text-align: right;\n",
       "    }\n",
       "</style>\n",
       "<table border=\"1\" class=\"dataframe\">\n",
       "  <thead>\n",
       "    <tr style=\"text-align: right;\">\n",
       "      <th></th>\n",
       "      <th></th>\n",
       "      <th>sampled_probs</th>\n",
       "      <th>timestamp</th>\n",
       "      <th>layer_i</th>\n",
       "      <th>pair_i</th>\n",
       "      <th>combination_i</th>\n",
       "      <th>pair</th>\n",
       "    </tr>\n",
       "    <tr>\n",
       "      <th>circuit_i</th>\n",
       "      <th>cycle_depth</th>\n",
       "      <th></th>\n",
       "      <th></th>\n",
       "      <th></th>\n",
       "      <th></th>\n",
       "      <th></th>\n",
       "      <th></th>\n",
       "    </tr>\n",
       "  </thead>\n",
       "  <tbody>\n",
       "    <tr>\n",
       "      <th>2</th>\n",
       "      <th>43</th>\n",
       "      <td>[0.1927, 0.1557, 0.2046, 0.447]</td>\n",
       "      <td>1.661069e+09</td>\n",
       "      <td>1</td>\n",
       "      <td>0</td>\n",
       "      <td>6</td>\n",
       "      <td>(q(4, 3), q(5, 3))</td>\n",
       "    </tr>\n",
       "    <tr>\n",
       "      <th>18</th>\n",
       "      <th>43</th>\n",
       "      <td>[0.1588, 0.2612, 0.3285, 0.2515]</td>\n",
       "      <td>1.661069e+09</td>\n",
       "      <td>1</td>\n",
       "      <td>1</td>\n",
       "      <td>6</td>\n",
       "      <td>(q(5, 2), q(6, 2))</td>\n",
       "    </tr>\n",
       "    <tr>\n",
       "      <th>1</th>\n",
       "      <th>83</th>\n",
       "      <td>[0.2148, 0.2619, 0.2488, 0.2745]</td>\n",
       "      <td>1.661069e+09</td>\n",
       "      <td>0</td>\n",
       "      <td>0</td>\n",
       "      <td>6</td>\n",
       "      <td>(q(4, 2), q(5, 2))</td>\n",
       "    </tr>\n",
       "    <tr>\n",
       "      <th>6</th>\n",
       "      <th>23</th>\n",
       "      <td>[0.2988, 0.4275, 0.1075, 0.1662]</td>\n",
       "      <td>1.661069e+09</td>\n",
       "      <td>1</td>\n",
       "      <td>0</td>\n",
       "      <td>3</td>\n",
       "      <td>(q(4, 3), q(5, 3))</td>\n",
       "    </tr>\n",
       "    <tr>\n",
       "      <th>16</th>\n",
       "      <th>23</th>\n",
       "      <td>[0.1652, 0.3778, 0.2316, 0.2254]</td>\n",
       "      <td>1.661069e+09</td>\n",
       "      <td>1</td>\n",
       "      <td>1</td>\n",
       "      <td>3</td>\n",
       "      <td>(q(5, 2), q(6, 2))</td>\n",
       "    </tr>\n",
       "  </tbody>\n",
       "</table>\n",
       "</div>"
      ],
      "text/plain": [
       "                                          sampled_probs     timestamp  \\\n",
       "circuit_i cycle_depth                                                   \n",
       "2         43            [0.1927, 0.1557, 0.2046, 0.447]  1.661069e+09   \n",
       "18        43           [0.1588, 0.2612, 0.3285, 0.2515]  1.661069e+09   \n",
       "1         83           [0.2148, 0.2619, 0.2488, 0.2745]  1.661069e+09   \n",
       "6         23           [0.2988, 0.4275, 0.1075, 0.1662]  1.661069e+09   \n",
       "16        23           [0.1652, 0.3778, 0.2316, 0.2254]  1.661069e+09   \n",
       "\n",
       "                       layer_i  pair_i  combination_i                pair  \n",
       "circuit_i cycle_depth                                                      \n",
       "2         43                 1       0              6  (q(4, 3), q(5, 3))  \n",
       "18        43                 1       1              6  (q(5, 2), q(6, 2))  \n",
       "1         83                 0       0              6  (q(4, 2), q(5, 2))  \n",
       "6         23                 1       0              3  (q(4, 3), q(5, 3))  \n",
       "16        23                 1       1              3  (q(5, 2), q(6, 2))  "
      ]
     },
     "execution_count": 7,
     "metadata": {},
     "output_type": "execute_result"
    }
   ],
   "source": [
    "from cirq.experiments.xeb_sampling import sample_2q_xeb_circuits\n",
    "\n",
    "sampled_df = sample_2q_xeb_circuits(\n",
    "    sampler=sampler,\n",
    "    circuits=circuit_library,\n",
    "    cycle_depths=cycle_depths,\n",
    "    combinations_by_layer=combinations_by_layer,\n",
    "    shuffle=RANDOM_SEED,\n",
    "    repetitions=10_000,\n",
    ")\n",
    "sampled_df.head()"
   ]
  },
  {
   "cell_type": "markdown",
   "metadata": {
    "id": "16b5a4a86384"
   },
   "source": [
    "## Benchmark Fidelities\n",
    "\n",
    "The `benchmark_2q_xeb_fidelities` function takes each sampled `DataFrame` and computes the overall fidelity across all of the randomized circuits for each qubit pair and each of the previously defined `cycle_depth`s."
   ]
  },
  {
   "cell_type": "code",
   "execution_count": 8,
   "metadata": {
    "id": "8dd3ed7024ef"
   },
   "outputs": [
    {
     "data": {
      "text/html": [
       "<div>\n",
       "<style scoped>\n",
       "    .dataframe tbody tr th:only-of-type {\n",
       "        vertical-align: middle;\n",
       "    }\n",
       "\n",
       "    .dataframe tbody tr th {\n",
       "        vertical-align: top;\n",
       "    }\n",
       "\n",
       "    .dataframe thead th {\n",
       "        text-align: right;\n",
       "    }\n",
       "</style>\n",
       "<table border=\"1\" class=\"dataframe\">\n",
       "  <thead>\n",
       "    <tr style=\"text-align: right;\">\n",
       "      <th></th>\n",
       "      <th>layer_i</th>\n",
       "      <th>pair_i</th>\n",
       "      <th>cycle_depth</th>\n",
       "      <th>fidelity</th>\n",
       "      <th>pair</th>\n",
       "    </tr>\n",
       "  </thead>\n",
       "  <tbody>\n",
       "    <tr>\n",
       "      <th>0</th>\n",
       "      <td>0</td>\n",
       "      <td>0</td>\n",
       "      <td>3</td>\n",
       "      <td>0.926841</td>\n",
       "      <td>(q(4, 2), q(5, 2))</td>\n",
       "    </tr>\n",
       "    <tr>\n",
       "      <th>1</th>\n",
       "      <td>0</td>\n",
       "      <td>0</td>\n",
       "      <td>23</td>\n",
       "      <td>0.607085</td>\n",
       "      <td>(q(4, 2), q(5, 2))</td>\n",
       "    </tr>\n",
       "    <tr>\n",
       "      <th>2</th>\n",
       "      <td>0</td>\n",
       "      <td>0</td>\n",
       "      <td>43</td>\n",
       "      <td>0.394153</td>\n",
       "      <td>(q(4, 2), q(5, 2))</td>\n",
       "    </tr>\n",
       "    <tr>\n",
       "      <th>3</th>\n",
       "      <td>0</td>\n",
       "      <td>0</td>\n",
       "      <td>63</td>\n",
       "      <td>0.263724</td>\n",
       "      <td>(q(4, 2), q(5, 2))</td>\n",
       "    </tr>\n",
       "    <tr>\n",
       "      <th>4</th>\n",
       "      <td>0</td>\n",
       "      <td>0</td>\n",
       "      <td>83</td>\n",
       "      <td>0.165376</td>\n",
       "      <td>(q(4, 2), q(5, 2))</td>\n",
       "    </tr>\n",
       "  </tbody>\n",
       "</table>\n",
       "</div>"
      ],
      "text/plain": [
       "   layer_i  pair_i  cycle_depth  fidelity                pair\n",
       "0        0       0            3  0.926841  (q(4, 2), q(5, 2))\n",
       "1        0       0           23  0.607085  (q(4, 2), q(5, 2))\n",
       "2        0       0           43  0.394153  (q(4, 2), q(5, 2))\n",
       "3        0       0           63  0.263724  (q(4, 2), q(5, 2))\n",
       "4        0       0           83  0.165376  (q(4, 2), q(5, 2))"
      ]
     },
     "execution_count": 8,
     "metadata": {},
     "output_type": "execute_result"
    }
   ],
   "source": [
    "from cirq.experiments.xeb_fitting import benchmark_2q_xeb_fidelities\n",
    "\n",
    "fids = benchmark_2q_xeb_fidelities(\n",
    "    sampled_df=sampled_df, circuits=circuit_library, cycle_depths=cycle_depths\n",
    ")\n",
    "fids.head()"
   ]
  },
  {
   "cell_type": "markdown",
   "metadata": {
    "id": "mVUb9GwAWLdc"
   },
   "source": [
    "## Estimate By-Layer Fidelities\n",
    "\n",
    "Next, use `fit_exponential_decays` on each of the fidelity datasets of `circuit_fidelities`, to estimate a per-layer fidelity, which estimates the fidelity error of the two-qubit entangling gate operation on each individual qubit pair. "
   ]
  },
  {
   "cell_type": "code",
   "execution_count": 9,
   "metadata": {
    "id": "05748707cacc"
   },
   "outputs": [
    {
     "data": {
      "text/html": [
       "<div>\n",
       "<style scoped>\n",
       "    .dataframe tbody tr th:only-of-type {\n",
       "        vertical-align: middle;\n",
       "    }\n",
       "\n",
       "    .dataframe tbody tr th {\n",
       "        vertical-align: top;\n",
       "    }\n",
       "\n",
       "    .dataframe thead th {\n",
       "        text-align: right;\n",
       "    }\n",
       "</style>\n",
       "<table border=\"1\" class=\"dataframe\">\n",
       "  <thead>\n",
       "    <tr style=\"text-align: right;\">\n",
       "      <th></th>\n",
       "      <th></th>\n",
       "      <th></th>\n",
       "      <th>a</th>\n",
       "      <th>layer_fid</th>\n",
       "      <th>cycle_depths</th>\n",
       "      <th>fidelities</th>\n",
       "      <th>a_std</th>\n",
       "      <th>layer_fid_std</th>\n",
       "    </tr>\n",
       "    <tr>\n",
       "      <th>layer_i</th>\n",
       "      <th>pair_i</th>\n",
       "      <th>pair</th>\n",
       "      <th></th>\n",
       "      <th></th>\n",
       "      <th></th>\n",
       "      <th></th>\n",
       "      <th></th>\n",
       "      <th></th>\n",
       "    </tr>\n",
       "  </thead>\n",
       "  <tbody>\n",
       "    <tr>\n",
       "      <th>0</th>\n",
       "      <th>0</th>\n",
       "      <th>(q(4, 2), q(5, 2))</th>\n",
       "      <td>0.988271</td>\n",
       "      <td>0.978968</td>\n",
       "      <td>[3, 23, 43, 63, 83]</td>\n",
       "      <td>[0.926840922850544, 0.6070854252136406, 0.3941...</td>\n",
       "      <td>0.004043</td>\n",
       "      <td>0.000158</td>\n",
       "    </tr>\n",
       "    <tr>\n",
       "      <th rowspan=\"2\" valign=\"top\">1</th>\n",
       "      <th>0</th>\n",
       "      <th>(q(4, 3), q(5, 3))</th>\n",
       "      <td>0.996101</td>\n",
       "      <td>0.978381</td>\n",
       "      <td>[3, 23, 43, 63, 83]</td>\n",
       "      <td>[0.9313415030795407, 0.6076978439486529, 0.384...</td>\n",
       "      <td>0.004496</td>\n",
       "      <td>0.000178</td>\n",
       "    </tr>\n",
       "    <tr>\n",
       "      <th>1</th>\n",
       "      <th>(q(5, 2), q(6, 2))</th>\n",
       "      <td>0.982204</td>\n",
       "      <td>0.978875</td>\n",
       "      <td>[3, 23, 43, 63, 83]</td>\n",
       "      <td>[0.9214619253717121, 0.6039099096627306, 0.385...</td>\n",
       "      <td>0.006951</td>\n",
       "      <td>0.000273</td>\n",
       "    </tr>\n",
       "    <tr>\n",
       "      <th>2</th>\n",
       "      <th>0</th>\n",
       "      <th>(q(5, 2), q(5, 3))</th>\n",
       "      <td>0.990942</td>\n",
       "      <td>0.978957</td>\n",
       "      <td>[3, 23, 43, 63, 83]</td>\n",
       "      <td>[0.9289492291571897, 0.6056305380605215, 0.405...</td>\n",
       "      <td>0.006751</td>\n",
       "      <td>0.000262</td>\n",
       "    </tr>\n",
       "    <tr>\n",
       "      <th>3</th>\n",
       "      <th>0</th>\n",
       "      <th>(q(4, 2), q(4, 3))</th>\n",
       "      <td>0.985695</td>\n",
       "      <td>0.978994</td>\n",
       "      <td>[3, 23, 43, 63, 83]</td>\n",
       "      <td>[0.9241661710131125, 0.6042262943244512, 0.400...</td>\n",
       "      <td>0.004411</td>\n",
       "      <td>0.000172</td>\n",
       "    </tr>\n",
       "  </tbody>\n",
       "</table>\n",
       "</div>"
      ],
      "text/plain": [
       "                                          a  layer_fid         cycle_depths  \\\n",
       "layer_i pair_i pair                                                           \n",
       "0       0      (q(4, 2), q(5, 2))  0.988271   0.978968  [3, 23, 43, 63, 83]   \n",
       "1       0      (q(4, 3), q(5, 3))  0.996101   0.978381  [3, 23, 43, 63, 83]   \n",
       "        1      (q(5, 2), q(6, 2))  0.982204   0.978875  [3, 23, 43, 63, 83]   \n",
       "2       0      (q(5, 2), q(5, 3))  0.990942   0.978957  [3, 23, 43, 63, 83]   \n",
       "3       0      (q(4, 2), q(4, 3))  0.985695   0.978994  [3, 23, 43, 63, 83]   \n",
       "\n",
       "                                                                          fidelities  \\\n",
       "layer_i pair_i pair                                                                    \n",
       "0       0      (q(4, 2), q(5, 2))  [0.926840922850544, 0.6070854252136406, 0.3941...   \n",
       "1       0      (q(4, 3), q(5, 3))  [0.9313415030795407, 0.6076978439486529, 0.384...   \n",
       "        1      (q(5, 2), q(6, 2))  [0.9214619253717121, 0.6039099096627306, 0.385...   \n",
       "2       0      (q(5, 2), q(5, 3))  [0.9289492291571897, 0.6056305380605215, 0.405...   \n",
       "3       0      (q(4, 2), q(4, 3))  [0.9241661710131125, 0.6042262943244512, 0.400...   \n",
       "\n",
       "                                      a_std  layer_fid_std  \n",
       "layer_i pair_i pair                                         \n",
       "0       0      (q(4, 2), q(5, 2))  0.004043       0.000158  \n",
       "1       0      (q(4, 3), q(5, 3))  0.004496       0.000178  \n",
       "        1      (q(5, 2), q(6, 2))  0.006951       0.000273  \n",
       "2       0      (q(5, 2), q(5, 3))  0.006751       0.000262  \n",
       "3       0      (q(4, 2), q(4, 3))  0.004411       0.000172  "
      ]
     },
     "execution_count": 9,
     "metadata": {},
     "output_type": "execute_result"
    }
   ],
   "source": [
    "from cirq.experiments.xeb_fitting import fit_exponential_decays, exponential_decay\n",
    "\n",
    "fidelities = fit_exponential_decays(fids)\n",
    "fidelities.head()"
   ]
  },
  {
   "cell_type": "markdown",
   "metadata": {
    "id": "4InvJNVJWV3H"
   },
   "source": [
    "# Visualizations\n",
    "\n",
    "Plot the fidelity decrease per layer by qubit in a heatmap to compare the error rate per layer across different qubits. This can highlight when different qubits are performing meaningfully better or worse than the others."
   ]
  },
  {
   "cell_type": "code",
   "execution_count": 10,
   "metadata": {
    "id": "WJbgW4r1Guuf"
   },
   "outputs": [
    {
     "name": "stderr",
     "output_type": "stream",
     "text": [
      "/home/augusteh/.virtualenvs/cirq-py3/lib/python3.10/site-packages/cirq/vis/heatmap.py:400: UserWarning: Matplotlib is currently using module://matplotlib_inline.backend_inline, which is a non-GUI backend, so cannot show the figure.\n",
      "  fig.show()\n"
     ]
    },
    {
     "data": {
      "image/png": "[encoded data removed]",
      "text/plain": [
       "<Figure size 576x576 with 2 Axes>"
      ]
     },
     "metadata": {
      "needs_background": "light"
     },
     "output_type": "display_data"
    }
   ],
   "source": [
    "heatmap_data = {}\n",
    "\n",
    "for (_, _, pair), fidelity in fidelities.layer_fid.items():\n",
    "    heatmap_data[pair] = 1.0 - fidelity\n",
    "\n",
    "cirq.TwoQubitInteractionHeatmap(heatmap_data).plot();"
   ]
  },
  {
   "cell_type": "markdown",
   "metadata": {
    "id": "JPlLNVOtWeXh"
   },
   "source": [
    "The qubit heatmap summarizes the data quite a lot. Plotting the fidelities by cycle depth with their fit exponential decay curves demonstrates how error accumulates when circuits get more cycles. "
   ]
  },
  {
   "cell_type": "code",
   "execution_count": 11,
   "metadata": {
    "id": "8c08c9ab8109"
   },
   "outputs": [
    {
     "data": {
      "image/png": "[encoded data removed]",
      "text/plain": [
       "<Figure size 432x288 with 1 Axes>"
      ]
     },
     "metadata": {
      "needs_background": "light"
     },
     "output_type": "display_data"
    }
   ],
   "source": [
    "import seaborn as sns\n",
    "\n",
    "# Give each pair its own color\n",
    "colors = sns.cubehelix_palette(n_colors=graph.number_of_edges())\n",
    "colors = dict(zip(graph.edges, colors))\n",
    "\n",
    "# Exponential reference\n",
    "xx = np.linspace(0, fids['cycle_depth'].max())\n",
    "plt.plot(xx, (1 - 5e-3) ** (4 * xx), label=r'Exponential Reference', color='black')\n",
    "\n",
    "# Plot each pair\n",
    "def _p(fids):\n",
    "    q0, q1 = fids.name\n",
    "    plt.plot(\n",
    "        fids['cycle_depth'],\n",
    "        fids['fidelity'],\n",
    "        'o-',\n",
    "        label=f'{q0}-{q1}',\n",
    "        color=colors[fids.name],\n",
    "        alpha=0.5,\n",
    "    )\n",
    "\n",
    "\n",
    "fids.groupby('pair').apply(_p)\n",
    "\n",
    "plt.ylabel('Circuit fidelity')\n",
    "plt.xlabel('Cycle Depth $d$')\n",
    "plt.legend(loc='best')\n",
    "plt.tight_layout()"
   ]
  },
  {
   "cell_type": "markdown",
   "metadata": {
    "id": "03yPEoGBkXrn"
   },
   "source": [
    "Included is an exponential reference line, matching the original chance of depolarization of `5e-3`. These results reinforce the idea that uniform pauli deolarization causes an exponential decay in circuit fidelity by cycle. "
   ]
  },
  {
   "cell_type": "markdown",
   "metadata": {
    "id": "6025a292d19b"
   },
   "source": [
    "## Optimize `PhasedFSimGate` parameters\n",
    "\n",
    "In a real experiment, there is likely unknown coherent error that you would like to characterize, by identifying the true parameters of the unitary gate implemented by the hardware. To do so, make the five angles of `PhasedFSimGate` free parameters in `SqrtISwapXEBOptions`, and use a classical optimizer (`characterize_phased_fsim_parameters_with_xeb_py_pair`) to find out which set of parameters best describes the data collected from the device."
   ]
  },
  {
   "cell_type": "code",
   "execution_count": 12,
   "metadata": {
    "id": "baff45b4ad70"
   },
   "outputs": [],
   "source": [
    "import multiprocessing\n",
    "\n",
    "pool = multiprocessing.get_context('spawn').Pool()"
   ]
  },
  {
   "cell_type": "code",
   "execution_count": null,
   "metadata": {
    "id": "a3aaf1dfce4e"
   },
   "outputs": [],
   "source": [
    "from cirq.experiments.xeb_fitting import (\n",
    "    parameterize_circuit,\n",
    "    characterize_phased_fsim_parameters_with_xeb_by_pair,\n",
    "    SqrtISwapXEBOptions,\n",
    ")\n",
    "\n",
    "# Set which angles to characterize (all)\n",
    "options = SqrtISwapXEBOptions(\n",
    "    characterize_theta=True,\n",
    "    characterize_zeta=True,\n",
    "    characterize_chi=True,\n",
    "    characterize_gamma=True,\n",
    "    characterize_phi=True,\n",
    ")\n",
    "# Parameterize the sqrt(iswap)s in the circuit library\n",
    "pcircuits = [parameterize_circuit(circuit, options) for circuit in circuit_library]\n",
    "\n",
    "# Run the characterization loop\n",
    "characterization_result = characterize_phased_fsim_parameters_with_xeb_by_pair(\n",
    "    sampled_df,\n",
    "    pcircuits,\n",
    "    cycle_depths,\n",
    "    options,\n",
    "    pool=pool,\n",
    "    # ease tolerance so it converges faster:\n",
    "    fatol=1e-2,\n",
    "    xatol=1e-2,\n",
    ")"
   ]
  },
  {
   "cell_type": "markdown",
   "metadata": {
    "id": "qeS45oPmcFyB"
   },
   "source": [
    "The fitting procedure finds the parameter values that are most likely to explain the data for the two-qubit unitary gate applied to each qubit pair..."
   ]
  },
  {
   "cell_type": "code",
   "execution_count": null,
   "metadata": {
    "id": "c3961ac4e6c7"
   },
   "outputs": [],
   "source": [
    "characterization_result.final_params"
   ]
  },
  {
   "cell_type": "markdown",
   "metadata": {
    "id": "CHTc1Q3ZcMgE"
   },
   "source": [
    "The characterization also refits the circuit fidelities by cycle, to estimate circuit performance as if the gates were performing correctly (with the correct parameters instead of those observed). "
   ]
  },
  {
   "cell_type": "code",
   "execution_count": null,
   "metadata": {
    "id": "8fea4a364c79"
   },
   "outputs": [],
   "source": [
    "characterization_result.fidelities_df.head()"
   ]
  },
  {
   "cell_type": "markdown",
   "metadata": {
    "id": "PirUDWB0cYvr"
   },
   "source": [
    "The `before_and_after_characterization` function collects the before fidelities, `circuit_fidelities`, and the after fidelities, `characterization_results` into the same data frame, by row, suffixing the data by source with `_0` and `_c` respectively. This may make it easier to plot the data by row. "
   ]
  },
  {
   "cell_type": "code",
   "execution_count": null,
   "metadata": {
    "id": "86da92e214d6"
   },
   "outputs": [],
   "source": [
    "from cirq.experiments.xeb_fitting import before_and_after_characterization\n",
    "\n",
    "before_after_df = before_and_after_characterization(fids, characterization_result)\n",
    "before_after_df.head()"
   ]
  },
  {
   "cell_type": "markdown",
   "metadata": {
    "id": "cN8cwUNYb4qw"
   },
   "source": [
    "Finally, plot the original fidelities alongside the refit fidelities, to analyze how the refitting procedure was able to identify coherent error. "
   ]
  },
  {
   "cell_type": "code",
   "execution_count": null,
   "metadata": {
    "id": "583abc4f0c47"
   },
   "outputs": [],
   "source": [
    "for i, row in before_after_df.iterrows():\n",
    "    plt.axhline(1, color='grey', ls='--')\n",
    "    plt.plot(row['cycle_depths_0'], row['fidelities_0'], '*', color='red')\n",
    "    plt.plot(row['cycle_depths_c'], row['fidelities_c'], 'o', color='blue')\n",
    "\n",
    "    xx = np.linspace(0, np.max(row['cycle_depths_0']))\n",
    "    plt.plot(\n",
    "        xx,\n",
    "        exponential_decay(xx, a=row['a_0'], layer_fid=row['layer_fid_0']),\n",
    "        color='red',\n",
    "        label='Original Fidelities',\n",
    "    )\n",
    "    plt.plot(\n",
    "        xx,\n",
    "        exponential_decay(xx, a=row['a_c'], layer_fid=row['layer_fid_c']),\n",
    "        color='blue',\n",
    "        label='Refit Fidelities',\n",
    "    )\n",
    "\n",
    "    plt.xlabel('Cycle Depth')\n",
    "    plt.ylabel('Fidelity')\n",
    "\n",
    "# make the legend labels unique\n",
    "handles, labels = plt.gca().get_legend_handles_labels()\n",
    "legend_items = dict(zip(labels, handles))\n",
    "plt.legend(legend_items.values(), legend_items.keys(), loc='best')\n",
    "plt.tight_layout()\n",
    "plt.show()"
   ]
  },
  {
   "cell_type": "markdown",
   "metadata": {
    "id": "lt_EBibSkw4-"
   },
   "source": [
    "The refit fidelities are almost the same as the original fidelities in this case, but are a bit better in some cases. The characterization procedure was able to identify some coherent error, but was not able to refit for all of the _incoherent_ error introduced by the depolarization. For more information on how XEB interacts with error, see [Coherent vs Incoherent Error with XEB](./coherent_vs_incoherent_xeb). "
   ]
  }
 ],
 "metadata": {
  "colab": {
   "collapsed_sections": [],
   "name": "xeb_characterization_pipeline.ipynb",
   "toc_visible": true
  },
  "kernelspec": {
   "display_name": "Python 3",
   "name": "python3"
  }
 },
 "nbformat": 4,
 "nbformat_minor": 0
}
