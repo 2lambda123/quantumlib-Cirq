{
 "cells": [
  {
   "cell_type": "code",
   "execution_count": null,
   "metadata": {
    "cellView": "form",
    "id": "XI1k_z6yvbPq"
   },
   "outputs": [],
   "source": [
    "# @title Copyright 2022 The Cirq Developers\n",
    "# Licensed under the Apache License, Version 2.0 (the \"License\");\n",
    "# you may not use this file except in compliance with the License.\n",
    "# You may obtain a copy of the License at\n",
    "#\n",
    "# https://www.apache.org/licenses/LICENSE-2.0\n",
    "#\n",
    "# Unless required by applicable law or agreed to in writing, software\n",
    "# distributed under the License is distributed on an \"AS IS\" BASIS,\n",
    "# WITHOUT WARRANTIES OR CONDITIONS OF ANY KIND, either express or implied.\n",
    "# See the License for the specific language governing permissions and\n",
    "# limitations under the License."
   ]
  },
  {
   "cell_type": "markdown",
   "metadata": {
    "id": "ZQlrEZuMwDC2"
   },
   "source": [
    "# Qubit Routing"
   ]
  },
  {
   "cell_type": "markdown",
   "metadata": {
    "id": "99c8d5767d47"
   },
   "source": [
    "<table class=\"tfo-notebook-buttons\" align=\"left\">\n",
    "  <td>\n",
    "    <a target=\"_blank\" href=\"https://quantumai.google/cirq/transform/routing_transformer\"><img src=\"https://quantumai.google/site-assets/images/buttons/quantumai_logo_1x.png\" />View on QuantumAI</a>\n",
    "  </td>\n",
    "  <td>\n",
    "    <a target=\"_blank\" href=\"https://colab.research.google.com/github/quantumlib/Cirq/blob/master/docs/transform/routing_transformer.ipynb\"><img src=\"https://quantumai.google/site-assets/images/buttons/colab_logo_1x.png\" />Run in Google Colab</a>\n",
    "  </td>\n",
    "  <td>\n",
    "    <a target=\"_blank\" href=\"https://github.com/quantumlib/Cirq/blob/master/docs/transform/routing_transformer.ipynb\"><img src=\"https://quantumai.google/site-assets/images/buttons/github_logo_1x.png\" />View source on GitHub</a>\n",
    "  </td>\n",
    "  <td>\n",
    "    <a href=\"https://storage.googleapis.com/tensorflow_docs/Cirq/docs/transform/routing_transformer.ipynb\"><img src=\"https://quantumai.google/site-assets/images/buttons/download_icon_1x.png\" />Download notebook</a>\n",
    "  </td>\n",
    "</table>"
   ]
  },
  {
   "cell_type": "markdown",
   "metadata": {
    "id": "LprWZc4awbQ4"
   },
   "source": [
    "In order to execute a circuit on quantum hardware, the logical qubits of a quantum circuit must be placed onto the physical qubits of the hardware device. Moreover, this placement is often not enough to guarantee that all 2-qubit operations between logical qubits in the ciruit correpond to 2-qubit operations between physical qubits on the device that are adjacent. So in addition to mapping logical qubits to physical qubits, it is often required to insert additional SWAP gates in the circuit to ensure that all 2-qubit operations are executed between physically adjacent qubits."
   ]
  },
  {
   "cell_type": "markdown",
   "metadata": {
    "id": "RrRN9ilV0Ltg"
   },
   "source": [
    "## Setup\n",
    "Note: this notebook relies on unreleased Cirq features. If you want to try these features, make sure you install cirq via `pip install cirq --pre`."
   ]
  },
  {
   "cell_type": "code",
   "execution_count": 1,
   "metadata": {
    "id": "EJcUPXkY0K93"
   },
   "outputs": [],
   "source": [
    "try:\n",
    "    import cirq\n",
    "except ImportError:\n",
    "    print(\"installing cirq...\")\n",
    "    !pip install --quiet cirq --pre\n",
    "    import cirq\n",
    "\n",
    "    print(\"installed cirq.\")"
   ]
  },
  {
   "cell_type": "markdown",
   "metadata": {
    "id": "ot9EMHfg0175"
   },
   "source": [
    "## Routing as a `@cirq.transfomer`"
   ]
  },
  {
   "cell_type": "markdown",
   "metadata": {
    "id": "8sVE5Mxw084B"
   },
   "source": [
    "Routing in Cirq is implemented as a transformer class `RouteCQC`. An instance of `RouteCQC` is instantiated with a `nx.Graph` device graph. We will refer to this as the *router*. Calling this router on a `cirq.AbstractCircuit` circuit returns a *routed* `cirq.AbstractCircuit` circuit that is made of the device's physical qubits and contains only 2-qubit operations that are between physically adjacent qubits."
   ]
  },
  {
   "cell_type": "markdown",
   "metadata": {
    "id": "UIEGpuvilO0l"
   },
   "source": [
    "Before proceeding any further, we give a high-level overview of the algorithm implemented in `RouteCQC`. It is a heuristic that proceeds as follows:\n",
    "\n",
    "* Compute the **timesteps** of the circuit: considering operations in the given circuit from beginning to end, the next timestep is a maximal set of 2-qubit operations that act on disjoint qubits. It is 'maximal' because any 2-qubit gate's qubits in the next timestep must intersect with the qubits that are acted on in the current timestep.\n",
    "* Place the logical qubits in the input circuit onto some input device graph by using an initial mapping strategy.\n",
    "* Insert necessary swaps to ensure all 2-qubit gates are between adjacent qubits on the device graph by traversing the timesteps from left to right and for each timestep:\n",
    "  1. Remove any single qubit gate and executable 2-qubit gate in the current timestep and add it to the output routed circuit.\n",
    "  2. If there aren't any gates left in the current timestep, move on to the next.\n",
    "  3. If there are gates remaining in the current timestep, consider a set of candidate swaps on them and rank them based on a **heuristic cost function**. Pick the swap that minimises the cost and use it to update our logical to physical mapping. Repeat from 1."
   ]
  },
  {
   "cell_type": "markdown",
   "metadata": {
    "id": "eG3-uP8PlTdl"
   },
   "source": [
    "**Note**: All n-qubit operations in the given circuit are assumed to be decomposed into 1/2-qubit operations (our transformer raises an error otherwise)."
   ]
  },
  {
   "cell_type": "markdown",
   "metadata": {
    "id": "_1ePzhvl3xB_"
   },
   "source": [
    "### A Simple Example"
   ]
  },
  {
   "cell_type": "code",
   "execution_count": 2,
   "metadata": {
    "id": "NafLVgAD34IL"
   },
   "outputs": [
    {
     "name": "stdout",
     "output_type": "stream",
     "text": [
      "      ┌──┐\n",
      "0: ────X─────X───@───────X───\n",
      "       │         │       │\n",
      "1: ────┼@────@───X───H───@───\n",
      "       ││    │\n",
      "2: ────@┼────X───────H───X───\n",
      "        │                │\n",
      "3: ─────X────────────────@───\n",
      "      └──┘\n"
     ]
    }
   ],
   "source": [
    "# The circuit to be routed\n",
    "q = cirq.LineQubit.range(4)\n",
    "circuit = cirq.Circuit([\n",
    "    cirq.Moment(cirq.CNOT(q[2], q[0]), cirq.CNOT(q[1], q[3])),\n",
    "    cirq.Moment(cirq.X(q[0]), cirq.CNOT(q[1], q[2])),\n",
    "    cirq.Moment(cirq.CNOT(q[0], q[1])),\n",
    "    cirq.Moment(cirq.H.on_each(q[1], q[2])),\n",
    "    cirq.Moment(cirq.CNOT(q[1], q[0]), cirq.CNOT(q[3], q[2])),\n",
    "])\n",
    "print(circuit)"
   ]
  },
  {
   "cell_type": "code",
   "execution_count": null,
   "metadata": {
    "id": "WxHe11Yu9kzb"
   },
   "outputs": [],
   "source": [
    "# Initialize the router with Sycamore device hardware\n",
    "import cirq_google as cg\n",
    "device = cg.Sycamore\n",
    "device_graph = device.metadata.nx_graph\n",
    "router = cirq.RouteCQC(device_graph)\n",
    "\n",
    "# Let's look at what the device architecture looks like\n",
    "print(device)"
   ]
  },
  {
   "cell_type": "code",
   "execution_count": 4,
   "metadata": {
    "id": "NO1dyRbS9-1x"
   },
   "outputs": [
    {
     "name": "stdout",
     "output_type": "stream",
     "text": [
      "           ┌──┐               ┌──┐\n",
      "(1, 5): ────X─────X────────────@─────────X───\n",
      "            │                  │         │\n",
      "(2, 4): ────┼@────@───────×────┼X────────┼───\n",
      "            ││    │       │    ││        │\n",
      "(2, 5): ────@┼────X───H───×────X┼────H───@───\n",
      "             │                  │\n",
      "(3, 4): ─────X──────────────────@────────────\n",
      "           └──┘               └──┘\n"
     ]
    }
   ],
   "source": [
    "routed_circuit = router(circuit)\n",
    "print(routed_circuit)"
   ]
  },
  {
   "cell_type": "code",
   "execution_count": null,
   "metadata": {
    "id": "3KXcAFvN-kTV"
   },
   "outputs": [],
   "source": [
    "# Compile the gates in routed_circuit to Sycamore gates (this is done because `validate_circuit` checks\n",
    "# that all 2-qubit operations are physically adjacent AND that all gates are part of the device's gateset).\n",
    "routed_circuit = cirq.optimize_for_target_gateset(routed_circuit, gateset = cg.SycamoreTargetGateset())\n",
    "# Validate our circuit\n",
    "device.validate_circuit(routed_circuit)"
   ]
  },
  {
   "cell_type": "markdown",
   "metadata": {
    "id": "mVgwDUyT_pli"
   },
   "source": [
    "### Optional Arguments"
   ]
  },
  {
   "cell_type": "markdown",
   "metadata": {
    "id": "gtSz7AZL4cQP"
   },
   "source": [
    "The `__call__` method of a router takes several optional arguments:\n",
    "1. `lookahead_radius: int`: a tunable argument that controls a convergence parameter for the heuristic cost function. It corresponds to the maximum number of succeeding timesteps the algorithm will consider for ranking candidate swaps with the cost cost function.\n",
    "2. `tag_inserted_swaps: bool`: whether or not a `cirq.RoutingSwapTag` should be attached to inserted swap operations in order to distinguish inserted SWAP gates by the routing procedure from SWAP gates part of the input circuit.\n",
    "3. `initial_mapper: Optional['cirq.AbstractInitialMapper']`: an initial mapping strategy (placement) of logical qubits in the circuit onto physical qubits on the device. If not provided, defaults to an instance of `cirq.LineInitialMapper`."
   ]
  },
  {
   "cell_type": "markdown",
   "metadata": {
    "id": "I6csX1EJmAEU"
   },
   "source": [
    "Here is an example of routing the same circuit on the same device with non-default optional arguments."
   ]
  },
  {
   "cell_type": "code",
   "execution_count": 5,
   "metadata": {
    "id": "DU8lHNiK4eCL"
   },
   "outputs": [
    {
     "name": "stdout",
     "output_type": "stream",
     "text": [
      "cirq.HardCodedInitialMapper({cirq.LineQubit(0): cirq.GridQubit(3, 5), cirq.LineQubit(1): cirq.GridQubit(3, 4), cirq.LineQubit(2): cirq.GridQubit(2, 5), cirq.LineQubit(3): cirq.GridQubit(2, 4)})\n"
     ]
    }
   ],
   "source": [
    "# Use a hard-coded initial mapping strategy of logical to physical that places q0, q1, q2, q3 onto\n",
    "# Grid(3, 5), Grid(3, 6), Grid(4, 5), Grid(4, 6), respectively\n",
    "gq = cirq.GridQubit(3, 5)\n",
    "hc_initial_mapper = cirq.HardCodedInitialMapper(\n",
    "    {q[0]: gq, q[1]: gq + (0, -1), q[2]: gq + (-1, 0), q[3]: gq + (-1, -1)}\n",
    ")\n",
    "print(hc_initial_mapper)"
   ]
  },
  {
   "cell_type": "code",
   "execution_count": 6,
   "metadata": {
    "id": "RMGa1h2uoKui"
   },
   "outputs": [
    {
     "name": "stdout",
     "output_type": "stream",
     "text": [
      "           ┌──┐\n",
      "(2, 4): ─────X───────────────────────────────────────────@───────────\n",
      "             │                                           │\n",
      "(2, 5): ────@┼───────────────────────────────────X───H───X───────────\n",
      "            ││                                   │\n",
      "(3, 4): ────┼@────────×[cirq.RoutingSwapTag()]───┼───@───────────X───\n",
      "            │         │                          │   │           │\n",
      "(3, 5): ────X─────X───×──────────────────────────@───X───────H───@───\n",
      "           └──┘\n"
     ]
    }
   ],
   "source": [
    "routed_circuit = router(circuit, lookahead_radius = 5, tag_inserted_swaps=True, initial_mapper=hc_initial_mapper)\n",
    "print(routed_circuit)"
   ]
  },
  {
   "cell_type": "markdown",
   "metadata": {
    "id": "bbfue03H_2Lc"
   },
   "source": [
    "### Unitary Equivalence"
   ]
  },
  {
   "cell_type": "markdown",
   "metadata": {
    "id": "l1RLuUE02-Qd"
   },
   "source": [
    "It is often the case that the routing process will return a routed circuit that is unitarily equivalent to the input circuit but with the order of the qubits permuted. This is handled by calling the method of the router `route_circuit` with the input ciruit as an argument instead of calling the router. \n",
    "\n",
    "In addition to returning the routed circuit, `route_circuit` also returns the initial mapping of logical to physical qubits and the permutation of qubits caused by insertion of SWAP gates. For example, one way to recover the input circuit's unitary is to permute the routed circuit's qubits as in the example below:"
   ]
  },
  {
   "cell_type": "code",
   "execution_count": null,
   "metadata": {
    "id": "R9ikw2Jz3HND"
   },
   "outputs": [],
   "source": [
    "# Example with appending a QubitPermutationGate to `routed_circuit` and permuting initial order of qubits.\n",
    "routed_circuit, initial_mapping, swap_mapping = router.route_circuit(circuit, initial_mapper=hc_initial_mapper)\n",
    "print(circuit)\n",
    "print(routed_circuit)\n",
    "\n",
    "# The following line that asserts `circuit` and `routed_circuit` have the same unitary will raise an error if uncommented.\n",
    "# cirq.testing.assert_allclose_up_to_global_phase(circuit.unitary(), routed_circuit.unitary(), atol=1e-8)"
   ]
  },
  {
   "cell_type": "markdown",
   "metadata": {
    "id": "RJLcsOr3sw0c"
   },
   "source": [
    "Below we show one way of reordering the qubits in `routed_circuit` using `initial_mapping` and `swap_map` to yield the same unitary as the original input circuit."
   ]
  },
  {
   "cell_type": "code",
   "execution_count": null,
   "metadata": {
    "id": "pIpTv5LXq_9m"
   },
   "outputs": [],
   "source": [
    "# Add a permutation gate that undoes the action of inserted SWAP gates\n",
    "initial_qubits, sorted_qubits = zip(*sorted(swap_mapping.items(), key=lambda x: x[1]))\n",
    "inverse_swap_permutation = [sorted_qubits.index(q) for q in initial_qubits]\n",
    "routed_circuit.append(cirq.QubitPermutationGate(list(inverse_swap_permutation)).on(*sorted_qubits))"
   ]
  },
  {
   "cell_type": "code",
   "execution_count": null,
   "metadata": {
    "id": "HHRd-CmqsiQm"
   },
   "outputs": [],
   "source": [
    "# Reorder to initial physical qubits in `routed_circuit` based on their ordering in `circuit`\n",
    "_, order = zip(*sorted(list(initial_mapping.items()), key=lambda x: x[0]))"
   ]
  },
  {
   "cell_type": "code",
   "execution_count": null,
   "metadata": {
    "id": "m_AyaXH8snjG"
   },
   "outputs": [],
   "source": [
    "print(circuit)\n",
    "print(routed_circuit)\n",
    "\n",
    "# This will not raise an errors now\n",
    "cirq.testing.assert_allclose_up_to_global_phase(circuit.unitary(), routed_circuit.unitary(qubit_order=order), atol=1e-8)"
   ]
  },
  {
   "cell_type": "markdown",
   "metadata": {
    "id": "RccNfl947CyV"
   },
   "source": [
    "**Note**: the decomposition of the `SwapPermutationGate` is a series of SWAP gates that may be applied on qubits that are not physically adjacent. \n",
    "\n",
    "In practice, the user would seldom need to undo the permutation due to inserted SWAP gates as they are often just doing some measurement at the end. Instead, this can be done correctly by just keeping track of the qubit with terminal measurement gate using *measurement keys* (which are unaffected by routing) or by looking at `initial_mapping` and `swap_mapping` to manually trace the permutation of the qubit in question."
   ]
  },
  {
   "cell_type": "markdown",
   "metadata": {
    "id": "DNmE3napAXzg"
   },
   "source": [
    "## Extending the Routing API"
   ]
  },
  {
   "cell_type": "markdown",
   "metadata": {
    "id": "mvLpskslAdEa"
   },
   "source": [
    "### By Overriding the Heuristic Cost Function"
   ]
  },
  {
   "cell_type": "markdown",
   "metadata": {
    "id": "tV6Ms1CVtpJv"
   },
   "source": [
    "A user may decide that the existing cost function in `RouteCQC` can be improved or they may have a cost function that performs better in particular cases (injecting noise awareness, working devices with fixed topologies, etc.) We provide an easy to override the existing cost function by means of class extension. For example,"
   ]
  },
  {
   "cell_type": "code",
   "execution_count": null,
   "metadata": {
    "id": "yqWstLnSuSw6"
   },
   "outputs": [],
   "source": [
    "from typing import Tuple, Sequence, Any\n",
    "\n",
    "QidIntPair = Tuple[int, int]\n",
    "\n",
    "class RouteCQCSimpleCostFunction(cirq.RouteCQC):\n",
    "  @classmethod\n",
    "  def _cost(\n",
    "        cls,\n",
    "        mm: cirq.MappingManager,\n",
    "        swaps: Tuple[QidIntPair, ...],\n",
    "        two_qubit_ops: Sequence[QidIntPair],\n",
    "    ) -> Any:\n",
    "        \"\"\"Computes the # of 2-qubit gates executable after applying SWAPs.\"\"\"\n",
    "        for swap in swaps:\n",
    "            mm.apply_swap(*swap)\n",
    "        ret = sum(1 for op_ints in two_qubit_ops if mm.is_adjacent(*op_ints))\n",
    "        for swap in swaps:\n",
    "            mm.apply_swap(*swap)\n",
    "        return ret"
   ]
  },
  {
   "cell_type": "code",
   "execution_count": null,
   "metadata": {
    "id": "eea4dc233a27"
   },
   "outputs": [],
   "source": [
    "new_router = RouteCQCSimpleCostFunction(device_graph)\n",
    "routed_circuit = new_router(circuit)\n",
    "print(circuit)\n",
    "print(routed_circuit)"
   ]
  },
  {
   "cell_type": "markdown",
   "metadata": {
    "id": "l-MenrPoAgjO"
   },
   "source": [
    "### By Defining a new Initial Mapping Strategy"
   ]
  },
  {
   "cell_type": "markdown",
   "metadata": {
    "id": "mpzD3iFlwSd4"
   },
   "source": [
    "Similarly, any concrete class that implements the interface `cirq.AbstractInitialMapper` can be used as an optional argument to the `__call__` or `route_circuit` method in `RouteCQC`. \n",
    "\n",
    "The use cases for this are also similar to overriding the cost function. For example, placing logical qubits on a subset of the physical qubits that are well calibrated or taking advantage of certain device topologies to come up with a initial mapping strategy that yields a more highly connected image under the initial mapping."
   ]
  },
  {
   "cell_type": "code",
   "execution_count": 16,
   "metadata": {},
   "outputs": [
    {
     "name": "stdout",
     "output_type": "stream",
     "text": [
      "Processing /config/workspace/opensource-projects/Cirq/cirq-core\n",
      "  Preparing metadata (setup.py) ... \u001b[?25ldone\n",
      "\u001b[?25hObtaining file:///config/workspace/opensource-projects/Cirq\n",
      "  Installing build dependencies ... \u001b[?25ldone\n",
      "\u001b[?25h  Checking if build backend supports build_editable ... \u001b[?25ldone\n",
      "\u001b[?25h  Getting requirements to build editable ... \u001b[?25ldone\n",
      "\u001b[?25h  Preparing editable metadata (pyproject.toml) ... \u001b[?25ldone\n",
      "\u001b[?25hRequirement already satisfied: duet~=0.2.8 in /config/anaconda3/envs/cirq-py3/lib/python3.11/site-packages (from cirq-core==1.3.0.dev0) (0.2.9)\n",
      "Requirement already satisfied: matplotlib~=3.0 in /config/anaconda3/envs/cirq-py3/lib/python3.11/site-packages (from cirq-core==1.3.0.dev0) (3.8.0)\n",
      "Requirement already satisfied: networkx>=2.4 in /config/anaconda3/envs/cirq-py3/lib/python3.11/site-packages (from cirq-core==1.3.0.dev0) (2.8.8)\n",
      "Requirement already satisfied: numpy~=1.16 in /config/anaconda3/envs/cirq-py3/lib/python3.11/site-packages (from cirq-core==1.3.0.dev0) (1.25.2)\n",
      "Requirement already satisfied: pandas in /config/anaconda3/envs/cirq-py3/lib/python3.11/site-packages (from cirq-core==1.3.0.dev0) (2.1.1)\n",
      "Requirement already satisfied: sortedcontainers~=2.0 in /config/anaconda3/envs/cirq-py3/lib/python3.11/site-packages (from cirq-core==1.3.0.dev0) (2.4.0)\n",
      "Requirement already satisfied: scipy in /config/anaconda3/envs/cirq-py3/lib/python3.11/site-packages (from cirq-core==1.3.0.dev0) (1.11.2)\n",
      "Requirement already satisfied: sympy in /config/anaconda3/envs/cirq-py3/lib/python3.11/site-packages (from cirq-core==1.3.0.dev0) (1.12)\n",
      "Requirement already satisfied: typing_extensions>=4.2 in /config/anaconda3/envs/cirq-py3/lib/python3.11/site-packages (from cirq-core==1.3.0.dev0) (4.8.0)\n",
      "Requirement already satisfied: tqdm in /config/anaconda3/envs/cirq-py3/lib/python3.11/site-packages (from cirq-core==1.3.0.dev0) (4.66.1)\n",
      "Requirement already satisfied: cirq-aqt==1.3.0.dev in /config/workspace/opensource-projects/Cirq/cirq-aqt (from cirq==1.3.0.dev0) (1.3.0.dev0)\n",
      "Requirement already satisfied: cirq-ft==1.3.0.dev in /config/workspace/opensource-projects/Cirq/cirq-ft (from cirq==1.3.0.dev0) (1.3.0.dev0)\n",
      "Requirement already satisfied: cirq-google==1.3.0.dev in /config/workspace/opensource-projects/Cirq/cirq-google (from cirq==1.3.0.dev0) (1.3.0.dev0)\n",
      "Requirement already satisfied: cirq-ionq==1.3.0.dev in /config/workspace/opensource-projects/Cirq/cirq-ionq (from cirq==1.3.0.dev0) (1.3.0.dev0)\n",
      "Requirement already satisfied: cirq-pasqal==1.3.0.dev in /config/workspace/opensource-projects/Cirq/cirq-pasqal (from cirq==1.3.0.dev0) (1.3.0.dev0)\n",
      "Requirement already satisfied: cirq-rigetti==1.3.0.dev in /config/workspace/opensource-projects/Cirq/cirq-rigetti (from cirq==1.3.0.dev0) (1.3.0.dev0)\n",
      "Requirement already satisfied: cirq-web==1.3.0.dev in /config/workspace/opensource-projects/Cirq/cirq-web (from cirq==1.3.0.dev0) (1.3.0.dev0)\n",
      "Requirement already satisfied: requests~=2.18 in /config/anaconda3/envs/cirq-py3/lib/python3.11/site-packages (from cirq-aqt==1.3.0.dev->cirq==1.3.0.dev0) (2.31.0)\n",
      "Requirement already satisfied: attrs in /config/anaconda3/envs/cirq-py3/lib/python3.11/site-packages (from cirq-ft==1.3.0.dev->cirq==1.3.0.dev0) (21.4.0)\n",
      "Requirement already satisfied: cachetools>=5.3 in /config/anaconda3/envs/cirq-py3/lib/python3.11/site-packages (from cirq-ft==1.3.0.dev->cirq==1.3.0.dev0) (5.3.1)\n",
      "Requirement already satisfied: ipywidgets in /config/anaconda3/envs/cirq-py3/lib/python3.11/site-packages (from cirq-ft==1.3.0.dev->cirq==1.3.0.dev0) (8.1.1)\n",
      "Requirement already satisfied: nbconvert in /config/anaconda3/envs/cirq-py3/lib/python3.11/site-packages (from cirq-ft==1.3.0.dev->cirq==1.3.0.dev0) (7.8.0)\n",
      "Requirement already satisfied: nbformat in /config/anaconda3/envs/cirq-py3/lib/python3.11/site-packages (from cirq-ft==1.3.0.dev->cirq==1.3.0.dev0) (5.9.2)\n",
      "Requirement already satisfied: google-api-core[grpc]>=1.14.0 in /config/anaconda3/envs/cirq-py3/lib/python3.11/site-packages (from cirq-google==1.3.0.dev->cirq==1.3.0.dev0) (2.12.0)\n",
      "Requirement already satisfied: proto-plus>=1.20.0 in /config/anaconda3/envs/cirq-py3/lib/python3.11/site-packages (from cirq-google==1.3.0.dev->cirq==1.3.0.dev0) (1.22.3)\n",
      "Requirement already satisfied: protobuf>=3.15.0 in /config/anaconda3/envs/cirq-py3/lib/python3.11/site-packages (from cirq-google==1.3.0.dev->cirq==1.3.0.dev0) (4.24.3)\n",
      "Requirement already satisfied: pyquil<4.0.0,>=3.2.0 in /config/anaconda3/envs/cirq-py3/lib/python3.11/site-packages (from cirq-rigetti==1.3.0.dev->cirq==1.3.0.dev0) (3.2.1)\n",
      "Requirement already satisfied: contourpy>=1.0.1 in /config/anaconda3/envs/cirq-py3/lib/python3.11/site-packages (from matplotlib~=3.0->cirq-core==1.3.0.dev0) (1.1.1)\n",
      "Requirement already satisfied: cycler>=0.10 in /config/anaconda3/envs/cirq-py3/lib/python3.11/site-packages (from matplotlib~=3.0->cirq-core==1.3.0.dev0) (0.11.0)\n",
      "Requirement already satisfied: fonttools>=4.22.0 in /config/anaconda3/envs/cirq-py3/lib/python3.11/site-packages (from matplotlib~=3.0->cirq-core==1.3.0.dev0) (4.42.1)\n",
      "Requirement already satisfied: kiwisolver>=1.0.1 in /config/anaconda3/envs/cirq-py3/lib/python3.11/site-packages (from matplotlib~=3.0->cirq-core==1.3.0.dev0) (1.4.5)\n",
      "Requirement already satisfied: packaging>=20.0 in /config/anaconda3/envs/cirq-py3/lib/python3.11/site-packages (from matplotlib~=3.0->cirq-core==1.3.0.dev0) (23.1)\n",
      "Requirement already satisfied: pillow>=6.2.0 in /config/anaconda3/envs/cirq-py3/lib/python3.11/site-packages (from matplotlib~=3.0->cirq-core==1.3.0.dev0) (10.0.1)\n",
      "Requirement already satisfied: pyparsing>=2.3.1 in /config/anaconda3/envs/cirq-py3/lib/python3.11/site-packages (from matplotlib~=3.0->cirq-core==1.3.0.dev0) (3.1.1)\n",
      "Requirement already satisfied: python-dateutil>=2.7 in /config/anaconda3/envs/cirq-py3/lib/python3.11/site-packages (from matplotlib~=3.0->cirq-core==1.3.0.dev0) (2.8.2)\n",
      "Requirement already satisfied: pytz>=2020.1 in /config/anaconda3/envs/cirq-py3/lib/python3.11/site-packages (from pandas->cirq-core==1.3.0.dev0) (2023.3.post1)\n",
      "Requirement already satisfied: tzdata>=2022.1 in /config/anaconda3/envs/cirq-py3/lib/python3.11/site-packages (from pandas->cirq-core==1.3.0.dev0) (2023.3)\n",
      "Requirement already satisfied: mpmath>=0.19 in /config/anaconda3/envs/cirq-py3/lib/python3.11/site-packages (from sympy->cirq-core==1.3.0.dev0) (1.3.0)\n",
      "Requirement already satisfied: googleapis-common-protos<2.0.dev0,>=1.56.2 in /config/anaconda3/envs/cirq-py3/lib/python3.11/site-packages (from google-api-core[grpc]>=1.14.0->cirq-google==1.3.0.dev->cirq==1.3.0.dev0) (1.60.0)\n",
      "Requirement already satisfied: google-auth<3.0.dev0,>=2.14.1 in /config/anaconda3/envs/cirq-py3/lib/python3.11/site-packages (from google-api-core[grpc]>=1.14.0->cirq-google==1.3.0.dev->cirq==1.3.0.dev0) (2.23.0)\n",
      "Requirement already satisfied: grpcio<2.0dev,>=1.33.2 in /config/anaconda3/envs/cirq-py3/lib/python3.11/site-packages (from google-api-core[grpc]>=1.14.0->cirq-google==1.3.0.dev->cirq==1.3.0.dev0) (1.58.0)\n",
      "Requirement already satisfied: grpcio-status<2.0.dev0,>=1.33.2 in /config/anaconda3/envs/cirq-py3/lib/python3.11/site-packages (from google-api-core[grpc]>=1.14.0->cirq-google==1.3.0.dev->cirq==1.3.0.dev0) (1.58.0)\n",
      "Requirement already satisfied: lark<0.12.0,>=0.11.1 in /config/anaconda3/envs/cirq-py3/lib/python3.11/site-packages (from pyquil<4.0.0,>=3.2.0->cirq-rigetti==1.3.0.dev->cirq==1.3.0.dev0) (0.11.3)\n",
      "Requirement already satisfied: qcs-api-client<0.22.0,>=0.20.13 in /config/anaconda3/envs/cirq-py3/lib/python3.11/site-packages (from pyquil<4.0.0,>=3.2.0->cirq-rigetti==1.3.0.dev->cirq==1.3.0.dev0) (0.21.6)\n",
      "Requirement already satisfied: retry<0.10.0,>=0.9.2 in /config/anaconda3/envs/cirq-py3/lib/python3.11/site-packages (from pyquil<4.0.0,>=3.2.0->cirq-rigetti==1.3.0.dev->cirq==1.3.0.dev0) (0.9.2)\n",
      "Requirement already satisfied: rpcq<4.0.0,>=3.10.0 in /config/anaconda3/envs/cirq-py3/lib/python3.11/site-packages (from pyquil<4.0.0,>=3.2.0->cirq-rigetti==1.3.0.dev->cirq==1.3.0.dev0) (3.11.0)\n",
      "Requirement already satisfied: six>=1.5 in /config/anaconda3/envs/cirq-py3/lib/python3.11/site-packages (from python-dateutil>=2.7->matplotlib~=3.0->cirq-core==1.3.0.dev0) (1.16.0)\n",
      "Requirement already satisfied: charset-normalizer<4,>=2 in /config/anaconda3/envs/cirq-py3/lib/python3.11/site-packages (from requests~=2.18->cirq-aqt==1.3.0.dev->cirq==1.3.0.dev0) (3.2.0)\n",
      "Requirement already satisfied: idna<4,>=2.5 in /config/anaconda3/envs/cirq-py3/lib/python3.11/site-packages (from requests~=2.18->cirq-aqt==1.3.0.dev->cirq==1.3.0.dev0) (3.4)\n",
      "Requirement already satisfied: urllib3<3,>=1.21.1 in /config/anaconda3/envs/cirq-py3/lib/python3.11/site-packages (from requests~=2.18->cirq-aqt==1.3.0.dev->cirq==1.3.0.dev0) (1.26.16)\n",
      "Requirement already satisfied: certifi>=2017.4.17 in /config/anaconda3/envs/cirq-py3/lib/python3.11/site-packages (from requests~=2.18->cirq-aqt==1.3.0.dev->cirq==1.3.0.dev0) (2023.7.22)\n",
      "Requirement already satisfied: comm>=0.1.3 in /config/anaconda3/envs/cirq-py3/lib/python3.11/site-packages (from ipywidgets->cirq-ft==1.3.0.dev->cirq==1.3.0.dev0) (0.1.4)\n",
      "Requirement already satisfied: ipython>=6.1.0 in /config/anaconda3/envs/cirq-py3/lib/python3.11/site-packages (from ipywidgets->cirq-ft==1.3.0.dev->cirq==1.3.0.dev0) (8.15.0)\n",
      "Requirement already satisfied: traitlets>=4.3.1 in /config/anaconda3/envs/cirq-py3/lib/python3.11/site-packages (from ipywidgets->cirq-ft==1.3.0.dev->cirq==1.3.0.dev0) (5.10.0)\n",
      "Requirement already satisfied: widgetsnbextension~=4.0.9 in /config/anaconda3/envs/cirq-py3/lib/python3.11/site-packages (from ipywidgets->cirq-ft==1.3.0.dev->cirq==1.3.0.dev0) (4.0.9)\n",
      "Requirement already satisfied: jupyterlab-widgets~=3.0.9 in /config/anaconda3/envs/cirq-py3/lib/python3.11/site-packages (from ipywidgets->cirq-ft==1.3.0.dev->cirq==1.3.0.dev0) (3.0.9)\n",
      "Requirement already satisfied: beautifulsoup4 in /config/anaconda3/envs/cirq-py3/lib/python3.11/site-packages (from nbconvert->cirq-ft==1.3.0.dev->cirq==1.3.0.dev0) (4.12.2)\n",
      "Requirement already satisfied: bleach!=5.0.0 in /config/anaconda3/envs/cirq-py3/lib/python3.11/site-packages (from nbconvert->cirq-ft==1.3.0.dev->cirq==1.3.0.dev0) (6.0.0)\n",
      "Requirement already satisfied: defusedxml in /config/anaconda3/envs/cirq-py3/lib/python3.11/site-packages (from nbconvert->cirq-ft==1.3.0.dev->cirq==1.3.0.dev0) (0.7.1)\n",
      "Requirement already satisfied: jinja2>=3.0 in /config/anaconda3/envs/cirq-py3/lib/python3.11/site-packages (from nbconvert->cirq-ft==1.3.0.dev->cirq==1.3.0.dev0) (3.1.2)\n",
      "Requirement already satisfied: jupyter-core>=4.7 in /config/anaconda3/envs/cirq-py3/lib/python3.11/site-packages (from nbconvert->cirq-ft==1.3.0.dev->cirq==1.3.0.dev0) (5.3.1)\n",
      "Requirement already satisfied: jupyterlab-pygments in /config/anaconda3/envs/cirq-py3/lib/python3.11/site-packages (from nbconvert->cirq-ft==1.3.0.dev->cirq==1.3.0.dev0) (0.2.2)\n",
      "Requirement already satisfied: markupsafe>=2.0 in /config/anaconda3/envs/cirq-py3/lib/python3.11/site-packages (from nbconvert->cirq-ft==1.3.0.dev->cirq==1.3.0.dev0) (2.1.3)\n",
      "Requirement already satisfied: mistune<4,>=2.0.3 in /config/anaconda3/envs/cirq-py3/lib/python3.11/site-packages (from nbconvert->cirq-ft==1.3.0.dev->cirq==1.3.0.dev0) (3.0.1)\n",
      "Requirement already satisfied: nbclient>=0.5.0 in /config/anaconda3/envs/cirq-py3/lib/python3.11/site-packages (from nbconvert->cirq-ft==1.3.0.dev->cirq==1.3.0.dev0) (0.8.0)\n",
      "Requirement already satisfied: pandocfilters>=1.4.1 in /config/anaconda3/envs/cirq-py3/lib/python3.11/site-packages (from nbconvert->cirq-ft==1.3.0.dev->cirq==1.3.0.dev0) (1.5.0)\n",
      "Requirement already satisfied: pygments>=2.4.1 in /config/anaconda3/envs/cirq-py3/lib/python3.11/site-packages (from nbconvert->cirq-ft==1.3.0.dev->cirq==1.3.0.dev0) (2.16.1)\n",
      "Requirement already satisfied: tinycss2 in /config/anaconda3/envs/cirq-py3/lib/python3.11/site-packages (from nbconvert->cirq-ft==1.3.0.dev->cirq==1.3.0.dev0) (1.2.1)\n",
      "Requirement already satisfied: fastjsonschema in /config/anaconda3/envs/cirq-py3/lib/python3.11/site-packages (from nbformat->cirq-ft==1.3.0.dev->cirq==1.3.0.dev0) (2.18.0)\n",
      "Requirement already satisfied: jsonschema>=2.6 in /config/anaconda3/envs/cirq-py3/lib/python3.11/site-packages (from nbformat->cirq-ft==1.3.0.dev->cirq==1.3.0.dev0) (4.17.3)\n",
      "Requirement already satisfied: webencodings in /config/anaconda3/envs/cirq-py3/lib/python3.11/site-packages (from bleach!=5.0.0->nbconvert->cirq-ft==1.3.0.dev->cirq==1.3.0.dev0) (0.5.1)\n",
      "Requirement already satisfied: pyasn1-modules>=0.2.1 in /config/anaconda3/envs/cirq-py3/lib/python3.11/site-packages (from google-auth<3.0.dev0,>=2.14.1->google-api-core[grpc]>=1.14.0->cirq-google==1.3.0.dev->cirq==1.3.0.dev0) (0.3.0)\n",
      "Requirement already satisfied: rsa<5,>=3.1.4 in /config/anaconda3/envs/cirq-py3/lib/python3.11/site-packages (from google-auth<3.0.dev0,>=2.14.1->google-api-core[grpc]>=1.14.0->cirq-google==1.3.0.dev->cirq==1.3.0.dev0) (4.9)\n",
      "Requirement already satisfied: backcall in /config/anaconda3/envs/cirq-py3/lib/python3.11/site-packages (from ipython>=6.1.0->ipywidgets->cirq-ft==1.3.0.dev->cirq==1.3.0.dev0) (0.2.0)\n",
      "Requirement already satisfied: decorator in /config/anaconda3/envs/cirq-py3/lib/python3.11/site-packages (from ipython>=6.1.0->ipywidgets->cirq-ft==1.3.0.dev->cirq==1.3.0.dev0) (5.1.1)\n",
      "Requirement already satisfied: jedi>=0.16 in /config/anaconda3/envs/cirq-py3/lib/python3.11/site-packages (from ipython>=6.1.0->ipywidgets->cirq-ft==1.3.0.dev->cirq==1.3.0.dev0) (0.19.0)\n",
      "Requirement already satisfied: matplotlib-inline in /config/anaconda3/envs/cirq-py3/lib/python3.11/site-packages (from ipython>=6.1.0->ipywidgets->cirq-ft==1.3.0.dev->cirq==1.3.0.dev0) (0.1.6)\n",
      "Requirement already satisfied: pickleshare in /config/anaconda3/envs/cirq-py3/lib/python3.11/site-packages (from ipython>=6.1.0->ipywidgets->cirq-ft==1.3.0.dev->cirq==1.3.0.dev0) (0.7.5)\n",
      "Requirement already satisfied: prompt-toolkit!=3.0.37,<3.1.0,>=3.0.30 in /config/anaconda3/envs/cirq-py3/lib/python3.11/site-packages (from ipython>=6.1.0->ipywidgets->cirq-ft==1.3.0.dev->cirq==1.3.0.dev0) (3.0.39)\n",
      "Requirement already satisfied: stack-data in /config/anaconda3/envs/cirq-py3/lib/python3.11/site-packages (from ipython>=6.1.0->ipywidgets->cirq-ft==1.3.0.dev->cirq==1.3.0.dev0) (0.6.2)\n",
      "Requirement already satisfied: pexpect>4.3 in /config/anaconda3/envs/cirq-py3/lib/python3.11/site-packages (from ipython>=6.1.0->ipywidgets->cirq-ft==1.3.0.dev->cirq==1.3.0.dev0) (4.8.0)\n",
      "Requirement already satisfied: pyrsistent!=0.17.0,!=0.17.1,!=0.17.2,>=0.14.0 in /config/anaconda3/envs/cirq-py3/lib/python3.11/site-packages (from jsonschema>=2.6->nbformat->cirq-ft==1.3.0.dev->cirq==1.3.0.dev0) (0.19.3)\n",
      "Requirement already satisfied: platformdirs>=2.5 in /config/anaconda3/envs/cirq-py3/lib/python3.11/site-packages (from jupyter-core>=4.7->nbconvert->cirq-ft==1.3.0.dev->cirq==1.3.0.dev0) (3.10.0)\n",
      "Requirement already satisfied: jupyter-client>=6.1.12 in /config/anaconda3/envs/cirq-py3/lib/python3.11/site-packages (from nbclient>=0.5.0->nbconvert->cirq-ft==1.3.0.dev->cirq==1.3.0.dev0) (8.3.1)\n",
      "Requirement already satisfied: PyJWT<3.0.0,>=2.4.0 in /config/anaconda3/envs/cirq-py3/lib/python3.11/site-packages (from qcs-api-client<0.22.0,>=0.20.13->pyquil<4.0.0,>=3.2.0->cirq-rigetti==1.3.0.dev->cirq==1.3.0.dev0) (2.8.0)\n",
      "Requirement already satisfied: httpx<0.24.0,>=0.23.0 in /config/anaconda3/envs/cirq-py3/lib/python3.11/site-packages (from qcs-api-client<0.22.0,>=0.20.13->pyquil<4.0.0,>=3.2.0->cirq-rigetti==1.3.0.dev->cirq==1.3.0.dev0) (0.23.3)\n",
      "Requirement already satisfied: iso8601<2.0.0,>=1.0.2 in /config/anaconda3/envs/cirq-py3/lib/python3.11/site-packages (from qcs-api-client<0.22.0,>=0.20.13->pyquil<4.0.0,>=3.2.0->cirq-rigetti==1.3.0.dev->cirq==1.3.0.dev0) (1.1.0)\n",
      "Requirement already satisfied: pydantic<2.0.0,>=1.7.2 in /config/anaconda3/envs/cirq-py3/lib/python3.11/site-packages (from qcs-api-client<0.22.0,>=0.20.13->pyquil<4.0.0,>=3.2.0->cirq-rigetti==1.3.0.dev->cirq==1.3.0.dev0) (1.10.12)\n",
      "Requirement already satisfied: retrying<2.0.0,>=1.3.3 in /config/anaconda3/envs/cirq-py3/lib/python3.11/site-packages (from qcs-api-client<0.22.0,>=0.20.13->pyquil<4.0.0,>=3.2.0->cirq-rigetti==1.3.0.dev->cirq==1.3.0.dev0) (1.3.4)\n",
      "Requirement already satisfied: rfc3339<7.0,>=6.2 in /config/anaconda3/envs/cirq-py3/lib/python3.11/site-packages (from qcs-api-client<0.22.0,>=0.20.13->pyquil<4.0.0,>=3.2.0->cirq-rigetti==1.3.0.dev->cirq==1.3.0.dev0) (6.2)\n",
      "Requirement already satisfied: toml<0.11.0,>=0.10.2 in /config/anaconda3/envs/cirq-py3/lib/python3.11/site-packages (from qcs-api-client<0.22.0,>=0.20.13->pyquil<4.0.0,>=3.2.0->cirq-rigetti==1.3.0.dev->cirq==1.3.0.dev0) (0.10.2)\n",
      "Requirement already satisfied: py<2.0.0,>=1.4.26 in /config/anaconda3/envs/cirq-py3/lib/python3.11/site-packages (from retry<0.10.0,>=0.9.2->pyquil<4.0.0,>=3.2.0->cirq-rigetti==1.3.0.dev->cirq==1.3.0.dev0) (1.11.0)\n",
      "Requirement already satisfied: msgpack<2.0,>=0.6 in /config/anaconda3/envs/cirq-py3/lib/python3.11/site-packages (from rpcq<4.0.0,>=3.10.0->pyquil<4.0.0,>=3.2.0->cirq-rigetti==1.3.0.dev->cirq==1.3.0.dev0) (1.0.6)\n",
      "Requirement already satisfied: python-rapidjson in /config/anaconda3/envs/cirq-py3/lib/python3.11/site-packages (from rpcq<4.0.0,>=3.10.0->pyquil<4.0.0,>=3.2.0->cirq-rigetti==1.3.0.dev->cirq==1.3.0.dev0) (1.11)\n",
      "Requirement already satisfied: pyzmq>=17 in /config/anaconda3/envs/cirq-py3/lib/python3.11/site-packages (from rpcq<4.0.0,>=3.10.0->pyquil<4.0.0,>=3.2.0->cirq-rigetti==1.3.0.dev->cirq==1.3.0.dev0) (25.1.0)\n",
      "Requirement already satisfied: ruamel.yaml in /config/anaconda3/envs/cirq-py3/lib/python3.11/site-packages (from rpcq<4.0.0,>=3.10.0->pyquil<4.0.0,>=3.2.0->cirq-rigetti==1.3.0.dev->cirq==1.3.0.dev0) (0.17.32)\n",
      "Requirement already satisfied: soupsieve>1.2 in /config/anaconda3/envs/cirq-py3/lib/python3.11/site-packages (from beautifulsoup4->nbconvert->cirq-ft==1.3.0.dev->cirq==1.3.0.dev0) (2.5)\n",
      "Requirement already satisfied: httpcore<0.17.0,>=0.15.0 in /config/anaconda3/envs/cirq-py3/lib/python3.11/site-packages (from httpx<0.24.0,>=0.23.0->qcs-api-client<0.22.0,>=0.20.13->pyquil<4.0.0,>=3.2.0->cirq-rigetti==1.3.0.dev->cirq==1.3.0.dev0) (0.16.3)\n",
      "Requirement already satisfied: rfc3986[idna2008]<2,>=1.3 in /config/anaconda3/envs/cirq-py3/lib/python3.11/site-packages (from httpx<0.24.0,>=0.23.0->qcs-api-client<0.22.0,>=0.20.13->pyquil<4.0.0,>=3.2.0->cirq-rigetti==1.3.0.dev->cirq==1.3.0.dev0) (1.5.0)\n",
      "Requirement already satisfied: sniffio in /config/anaconda3/envs/cirq-py3/lib/python3.11/site-packages (from httpx<0.24.0,>=0.23.0->qcs-api-client<0.22.0,>=0.20.13->pyquil<4.0.0,>=3.2.0->cirq-rigetti==1.3.0.dev->cirq==1.3.0.dev0) (1.3.0)\n",
      "Requirement already satisfied: parso<0.9.0,>=0.8.3 in /config/anaconda3/envs/cirq-py3/lib/python3.11/site-packages (from jedi>=0.16->ipython>=6.1.0->ipywidgets->cirq-ft==1.3.0.dev->cirq==1.3.0.dev0) (0.8.3)\n",
      "Requirement already satisfied: tornado>=6.2 in /config/anaconda3/envs/cirq-py3/lib/python3.11/site-packages (from jupyter-client>=6.1.12->nbclient>=0.5.0->nbconvert->cirq-ft==1.3.0.dev->cirq==1.3.0.dev0) (6.3.2)\n",
      "Requirement already satisfied: ptyprocess>=0.5 in /config/anaconda3/envs/cirq-py3/lib/python3.11/site-packages (from pexpect>4.3->ipython>=6.1.0->ipywidgets->cirq-ft==1.3.0.dev->cirq==1.3.0.dev0) (0.7.0)\n",
      "Requirement already satisfied: wcwidth in /config/anaconda3/envs/cirq-py3/lib/python3.11/site-packages (from prompt-toolkit!=3.0.37,<3.1.0,>=3.0.30->ipython>=6.1.0->ipywidgets->cirq-ft==1.3.0.dev->cirq==1.3.0.dev0) (0.2.6)\n",
      "Requirement already satisfied: pyasn1<0.6.0,>=0.4.6 in /config/anaconda3/envs/cirq-py3/lib/python3.11/site-packages (from pyasn1-modules>=0.2.1->google-auth<3.0.dev0,>=2.14.1->google-api-core[grpc]>=1.14.0->cirq-google==1.3.0.dev->cirq==1.3.0.dev0) (0.5.0)\n",
      "Requirement already satisfied: ruamel.yaml.clib>=0.2.7 in /config/anaconda3/envs/cirq-py3/lib/python3.11/site-packages (from ruamel.yaml->rpcq<4.0.0,>=3.10.0->pyquil<4.0.0,>=3.2.0->cirq-rigetti==1.3.0.dev->cirq==1.3.0.dev0) (0.2.7)\n",
      "Requirement already satisfied: executing>=1.2.0 in /config/anaconda3/envs/cirq-py3/lib/python3.11/site-packages (from stack-data->ipython>=6.1.0->ipywidgets->cirq-ft==1.3.0.dev->cirq==1.3.0.dev0) (1.2.0)\n",
      "Requirement already satisfied: asttokens>=2.1.0 in /config/anaconda3/envs/cirq-py3/lib/python3.11/site-packages (from stack-data->ipython>=6.1.0->ipywidgets->cirq-ft==1.3.0.dev->cirq==1.3.0.dev0) (2.4.0)\n",
      "Requirement already satisfied: pure-eval in /config/anaconda3/envs/cirq-py3/lib/python3.11/site-packages (from stack-data->ipython>=6.1.0->ipywidgets->cirq-ft==1.3.0.dev->cirq==1.3.0.dev0) (0.2.2)\n",
      "Requirement already satisfied: h11<0.15,>=0.13 in /config/anaconda3/envs/cirq-py3/lib/python3.11/site-packages (from httpcore<0.17.0,>=0.15.0->httpx<0.24.0,>=0.23.0->qcs-api-client<0.22.0,>=0.20.13->pyquil<4.0.0,>=3.2.0->cirq-rigetti==1.3.0.dev->cirq==1.3.0.dev0) (0.14.0)\n",
      "Requirement already satisfied: anyio<5.0,>=3.0 in /config/anaconda3/envs/cirq-py3/lib/python3.11/site-packages (from httpcore<0.17.0,>=0.15.0->httpx<0.24.0,>=0.23.0->qcs-api-client<0.22.0,>=0.20.13->pyquil<4.0.0,>=3.2.0->cirq-rigetti==1.3.0.dev->cirq==1.3.0.dev0) (4.0.0)\n",
      "Building wheels for collected packages: cirq-core, cirq\n",
      "  Building wheel for cirq-core (setup.py) ... \u001b[?25ldone\n",
      "\u001b[?25h  Created wheel for cirq-core: filename=cirq_core-1.3.0.dev0-py3-none-any.whl size=1824533 sha256=103bc780940029b0301f95d2984528e091999b3fad47a7121c22ecaf5a89007c\n",
      "  Stored in directory: /config/.cache/pip/wheels/19/53/41/ef88246f2c1590d88c43754842e51aa5a5be138d8b4b233f46\n",
      "  Building editable for cirq (pyproject.toml) ... \u001b[?25ldone\n",
      "\u001b[?25h  Created wheel for cirq: filename=cirq-1.3.0.dev0-0.editable-py3-none-any.whl size=9642 sha256=1c53ffc4b78422a5f6ec4372769bcb63c0c1e0365ddcf00a10ef8b4fa2ed0ab3\n",
      "  Stored in directory: /tmp/pip-ephem-wheel-cache-me4ow533/wheels/62/83/60/033a7467dcd3a1d8f1fd6ab122f93bf22e537d8919105f0df8\n",
      "Successfully built cirq-core cirq\n",
      "Installing collected packages: cirq-core, cirq\n",
      "  Attempting uninstall: cirq-core\n",
      "    Found existing installation: cirq-core 1.3.0.dev0\n",
      "    Uninstalling cirq-core-1.3.0.dev0:\n",
      "      Successfully uninstalled cirq-core-1.3.0.dev0\n",
      "  Attempting uninstall: cirq\n",
      "    Found existing installation: cirq 1.3.0.dev0\n",
      "    Uninstalling cirq-1.3.0.dev0:\n",
      "      Successfully uninstalled cirq-1.3.0.dev0\n",
      "Successfully installed cirq-1.3.0.dev0 cirq-core-1.3.0.dev0\n"
     ]
    }
   ],
   "source": [
    "!pip install -e ../../. ../../cirq-core"
   ]
  },
  {
   "cell_type": "code",
   "execution_count": 1,
   "metadata": {},
   "outputs": [
    {
     "name": "stdout",
     "output_type": "stream",
     "text": [
      "0: ───@───────@───M('key')───H───M───\n",
      "      │       │   │\n",
      "1: ───@───@───┼───M──────────H───M───\n",
      "          │   │   │\n",
      "2: ───────@───@───M──────────H───M───\n",
      "0: ───×───────@───────@───M──────────H───M('q(2)')───\n",
      "      │       │       │   │\n",
      "1: ───×───@───@───×───@───M('key')───H───M('q(0)')───\n",
      "          │       │       │\n",
      "2: ───────@───────×───────M──────────H───M('q(1)')───\n"
     ]
    }
   ],
   "source": [
    "import cirq \n",
    "import networkx as nx\n",
    "\n",
    "q0, q1, q2 = cirq.LineQubit.range(3)\n",
    "\n",
    "circuit = cirq.Circuit(\n",
    "    cirq.CZ(q0, q1),\n",
    "    cirq.CZ(q1, q2),\n",
    "    cirq.CZ(q0, q2),\n",
    "    cirq.measure(q0, q1, q2, key=\"key\"),\n",
    "    cirq.H.on_each(q0, q1, q2),\n",
    "    cirq.measure_each(q0, q1, q2),\n",
    ")\n",
    "\n",
    "graph = nx.Graph([[q0, q1], [q1, q2]])\n",
    "router = cirq.RouteCQC(graph)\n",
    "\n",
    "print(circuit)\n",
    "print(router.route_circuit(circuit)[0])"
   ]
  },
  {
   "cell_type": "code",
   "execution_count": 2,
   "metadata": {},
   "outputs": [
    {
     "name": "stdout",
     "output_type": "stream",
     "text": [
      "0: ───@───M('key')───H───M───\n",
      "      │   │\n",
      "1: ───@───M──────────H───M───\n",
      "0: ───@───M──────────H───M('q(1)')───\n",
      "      │   │\n",
      "1: ───@───M('key')───H───M('q(0)')───\n"
     ]
    }
   ],
   "source": [
    "import cirq \n",
    "import networkx as nx\n",
    "\n",
    "q0, q1 = cirq.LineQubit.range(2)\n",
    "\n",
    "circuit = cirq.Circuit(\n",
    "    cirq.CZ(q0, q1),\n",
    "    cirq.measure(q0, q1, key=\"key\"),\n",
    "    cirq.H.on_each(q0, q1),\n",
    "    cirq.measure_each(q0, q1),\n",
    ")\n",
    "\n",
    "graph = nx.Graph([[q0, q1]])\n",
    "router = cirq.RouteCQC(graph)\n",
    "\n",
    "print(circuit)\n",
    "print(router.route_circuit(circuit)[0])"
   ]
  },
  {
   "cell_type": "code",
   "execution_count": 3,
   "metadata": {},
   "outputs": [
    {
     "name": "stdout",
     "output_type": "stream",
     "text": [
      "0: ───@───M───H───M───\n",
      "      │\n",
      "1: ───@───M───H───M───\n",
      "0: ───@───M('q(1)')───H───M('q(1)')───\n",
      "      │\n",
      "1: ───@───M('q(0)')───H───M('q(0)')───\n"
     ]
    }
   ],
   "source": [
    "import cirq \n",
    "import networkx as nx\n",
    "\n",
    "q0, q1 = cirq.LineQubit.range(2)\n",
    "\n",
    "circuit = cirq.Circuit(\n",
    "    cirq.CZ(q0, q1),\n",
    "    cirq.measure_each(q0, q1),\n",
    "    cirq.H.on_each(q0, q1),\n",
    "    cirq.measure_each(q0, q1),\n",
    ")\n",
    "\n",
    "graph = nx.Graph([[q0, q1]])\n",
    "router = cirq.RouteCQC(graph)\n",
    "\n",
    "print(circuit)\n",
    "print(router.route_circuit(circuit)[0])"
   ]
  },
  {
   "cell_type": "code",
   "execution_count": 4,
   "metadata": {},
   "outputs": [
    {
     "name": "stdout",
     "output_type": "stream",
     "text": [
      "              ┌──┐\n",
      "0: ───@────────@─────M───H───M───\n",
      "      │        │\n",
      "1: ───@───@────┼M────H───M───────\n",
      "          │    │\n",
      "2: ───────@────@─────M───H───M───\n",
      "              └──┘\n",
      "0: ───×───────@───────────────────@───M('q(2)')───H───M('q(2)')───\n",
      "      │       │                   │\n",
      "1: ───×───@───@───M───H───M───×───@───M('q(0)')───H───M('q(0)')───\n",
      "          │                   │\n",
      "2: ───────@───────────────────×───────────────────────────────────\n"
     ]
    }
   ],
   "source": [
    "import cirq \n",
    "import networkx as nx\n",
    "\n",
    "q0, q1, q2 = cirq.LineQubit.range(3)\n",
    "\n",
    "circuit = cirq.Circuit(\n",
    "    cirq.CZ(q0, q1),\n",
    "    cirq.CZ(q1, q2),\n",
    "    cirq.CZ(q0, q2),\n",
    "    cirq.measure_each(q0, q1, q2),\n",
    "    cirq.H.on_each(q0, q1, q2),\n",
    "    cirq.measure_each(q0, q1, q2),\n",
    ")\n",
    "\n",
    "graph = nx.Graph([[q0, q1], [q1, q2]])\n",
    "router = cirq.RouteCQC(graph)\n",
    "\n",
    "print(circuit)\n",
    "print(router.route_circuit(circuit)[0])"
   ]
  },
  {
   "cell_type": "code",
   "execution_count": 5,
   "metadata": {},
   "outputs": [
    {
     "name": "stdout",
     "output_type": "stream",
     "text": [
      "0: ───M───M('')───M('')───\n",
      "          │       │\n",
      "1: ───M───┼───────M───────\n",
      "          │       │\n",
      "2: ───M───M───────M───────\n",
      "0: ───M───M('')───M('')───\n",
      "          │       │\n",
      "1: ───M───┼───────M───────\n",
      "          │       │\n",
      "2: ───M───M───────M───────\n"
     ]
    }
   ],
   "source": [
    "device = cirq.testing.construct_ring_device(3)\n",
    "device_graph = device.metadata.nx_graph\n",
    "q = cirq.LineQubit.range(3)\n",
    "circuit = cirq.Circuit(cirq.measure_each(q[0], q[1],q[2]),cirq.MeasurementGate(2).on(q[0], q[2]), cirq.MeasurementGate(3).on(*q))\n",
    "hard_coded_mapper = cirq.HardCodedInitialMapper({q[i]: q[i] for i in range(3)})\n",
    "router = cirq.RouteCQC(device_graph)\n",
    "routed_circuit = router(circuit, initial_mapper=hard_coded_mapper)\n",
    "print(circuit)\n",
    "print(routed_circuit)"
   ]
  },
  {
   "cell_type": "code",
   "execution_count": 6,
   "metadata": {},
   "outputs": [
    {
     "name": "stdout",
     "output_type": "stream",
     "text": [
      "Comparing against revision 'origin/master' (merge base bef756e2fbb61638f23397098bd8af068dadc08a).\n",
      "Running the black formatter... (version: black, 23.3.0 (compiled: yes)\n",
      "Python (CPython) 3.11.4)\n",
      "\u001b[1mreformatted cirq-core/cirq/transformers/routing/route_circuit_cqc_test.py\u001b[0m\n",
      "\n",
      "\u001b[1mAll done! ✨ 🍰 ✨\u001b[0m\n",
      "\u001b[34m\u001b[1m1 file \u001b[0m\u001b[1mreformatted\u001b[0m, \u001b[34m1 file \u001b[0mleft unchanged.\n"
     ]
    }
   ],
   "source": [
    "!../../check/format-incremental --apply"
   ]
  },
  {
   "cell_type": "code",
   "execution_count": 7,
   "metadata": {},
   "outputs": [
    {
     "name": "stdout",
     "output_type": "stream",
     "text": [
      "Comparing against revision 'origin/master'.\n",
      "Found 1 test files associated with changes.\n",
      "\u001b[1m============================= test session starts ==============================\u001b[0m\n",
      "platform linux -- Python 3.11.5, pytest-7.4.2, pluggy-1.3.0\n",
      "rootdir: /config/workspace/opensource-projects/Cirq\n",
      "configfile: pyproject.toml\n",
      "plugins: anyio-4.0.0\n",
      "collected 28 items                                                             \u001b[0m\n",
      "\n",
      "cirq-core/cirq/transformers/routing/route_circuit_cqc_test.py \u001b[32m.\u001b[0m\u001b[32m.\u001b[0m\u001b[32m.\u001b[0m\u001b[32m.\u001b[0m\u001b[32m.\u001b[0m\u001b[32m.\u001b[0m\u001b[32m.\u001b[0m\u001b[32m.\u001b[0m\u001b[32m.\u001b[0m\u001b[32m.\u001b[0m\u001b[32m [ 35%]\n",
      "\u001b[0m\u001b[32m.\u001b[0m\u001b[32m.\u001b[0m\u001b[32m.\u001b[0m\u001b[32m.\u001b[0m\u001b[32m.\u001b[0m\u001b[32m.\u001b[0m\u001b[32m.\u001b[0m\u001b[32m.\u001b[0m\u001b[32m.\u001b[0m\u001b[32m.\u001b[0m\u001b[32m.\u001b[0m\u001b[32m.\u001b[0m\u001b[32m.\u001b[0m\u001b[32m.\u001b[0m\u001b[32m.\u001b[0m\u001b[32m.\u001b[0m\u001b[32m.\u001b[0m\u001b[32m.\u001b[0m\u001b[32m                                                       [100%]\u001b[0m\n",
      "\n",
      "\u001b[32m============================== \u001b[32m\u001b[1m28 passed\u001b[0m\u001b[32m in 6.78s\u001b[0m\u001b[32m ==============================\u001b[0m\n"
     ]
    }
   ],
   "source": [
    "!../../check/pytest-changed-files "
   ]
  },
  {
   "cell_type": "code",
   "execution_count": 8,
   "metadata": {},
   "outputs": [
    {
     "name": "stdout",
     "output_type": "stream",
     "text": [
      "Requirement already satisfied: pytest in /config/anaconda3/envs/cirq-py3/lib/python3.11/site-packages (7.4.2)\n",
      "Requirement already satisfied: iniconfig in /config/anaconda3/envs/cirq-py3/lib/python3.11/site-packages (from pytest) (2.0.0)\n",
      "Requirement already satisfied: packaging in /config/anaconda3/envs/cirq-py3/lib/python3.11/site-packages (from pytest) (23.1)\n",
      "Requirement already satisfied: pluggy<2.0,>=0.12 in /config/anaconda3/envs/cirq-py3/lib/python3.11/site-packages (from pytest) (1.3.0)\n",
      "Note: you may need to restart the kernel to use updated packages.\n"
     ]
    }
   ],
   "source": [
    "pip install pytest"
   ]
  },
  {
   "cell_type": "code",
   "execution_count": 9,
   "metadata": {},
   "outputs": [
    {
     "name": "stdout",
     "output_type": "stream",
     "text": [
      "Loading tests   ................................................................................................................................................................................................................................................................................................................................................................................................................../config/anaconda3/envs/cirq-py3/lib/python3.11/site-packages/attr/_make.py:918: RuntimeWarning: Running interpreter doesn't sufficiently support code object introspection.  Some features like bare super() or accessing __class__ will not work with slotted classes.\n",
      "  set_closure_cell(cell, cls)\n",
      "..................................................................................................................................................................................\n",
      "\n",
      "Executing tests ....................................................................................................................................................................................................................................................................................................................................................................................................................................................................................................................................................................................................\n",
      "\n",
      "\u001b[32mPassed: 328\u001b[0m\n"
     ]
    }
   ],
   "source": [
    "!../../check/doctest"
   ]
  },
  {
   "cell_type": "code",
   "execution_count": 13,
   "metadata": {},
   "outputs": [
    {
     "name": "stdout",
     "output_type": "stream",
     "text": [
      "Comparing against revision 'origin/master' (merge base bef756e2fbb61638f23397098bd8af068dadc08a).\n",
      "\u001b[31mERROR: usage: pytest [options] [file_or_dir] [file_or_dir] [...]\n",
      "pytest: error: unrecognized arguments: -n=auto --cov=cirq-core/cirq/transformers/routing --cov-report=annotate --cov-config=dev_tools/conf/.coveragerc\n",
      "  inifile: /config/workspace/opensource-projects/Cirq/pyproject.toml\n",
      "  rootdir: /config/workspace/opensource-projects/Cirq\n",
      "\u001b[0m\n",
      "\u001b[31m************* cirq-core/cirq/transformers/routing/route_circuit_cqc.py (35 uncovered)\u001b[0m\n",
      "Line \u001b[1m 159\u001b[0m is new or changed but not covered: \u001b[33m        This transformer assumes that all two-qubit operations have been decomposed into 2-qubit\u001b[0m\n",
      "Line \u001b[1m 252\u001b[0m is new or changed but not covered: \u001b[33m        two_qubit_circuits: List[cirq.AbstractCircuit] = []\u001b[0m\n",
      "Line \u001b[1m 253\u001b[0m is new or changed but not covered: \u001b[33m        prev_two_qubit_moments: int = 0\u001b[0m\n",
      "Line \u001b[1m 258\u001b[0m is new or changed but not covered: \u001b[33m                two_qubit_timestep = two_qubit_circuit.earliest_available_moment(op)\u001b[0m\n",
      "Line \u001b[1m 259\u001b[0m is new or changed but not covered: \u001b[33m                single_qubit_timestep = two_qubit_timestep + prev_two_qubit_moments\u001b[0m\n",
      "Line \u001b[1m 261\u001b[0m is new or changed but not covered: \u001b[33m                single_qubit_ops.extend(\u001b[0m\n",
      "Line \u001b[1m 262\u001b[0m is new or changed but not covered: \u001b[33m                    [] for _ in range(single_qubit_timestep + 1 - len(single_qubit_ops))\u001b[0m\n",
      "Line \u001b[1m 263\u001b[0m is new or changed but not covered: \u001b[33m                )\u001b[0m\n",
      "Line \u001b[1m 265\u001b[0m is new or changed but not covered: \u001b[33m                    circuits.Moment()\u001b[0m\n",
      "Line \u001b[1m 266\u001b[0m is new or changed but not covered: \u001b[33m                    for _ in range(two_qubit_timestep + 1 - len(two_qubit_circuit))\u001b[0m\n",
      "Line \u001b[1m 268\u001b[0m is new or changed but not covered: \u001b[33m                if protocols.num_qubits(op) > 2 and protocols.is_measurement(op):\u001b[0m\n",
      "Line \u001b[1m 269\u001b[0m is new or changed but not covered: \u001b[33m                    \"\"\"TODO:\u001b[0m\n",
      "Line \u001b[1m 270\u001b[0m is new or changed but not covered: \u001b[33m                    add intermediate measurment op,\u001b[0m\n",
      "Line \u001b[1m 271\u001b[0m is new or changed but not covered: \u001b[33m                    and store circuit,\u001b[0m\n",
      "Line \u001b[1m 272\u001b[0m is new or changed but not covered: \u001b[33m                    update the timestep length for single qubits correctly,\u001b[0m\n",
      "Line \u001b[1m 273\u001b[0m is new or changed but not covered: \u001b[33m                    reset single  two_qubit_circuit\u001b[0m\n",
      "Line \u001b[1m 274\u001b[0m is new or changed but not covered: \u001b[33m                    \"\"\"\u001b[0m\n",
      "Line \u001b[1m 275\u001b[0m is new or changed but not covered: \u001b[33m                    two_qubit_circuit[two_qubit_timestep] = two_qubit_circuit[\u001b[0m\n",
      "Line \u001b[1m 276\u001b[0m is new or changed but not covered: \u001b[33m                        two_qubit_timestep\u001b[0m\n",
      "Line \u001b[1m 277\u001b[0m is new or changed but not covered: \u001b[33m                    ].with_operation(op)\u001b[0m\n",
      "Line \u001b[1m 278\u001b[0m is new or changed but not covered: \u001b[33m                    two_qubit_circuits.append(two_qubit_circuit)\u001b[0m\n",
      "Line \u001b[1m 279\u001b[0m is new or changed but not covered: \u001b[33m                    prev_two_qubit_moments += len(two_qubit_circuit.moments)\u001b[0m\n",
      "Line \u001b[1m 280\u001b[0m is new or changed but not covered: \u001b[33m                    two_qubit_circuit = circuits.Circuit()\u001b[0m\n",
      "Line \u001b[1m 281\u001b[0m is new or changed but not covered: \u001b[33m                elif protocols.num_qubits(op) > 2 and not protocols.is_measurement(op):\u001b[0m\n",
      "Line \u001b[1m 282\u001b[0m is new or changed but not covered: \u001b[33m                    two_qubit_circuit[two_qubit_timestep] = two_qubit_circuit[\u001b[0m\n",
      "Line \u001b[1m 283\u001b[0m is new or changed but not covered: \u001b[33m                        two_qubit_timestep\u001b[0m\n",
      "Line \u001b[1m 284\u001b[0m is new or changed but not covered: \u001b[33m                    ].with_operation(op)\u001b[0m\n",
      "Line \u001b[1m 285\u001b[0m is new or changed but not covered: \u001b[33m                elif protocols.num_qubits(op) == 2:\u001b[0m\n",
      "Line \u001b[1m 286\u001b[0m is new or changed but not covered: \u001b[33m                    two_qubit_circuit[two_qubit_timestep] = two_qubit_circuit[\u001b[0m\n",
      "Line \u001b[1m 287\u001b[0m is new or changed but not covered: \u001b[33m                        two_qubit_timestep\u001b[0m\n",
      "Line \u001b[1m 288\u001b[0m is new or changed but not covered: \u001b[33m                    ].with_operation(op)\u001b[0m\n",
      "Line \u001b[1m 290\u001b[0m is new or changed but not covered: \u001b[33m                    single_qubit_ops[single_qubit_timestep].append(op)\u001b[0m\n",
      "Line \u001b[1m 292\u001b[0m is new or changed but not covered: \u001b[33m        while two_qubit_circuits:\u001b[0m\n",
      "Line \u001b[1m 294\u001b[0m is new or changed but not covered: \u001b[33m            prev_circuit = two_qubit_circuits.pop()\u001b[0m\n",
      "Line \u001b[1m 295\u001b[0m is new or changed but not covered: \u001b[33m            two_qubit_circuit = prev_circuit + two_qubit_circuit\u001b[0m\n",
      "\u001b[31m************* cirq-core/cirq/transformers/routing/route_circuit_cqc_test.py (15 uncovered)\u001b[0m\n",
      "Line \u001b[1m 111\u001b[0m is new or changed but not covered: \u001b[33m    device = cirq.testing.construct_ring_device(3)\u001b[0m\n",
      "Line \u001b[1m 112\u001b[0m is new or changed but not covered: \u001b[33m    device_graph = device.metadata.nx_graph\u001b[0m\n",
      "Line \u001b[1m 113\u001b[0m is new or changed but not covered: \u001b[33m    q = cirq.LineQubit.range(3)\u001b[0m\n",
      "Line \u001b[1m 114\u001b[0m is new or changed but not covered: \u001b[33m    circuit = cirq.Circuit(\u001b[0m\n",
      "Line \u001b[1m 115\u001b[0m is new or changed but not covered: \u001b[33m        cirq.CZ(q[0], q[1]),\u001b[0m\n",
      "Line \u001b[1m 116\u001b[0m is new or changed but not covered: \u001b[33m        cirq.CZ(q[1], q[2]),\u001b[0m\n",
      "Line \u001b[1m 117\u001b[0m is new or changed but not covered: \u001b[33m        cirq.CZ(q[0], q[2]),\u001b[0m\n",
      "Line \u001b[1m 118\u001b[0m is new or changed but not covered: \u001b[33m        cirq.MeasurementGate(3).on(*q),\u001b[0m\n",
      "Line \u001b[1m 119\u001b[0m is new or changed but not covered: \u001b[33m        cirq.H.on_each(*q),\u001b[0m\n",
      "Line \u001b[1m 120\u001b[0m is new or changed but not covered: \u001b[33m        cirq.measure_each(*q),\u001b[0m\n",
      "Line \u001b[1m 121\u001b[0m is new or changed but not covered: \u001b[33m    )\u001b[0m\n",
      "Line \u001b[1m 122\u001b[0m is new or changed but not covered: \u001b[33m    hard_coded_mapper = cirq.HardCodedInitialMapper({q[i]: q[i] for i in range(3)})\u001b[0m\n",
      "Line \u001b[1m 123\u001b[0m is new or changed but not covered: \u001b[33m    router = cirq.RouteCQC(device_graph)\u001b[0m\n",
      "Line \u001b[1m 124\u001b[0m is new or changed but not covered: \u001b[33m    routed_circuit = router(circuit, initial_mapper=hard_coded_mapper)\u001b[0m\n",
      "Line \u001b[1m 125\u001b[0m is new or changed but not covered: \u001b[33m    cirq.testing.assert_same_circuits(routed_circuit, circuit)\u001b[0m\n",
      "\n",
      "\u001b[31mFound 50 uncovered touched lines.\u001b[0m\n",
      "\n"
     ]
    }
   ],
   "source": [
    "!../../check/pytest-changed-files-and-incremental-coverage"
   ]
  },
  {
   "cell_type": "code",
   "execution_count": 11,
   "metadata": {},
   "outputs": [
    {
     "name": "stdout",
     "output_type": "stream",
     "text": [
      "\u001b[31mcirq-core/cirq/vis/histogram.py:103: \u001b[1m\u001b[31merror:\u001b[m Unused \u001b[m\u001b[1m\"type: ignore\"\u001b[m comment\u001b[m\u001b[33m\u001b[m\n",
      "cirq-core/cirq/vis/histogram.py:105: \u001b[1m\u001b[31merror:\u001b[m Unused \u001b[m\u001b[1m\"type: ignore\"\u001b[m comment\u001b[m\u001b[33m\u001b[m\n",
      "cirq-core/cirq/vis/heatmap.py:240: \u001b[1m\u001b[31merror:\u001b[m Unused \u001b[m\u001b[1m\"type: ignore\"\u001b[m comment\u001b[m\u001b[33m\u001b[m\n",
      "cirq-ft/cirq_ft/infra/jupyter_tools.py:25: \u001b[1m\u001b[31merror:\u001b[m Skipping analyzing \u001b[m\u001b[1m\"nbconvert.preprocessors\"\u001b[m: module is installed, but missing library stubs or py.typed marker  \u001b[m\u001b[33m[import]\u001b[m\n",
      "cirq-ft/cirq_ft/infra/jupyter_tools.py:25: \u001b[34mnote:\u001b[m See \u001b[4mhttps://mypy.readthedocs.io/en/stable/running_mypy.html#missing-imports\u001b[m\u001b[m\n",
      "\u001b[1m\u001b[31mFound 4 errors in 3 files (checked 1145 source files)\u001b[m\n",
      "\u001b[0m"
     ]
    }
   ],
   "source": [
    "!../../check/mypy"
   ]
  },
  {
   "cell_type": "code",
   "execution_count": 12,
   "metadata": {},
   "outputs": [
    {
     "name": "stdout",
     "output_type": "stream",
     "text": [
      "\u001b[32mNo issues\u001b[0m.\n"
     ]
    }
   ],
   "source": [
    "!../../check/misc"
   ]
  },
  {
   "cell_type": "code",
   "execution_count": null,
   "metadata": {},
   "outputs": [],
   "source": []
  }
 ],
 "metadata": {
  "colab": {
   "collapsed_sections": [],
   "name": "routing_transformer.ipynb",
   "toc_visible": true
  },
  "kernelspec": {
   "display_name": "Python 3",
   "name": "python3"
  },
  "language_info": {
   "codemirror_mode": {
    "name": "ipython",
    "version": 3
   },
   "file_extension": ".py",
   "mimetype": "text/x-python",
   "name": "python",
   "nbconvert_exporter": "python",
   "pygments_lexer": "ipython3",
   "version": "3.11.5"
  }
 },
 "nbformat": 4,
 "nbformat_minor": 0
}
