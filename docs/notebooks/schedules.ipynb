{
 "cells": [
  {
   "cell_type": "markdown",
   "metadata": {},
   "source": [
    "## Schedules and Devices\n",
    "\n",
    "`Schedule` and `Circuit` are the two major container classes for\n",
    "quantum circuits.  In contrast to ``Circuit``, a ``Schedule`` includes\n",
    "detailed information about the timing and duration of the gates.\n",
    "\n",
    "Conceptually, a ``Schedule`` is made up of a set of ``ScheduledOperations`` as well as a description of the ``Device`` on which the schedule is intended to be run. \n",
    "\n",
    "Each ``ScheduledOperation`` is made up of a ``time`` when the operation starts and a ``duration`` describing how long the operation takes, in addition to the ``Operation`` itself (like in a\n",
    "``Circuit`` an ``Operation`` is made up of a ``Gate`` and the ``Qids``\n",
    "upon which the gate acts.)\n",
    "\n",
    "\n",
    "### Devices\n",
    "\n",
    "The ``Device`` class is an abstract class that encapsulates constraints\n",
    "(or lack thereof) that come when running a circuit on actual hardware.\n",
    "\n",
    "For instance, most hardware only allows certain gates to be enacted\n",
    "on qubits.  Or, as another example, some gates may be constrained not\n",
    "be able to run at the same time as neighboring gates.  Further, the\n",
    "``Device`` class knows more about the scheduling of ``Operations``.\n",
    "\n",
    "For instance, below is an example of a ``Device`` made up of 10 qubits on a line:"
   ]
  },
  {
   "cell_type": "code",
   "execution_count": 7,
   "metadata": {},
   "outputs": [],
   "source": [
    "import cirq\n",
    "from cirq.devices import GridQubit\n",
    "class Xmon10Device(cirq.Device):\n",
    "\n",
    "  def __init__(self):\n",
    "      self.qubits = [GridQubit(i, 0) for i in range(10)]\n",
    "\n",
    "  def duration_of(self, operation):\n",
    "      # Wouldn't it be nice if everything took 10ns?\n",
    "      return cirq.Duration(nanos=10)\n",
    "\n",
    "  def validate_operation(self, operation):\n",
    "      if not isinstance(operation, cirq.GateOperation):\n",
    "          raise ValueError('{!r} is not a supported operation'.format(operation))\n",
    "      if not isinstance(operation.gate, (cirq.CZPowGate,\n",
    "                                         cirq.XPowGate,\n",
    "                                         cirq.PhasedXPowGate,\n",
    "                                         cirq.YPowGate)):\n",
    "          raise ValueError('{!r} is not a supported gate'.format(operation.gate))\n",
    "      if len(operation.qubits) == 2:\n",
    "          p, q = operation.qubits\n",
    "          if not p.is_adjacent(q):\n",
    "            raise ValueError('Non-local interaction: {}'.format(repr(operation)))\n",
    "\n",
    "\n",
    "  def validate_scheduled_operation(self, schedule, scheduled_operation):\n",
    "      self.validate_operation(scheduled_operation.operation)\n",
    "\n",
    "  def validate_circuit(self, circuit):\n",
    "      for moment in circuit:\n",
    "          for operation in moment.operations:\n",
    "              self.validate_operation(operation)\n",
    "\n",
    "  def validate_schedule(self, schedule):\n",
    "      for scheduled_operation in schedule.scheduled_operations:\n",
    "          self.validate_scheduled_operation(schedule, scheduled_operation)\n"
   ]
  },
  {
   "cell_type": "markdown",
   "metadata": {},
   "source": [
    "This device, for example, knows that two qubit gates between\n",
    "next-nearest-neighbors are not valid:"
   ]
  },
  {
   "cell_type": "code",
   "execution_count": 9,
   "metadata": {},
   "outputs": [
    {
     "name": "stdout",
     "output_type": "stream",
     "text": [
      "Non-local interaction: cirq.CZ.on(cirq.GridQubit(0, 0), cirq.GridQubit(2, 0))\n"
     ]
    }
   ],
   "source": [
    "device = Xmon10Device()\n",
    "circuit = cirq.Circuit()\n",
    "circuit.append([cirq.CZ(device.qubits[0], device.qubits[2])])\n",
    "try: \n",
    "  device.validate_circuit(circuit)\n",
    "except ValueError as e:\n",
    "  print(e)"
   ]
  },
  {
   "cell_type": "markdown",
   "metadata": {},
   "source": [
    "### Schedules\n",
    "\n",
    "A ``Schedule`` contains more timing information above and beyond\n",
    "that which is provided by the ``Moment`` structure of a ``Circuit``.\n",
    "This can be used both for fine-grained timing control, but also to\n",
    "optimize a circuit for a particular device.  \n",
    "\n",
    "One can work directly with ``Schedules`` or, more common, use a custom scheduler that converts a ``Circuit`` to a ``Schedule``.  \n",
    "\n",
    "A simple example of such a scheduler is the ``moment_by_moment_schedule`` method of ``schedulers.py``.  This scheduler attempts to keep the ``Moment`` structure of the underlying ``Circuit`` as much as possible:\n",
    "each ``Operation`` in a ``Moment`` is scheduled to start at the \n",
    "same time (such a schedule may not be possible, in which case this\n",
    "method raises an exception.)\n",
    "\n",
    "Here, for example, is a simple ``Circuit`` on the ``Xmon10Device`` \n",
    "defined above:"
   ]
  },
  {
   "cell_type": "code",
   "execution_count": 3,
   "metadata": {},
   "outputs": [
    {
     "name": "stdout",
     "output_type": "stream",
     "text": [
      "(0, 0): ───@───X───\n",
      "           │\n",
      "(1, 0): ───@───────\n"
     ]
    }
   ],
   "source": [
    "circuit = cirq.Circuit()\n",
    "circuit.append([cirq.CZ(device.qubits[0], device.qubits[1]), cirq.X(device.qubits[0])])\n",
    "print(circuit)"
   ]
  },
  {
   "cell_type": "markdown",
   "metadata": {},
   "source": [
    "This can be converted over into a schedule using the moment by\n",
    "moment schedule:"
   ]
  },
  {
   "cell_type": "code",
   "execution_count": 4,
   "metadata": {},
   "outputs": [],
   "source": [
    "schedule = cirq.moment_by_moment_schedule(device, circuit)"
   ]
  },
  {
   "cell_type": "markdown",
   "metadata": {},
   "source": [
    "Schedules have an attributed ``scheduled_operations`` which contains\n",
    "all the scheduled operations in a ``SortedListWithKey``, where the\n",
    "key is the start time of the ``SortedOperation``. ``Schedules`` support\n",
    "nice helpers for querying about the time-space layout of the schedule.\n",
    "For instance, the ``Schedule`` behaves as if it has an index corresponding\n",
    "to time.  So, we can look up which operations occur at a specific time"
   ]
  },
  {
   "cell_type": "code",
   "execution_count": 5,
   "metadata": {},
   "outputs": [
    {
     "name": "stdout",
     "output_type": "stream",
     "text": [
      "[cirq.ScheduledOperation(cirq.Timestamp(picos=10000), cirq.Duration(nanos=10), cirq.X.on(cirq.GridQubit(0, 0)))]\n"
     ]
    }
   ],
   "source": [
    "print(schedule[cirq.Timestamp(nanos=15)])"
   ]
  },
  {
   "cell_type": "markdown",
   "metadata": {},
   "source": [
    "or even a start and end time using slicing notation"
   ]
  },
  {
   "cell_type": "code",
   "execution_count": 6,
   "metadata": {},
   "outputs": [
    {
     "name": "stdout",
     "output_type": "stream",
     "text": [
      "True\n"
     ]
    }
   ],
   "source": [
    "slice = schedule[cirq.Timestamp(nanos=5):cirq.Timestamp(nanos=15)]\n",
    "slice_schedule = cirq.Schedule(device, slice)\n",
    "print(slice_schedule == schedule)"
   ]
  },
  {
   "cell_type": "markdown",
   "metadata": {},
   "source": [
    "More complicated queries across ``Schedules`` can be done using the\n",
    "``query``.\n",
    "\n",
    "``Schedules`` are usually built by converting from ``Circuits``,\n",
    "but one can also directly manipulate the schedule using the \n",
    "``include`` and ``exclude`` methods.  ``include`` will check\n",
    "if there are any collisions with other schedule operations."
   ]
  }
 ],
 "metadata": {
  "kernelspec": {
   "display_name": "Python 3",
   "language": "python",
   "name": "python3"
  },
  "language_info": {
   "codemirror_mode": {
    "name": "ipython",
    "version": 3
   },
   "file_extension": ".py",
   "mimetype": "text/x-python",
   "name": "python",
   "nbconvert_exporter": "python",
   "pygments_lexer": "ipython3",
   "version": "3.7.4"
  }
 },
 "nbformat": 4,
 "nbformat_minor": 2
}
