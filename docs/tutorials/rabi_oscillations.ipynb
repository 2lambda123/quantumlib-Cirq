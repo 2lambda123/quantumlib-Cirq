{
 "cells": [
  {
   "cell_type": "markdown",
   "metadata": {
    "id": "zJAHLtnyQah6"
   },
   "source": [
    "##### Copyright 2020 The Cirq Developers"
   ]
  },
  {
   "cell_type": "code",
   "execution_count": 2,
   "metadata": {
    "cellView": "form",
    "id": "zuEmbgh8QaG1"
   },
   "outputs": [],
   "source": [
    "#@title Licensed under the Apache License, Version 2.0 (the \"License\");\n",
    "# you may not use this file except in compliance with the License.\n",
    "# You may obtain a copy of the License at\n",
    "#\n",
    "# https://www.apache.org/licenses/LICENSE-2.0\n",
    "#\n",
    "# Unless required by applicable law or agreed to in writing, software\n",
    "# distributed under the License is distributed on an \"AS IS\" BASIS,\n",
    "# WITHOUT WARRANTIES OR CONDITIONS OF ANY KIND, either express or implied.\n",
    "# See the License for the specific language governing permissions and\n",
    "# limitations under the License."
   ]
  },
  {
   "cell_type": "markdown",
   "metadata": {
    "id": "W31l4SmqQSrM"
   },
   "source": [
    "# Rabi oscillation experiment"
   ]
  },
  {
   "cell_type": "markdown",
   "metadata": {
    "id": "2eDV4QFhQhlO"
   },
   "source": [
    "<table class=\"tfo-notebook-buttons\" align=\"left\">\n",
    "  <td>\n",
    "    <a target=\"_blank\" href=\"https://www.example.org/cirq/tutorials/rabi_oscillations\"><img src=\"https://www.tensorflow.org/images/tf_logo_32px.png\" />View on QuantumLib</a>\n",
    "  </td>\n",
    "  <td>\n",
    "    <a target=\"_blank\" href=\"https://colab.research.google.com/github/quantumlib/Cirq/blob/master/docs/tutorials/rabi_oscillations.ipynb\"><img src=\"https://www.tensorflow.org/images/colab_logo_32px.png\" />Run in Google Colab</a>\n",
    "  </td>\n",
    "  <td>\n",
    "    <a target=\"_blank\" href=\"https://github.com/quantumlib/Cirq/blob/master/docs/tutorials/rabi_oscillations.ipynb\"><img src=\"https://www.tensorflow.org/images/GitHub-Mark-32px.png\" />View source on GitHub</a>\n",
    "  </td>\n",
    "  <td>\n",
    "    <a href=\"https://storage.googleapis.com/tensorflow_docs/Cirq/docs/tutorials/rabi_oscillations.ipynb\"><img src=\"https://www.tensorflow.org/images/download_logo_32px.png\" />Download notebook</a>\n",
    "  </td>\n",
    "</table>"
   ]
  },
  {
   "cell_type": "code",
   "execution_count": 3,
   "metadata": {
    "id": "B48YJv5c6SNC"
   },
   "outputs": [],
   "source": [
    "import importlib.util\n",
    "\n",
    "if importlib.util.find_spec('cirq') is None: \n",
    "    !pip install --quiet cirq"
   ]
  },
  {
   "cell_type": "markdown",
   "metadata": {
    "id": "kL2C06ln6h48"
   },
   "source": [
    "In this experiment, you are going to use Cirq to check that rotating a qubit by an increasing angle, and then measuring the qubit, produces Rabi oscillations. This requires you to do the following things:\n",
    "\n",
    "1. Prepare the $|0\\rangle$ state.\n",
    "2. Rotate by an angle $\\theta$ around the $X$ axis.\n",
    "3. Measure to see if the result is a 1 or a 0.\n",
    "4. Repeat steps 1-3 $k$ times.\n",
    "5. Report the fraction of $\\frac{\\text{Number of 1's}}{k}$\n",
    "found in step 3."
   ]
  },
  {
   "cell_type": "markdown",
   "metadata": {
    "id": "ACqqV6tJ7xXp"
   },
   "source": [
    "## 1. Getting to know Cirq\n",
    "\n",
    "Cirq emphasizes the details of implementing quantum algorithms on near term devices.\n",
    "For example, when you work on a qubit in Cirq you don't operate on an unspecified qubit that will later be mapped onto a device by a hidden step.\n",
    "Instead, you are always operating on specific qubits at specific locations that you specify.\n",
    "\n",
    "Suppose you are working with a 54 qubit Sycamore chip.\n",
    "This device is included in Cirq by default.\n",
    "It is called `cirq.google.Sycamore`, and you can see its layout by printing it."
   ]
  },
  {
   "cell_type": "code",
   "execution_count": 4,
   "metadata": {
    "id": "rKoMKEw46XY7"
   },
   "outputs": [
    {
     "name": "stdout",
     "output_type": "stream",
     "text": [
      "                                             (0, 5)───(0, 6)\n",
      "                                             │        │\n",
      "                                             │        │\n",
      "                                    (1, 4)───(1, 5)───(1, 6)───(1, 7)\n",
      "                                    │        │        │        │\n",
      "                                    │        │        │        │\n",
      "                           (2, 3)───(2, 4)───(2, 5)───(2, 6)───(2, 7)───(2, 8)\n",
      "                           │        │        │        │        │        │\n",
      "                           │        │        │        │        │        │\n",
      "                  (3, 2)───(3, 3)───(3, 4)───(3, 5)───(3, 6)───(3, 7)───(3, 8)───(3, 9)\n",
      "                  │        │        │        │        │        │        │        │\n",
      "                  │        │        │        │        │        │        │        │\n",
      "         (4, 1)───(4, 2)───(4, 3)───(4, 4)───(4, 5)───(4, 6)───(4, 7)───(4, 8)───(4, 9)\n",
      "         │        │        │        │        │        │        │        │\n",
      "         │        │        │        │        │        │        │        │\n",
      "(5, 0)───(5, 1)───(5, 2)───(5, 3)───(5, 4)───(5, 5)───(5, 6)───(5, 7)───(5, 8)\n",
      "         │        │        │        │        │        │        │\n",
      "         │        │        │        │        │        │        │\n",
      "         (6, 1)───(6, 2)───(6, 3)───(6, 4)───(6, 5)───(6, 6)───(6, 7)\n",
      "                  │        │        │        │        │\n",
      "                  │        │        │        │        │\n",
      "                  (7, 2)───(7, 3)───(7, 4)───(7, 5)───(7, 6)\n",
      "                           │        │        │\n",
      "                           │        │        │\n",
      "                           (8, 3)───(8, 4)───(8, 5)\n",
      "                                    │\n",
      "                                    │\n",
      "                                    (9, 4)\n"
     ]
    }
   ],
   "source": [
    "import cirq\n",
    "working_device = cirq.google.Sycamore\n",
    "print(working_device)"
   ]
  },
  {
   "cell_type": "markdown",
   "metadata": {
    "id": "FJJEbuk-98Gj"
   },
   "source": [
    "For this experiment you only need one qubit and you can just pick whichever one you like."
   ]
  },
  {
   "cell_type": "code",
   "execution_count": 5,
   "metadata": {
    "id": "XoXekxuQ8bI0"
   },
   "outputs": [],
   "source": [
    "my_qubit = cirq.GridQubit(5, 6)"
   ]
  },
  {
   "cell_type": "markdown",
   "metadata": {
    "id": "8Tucm7os-uET"
   },
   "source": [
    "Once you've chosen your qubit you can build circuits that use it."
   ]
  },
  {
   "cell_type": "code",
   "execution_count": 6,
   "metadata": {
    "id": "niH8sty--Hu0"
   },
   "outputs": [
    {
     "data": {
      "image/svg+xml": [
       "<svg xmlns=\"http://www.w3.org/2000/svg\" width=\"262.692109375\" height=\"50.0\"><line x1=\"32.246796875\" x2=\"232.692109375\" y1=\"25.0\" y2=\"25.0\" stroke=\"#1967d2\" stroke-width=\"1\" /><rect x=\"10.0\" y=\"5.0\" width=\"44.49359375\" height=\"40\" stroke=\"black\" fill=\"white\" stroke-width=\"0\" /><text x=\"32.246796875\" y=\"25.0\" dominant-baseline=\"middle\" text-anchor=\"middle\" font-size=\"14px\" font-family=\"Arial\">(5, 6): </text><rect x=\"74.49359375\" y=\"5.0\" width=\"63.9494921875\" height=\"40\" stroke=\"black\" fill=\"white\" stroke-width=\"1\" /><text x=\"106.46833984375\" y=\"25.0\" dominant-baseline=\"middle\" text-anchor=\"middle\" font-size=\"14px\" font-family=\"Arial\">Rx(0.5π)</text><rect x=\"158.4430859375\" y=\"5.0\" width=\"54.2490234375\" height=\"40\" stroke=\"black\" fill=\"white\" stroke-width=\"1\" /><text x=\"185.56759765625\" y=\"25.0\" dominant-baseline=\"middle\" text-anchor=\"middle\" font-size=\"14px\" font-family=\"Arial\">M('out')</text></svg>"
      ],
      "text/plain": [
       "<cirq.contrib.svg.svg.SVGCircuit at 0x7f97e0265040>"
      ]
     },
     "execution_count": 6,
     "metadata": {},
     "output_type": "execute_result"
    }
   ],
   "source": [
    "from cirq.contrib.svg import SVGCircuit\n",
    "\n",
    "# Create a circuit with X, Ry(pi/2) and H.\n",
    "my_circuit = cirq.Circuit(\n",
    "    # Rotate the qubit pi/2 radians around the X axis.\n",
    "    cirq.rx(3.141 / 2).on(my_qubit),\n",
    "    # Measure the qubit.\n",
    "    cirq.measure(my_qubit, key='out')\n",
    ")\n",
    "SVGCircuit(my_circuit)"
   ]
  },
  {
   "cell_type": "markdown",
   "metadata": {
    "id": "-zbI-2KUMU66"
   },
   "source": [
    "Now you can simulate sampling from your circuit using `cirq.Simulator`."
   ]
  },
  {
   "cell_type": "code",
   "execution_count": 7,
   "metadata": {
    "id": "IqUn4uv9_IVo"
   },
   "outputs": [
    {
     "data": {
      "text/html": [
       "<div>\n",
       "<style scoped>\n",
       "    .dataframe tbody tr th:only-of-type {\n",
       "        vertical-align: middle;\n",
       "    }\n",
       "\n",
       "    .dataframe tbody tr th {\n",
       "        vertical-align: top;\n",
       "    }\n",
       "\n",
       "    .dataframe thead th {\n",
       "        text-align: right;\n",
       "    }\n",
       "</style>\n",
       "<table border=\"1\" class=\"dataframe\">\n",
       "  <thead>\n",
       "    <tr style=\"text-align: right;\">\n",
       "      <th></th>\n",
       "      <th>out</th>\n",
       "    </tr>\n",
       "  </thead>\n",
       "  <tbody>\n",
       "    <tr>\n",
       "      <th>0</th>\n",
       "      <td>1</td>\n",
       "    </tr>\n",
       "    <tr>\n",
       "      <th>1</th>\n",
       "      <td>0</td>\n",
       "    </tr>\n",
       "    <tr>\n",
       "      <th>2</th>\n",
       "      <td>0</td>\n",
       "    </tr>\n",
       "    <tr>\n",
       "      <th>3</th>\n",
       "      <td>0</td>\n",
       "    </tr>\n",
       "    <tr>\n",
       "      <th>4</th>\n",
       "      <td>1</td>\n",
       "    </tr>\n",
       "    <tr>\n",
       "      <th>5</th>\n",
       "      <td>0</td>\n",
       "    </tr>\n",
       "    <tr>\n",
       "      <th>6</th>\n",
       "      <td>1</td>\n",
       "    </tr>\n",
       "    <tr>\n",
       "      <th>7</th>\n",
       "      <td>1</td>\n",
       "    </tr>\n",
       "    <tr>\n",
       "      <th>8</th>\n",
       "      <td>0</td>\n",
       "    </tr>\n",
       "    <tr>\n",
       "      <th>9</th>\n",
       "      <td>0</td>\n",
       "    </tr>\n",
       "  </tbody>\n",
       "</table>\n",
       "</div>"
      ],
      "text/plain": [
       "   out\n",
       "0    1\n",
       "1    0\n",
       "2    0\n",
       "3    0\n",
       "4    1\n",
       "5    0\n",
       "6    1\n",
       "7    1\n",
       "8    0\n",
       "9    0"
      ]
     },
     "execution_count": 7,
     "metadata": {},
     "output_type": "execute_result"
    }
   ],
   "source": [
    "sim = cirq.Simulator()\n",
    "samples = sim.sample(my_circuit, repetitions=10)\n",
    "samples"
   ]
  },
  {
   "cell_type": "markdown",
   "metadata": {
    "id": "k-uAT6sHdGib"
   },
   "source": [
    "You can also get properties of the circuit, such as the density matrix of the circuit's output or the state vector just before the terminal measurement."
   ]
  },
  {
   "cell_type": "code",
   "execution_count": 8,
   "metadata": {
    "id": "83OqpReyHyUK"
   },
   "outputs": [
    {
     "name": "stdout",
     "output_type": "stream",
     "text": [
      "State before measurement:\n",
      "measurements: (no measurements)\n",
      "output vector: 0.707|0⟩ - 0.707j|1⟩\n",
      "State after measurement:\n",
      "measurements: out=1\n",
      "output vector: -1j|1⟩\n"
     ]
    }
   ],
   "source": [
    "state_vector_before_measurement = sim.simulate(my_circuit[:-1])\n",
    "sampled_state_vector_after_measurement = sim.simulate(my_circuit)\n",
    "\n",
    "print(f'State before measurement:')\n",
    "print(state_vector_before_measurement)\n",
    "print(f'State after measurement:')\n",
    "print(sampled_state_vector_after_measurement)\n"
   ]
  },
  {
   "cell_type": "markdown",
   "metadata": {
    "id": "1raIf8dsWHLJ"
   },
   "source": [
    "You can also examine the outputs from a noisy environment.\n",
    "For example, an environment where 10% depolarization is applied to each qubit after each operation in the circuit:"
   ]
  },
  {
   "cell_type": "code",
   "execution_count": 9,
   "metadata": {
    "id": "P7VW97ugWE_h"
   },
   "outputs": [
    {
     "name": "stdout",
     "output_type": "stream",
     "text": [
      "Noisy state after measurement:measurements: out=1\n",
      "final density matrix:\n",
      "[[0.06666666+0.j 0.        +0.j]\n",
      " [0.        +0.j 0.9333334 +0.j]]\n",
      "Noisy state before measurement:measurements: (no measurements)\n",
      "final density matrix:\n",
      "[[0.50012845+0.j         0.        +0.43333334j]\n",
      " [0.        -0.43333334j 0.49987155+0.j        ]]\n"
     ]
    }
   ],
   "source": [
    "noisy_sim = cirq.DensityMatrixSimulator(noise=cirq.depolarize(0.1))\n",
    "noisy_post_measurement_state = noisy_sim.simulate(my_circuit)\n",
    "noisy_pre_measurement_state = noisy_sim.simulate(my_circuit[:-1])\n",
    "\n",
    "print('Noisy state after measurement:' + str(noisy_post_measurement_state))\n",
    "print('Noisy state before measurement:' + str(noisy_pre_measurement_state))"
   ]
  },
  {
   "cell_type": "markdown",
   "metadata": {
    "id": "2h6yoOl4Rmwt"
   },
   "source": [
    "## 2. Parameterized Circuits and Sweeps\n",
    "\n",
    "Now that you have some of the basics end to end, you can create a parameterized circuit that rotates by an angle $\\theta$:"
   ]
  },
  {
   "cell_type": "code",
   "execution_count": 10,
   "metadata": {
    "id": "n6h6yuyGM58s"
   },
   "outputs": [
    {
     "data": {
      "image/svg+xml": [
       "<svg xmlns=\"http://www.w3.org/2000/svg\" width=\"264.7087109375\" height=\"50.0\"><line x1=\"32.246796875\" x2=\"234.7087109375\" y1=\"25.0\" y2=\"25.0\" stroke=\"#1967d2\" stroke-width=\"1\" /><rect x=\"10.0\" y=\"5.0\" width=\"44.49359375\" height=\"40\" stroke=\"black\" fill=\"white\" stroke-width=\"0\" /><text x=\"32.246796875\" y=\"25.0\" dominant-baseline=\"middle\" text-anchor=\"middle\" font-size=\"14px\" font-family=\"Arial\">(5, 6): </text><rect x=\"74.49359375\" y=\"5.0\" width=\"65.96609375\" height=\"40\" stroke=\"black\" fill=\"white\" stroke-width=\"1\" /><text x=\"107.476640625\" y=\"25.0\" dominant-baseline=\"middle\" text-anchor=\"middle\" font-size=\"14px\" font-family=\"Arial\">Rx(theta)</text><rect x=\"160.4596875\" y=\"5.0\" width=\"54.2490234375\" height=\"40\" stroke=\"black\" fill=\"white\" stroke-width=\"1\" /><text x=\"187.58419921875\" y=\"25.0\" dominant-baseline=\"middle\" text-anchor=\"middle\" font-size=\"14px\" font-family=\"Arial\">M('out')</text></svg>"
      ],
      "text/plain": [
       "<cirq.contrib.svg.svg.SVGCircuit at 0x7f97e03d58e0>"
      ]
     },
     "execution_count": 10,
     "metadata": {},
     "output_type": "execute_result"
    }
   ],
   "source": [
    "import sympy\n",
    "theta = sympy.Symbol('theta')\n",
    "\n",
    "parameterized_circuit = cirq.Circuit(\n",
    "    cirq.rx(theta).on(my_qubit),\n",
    "    cirq.measure(my_qubit, key='out')\n",
    ")\n",
    "SVGCircuit(parameterized_circuit)"
   ]
  },
  {
   "cell_type": "markdown",
   "metadata": {
    "id": "rU3BBOp0S4sM"
   },
   "source": [
    "In the above block you saw that there is a `sympy.Symbol` that you placed in the circuit. Cirq supports symbolic computation involving circuits. What this means is that when you construct `cirq.Circuit` objects you can put placeholders in many of the classical control parameters of the circuit which you can fill with values later on.\n",
    "\n",
    "Now if you wanted to use `cirq.simulate` or `cirq.sample` with the parameterized circuit you would also need to specify a value for `theta`."
   ]
  },
  {
   "cell_type": "code",
   "execution_count": 11,
   "metadata": {
    "id": "SMdz-yAZSwrU"
   },
   "outputs": [
    {
     "data": {
      "text/html": [
       "<div>\n",
       "<style scoped>\n",
       "    .dataframe tbody tr th:only-of-type {\n",
       "        vertical-align: middle;\n",
       "    }\n",
       "\n",
       "    .dataframe tbody tr th {\n",
       "        vertical-align: top;\n",
       "    }\n",
       "\n",
       "    .dataframe thead th {\n",
       "        text-align: right;\n",
       "    }\n",
       "</style>\n",
       "<table border=\"1\" class=\"dataframe\">\n",
       "  <thead>\n",
       "    <tr style=\"text-align: right;\">\n",
       "      <th></th>\n",
       "      <th>theta</th>\n",
       "      <th>out</th>\n",
       "    </tr>\n",
       "  </thead>\n",
       "  <tbody>\n",
       "    <tr>\n",
       "      <th>0</th>\n",
       "      <td>2</td>\n",
       "      <td>1</td>\n",
       "    </tr>\n",
       "    <tr>\n",
       "      <th>1</th>\n",
       "      <td>2</td>\n",
       "      <td>0</td>\n",
       "    </tr>\n",
       "    <tr>\n",
       "      <th>2</th>\n",
       "      <td>2</td>\n",
       "      <td>0</td>\n",
       "    </tr>\n",
       "    <tr>\n",
       "      <th>3</th>\n",
       "      <td>2</td>\n",
       "      <td>1</td>\n",
       "    </tr>\n",
       "    <tr>\n",
       "      <th>4</th>\n",
       "      <td>2</td>\n",
       "      <td>1</td>\n",
       "    </tr>\n",
       "    <tr>\n",
       "      <th>5</th>\n",
       "      <td>2</td>\n",
       "      <td>1</td>\n",
       "    </tr>\n",
       "    <tr>\n",
       "      <th>6</th>\n",
       "      <td>2</td>\n",
       "      <td>0</td>\n",
       "    </tr>\n",
       "    <tr>\n",
       "      <th>7</th>\n",
       "      <td>2</td>\n",
       "      <td>1</td>\n",
       "    </tr>\n",
       "    <tr>\n",
       "      <th>8</th>\n",
       "      <td>2</td>\n",
       "      <td>1</td>\n",
       "    </tr>\n",
       "    <tr>\n",
       "      <th>9</th>\n",
       "      <td>2</td>\n",
       "      <td>0</td>\n",
       "    </tr>\n",
       "  </tbody>\n",
       "</table>\n",
       "</div>"
      ],
      "text/plain": [
       "   theta  out\n",
       "0      2    1\n",
       "1      2    0\n",
       "2      2    0\n",
       "3      2    1\n",
       "4      2    1\n",
       "5      2    1\n",
       "6      2    0\n",
       "7      2    1\n",
       "8      2    1\n",
       "9      2    0"
      ]
     },
     "execution_count": 11,
     "metadata": {},
     "output_type": "execute_result"
    }
   ],
   "source": [
    "samples_at_theta_equals_2 = sim.sample(\n",
    "    parameterized_circuit, \n",
    "    params={theta: 2}, \n",
    "    repetitions=10)\n",
    "samples_at_theta_equals_2"
   ]
  },
  {
   "cell_type": "markdown",
   "metadata": {
    "id": "H_H13Hc8g873"
   },
   "source": [
    "You can also specify *multiple* values of `theta`, and get samples back for each value."
   ]
  },
  {
   "cell_type": "code",
   "execution_count": 12,
   "metadata": {
    "id": "0zjZxGY6hIsu"
   },
   "outputs": [
    {
     "data": {
      "text/html": [
       "<div>\n",
       "<style scoped>\n",
       "    .dataframe tbody tr th:only-of-type {\n",
       "        vertical-align: middle;\n",
       "    }\n",
       "\n",
       "    .dataframe tbody tr th {\n",
       "        vertical-align: top;\n",
       "    }\n",
       "\n",
       "    .dataframe thead th {\n",
       "        text-align: right;\n",
       "    }\n",
       "</style>\n",
       "<table border=\"1\" class=\"dataframe\">\n",
       "  <thead>\n",
       "    <tr style=\"text-align: right;\">\n",
       "      <th></th>\n",
       "      <th>theta</th>\n",
       "      <th>out</th>\n",
       "    </tr>\n",
       "  </thead>\n",
       "  <tbody>\n",
       "    <tr>\n",
       "      <th>0</th>\n",
       "      <td>0.500</td>\n",
       "      <td>0</td>\n",
       "    </tr>\n",
       "    <tr>\n",
       "      <th>1</th>\n",
       "      <td>0.500</td>\n",
       "      <td>1</td>\n",
       "    </tr>\n",
       "    <tr>\n",
       "      <th>2</th>\n",
       "      <td>0.500</td>\n",
       "      <td>0</td>\n",
       "    </tr>\n",
       "    <tr>\n",
       "      <th>3</th>\n",
       "      <td>0.500</td>\n",
       "      <td>0</td>\n",
       "    </tr>\n",
       "    <tr>\n",
       "      <th>4</th>\n",
       "      <td>0.500</td>\n",
       "      <td>0</td>\n",
       "    </tr>\n",
       "    <tr>\n",
       "      <th>5</th>\n",
       "      <td>0.500</td>\n",
       "      <td>0</td>\n",
       "    </tr>\n",
       "    <tr>\n",
       "      <th>6</th>\n",
       "      <td>0.500</td>\n",
       "      <td>0</td>\n",
       "    </tr>\n",
       "    <tr>\n",
       "      <th>7</th>\n",
       "      <td>0.500</td>\n",
       "      <td>0</td>\n",
       "    </tr>\n",
       "    <tr>\n",
       "      <th>8</th>\n",
       "      <td>0.500</td>\n",
       "      <td>0</td>\n",
       "    </tr>\n",
       "    <tr>\n",
       "      <th>9</th>\n",
       "      <td>0.500</td>\n",
       "      <td>0</td>\n",
       "    </tr>\n",
       "    <tr>\n",
       "      <th>0</th>\n",
       "      <td>3.141</td>\n",
       "      <td>1</td>\n",
       "    </tr>\n",
       "    <tr>\n",
       "      <th>1</th>\n",
       "      <td>3.141</td>\n",
       "      <td>1</td>\n",
       "    </tr>\n",
       "    <tr>\n",
       "      <th>2</th>\n",
       "      <td>3.141</td>\n",
       "      <td>1</td>\n",
       "    </tr>\n",
       "    <tr>\n",
       "      <th>3</th>\n",
       "      <td>3.141</td>\n",
       "      <td>1</td>\n",
       "    </tr>\n",
       "    <tr>\n",
       "      <th>4</th>\n",
       "      <td>3.141</td>\n",
       "      <td>1</td>\n",
       "    </tr>\n",
       "    <tr>\n",
       "      <th>5</th>\n",
       "      <td>3.141</td>\n",
       "      <td>1</td>\n",
       "    </tr>\n",
       "    <tr>\n",
       "      <th>6</th>\n",
       "      <td>3.141</td>\n",
       "      <td>1</td>\n",
       "    </tr>\n",
       "    <tr>\n",
       "      <th>7</th>\n",
       "      <td>3.141</td>\n",
       "      <td>1</td>\n",
       "    </tr>\n",
       "    <tr>\n",
       "      <th>8</th>\n",
       "      <td>3.141</td>\n",
       "      <td>1</td>\n",
       "    </tr>\n",
       "    <tr>\n",
       "      <th>9</th>\n",
       "      <td>3.141</td>\n",
       "      <td>1</td>\n",
       "    </tr>\n",
       "  </tbody>\n",
       "</table>\n",
       "</div>"
      ],
      "text/plain": [
       "   theta  out\n",
       "0  0.500    0\n",
       "1  0.500    1\n",
       "2  0.500    0\n",
       "3  0.500    0\n",
       "4  0.500    0\n",
       "5  0.500    0\n",
       "6  0.500    0\n",
       "7  0.500    0\n",
       "8  0.500    0\n",
       "9  0.500    0\n",
       "0  3.141    1\n",
       "1  3.141    1\n",
       "2  3.141    1\n",
       "3  3.141    1\n",
       "4  3.141    1\n",
       "5  3.141    1\n",
       "6  3.141    1\n",
       "7  3.141    1\n",
       "8  3.141    1\n",
       "9  3.141    1"
      ]
     },
     "execution_count": 12,
     "metadata": {},
     "output_type": "execute_result"
    }
   ],
   "source": [
    "samples_at_multiple_theta = sim.sample(\n",
    "    parameterized_circuit, \n",
    "    params=[{theta: 0.5}, {theta: 3.141}], \n",
    "    repetitions=10)\n",
    "samples_at_multiple_theta"
   ]
  },
  {
   "cell_type": "markdown",
   "metadata": {
    "id": "juuWvOEphaaE"
   },
   "source": [
    "Cirq has shorthand notation you can use to sweep `theta` over a range of values."
   ]
  },
  {
   "cell_type": "code",
   "execution_count": 13,
   "metadata": {
    "id": "8lCb3049hqXn"
   },
   "outputs": [
    {
     "data": {
      "text/html": [
       "<div>\n",
       "<style scoped>\n",
       "    .dataframe tbody tr th:only-of-type {\n",
       "        vertical-align: middle;\n",
       "    }\n",
       "\n",
       "    .dataframe tbody tr th {\n",
       "        vertical-align: top;\n",
       "    }\n",
       "\n",
       "    .dataframe thead th {\n",
       "        text-align: right;\n",
       "    }\n",
       "</style>\n",
       "<table border=\"1\" class=\"dataframe\">\n",
       "  <thead>\n",
       "    <tr style=\"text-align: right;\">\n",
       "      <th></th>\n",
       "      <th>theta</th>\n",
       "      <th>out</th>\n",
       "    </tr>\n",
       "  </thead>\n",
       "  <tbody>\n",
       "    <tr>\n",
       "      <th>0</th>\n",
       "      <td>0.000000</td>\n",
       "      <td>0</td>\n",
       "    </tr>\n",
       "    <tr>\n",
       "      <th>1</th>\n",
       "      <td>0.000000</td>\n",
       "      <td>0</td>\n",
       "    </tr>\n",
       "    <tr>\n",
       "      <th>2</th>\n",
       "      <td>0.000000</td>\n",
       "      <td>0</td>\n",
       "    </tr>\n",
       "    <tr>\n",
       "      <th>3</th>\n",
       "      <td>0.000000</td>\n",
       "      <td>0</td>\n",
       "    </tr>\n",
       "    <tr>\n",
       "      <th>4</th>\n",
       "      <td>0.000000</td>\n",
       "      <td>0</td>\n",
       "    </tr>\n",
       "    <tr>\n",
       "      <th>0</th>\n",
       "      <td>0.785397</td>\n",
       "      <td>1</td>\n",
       "    </tr>\n",
       "    <tr>\n",
       "      <th>1</th>\n",
       "      <td>0.785397</td>\n",
       "      <td>1</td>\n",
       "    </tr>\n",
       "    <tr>\n",
       "      <th>2</th>\n",
       "      <td>0.785397</td>\n",
       "      <td>0</td>\n",
       "    </tr>\n",
       "    <tr>\n",
       "      <th>3</th>\n",
       "      <td>0.785397</td>\n",
       "      <td>0</td>\n",
       "    </tr>\n",
       "    <tr>\n",
       "      <th>4</th>\n",
       "      <td>0.785397</td>\n",
       "      <td>0</td>\n",
       "    </tr>\n",
       "    <tr>\n",
       "      <th>0</th>\n",
       "      <td>1.570795</td>\n",
       "      <td>0</td>\n",
       "    </tr>\n",
       "    <tr>\n",
       "      <th>1</th>\n",
       "      <td>1.570795</td>\n",
       "      <td>0</td>\n",
       "    </tr>\n",
       "    <tr>\n",
       "      <th>2</th>\n",
       "      <td>1.570795</td>\n",
       "      <td>0</td>\n",
       "    </tr>\n",
       "    <tr>\n",
       "      <th>3</th>\n",
       "      <td>1.570795</td>\n",
       "      <td>1</td>\n",
       "    </tr>\n",
       "    <tr>\n",
       "      <th>4</th>\n",
       "      <td>1.570795</td>\n",
       "      <td>1</td>\n",
       "    </tr>\n",
       "    <tr>\n",
       "      <th>0</th>\n",
       "      <td>2.356192</td>\n",
       "      <td>1</td>\n",
       "    </tr>\n",
       "    <tr>\n",
       "      <th>1</th>\n",
       "      <td>2.356192</td>\n",
       "      <td>1</td>\n",
       "    </tr>\n",
       "    <tr>\n",
       "      <th>2</th>\n",
       "      <td>2.356192</td>\n",
       "      <td>1</td>\n",
       "    </tr>\n",
       "    <tr>\n",
       "      <th>3</th>\n",
       "      <td>2.356192</td>\n",
       "      <td>1</td>\n",
       "    </tr>\n",
       "    <tr>\n",
       "      <th>4</th>\n",
       "      <td>2.356192</td>\n",
       "      <td>1</td>\n",
       "    </tr>\n",
       "    <tr>\n",
       "      <th>0</th>\n",
       "      <td>3.141590</td>\n",
       "      <td>1</td>\n",
       "    </tr>\n",
       "    <tr>\n",
       "      <th>1</th>\n",
       "      <td>3.141590</td>\n",
       "      <td>1</td>\n",
       "    </tr>\n",
       "    <tr>\n",
       "      <th>2</th>\n",
       "      <td>3.141590</td>\n",
       "      <td>1</td>\n",
       "    </tr>\n",
       "    <tr>\n",
       "      <th>3</th>\n",
       "      <td>3.141590</td>\n",
       "      <td>1</td>\n",
       "    </tr>\n",
       "    <tr>\n",
       "      <th>4</th>\n",
       "      <td>3.141590</td>\n",
       "      <td>1</td>\n",
       "    </tr>\n",
       "  </tbody>\n",
       "</table>\n",
       "</div>"
      ],
      "text/plain": [
       "      theta  out\n",
       "0  0.000000    0\n",
       "1  0.000000    0\n",
       "2  0.000000    0\n",
       "3  0.000000    0\n",
       "4  0.000000    0\n",
       "0  0.785397    1\n",
       "1  0.785397    1\n",
       "2  0.785397    0\n",
       "3  0.785397    0\n",
       "4  0.785397    0\n",
       "0  1.570795    0\n",
       "1  1.570795    0\n",
       "2  1.570795    0\n",
       "3  1.570795    1\n",
       "4  1.570795    1\n",
       "0  2.356192    1\n",
       "1  2.356192    1\n",
       "2  2.356192    1\n",
       "3  2.356192    1\n",
       "4  2.356192    1\n",
       "0  3.141590    1\n",
       "1  3.141590    1\n",
       "2  3.141590    1\n",
       "3  3.141590    1\n",
       "4  3.141590    1"
      ]
     },
     "execution_count": 13,
     "metadata": {},
     "output_type": "execute_result"
    }
   ],
   "source": [
    "samples_at_swept_theta = sim.sample(\n",
    "    parameterized_circuit, \n",
    "    params=cirq.Linspace(theta, start=0, stop=3.14159, length=5), \n",
    "    repetitions=5)\n",
    "samples_at_swept_theta"
   ]
  },
  {
   "cell_type": "markdown",
   "metadata": {
    "id": "wqaORMoKiAIW"
   },
   "source": [
    "The result value being returned by `sim.sample` is a `pandas.DataFrame` object.\n",
    "Pandas is a common library for working with table data in python.\n",
    "You can use standard pandas methods to analyze and summarize your results."
   ]
  },
  {
   "cell_type": "code",
   "execution_count": 14,
   "metadata": {
    "id": "bLzGV8nFiS9o"
   },
   "outputs": [
    {
     "data": {
      "text/plain": [
       "<AxesSubplot:xlabel='theta'>"
      ]
     },
     "execution_count": 14,
     "metadata": {},
     "output_type": "execute_result"
    },
    {
     "data": {
      "image/png": "[encoded data removed]",
      "text/plain": [
       "<Figure size 432x288 with 1 Axes>"
      ]
     },
     "metadata": {
      "needs_background": "light"
     },
     "output_type": "display_data"
    }
   ],
   "source": [
    "import pandas\n",
    "\n",
    "big_results = sim.sample(\n",
    "    parameterized_circuit, \n",
    "    params=cirq.Linspace(theta, start=0, stop=3.14159, length=20), \n",
    "    repetitions=10_000)\n",
    "\n",
    "# big_results is too big to look at. Plot cross tabulated data instead.\n",
    "pandas.crosstab(big_results.theta, big_results.out).plot()"
   ]
  },
  {
   "cell_type": "markdown",
   "metadata": {
    "id": "b2TkL28AmBSQ"
   },
   "source": [
    "## 3. The built-in experiment\n",
    "\n",
    "Cirq comes with a pre-written Rabi oscillation experiment `cirq.experiments.rabi_oscillations`.\n",
    "This method takes a `cirq.Sampler`, which could be a simulator or a network connection to real hardware.\n",
    "The method takes a few more experimental parameters, and returns a result object\n",
    "that can be plotted."
   ]
  },
  {
   "cell_type": "code",
   "execution_count": 15,
   "metadata": {
    "id": "ma0pVZwSThQx"
   },
   "outputs": [
    {
     "name": "stderr",
     "output_type": "stream",
     "text": [
      "/Users/balintp/envs/cirq38/lib/python3.8/site-packages/cirq/experiments/qubit_characterizations.py:79: UserWarning: Matplotlib is currently using module://ipykernel.pylab.backend_inline, which is a non-GUI backend, so cannot show the figure.\n",
      "  fig.show()\n"
     ]
    },
    {
     "data": {
      "text/plain": [
       "<AxesSubplot:xlabel='Rabi Angle (Radian)', ylabel='Excited State Probability'>"
      ]
     },
     "execution_count": 15,
     "metadata": {},
     "output_type": "execute_result"
    },
    {
     "data": {
      "image/png": "[encoded data removed]",
      "text/plain": [
       "<Figure size 576x576 with 1 Axes>"
      ]
     },
     "metadata": {
      "needs_background": "light"
     },
     "output_type": "display_data"
    }
   ],
   "source": [
    "import datetime\n",
    "\n",
    "result = cirq.experiments.rabi_oscillations(\n",
    "    sampler=noisy_sim,\n",
    "    qubit=my_qubit,\n",
    "    num_points=50,\n",
    "    repetitions=10000)\n",
    "result.plot()"
   ]
  },
  {
   "cell_type": "markdown",
   "metadata": {
    "id": "U-oezaJAnzJ8"
   },
   "source": [
    "Notice that you can tell from the plot that you used the noisy simulator you defined earlier.\n",
    "You can also tell that the amount of depolarization is roughly 10%."
   ]
  },
  {
   "cell_type": "markdown",
   "metadata": {
    "id": "V6uE-yFxoT-3"
   },
   "source": [
    "## 4. Exercise: Find the best qubit\n",
    "\n",
    "As you have seen, you can use Cirq to perform a Rabi oscillation experiment.\n",
    "You can either make the experiment yourself out of the basic pieces made available by Cirq, or use the prebuilt experiment method.\n",
    "\n",
    "Now you're going to put this knowledge to the test.\n",
    "\n",
    "There is some amount of depolarizing noise on each qubit.\n",
    "Your goal is to characterize every qubit from the Sycamore chip using a Rabi oscillation experiment, and find the qubit with the lowest noise according to the secret noise model."
   ]
  },
  {
   "cell_type": "code",
   "execution_count": 16,
   "metadata": {
    "id": "-eISq1eqXYWx"
   },
   "outputs": [],
   "source": [
    "import hashlib\n",
    "\n",
    "class SecretNoiseModel(cirq.NoiseModel):\n",
    "    def noisy_operation(self, op):\n",
    "        # Hey! No peeking!\n",
    "        q = op.qubits[0]\n",
    "        v = hashlib.sha256(str(q).encode()).digest()[0] / 256\n",
    "        yield cirq.depolarize(v).on(q)\n",
    "        yield op\n",
    "\n",
    "secret_noise_sampler = cirq.DensityMatrixSimulator(noise=SecretNoiseModel())"
   ]
  },
  {
   "cell_type": "code",
   "execution_count": 17,
   "metadata": {
    "id": "Rvf87Wqrp-lu"
   },
   "outputs": [
    {
     "name": "stdout",
     "output_type": "stream",
     "text": [
      "qubit cirq.GridQubit(1, 5)\n"
     ]
    },
    {
     "name": "stderr",
     "output_type": "stream",
     "text": [
      "/Users/balintp/envs/cirq38/lib/python3.8/site-packages/cirq/experiments/qubit_characterizations.py:79: UserWarning: Matplotlib is currently using module://ipykernel.pylab.backend_inline, which is a non-GUI backend, so cannot show the figure.\n",
      "  fig.show()\n"
     ]
    },
    {
     "data": {
      "text/plain": [
       "<AxesSubplot:xlabel='Rabi Angle (Radian)', ylabel='Excited State Probability'>"
      ]
     },
     "execution_count": 17,
     "metadata": {},
     "output_type": "execute_result"
    },
    {
     "data": {
      "image/png": "[encoded data removed]",
      "text/plain": [
       "<Figure size 576x576 with 1 Axes>"
      ]
     },
     "metadata": {
      "needs_background": "light"
     },
     "output_type": "display_data"
    }
   ],
   "source": [
    "q = cirq.google.Sycamore.qubits[3]\n",
    "print('qubit', repr(q))\n",
    "cirq.experiments.rabi_oscillations(\n",
    "    sampler=secret_noise_sampler,\n",
    "    qubit=q\n",
    ").plot()"
   ]
  }
 ],
 "metadata": {
  "colab": {
   "collapsed_sections": [
    "V6uE-yFxoT-3"
   ],
   "name": "rabi_oscillations.ipynb",
   "toc_visible": true
  },
  "kernelspec": {
   "display_name": "Python 3",
   "name": "python3"
  }
 },
 "nbformat": 4,
 "nbformat_minor": 0
}
