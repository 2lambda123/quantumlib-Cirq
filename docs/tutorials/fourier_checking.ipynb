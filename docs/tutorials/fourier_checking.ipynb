{
 "cells": [
  {
   "cell_type": "markdown",
   "metadata": {
    "id": "view-in-github"
   },
   "source": [
    "<a href=\"https://colab.research.google.com/github/ybc1991/Cirq/blob/forrelation/docs/tutorials/fourier_checking.ipynb\" target=\"_parent\"><img src=\"https://colab.research.google.com/assets/colab-badge.svg\" alt=\"Open In Colab\"/></a>"
   ]
  },
  {
   "cell_type": "code",
   "execution_count": 3,
   "metadata": {
    "id": "-7UPLcFfFzVv"
   },
   "outputs": [
    {
     "name": "stdout",
     "output_type": "stream",
     "text": [
      "installing cirq...\n",
      "installed cirq.\n"
     ]
    }
   ],
   "source": [
    "try:\n",
    "    import cirq\n",
    "except:\n",
    "    print(\"installing cirq...\")\n",
    "    !pip install --quiet cirq\n",
    "    print(\"installed cirq.\")\n",
    "    import cirq\n",
    "\n",
    "import numpy as np\n",
    "import matplotlib.pyplot as plt\n",
    "import pandas as pd\n",
    "\n",
    "np.set_printoptions(precision=3, suppress=True, linewidth=200)"
   ]
  },
  {
   "cell_type": "markdown",
   "metadata": {
    "id": "2k_4KaHyDMSh"
   },
   "source": [
    "# Introduction\n",
    "\n",
    "\n",
    "In past decades, there are ample evidences to suggest that quantum computers can be exponentially more powerful in solving certain computational tasks than their classical couterparts. The *black-box* or *query* model, such as Grover’s search, Deutsch-Josza’s algorithm, etc., offers a concrete setting to show such exponential speedups. Normally, one provides \"black-box access\" to a function $f$, meaning that the quantum algorithm can apply a unitary\n",
    "transformation that maps basis states of the form $|x, y \\rangle$ to to basis states of the form $|x, y \\oplus f(x)\\rangle $ or $|x\\rangle$ to $(-1)^{f(x)} |x\\rangle$ if $f$ is Boolean. Then, a natural question is asked:\n",
    "\n",
    "> What is the maximal possible separation between quantum  and classical query complexities?\n",
    "\n",
    "For example, could there be a function of $N$ bits with a quantum query\n",
    "complexity of 1, but a classical randomized query complexity of $\\Omega(\\sqrt{N})$ or $\\Omega(N)$?\n",
    "Specifically, [Buhrman et al. from 2002](https://www.sciencedirect.com/science/article/pii/S030439750100144X) asked whether there is any\n",
    "property of $N-$bit strings that exhibits a **“maximal”** separation: that is, one that requires $\\Omega(N)$\n",
    "queries to test classically, but only O (1) quantumly.\n",
    "\n",
    "**Fourier Checking** is a problem that provides a separation between quantum  and classical computers -- $O(1)$ VS $\\tilde{\\Omega}(\\sqrt{N})$, which can be proved as optimal. Currently it only has theoretical importance - but, as it falls into the category of small quantum algorithms, it can be used to demonstrate query complexity and oracle synthesis in Cirq.\n",
    "\n",
    "Goal of this notebook is to introduce\n",
    "\n",
    "1. What is Forrelation and Fourier Checking problem and why we are interested in it?\n",
    "2. What is bounded-error quantum polynomial time (BQP) and why does Fourier Checking problem belong to it?\n",
    "3. How to implement Fourier Checking algorithm and Oracle Function in Cirq?\n",
    "\n",
    "We don't include the formal proofs and argument. But we do give some derivation sketch for intuition and encourage the reader to check the corresponding lemmas and theorems in the original paper.\n",
    "\n",
    "<!-- ## Structure of this notebook\n",
    "\n",
    "  We start by reviewing Fourier transform and correlation. Then introduce the concept of *forrelation*, i.e. fourier + correlation. After these preparation,  the formal statement of the *Fourier Checking* problem is presented. Then we solve this problem in a straightforward way, which follows directly from the problem definition. We will use this solution to verify our quantum solution in the next part. During the Cirq implemention, we will discuss the relation between the oracle function and diagonal matrix gate and how you can implemention that in Cirq. Last, we will show this problem provides maximum separation between classical and quantum computers.  -->\n"
   ]
  },
  {
   "cell_type": "markdown",
   "metadata": {
    "id": "hq6-obwCiEXX"
   },
   "source": [
    "# Preliminary\n",
    "\n",
    "Before we present the Fourier Checking problem, three preliminary concepts, 1) BQP 2) Fourier Transform over $Z_2^n$ and 3) Forrelation, are introduced first.\n"
   ]
  },
  {
   "cell_type": "markdown",
   "metadata": {
    "id": "HNCLXihE01A7"
   },
   "source": [
    "## Bounded-error Quantum Polynomial time (BQP)\n",
    "\n",
    "In computational complexity theory, [bounded-error quantum polynomial time (BQP)](https://en.wikipedia.org/wiki/BQP) is the class of decision problems solvable by a quantum computer in polynomial time, with an error probability of at most 1/3 for all instances. It is the quantum analogue to the complexity class [BPP](https://en.wikipedia.org/wiki/BPP_(complexity)).\n",
    "\n",
    "| &nbsp; &nbsp;&nbsp;&nbsp;&nbsp; Anwser Provided  <br />  <br /> Correct Anwser| Yes <br /> <br /> &nbsp; | No <br /> <br /> &nbsp;|\n",
    "|:---------------|------|-------|\n",
    "| Yes           | $\\geq $2/3 | $\\leq $1/3 |\n",
    "| No            | $\\leq $1/3 | $\\geq $2/3 |\n",
    "\n",
    "\n",
    "To understand this better, let's consider a simple example.\n",
    "\n",
    "**Problem**: Supposing we have two qubits and we are promised that the two qubits are either in uniform superposition state, $\\frac{1}{2}(|00\\rangle + |01\\rangle + |10\\rangle + |11\\rangle)$, or Bell state, $\\frac{1}{\\sqrt{2}}(|00\\rangle + |11\\rangle)$ . The problem is to accept it if it was in Bell Sate otherwise reject it.\n",
    "\n",
    "**Naive Algorithm**: Measure two qubits and accept the result if the XOR of two measurements is 0. It is easy to get following confusion matrix:\n",
    "\n",
    "| Naive Algorithm:  | Accept  | Reject |\n",
    "|---------------|---------|-------|\n",
    "| Bell state    | 1   | 0  |\n",
    "| Uniform State | 1/2 | 1/2|\n",
    "\n",
    "You see $1/2$ is not larger than $2/3$. So this naive algorithm does **NOT** solve the problem. \n",
    "\n",
    "**One Possible Algorithm**: Accept the results if the XOR of two measurements is 0 AND a random number drawing from  $[0,1]$ uniformly is equal or larger than $1/3$. Otherwise, reject it.\n",
    "\n",
    "At first glance, you may feel this algorithm is worse than the previous one. But you will find it actually solves the problem and satisfies the BQP requirement if you compute the confusion matrix:\n",
    "\n",
    "| Algorithm:  | Accept  | Reject |\n",
    "|---------------|---------|-------|\n",
    "| Bell state    | 2/3 | 1/3  |\n",
    "| Uniform State | 1/3 | 2/3  |\n",
    "\n",
    "You can use probability theorem to calculate above confusion matrix exactly but let use Cirq to do simulation to verify that."
   ]
  },
  {
   "cell_type": "code",
   "execution_count": 4,
   "metadata": {
    "id": "0HrjzcQA_aKp"
   },
   "outputs": [],
   "source": [
    "def bell_or_uniform_algorithm(bell_state):\n",
    "    # Prepare the state of two qubits\n",
    "    q1, q2 = cirq.LineQubit.range(2)\n",
    "    circuit = cirq.Circuit()\n",
    "    if bell_state:\n",
    "        circuit.append([cirq.H(q1), cirq.CX(q1, q2)])\n",
    "    else:\n",
    "        circuit.append([cirq.H(q1), cirq.H(q2)])\n",
    "\n",
    "    # Algorithm\n",
    "    circuit.append(cirq.measure(q1, q2))\n",
    "    s = cirq.Simulator()\n",
    "    res = s.run(circuit)\n",
    "    m = res.measurements['0,1']\n",
    "    r = np.random.rand()\n",
    "    if not (m[0][0] ^ m[0][1]) and (r >= 1 / 3):\n",
    "        return \"accept\"\n",
    "    return \"reject\""
   ]
  },
  {
   "cell_type": "code",
   "execution_count": 5,
   "metadata": {
    "id": "Wvy66btaFb8q"
   },
   "outputs": [
    {
     "data": {
      "text/html": [
       "<div>\n",
       "<style scoped>\n",
       "    .dataframe tbody tr th:only-of-type {\n",
       "        vertical-align: middle;\n",
       "    }\n",
       "\n",
       "    .dataframe tbody tr th {\n",
       "        vertical-align: top;\n",
       "    }\n",
       "\n",
       "    .dataframe thead th {\n",
       "        text-align: right;\n",
       "    }\n",
       "</style>\n",
       "<table border=\"1\" class=\"dataframe\">\n",
       "  <thead>\n",
       "    <tr style=\"text-align: right;\">\n",
       "      <th>Decision</th>\n",
       "      <th>accept</th>\n",
       "      <th>reject</th>\n",
       "    </tr>\n",
       "    <tr>\n",
       "      <th>State</th>\n",
       "      <th></th>\n",
       "      <th></th>\n",
       "    </tr>\n",
       "  </thead>\n",
       "  <tbody>\n",
       "    <tr>\n",
       "      <th>Bell State</th>\n",
       "      <td>356.0</td>\n",
       "      <td>165.0</td>\n",
       "    </tr>\n",
       "    <tr>\n",
       "      <th>Uniform State</th>\n",
       "      <td>150.0</td>\n",
       "      <td>329.0</td>\n",
       "    </tr>\n",
       "  </tbody>\n",
       "</table>\n",
       "</div>"
      ],
      "text/plain": [
       "Decision       accept  reject\n",
       "State                        \n",
       "Bell State      356.0   165.0\n",
       "Uniform State   150.0   329.0"
      ]
     },
     "execution_count": 5,
     "metadata": {},
     "output_type": "execute_result"
    }
   ],
   "source": [
    "# Now let's exam the algorithm 1000 times to check the confusion matrix.\n",
    "res = pd.DataFrame()\n",
    "for _ in range(1000):\n",
    "    bell_state = np.random.rand() > 0.5\n",
    "    state = \"Bell State\" if bell_state else \"Uniform State\"\n",
    "    decision = bell_or_uniform_algorithm(bell_state)\n",
    "    res = res.append({\n",
    "        \"State\": state,\n",
    "        \"Decision\": decision,\n",
    "        \"Count\": 1\n",
    "    }, ignore_index=True)\n",
    "\n",
    "confusion = res.pivot_table(index=\"State\",\n",
    "                            columns=\"Decision\",\n",
    "                            values=\"Count\",\n",
    "                            aggfunc=\"sum\")\n",
    "confusion"
   ]
  },
  {
   "cell_type": "code",
   "execution_count": 6,
   "metadata": {
    "id": "Ko27ZZJf_R_z"
   },
   "outputs": [
    {
     "data": {
      "text/html": [
       "<div>\n",
       "<style scoped>\n",
       "    .dataframe tbody tr th:only-of-type {\n",
       "        vertical-align: middle;\n",
       "    }\n",
       "\n",
       "    .dataframe tbody tr th {\n",
       "        vertical-align: top;\n",
       "    }\n",
       "\n",
       "    .dataframe thead th {\n",
       "        text-align: right;\n",
       "    }\n",
       "</style>\n",
       "<table border=\"1\" class=\"dataframe\">\n",
       "  <thead>\n",
       "    <tr style=\"text-align: right;\">\n",
       "      <th>Decision</th>\n",
       "      <th>accept</th>\n",
       "      <th>reject</th>\n",
       "    </tr>\n",
       "    <tr>\n",
       "      <th>State</th>\n",
       "      <th></th>\n",
       "      <th></th>\n",
       "    </tr>\n",
       "  </thead>\n",
       "  <tbody>\n",
       "    <tr>\n",
       "      <th>Bell State</th>\n",
       "      <td>68.33</td>\n",
       "      <td>31.67</td>\n",
       "    </tr>\n",
       "    <tr>\n",
       "      <th>Uniform State</th>\n",
       "      <td>31.32</td>\n",
       "      <td>68.68</td>\n",
       "    </tr>\n",
       "  </tbody>\n",
       "</table>\n",
       "</div>"
      ],
      "text/plain": [
       "Decision       accept  reject\n",
       "State                        \n",
       "Bell State      68.33   31.67\n",
       "Uniform State   31.32   68.68"
      ]
     },
     "execution_count": 6,
     "metadata": {},
     "output_type": "execute_result"
    }
   ],
   "source": [
    "# The percentage of each case\n",
    "confusion.div(confusion.sum(axis=1), axis=0).apply(lambda x: round(x, 4) * 100)"
   ]
  },
  {
   "cell_type": "markdown",
   "metadata": {
    "id": "-00X5NGsHxk3"
   },
   "source": [
    "You should be able to see above confusion matrix is almost propertional to the boundary condition of BQP condition. This algorithm only take 1 query complexity. Hence we can say above Bell state or uniform state problem belongs to BQP and quantum computer can solve it in $O(1)$. \n",
    "\n",
    "Wait, you may wonder why previous 33% error rate mean we solved the problem. Recall that the B in BQP means *bounded-error*. You can set an acceptable error rate $\\epsilon$. Then the key is that we can run the algorithm multiple times. Repeat it as many times as you want until the error rate is lower than $\\epsilon$. For example, if we run above quantum algorithm three times and the final decision is the majority of decisions of three runs, the error rate will become:\n",
    "\n",
    "| Algorithm (3 runs): | Accept  | Reject |\n",
    "|---------------|---------|-------|\n",
    "| Bell state    | 20/27 | 7/27  |\n",
    "| Uniform State | 7/27 | 20/27  |\n",
    "\n",
    "Now it is around 74% vs 26%. Again, let's use Cirq to verify that\n"
   ]
  },
  {
   "cell_type": "code",
   "execution_count": 7,
   "metadata": {
    "id": "iCAV6ka0h_2A"
   },
   "outputs": [],
   "source": [
    "def bell_or_uniform_algorithm_repeated(bell_state, repetitions):\n",
    "    # Prepare the state of two qubits\n",
    "    q1, q2 = cirq.LineQubit.range(2)\n",
    "    circuit = cirq.Circuit()\n",
    "    if bell_state:\n",
    "        circuit.append([cirq.H(q1), cirq.CX(q1, q2)])\n",
    "    else:\n",
    "        circuit.append([cirq.H(q1), cirq.H(q2)])\n",
    "\n",
    "    # Algorithm\n",
    "    circuit.append(cirq.measure(q1, q2))\n",
    "    s = cirq.Simulator()\n",
    "    res = s.run(circuit, repetitions=repetitions)\n",
    "    m = res.measurements['0,1']\n",
    "    r1 = 1 - m[:, 0] ^ m[:, 1]  # equivalent to NOT (XOR of two qubits)\n",
    "    r2 = np.random.rand(repetitions) >= 1 / 3\n",
    "    decision_each_repitition = r1 & r2\n",
    "    # We know the decision is either 0 or 1, so\n",
    "    # the majority is equivalent to find the mean.\n",
    "    if np.mean(decision_each_repitition) >= 0.5:\n",
    "        return \"accept\"\n",
    "    return \"reject\""
   ]
  },
  {
   "cell_type": "code",
   "execution_count": 8,
   "metadata": {
    "id": "yg1-UHzOiAAf"
   },
   "outputs": [
    {
     "data": {
      "text/html": [
       "<div>\n",
       "<style scoped>\n",
       "    .dataframe tbody tr th:only-of-type {\n",
       "        vertical-align: middle;\n",
       "    }\n",
       "\n",
       "    .dataframe tbody tr th {\n",
       "        vertical-align: top;\n",
       "    }\n",
       "\n",
       "    .dataframe thead th {\n",
       "        text-align: right;\n",
       "    }\n",
       "</style>\n",
       "<table border=\"1\" class=\"dataframe\">\n",
       "  <thead>\n",
       "    <tr style=\"text-align: right;\">\n",
       "      <th>Decision</th>\n",
       "      <th>accept</th>\n",
       "      <th>reject</th>\n",
       "    </tr>\n",
       "    <tr>\n",
       "      <th>State</th>\n",
       "      <th></th>\n",
       "      <th></th>\n",
       "    </tr>\n",
       "  </thead>\n",
       "  <tbody>\n",
       "    <tr>\n",
       "      <th>Bell State</th>\n",
       "      <td>364.0</td>\n",
       "      <td>123.0</td>\n",
       "    </tr>\n",
       "    <tr>\n",
       "      <th>Uniform State</th>\n",
       "      <td>128.0</td>\n",
       "      <td>385.0</td>\n",
       "    </tr>\n",
       "  </tbody>\n",
       "</table>\n",
       "</div>"
      ],
      "text/plain": [
       "Decision       accept  reject\n",
       "State                        \n",
       "Bell State      364.0   123.0\n",
       "Uniform State   128.0   385.0"
      ]
     },
     "execution_count": 8,
     "metadata": {},
     "output_type": "execute_result"
    }
   ],
   "source": [
    "# Now let's exam the algorithm 1000 times to check the confusion matrix.\n",
    "res = pd.DataFrame()\n",
    "for _ in range(1000):\n",
    "    bell_state = np.random.rand() > 0.5\n",
    "    state = \"Bell State\" if bell_state else \"Uniform State\"\n",
    "    decision = bell_or_uniform_algorithm_repeated(bell_state, repetitions=3)\n",
    "    res = res.append({\n",
    "        \"State\": state,\n",
    "        \"Decision\": decision,\n",
    "        \"Count\": 1\n",
    "    }, ignore_index=True)\n",
    "\n",
    "confusion = res.pivot_table(index=\"State\", columns=\"Decision\",\n",
    "                            values=\"Count\", aggfunc=\"sum\")\n",
    "confusion"
   ]
  },
  {
   "cell_type": "code",
   "execution_count": 9,
   "metadata": {
    "id": "COYXFlrg_lXu"
   },
   "outputs": [
    {
     "data": {
      "text/html": [
       "<div>\n",
       "<style scoped>\n",
       "    .dataframe tbody tr th:only-of-type {\n",
       "        vertical-align: middle;\n",
       "    }\n",
       "\n",
       "    .dataframe tbody tr th {\n",
       "        vertical-align: top;\n",
       "    }\n",
       "\n",
       "    .dataframe thead th {\n",
       "        text-align: right;\n",
       "    }\n",
       "</style>\n",
       "<table border=\"1\" class=\"dataframe\">\n",
       "  <thead>\n",
       "    <tr style=\"text-align: right;\">\n",
       "      <th>Decision</th>\n",
       "      <th>accept</th>\n",
       "      <th>reject</th>\n",
       "    </tr>\n",
       "    <tr>\n",
       "      <th>State</th>\n",
       "      <th></th>\n",
       "      <th></th>\n",
       "    </tr>\n",
       "  </thead>\n",
       "  <tbody>\n",
       "    <tr>\n",
       "      <th>Bell State</th>\n",
       "      <td>74.74</td>\n",
       "      <td>25.26</td>\n",
       "    </tr>\n",
       "    <tr>\n",
       "      <th>Uniform State</th>\n",
       "      <td>24.95</td>\n",
       "      <td>75.05</td>\n",
       "    </tr>\n",
       "  </tbody>\n",
       "</table>\n",
       "</div>"
      ],
      "text/plain": [
       "Decision       accept  reject\n",
       "State                        \n",
       "Bell State      74.74   25.26\n",
       "Uniform State   24.95   75.05"
      ]
     },
     "execution_count": 9,
     "metadata": {},
     "output_type": "execute_result"
    }
   ],
   "source": [
    "# The percentage of each case\n",
    "confusion.div(confusion.sum(axis=1), axis=0).apply(lambda x: round(x, 4) * 100)"
   ]
  },
  {
   "cell_type": "markdown",
   "metadata": {
    "id": "xSw8Ra8pk1RW"
   },
   "source": [
    "If you try the algorithm with more repetitions, you will observe the error rate will decrease rapidly.\n"
   ]
  },
  {
   "cell_type": "markdown",
   "metadata": {
    "id": "spyqzGyf5kGW"
   },
   "source": [
    "## Fourier Transform over $\\mathbb{Z}^n_2$\n",
    "In this colab, we focus on the Boolean function of the form $f : \\{0, 1\\}^n \\rightarrow\\{-1, 1\\}$ and we denote $N = 2^n$. Given this Boolean function, the Fourier transform of $f$ over $\\mathbb{Z}^n_2$is defined as (Note this is not standard discrete Fourier transform definition over $\\mathbb{Z}_N$.)\n",
    "\n",
    "$$\n",
    "  \\hat{f}(y) := \\frac{1}{\\sqrt{N}} \\sum_{x\\in\\{0,1\\}^n} (-1)^{x \\cdot y} f\n",
    "  (x).\n",
    "$$\n",
    "where $x \\cdot y$ means the bit-wise inner product between $x$ and $y$. According to the Parseval's identity, we have\n",
    "\n",
    "$$\n",
    "  \\sum_{x\\in\\{0,1\\}^n} f(x)^2 = \\sum_{y\\in\\{0,1\\}^n} \\hat{f}(y)^2  = N .\n",
    "$$"
   ]
  },
  {
   "cell_type": "code",
   "execution_count": 10,
   "metadata": {
    "id": "ucEcJmSQ26vg"
   },
   "outputs": [],
   "source": [
    "def bitwise_dot(x, y):\n",
    "    \"\"\"Compute the dot product of two integers bitwise.\"\"\"\n",
    "\n",
    "    # fast bit parity\n",
    "    def parallel_swar(i):\n",
    "        i = i - ((i >> 1) & 0x55555555)\n",
    "        i = (i & 0x33333333) + ((i >> 2) & 0x33333333)\n",
    "        i = (((i + (i >> 4)) & 0x0F0F0F0F) * 0x01010101) >> 24\n",
    "        return int(i % 2)\n",
    "\n",
    "    return parallel_swar(x & y)\n",
    "\n",
    "\n",
    "def fourier_transform_over_z2(v):\n",
    "    \"\"\"Fourier transform function over z_2 group.\n",
    "\n",
    "    Args:\n",
    "        v: an array with 2**n elements.\n",
    "    Returns:\n",
    "        vs: a numpy array with same length as input.\n",
    "    \"\"\"\n",
    "    assert len(v) & (len(v) - 1) == 0  # make sure v is 2**n long vector\n",
    "    N = len(v)\n",
    "    v_hat = np.array([0.0] * N)\n",
    "    for y in range(N):\n",
    "        for x in range(N):\n",
    "            v_hat[y] += ((-1)**bitwise_dot(x, y)) * v[x]\n",
    "    return v_hat / np.sqrt(N)"
   ]
  },
  {
   "cell_type": "markdown",
   "metadata": {
    "id": "fqXHBoEm7ebP"
   },
   "source": [
    "Let's have some examples in $\\mathbb{Z}^2_2$. You should verify that both functions have same energy 4."
   ]
  },
  {
   "cell_type": "code",
   "execution_count": 11,
   "metadata": {
    "id": "AueS6I2f4hAx"
   },
   "outputs": [
    {
     "name": "stdout",
     "output_type": "stream",
     "text": [
      "f: [1, -1, 1, -1] f_hat: [0.0, 2.0, 0.0, 0.0]\n",
      "f: [1, 1, 1, -1] f_hat: [1.0, 1.0, 1.0, -1.0]\n",
      "f: [1, -1, -1, 1] f_hat: [0.0, 0.0, 0.0, 2.0]\n"
     ]
    }
   ],
   "source": [
    "f = np.array([1, -1, 1, -1])\n",
    "f_hat = fourier_transform_over_z2(f)\n",
    "print(f\"f: {list(f)} f_hat: {list(f_hat)}\")\n",
    "\n",
    "f = np.array([1, 1, 1, -1])\n",
    "f_hat = fourier_transform_over_z2(f)\n",
    "print(f\"f: {list(f)} f_hat: {list(f_hat)}\")\n",
    "\n",
    "f = np.array([1, -1, -1, 1])\n",
    "f_hat = fourier_transform_over_z2(f)\n",
    "print(f\"f: {list(f)} f_hat: {list(f_hat)}\")"
   ]
  },
  {
   "cell_type": "markdown",
   "metadata": {
    "id": "02GAaXsAsYOW"
   },
   "source": [
    "## Forrelated\n",
    "\n",
    "First of all, let's introduce the concept of forrelated, which is a combination word coming from \"Fourier Transform\"  and \"Correlation\".\n",
    "Recall the classical correlation between two vectors $u$ and $v$ is \n",
    "$$\n",
    "  {\\rm correlation}(u,v) = \\frac{ \\langle u, v \\rangle }{\\|u\\| \\|v\\|}.\n",
    "$$\n",
    "Then, the forrelation between two vectors $u$ and $v$ is just the correlation between $u$ and the Fourier trasformed of $v$, denoted as $\\widehat{v}$:\n",
    "\\begin{align}\n",
    "  {\\rm forrelation}(u, v) =& \\frac{\\langle u, \\widehat{v} \\rangle }{\\|u\\| \\|\\widehat{v}\\|},\\\\\n",
    "  =& \\frac{ \\langle u, \\widehat{v} \\rangle }{\\|u\\| \\|v\\|}.\n",
    "\\end{align}\n",
    "where the second equality is thanks to the Parseval's identity.\n",
    "Since in this tutorial we only interesed in Boolean function, we replace the arbitary vector $u$ and $v$ as the output of Boolean function $f$ and $g$. We can further simplified the above definition:\n",
    "\\begin{align}\n",
    "  {\\rm forrelation}(f, g) =& \\frac{\\langle f, \\widehat{g} \\rangle }{\\|f\\| \\|g\\|}\\\\\n",
    "  =& \\frac{1}{N} \\langle f, \\widehat{g}\\rangle  \\\\\n",
    "  =& \\frac{1}{N} \\sum_{x \\in \\{0,1\\}^n}f(x)\\widehat{g}(x)\\\\\n",
    "  =& \\frac{1}{N^{3/2}} \\sum_{x, y \\in \\{0,1\\}^n}f(x)(-1)^{x \\cdot y}g(y)\n",
    "\\end{align}\n"
   ]
  },
  {
   "cell_type": "code",
   "execution_count": 12,
   "metadata": {
    "id": "9r_wFSV6BT3s"
   },
   "outputs": [],
   "source": [
    "def get_correlation(f, g):\n",
    "    return f.dot(g) / np.linalg.norm(f) / np.linalg.norm(g)\n",
    "\n",
    "\n",
    "def get_forrelation(f, g):\n",
    "    g_hat = fourier_transform_over_z2(g)\n",
    "    return f.dot(g_hat) / np.linalg.norm(f) / np.linalg.norm(g)"
   ]
  },
  {
   "cell_type": "code",
   "execution_count": 13,
   "metadata": {
    "id": "evFK1aCTBm1E"
   },
   "outputs": [
    {
     "name": "stdout",
     "output_type": "stream",
     "text": [
      "Correlation: 1.0  Forrelation: -0.5\n",
      "Correlation: -1.0  Forrelation: -1.0\n",
      "Correlation: 0.0  Forrelation: 0.5\n"
     ]
    }
   ],
   "source": [
    "# let's see some examples to gain some insights of forrelation\n",
    "f = np.array([1, -1, 1, -1])\n",
    "g = np.array([1, -1, 1, -1])\n",
    "print(f\"Correlation: {get_correlation(f,g)}  Forrelation: {get_forrelation(f,g)}\")\n",
    "\n",
    "f = np.array([1, 1, 1, -1])\n",
    "g = np.array([-1, -1, -1, 1])\n",
    "print(f\"Correlation: {get_correlation(f,g)}  Forrelation: {get_forrelation(f,g)}\")\n",
    "\n",
    "f = np.array([1, -1, -1, 1])\n",
    "g = np.array([1, 1, 1, 1])\n",
    "print(f\"Correlation: {get_correlation(f,g)}  Forrelation: {get_forrelation(f,g)}\")"
   ]
  },
  {
   "cell_type": "markdown",
   "metadata": {
    "id": "ozbeF_nZiEib"
   },
   "source": [
    "# Fourier Checking Problem\n",
    "\n",
    "Now we are prepared to discuss the *Fourier Checking* problem. Here we are given oracle access to two Boolean functions $f,g : \\{0, 1\\}^n \\rightarrow\\{-1, 1\\}$ We are promised that one of the following two cases is true:\n",
    "\n",
    "- $\\langle f, g \\rangle$ was drawn from the uniform distribution $\\mathcal{U}$.\n",
    "- $\\langle f, g \\rangle$ was drawn from the forrelated distribution $\\mathcal{F}$ (Will be explained in more details later).\n",
    "\n",
    "The problem is to accept if $\\langle f, g \\rangle$ was drawn from $\\mathcal{F}$, and to reject if $\\langle f, g \\rangle$ was drawn from $\\mathcal{U}$.\n",
    "\n",
    "*Note: since $\\mathcal{F}$ and $\\mathcal{U}$ overlap slightly, we can only hope to succeed with overwhelming probability over the choice of  $\\langle f, g \\rangle$ , not for every  $\\langle f, g \\rangle$  pair.*\n"
   ]
  },
  {
   "cell_type": "markdown",
   "metadata": {
    "id": "hQMu28BGwZYS"
   },
   "source": [
    "## Generate functions $f$ and $g$ from distribution $\\mathcal U$ and $\\mathcal F$\n",
    "The forrelated distribution $\\mathcal{F}$ is generated as followings.\n",
    "First\n",
    "choose a random real vector $v=(v_x)_{x\\in\\{0, 1\\}^n} \\in \\mathbb{R}^N$, by drawing each entry independently from Gaussian distribution with zero-mean and variance 1. Then set $f(x) := {\\rm sgn}(v_x)$ and $g(x) := {\\rm sgn}(\\widehat{v}_x)$, where $\\widehat{v}_x$ the Fourier Transform of $v$ is\n",
    "$$\n",
    "  \\widehat{v}_y := \\frac{1}{\\sqrt{N}} \\sum_{x\\in\\{0,1\\}^n} (-1)^{x\\cdot y}v_x,\n",
    "$$\n",
    "and $$\n",
    "  {\\rm sgn}(\\alpha) := \\left\\{\n",
    "  \\begin{aligned}\n",
    "    1 \\;\\;\\; &{\\rm if}\\; \\alpha \\geq 0 \\\\\n",
    "    -1 \\;\\;\\;&{\\rm if}\\; \\alpha < 0\n",
    "  \\end{aligned}\\right.\n",
    "$$\n",
    "Notice, $f$ and $g$ *individually* are still uniformly random, but they are no longer independent. Now $f$ is forrelated with $g$.\n",
    "For simplicity, we only consider the *PROMISE FOURIER CHECKING* problem. Under this situation, we are promised that the quatity:\n",
    "\n",
    "\\begin{align}\n",
    "  p(f,g) := \\left[{\\rm forrelation}(f, g)\\right]^2 = \\frac{1}{N^3} \\left(\\sum_{x, y \\in \\{0,1\\}^n}f(x)(-1)^{x \\cdot y}g(y)\\right)^2\n",
    "\\end{align}\n",
    "\n",
    "is either at least 0.05 or at most 0.01."
   ]
  },
  {
   "cell_type": "code",
   "execution_count": 14,
   "metadata": {
    "id": "aZie29qeGBV_"
   },
   "outputs": [],
   "source": [
    "n = 6\n",
    "N = 2**n"
   ]
  },
  {
   "cell_type": "code",
   "execution_count": 15,
   "metadata": {
    "id": "Ow6khbkKebag"
   },
   "outputs": [],
   "source": [
    "# We can find a forrelated pair \"as promised\" through while-loop\n",
    "def draw_two_distribution_from_f_set(N):\n",
    "    sgn = lambda x: 1 if x >= 0 else -1\n",
    "    forrelation = 0.2\n",
    "    while (abs(forrelation)**2 < 0.05) and (abs(forrelation)**2 > 0.01):\n",
    "        vs = np.array([np.random.normal() for _ in range(N)])\n",
    "        vs_hat = fourier_transform_over_z2(vs)\n",
    "        fs = np.array([sgn(v) for v in vs])\n",
    "        gs = np.array([sgn(v_hat) for v_hat in vs_hat])\n",
    "        forrelation = get_forrelation(fs, gs)\n",
    "        correlation = get_correlation(fs, gs)\n",
    "        # print(forrelation)\n",
    "    return fs, gs, forrelation, correlation\n",
    "\n",
    "\n",
    "def draw_two_distribution_from_u_set(N):\n",
    "    sgn = lambda x: 1 if x >= 0 else -1\n",
    "    forrelation = 0.2\n",
    "    while (abs(forrelation)**2 < 0.05) and (abs(forrelation)**2 > 0.01):\n",
    "        vs = np.array([np.random.normal() for _ in range(N)])\n",
    "        fs = np.array([sgn(v) for v in vs])\n",
    "        us = np.array([np.random.normal() for _ in range(N)])\n",
    "        gs = np.array([sgn(u) for u in us])\n",
    "        forrelation = get_forrelation(fs, gs)\n",
    "        correlation = get_correlation(fs, gs)\n",
    "        # print(forrelation)\n",
    "    return fs, gs, forrelation, correlation"
   ]
  },
  {
   "cell_type": "code",
   "execution_count": 16,
   "metadata": {
    "id": "bVFeIs6-RrfP"
   },
   "outputs": [
    {
     "name": "stdout",
     "output_type": "stream",
     "text": [
      "fs: [1, 1, -1, -1, 1, 1, 1, -1, 1, -1, 1, -1, -1, -1, 1, -1, 1, -1, -1, 1, -1, -1, 1, -1, 1, 1, 1, 1, -1, -1, 1, -1, 1, -1, 1, 1, -1, -1, 1, -1, -1, -1, 1, -1, 1, -1, -1, 1, -1, 1, 1, -1, 1, 1, -1, -1, 1, -1, -1, -1, 1, -1, 1, 1]\n",
      "gs: [1, 1, 1, -1, -1, -1, -1, -1, 1, -1, 1, -1, -1, 1, -1, -1, 1, -1, 1, 1, 1, 1, 1, -1, 1, 1, 1, -1, -1, 1, -1, 1, 1, 1, -1, 1, 1, 1, -1, 1, 1, -1, -1, -1, -1, -1, 1, 1, -1, 1, 1, 1, 1, 1, 1, -1, -1, 1, 1, -1, -1, 1, -1, 1]\n"
     ]
    },
    {
     "data": {
      "text/plain": [
       "Text(0.5, 1.0, 'Correlation: 0.03125 Forrelation: 0.0625')"
      ]
     },
     "execution_count": 16,
     "metadata": {},
     "output_type": "execute_result"
    },
    {
     "data": {
      "image/png": "[encoded data removed]",
      "text/plain": [
       "<Figure size 1080x360 with 1 Axes>"
      ]
     },
     "metadata": {
      "needs_background": "light"
     },
     "output_type": "display_data"
    }
   ],
   "source": [
    "fs, gs, forrelation, correlation = draw_two_distribution_from_u_set(N)\n",
    "print(f\"fs: {list(fs)}\")\n",
    "print(f\"gs: {list(gs)}\")\n",
    "\n",
    "plt.figure(figsize=(15, 5))\n",
    "plt.stem(fs, use_line_collection=True)\n",
    "plt.stem(gs, linefmt='--r', markerfmt='ro', use_line_collection=True)\n",
    "plt.title(f\"Correlation: {correlation} Forrelation: {forrelation}\")"
   ]
  },
  {
   "cell_type": "code",
   "execution_count": 17,
   "metadata": {
    "id": "xIotvjzjOvxA"
   },
   "outputs": [
    {
     "name": "stdout",
     "output_type": "stream",
     "text": [
      "fs: [1, -1, 1, -1, -1, -1, -1, 1, -1, -1, -1, -1, 1, -1, -1, 1, -1, -1, -1, 1, -1, -1, -1, 1, 1, -1, 1, 1, -1, 1, -1, 1, -1, -1, -1, -1, 1, 1, 1, 1, -1, -1, -1, 1, 1, -1, -1, -1, 1, 1, 1, -1, 1, -1, 1, 1, 1, -1, -1, 1, -1, 1, 1, -1]\n",
      "gs: [-1, -1, -1, 1, 1, 1, -1, -1, 1, 1, -1, 1, 1, 1, 1, -1, -1, 1, 1, 1, -1, 1, -1, -1, 1, 1, 1, -1, 1, 1, -1, 1, -1, 1, -1, 1, 1, 1, -1, -1, -1, -1, -1, 1, 1, -1, -1, 1, 1, 1, 1, -1, 1, 1, 1, 1, 1, 1, 1, 1, 1, 1, -1, -1]\n"
     ]
    },
    {
     "data": {
      "text/plain": [
       "Text(0.5, 1.0, 'Correlation: 0.09375 Forrelation: 0.6875')"
      ]
     },
     "execution_count": 17,
     "metadata": {},
     "output_type": "execute_result"
    },
    {
     "data": {
      "image/png": "[encoded data removed]",
      "text/plain": [
       "<Figure size 1080x360 with 1 Axes>"
      ]
     },
     "metadata": {
      "needs_background": "light"
     },
     "output_type": "display_data"
    }
   ],
   "source": [
    "fs, gs, forrelation, correlation = draw_two_distribution_from_f_set(N)\n",
    "print(f\"fs: {list(fs)}\")\n",
    "print(f\"gs: {list(gs)}\")\n",
    "plt.figure(figsize=(15, 5))\n",
    "plt.stem(fs, use_line_collection=True)\n",
    "plt.stem(gs, linefmt='--r', markerfmt=\"ro\", use_line_collection=True)\n",
    "plt.title(f\"Correlation: {correlation} Forrelation: {forrelation}\")"
   ]
  },
  {
   "cell_type": "markdown",
   "metadata": {
    "id": "TZwIP2_337WH"
   },
   "source": [
    "You can see that the Class $\\mathcal{U}$ and $\\mathcal{F}$ is not obviously different from each other even after we plot the whole functions information together. As BQP introduced in preliminary, we do not require the algorithm to make deterministic result. As long as the algorithm can provide the answer correctly larger than some value in probability, this problem is solved by that algorithm."
   ]
  },
  {
   "cell_type": "markdown",
   "metadata": {
    "id": "obqAoSrNRFJ9"
   },
   "source": [
    "# Quantum Algorithm for Fourier Checking\n",
    "\n",
    "The quantum algorithm for Fourier Checking is quite simple actually.\n",
    "It is with constant error probability using $O(1)$ queries.\n",
    "\n",
    "**Algorithm Description:**\n",
    "\n",
    "First, we prepare a uniform superposition over all $x \\in \\{0, 1\\}^n$. Then query $f$ in superposition, to create the state\n",
    "$$\n",
    "  \\frac{1}{\\sqrt{N}} \\sum_{x \\in \\{0, 1\\}^n} f(x) |x\\rangle\n",
    "$$\n",
    "Applying Hadmard gates to all $n$ qubits, to create the state\n",
    "$$\n",
    "  \\frac{1}{N} \\sum_{x,y  \\in \\{0, 1\\}^n} f(x) (-1)^{x\\cdot y} |y\\rangle\n",
    "$$\n",
    "Then query $g$ in superposition, to create the state\n",
    "$$\n",
    "  \\frac{1}{N} \\sum_{x,y  \\in \\{0, 1\\}^n} f(x) (-1)^{x\\cdot y}g(y) |y\\rangle\n",
    "$$\n",
    "Then apply Hadmard gates to all $n$ qubits again, to create the state\n",
    "$$\n",
    "  \\frac{1}{N^{3/2}} \\sum_{x,y  \\in \\{0, 1\\}^n} f(x) (-1)^{x\\cdot y} g(y) (-1)^{y \\cdot z}|z\\rangle\n",
    "$$\n",
    "Finally, measure in the computational basis, and \"accept\" if and only if the outcome $|0\\rangle^{\\otimes n}$is observed.\n",
    "\n",
    "If needed, repeat the whole algorithm $O(1)$ times to boost the success probability."
   ]
  },
  {
   "cell_type": "markdown",
   "metadata": {
    "id": "ddJVURrobh8g"
   },
   "source": [
    "It is clear that the probablity of observation $|0\\rangle^{\\otimes n}$ equals the quantity:\n",
    "\\begin{align}\n",
    "  p(f,g) := \\frac{1}{N^3} \\left(\\sum_{x, y \\in \\{0,1\\}^n}f(x)(-1)^{x \\cdot y}g(y)\\right)^2\n",
    "\\end{align}\n",
    "\n",
    "It is shown in the paper that\n",
    "\n",
    "\\begin{align}\n",
    "   {\\rm Pr}_{\\langle f, g \\rangle \\sim \\mathcal{U}} [p(f,g) \\geq 0.01] \\leq& \\; \\frac{100}{N} \\\\\n",
    "   {\\rm Pr}_{\\langle f, g \\rangle \\sim \\mathcal{F}} [p(f,g) \\geq 0.05] \\geq&\\;\\frac{1}{50} \\\\\n",
    "\\end{align}\n",
    "This implies that the probability of the forrelation square between two functions drawing from uniform  distribution $\\mathcal{U}$ having larger than 0.01  will decaying quickly when we have more number of qubits. Hence, the Promise Fourier Checking problem can be solved through simply accepting when $p(f,g) \\geq 0.05$ and rejecting when $p(f,g) \\leq 0.01$ with constant error probability, using $O(1)$ queries to $f$ and $g$."
   ]
  },
  {
   "cell_type": "markdown",
   "metadata": {
    "id": "FDVxr7UKze2X"
   },
   "source": [
    "## Implementation in Cirq\n",
    "\n",
    "Above algorithm is simple and straightforward to implement. It only involves with Hadmard gates and function oracles. Implementation of oracles based on truth table in Cirq is just simple diagnal gates. To see that, let's use a oracle defined over $\\mathbb{Z}_2^2$ as example:\n",
    "\n",
    "<!-- Suppose it has truth table:\n",
    "\n",
    "| x     | f(x) |\n",
    "|-------|------|\n",
    "| (0,0) | 1    |\n",
    "| (0,1) | -1   |\n",
    "| (1,0) | -1   |\n",
    "| (1,1) | 1    | Then the superposition: -->\n",
    "\\begin{align}\n",
    "  \\sum_{x\\in \\{0, 1\\}^2} f(x)|x\\rangle\n",
    "  =&\\frac{1}{2}\\Big(f(0,0)|00\\rangle + f(0,1)|01\\rangle+f(1,0)|10\\rangle + f(1,1) |11\\rangle\\Big)\\\\\n",
    "  =&\\;\\;\\left[ \\begin{array}{cccc}\n",
    "    f(0,0)   & & & \\\\ \n",
    "    &  f(1,0)  & & \\\\\n",
    "    &   &  f(1,0)  & \\\\\n",
    "    &  & &   f(1,1) \\\\\n",
    "  \\end{array} \\right]\n",
    "  \\left[ \\begin{array}{c}\n",
    "  1/2\\\\\n",
    "  1/2\\\\\n",
    "  1/2\\\\\n",
    "  1/2\n",
    "  \\end{array} \\right]\n",
    "\\end{align}\n",
    "\n",
    "Note the output of $f$ is either 1 or -1, so the diagonal matrix is unitary.\n",
    "\n",
    "<!-- In general, the function $f(x)$ does not have output $\\{1, -1\\}$. Then above matrix is no longer unitary, which is also means the notation $\\sum_{x\\in \\{0, 1\\}^2} f(x)|x\\rangle$ is ill-defined. However, we can still encode the function information into the phases:\n",
    "\\begin{align}\n",
    "\\left[ \\begin{array}{cccc}\n",
    "    e^{-i\\theta f(0,0)}   & & & \\\\ \n",
    "    & e^{-i\\theta  f(1,0)}  & & \\\\\n",
    "    &   & e^{-i\\theta  f(1,0)}  & \\\\\n",
    "    &  & &  e^{-i\\theta  f(1,1)} \\\\\n",
    "  \\end{array} \\right]\n",
    "\\end{align}\n",
    "where $\\theta $ is the some real number to control the phase. But we do not need it in this tutorial. [Anothr tutorial for this?]\n",
    "\n",
    "\n",
    "\n",
    "Eigenvalue? why do we need a $j$ to shift the phase??? -->\n"
   ]
  },
  {
   "cell_type": "code",
   "execution_count": 18,
   "metadata": {
    "id": "_k4-gc7SCBvS"
   },
   "outputs": [
    {
     "name": "stdout",
     "output_type": "stream",
     "text": [
      "          ┌                                                   ┐       ┌                                                   ┐\n",
      "          │ 1.+0.j  0.+0.j  0.+0.j ...  0.+0.j  0.+0.j  0.+0.j│       │-1.+0.j  0.+0.j  0.+0.j ...  0.+0.j  0.+0.j  0.+0.j│\n",
      "          │ 0.+0.j  1.+0.j  0.+0.j ...  0.+0.j  0.+0.j  0.+0.j│       │ 0.+0.j -1.+0.j  0.+0.j ...  0.+0.j  0.+0.j  0.+0.j│\n",
      "          │ 0.+0.j  0.+0.j  1.+0.j ...  0.+0.j  0.+0.j  0.+0.j│       │ 0.+0.j  0.+0.j -1.+0.j ...  0.+0.j  0.+0.j  0.+0.j│\n",
      "0: ───H───│ ...                                               │───H───│ ...                                               │───H───M───\n",
      "          │ 0.+0.j  0.+0.j  0.+0.j ... -1.+0.j  0.+0.j  0.+0.j│       │ 0.+0.j  0.+0.j  0.+0.j ... -1.+0.j  0.+0.j  0.+0.j│       │\n",
      "          │ 0.+0.j  0.+0.j  0.+0.j ...  0.+0.j -1.+0.j  0.+0.j│       │ 0.+0.j  0.+0.j  0.+0.j ...  0.+0.j -1.+0.j  0.+0.j│       │\n",
      "          │ 0.+0.j  0.+0.j  0.+0.j ...  0.+0.j  0.+0.j -1.+0.j│       │ 0.+0.j  0.+0.j  0.+0.j ...  0.+0.j  0.+0.j  1.+0.j│       │\n",
      "          └                                                   ┘       └                                                   ┘       │\n",
      "          │                                                           │                                                           │\n",
      "1: ───H───#2──────────────────────────────────────────────────────H───#2──────────────────────────────────────────────────────H───M───\n",
      "          │                                                           │                                                           │\n",
      "2: ───H───#3──────────────────────────────────────────────────────H───#3──────────────────────────────────────────────────────H───M───\n",
      "          │                                                           │                                                           │\n",
      "3: ───H───#4──────────────────────────────────────────────────────H───#4──────────────────────────────────────────────────────H───M───\n",
      "          │                                                           │                                                           │\n",
      "4: ───H───#5──────────────────────────────────────────────────────H───#5──────────────────────────────────────────────────────H───M───\n",
      "          │                                                           │                                                           │\n",
      "5: ───H───#6──────────────────────────────────────────────────────H───#6──────────────────────────────────────────────────────H───M───\n"
     ]
    }
   ],
   "source": [
    "def oracle(fs, qubits):\n",
    "    return cirq.MatrixGate(np.diag(fs).astype(complex))(*qubits)\n",
    "\n",
    "\n",
    "def fourier_checking_algorithm(qubits, fs, gs):\n",
    "    \"\"\"Returns the circuit for Fourier Checking algorithm given an input.\"\"\"\n",
    "    yield cirq.ParallelGateOperation(cirq.H, qubits)\n",
    "    yield oracle(fs, qubits)\n",
    "    yield cirq.ParallelGateOperation(cirq.H, qubits)\n",
    "    yield oracle(gs, qubits)\n",
    "    yield cirq.ParallelGateOperation(cirq.H, qubits)\n",
    "    yield cirq.measure(*qubits)\n",
    "\n",
    "\n",
    "qubits = cirq.LineQubit.range(n)\n",
    "fs, gs, forrelation, correlation = draw_two_distribution_from_f_set(N)\n",
    "circuit = cirq.Circuit(fourier_checking_algorithm(qubits, fs, gs))\n",
    "print(circuit)"
   ]
  },
  {
   "cell_type": "markdown",
   "metadata": {
    "id": "cD7B8h5nA75O"
   },
   "source": [
    "Since we derived that the square forrelation between $f$ and $g$ is the same as the state of final state in circuit, we can use cirq to check it. Note the final state is *never* able to be obtained in reality. In simulation, it is completely doable through `final_state_vector` or the `dirac_notation` of each moment step: "
   ]
  },
  {
   "cell_type": "code",
   "execution_count": 19,
   "metadata": {
    "id": "Y5nCR6jiU7Up"
   },
   "outputs": [
    {
     "name": "stdout",
     "output_type": "stream",
     "text": [
      "0.12|000000⟩ + 0.12|000001⟩ + 0.12|000010⟩ + 0.12|000011⟩ + 0.12|000100⟩ + 0.12|000101⟩ + 0.12|000110⟩ + 0.12|000111⟩ + 0.12|001000⟩ + 0.12|001001⟩ + 0.12|001010⟩ + 0.12|001011⟩ + 0.12|001100⟩ + 0.12|001101⟩ + 0.12|001110⟩ + 0.12|001111⟩ + 0.12|010000⟩ + 0.12|010001⟩ + 0.12|010010⟩ + 0.12|010011⟩ + 0.12|010100⟩ + 0.12|010101⟩ + 0.12|010110⟩ + 0.12|010111⟩ + 0.12|011000⟩ + 0.12|011001⟩ + 0.12|011010⟩ + 0.12|011011⟩ + 0.12|011100⟩ + 0.12|011101⟩ + 0.12|011110⟩ + 0.12|011111⟩ + 0.12|100000⟩ + 0.12|100001⟩ + 0.12|100010⟩ + 0.12|100011⟩ + 0.12|100100⟩ + 0.12|100101⟩ + 0.12|100110⟩ + 0.12|100111⟩ + 0.12|101000⟩ + 0.12|101001⟩ + 0.12|101010⟩ + 0.12|101011⟩ + 0.12|101100⟩ + 0.12|101101⟩ + 0.12|101110⟩ + 0.12|101111⟩ + 0.12|110000⟩ + 0.12|110001⟩ + 0.12|110010⟩ + 0.12|110011⟩ + 0.12|110100⟩ + 0.12|110101⟩ + 0.12|110110⟩ + 0.12|110111⟩ + 0.12|111000⟩ + 0.12|111001⟩ + 0.12|111010⟩ + 0.12|111011⟩ + 0.12|111100⟩ + 0.12|111101⟩ + 0.12|111110⟩ + 0.12|111111⟩\n",
      "|0> state probability to observe:  0.015624996274709924\n",
      "0.12|000000⟩ + 0.12|000001⟩ + 0.12|000010⟩ + 0.12|000011⟩ + 0.12|000100⟩ - 0.12|000101⟩ - 0.12|000110⟩ - 0.12|000111⟩ + 0.12|001000⟩ - 0.12|001001⟩ - 0.12|001010⟩ + 0.12|001011⟩ + 0.12|001100⟩ + 0.12|001101⟩ - 0.12|001110⟩ + 0.12|001111⟩ - 0.12|010000⟩ + 0.12|010001⟩ + 0.12|010010⟩ - 0.12|010011⟩ - 0.12|010100⟩ + 0.12|010101⟩ + 0.12|010110⟩ - 0.12|010111⟩ + 0.12|011000⟩ - 0.12|011001⟩ + 0.12|011010⟩ - 0.12|011011⟩ - 0.12|011100⟩ + 0.12|011101⟩ - 0.12|011110⟩ - 0.12|011111⟩ - 0.12|100000⟩ - 0.12|100001⟩ - 0.12|100010⟩ - 0.12|100011⟩ - 0.12|100100⟩ - 0.12|100101⟩ - 0.12|100110⟩ + 0.12|100111⟩ - 0.12|101000⟩ + 0.12|101001⟩ - 0.12|101010⟩ - 0.12|101011⟩ - 0.12|101100⟩ - 0.12|101101⟩ - 0.12|101110⟩ - 0.12|101111⟩ - 0.12|110000⟩ - 0.12|110001⟩ - 0.12|110010⟩ + 0.12|110011⟩ - 0.12|110100⟩ + 0.12|110101⟩ + 0.12|110110⟩ + 0.12|110111⟩ - 0.12|111000⟩ - 0.12|111001⟩ - 0.12|111010⟩ + 0.12|111011⟩ + 0.12|111100⟩ - 0.12|111101⟩ - 0.12|111110⟩ - 0.12|111111⟩\n",
      "|0> state probability to observe:  0.015624996274709924\n",
      "-0.22|000000⟩ - 0.09|000001⟩ + 0.03|000010⟩ + 0.03|000011⟩ + 0.03|000100⟩ + 0.03|000101⟩ - 0.09|000110⟩ + 0.03|000111⟩ + 0.09|001000⟩ - 0.03|001001⟩ - 0.16|001010⟩ - 0.16|001011⟩ - 0.03|001100⟩ - 0.03|001101⟩ + 0.09|001110⟩ - 0.03|001111⟩ - 0.03|010000⟩ - 0.03|010001⟩ + 0.09|010010⟩ + 0.22|010011⟩ + 0.09|010100⟩ - 0.03|010101⟩ + 0.09|010110⟩ - 0.16|010111⟩ - 0.09|011000⟩ + 0.16|011001⟩ + 0.03|011010⟩ + 0.16|011011⟩ + 0.16|011100⟩ + 0.03|011101⟩ - 0.09|011110⟩ - 0.09|011111⟩ + 0.28|100000⟩ + 0.16|100001⟩ + 0.16|100010⟩ - 0.09|100011⟩ + 0.16|100100⟩ + 0.16|100101⟩ - 0.09|100110⟩ + 0.03|100111⟩ - 0.03|101000⟩ + 0.09|101001⟩ + 0.09|101010⟩ - 0.16|101011⟩ + 0.22|101100⟩ - 0.28|101101⟩ - 0.03|101110⟩ - 0.16|101111⟩ + 0.22|110000⟩ - 0.03|110001⟩ - 0.03|110010⟩ + 0.34|110011⟩ - 0.03|110100⟩ - 0.16|110101⟩ - 0.16|110110⟩ + 0.09|110111⟩ + 0.03|111000⟩ + 0.03|111001⟩ + 0.03|111010⟩ - 0.09|111011⟩ + 0.16|111100⟩ + 0.03|111101⟩ + 0.03|111110⟩ + 0.03|111111⟩\n",
      "|0> state probability to observe:  0.0478515559807422\n",
      "0.22|000000⟩ + 0.09|000001⟩ - 0.03|000010⟩ + 0.03|000011⟩ + 0.03|000100⟩ - 0.03|000101⟩ + 0.09|000110⟩ - 0.03|000111⟩ + 0.09|001000⟩ + 0.03|001001⟩ + 0.16|001010⟩ + 0.16|001011⟩ - 0.03|001100⟩ - 0.03|001101⟩ - 0.09|001110⟩ + 0.03|001111⟩ + 0.03|010000⟩ + 0.03|010001⟩ + 0.09|010010⟩ + 0.22|010011⟩ - 0.09|010100⟩ + 0.03|010101⟩ + 0.09|010110⟩ + 0.16|010111⟩ + 0.09|011000⟩ + 0.16|011001⟩ - 0.03|011010⟩ + 0.16|011011⟩ + 0.16|011100⟩ - 0.03|011101⟩ + 0.09|011110⟩ + 0.09|011111⟩ + 0.28|100000⟩ + 0.16|100001⟩ + 0.16|100010⟩ + 0.09|100011⟩ + 0.16|100100⟩ + 0.16|100101⟩ + 0.09|100110⟩ - 0.03|100111⟩ + 0.03|101000⟩ + 0.09|101001⟩ + 0.09|101010⟩ + 0.16|101011⟩ + 0.22|101100⟩ + 0.28|101101⟩ - 0.03|101110⟩ - 0.16|101111⟩ + 0.22|110000⟩ + 0.03|110001⟩ + 0.03|110010⟩ + 0.34|110011⟩ + 0.03|110100⟩ + 0.16|110101⟩ + 0.16|110110⟩ + 0.09|110111⟩ + 0.03|111000⟩ + 0.03|111001⟩ + 0.03|111010⟩ - 0.09|111011⟩ - 0.16|111100⟩ - 0.03|111101⟩ - 0.03|111110⟩ + 0.03|111111⟩\n",
      "|0> state probability to observe:  0.0478515559807422\n",
      "0.57|000000⟩ - 0.02|000001⟩ + 0.04|000010⟩ + 0.07|000011⟩ + 0.23|000100⟩ - 0.02|000101⟩ - 0.02|000110⟩ + 0.16|000111⟩ + 0.2|001000⟩ + 0.04|001001⟩ - 0.05|001010⟩ + 0.04|001011⟩ + 0.01|001100⟩ + 0.01|001101⟩ + 0.1|001110⟩ + 0.16|001111⟩ + 0.04|010000⟩ + 0.13|010001⟩ + 0.23|010010⟩ - 0.05|010011⟩ + 0.07|010100⟩ + 0.01|010101⟩ - 0.15|010110⟩ - 0.02|010111⟩ - 0.09|011000⟩ + 0.13|011001⟩ + 0.13|011010⟩ - 0.02|011011⟩ - 0.02|011100⟩ - 0.02|011101⟩ + 0.23|011110⟩ - 0.09|011111⟩ - 0.09|100000⟩ - 0.02|100001⟩ - 0.15|100010⟩ + 0.1|100011⟩ + 0.04|100100⟩ - 0.05|100101⟩ + 0.13|100110⟩ - 0.09|100111⟩ - 0.21|101000⟩ - 0.02|101001⟩ + 0.01|101010⟩ - 0.12|101011⟩ - 0.05|101100⟩ + 0.04|101101⟩ + 0.01|101110⟩ - 0.02|101111⟩ - 0.18|110000⟩ + 0.01|110001⟩ - 0.09|110010⟩ + 0.04|110011⟩ + 0.07|110100⟩ + 0.1|110101⟩ + 0.13|110110⟩ + 0.04|110111⟩ + 0.13|111000⟩ + 0.01|111001⟩ + 0.13|111010⟩ + 0.07|111011⟩ - 0.09|111100⟩ - 0.18|111101⟩ - 0.05|111110⟩ + 0.1|111111⟩\n",
      "|0> state probability to observe:  0.32525614369663813\n",
      "|011110⟩\n",
      "|0> state probability to observe:  0.0\n"
     ]
    }
   ],
   "source": [
    "assert np.isclose(circuit.final_state_vector()[0], forrelation)\n",
    "\n",
    "s = cirq.Simulator()\n",
    "for step in s.simulate_moment_steps(circuit):\n",
    "    print(step.dirac_notation())\n",
    "    print(\"|0> state probability to observe: \",\n",
    "          np.abs(step.state_vector()[0])**2)"
   ]
  },
  {
   "cell_type": "code",
   "execution_count": 20,
   "metadata": {
    "id": "9rEqwrI9KM4w"
   },
   "outputs": [
    {
     "data": {
      "image/png": "[encoded data removed]",
      "text/plain": [
       "<Figure size 432x288 with 1 Axes>"
      ]
     },
     "metadata": {
      "needs_background": "light"
     },
     "output_type": "display_data"
    }
   ],
   "source": [
    "final_state = circuit.final_state_vector()\n",
    "plt.fill_between(np.arange(len(final_state)), np.abs(final_state)**2)\n",
    "plt.xlabel(\"State of qubits\")\n",
    "plt.ylabel(\"Probability\")\n",
    "plt.show()"
   ]
  },
  {
   "cell_type": "markdown",
   "metadata": {
    "id": "m5Qzdo8rTPxJ"
   },
   "source": [
    "In reality, we can measure the state of qubits only. Each measurement will only produce one state. In order to eastimate the probability, we can do 100 repeitations and use frequency of showing 0 state as the approximation of the probability of state 0."
   ]
  },
  {
   "cell_type": "code",
   "execution_count": 21,
   "metadata": {
    "id": "RS-njXvxM3pA"
   },
   "outputs": [
    {
     "name": "stdout",
     "output_type": "stream",
     "text": [
      "times zero state was measured from 100 measurements: 32.0%\n",
      "fs and gs is forrelated!\n"
     ]
    }
   ],
   "source": [
    "repetitions = 100\n",
    "obs = s.run(circuit, repetitions=repetitions)\n",
    "qubits_name = ','.join(str(i) for i in range(n))\n",
    "times_zero_was_measured = len(obs.data[obs.data[qubits_name] == 0])\n",
    "print(\n",
    "    f\"times zero state was measured from {repetitions} measurements: {float(times_zero_was_measured/repetitions)*100}%\"\n",
    ")\n",
    "if float(times_zero_was_measured / repetitions) > 0.05:\n",
    "    print(\"fs and gs is forrelated!\")"
   ]
  },
  {
   "cell_type": "markdown",
   "metadata": {
    "id": "IHLLADQvT-lK"
   },
   "source": [
    "Last, we can randomly draw the functions from either $\\mathcal{U}$ or $\\mathcal{F}$ set to evaluate the confusion matrix of the fourier checking algorithm. With the confusion matrix, you should be confident that quantum algorithm instead can solve the fourier checking in $O(1)$ time -- even though we need to measure 100 or 1000 times to evaluate the probability, it is irrelevant to the number of states or qubits."
   ]
  },
  {
   "cell_type": "code",
   "execution_count": 22,
   "metadata": {
    "id": "PTq4ys9PanaM"
   },
   "outputs": [],
   "source": [
    "res = pd.DataFrame()\n",
    "repetitions = 100\n",
    "for _ in range(1000):\n",
    "    bell_state = np.random.rand() > 0.5\n",
    "    state = \"Bell State\" if bell_state else \"Uniform State\"\n",
    "    decision = bell_or_uniform_algorithm(bell_state)\n",
    "    if np.random.rand() > 0.5:\n",
    "        fs, gs, _, _ = draw_two_distribution_from_f_set(N)\n",
    "        source = \"F set\"\n",
    "    else:\n",
    "        fs, gs, _, _ = draw_two_distribution_from_u_set(N)\n",
    "        source = \"U set\"\n",
    "\n",
    "    circuit = cirq.Circuit(fourier_checking_algorithm(qubits, fs, gs))\n",
    "    obs = s.run(circuit, repetitions=repetitions)\n",
    "    times_zero_was_measured = len(obs.data[obs.data[','.join(\n",
    "        str(i) for i in range(n))] == 0])\n",
    "    if times_zero_was_measured / repetitions > 0.05:\n",
    "        res = res.append({\n",
    "            \"Source\": source,\n",
    "            \"Decision\": \"accept\",\n",
    "            \"Count\": 1\n",
    "        }, ignore_index=True)\n",
    "    else:\n",
    "        res = res.append({\n",
    "            \"Source\": source,\n",
    "            \"Decision\": \"reject\",\n",
    "            \"Count\": 1\n",
    "        }, ignore_index=True)"
   ]
  },
  {
   "cell_type": "code",
   "execution_count": 23,
   "metadata": {
    "id": "XdRPexDdfBjW"
   },
   "outputs": [
    {
     "data": {
      "text/html": [
       "<div>\n",
       "<style scoped>\n",
       "    .dataframe tbody tr th:only-of-type {\n",
       "        vertical-align: middle;\n",
       "    }\n",
       "\n",
       "    .dataframe tbody tr th {\n",
       "        vertical-align: top;\n",
       "    }\n",
       "\n",
       "    .dataframe thead th {\n",
       "        text-align: right;\n",
       "    }\n",
       "</style>\n",
       "<table border=\"1\" class=\"dataframe\">\n",
       "  <thead>\n",
       "    <tr style=\"text-align: right;\">\n",
       "      <th>Decision</th>\n",
       "      <th>accept</th>\n",
       "      <th>reject</th>\n",
       "    </tr>\n",
       "    <tr>\n",
       "      <th>Source</th>\n",
       "      <th></th>\n",
       "      <th></th>\n",
       "    </tr>\n",
       "  </thead>\n",
       "  <tbody>\n",
       "    <tr>\n",
       "      <th>F set</th>\n",
       "      <td>500.0</td>\n",
       "      <td>NaN</td>\n",
       "    </tr>\n",
       "    <tr>\n",
       "      <th>U set</th>\n",
       "      <td>44.0</td>\n",
       "      <td>456.0</td>\n",
       "    </tr>\n",
       "  </tbody>\n",
       "</table>\n",
       "</div>"
      ],
      "text/plain": [
       "Decision  accept  reject\n",
       "Source                  \n",
       "F set      500.0     NaN\n",
       "U set       44.0   456.0"
      ]
     },
     "execution_count": 23,
     "metadata": {},
     "output_type": "execute_result"
    }
   ],
   "source": [
    "confusion = res.pivot_table(index=\"Source\", columns=\"Decision\",\n",
    "                            values=\"Count\", aggfunc=\"sum\")\n",
    "confusion"
   ]
  },
  {
   "cell_type": "markdown",
   "metadata": {
    "id": "03GsjDCXst4E"
   },
   "source": [
    "# Query Complexity of Quantum Algorithm Versus the Classical one\n",
    "\n",
    "After we discussed the quantum algorithm, it is time to look back to classical algorithm for comparison. It is not hard to give a classical algorithm that solves Fourier Checking using $O(\\sqrt{N}) = O(2^{n/2})$ queries. The algorithm is as follows:\n",
    "\n",
    "For some $K=\\Theta(\\sqrt{N})$, first choose sets $X=\\{x_1,\\ldots, x_K\\}$ and $Y = \\{y_1, \\ldots, y_K\\}$ of $n-$bit strings uniformly at random. Then query $f(x_i)$ and $g(y_i)$ for all $i \\in [K]$. Finally, compute\n",
    "$$\n",
    "  Z := \\sum_{i,j=1}^K f(x_i) (-1)^{x_i\\cdot y_j} g(y_j)\n",
    "$$\n",
    "accept if $|Z|$ is greater than some cutoff $cK$, and reject otherwise. For suitable $K$ and $c$, one can show that this algorithm accepts a forrelated $\\langle f, g \\rangle$ pair with probability at least $2/3$. Maybe we can find a better classical algorithm for forrelation problem, but it is proved that the lower bound on the classical query complexity is at least $\\Omega\\left(\\sqrt[4]{N}\\right) = \\Omega\\left(2^{n/4}\\right)$. Comparing this with $O(1)$ complexity in quantum query, we can see an exponential speedup by using quantum computer."
   ]
  },
  {
   "cell_type": "markdown",
   "metadata": {
    "id": "HpOFrK4QW5Y4"
   },
   "source": [
    "# Further reading\n",
    "\n",
    "The Forrelation problem was originally introduced in [1]. Later, the **$k$-fold Forrelation** problem was introduced in [2], which considered the forrelation between $k$ oracle functions. In that paper, it also improved the proof about the seperation of forrelation problem from $\\Omega\\left(\\sqrt[4]{N}\\right)$ to $\\tilde{\\Omega}\\left(\\sqrt{N}\\right)$, which can not be further improved. Thus, resolving an open question of Buhrman et al., there is NO partial\n",
    "Boolean function whose quantum query complexity is constant and whose randomized query complexity is linear. \n",
    "\n",
    "[1] *Scott Aaronson. BQP and the Polynomial Hierarchy. STOC ’10, page 141–150, New York, NY, USA, 2010.* [arXiv](https://arxiv.org/pdf/0910.4698.pdf)\n",
    "\n",
    "[2] *Scott Aaronson and Andris Ambainis. Forrelation: A problem that optimally separates quantum\n",
    "from classical computing. SIAM J. Comput., 47(3):982–1038, 2018.* [arXiv]( https://arxiv.org/pdf/1411.5729.pdf)"
   ]
  }
 ],
 "metadata": {
  "colab": {
   "collapsed_sections": [],
   "name": "fourier_checking.ipynb",
   "toc_visible": true
  },
  "kernelspec": {
   "display_name": "Python 3",
   "name": "python3"
  }
 },
 "nbformat": 4,
 "nbformat_minor": 0
}
