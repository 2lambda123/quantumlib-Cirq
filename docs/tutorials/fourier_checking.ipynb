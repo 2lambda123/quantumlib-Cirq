{
  "nbformat": 4,
  "nbformat_minor": 0,
  "metadata": {
    "colab": {
      "name": " Fourier checking / Forrelation",
      "provenance": [],
      "collapsed_sections": [
        "HNCLXihE01A7",
        "spyqzGyf5kGW",
        "02GAaXsAsYOW"
      ],
      "toc_visible": true,
      "include_colab_link": true
    },
    "kernelspec": {
      "name": "python3",
      "display_name": "Python 3"
    }
  },
  "cells": [
    {
      "cell_type": "markdown",
      "metadata": {
        "id": "view-in-github",
        "colab_type": "text"
      },
      "source": [
        "<a href=\"https://colab.research.google.com/github/ybc1991/Cirq/blob/forrelation/docs/tutorials/fourier_checking.ipynb\" target=\"_parent\"><img src=\"https://colab.research.google.com/assets/colab-badge.svg\" alt=\"Open In Colab\"/></a>"
      ]
    },
    {
      "cell_type": "code",
      "metadata": {
        "id": "-7UPLcFfFzVv",
        "colab": {
          "base_uri": "https://localhost:8080/"
        },
        "outputId": "b5647056-701e-42a2-996a-1a5c046e0029"
      },
      "source": [
        "try:\n",
        "  import cirq\n",
        "except:\n",
        "  print(\"installing cirq...\")\n",
        "  !pip install --quiet cirq\n",
        "  print(\"installed cirq.\")\n",
        "  import cirq\n",
        "\n",
        "import numpy as np\n",
        "import matplotlib.pyplot as plt\n",
        "import pandas as pd\n",
        "\n",
        "np.set_printoptions(precision=3, suppress=True, linewidth=200)"
      ],
      "execution_count": null,
      "outputs": [
        {
          "output_type": "stream",
          "text": [
            "installing cirq...\n",
            "\u001b[K     |████████████████████████████████| 1.6MB 6.4MB/s \n",
            "\u001b[?25hinstalled cirq.\n"
          ],
          "name": "stdout"
        }
      ]
    },
    {
      "cell_type": "markdown",
      "metadata": {
        "id": "2k_4KaHyDMSh"
      },
      "source": [
        "\n",
        "# Introduction\n",
        "\n",
        "\n",
        "In past decades, there are ample evidences to suggest that quantum computers can be exponentially more powerful in solving certain computational tasks than their classical couterparts. The *black-box* or *query* model, such as Grover’s search, Deutsch-Josza’s algorithm, etc., offers a concrete setting to show such exponential speedups. Normally, one provides \"black-box access\" to a function $f$, meaning that the quantum algorithm can apply a unitary\n",
        "transformation that maps basis states of the form $|x, y \\rangle$ to to basis states of the form $|x, y \\oplus f(x)\\rangle $ or $|x\\rangle$ to $(-1)^{f(x)} |x\\rangle$ if $f$ is Boolean. Then, a natural question is asked:\n",
        "\n",
        "> What is the maximal possible separation between quantum  and classical query complexities?\n",
        "\n",
        "For example, could there be a function of $N$ bits with a quantum query\n",
        "complexity of 1, but a classical randomized query complexity of $\\Omega(\\sqrt{N})$ or $\\Omega(N)$?\n",
        "Specifically, [Buhrman et al. from 2002](https://www.sciencedirect.com/science/article/pii/S030439750100144X) asked whether there is any\n",
        "property of $N-$bit strings that exhibits a **“maximal”** separation: that is, one that requires $\\Omega(N)$\n",
        "queries to test classically, but only O (1) quantumly.\n",
        "\n",
        "**Fourier Checking** is a problem that provides a separation between quantum  and classical computers -- $O(1)$ VS $\\tilde{\\Omega}(\\sqrt{N})$, which can be proved as optimal. Currently it only has theoretical importance - but, as it falls into the category of small quantum algorithms, it can be used to demonstrate query complexity and oracle synthesis in Cirq.\n",
        "\n",
        "Goal of this notebook is to introduce\n",
        "\n",
        "1. What is Forrelation and Fourier Checking problem and why we are interested in it?\n",
        "2. What is bounded-error quantum polynomial time (BQP) and why does Fourier Checking problem belong to it?\n",
        "3. How to implement Fourier Checking algorithm and Oracle Function in Cirq?\n",
        "\n",
        "We don't include the formal proofs and argument. But we do give some derivation sketch for intuition and encourage the reader to check the corresponding lemmas and theorems in the original paper.\n",
        "\n",
        "<!-- ## Structure of this notebook\n",
        "\n",
        "  We start by reviewing Fourier transform and correlation. Then introduce the concept of *forrelation*, i.e. fourier + correlation. After these preparation,  the formal statement of the *Fourier Checking* problem is presented. Then we solve this problem in a straightforward way, which follows directly from the problem definition. We will use this solution to verify our quantum solution in the next part. During the Cirq implemention, we will discuss the relation between the oracle function and diagonal matrix gate and how you can implemention that in Cirq. Last, we will show this problem provides maximum separation between classical and quantum computers.  -->\n",
        "\n"
      ]
    },
    {
      "cell_type": "markdown",
      "metadata": {
        "id": "hq6-obwCiEXX"
      },
      "source": [
        "# Preliminary\n",
        "\n",
        "Before we present the Fourier Checking problem, three preliminary concepts, 1) BPP and BQP 2) Fourier Transform over $Z_2^n$ and 3) Forrelation, are introduced first.\n"
      ]
    },
    {
      "cell_type": "markdown",
      "metadata": {
        "id": "HNCLXihE01A7"
      },
      "source": [
        "## Bounded-error Probabilistic Polynomial time (BPP)\n",
        "\n",
        "In computational complexity theory, [bounded-error probabilistic polynomial time (BPP)](https://en.wikipedia.org/wiki/BPP_(complexity)) is the class of decision problems solvable by a [probabilistic Turing machine](https://en.wikipedia.org/wiki/Probabilistic_Turing_machine) in polynomial time with an error probability bounded away from 1/3 for all instances:\n",
        "\n",
        "| &nbsp; &nbsp;&nbsp;&nbsp;&nbsp; Anwser Provided  <br />  <br /> Correct Anwser| Yes <br /> <br /> &nbsp; | No <br /> <br /> &nbsp;|\n",
        "|:---------------|------|-------|\n",
        "| Yes           | $\\geq$ 2/3 | $\\leq$ 1/3 |\n",
        "| No            | $\\leq$ 1/3 | $\\geq$ 2/3 |\n",
        "\n",
        "The choice of 1/3 in the definition is arbitrary. It can be any constant between 0 and ​1/2 (exclusive) and the set BPP will be unchanged.\n",
        "\n",
        "<!-- \n",
        "**Problem**: Supposing we have two qubits and we are promised that the two qubits are either in uniform superposition state, $\\frac{1}{2}(|00\\rangle + |01\\rangle + |10\\rangle + |11\\rangle)$, or Bell state, $\\frac{1}{\\sqrt{2}}(|00\\rangle + |11\\rangle)$ . The problem is to accept it if it was in Bell Sate otherwise reject it.\n",
        "\n",
        "**Naive Algorithm**: Measure two qubits and accept the result if the XOR of two measurements is 0. It is easy to get following confusion matrix:\n",
        "\n",
        "| Naive Algorithm:  | Accept  | Reject |\n",
        "|---------------|---------|-------|\n",
        "| Bell state    | 1   | 0  |\n",
        "| Uniform State | 1/2 | 1/2|\n",
        "\n",
        "You see $1/2$ is not larger than $2/3$. So this naive algorithm does **NOT** solve the problem. \n",
        "\n",
        "**One Possible Algorithm**: Accept the results if the XOR of two measurements is 0 AND a random number drawing from  $[0,1]$ uniformly is equal or larger than $1/3$. Otherwise, reject it.\n",
        "\n",
        "At first glance, you may feel this algorithm is worse than the previous one. But you will find it actually solves the problem and satisfies the BQP requirement if you compute the confusion matrix:\n",
        "\n",
        "| Algorithm:  | Accept  | Reject |\n",
        "|---------------|---------|-------|\n",
        "| Bell state    | 2/3 | 1/3  |\n",
        "| Uniform State | 1/3 | 2/3  |\n",
        "\n",
        "You can use probability theorem to calculate above confusion matrix exactly but let use Cirq to do simulation to verify that. -->"
      ]
    },
    {
      "cell_type": "markdown",
      "metadata": {
        "id": "Mj1IjP3TWVn0"
      },
      "source": [
        "To understand this better, let's consider a simple example.\n",
        "\n",
        "**Problem**: Supposing we have a boolean function $f: \\{0, 1\\}^n \\rightarrow\\{-1, 1\\}$. The function is drawn either from distribution $\\mathcal{B}$ or $\\mathcal{C}$. Under the distribution $\\mathcal{B}$, the function $f$ is balanced, i.e., $\\sum_{x} f(x) = 0$. Under the distribution $\\mathcal{C}$, the function $f$ is constant, i.e., function is always equal to $+1$ or $-1$. The problem is to accept the function if it is drawn from $\\mathcal{B}$ or reject it otherwise.\n",
        "\n",
        "For example, consider the case that $n=2$. There are only four possible functions listed in following table\n",
        "\n",
        "|x   | f_0(x)| f_1(x)| f_2(x)| f_3(x)|\n",
        "|----|----:|----:|----:|----:|\n",
        "| 0  | +1 | -1 | +1 | -1 |\n",
        "| 1  | -1 | +1 | +1 | -1 |\n",
        "\n",
        "Clearly, $f_0$ and $f_1$ belongs to $\\mathcal{B}$ and $f_2$ and $f_3$ belongs to $\\mathcal{C}$.\n",
        "\n",
        "**Deterministic Algorithm**:  We evaluate the outputs of function of $2^{n-1}+1$ different inputs. If the results contain both $+1$ and $-1$ value, the function must be drawn from distribution $\\mathcal{B}$. Otherwise, it must come from $\\mathcal{C}$.\n",
        "\n",
        "Remembering that the function is guaranteed to be either balanced or constant, not somewhere in between. So above algorithm is guaranteed to be always correct. However, the query complexity is $O(N)$, denoting $N=2^n$. Here we are interested in the query complexity instead of computation complexity. Namely, how many times we have to evaluate $f$ -- which you can imagine being a very costly function. If the bounded-error probability is acceptable for solving the problem, we can achieve better algorithm in terms of query complexity.\n",
        "\n",
        "**Randomized Algorithm**: Randomly select $K$ different inputs and evaluate the corresponding outputs. If both $+1$ and $-1$ are observed, we accept it. Otherwise, it reject it.\n",
        "\n",
        "The complexity of algorithm depends on the choice of $K$. For this problem, selecting fixed number is sufficient, i.e. $O(1)$ query complexity. It is worth to remark that $O(1)$ means no matter the fixed number is independent of the input size of function $N$. Consider the $K=2$ case, it is not hard to establish the following confusion matrix regardless of $N$:\n",
        "\n",
        "| Randomized Algorithm (K=2):  | Accept  | Reject |\n",
        "|---------------|---------|-------|\n",
        "| Drawn from $\\mathcal{B}$ | 1/2 | 1/2  |\n",
        "| Drawn from $\\mathcal{C}$ | 0 | 1 |\n",
        "\n",
        "This is not sufficient to solve it. However, if we select $K>2$ entries, the  probability of correctness will boost. Let's use the code to exam it."
      ]
    },
    {
      "cell_type": "code",
      "metadata": {
        "id": "DzkklbuNWWEi"
      },
      "source": [
        "def gen_balanced_function(N):\n",
        "  half_size = N // 2\n",
        "  f = np.ones(N)\n",
        "  flip_loc = np.random.permutation(N)[:half_size]\n",
        "  f[flip_loc] = -1\n",
        "  return f\n",
        "\n",
        "def gen_constant_function(N):\n",
        "  flip = np.random.random() > 0.5\n",
        "  f = np.ones(N) if flip else -1 * np.ones(N)\n",
        "  return f"
      ],
      "execution_count": null,
      "outputs": []
    },
    {
      "cell_type": "code",
      "metadata": {
        "id": "jOrvc5MiWWHJ"
      },
      "source": [
        "def randomized_alg(f, sample_size):\n",
        "  N = len(f)\n",
        "  sample_index = np.random.choice(N, size=sample_size)\n",
        "  if len(set(f[sample_index])) == 2:\n",
        "    return \"accept\"\n",
        "  return \"reject\""
      ],
      "execution_count": null,
      "outputs": []
    },
    {
      "cell_type": "code",
      "metadata": {
        "colab": {
          "base_uri": "https://localhost:8080/",
          "height": 142
        },
        "id": "Zo7zeqllWWNf",
        "outputId": "a77cb7b4-eb21-4b52-f6dc-bbc5b12b88b7"
      },
      "source": [
        "N = 128\n",
        "K = 3\n",
        "\n",
        "res = pd.DataFrame()\n",
        "for _ in range(1000):\n",
        "  if np.random.rand() > 0.5:\n",
        "    f = gen_balanced_function(N)\n",
        "    dist = \"B\"\n",
        "  else:\n",
        "    f = gen_constant_function(N)\n",
        "    dist = \"C\"\n",
        "  decision = randomized_alg(f, K)\n",
        "  res = res.append({\"Distribution\": dist, \"Decision\": decision, \"Count\": 1},\n",
        "                   ignore_index=True)\n",
        "confusion = res.pivot_table(index=\"Distribution\", columns=\"Decision\", values=\"Count\", aggfunc=\"sum\")\n",
        "confusion.div(confusion.sum(axis=1), axis=0).apply(lambda x: round(x, 4) * 100)"
      ],
      "execution_count": null,
      "outputs": [
        {
          "output_type": "execute_result",
          "data": {
            "text/html": [
              "<div>\n",
              "<style scoped>\n",
              "    .dataframe tbody tr th:only-of-type {\n",
              "        vertical-align: middle;\n",
              "    }\n",
              "\n",
              "    .dataframe tbody tr th {\n",
              "        vertical-align: top;\n",
              "    }\n",
              "\n",
              "    .dataframe thead th {\n",
              "        text-align: right;\n",
              "    }\n",
              "</style>\n",
              "<table border=\"1\" class=\"dataframe\">\n",
              "  <thead>\n",
              "    <tr style=\"text-align: right;\">\n",
              "      <th>Decision</th>\n",
              "      <th>accept</th>\n",
              "      <th>reject</th>\n",
              "    </tr>\n",
              "    <tr>\n",
              "      <th>Distribution</th>\n",
              "      <th></th>\n",
              "      <th></th>\n",
              "    </tr>\n",
              "  </thead>\n",
              "  <tbody>\n",
              "    <tr>\n",
              "      <th>B</th>\n",
              "      <td>76.56</td>\n",
              "      <td>23.44</td>\n",
              "    </tr>\n",
              "    <tr>\n",
              "      <th>C</th>\n",
              "      <td>NaN</td>\n",
              "      <td>100.00</td>\n",
              "    </tr>\n",
              "  </tbody>\n",
              "</table>\n",
              "</div>"
            ],
            "text/plain": [
              "Decision      accept  reject\n",
              "Distribution                \n",
              "B              76.56   23.44\n",
              "C                NaN  100.00"
            ]
          },
          "metadata": {
            "tags": []
          },
          "execution_count": 11
        }
      ]
    },
    {
      "cell_type": "markdown",
      "metadata": {
        "id": "dU4e1_FrbME1"
      },
      "source": [
        "Recall that the B in BPP means *bounded-error*. Actually, you can achieve arbitary small error rate under the same query complexity order. Say, you set an acceptable error rate $\\epsilon$. Then the key is that we can run the algorithm multiple times. Repeat it as many times as you want until the error rate is lower than $\\epsilon$. It is crucial to note that the error rate for this particular problem does not depend on the size of the input but only on the size of the sample and the reptitation. For this reason, in order to get to a bounded probability error, it is sufficient to just adjust the sample size and/or repetitions to a given constant - which means that the \"query complexity\" of the algorithm will stay $O(1)$. For example, let's run previous algorithms 3 times and make the final decision based on the majority of the decision of each term. You should verify that the probability of error indeed decreased and independent of $N$."
      ]
    },
    {
      "cell_type": "code",
      "metadata": {
        "colab": {
          "base_uri": "https://localhost:8080/",
          "height": 142
        },
        "id": "uY_VUjr0bLS_",
        "outputId": "cb0147c4-46cf-4839-f7de-38e2646a8855"
      },
      "source": [
        "N = 128\n",
        "K = 3\n",
        "repetitions = 3\n",
        "\n",
        "res = pd.DataFrame()\n",
        "for _ in range(1000):\n",
        "  if np.random.rand() > 0.5:\n",
        "    f = gen_balanced_function(N)\n",
        "    dist = \"B\"\n",
        "  else:\n",
        "    f = gen_constant_function(N)\n",
        "    dist = \"C\"\n",
        "  accept_minus_reject_count = 0\n",
        "  for _ in range(repetitions):\n",
        "    decision = randomized_alg(f, K)\n",
        "    accept_minus_reject_count += 1 if decision == \"accept\" else -1\n",
        "  final_decision = \"accept\" if accept_minus_reject_count > 0 else \"reject\"\n",
        "  res = res.append({\"Distribution\": dist, \"Decision\": final_decision, \"Count\": 1},\n",
        "                   ignore_index=True)\n",
        "confusion = res.pivot_table(index=\"Distribution\", columns=\"Decision\", values=\"Count\", aggfunc=\"sum\")\n",
        "confusion.div(confusion.sum(axis=1), axis=0).apply(lambda x: round(x, 4) * 100)"
      ],
      "execution_count": null,
      "outputs": [
        {
          "output_type": "execute_result",
          "data": {
            "text/html": [
              "<div>\n",
              "<style scoped>\n",
              "    .dataframe tbody tr th:only-of-type {\n",
              "        vertical-align: middle;\n",
              "    }\n",
              "\n",
              "    .dataframe tbody tr th {\n",
              "        vertical-align: top;\n",
              "    }\n",
              "\n",
              "    .dataframe thead th {\n",
              "        text-align: right;\n",
              "    }\n",
              "</style>\n",
              "<table border=\"1\" class=\"dataframe\">\n",
              "  <thead>\n",
              "    <tr style=\"text-align: right;\">\n",
              "      <th>Decision</th>\n",
              "      <th>accept</th>\n",
              "      <th>reject</th>\n",
              "    </tr>\n",
              "    <tr>\n",
              "      <th>Distribution</th>\n",
              "      <th></th>\n",
              "      <th></th>\n",
              "    </tr>\n",
              "  </thead>\n",
              "  <tbody>\n",
              "    <tr>\n",
              "      <th>B</th>\n",
              "      <td>83.33</td>\n",
              "      <td>16.67</td>\n",
              "    </tr>\n",
              "    <tr>\n",
              "      <th>C</th>\n",
              "      <td>NaN</td>\n",
              "      <td>100.00</td>\n",
              "    </tr>\n",
              "  </tbody>\n",
              "</table>\n",
              "</div>"
            ],
            "text/plain": [
              "Decision      accept  reject\n",
              "Distribution                \n",
              "B              83.33   16.67\n",
              "C                NaN  100.00"
            ]
          },
          "metadata": {
            "tags": []
          },
          "execution_count": 12
        }
      ]
    },
    {
      "cell_type": "markdown",
      "metadata": {
        "id": "Tda2vy2pb1aU"
      },
      "source": [
        "If you try the algorithm with more repetitions, you will observe the error rate decreases rapidly. You can also try different values of $K, N, $ and/or repetitions to see how the confusion matrix changes according.\n",
        "\n",
        "After you understand the concept of BPP, it is easy to understand [bounded-error quantum polynomial time (BQP)](https://en.wikipedia.org/wiki/BQP) now. BQP is the class of decision problems solvable by a quantum computer in polynomial time, with an error probability of at most 1/3 for all instances. It is the quantum analogue to the complexity class BPP. Actually, under quantum computer, previous problem can be solved through [Deutsch–Jozsa algorithm](https://en.wikipedia.org/wiki/Deutsch%E2%80%93Jozsa_algorithm) with a single query while guaranteed to be correct always. The Fourier Checking problem that will be introduced later is belong to BQP as well."
      ]
    },
    {
      "cell_type": "markdown",
      "metadata": {
        "id": "spyqzGyf5kGW"
      },
      "source": [
        "## Fourier Transform over $\\mathbb{Z}^n_2$\n",
        "In this colab, we are interested in the boolean function of the form $f : \\{0, 1\\}^n \\rightarrow\\{-1, 1\\}$. In this case, the Fourier transform of $f$ over $\\mathbb{Z}^n_2$ is defined as\n",
        "$$\n",
        "  \\hat{f}(y) := \\frac{1}{\\sqrt{N}} \\sum_{x\\in\\{0,1\\}^n} (-1)^{x \\cdot y} f\n",
        "  (x).\n",
        "$$\n",
        "where $x \\cdot y$ means the bit-wise inner product between $x$ and $y$. Note this is not the standard discrete Fourier transform definition over $\\mathbb{Z}_N$. According to the Parseval's identity, we have\n",
        "\n",
        "$$\n",
        "  \\sum_{x\\in\\{0,1\\}^n} f(x)^2 = \\sum_{y\\in\\{0,1\\}^n} \\hat{f}(y)^2  = N .\n",
        "$$"
      ]
    },
    {
      "cell_type": "code",
      "metadata": {
        "id": "ucEcJmSQ26vg"
      },
      "source": [
        "def bitwise_dot(x, y):\n",
        "  \"\"\"Compute the dot product of two integers bitwise.\"\"\"\n",
        "  # fast bit parity\n",
        "  def parallel_swar(i):\n",
        "    i = i - ((i >> 1) & 0x55555555)\n",
        "    i = (i & 0x33333333) + ((i >> 2) & 0x33333333)\n",
        "    i = (((i + (i >> 4)) & 0x0F0F0F0F) * 0x01010101) >> 24\n",
        "    return int(i % 2)\n",
        "  return parallel_swar(x & y)\n",
        "\n",
        "def fourier_transform_over_z2(v):\n",
        "  \"\"\"Fourier transform function over z_2^n group.\n",
        "\n",
        "  Args:\n",
        "    v: an array with 2**n elements.\n",
        "  \n",
        "  Returns:\n",
        "    vs: a numpy array with same length as input.\n",
        "  \"\"\"\n",
        "  assert len(v) & (len(v) - 1)== 0 # make sure v is 2**n long vector\n",
        "  N = len(v) \n",
        "  v_hat = np.array([0.0]*N)\n",
        "  for y in range(N):\n",
        "    for x in range(N):\n",
        "      v_hat[y] += ((-1)**bitwise_dot(x, y)) * v[x]\n",
        "  return v_hat / np.sqrt(N)"
      ],
      "execution_count": null,
      "outputs": []
    },
    {
      "cell_type": "markdown",
      "metadata": {
        "id": "fqXHBoEm7ebP"
      },
      "source": [
        "Let's have some examples in $\\mathbb{Z}^2_2$. You should verify that both functions have same energy 4."
      ]
    },
    {
      "cell_type": "code",
      "metadata": {
        "colab": {
          "base_uri": "https://localhost:8080/"
        },
        "id": "AueS6I2f4hAx",
        "outputId": "a4e73063-bef5-4187-fc2f-2841c1bba1f2"
      },
      "source": [
        "f = np.array([1, -1, 1, -1])\n",
        "f_hat = fourier_transform_over_z2(f)\n",
        "print(f\"f: {list(f)} f_hat: {list(f_hat)}\")\n",
        "\n",
        "f = np.array([1, 1, 1, -1])\n",
        "f_hat = fourier_transform_over_z2(f)\n",
        "print(f\"f: {list(f)} f_hat: {list(f_hat)}\")\n",
        "\n",
        "f = np.array([1, -1, -1, 1])\n",
        "f_hat = fourier_transform_over_z2(f)\n",
        "print(f\"f: {list(f)} f_hat: {list(f_hat)}\")"
      ],
      "execution_count": null,
      "outputs": [
        {
          "output_type": "stream",
          "text": [
            "f: [1, -1, 1, -1] f_hat: [0.0, 2.0, 0.0, 0.0]\n",
            "f: [1, 1, 1, -1] f_hat: [1.0, 1.0, 1.0, -1.0]\n",
            "f: [1, -1, -1, 1] f_hat: [0.0, 0.0, 0.0, 2.0]\n"
          ],
          "name": "stdout"
        }
      ]
    },
    {
      "cell_type": "markdown",
      "metadata": {
        "id": "02GAaXsAsYOW"
      },
      "source": [
        "## Forrelated\n",
        "\n",
        "The concept of *forrelated* is the key concepts in Fourier checking problem, which is a combination word coming from \"Fourier Transform\" and \"Correlation\".\n",
        "Recall the classical correlation between two vectors $u$ and $v$ is defined as\n",
        "$$\n",
        "  {\\rm correlation}(u,v) = \\frac{ \\langle u, v \\rangle }{\\|u\\| \\|v\\|}.\n",
        "$$\n",
        "Then, the forrelation between two vectors $u$ and $v$ is just the correlation between $u$ and the Fourier trasformed of $v$ -- denoted as $\\widehat{v}$:\n",
        "\\begin{align}\n",
        "  {\\rm forrelation}(u, v) =& \\frac{\\langle u, \\widehat{v} \\rangle }{\\|u\\| \\|\\widehat{v}\\|},\\\\\n",
        "  =& \\frac{ \\langle u, \\widehat{v} \\rangle }{\\|u\\| \\|v\\|}.\n",
        "\\end{align}\n",
        "where the second equality is due to the Parseval's identity.\n",
        "Since in this tutorial we are interesed in Boolean function, we replace the arbitary vector $u$ and $v$ by the output of Boolean function $f$ and $g$. Now we can further simplify the above definition:\n",
        "\\begin{align}\n",
        "  {\\rm forrelation}(f, g) =& \\frac{\\langle f, \\widehat{g} \\rangle }{\\|f\\| \\|g\\|}\\\\\n",
        "  =& \\frac{1}{N} \\langle f, \\widehat{g}\\rangle  \\\\\n",
        "  =& \\frac{1}{N} \\sum_{x \\in \\{0,1\\}^n}f(x)\\widehat{g}(x)\\\\\n",
        "  =& \\frac{1}{N^{3/2}} \\sum_{x, y \\in \\{0,1\\}^n}f(x)(-1)^{x \\cdot y}g(y)\n",
        "\\end{align}\n",
        "\n"
      ]
    },
    {
      "cell_type": "code",
      "metadata": {
        "id": "9r_wFSV6BT3s"
      },
      "source": [
        "def get_correlation(f, g):\n",
        "  return f.dot(g) / np.linalg.norm(f) / np.linalg.norm(g)\n",
        "\n",
        "def get_forrelation(f, g):\n",
        "  g_hat = fourier_transform_over_z2(g)\n",
        "  return f.dot(g_hat) / np.linalg.norm(f) / np.linalg.norm(g)"
      ],
      "execution_count": null,
      "outputs": []
    },
    {
      "cell_type": "code",
      "metadata": {
        "colab": {
          "base_uri": "https://localhost:8080/"
        },
        "id": "evFK1aCTBm1E",
        "outputId": "7febf56c-616d-4ec6-f93a-6116fc9e13f3"
      },
      "source": [
        "# let's see some examples to gain some insights of forrelation\n",
        "f = np.array([1, -1, 1, -1]) \n",
        "g = np.array([1, -1, 1, -1])\n",
        "print(f\"Correlation: {get_correlation(f,g)}  Forrelation: {get_forrelation(f,g)}\")\n",
        "\n",
        "f = np.array([1, 1, 1, -1])\n",
        "g = np.array([-1, -1, -1, 1])\n",
        "print(f\"Correlation: {get_correlation(f,g)}  Forrelation: {get_forrelation(f,g)}\")\n",
        "\n",
        "f = np.array([1, -1, -1, 1])\n",
        "g = np.array([1, 1, 1, 1])\n",
        "print(f\"Correlation: {get_correlation(f,g)}  Forrelation: {get_forrelation(f,g)}\")"
      ],
      "execution_count": null,
      "outputs": [
        {
          "output_type": "stream",
          "text": [
            "Correlation: 1.0  Forrelation: -0.5\n",
            "Correlation: -1.0  Forrelation: -1.0\n",
            "Correlation: 0.0  Forrelation: 0.5\n"
          ],
          "name": "stdout"
        }
      ]
    },
    {
      "cell_type": "markdown",
      "metadata": {
        "id": "ozbeF_nZiEib"
      },
      "source": [
        "# Fourier Checking Problem\n",
        "\n",
        "Now we are prepared to discuss the *Fourier Checking* problem. Here we are given oracle access to two Boolean functions $f,g : \\{0, 1\\}^n \\rightarrow\\{-1, 1\\}$. We are promised that one of the following two cases is true:\n",
        "\n",
        "- $\\langle f, g \\rangle$ was drawn from the uniform distribution $\\mathcal{U}$.\n",
        "- $\\langle f, g \\rangle$ was drawn from the forrelated distribution $\\mathcal{F}$ (Will be explained in more details later).\n",
        "\n",
        "The problem is a decision problem that accepts the $\\langle f, g \\rangle$ if it was drawn from $\\mathcal{F}$ and rejects $\\langle f, g \\rangle$ if it was drawn from $\\mathcal{U}$.\n",
        "\n",
        "*Note: Since $\\mathcal{F}$ and $\\mathcal{U}$ overlap slightly, we can only hope to succeed with overwhelming probability over the choice of  $\\langle f, g \\rangle$ , not for every  $\\langle f, g \\rangle$  pair.*\n"
      ]
    },
    {
      "cell_type": "markdown",
      "metadata": {
        "id": "hQMu28BGwZYS"
      },
      "source": [
        "## Generate functions $f$ and $g$ from distribution $\\mathcal U$ and $\\mathcal F$\n",
        "The forrelated distribution $\\mathcal{F}$ is generated as followings.\n",
        "First\n",
        "choose a random real vector $v=(v_x)_{x\\in\\{0, 1\\}^n} \\in \\mathbb{R}^N$, by drawing each entry independently from Gaussian distribution with zero-mean and variance 1. Then set $f(x) := {\\rm sgn}(v_x)$ and $g(x) := {\\rm sgn}(\\widehat{v}_x)$, where $\\widehat{v}_x$ the Fourier Transform of $v$ is\n",
        "$$\n",
        "  \\widehat{v}_y := \\frac{1}{\\sqrt{N}} \\sum_{x\\in\\{0,1\\}^n} (-1)^{x\\cdot y}v_x,\n",
        "$$\n",
        "and $$\n",
        "  {\\rm sgn}(\\alpha) := \\left\\{\n",
        "  \\begin{aligned}\n",
        "    1 \\;\\;\\; &{\\rm if}\\; \\alpha \\geq 0 \\\\\n",
        "    -1 \\;\\;\\;&{\\rm if}\\; \\alpha < 0\n",
        "  \\end{aligned}\\right.\n",
        "$$\n",
        "Notice, $f$ and $g$ *individually* are still uniformly random, but they are no longer independent. Now $f$ is forrelated with $g$.\n",
        "For simplicity, we only consider the *PROMISE FOURIER CHECKING* problem. Under this situation, we are promised that the quatity:\n",
        "\n",
        "\\begin{align}\n",
        "  p(f,g) := \\left[{\\rm forrelation}(f, g)\\right]^2 = \\frac{1}{N^3} \\left(\\sum_{x, y \\in \\{0,1\\}^n}f(x)(-1)^{x \\cdot y}g(y)\\right)^2\n",
        "\\end{align}\n",
        "\n",
        "is either at least 0.05 or at most 0.01."
      ]
    },
    {
      "cell_type": "code",
      "metadata": {
        "id": "aZie29qeGBV_"
      },
      "source": [
        "n = 6\n",
        "N = 2 ** n"
      ],
      "execution_count": null,
      "outputs": []
    },
    {
      "cell_type": "code",
      "metadata": {
        "id": "Ow6khbkKebag"
      },
      "source": [
        "# We can find a forrelated pair \"as promised\" through while-loop\n",
        "def draw_two_distribution_from_f_set(N):\n",
        "  sgn = lambda x: 1 if x >= 0 else -1\n",
        "  forrelation = 0.2\n",
        "  while (abs(forrelation)**2 < 0.05) and (abs(forrelation)**2 > 0.01):\n",
        "    vs = np.array([np.random.normal()  for _ in range(N)])\n",
        "    vs_hat = fourier_transform_over_z2(vs)\n",
        "    fs = np.array([sgn(v) for v in vs])\n",
        "    gs = np.array([sgn(v_hat) for v_hat in vs_hat])\n",
        "    forrelation = get_forrelation(fs, gs)\n",
        "    correlation = get_correlation(fs, gs)\n",
        "  return fs, gs, forrelation, correlation\n",
        "\n",
        "def draw_two_distribution_from_u_set(N):\n",
        "  sgn = lambda x: 1 if x >= 0 else -1\n",
        "  forrelation = 0.2\n",
        "  while (abs(forrelation)**2 < 0.05) and (abs(forrelation)**2 > 0.01):\n",
        "    vs = np.array([np.random.normal()  for _ in range(N)])\n",
        "    fs = np.array([sgn(v) for v in vs])\n",
        "    us = np.array([np.random.normal()  for _ in range(N)])\n",
        "    gs = np.array([sgn(u) for u in us])\n",
        "    forrelation = get_forrelation(fs, gs)\n",
        "    correlation = get_correlation(fs, gs)\n",
        "  return fs, gs, forrelation, correlation"
      ],
      "execution_count": null,
      "outputs": []
    },
    {
      "cell_type": "code",
      "metadata": {
        "id": "bVFeIs6-RrfP",
        "colab": {
          "base_uri": "https://localhost:8080/",
          "height": 387
        },
        "outputId": "e4549b4b-c19e-4d17-ac89-c7deb3784d4e"
      },
      "source": [
        "fs, gs, forrelation, correlation = draw_two_distribution_from_u_set(N)\n",
        "print(f\"fs: {list(fs)}\")\n",
        "print(f\"gs: {list(gs)}\")\n",
        "\n",
        "plt.figure(figsize=(15, 5))\n",
        "plt.stem(fs, use_line_collection=True)\n",
        "plt.stem(gs, linefmt='--r', markerfmt='ro', use_line_collection=True)\n",
        "plt.title(f\"Correlation: {correlation} Forrelation: {forrelation}\")"
      ],
      "execution_count": null,
      "outputs": [
        {
          "output_type": "stream",
          "text": [
            "fs: [1, 1, 1, 1, -1, -1, -1, 1, 1, 1, -1, 1, 1, 1, 1, 1, 1, 1, -1, 1, -1, 1, -1, -1, 1, -1, -1, -1, -1, -1, -1, -1, 1, 1, -1, -1, 1, -1, -1, 1, 1, 1, 1, -1, 1, -1, 1, 1, -1, -1, -1, 1, 1, 1, 1, 1, -1, 1, -1, 1, -1, 1, -1, -1]\n",
            "gs: [-1, 1, -1, -1, 1, 1, 1, 1, -1, -1, -1, -1, 1, -1, -1, -1, -1, 1, -1, -1, -1, -1, 1, -1, 1, 1, -1, -1, 1, -1, -1, -1, -1, 1, 1, 1, -1, 1, 1, 1, 1, -1, 1, -1, 1, -1, -1, -1, -1, 1, 1, -1, 1, 1, -1, -1, 1, -1, -1, -1, 1, 1, -1, -1]\n"
          ],
          "name": "stdout"
        },
        {
          "output_type": "execute_result",
          "data": {
            "text/plain": [
              "Text(0.5, 1.0, 'Correlation: -0.125 Forrelation: -0.0078125')"
            ]
          },
          "metadata": {
            "tags": []
          },
          "execution_count": 73
        },
        {
          "output_type": "display_data",
          "data": {
            "image/png": "[encoded data removed]",
            "text/plain": [
              "<Figure size 1080x360 with 1 Axes>"
            ]
          },
          "metadata": {
            "tags": [],
            "needs_background": "light"
          }
        }
      ]
    },
    {
      "cell_type": "code",
      "metadata": {
        "id": "xIotvjzjOvxA",
        "colab": {
          "base_uri": "https://localhost:8080/",
          "height": 387
        },
        "outputId": "3781cc58-6a52-4c4e-c111-443e0e670596"
      },
      "source": [
        "fs, gs, forrelation, correlation = draw_two_distribution_from_f_set(N)\n",
        "print(f\"fs: {list(fs)}\")\n",
        "print(f\"gs: {list(gs)}\")\n",
        "plt.figure(figsize=(15, 5))\n",
        "plt.stem(fs, use_line_collection=True)\n",
        "plt.stem(gs, linefmt='--r', markerfmt=\"ro\", use_line_collection=True)\n",
        "plt.title(f\"Correlation: {correlation} Forrelation: {forrelation}\")"
      ],
      "execution_count": null,
      "outputs": [
        {
          "output_type": "stream",
          "text": [
            "fs: [1, 1, 1, 1, 1, 1, -1, 1, -1, 1, -1, 1, 1, -1, -1, 1, 1, 1, 1, -1, 1, 1, -1, 1, -1, 1, 1, 1, 1, -1, 1, 1, 1, 1, 1, -1, 1, 1, 1, -1, -1, -1, 1, -1, 1, -1, -1, 1, 1, -1, -1, -1, -1, -1, 1, -1, -1, -1, 1, 1, -1, -1, -1, -1]\n",
            "gs: [1, 1, -1, 1, 1, 1, 1, -1, 1, 1, 1, -1, 1, 1, 1, 1, 1, -1, 1, -1, -1, 1, 1, -1, 1, 1, -1, -1, 1, -1, -1, 1, 1, -1, -1, 1, 1, -1, 1, -1, 1, -1, -1, 1, -1, 1, -1, -1, -1, -1, -1, 1, 1, -1, -1, 1, 1, 1, -1, 1, -1, 1, 1, -1]\n"
          ],
          "name": "stdout"
        },
        {
          "output_type": "execute_result",
          "data": {
            "text/plain": [
              "Text(0.5, 1.0, 'Correlation: -0.125 Forrelation: 0.703125')"
            ]
          },
          "metadata": {
            "tags": []
          },
          "execution_count": 74
        },
        {
          "output_type": "display_data",
          "data": {
            "image/png": "[encoded data removed]",
            "text/plain": [
              "<Figure size 1080x360 with 1 Axes>"
            ]
          },
          "metadata": {
            "tags": [],
            "needs_background": "light"
          }
        }
      ]
    },
    {
      "cell_type": "markdown",
      "metadata": {
        "id": "TZwIP2_337WH"
      },
      "source": [
        "Typically, $\\mathcal{U}$ and $\\mathcal{F}$ is not obviously different from each other even after we plot the whole functions information together. However, it is not hard to show that Fourier Checking is in BQP: basically, one can prepare a uniform superposition over all $x\\in\\{0,1\\}^n$, then query $f$, apply a quantum Fourier transform, query $g$, and\n",
        "check whether one has recovered something close to the uniform superposition. On the other hand, being forrelated seems like an extremely “global” property of $f$ and $g$: one that would not be apparent from querying any small number of $f$ and $g$ values, regardless of the outcomes of those queries."
      ]
    },
    {
      "cell_type": "markdown",
      "metadata": {
        "id": "obqAoSrNRFJ9"
      },
      "source": [
        "# Quantum Algorithm for Fourier Checking\n",
        "\n",
        "Now, we present the quantum algorithm for Fourier Checking, which is quite simple actually.\n",
        "It can achieve the constant error probability with $O(1)$ query complexity.\n",
        "\n",
        "**Algorithm Description:**\n",
        "\n",
        "First, we prepare a uniform superposition over all $x \\in \\{0, 1\\}^n$. Then query $f$ in superposition, to create the state\n",
        "$$\n",
        "  \\frac{1}{\\sqrt{N}} \\sum_{x \\in \\{0, 1\\}^n} f(x) |x\\rangle\n",
        "$$\n",
        "Applying Hadmard gates to all $n$ qubits, to create the state\n",
        "$$\n",
        "  \\frac{1}{N} \\sum_{x,y  \\in \\{0, 1\\}^n} f(x) (-1)^{x\\cdot y} |y\\rangle\n",
        "$$\n",
        "Then query $g$ in superposition, to create the state\n",
        "$$\n",
        "  \\frac{1}{N} \\sum_{x,y  \\in \\{0, 1\\}^n} f(x) (-1)^{x\\cdot y}g(y) |y\\rangle\n",
        "$$\n",
        "Then apply Hadmard gates to all $n$ qubits again, to create the state\n",
        "$$\n",
        "  \\frac{1}{N^{3/2}} \\sum_{x,y  \\in \\{0, 1\\}^n} f(x) (-1)^{x\\cdot y} g(y) (-1)^{y \\cdot z}|z\\rangle\n",
        "$$\n",
        "Finally, measure in the computational basis, and \"accept\" if and only if the outcome $|0\\rangle^{\\otimes n}$is observed.\n",
        "\n",
        "If needed, repeat the whole algorithm $O(1)$ times to boost the success probability."
      ]
    },
    {
      "cell_type": "markdown",
      "metadata": {
        "id": "ddJVURrobh8g"
      },
      "source": [
        "\n",
        "It is clear that the probablity of observation $|0\\rangle^{\\otimes n}$ equals the quantity:\n",
        "\\begin{align}\n",
        "  p(f,g) := \\frac{1}{N^3} \\left(\\sum_{x, y \\in \\{0,1\\}^n}f(x)(-1)^{x \\cdot y}g(y)\\right)^2\n",
        "\\end{align}\n",
        "\n",
        "It is shown in the [paper](https://arxiv.org/pdf/0910.4698.pdf) that\n",
        "\n",
        "\\begin{align}\n",
        "   {\\rm Pr}_{\\langle f, g \\rangle \\sim \\mathcal{U}} [p(f,g) \\geq 0.01] \\leq& \\; \\frac{100}{N} \\\\\n",
        "   {\\rm Pr}_{\\langle f, g \\rangle \\sim \\mathcal{F}} [p(f,g) \\geq 0.05] \\geq&\\;\\frac{1}{50} \\\\\n",
        "\\end{align}\n",
        "This implies that the probability of the forrelation square between two functions drawing from uniform  distribution $\\mathcal{U}$ having larger than 0.01  will decaying quickly when we have more number of qubits. Hence, the Promise Fourier Checking problem can be solved through simply accepting when $p(f,g) \\geq 0.05$ and rejecting when $p(f,g) \\leq 0.01$ with constant error probability, using $O(1)$ queries to $f$ and $g$."
      ]
    },
    {
      "cell_type": "markdown",
      "metadata": {
        "id": "FDVxr7UKze2X"
      },
      "source": [
        "## Implementation in Cirq\n",
        "\n",
        "Above algorithm is simple and straightforward to implement. It only involves with Hadmard gates and function oracles. Implementation of oracles based on truth table in Cirq is just simple diagnal gates. To see that, let's use a oracle defined over $\\mathbb{Z}_2^2$ as example:\n",
        "\n",
        "\\begin{align}\n",
        "  \\sum_{x\\in \\{0, 1\\}^2} f(x)|x\\rangle\n",
        "  =&\\frac{1}{2}\\Big(f(0,0)|00\\rangle + f(0,1)|01\\rangle+f(1,0)|10\\rangle + f(1,1) |11\\rangle\\Big)\\\\\n",
        "  =&\\;\\;\\left[ \\begin{array}{cccc}\n",
        "    f(0,0)   & & & \\\\ \n",
        "    &  f(1,0)  & & \\\\\n",
        "    &   &  f(1,0)  & \\\\\n",
        "    &  & &   f(1,1) \\\\\n",
        "  \\end{array} \\right]\n",
        "  \\left[ \\begin{array}{c}\n",
        "  1/2\\\\\n",
        "  1/2\\\\\n",
        "  1/2\\\\\n",
        "  1/2\n",
        "  \\end{array} \\right]\n",
        "\\end{align}\n",
        "\n",
        "It is crucial to note that the output of $f$ is either 1 or -1, so the diagonal matrix is unitary.\n",
        "<!-- In general, the function $f(x)$ does not have output $\\{1, -1\\}$. Then above matrix is no longer unitary, which is also means the notation $\\sum_{x\\in \\{0, 1\\}^2} f(x)|x\\rangle$ is ill-defined. However, we can still encode the function information into the phases:\n",
        "\\begin{align}\n",
        "\\left[ \\begin{array}{cccc}\n",
        "    e^{-i\\theta f(0,0)}   & & & \\\\ \n",
        "    & e^{-i\\theta  f(1,0)}  & & \\\\\n",
        "    &   & e^{-i\\theta  f(1,0)}  & \\\\\n",
        "    &  & &  e^{-i\\theta  f(1,1)} \\\\\n",
        "  \\end{array} \\right]\n",
        "\\end{align}\n",
        "where $\\theta $ is the some real number to control the phase. But we do not need it in this tutorial. [Anothr tutorial for this?]\n",
        "\n",
        "\n",
        "\n",
        "Eigenvalue? why do we need a $j$ to shift the phase??? -->\n"
      ]
    },
    {
      "cell_type": "code",
      "metadata": {
        "id": "_k4-gc7SCBvS",
        "colab": {
          "base_uri": "https://localhost:8080/"
        },
        "outputId": "3347fcbe-0b07-484a-9a8e-c04f0c93f070"
      },
      "source": [
        "def oracle(fs, qubits):\n",
        "  return cirq.MatrixGate(np.diag(fs).astype(complex))(*qubits)\n",
        "\n",
        "def fourier_checking_algorithm(qubits, fs, gs):\n",
        "  \"\"\"Returns the circuit for Fourier Checking algorithm given an input.\"\"\"\n",
        "  yield cirq.ParallelGateOperation(cirq.H, qubits)\n",
        "  yield oracle(fs, qubits)\n",
        "  yield cirq.ParallelGateOperation(cirq.H, qubits)\n",
        "  yield oracle(gs, qubits)\n",
        "  yield cirq.ParallelGateOperation(cirq.H, qubits)\n",
        "  yield cirq.measure(*qubits)\n",
        "\n",
        "qubits = cirq.LineQubit.range(n)\n",
        "fs, gs, forrelation, correlation = draw_two_distribution_from_f_set(N)\n",
        "circuit = cirq.Circuit(fourier_checking_algorithm(qubits, fs, gs))\n",
        "print(circuit)"
      ],
      "execution_count": null,
      "outputs": [
        {
          "output_type": "stream",
          "text": [
            "          ┌                                                   ┐       ┌                                                   ┐\n",
            "          │-1.+0.j  0.+0.j  0.+0.j ...  0.+0.j  0.+0.j  0.+0.j│       │ 1.+0.j  0.+0.j  0.+0.j ...  0.+0.j  0.+0.j  0.+0.j│\n",
            "          │ 0.+0.j -1.+0.j  0.+0.j ...  0.+0.j  0.+0.j  0.+0.j│       │ 0.+0.j  1.+0.j  0.+0.j ...  0.+0.j  0.+0.j  0.+0.j│\n",
            "          │ 0.+0.j  0.+0.j -1.+0.j ...  0.+0.j  0.+0.j  0.+0.j│       │ 0.+0.j  0.+0.j  1.+0.j ...  0.+0.j  0.+0.j  0.+0.j│\n",
            "0: ───H───│ ...                                               │───H───│ ...                                               │───H───M───\n",
            "          │ 0.+0.j  0.+0.j  0.+0.j ...  1.+0.j  0.+0.j  0.+0.j│       │ 0.+0.j  0.+0.j  0.+0.j ... -1.+0.j  0.+0.j  0.+0.j│       │\n",
            "          │ 0.+0.j  0.+0.j  0.+0.j ...  0.+0.j  1.+0.j  0.+0.j│       │ 0.+0.j  0.+0.j  0.+0.j ...  0.+0.j  1.+0.j  0.+0.j│       │\n",
            "          │ 0.+0.j  0.+0.j  0.+0.j ...  0.+0.j  0.+0.j  1.+0.j│       │ 0.+0.j  0.+0.j  0.+0.j ...  0.+0.j  0.+0.j  1.+0.j│       │\n",
            "          └                                                   ┘       └                                                   ┘       │\n",
            "          │                                                           │                                                           │\n",
            "1: ───H───#2──────────────────────────────────────────────────────H───#2──────────────────────────────────────────────────────H───M───\n",
            "          │                                                           │                                                           │\n",
            "2: ───H───#3──────────────────────────────────────────────────────H───#3──────────────────────────────────────────────────────H───M───\n",
            "          │                                                           │                                                           │\n",
            "3: ───H───#4──────────────────────────────────────────────────────H───#4──────────────────────────────────────────────────────H───M───\n",
            "          │                                                           │                                                           │\n",
            "4: ───H───#5──────────────────────────────────────────────────────H───#5──────────────────────────────────────────────────────H───M───\n",
            "          │                                                           │                                                           │\n",
            "5: ───H───#6──────────────────────────────────────────────────────H───#6──────────────────────────────────────────────────────H───M───\n"
          ],
          "name": "stdout"
        }
      ]
    },
    {
      "cell_type": "markdown",
      "metadata": {
        "id": "cD7B8h5nA75O"
      },
      "source": [
        "We derived that the square forrelation between $f$ and $g$ is the same as the state of final state in circuit so we can use cirq to check it. Just remember the final state is *never* able to be obtained in reality. In simulation, it is completely doable through `final_state_vector` or the `dirac_notation` of each moment step: "
      ]
    },
    {
      "cell_type": "code",
      "metadata": {
        "colab": {
          "base_uri": "https://localhost:8080/"
        },
        "id": "Y5nCR6jiU7Up",
        "outputId": "e3208972-2b2e-44dd-a796-430b1d2c9787"
      },
      "source": [
        "assert np.isclose(circuit.final_state_vector()[0], forrelation)\n",
        "\n",
        "s = cirq.Simulator()\n",
        "for step in s.simulate_moment_steps(circuit):\n",
        "  print(step.dirac_notation())\n",
        "  print(\"|0> state probability to observe: \", np.abs(step.state_vector()[0]) ** 2)"
      ],
      "execution_count": null,
      "outputs": [
        {
          "output_type": "stream",
          "text": [
            "0.12|000000⟩ + 0.12|000001⟩ + 0.12|000010⟩ + 0.12|000011⟩ + 0.12|000100⟩ + 0.12|000101⟩ + 0.12|000110⟩ + 0.12|000111⟩ + 0.12|001000⟩ + 0.12|001001⟩ + 0.12|001010⟩ + 0.12|001011⟩ + 0.12|001100⟩ + 0.12|001101⟩ + 0.12|001110⟩ + 0.12|001111⟩ + 0.12|010000⟩ + 0.12|010001⟩ + 0.12|010010⟩ + 0.12|010011⟩ + 0.12|010100⟩ + 0.12|010101⟩ + 0.12|010110⟩ + 0.12|010111⟩ + 0.12|011000⟩ + 0.12|011001⟩ + 0.12|011010⟩ + 0.12|011011⟩ + 0.12|011100⟩ + 0.12|011101⟩ + 0.12|011110⟩ + 0.12|011111⟩ + 0.12|100000⟩ + 0.12|100001⟩ + 0.12|100010⟩ + 0.12|100011⟩ + 0.12|100100⟩ + 0.12|100101⟩ + 0.12|100110⟩ + 0.12|100111⟩ + 0.12|101000⟩ + 0.12|101001⟩ + 0.12|101010⟩ + 0.12|101011⟩ + 0.12|101100⟩ + 0.12|101101⟩ + 0.12|101110⟩ + 0.12|101111⟩ + 0.12|110000⟩ + 0.12|110001⟩ + 0.12|110010⟩ + 0.12|110011⟩ + 0.12|110100⟩ + 0.12|110101⟩ + 0.12|110110⟩ + 0.12|110111⟩ + 0.12|111000⟩ + 0.12|111001⟩ + 0.12|111010⟩ + 0.12|111011⟩ + 0.12|111100⟩ + 0.12|111101⟩ + 0.12|111110⟩ + 0.12|111111⟩\n",
            "|0> state probability to observe:  0.015624996274709924\n",
            "-0.12|000000⟩ - 0.12|000001⟩ - 0.12|000010⟩ - 0.12|000011⟩ - 0.12|000100⟩ - 0.12|000101⟩ - 0.12|000110⟩ - 0.12|000111⟩ + 0.12|001000⟩ - 0.12|001001⟩ + 0.12|001010⟩ - 0.12|001011⟩ + 0.12|001100⟩ + 0.12|001101⟩ - 0.12|001110⟩ - 0.12|001111⟩ - 0.12|010000⟩ + 0.12|010001⟩ + 0.12|010010⟩ - 0.12|010011⟩ + 0.12|010100⟩ - 0.12|010101⟩ - 0.12|010110⟩ - 0.12|010111⟩ - 0.12|011000⟩ + 0.12|011001⟩ - 0.12|011010⟩ + 0.12|011011⟩ - 0.12|011100⟩ + 0.12|011101⟩ - 0.12|011110⟩ + 0.12|011111⟩ + 0.12|100000⟩ - 0.12|100001⟩ - 0.12|100010⟩ - 0.12|100011⟩ + 0.12|100100⟩ - 0.12|100101⟩ - 0.12|100110⟩ + 0.12|100111⟩ + 0.12|101000⟩ + 0.12|101001⟩ - 0.12|101010⟩ + 0.12|101011⟩ + 0.12|101100⟩ - 0.12|101101⟩ - 0.12|101110⟩ - 0.12|101111⟩ - 0.12|110000⟩ + 0.12|110001⟩ + 0.12|110010⟩ - 0.12|110011⟩ + 0.12|110100⟩ + 0.12|110101⟩ + 0.12|110110⟩ + 0.12|110111⟩ + 0.12|111000⟩ + 0.12|111001⟩ + 0.12|111010⟩ - 0.12|111011⟩ + 0.12|111100⟩ + 0.12|111101⟩ + 0.12|111110⟩ + 0.12|111111⟩\n",
            "|0> state probability to observe:  0.015624996274709924\n",
            "-0.03|000000⟩ + 0.03|000001⟩ + 0.22|000010⟩ + 0.03|000011⟩ - 0.03|000100⟩ + 0.03|000101⟩ - 0.03|000110⟩ - 0.22|000111⟩ - 0.22|001000⟩ + 0.09|001001⟩ - 0.09|001010⟩ - 0.03|001011⟩ - 0.09|001100⟩ - 0.03|001101⟩ + 0.03|001110⟩ - 0.16|001111⟩ - 0.28|010000⟩ + 0.16|010001⟩ + 0.09|010010⟩ + 0.28|010011⟩ + 0.09|010100⟩ + 0.03|010101⟩ - 0.03|010110⟩ + 0.16|010111⟩ - 0.09|011000⟩ - 0.16|011001⟩ - 0.09|011010⟩ + 0.09|011011⟩ - 0.09|011100⟩ + 0.09|011101⟩ + 0.16|011110⟩ + 0.09|011111⟩ - 0.28|100000⟩ - 0.09|100001⟩ - 0.03|100010⟩ - 0.09|100011⟩ + 0.09|100100⟩ + 0.03|100101⟩ - 0.16|100110⟩ + 0.03|100111⟩ - 0.09|101000⟩ + 0.09|101001⟩ + 0.03|101010⟩ - 0.03|101011⟩ + 0.16|101100⟩ - 0.16|101101⟩ + 0.03|101110⟩ - 0.03|101111⟩ + 0.09|110000⟩ + 0.16|110001⟩ - 0.03|110010⟩ - 0.22|110011⟩ - 0.16|110100⟩ + 0.16|110101⟩ - 0.03|110110⟩ + 0.03|110111⟩ - 0.09|111000⟩ - 0.28|111001⟩ - 0.09|111010⟩ - 0.03|111011⟩ + 0.03|111100⟩ - 0.16|111101⟩ + 0.03|111110⟩ + 0.09|111111⟩\n",
            "|0> state probability to observe:  0.0009765619179234776\n",
            "-0.03|000000⟩ + 0.03|000001⟩ + 0.22|000010⟩ - 0.03|000011⟩ - 0.03|000100⟩ + 0.03|000101⟩ - 0.03|000110⟩ + 0.22|000111⟩ + 0.22|001000⟩ + 0.09|001001⟩ + 0.09|001010⟩ - 0.03|001011⟩ + 0.09|001100⟩ + 0.03|001101⟩ + 0.03|001110⟩ + 0.16|001111⟩ + 0.28|010000⟩ + 0.16|010001⟩ + 0.09|010010⟩ + 0.28|010011⟩ + 0.09|010100⟩ + 0.03|010101⟩ + 0.03|010110⟩ + 0.16|010111⟩ + 0.09|011000⟩ + 0.16|011001⟩ + 0.09|011010⟩ + 0.09|011011⟩ + 0.09|011100⟩ + 0.09|011101⟩ - 0.16|011110⟩ + 0.09|011111⟩ + 0.28|100000⟩ - 0.09|100001⟩ - 0.03|100010⟩ - 0.09|100011⟩ + 0.09|100100⟩ + 0.03|100101⟩ + 0.16|100110⟩ - 0.03|100111⟩ + 0.09|101000⟩ + 0.09|101001⟩ + 0.03|101010⟩ + 0.03|101011⟩ + 0.16|101100⟩ - 0.16|101101⟩ + 0.03|101110⟩ + 0.03|101111⟩ + 0.09|110000⟩ + 0.16|110001⟩ - 0.03|110010⟩ + 0.22|110011⟩ + 0.16|110100⟩ + 0.16|110101⟩ + 0.03|110110⟩ + 0.03|110111⟩ + 0.09|111000⟩ + 0.28|111001⟩ + 0.09|111010⟩ + 0.03|111011⟩ + 0.03|111100⟩ + 0.16|111101⟩ + 0.03|111110⟩ + 0.09|111111⟩\n",
            "|0> state probability to observe:  0.0009765619179234776\n",
            "0.62|000000⟩ + 0.14|000010⟩ + 0.14|000011⟩ + 0.14|000100⟩ + 0.08|000101⟩ + 0.09|000110⟩ - 0.09|000111⟩ + 0.03|001000⟩ + 0.03|001001⟩ - 0.08|001010⟩ + 0.05|001011⟩ - 0.05|001100⟩ + 0.02|001101⟩ - 0.03|001110⟩ + 0.16|001111⟩ - 0.2|010000⟩ + 0.27|010001⟩ - 0.09|010010⟩ - 0.12|010100⟩ + 0.09|010101⟩ + 0.11|010110⟩ - 0.05|010111⟩ - 0.11|011000⟩ - 0.02|011001⟩ - 0.16|011011⟩ - 0.06|011100⟩ + 0.16|011101⟩ - 0.02|011110⟩ - 0.05|011111⟩ + 0.06|100000⟩ - 0.09|100001⟩ - 0.11|100010⟩ + 0.05|100011⟩ + 0.08|100100⟩ + 0.17|100101⟩ - 0.03|100110⟩ - 0.12|100111⟩ + 0.03|101000⟩ - 0.06|101001⟩ - 0.14|101010⟩ - 0.05|101011⟩ + 0.08|101100⟩ - 0.02|101101⟩ + 0.03|101110⟩ - 0.12|101111⟩ + 0.05|110000⟩ - 0.14|110001⟩ - 0.03|110010⟩ - 0.16|110011⟩ - 0.06|110100⟩ + 0.06|110101⟩ - 0.02|110110⟩ - 0.08|110111⟩ - 0.11|111000⟩ - 0.11|111001⟩ - 0.06|111010⟩ - 0.06|111101⟩ - 0.14|111110⟩ - 0.14|111111⟩\n",
            "|0> state probability to observe:  0.39062477648261407\n",
            "-1|101010⟩\n",
            "|0> state probability to observe:  0.0\n"
          ],
          "name": "stdout"
        }
      ]
    },
    {
      "cell_type": "code",
      "metadata": {
        "colab": {
          "base_uri": "https://localhost:8080/",
          "height": 279
        },
        "id": "9rEqwrI9KM4w",
        "outputId": "b8409575-e067-47dd-d88a-2b1aef46f294"
      },
      "source": [
        "final_state = circuit.final_state_vector()\n",
        "plt.fill_between(np.arange(len(final_state)),\n",
        "                 np.abs(final_state)**2)\n",
        "plt.xlabel(\"State of qubits\")\n",
        "plt.ylabel(\"Probability\")\n",
        "plt.show()"
      ],
      "execution_count": null,
      "outputs": [
        {
          "output_type": "display_data",
          "data": {
            "image/png": "[encoded data removed]",
            "text/plain": [
              "<Figure size 432x288 with 1 Axes>"
            ]
          },
          "metadata": {
            "tags": [],
            "needs_background": "light"
          }
        }
      ]
    },
    {
      "cell_type": "markdown",
      "metadata": {
        "id": "m5Qzdo8rTPxJ"
      },
      "source": [
        "In reality, we can measure the state of qubits only. Each measurement will only produce one state. In order to eastimate the probability, we can do 100 repeitations and use frequency of showing 0 state as the approximation of the probability of state 0."
      ]
    },
    {
      "cell_type": "code",
      "metadata": {
        "colab": {
          "base_uri": "https://localhost:8080/"
        },
        "id": "RS-njXvxM3pA",
        "outputId": "70394780-5020-4ae4-ee1c-81cf16987e49"
      },
      "source": [
        "repetitions = 100\n",
        "obs = s.run(circuit, repetitions=repetitions)\n",
        "qubits_name = ','.join(str(i) for i in range(n))\n",
        "times_zero_was_measured = len(obs.data[obs.data[qubits_name]  == 0])\n",
        "print(f\"times zero state was measured from {repetitions} measurements: {times_zero_was_measured} - {float(times_zero_was_measured/repetitions)*100}%\")\n",
        "if float(times_zero_was_measured/repetitions) > 0.05:\n",
        "  print(\"fs and gs is forrelated!\")"
      ],
      "execution_count": null,
      "outputs": [
        {
          "output_type": "stream",
          "text": [
            "times zero state was measured from 100 measurements: 33 - 33.0%\n",
            "fs and gs is forrelated!\n"
          ],
          "name": "stdout"
        }
      ]
    },
    {
      "cell_type": "markdown",
      "metadata": {
        "id": "IHLLADQvT-lK"
      },
      "source": [
        "Last, we can randomly draw the functions from either $\\mathcal{U}$ or $\\mathcal{F}$ set to evaluate the confusion matrix of the fourier checking algorithm. With the confusion matrix, you should be confident that quantum algorithm instead can solve the fourier checking in $O(1)$ time -- even though we need to measure 100 or 1000 times to evaluate the probability, it is irrelevant to the number of states or qubits."
      ]
    },
    {
      "cell_type": "code",
      "metadata": {
        "id": "PTq4ys9PanaM"
      },
      "source": [
        "res = pd.DataFrame()\n",
        "repetitions = 100\n",
        "for _ in range(1000):\n",
        "  bell_state = np.random.rand() > 0.5\n",
        "  state = \"Bell State\" if bell_state else \"Uniform State\"\n",
        "  decision = bell_or_uniform_algorithm(bell_state)\n",
        "  if np.random.rand() > 0.5:\n",
        "    fs, gs, _, _ = draw_two_distribution_from_f_set(N)\n",
        "    source = \"F set\"\n",
        "  else:\n",
        "    fs, gs, _, _ = draw_two_distribution_from_u_set(N)\n",
        "    source = \"U set\"\n",
        "\n",
        "  circuit = cirq.Circuit(fourier_checking_algorithm(qubits, fs, gs))\n",
        "  obs = s.run(circuit, repetitions=repetitions)\n",
        "  times_zero_was_measured = len(obs.data[obs.data[','.join(str(i) for i in range(n))]  == 0])\n",
        "  if times_zero_was_measured/repetitions > 0.05: \n",
        "    res = res.append({\"Source\": source, \"Decision\": \"accept\", \"Count\": 1}, ignore_index=True)\n",
        "  else:\n",
        "    res = res.append({\"Source\": source, \"Decision\": \"reject\", \"Count\": 1}, ignore_index=True)"
      ],
      "execution_count": null,
      "outputs": []
    },
    {
      "cell_type": "code",
      "metadata": {
        "id": "XdRPexDdfBjW",
        "colab": {
          "base_uri": "https://localhost:8080/",
          "height": 142
        },
        "outputId": "53215db7-e66f-46fb-b23e-71fe12167a5c"
      },
      "source": [
        "confusion = res.pivot_table(index=\"Source\", columns=\"Decision\", values=\"Count\", aggfunc=\"sum\")\n",
        "confusion"
      ],
      "execution_count": null,
      "outputs": [
        {
          "output_type": "execute_result",
          "data": {
            "text/html": [
              "<div>\n",
              "<style scoped>\n",
              "    .dataframe tbody tr th:only-of-type {\n",
              "        vertical-align: middle;\n",
              "    }\n",
              "\n",
              "    .dataframe tbody tr th {\n",
              "        vertical-align: top;\n",
              "    }\n",
              "\n",
              "    .dataframe thead th {\n",
              "        text-align: right;\n",
              "    }\n",
              "</style>\n",
              "<table border=\"1\" class=\"dataframe\">\n",
              "  <thead>\n",
              "    <tr style=\"text-align: right;\">\n",
              "      <th>Decision</th>\n",
              "      <th>accept</th>\n",
              "      <th>reject</th>\n",
              "    </tr>\n",
              "    <tr>\n",
              "      <th>Source</th>\n",
              "      <th></th>\n",
              "      <th></th>\n",
              "    </tr>\n",
              "  </thead>\n",
              "  <tbody>\n",
              "    <tr>\n",
              "      <th>F set</th>\n",
              "      <td>504.0</td>\n",
              "      <td>NaN</td>\n",
              "    </tr>\n",
              "    <tr>\n",
              "      <th>U set</th>\n",
              "      <td>23.0</td>\n",
              "      <td>473.0</td>\n",
              "    </tr>\n",
              "  </tbody>\n",
              "</table>\n",
              "</div>"
            ],
            "text/plain": [
              "Decision  accept  reject\n",
              "Source                  \n",
              "F set      504.0     NaN\n",
              "U set       23.0   473.0"
            ]
          },
          "metadata": {
            "tags": []
          },
          "execution_count": 80
        }
      ]
    },
    {
      "cell_type": "markdown",
      "metadata": {
        "id": "03GsjDCXst4E"
      },
      "source": [
        "# Query Complexity of Quantum Algorithm Versus the Classical one\n",
        "\n",
        "After we present the quantum algorithm, it is time to look back to classical algorithm for comparison. It is not hard to give a classical algorithm that solves Fourier Checking using $O(\\sqrt{N}) = O(2^{n/2})$ queries, which is similar as we did in the BPP section.\n",
        "\n",
        "For some $K=\\Theta(\\sqrt{N})$, first choose sets $X=\\{x_1,\\ldots, x_K\\}$ and $Y = \\{y_1, \\ldots, y_K\\}$ of $n-$bit strings uniformly at random. Then query $f(x_i)$ and $g(y_i)$ for all $i \\in [K]$. Finally, compute\n",
        "$$\n",
        "  Z := \\sum_{i,j=1}^K f(x_i) (-1)^{x_i\\cdot y_j} g(y_j)\n",
        "$$\n",
        "accept if $|Z|$ is greater than some cutoff $cK$, and reject otherwise. For suitable $K$ and $c$, one can show that this algorithm accepts a forrelated $\\langle f, g \\rangle$ pair with probability at least $2/3$. Comparing this with $O(1)$ complexity in quantum query, we can see an exponential speedup by using quantum computer.\n",
        "\n",
        "<!-- Maybe we can find a better classical algorithm for forrelation problem, but it is proved that the lower bound on the classical query complexity is at least $\\Omega\\left(\\sqrt[4]{N}\\right) = \\Omega\\left(2^{n/4}\\right)$. -->\n",
        "\n"
      ]
    },
    {
      "cell_type": "markdown",
      "metadata": {
        "id": "HpOFrK4QW5Y4"
      },
      "source": [
        "# Further reading\n",
        "\n",
        "The Forrelation problem was originally introduced in [1]. Later, a **$k$-fold Forrelation** problem was introduced in [2], which considered the forrelation between $k$ oracle functions. In that paper, it also improved the proof about the seperation of forrelation problem from $\\Omega\\left(\\sqrt[4]{N}\\right)$ to $\\tilde{\\Omega}\\left(\\sqrt{N}\\right)$, which can not be further improved. Thus, resolving an open question of Buhrman et al., there is NO partial\n",
        "Boolean function whose quantum query complexity is constant and whose randomized query complexity is linear. \n",
        "\n",
        "[1] *Scott Aaronson. BQP and the Polynomial Hierarchy. STOC ’10, page 141–150, New York, NY, USA, 2010.* [arXiv](https://arxiv.org/pdf/0910.4698.pdf)\n",
        "\n",
        "[2] *Scott Aaronson and Andris Ambainis. Forrelation: A problem that optimally separates quantum\n",
        "from classical computing. SIAM J. Comput., 47(3):982–1038, 2018.* [arXiv]( https://arxiv.org/pdf/1411.5729.pdf)"
      ]
    },
    {
      "cell_type": "code",
      "metadata": {
        "id": "jbO9VuucbRmH"
      },
      "source": [
        ""
      ],
      "execution_count": null,
      "outputs": []
    }
  ]
}