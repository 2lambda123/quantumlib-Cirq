{
 "cells": [
  {
   "cell_type": "markdown",
   "id": "c5cad87f",
   "metadata": {},
   "source": [
    "# Getting started with IonQ and Cirq on Azure Quantum\n",
    "<table class=\"tfo-notebook-buttons\" align=\"left\">\n",
    "  <td>\n",
    "    <a target=\"_blank\" href=\"https://quantumai.google/cirq/tutorials/azure-quantum/getting_started_ionq\"><img src=\"https://quantumai.google/site-assets/images/buttons/quantumai_logo_1x.png\" />View on QuantumAI</a>\n",
    "  </td>\n",
    "  <td>\n",
    "    <a target=\"_blank\" href=\"https://colab.research.google.com/github/quantumlib/Cirq/blob/master/docs/tutorials/azure-quantum/getting_started_ionq.ipynb\"><img src=\"https://quantumai.google/site-assets/images/buttons/colab_logo_1x.png\" />Run in Google Colab</a>\n",
    "  </td>\n",
    "  <td>\n",
    "    <a target=\"_blank\" href=\"https://github.com/quantumlib/Cirq/blob/master/docs/tutorials/azure-quantum/getting_started_ionq.ipynb\"><img src=\"https://quantumai.google/site-assets/images/buttons/github_logo_1x.png\" />View source on GitHub</a>\n",
    "  </td>\n",
    "  <td>\n",
    "    <a href=\"https://storage.googleapis.com/tensorflow_docs/Cirq/docs/tutorials/azure-quantum/getting_started_ionq.ipynb\"><img src=\"https://quantumai.google/site-assets/images/buttons/download_icon_1x.png\" />Download notebook</a>\n",
    "  </td>\n",
    "</table>"
   ]
  },
  {
   "cell_type": "markdown",
   "id": "099c60c3",
   "metadata": {},
   "source": [
    "This notebooks shows how to send a basic quantum circuit to a Honeywell target via Azure Quantum.\n",
    "\n",
    "## Prerequisites\n",
    "\n",
    "- To work in Azure Quantum, you need an Azure subscription. If you don't have an Azure subscription, create a [free account](https://azure.microsoft.com/free/).\n",
    "- Create an Azure Quantum workspace and enable IonQ. For more information, see [Create an Azure Quantum workspace](https://docs.microsoft.com/azure/quantum/quickstart-microsoft-qc?pivots=platform-ionq#create-an-azure-quantum-workspace)."
   ]
  },
  {
   "cell_type": "markdown",
   "id": "4e09c675",
   "metadata": {},
   "source": [
    "First, install `azure-quantum` with the Cirq dependencies:"
   ]
  },
  {
   "cell_type": "code",
   "execution_count": 1,
   "id": "c44f7415",
   "metadata": {},
   "outputs": [],
   "source": [
    "!pip install azure-quantum[cirq] --quiet"
   ]
  },
  {
   "cell_type": "markdown",
   "id": "9e2d200d",
   "metadata": {},
   "source": [
    "## Connecting to the Azure Quantum service\n",
    "\n",
    "To connect to the Azure Quantum service, find the resource ID and location of your Workspace from the Azure Quantum portal here: https://portal.azure.com. Navigate to your Azure Quantum workspace and copy the values from the header.\n",
    "\n",
    "<img src=\"azure-quantum-resource-id.png\">"
   ]
  },
  {
   "cell_type": "markdown",
   "id": "5c645025",
   "metadata": {},
   "source": [
    "Paste the values into the `AzureQuantumService` constructor below to create a `service` that connects to your Azure Quantum Workspace. Optionally, specify a default target:"
   ]
  },
  {
   "cell_type": "code",
   "execution_count": 2,
   "id": "a89e3a22",
   "metadata": {},
   "outputs": [],
   "source": [
    "from azure.quantum.cirq import AzureQuantumService\n",
    "service = AzureQuantumService(\n",
    "    resource_id=\"\",\n",
    "    location=\"\",\n",
    "    default_target=\"ionq.simulator\"\n",
    ")"
   ]
  },
  {
   "cell_type": "markdown",
   "id": "7e61d96a",
   "metadata": {},
   "source": [
    "### List all targets\n",
    "\n",
    "You can now list all the targets that you have access to, including the current queue time and availability."
   ]
  },
  {
   "cell_type": "code",
   "execution_count": 3,
   "id": "b1ffab14",
   "metadata": {},
   "outputs": [
    {
     "data": {
      "text/plain": [
       "[<Target name=\"ionq.qpu\", avg. queue time=19 s, Available>,\n",
       " <Target name=\"ionq.simulator\", avg. queue time=0 s, Available>,\n",
       " <Target name=\"honeywell.hqs-lt-s1\", avg. queue time=0 s, Unavailable>,\n",
       " <Target name=\"honeywell.hqs-lt-s1-apival\", avg. queue time=0 s, Available>,\n",
       " <Target name=\"honeywell.hqs-lt-s2\", avg. queue time=93509 s, Available>,\n",
       " <Target name=\"honeywell.hqs-lt-s2-apival\", avg. queue time=0 s, Available>,\n",
       " <Target name=\"honeywell.hqs-lt-s1-sim\", avg. queue time=26 s, Available>]"
      ]
     },
     "execution_count": 3,
     "metadata": {},
     "output_type": "execute_result"
    }
   ],
   "source": [
    "service.targets()"
   ]
  },
  {
   "cell_type": "markdown",
   "id": "09ce82d3",
   "metadata": {},
   "source": [
    "## Run a simple circuit\n",
    "\n",
    "Let's create a simple Cirq circuit to run. This circuit uses the square root of X gate, native to the IonQ hardware system."
   ]
  },
  {
   "cell_type": "code",
   "execution_count": 4,
   "id": "b97452a3",
   "metadata": {},
   "outputs": [
    {
     "data": {
      "text/html": [
       "<pre style=\"overflow: auto; white-space: pre;\">0: ───X^0.5───@───M(&#x27;b&#x27;)───\n",
       "              │   │\n",
       "1: ───────────X───M────────</pre>"
      ],
      "text/plain": [
       "0: ───X^0.5───@───M('b')───\n",
       "              │   │\n",
       "1: ───────────X───M────────"
      ]
     },
     "execution_count": 4,
     "metadata": {},
     "output_type": "execute_result"
    }
   ],
   "source": [
    "import cirq\n",
    "\n",
    "q0, q1 = cirq.LineQubit.range(2)\n",
    "circuit = cirq.Circuit(\n",
    "    cirq.X(q0)**0.5,             # Square root of X\n",
    "    cirq.CX(q0, q1),              # CNOT\n",
    "    cirq.measure(q0, q1, key='b') # Measure both qubits\n",
    ")\n",
    "circuit"
   ]
  },
  {
   "cell_type": "markdown",
   "id": "e2bcbea7",
   "metadata": {},
   "source": [
    "You can now run the program via the Azure Quantum service and get the result. The following cell will submit a job that runs the circuit with 100 shots, wait until the job is completed and return the results."
   ]
  },
  {
   "cell_type": "code",
   "execution_count": 5,
   "id": "d415b79e",
   "metadata": {},
   "outputs": [],
   "source": [
    "result = service.run(program=circuit, repetitions=100)"
   ]
  },
  {
   "cell_type": "markdown",
   "id": "7b95be27",
   "metadata": {},
   "source": [
    "This returns a `cirq.Result` object."
   ]
  },
  {
   "cell_type": "code",
   "execution_count": 6,
   "id": "61486d18",
   "metadata": {},
   "outputs": [
    {
     "name": "stdout",
     "output_type": "stream",
     "text": [
      "b=0001101010110000111010001110010111010001101010001111100011100001111100101011101101001000001000011000, 0001101010110000111010001110010111010001101010001111100011100001111100101011101101001000001000011000\n"
     ]
    }
   ],
   "source": [
    "print(result)"
   ]
  },
  {
   "cell_type": "markdown",
   "id": "16f8d0b3",
   "metadata": {},
   "source": [
    "### Run on IonQ QPU\n",
    "\n",
    "#### Note: The time required to run a circuit on the QPU may vary depending on current queue times."
   ]
  },
  {
   "cell_type": "markdown",
   "id": "eb455e17",
   "metadata": {},
   "source": [
    "The previous job ran on the default simulator we specified, `\"ionq.simulator\"`. To run on the QPU, provide `\"ionq.qpu\"` as the `target` argument:"
   ]
  },
  {
   "cell_type": "code",
   "execution_count": 7,
   "id": "fd2668b1",
   "metadata": {
    "scrolled": true
   },
   "outputs": [],
   "source": [
    "result = service.run(\n",
    "    program=circuit,\n",
    "    repetitions=100,\n",
    "    target=\"ionq.qpu\",\n",
    "    timeout_seconds=500 # Set timeout to 500 seconds to accomodate current queue time on QPU\n",
    ")"
   ]
  },
  {
   "cell_type": "markdown",
   "id": "57628298",
   "metadata": {},
   "source": [
    "Again, this returns a `cirq.Result` object."
   ]
  },
  {
   "cell_type": "code",
   "execution_count": 8,
   "id": "f7cb6f3b",
   "metadata": {},
   "outputs": [
    {
     "name": "stdout",
     "output_type": "stream",
     "text": [
      "b=0101011011011111100001011101101011011110100010000000011110111000100100110110101100110001001111101111, 0101011011011111100001011101101011011110100010000000011110111000100100110110101100110001001111101111\n",
      "\n"
     ]
    }
   ],
   "source": [
    "print(result)"
   ]
  },
  {
   "cell_type": "markdown",
   "id": "4a7ce81a",
   "metadata": {},
   "source": [
    "## Asynchronous model using Jobs\n",
    "\n",
    "For long-running circuits, it can be useful to run them asynchronously. The `service.create_job` method returns a `Job`, which you can use to get the results after the job has run successfully."
   ]
  },
  {
   "cell_type": "code",
   "execution_count": 9,
   "id": "22711bed",
   "metadata": {},
   "outputs": [],
   "source": [
    "job = service.create_job(\n",
    "    program=circuit,\n",
    "    repetitions=100,\n",
    "    target=\"ionq.simulator\"\n",
    ")"
   ]
  },
  {
   "cell_type": "markdown",
   "id": "f88f3022",
   "metadata": {},
   "source": [
    "To check on the job status, use `job.status()`:"
   ]
  },
  {
   "cell_type": "code",
   "execution_count": 10,
   "id": "5bd29c4c",
   "metadata": {},
   "outputs": [
    {
     "data": {
      "text/plain": [
       "'ready'"
      ]
     },
     "execution_count": 10,
     "metadata": {},
     "output_type": "execute_result"
    }
   ],
   "source": [
    "job.status()"
   ]
  },
  {
   "cell_type": "markdown",
   "id": "b2aa2743",
   "metadata": {},
   "source": [
    "To wait for the job to be done and get the results, use the blocking call `job.results()`:"
   ]
  },
  {
   "cell_type": "code",
   "execution_count": 11,
   "id": "68619429",
   "metadata": {},
   "outputs": [
    {
     "name": "stdout",
     "output_type": "stream",
     "text": [
      "00: 0.5\n",
      "11: 0.5\n"
     ]
    }
   ],
   "source": [
    "result = job.results()\n",
    "print(result)"
   ]
  },
  {
   "cell_type": "markdown",
   "id": "d077d6a5",
   "metadata": {},
   "source": [
    "Note that this does not return a `cirq.Result` object. Instead it returns a result object that is specific to the IonQ simulator and uses state probabilities instead of shot data."
   ]
  },
  {
   "cell_type": "code",
   "execution_count": 12,
   "id": "b3737fb9",
   "metadata": {},
   "outputs": [
    {
     "data": {
      "text/plain": [
       "cirq_ionq.results.SimulatorResult"
      ]
     },
     "execution_count": 12,
     "metadata": {},
     "output_type": "execute_result"
    }
   ],
   "source": [
    "type(result)"
   ]
  },
  {
   "cell_type": "markdown",
   "id": "627d17cd",
   "metadata": {},
   "source": [
    "To convert this to a `cirq.Result` object, use `result.to_cirq_result()`:"
   ]
  },
  {
   "cell_type": "code",
   "execution_count": 13,
   "id": "5ae87c32",
   "metadata": {},
   "outputs": [
    {
     "data": {
      "text/plain": [
       "b=1101000111010101101001011100001111101110011000100111101000010100101000001100010010011010111010011101, 1101000111010101101001011100001111101110011000100111101000010100101000001100010010011010111010011101"
      ]
     },
     "execution_count": 13,
     "metadata": {},
     "output_type": "execute_result"
    }
   ],
   "source": [
    "result.to_cirq_result()"
   ]
  },
  {
   "cell_type": "code",
   "execution_count": null,
   "id": "865c9c2c",
   "metadata": {},
   "outputs": [],
   "source": []
  }
 ],
 "metadata": {
  "kernelspec": {
   "display_name": "Python 3 (ipykernel)",
   "language": "python",
   "name": "python3"
  },
  "language_info": {
   "codemirror_mode": {
    "name": "ipython",
    "version": 3
   },
   "file_extension": ".py",
   "mimetype": "text/x-python",
   "name": "python",
   "nbconvert_exporter": "python",
   "pygments_lexer": "ipython3",
   "version": "3.7.10"
  }
 },
 "nbformat": 4,
 "nbformat_minor": 5
}
