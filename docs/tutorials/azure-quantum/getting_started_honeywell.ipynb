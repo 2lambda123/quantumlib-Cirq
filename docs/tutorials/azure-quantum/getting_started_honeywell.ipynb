{
 "cells": [
  {
   "cell_type": "markdown",
   "id": "8756da21",
   "metadata": {},
   "source": [
    "# Getting started with Honeywell and Cirq on Azure Quantum\n",
    "<table class=\"tfo-notebook-buttons\" align=\"left\">\n",
    "  <td>\n",
    "    <a target=\"_blank\" href=\"https://quantumai.google/cirq/tutorials/azure-quantum/getting_started_honeywell\"><img src=\"https://quantumai.google/site-assets/images/buttons/quantumai_logo_1x.png\" />View on QuantumAI</a>\n",
    "  </td>\n",
    "  <td>\n",
    "    <a target=\"_blank\" href=\"https://colab.research.google.com/github/quantumlib/Cirq/blob/master/docs/tutorials/azure-quantum/getting_started_honeywell.ipynb\"><img src=\"https://quantumai.google/site-assets/images/buttons/colab_logo_1x.png\" />Run in Google Colab</a>\n",
    "  </td>\n",
    "  <td>\n",
    "    <a target=\"_blank\" href=\"https://github.com/quantumlib/Cirq/blob/master/docs/tutorials/azure-quantum/getting_started_honeywell.ipynb\"><img src=\"https://quantumai.google/site-assets/images/buttons/github_logo_1x.png\" />View source on GitHub</a>\n",
    "  </td>\n",
    "  <td>\n",
    "    <a href=\"https://storage.googleapis.com/tensorflow_docs/Cirq/docs/tutorials/azure-quantum/getting_started_honeywell.ipynb\"><img src=\"https://quantumai.google/site-assets/images/buttons/download_icon_1x.png\" />Download notebook</a>\n",
    "  </td>\n",
    "</table>"
   ]
  },
  {
   "cell_type": "markdown",
   "id": "4f17cbe8",
   "metadata": {},
   "source": [
    "This notebooks shows how to send a basic quantum circuit to a Honeywell target via Azure Quantum.\n",
    "\n",
    "## Prerequisites\n",
    "\n",
    "- To work in Azure Quantum, you need an Azure subscription. If you don't have an Azure subscription, create a [free account](https://azure.microsoft.com/free/).\n",
    "- Create an Azure Quantum workspace and enable IonQ. For more information, see [Create an Azure Quantum workspace](https://docs.microsoft.com/azure/quantum/quickstart-microsoft-qc?pivots=platform-ionq#create-an-azure-quantum-workspace)."
   ]
  },
  {
   "cell_type": "markdown",
   "id": "650d727f",
   "metadata": {},
   "source": [
    "First, install `azure-quantum` with the Cirq dependencies:"
   ]
  },
  {
   "cell_type": "code",
   "execution_count": 1,
   "id": "06c4e2fd",
   "metadata": {},
   "outputs": [],
   "source": [
    "!pip install azure-quantum[cirq] --quiet"
   ]
  },
  {
   "cell_type": "markdown",
   "id": "b376dc0b",
   "metadata": {},
   "source": [
    "## Connecting to the Azure Quantum service\n",
    "\n",
    "To connect to the Azure Quantum service, find the resource ID and location of your Workspace from the Azure Portal here: https://portal.azure.com. Navigate to your Azure Quantum Workspace and copy the values from the header.\n",
    "\n",
    "<img src=\"azure-quantum-resource-id.png\">"
   ]
  },
  {
   "cell_type": "code",
   "execution_count": 2,
   "id": "da4a3544",
   "metadata": {},
   "outputs": [],
   "source": [
    "from azure.quantum.cirq import AzureQuantumService\n",
    "service = AzureQuantumService(\n",
    "    resource_id=\"\",\n",
    "    location=\"\",\n",
    "    default_target=\"honeywell.hqs-lt-s1-apival\"\n",
    ")"
   ]
  },
  {
   "cell_type": "markdown",
   "id": "a7a52521",
   "metadata": {},
   "source": [
    "### List all targets\n",
    "\n",
    "You can now list all the targets that you have access to, including the current queue time and availability."
   ]
  },
  {
   "cell_type": "code",
   "execution_count": 3,
   "id": "ba06b494",
   "metadata": {},
   "outputs": [
    {
     "data": {
      "text/plain": [
       "[<Target name=\"ionq.qpu\", avg. queue time=250 s, Available>,\n",
       " <Target name=\"ionq.simulator\", avg. queue time=0 s, Available>,\n",
       " <Target name=\"honeywell.hqs-lt-s1\", avg. queue time=0 s, Unavailable>,\n",
       " <Target name=\"honeywell.hqs-lt-s1-apival\", avg. queue time=0 s, Available>,\n",
       " <Target name=\"honeywell.hqs-lt-s2\", avg. queue time=93509 s, Available>,\n",
       " <Target name=\"honeywell.hqs-lt-s2-apival\", avg. queue time=0 s, Available>,\n",
       " <Target name=\"honeywell.hqs-lt-s1-sim\", avg. queue time=26 s, Available>]"
      ]
     },
     "execution_count": 3,
     "metadata": {},
     "output_type": "execute_result"
    }
   ],
   "source": [
    "service.targets()"
   ]
  },
  {
   "cell_type": "markdown",
   "id": "b7c41ea3",
   "metadata": {},
   "source": [
    "## Run a simple circuit\n",
    "\n",
    "Now, let's create a simple Cirq circuit to run."
   ]
  },
  {
   "cell_type": "code",
   "execution_count": 4,
   "id": "defbb444",
   "metadata": {},
   "outputs": [
    {
     "data": {
      "text/html": [
       "<pre style=\"overflow: auto; white-space: pre;\">0: ───H───@───M(&#x27;b&#x27;)───\n",
       "          │   │\n",
       "1: ───────X───M────────</pre>"
      ],
      "text/plain": [
       "0: ───H───@───M('b')───\n",
       "          │   │\n",
       "1: ───────X───M────────"
      ]
     },
     "execution_count": 4,
     "metadata": {},
     "output_type": "execute_result"
    }
   ],
   "source": [
    "import cirq\n",
    "\n",
    "q0, q1 = cirq.LineQubit.range(2)\n",
    "circuit = cirq.Circuit(\n",
    "    cirq.H(q0), # Hadamard\n",
    "    cirq.CNOT(q0, q1), # CNOT\n",
    "    cirq.measure(q0, q1, key='b') # Measure both qubits\n",
    ")\n",
    "circuit"
   ]
  },
  {
   "cell_type": "markdown",
   "id": "5d89f743",
   "metadata": {},
   "source": [
    "You can now run the program via the Azure Quantum service and get the result. The following cell will submit a job that runs the circuit with 100 shots, wait until the job is completed and return the results."
   ]
  },
  {
   "cell_type": "code",
   "execution_count": 5,
   "id": "7aabccdf",
   "metadata": {},
   "outputs": [
    {
     "name": "stdout",
     "output_type": "stream",
     "text": [
      "......."
     ]
    }
   ],
   "source": [
    "result = service.run(program=circuit, repetitions=100)"
   ]
  },
  {
   "cell_type": "markdown",
   "id": "5d3df7e9",
   "metadata": {},
   "source": [
    "This returns a `cirq.Result` object. Note that we used the API validator, which only returns zeros."
   ]
  },
  {
   "cell_type": "code",
   "execution_count": 6,
   "id": "94decf2f",
   "metadata": {},
   "outputs": [
    {
     "name": "stdout",
     "output_type": "stream",
     "text": [
      "b=0000000000000000000000000000000000000000000000000000000000000000000000000000000000000000000000000000\n"
     ]
    }
   ],
   "source": [
    "print(result)"
   ]
  },
  {
   "cell_type": "markdown",
   "id": "4f2adf23",
   "metadata": {},
   "source": [
    "## Asynchronous workflow using Jobs\n",
    "\n",
    "For long-running circuits, it can be useful to run them asynchronously. The `service.create_job` method returns a `Job`, which you can use to get the results after the job has run successfully."
   ]
  },
  {
   "cell_type": "code",
   "execution_count": 7,
   "id": "d112ddb3",
   "metadata": {},
   "outputs": [],
   "source": [
    "job = service.create_job(\n",
    "    program=circuit,\n",
    "    repetitions=100\n",
    ")"
   ]
  },
  {
   "cell_type": "markdown",
   "id": "4ef4b6fc",
   "metadata": {},
   "source": [
    "To check on the job status, use `job.status()`:"
   ]
  },
  {
   "cell_type": "code",
   "execution_count": 8,
   "id": "2969c0d8",
   "metadata": {},
   "outputs": [
    {
     "data": {
      "text/plain": [
       "'Waiting'"
      ]
     },
     "execution_count": 8,
     "metadata": {},
     "output_type": "execute_result"
    }
   ],
   "source": [
    "job.status()"
   ]
  },
  {
   "cell_type": "markdown",
   "id": "b5695c4b",
   "metadata": {},
   "source": [
    "To wait for the job to be done and get the results, use the blocking call `job.results()`:"
   ]
  },
  {
   "cell_type": "code",
   "execution_count": 9,
   "id": "6af542d1",
   "metadata": {},
   "outputs": [
    {
     "name": "stdout",
     "output_type": "stream",
     "text": [
      ".......{'m_b': ['00', '00', '00', '00', '00', '00', '00', '00', '00', '00', '00', '00', '00', '00', '00', '00', '00', '00', '00', '00', '00', '00', '00', '00', '00', '00', '00', '00', '00', '00', '00', '00', '00', '00', '00', '00', '00', '00', '00', '00', '00', '00', '00', '00', '00', '00', '00', '00', '00', '00', '00', '00', '00', '00', '00', '00', '00', '00', '00', '00', '00', '00', '00', '00', '00', '00', '00', '00', '00', '00', '00', '00', '00', '00', '00', '00', '00', '00', '00', '00', '00', '00', '00', '00', '00', '00', '00', '00', '00', '00', '00', '00', '00', '00', '00', '00', '00', '00', '00', '00']}\n"
     ]
    }
   ],
   "source": [
    "result = job.results()\n",
    "print(result)"
   ]
  },
  {
   "cell_type": "markdown",
   "id": "54392f7a",
   "metadata": {},
   "source": [
    "Note that this does not return a `cirq.Result` object. Instead it returns a dictionary that is specific to the Honeywell simulator."
   ]
  },
  {
   "cell_type": "code",
   "execution_count": 10,
   "id": "72547953",
   "metadata": {},
   "outputs": [
    {
     "data": {
      "text/plain": [
       "dict"
      ]
     },
     "execution_count": 10,
     "metadata": {},
     "output_type": "execute_result"
    }
   ],
   "source": [
    "type(result)"
   ]
  },
  {
   "cell_type": "code",
   "execution_count": null,
   "id": "b0de5a87",
   "metadata": {},
   "outputs": [],
   "source": []
  }
 ],
 "metadata": {
  "kernelspec": {
   "display_name": "Python 3 (ipykernel)",
   "language": "python",
   "name": "python3"
  },
  "language_info": {
   "codemirror_mode": {
    "name": "ipython",
    "version": 3
   },
   "file_extension": ".py",
   "mimetype": "text/x-python",
   "name": "python",
   "nbconvert_exporter": "python",
   "pygments_lexer": "ipython3",
   "version": "3.7.10"
  }
 },
 "nbformat": 4,
 "nbformat_minor": 5
}
