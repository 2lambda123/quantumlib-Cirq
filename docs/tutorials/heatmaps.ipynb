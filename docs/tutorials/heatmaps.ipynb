{
 "metadata": {
  "language_info": {
   "codemirror_mode": {
    "name": "ipython",
    "version": 3
   },
   "file_extension": ".py",
   "mimetype": "text/x-python",
   "name": "python",
   "nbconvert_exporter": "python",
   "pygments_lexer": "ipython3",
   "version": 3
  },
  "orig_nbformat": 2,
  "kernelspec": {
   "name": "python3",
   "language": "python",
   "display_name": "Python 3"
  }
 },
 "nbformat": 4,
 "nbformat_minor": 2,
 "cells": [
  {
   "cell_type": "markdown",
   "metadata": {
    "pycharm": {
     "name": "#%% md\n"
    }
   },
   "source": [
    "### Qubit Heatmaps\n",
    "Qubit heatmaps are useful to visualise various different types of qubit errors. Cirq currently supports single qubit\n",
    "heatmaps and two-qubit interaction heatmaps for GridQubits."
   ]
  },
  {
   "cell_type": "markdown",
   "source": [
    "<table class=\"tfo-notebook-buttons\" align=\"left\">\n",
    "  <td>\n",
    "    <a target=\"_blank\" href=\"https://quantumai.google/cirq/heatmaps>\"><img src=\"https://quantumai.google/site-assets/images/buttons/quantumai_logo_1x.png\" />View on QuantumAI</a>\n",
    "  </td>\n",
    "  <td>\n",
    "    <a target=\"_blank\" href=\"https://colab.research.google.com/github/quantumlib/Cirq/blob/master/docs/heatmaps.ipynb\"><img src=\"https://quantumai.google/site-assets/images/buttons/colab_logo_1x.png\" />Run in Google Colab</a>\n",
    "  </td>\n",
    "  <td>\n",
    "    <a target=\"_blank\" href=\"https://github.com/quantumlib/Cirq/blob/master/docs/heatmaps.ipynb\"><img src=\"https://quantumai.google/site-assets/images/buttons/github_logo_1x.png\" />View source on GitHub</a>\n",
    "  </td>\n",
    "  <td>\n",
    "    <a href=\"https://storage.googleapis.com/tensorflow_docs/Cirq/docs/heatmaps.ipynb\"><img src=\"https://quantumai.google/site-assets/images/buttons/download_icon_1x.png\" />Download notebook</a>\n",
    "  </td>\n",
    "</table>"
   ],
   "metadata": {
    "collapsed": false
   }
  },
  {
   "cell_type": "code",
   "execution_count": null,
   "outputs": [],
   "source": [
    "try:\n",
    "    import cirq\n",
    "except ImportError:\n",
    "    print(\"installing cirq...\")\n",
    "    !pip install --quiet cirq --pre\n",
    "    print(\"installed cirq.\")\n",
    "    import cirq\n",
    "from random import random\n",
    "from itertools import combinations"
   ],
   "metadata": {
    "collapsed": false,
    "pycharm": {
     "name": "#%%\n"
    }
   }
  },
  {
   "cell_type": "markdown",
   "source": [
    "### Heatmaps for Calibration Metrics\n",
    "\n",
    "[Calibration Metrics](https://quantumai.google/cirq/google/calibration) about the performance of the Quantum Computer\n",
    "can be retrieved from the Quantum Engine."
   ],
   "metadata": {
    "collapsed": false,
    "pycharm": {
     "name": "#%% md\n"
    }
   }
  },
  {
   "cell_type": "code",
   "execution_count": null,
   "outputs": [],
   "source": [
    "# Uncomment and replace PROCESSOR_ID and YOUR_PROJECT_ID with the id from your cloud project.\n",
    "# cals = cirq.google.get_engine_calibration(PROCESSOR_ID, YOUR_PROJECT_ID)"
   ],
   "metadata": {
    "collapsed": false,
    "pycharm": {
     "name": "#%%\n"
    }
   }
  },
  {
   "cell_type": "markdown",
   "source": [
    "As an example, we create the calibration object with dummy data as follows:"
   ],
   "metadata": {
    "collapsed": false,
    "pycharm": {
     "name": "#%% md\n"
    }
   }
  },
  {
   "cell_type": "code",
   "execution_count": null,
   "outputs": [],
   "source": [
    "metrics = {'single_qubit_errors' : {}, 'two_qubit_errors': {}}\n",
    "for qubit in cirq.google.Sycamore.qubits:\n",
    "    metrics['single_qubit_errors'].update({(qubit,) : [random()]})\n",
    "for q_1, q_2 in combinations(cirq.google.Sycamore.qubits, 2):\n",
    "    if q_1.is_adjacent(q_2):\n",
    "        metrics['two_qubit_errors'].update({(q_1, q_2) : [random()]})\n",
    "cals = cirq.google.Calibration(metrics=metrics)"
   ],
   "metadata": {
    "collapsed": false,
    "pycharm": {
     "name": "#%%\n"
    }
   }
  },
  {
   "cell_type": "markdown",
   "source": [
    "You can plot the single qubit heatmaps by fetching the single qubit metrics from calibration data as follows:"
   ],
   "metadata": {
    "collapsed": false,
    "pycharm": {
     "name": "#%% md\n"
    }
   }
  },
  {
   "cell_type": "code",
   "execution_count": null,
   "outputs": [],
   "source": [
    "cals.heatmap('single_qubit_errors').plot()"
   ],
   "metadata": {
    "collapsed": false,
    "pycharm": {
     "name": "#%%\n"
    }
   }
  },
  {
   "cell_type": "markdown",
   "source": [
    "Similarly, you can fetch two-qubit metrics by passing the appropriate `key`, and plot the two qubit interaction\n",
    "heatmaps.\n",
    "\n",
    "You can also change various properties of the plot by passing appropriate `kwargs` to the `update_config`\n",
    "method as shown below:"
   ],
   "metadata": {
    "collapsed": false,
    "pycharm": {
     "name": "#%% md\n"
    }
   }
  },
  {
   "cell_type": "code",
   "execution_count": null,
   "outputs": [],
   "source": [
    "two_qubit_heatmap = cals.heatmap('two_qubit_errors')\n",
    "two_qubit_heatmap.update_config(annotation_format='.2f')\n",
    "two_qubit_heatmap.plot()"
   ],
   "metadata": {
    "collapsed": false,
    "pycharm": {
     "name": "#%%\n"
    }
   }
  },
  {
   "cell_type": "markdown",
   "source": [
    "### Heatmaps for Custom Data\n",
    "You can directly create heatmaps using custom data mapping from a qubit/qubit pair to a corresponding value. For eg:\n"
   ],
   "metadata": {
    "collapsed": false
   }
  },
  {
   "cell_type": "code",
   "execution_count": null,
   "outputs": [],
   "source": [
    "cirq.Heatmap({\n",
    "    (cirq.GridQubit(0, 0),): 0.1,\n",
    "    (cirq.GridQubit(0, 1),): 0.2,\n",
    "    (cirq.GridQubit(0, 2),): 0.3,\n",
    "    (cirq.GridQubit(1, 0),): 0.4,\n",
    "}, plot_colorbar = False).plot()"
   ],
   "metadata": {
    "collapsed": false,
    "pycharm": {
     "name": "#%%\n"
    }
   }
  },
  {
   "cell_type": "code",
   "execution_count": null,
   "outputs": [],
   "source": [
    "cirq.TwoQubitInteractionHeatmap({\n",
    "    (cirq.GridQubit(0, 0), cirq.GridQubit(0, 1)): 1.1,\n",
    "    (cirq.GridQubit(0, 1), cirq.GridQubit(0, 2)): 1.4,\n",
    "    (cirq.GridQubit(1, 0), cirq.GridQubit(0, 0)): 1.6,\n",
    "    (cirq.GridQubit(3, 3), cirq.GridQubit(3, 2)): 1.9,\n",
    "}, annotation_format=\"0.2f\", title = 'Dummy Two Qubit Manual Plot').plot()"
   ],
   "metadata": {
    "collapsed": false,
    "pycharm": {
     "name": "#%%\n"
    }
   }
  }
 ]
}