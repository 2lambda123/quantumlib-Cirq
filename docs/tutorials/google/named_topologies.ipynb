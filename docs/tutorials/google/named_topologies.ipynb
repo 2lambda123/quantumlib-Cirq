{
 "cells": [
  {
   "cell_type": "code",
   "execution_count": null,
   "id": "respiratory-montreal",
   "metadata": {},
   "outputs": [],
   "source": [
    "from matplotlib import pyplot as plt\n",
    "import numpy as np\n",
    "import networkx as nx"
   ]
  },
  {
   "cell_type": "markdown",
   "metadata": {},
   "source": [
    "## DiagonalRectangleTopology"
   ]
  },
  {
   "cell_type": "code",
   "execution_count": null,
   "metadata": {},
   "outputs": [],
   "source": [
    "import itertools\n",
    "from cirq_google.named_topologies import DiagonalRectangleTopology\n",
    "\n",
    "side_lens = np.arange(1, 4+1)\n",
    "l = len(side_lens)\n",
    "\n",
    "fig, axes = plt.subplots(l, l, figsize=(3.5*l, 3*l))\n",
    "for widthi, heighti in itertools.combinations_with_replacement(np.arange(l), r=2):\n",
    "    width = side_lens[widthi]\n",
    "    height = side_lens[heighti]\n",
    "    ax = axes[heighti, widthi]\n",
    "    topo = DiagonalRectangleTopology(width, height)\n",
    "    topo.draw(ax=ax, cartesian=False)\n",
    "    if widthi != heighti:\n",
    "        # turn off its pair-but-reversed\n",
    "        axes[widthi, heighti].axis('off')\n",
    "        pass\n",
    "        \n",
    "    if widthi == 0:\n",
    "        ax.set_ylabel(f'Height {height}', fontsize=14)\n",
    "    if heighti == l-1:\n",
    "        ax.set_xlabel(f'Width {width}', fontsize=14)\n",
    "    \n",
    "    ax.set_title(f'n = {topo.n_nodes}', fontsize=14)\n",
    "        \n",
    "fig.tight_layout()"
   ]
  },
  {
   "cell_type": "markdown",
   "metadata": {},
   "source": [
    "## Placement"
   ]
  },
  {
   "cell_type": "code",
   "execution_count": null,
   "id": "religious-amount",
   "metadata": {},
   "outputs": [],
   "source": [
    "import networkx as nx\n",
    "SYC23_GRAPH = nx.from_edgelist([\n",
    "    ((3, 2), (4, 2)), ((4, 1), (5, 1)), ((4, 2), (4, 1)), \n",
    "    ((4, 2), (4, 3)), ((4, 2), (5, 2)), ((4, 3), (5, 3)), \n",
    "    ((5, 1), (5, 0)), ((5, 1), (5, 2)), ((5, 1), (6, 1)), \n",
    "    ((5, 2), (5, 3)), ((5, 2), (6, 2)), ((5, 3), (5, 4)), \n",
    "    ((5, 3), (6, 3)), ((5, 4), (6, 4)), ((6, 1), (6, 2)), \n",
    "    ((6, 2), (6, 3)), ((6, 2), (7, 2)), ((6, 3), (6, 4)), \n",
    "    ((6, 3), (7, 3)), ((6, 4), (6, 5)), ((6, 4), (7, 4)), \n",
    "    ((6, 5), (7, 5)), ((7, 2), (7, 3)), ((7, 3), (7, 4)), \n",
    "    ((7, 3), (8, 3)), ((7, 4), (7, 5)), ((7, 4), (8, 4)), \n",
    "    ((7, 5), (7, 6)), ((7, 5), (8, 5)), ((8, 3), (8, 4)), \n",
    "    ((8, 4), (8, 5)), ((8, 4), (9, 4)), \n",
    "])"
   ]
  },
  {
   "cell_type": "code",
   "execution_count": null,
   "metadata": {
    "scrolled": false
   },
   "outputs": [],
   "source": [
    "from cirq_google.named_topologies import get_placements, plot_placements\n",
    "topo = DiagonalRectangleTopology(2, 1)\n",
    "placements = get_placements(SYC23_GRAPH, topo.graph)\n",
    "plot_placements(SYC23_GRAPH, topo.graph, placements[::3])\n",
    "print('...\\n')\n",
    "print(f'{len(placements)} total placements')"
   ]
  },
  {
   "cell_type": "markdown",
   "metadata": {},
   "source": [
    "## LineTopology"
   ]
  },
  {
   "cell_type": "code",
   "execution_count": null,
   "metadata": {},
   "outputs": [],
   "source": [
    "from cirq_google.named_topologies import LineTopology\n",
    "\n",
    "lens = np.arange(3, 12+1, 3)\n",
    "l = len(lens)\n",
    "fig, axes = plt.subplots(1,l, figsize=(3.5*l, 3*1))\n",
    "\n",
    "for ax, n_nodes in zip(axes, lens):\n",
    "    LineTopology(n_nodes).draw(ax=ax, cartesian=False)\n",
    "    ax.set_title(f'n =  {n_nodes}')\n",
    "    \n",
    "fig.tight_layout()\n",
    "    "
   ]
  },
  {
   "cell_type": "code",
   "execution_count": null,
   "metadata": {},
   "outputs": [],
   "source": [
    "topo = LineTopology(9)\n",
    "placements = get_placements(SYC23_GRAPH, topo.graph)\n",
    "plot_placements(SYC23_GRAPH, topo.graph, placements[::300])\n",
    "print('...\\n')\n",
    "print(f'{len(placements)} total placements')"
   ]
  }
 ],
 "metadata": {
  "kernelspec": {
   "display_name": "Python 3",
   "language": "python",
   "name": "python3"
  },
  "language_info": {
   "codemirror_mode": {
    "name": "ipython",
    "version": 3
   },
   "file_extension": ".py",
   "mimetype": "text/x-python",
   "name": "python",
   "nbconvert_exporter": "python",
   "pygments_lexer": "ipython3",
   "version": "3.7.7"
  }
 },
 "nbformat": 4,
 "nbformat_minor": 5
}
