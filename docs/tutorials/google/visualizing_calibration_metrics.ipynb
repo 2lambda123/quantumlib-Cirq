{
 "cells": [
  {
   "cell_type": "markdown",
   "metadata": {
    "id": "7bd5137ff0b2"
   },
   "source": [
    "##### Copyright 2021 The Cirq Developers"
   ]
  },
  {
   "cell_type": "code",
   "execution_count": null,
   "metadata": {
    "id": "60d1a836f542"
   },
   "outputs": [],
   "source": [
    "# Licensed under the Apache License, Version 2.0 (the \"License\");\n",
    "# you may not use this file except in compliance with the License.\n",
    "# You may obtain a copy of the License at\n",
    "#\n",
    "# https://www.apache.org/licenses/LICENSE-2.0\n",
    "#\n",
    "# Unless required by applicable law or agreed to in writing, software\n",
    "# distributed under the License is distributed on an \"AS IS\" BASIS,\n",
    "# WITHOUT WARRANTIES OR CONDITIONS OF ANY KIND, either express or implied.\n",
    "# See the License for the specific language governing permissions and\n",
    "# limitations under the License."
   ]
  },
  {
   "cell_type": "markdown",
   "metadata": {
    "id": "aL6Ny9Y2Rv10"
   },
   "source": [
    "# Calibrations\n",
    "The [tutorial on calibration](https://quantumai.google/cirq/google/calibration) gives an introduction to calibration metrics and how to retrieve them from the Google Quantum Computing Service (QCS). In this tutorial, we show how to visualize these calibration metrics via single qubit heatmaps, two qubit interaction heatmaps and integrated histograms.\n",
    "\n",
    "**Disclaimer:** The calibration metrics of the quantum processor shown in the tutorial do not correspond to actual production metrics."
   ]
  },
  {
   "cell_type": "markdown",
   "metadata": {
    "id": "2f4bb2cdfcb6"
   },
   "source": [
    "<table class=\"tfo-notebook-buttons\" align=\"left\">\n",
    "  <td>\n",
    "    <a target=\"_blank\" href=\"https://quantumai.google/cirq/tutorials/google/visualizing_calibration_metrics>\"><img src=\"https://quantumai.google/site-assets/images/buttons/quantumai_logo_1x.png\" />View on QuantumAI</a>\n",
    "  </td>\n",
    "  <td>\n",
    "    <a target=\"_blank\" href=\"https://colab.research.google.com/github/quantumlib/Cirq/blob/master/docs/tutorials/google/visualizing_calibration_metrics.ipynb\"><img src=\"https://quantumai.google/site-assets/images/buttons/colab_logo_1x.png\" />Run in Google Colab</a>\n",
    "  </td>\n",
    "  <td>\n",
    "    <a target=\"_blank\" href=\"https://github.com/quantumlib/Cirq/blob/master/docs/tutorials/google/visualizing_calibration_metrics.ipynb\"><img src=\"https://quantumai.google/site-assets/images/buttons/github_logo_1x.png\" />View source on GitHub</a>\n",
    "  </td>\n",
    "  <td>\n",
    "    <a href=\"https://storage.googleapis.com/tensorflow_docs/Cirq/docs/tutorials/google/visualizing_calibration_metrics.ipynb\"><img src=\"https://quantumai.google/site-assets/images/buttons/download_icon_1x.png\" />Download notebook</a>\n",
    "  </td>\n",
    "</table>"
   ]
  },
  {
   "cell_type": "code",
   "execution_count": null,
   "metadata": {
    "cellView": "form",
    "id": "T7hnERotRv12"
   },
   "outputs": [],
   "source": [
    "#@title Necessary Imports\n",
    "try:\n",
    "    import cirq\n",
    "except ImportError:\n",
    "    print(\"installing cirq...\")\n",
    "    !pip install --quiet --pre cirq\n",
    "    print(\"installed cirq.\")\n",
    "    import cirq\n",
    "import os\n",
    "from random import random\n",
    "from itertools import combinations\n",
    "import matplotlib.pyplot as plt"
   ]
  },
  {
   "cell_type": "markdown",
   "metadata": {
    "id": "4a2c0f8a990f"
   },
   "source": [
    "## Authenticate and install Cirq\n",
    "\n",
    "For details of authentication and installation, please see [go/quantum-engine-quickstart](http://go/quantum-engine-quickstart).\n",
    "\n",
    "Note:  The below code will install the latest stable release of cirq.  If you need the latest and greatest features and don't mind if a few things aren't quite working correctly, you can install the pre-release version of `cirq` using `pip install --pre cirq` instead of `pip install cirq` to get the most up-to-date features of cirq.\n",
    "\n",
    "1. Enter the Cloud project ID you'd like to use in the `YOUR_PROJECT_ID` field.\n",
    "2. Then run the cell below (and go through the auth flow for access to the project id you entered).\n",
    "\n",
    "<img src=\"https://raw.githubusercontent.com/quantumlib/Cirq/master/docs/images/run-code-block.png\" alt=\"Quantum Engine console\">"
   ]
  },
  {
   "cell_type": "code",
   "execution_count": null,
   "metadata": {
    "cellView": "form",
    "id": "Uu1S0tjSRv13"
   },
   "outputs": [],
   "source": [
    "#@title GCloud Authentication \n",
    "# The Google Cloud Project id to use.\n",
    "YOUR_PROJECT_ID = '' #@param {type:\"string\"}\n",
    "if YOUR_PROJECT_ID == '':\n",
    "    if 'GOOGLE_CLOUD_PROJECT' not in os.environ:\n",
    "        raise Exception(\"Please setup project_id in this cell or set the `GOOGLE_CLOUD_PROJECT` env var to your project id.\")\n",
    "    YOUR_PROJECT_ID = os.environ['GOOGLE_CLOUD_PROJECT']\n",
    "else:\n",
    "    os.environ['GOOGLE_CLOUD_PROJECT'] = YOUR_PROJECT_ID\n",
    "\n",
    "def authenticate_user():\n",
    "  \"\"\"Runs the user through the Colab OAuth process.\n",
    "\n",
    "  Checks for Google Application Default Credentials and runs interactive login\n",
    "  if the notebook is executed in Colab. In case the notebook is executed in Jupyter notebook\n",
    "  or other IPython runtimes, no interactive login is provided, it is assumed that the\n",
    "  `GOOGLE_APPLICATION_CREDENTIALS` env var is set or `gcloud auth application-default login`\n",
    "  was executed already.\n",
    "\n",
    "  For more information on using Application Default Credentials see\n",
    "  https://cloud.google.com/docs/authentication/production\n",
    "  \"\"\"\n",
    "  in_colab = False\n",
    "  try:\n",
    "     from IPython import get_ipython\n",
    "     in_colab = 'google.colab' in str(get_ipython())\n",
    "  except:\n",
    "     # Notebook is not executed within IPython. Assuming external authentication.\n",
    "     return\n",
    "\n",
    "  if in_colab:\n",
    "      from google.colab import auth\n",
    "      print(\"Getting OAuth2 credentials.\")\n",
    "      print(\"Press enter after entering the verification code.\")\n",
    "      auth.authenticate_user(clear_output=False)\n",
    "      print(\"Authentication complete.\")\n",
    "  else:\n",
    "      print(\"Notebook is not executed with Colab, assuming Application Default Credentials are setup.\")\n",
    "\n",
    "authenticate_user()\n",
    "\n",
    "print(\"Successful authentication to Google Cloud.\")"
   ]
  },
  {
   "cell_type": "code",
   "execution_count": null,
   "metadata": {
    "cellView": "form",
    "id": "1Oc5MnAWSEkH"
   },
   "outputs": [],
   "source": [
    "# @title Quantum Engine Configuration\n",
    "# @markdown Replace the `PROCESSOR_ID` and `YOUR_PROJECT_ID` with your details.\n",
    "PROCESSOR_ID = 'weber' #@param {type: 'string'}\n",
    "cals = cirq.google.get_engine_calibration(PROCESSOR_ID, YOUR_PROJECT_ID)"
   ]
  },
  {
   "cell_type": "code",
   "execution_count": null,
   "metadata": {
    "cellView": "form",
    "id": "QCszNh2dTW_O"
   },
   "outputs": [],
   "source": [
    "#@title View available calibration metrics\n",
    "#@markdown See https://quantumai.google/cirq/google/calibration for a description of the available calibration metrics\n",
    "for k, v in cals.items():\n",
    "  print(k)"
   ]
  },
  {
   "cell_type": "markdown",
   "metadata": {
    "id": "CXo7Amk_9xUU"
   },
   "source": [
    "# Metrics"
   ]
  },
  {
   "cell_type": "markdown",
   "metadata": {
    "id": "YHOC5wMm9z6x"
   },
   "source": [
    "## Single Qubit Isolated Benchmarking"
   ]
  },
  {
   "cell_type": "markdown",
   "metadata": {
    "id": "dQlAa-py_D5U"
   },
   "source": [
    "### Average Error\n"
   ]
  },
  {
   "cell_type": "code",
   "execution_count": null,
   "metadata": {
    "id": "dZDc6PbKBPFD"
   },
   "outputs": [],
   "source": [
    "fig, _ = cals.plot('single_qubit_rb_average_error_per_gate', fig=plt.figure(figsize=(20, 10)))\n",
    "fig.show()"
   ]
  },
  {
   "cell_type": "markdown",
   "metadata": {
    "id": "84VgiCqj_IIM"
   },
   "source": [
    "### Incoherent Error \n"
   ]
  },
  {
   "cell_type": "code",
   "execution_count": null,
   "metadata": {
    "id": "HI3coKQpRv14"
   },
   "outputs": [],
   "source": [
    "fig, _ = cals.plot('single_qubit_rb_incoherent_error_per_gate', fig=plt.figure(figsize=(20, 10)))\n",
    "fig.show()"
   ]
  },
  {
   "cell_type": "markdown",
   "metadata": {
    "id": "OJ5w3PyBDLrc"
   },
   "source": [
    "### Pauli Error"
   ]
  },
  {
   "cell_type": "code",
   "execution_count": null,
   "metadata": {
    "id": "BTCbzh0WD4Fx"
   },
   "outputs": [],
   "source": [
    "fig, _ = cals.plot('single_qubit_rb_pauli_error_per_gate', fig=plt.figure(figsize=(20, 10)))\n",
    "fig.show()"
   ]
  },
  {
   "cell_type": "markdown",
   "metadata": {
    "id": "333T2JcHD_Ix"
   },
   "source": [
    "### Comparison Histograms"
   ]
  },
  {
   "cell_type": "code",
   "execution_count": null,
   "metadata": {
    "id": "CAaEWD_yEHXr"
   },
   "outputs": [],
   "source": [
    "keys = ['single_qubit_rb_pauli_error_per_gate', 'single_qubit_rb_average_error_per_gate', 'single_qubit_rb_incoherent_error_per_gate']\n",
    "fig, ax = plt.subplots(figsize=(16, 8))\n",
    "cals.plot_histograms(keys, ax)\n",
    "ax.set_title(\"Single Qubit Error Comparison Histograms\")\n",
    "fig.show()"
   ]
  },
  {
   "cell_type": "markdown",
   "metadata": {
    "id": "wq_4ssDNGUz1"
   },
   "source": [
    "## Single Qubit Isolated Readout\n"
   ]
  },
  {
   "cell_type": "markdown",
   "metadata": {
    "id": "mFYSeSP3GsQs"
   },
   "source": [
    "### Zero State Errors"
   ]
  },
  {
   "cell_type": "code",
   "execution_count": null,
   "metadata": {
    "id": "rA5IgVh-G_GU"
   },
   "outputs": [],
   "source": [
    "fig, _ = cals.plot('single_qubit_p00_error', fig=plt.figure(figsize=(20, 10)))\n",
    "fig.show()"
   ]
  },
  {
   "cell_type": "markdown",
   "metadata": {
    "id": "hItfCIlJGx13"
   },
   "source": [
    "### One State Errors"
   ]
  },
  {
   "cell_type": "code",
   "execution_count": null,
   "metadata": {
    "id": "K5AiQPGaG_ts"
   },
   "outputs": [],
   "source": [
    "fig, _ = cals.plot('single_qubit_p11_error', fig=plt.figure(figsize=(20, 10)))\n",
    "fig.show()"
   ]
  },
  {
   "cell_type": "markdown",
   "metadata": {
    "id": "_V3LgnSEG4fW"
   },
   "source": [
    "### Readout Separation Error"
   ]
  },
  {
   "cell_type": "code",
   "execution_count": null,
   "metadata": {
    "id": "eqJe7YalHALI"
   },
   "outputs": [],
   "source": [
    "fig, _ = cals.plot('single_qubit_readout_separation_error', fig=plt.figure(figsize=(20, 10)))\n",
    "fig.show()"
   ]
  },
  {
   "cell_type": "markdown",
   "metadata": {
    "id": "gwkGjobcHSGF"
   },
   "source": [
    "## Parallel Readout Error"
   ]
  },
  {
   "cell_type": "markdown",
   "metadata": {
    "id": "U5rVApEyH9L3"
   },
   "source": [
    "### Parallel P00 Error"
   ]
  },
  {
   "cell_type": "code",
   "execution_count": null,
   "metadata": {
    "id": "nz-AJpAeHvwU"
   },
   "outputs": [],
   "source": [
    "fig, _ = cals.plot('parallel_p00_error', fig=plt.figure(figsize=(20, 10)))\n",
    "fig.show()"
   ]
  },
  {
   "cell_type": "markdown",
   "metadata": {
    "id": "JapZEhFYIByc"
   },
   "source": [
    "### Parallel P11 Error"
   ]
  },
  {
   "cell_type": "code",
   "execution_count": null,
   "metadata": {
    "id": "muVyDBZ3H1WK"
   },
   "outputs": [],
   "source": [
    "fig, _ = cals.plot('parallel_p11_error', fig=plt.figure(figsize=(20, 10)))\n",
    "fig.show()"
   ]
  },
  {
   "cell_type": "markdown",
   "metadata": {
    "id": "Rr7gTjB6IFGu"
   },
   "source": [
    "## Isolated Pair XEB, sqrt(iswap)"
   ]
  },
  {
   "cell_type": "markdown",
   "metadata": {
    "id": "G00vJfxFIVzZ"
   },
   "source": [
    "### Average Error"
   ]
  },
  {
   "cell_type": "code",
   "execution_count": null,
   "metadata": {
    "id": "Yt_0HQ7bIgK8"
   },
   "outputs": [],
   "source": [
    "fig, _ = cals.plot('two_qubit_sqrt_iswap_gate_xeb_average_error_per_cycle', fig=plt.figure(figsize=(20, 10)))\n",
    "fig.show()"
   ]
  },
  {
   "cell_type": "markdown",
   "metadata": {
    "id": "w0LJOHZ7Ic_v"
   },
   "source": [
    "### Incoherent Error"
   ]
  },
  {
   "cell_type": "code",
   "execution_count": null,
   "metadata": {
    "id": "PXKP_OAoItsz"
   },
   "outputs": [],
   "source": [
    "fig, _ = cals.plot('two_qubit_sqrt_iswap_gate_xeb_incoherent_error_per_cycle', fig=plt.figure(figsize=(20, 10)))\n",
    "fig.show()"
   ]
  },
  {
   "cell_type": "markdown",
   "metadata": {
    "id": "4QEYCRABIehg"
   },
   "source": [
    "### Pauli Error"
   ]
  },
  {
   "cell_type": "code",
   "execution_count": null,
   "metadata": {
    "id": "XLGYlUkHIwkb"
   },
   "outputs": [],
   "source": [
    "fig, _ = cals.plot('two_qubit_sqrt_iswap_gate_xeb_pauli_error_per_cycle', fig=plt.figure(figsize=(20, 10)))\n",
    "fig.show()"
   ]
  },
  {
   "cell_type": "markdown",
   "metadata": {
    "id": "aYKJpezhIT7n"
   },
   "source": [
    "## Parallel Pair XEB, sqrt(iswap)"
   ]
  },
  {
   "cell_type": "markdown",
   "metadata": {
    "id": "q0mFyAV5Ih4i"
   },
   "source": [
    "### Average Error"
   ]
  },
  {
   "cell_type": "code",
   "execution_count": null,
   "metadata": {
    "id": "d_42_yDMI4LH"
   },
   "outputs": [],
   "source": [
    "fig, _ = cals.plot('two_qubit_parallel_sqrt_iswap_gate_xeb_average_error_per_cycle', fig=plt.figure(figsize=(20, 10)))\n",
    "fig.show()"
   ]
  },
  {
   "cell_type": "markdown",
   "metadata": {
    "id": "uObibGFWIjBu"
   },
   "source": [
    "### Incoherent Error"
   ]
  },
  {
   "cell_type": "code",
   "execution_count": null,
   "metadata": {
    "id": "ehjskvTRI6gO"
   },
   "outputs": [],
   "source": [
    "fig, _ = cals.plot('two_qubit_parallel_sqrt_iswap_gate_xeb_incoherent_error_per_cycle', fig=plt.figure(figsize=(20, 10)))\n",
    "fig.show()"
   ]
  },
  {
   "cell_type": "markdown",
   "metadata": {
    "id": "o5dRAfMIImry"
   },
   "source": [
    "### Pauli Error"
   ]
  },
  {
   "cell_type": "code",
   "execution_count": null,
   "metadata": {
    "id": "kWYBlTtoI-oj"
   },
   "outputs": [],
   "source": [
    "fig, _ = cals.plot('two_qubit_parallel_sqrt_iswap_gate_xeb_pauli_error_per_cycle', fig=plt.figure(figsize=(20, 10)))\n",
    "fig.show()"
   ]
  }
 ],
 "metadata": {
  "colab": {
   "collapsed_sections": [],
   "name": "visualizing_calibration_metrics.ipynb",
   "toc_visible": true
  },
  "kernelspec": {
   "display_name": "Python 3",
   "name": "python3"
  }
 },
 "nbformat": 4,
 "nbformat_minor": 0
}
