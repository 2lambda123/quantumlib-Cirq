{
 "cells": [
  {
   "cell_type": "markdown",
   "metadata": {},
   "source": [
    "##### Copyright 2021 The Cirq Developers"
   ]
  },
  {
   "cell_type": "code",
   "execution_count": null,
   "metadata": {},
   "outputs": [],
   "source": [
    "# Licensed under the Apache License, Version 2.0 (the \"License\");\n",
    "# you may not use this file except in compliance with the License.\n",
    "# You may obtain a copy of the License at\n",
    "#\n",
    "# https://www.apache.org/licenses/LICENSE-2.0\n",
    "#\n",
    "# Unless required by applicable law or agreed to in writing, software\n",
    "# distributed under the License is distributed on an \"AS IS\" BASIS,\n",
    "# WITHOUT WARRANTIES OR CONDITIONS OF ANY KIND, either express or implied.\n",
    "# See the License for the specific language governing permissions and\n",
    "# limitations under the License."
   ]
  },
  {
   "cell_type": "markdown",
   "metadata": {
    "id": "aL6Ny9Y2Rv10",
    "pycharm": {
     "name": "#%% md\n"
    }
   },
   "source": [
    "# Calibrations\n",
    "The [tutorial on calibration](https://quantumai.google/cirq/google/calibration) gives an introduction to calibration metrics and how to retrieve them from the Google Quantum Computing Service (QCS). In this tutorial, we show how to visualize these calibration metrics via single qubit heatmaps, two qubit interaction heatmaps and integrated histograms.\n",
    "\n",
    "## Disclaimer: The calibration metrics of the quantum processor shown in the tutorial do not correspond to actual production metrics."
   ]
  },
  {
   "cell_type": "markdown",
   "metadata": {},
   "source": [
    "<table class=\"tfo-notebook-buttons\" align=\"left\">\n",
    "  <td>\n",
    "    <a target=\"_blank\" href=\"https://quantumai.google/cirq/tutorials/google/visualizing_calibration_metrics>\"><img src=\"https://quantumai.google/site-assets/images/buttons/quantumai_logo_1x.png\" />View on QuantumAI</a>\n",
    "  </td>\n",
    "  <td>\n",
    "    <a target=\"_blank\" href=\"https://colab.research.google.com/github/quantumlib/Cirq/blob/master/docs/tutorials/google/visualizing_calibration_metrics.ipynb\"><img src=\"https://quantumai.google/site-assets/images/buttons/colab_logo_1x.png\" />Run in Google Colab</a>\n",
    "  </td>\n",
    "  <td>\n",
    "    <a target=\"_blank\" href=\"https://github.com/quantumlib/Cirq/blob/master/docs/tutorials/google/visualizing_calibration_metrics.ipynb\"><img src=\"https://quantumai.google/site-assets/images/buttons/github_logo_1x.png\" />View source on GitHub</a>\n",
    "  </td>\n",
    "  <td>\n",
    "    <a href=\"https://storage.googleapis.com/tensorflow_docs/Cirq/docs/tutorials/google/visualizing_calibration_metrics.ipynb\"><img src=\"https://quantumai.google/site-assets/images/buttons/download_icon_1x.png\" />Download notebook</a>\n",
    "  </td>\n",
    "</table>"
   ]
  },
  {
   "cell_type": "code",
   "execution_count": null,
   "metadata": {
    "cellView": "form",
    "id": "T7hnERotRv12",
    "pycharm": {
     "name": "#%%\n"
    }
   },
   "outputs": [],
   "source": [
    "#@title Necessary Imports\n",
    "try:\n",
    "    import cirq\n",
    "except ImportError:\n",
    "    print(\"installing cirq...\")\n",
    "    !pip install --quiet --pre cirq\n",
    "    print(\"installed cirq.\")\n",
    "    import cirq\n",
    "import os\n",
    "from random import random\n",
    "from itertools import combinations\n",
    "import matplotlib.pyplot as plt"
   ]
  },
  {
   "cell_type": "markdown",
   "metadata": {},
   "source": [
    "## Authenticate and install Cirq\n",
    "\n",
    "For details of authentication and installation, please see [go/quantum-engine-quickstart](http://go/quantum-engine-quickstart).\n",
    "\n",
    "Note:  The below code will install the latest stable release of cirq.  If you need the latest and greatest features and don't mind if a few things aren't quite working correctly, you can install the pre-release version of `cirq` using `pip install --pre cirq` instead of `pip install cirq` to get the most up-to-date features of cirq.\n",
    "\n",
    "1. Enter the Cloud project ID you'd like to use in the `YOUR_PROJECT_ID` field.\n",
    "2. Then run the cell below (and go through the auth flow for access to the project id you entered).\n",
    "\n",
    "<img src=\"https://raw.githubusercontent.com/quantumlib/Cirq/master/docs/images/run-code-block.png\" alt=\"Quantum Engine console\">"
   ]
  },
  {
   "cell_type": "code",
   "execution_count": null,
   "metadata": {
    "cellView": "form",
    "colab": {
     "base_uri": "https://localhost:8080/"
    },
    "id": "Uu1S0tjSRv13",
    "outputId": "b5c15019-87d8-4a93-ee0a-526f4486beb9",
    "pycharm": {
     "name": "#%%\n"
    }
   },
   "outputs": [],
   "source": [
    "#@title GCloud Authentication \n",
    "# The Google Cloud Project id to use.\n",
    "YOUR_PROJECT_ID = '' #@param {type:\"string\"}\n",
    "if YOUR_PROJECT_ID == '':\n",
    "    if 'GOOGLE_CLOUD_PROJECT' not in os.environ:\n",
    "        raise Exception(\"Please setup project_id in this cell or set the `GOOGLE_CLOUD_PROJECT` env var to your project id.\")\n",
    "    YOUR_PROJECT_ID = os.environ['GOOGLE_CLOUD_PROJECT']\n",
    "else:\n",
    "    os.environ['GOOGLE_CLOUD_PROJECT'] = YOUR_PROJECT_ID\n",
    "\n",
    "def authenticate_user():\n",
    "  \"\"\"Runs the user through the Colab OAuth process.\n",
    "\n",
    "  Checks for Google Application Default Credentials and runs interactive login\n",
    "  if the notebook is executed in Colab. In case the notebook is executed in Jupyter notebook\n",
    "  or other IPython runtimes, no interactive login is provided, it is assumed that the\n",
    "  `GOOGLE_APPLICATION_CREDENTIALS` env var is set or `gcloud auth application-default login`\n",
    "  was executed already.\n",
    "\n",
    "  For more information on using Application Default Credentials see\n",
    "  https://cloud.google.com/docs/authentication/production\n",
    "  \"\"\"\n",
    "  in_colab = False\n",
    "  try:\n",
    "     from IPython import get_ipython\n",
    "     in_colab = 'google.colab' in str(get_ipython())\n",
    "  except:\n",
    "     # Notebook is not executed within IPython. Assuming external authentication.\n",
    "     return\n",
    "\n",
    "  if in_colab:\n",
    "      from google.colab import auth\n",
    "      print(\"Getting OAuth2 credentials.\")\n",
    "      print(\"Press enter after entering the verification code.\")\n",
    "      auth.authenticate_user(clear_output=False)\n",
    "      print(\"Authentication complete.\")\n",
    "  else:\n",
    "      print(\"Notebook is not executed with Colab, assuming Application Default Credentials are setup.\")\n",
    "\n",
    "authenticate_user()\n",
    "\n",
    "print(\"Successful authentication to Google Cloud.\")"
   ]
  },
  {
   "cell_type": "code",
   "execution_count": null,
   "metadata": {
    "cellView": "form",
    "id": "1Oc5MnAWSEkH"
   },
   "outputs": [],
   "source": [
    "# @title Quantum Engine Configuration\n",
    "# @markdown Replace the `PROCESSOR_ID` and `YOUR_PROJECT_ID` with your details.\n",
    "PROCESSOR_ID = 'weber' #@param {type: 'string'}\n",
    "cals = cirq.google.get_engine_calibration(PROCESSOR_ID, YOUR_PROJECT_ID)"
   ]
  },
  {
   "cell_type": "code",
   "execution_count": null,
   "metadata": {
    "cellView": "form",
    "colab": {
     "base_uri": "https://localhost:8080/"
    },
    "id": "QCszNh2dTW_O",
    "outputId": "65082277-b99b-4801-9d5d-fbc32de2ce02"
   },
   "outputs": [],
   "source": [
    "#@title View available calibration metrics\n",
    "#@markdown See https://quantumai.google/cirq/google/calibration for a description of the available calibration metrics\n",
    "for k, v in cals.items():\n",
    "  print(k)"
   ]
  },
  {
   "cell_type": "markdown",
   "metadata": {
    "id": "CXo7Amk_9xUU"
   },
   "source": [
    "# Metrics"
   ]
  },
  {
   "cell_type": "markdown",
   "metadata": {
    "id": "YHOC5wMm9z6x"
   },
   "source": [
    "## Single Qubit Isolated Benchmarking"
   ]
  },
  {
   "cell_type": "markdown",
   "metadata": {
    "id": "dQlAa-py_D5U"
   },
   "source": [
    "### Average Error\n"
   ]
  },
  {
   "cell_type": "code",
   "execution_count": null,
   "metadata": {
    "colab": {
     "base_uri": "https://localhost:8080/",
     "height": 479
    },
    "id": "dZDc6PbKBPFD",
    "outputId": "22f03be1-9f3f-485e-9b8e-98eae1155b7c"
   },
   "outputs": [],
   "source": [
    "fig, _ = cals.plot('single_qubit_rb_average_error_per_gate', fig=plt.figure(figsize=(20, 10)))\n",
    "fig.show()"
   ]
  },
  {
   "cell_type": "markdown",
   "metadata": {
    "id": "84VgiCqj_IIM"
   },
   "source": [
    "### Incoherent Error \n"
   ]
  },
  {
   "cell_type": "code",
   "execution_count": null,
   "metadata": {
    "colab": {
     "base_uri": "https://localhost:8080/",
     "height": 479
    },
    "id": "HI3coKQpRv14",
    "outputId": "9587042f-1087-4af2-d572-f530737b074b",
    "pycharm": {
     "name": "#%%\n"
    }
   },
   "outputs": [],
   "source": [
    "fig, _ = cals.plot('single_qubit_rb_incoherent_error_per_gate', fig=plt.figure(figsize=(20, 10)))\n",
    "fig.show()"
   ]
  },
  {
   "cell_type": "markdown",
   "metadata": {
    "id": "OJ5w3PyBDLrc"
   },
   "source": [
    "### Pauli Error"
   ]
  },
  {
   "cell_type": "code",
   "execution_count": null,
   "metadata": {
    "colab": {
     "base_uri": "https://localhost:8080/",
     "height": 479
    },
    "id": "BTCbzh0WD4Fx",
    "outputId": "6478e1fb-3e92-4e22-b9d4-9b9e1540fba9"
   },
   "outputs": [],
   "source": [
    "fig, _ = cals.plot('single_qubit_rb_pauli_error_per_gate', fig=plt.figure(figsize=(20, 10)))\n",
    "fig.show()"
   ]
  },
  {
   "cell_type": "markdown",
   "metadata": {
    "id": "333T2JcHD_Ix"
   },
   "source": [
    "### Comparison Histograms"
   ]
  },
  {
   "cell_type": "code",
   "execution_count": null,
   "metadata": {
    "colab": {
     "base_uri": "https://localhost:8080/",
     "height": 470
    },
    "id": "CAaEWD_yEHXr",
    "outputId": "14900621-ee19-498c-e273-a4e57219c977"
   },
   "outputs": [],
   "source": [
    "keys = ['single_qubit_rb_pauli_error_per_gate', 'single_qubit_rb_average_error_per_gate', 'single_qubit_rb_incoherent_error_per_gate']\n",
    "fig, ax = plt.subplots(figsize=(16, 8))\n",
    "cals.plot_histograms(keys, ax)\n",
    "ax.set_title(\"Single Qubit Error Comparison Histograms\")\n",
    "fig.show()"
   ]
  },
  {
   "cell_type": "markdown",
   "metadata": {
    "id": "wq_4ssDNGUz1"
   },
   "source": [
    "## Single Qubit Isolated Readout\n"
   ]
  },
  {
   "cell_type": "markdown",
   "metadata": {
    "id": "mFYSeSP3GsQs"
   },
   "source": [
    "### Zero State Errors"
   ]
  },
  {
   "cell_type": "code",
   "execution_count": null,
   "metadata": {
    "colab": {
     "base_uri": "https://localhost:8080/",
     "height": 479
    },
    "id": "rA5IgVh-G_GU",
    "outputId": "db9f300b-e66e-4061-ec57-3d3344ce06ea"
   },
   "outputs": [],
   "source": [
    "fig, _ = cals.plot('single_qubit_p00_error', fig=plt.figure(figsize=(20, 10)))\n",
    "fig.show()"
   ]
  },
  {
   "cell_type": "markdown",
   "metadata": {
    "id": "hItfCIlJGx13"
   },
   "source": [
    "### One State Errors"
   ]
  },
  {
   "cell_type": "code",
   "execution_count": null,
   "metadata": {
    "colab": {
     "base_uri": "https://localhost:8080/",
     "height": 479
    },
    "id": "K5AiQPGaG_ts",
    "outputId": "5422bfed-33c8-4a19-d3dc-ca7353f5375a"
   },
   "outputs": [],
   "source": [
    "fig, _ = cals.plot('single_qubit_p11_error', fig=plt.figure(figsize=(20, 10)))\n",
    "fig.show()"
   ]
  },
  {
   "cell_type": "markdown",
   "metadata": {
    "id": "_V3LgnSEG4fW"
   },
   "source": [
    "### Readout Separation Error"
   ]
  },
  {
   "cell_type": "code",
   "execution_count": null,
   "metadata": {
    "colab": {
     "base_uri": "https://localhost:8080/",
     "height": 479
    },
    "id": "eqJe7YalHALI",
    "outputId": "4dcfeec1-6ed6-4395-c5f8-890418bb85b6"
   },
   "outputs": [],
   "source": [
    "fig, _ = cals.plot('single_qubit_readout_separation_error', fig=plt.figure(figsize=(20, 10)))\n",
    "fig.show()"
   ]
  },
  {
   "cell_type": "markdown",
   "metadata": {
    "id": "gwkGjobcHSGF"
   },
   "source": [
    "## Parallel Readout Error"
   ]
  },
  {
   "cell_type": "markdown",
   "metadata": {
    "id": "U5rVApEyH9L3"
   },
   "source": [
    "### Parallel P00 Error"
   ]
  },
  {
   "cell_type": "code",
   "execution_count": null,
   "metadata": {
    "colab": {
     "base_uri": "https://localhost:8080/",
     "height": 641
    },
    "id": "nz-AJpAeHvwU",
    "outputId": "9b2e1757-dadb-41f8-a880-491486e0b495"
   },
   "outputs": [],
   "source": [
    "fig, _ = cals.plot('parallel_p00_error', fig=plt.figure(figsize=(20, 10)))\n",
    "fig.show()"
   ]
  },
  {
   "cell_type": "markdown",
   "metadata": {
    "id": "JapZEhFYIByc"
   },
   "source": [
    "### Parallel P11 Error"
   ]
  },
  {
   "cell_type": "code",
   "execution_count": null,
   "metadata": {
    "colab": {
     "base_uri": "https://localhost:8080/",
     "height": 641
    },
    "id": "muVyDBZ3H1WK",
    "outputId": "0d0be429-8724-4c83-eec8-6c2de847c9d3"
   },
   "outputs": [],
   "source": [
    "fig, _ = cals.plot('parallel_p11_error', fig=plt.figure(figsize=(20, 10)))\n",
    "fig.show()"
   ]
  },
  {
   "cell_type": "markdown",
   "metadata": {
    "id": "Rr7gTjB6IFGu"
   },
   "source": [
    "## Isolated Pair XEB, sqrt(iswap)"
   ]
  },
  {
   "cell_type": "markdown",
   "metadata": {
    "id": "G00vJfxFIVzZ"
   },
   "source": [
    "### Average Error"
   ]
  },
  {
   "cell_type": "code",
   "execution_count": null,
   "metadata": {
    "colab": {
     "base_uri": "https://localhost:8080/",
     "height": 621
    },
    "id": "Yt_0HQ7bIgK8",
    "outputId": "27907564-27d0-4581-a725-5b26632192fa"
   },
   "outputs": [],
   "source": [
    "fig, _ = cals.plot('two_qubit_sqrt_iswap_gate_xeb_average_error_per_cycle', fig=plt.figure(figsize=(20, 10)))\n",
    "fig.show()"
   ]
  },
  {
   "cell_type": "markdown",
   "metadata": {
    "id": "w0LJOHZ7Ic_v"
   },
   "source": [
    "### Incoherent Error"
   ]
  },
  {
   "cell_type": "code",
   "execution_count": null,
   "metadata": {
    "colab": {
     "base_uri": "https://localhost:8080/",
     "height": 621
    },
    "id": "PXKP_OAoItsz",
    "outputId": "60c503c6-5812-4637-c6c1-36c735b8a4fa"
   },
   "outputs": [],
   "source": [
    "fig, _ = cals.plot('two_qubit_sqrt_iswap_gate_xeb_incoherent_error_per_cycle', fig=plt.figure(figsize=(20, 10)))\n",
    "fig.show()"
   ]
  },
  {
   "cell_type": "markdown",
   "metadata": {
    "id": "4QEYCRABIehg"
   },
   "source": [
    "### Pauli Error"
   ]
  },
  {
   "cell_type": "code",
   "execution_count": null,
   "metadata": {
    "colab": {
     "base_uri": "https://localhost:8080/",
     "height": 621
    },
    "id": "XLGYlUkHIwkb",
    "outputId": "974c54eb-776e-4ede-a409-96566258a9c7"
   },
   "outputs": [],
   "source": [
    "fig, _ = cals.plot('two_qubit_sqrt_iswap_gate_xeb_pauli_error_per_cycle', fig=plt.figure(figsize=(20, 10)))\n",
    "fig.show()"
   ]
  },
  {
   "cell_type": "markdown",
   "metadata": {
    "id": "aYKJpezhIT7n"
   },
   "source": [
    "## Parallel Pair XEB, sqrt(iswap)"
   ]
  },
  {
   "cell_type": "markdown",
   "metadata": {
    "id": "q0mFyAV5Ih4i"
   },
   "source": [
    "### Average Error"
   ]
  },
  {
   "cell_type": "code",
   "execution_count": null,
   "metadata": {
    "colab": {
     "base_uri": "https://localhost:8080/",
     "height": 621
    },
    "id": "d_42_yDMI4LH",
    "outputId": "344b5f99-4c2d-45f3-e88c-16ead124331f"
   },
   "outputs": [],
   "source": [
    "fig, _ = cals.plot('two_qubit_parallel_sqrt_iswap_gate_xeb_average_error_per_cycle', fig=plt.figure(figsize=(20, 10)))\n",
    "fig.show()"
   ]
  },
  {
   "cell_type": "markdown",
   "metadata": {
    "id": "uObibGFWIjBu"
   },
   "source": [
    "### Incoherent Error"
   ]
  },
  {
   "cell_type": "code",
   "execution_count": null,
   "metadata": {
    "colab": {
     "base_uri": "https://localhost:8080/",
     "height": 621
    },
    "id": "ehjskvTRI6gO",
    "outputId": "34abac07-2a55-4c61-f045-dc142c8a5a8f"
   },
   "outputs": [],
   "source": [
    "fig, _ = cals.plot('two_qubit_parallel_sqrt_iswap_gate_xeb_incoherent_error_per_cycle', fig=plt.figure(figsize=(20, 10)))\n",
    "fig.show()"
   ]
  },
  {
   "cell_type": "markdown",
   "metadata": {
    "id": "o5dRAfMIImry"
   },
   "source": [
    "### Pauli Error"
   ]
  },
  {
   "cell_type": "code",
   "execution_count": null,
   "metadata": {
    "colab": {
     "base_uri": "https://localhost:8080/",
     "height": 621
    },
    "id": "kWYBlTtoI-oj",
    "outputId": "89e5cd55-dd79-4a79-b4d7-7338dd665b0b"
   },
   "outputs": [],
   "source": [
    "fig, _ = cals.plot('two_qubit_parallel_sqrt_iswap_gate_xeb_pauli_error_per_cycle', fig=plt.figure(figsize=(20, 10)))\n",
    "fig.show()"
   ]
  }
 ],
 "metadata": {
  "colab": {
   "collapsed_sections": [],
   "name": "Cirq Processor Maintenance Notebook.ipynb",
   "provenance": []
  },
  "kernelspec": {
   "display_name": "Python 3",
   "language": "python",
   "name": "python3"
  },
  "language_info": {
   "codemirror_mode": {
    "name": "ipython",
    "version": 3
   },
   "file_extension": ".py",
   "mimetype": "text/x-python",
   "name": "python",
   "nbconvert_exporter": "python",
   "pygments_lexer": "ipython3",
   "version": "3.8.5"
  }
 },
 "nbformat": 4,
 "nbformat_minor": 1
}
