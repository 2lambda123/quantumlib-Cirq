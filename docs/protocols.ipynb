{
 "cells": [
  {
   "cell_type": "markdown",
   "metadata": {
    "id": "DkA0Fobtb9dM"
   },
   "source": [
    "##### Copyright 2020 The Cirq Developers"
   ]
  },
  {
   "cell_type": "code",
   "execution_count": null,
   "metadata": {
    "cellView": "form",
    "id": "tUshu7YfcAAW"
   },
   "outputs": [],
   "source": [
    "#@title Licensed under the Apache License, Version 2.0 (the \"License\");\n",
    "# you may not use this file except in compliance with the License.\n",
    "# You may obtain a copy of the License at\n",
    "#\n",
    "# https://www.apache.org/licenses/LICENSE-2.0\n",
    "#\n",
    "# Unless required by applicable law or agreed to in writing, software\n",
    "# distributed under the License is distributed on an \"AS IS\" BASIS,\n",
    "# WITHOUT WARRANTIES OR CONDITIONS OF ANY KIND, either express or implied.\n",
    "# See the License for the specific language governing permissions and\n",
    "# limitations under the License."
   ]
  },
  {
   "cell_type": "markdown",
   "metadata": {
    "id": "igOQCrBOcF5d"
   },
   "source": [
    "# Protocols"
   ]
  },
  {
   "cell_type": "markdown",
   "metadata": {
    "id": "LHRAvc9TcHOH"
   },
   "source": [
    "<table class=\"tfo-notebook-buttons\" align=\"left\">\n",
    "  <td>\n",
    "    <a target=\"_blank\" href=\"https://www.example.org/cirq/protocols\"><img src=\"https://www.tensorflow.org/images/tf_logo_32px.png\" />View on QuantumLib</a>\n",
    "  </td>\n",
    "  <td>\n",
    "    <a target=\"_blank\" href=\"https://colab.research.google.com/github/quantumlib/Cirq/blob/master/docs/protocols.ipynb\"><img src=\"https://www.tensorflow.org/images/colab_logo_32px.png\" />Run in Google Colab</a>\n",
    "  </td>\n",
    "  <td>\n",
    "    <a target=\"_blank\" href=\"https://github.com/quantumlib/Cirq/blob/master/docs/protocols.ipynb\"><img src=\"https://www.tensorflow.org/images/GitHub-Mark-32px.png\" />View source on GitHub</a>\n",
    "  </td>\n",
    "  <td>\n",
    "    <a href=\"https://storage.googleapis.com/tensorflow_docs/Cirq/docs/protocols.ipynb\"><img src=\"https://www.tensorflow.org/images/download_logo_32px.png\" />Download notebook</a>\n",
    "  </td>\n",
    "</table>"
   ]
  },
  {
   "cell_type": "code",
   "execution_count": null,
   "metadata": {
    "id": "bd9529db1c0b"
   },
   "outputs": [],
   "source": [
    "try:\n",
    "    import cirq\n",
    "except ImportError:\n",
    "    print(\"installing cirq...\")\n",
    "    !pip install --quiet cirq\n",
    "    print(\"installed cirq.\")"
   ]
  },
  {
   "cell_type": "markdown",
   "metadata": {
    "id": "lB__WndjHWGa"
   },
   "source": [
    "# Introduction\n",
    "\n",
    "Cirq's protocols are very similar concept to Python's built-in protocols that were introduced in [PEP 544](https://www.python.org/dev/peps/pep-0544/).\n",
    "Python's built-in protocols are extremely convenient, for example behind all the for loops and list comprehensions you can find the Iterator protocol.\n",
    "As long as an object has the `__iter__()` magic method that returns an iterator object, it has iterator support.\n",
    "An iterator object has to define `__iter__()` and `__next__()` magic methods, that defines the iterator protocol.\n",
    "The `iter(val)` builtin function returns an iterator for `val` if it defines the above methods, otherwise throws a `TypeError`. Cirq protocols work similarly.\n",
    "\n",
    "A canonical Cirq protocol example is the `unitary` protocol that allows to check the unitary matrix of values that support the protocol by calling `cirq.unitary(val)`."
   ]
  },
  {
   "cell_type": "code",
   "execution_count": null,
   "metadata": {
    "id": "4a6bcd71ae5f"
   },
   "outputs": [],
   "source": [
    "import cirq \n",
    "\n",
    "print(cirq.X)\n",
    "print(\"cirq.X unitary:\\n\", cirq.unitary(cirq.X))\n",
    "\n",
    "a, b = cirq.LineQubit.range(2)\n",
    "circuit = cirq.Circuit(cirq.X(a), cirq.Y(b))\n",
    "print(circuit)\n",
    "print(\"circuit unitary:\\n\", cirq.unitary(circuit))\n"
   ]
  },
  {
   "cell_type": "markdown",
   "metadata": {
    "id": "6b3b43b2141b"
   },
   "source": [
    "When an object does not support a given protocol, an error is thrown."
   ]
  },
  {
   "cell_type": "code",
   "execution_count": null,
   "metadata": {
    "id": "a988c0efc9b7"
   },
   "outputs": [],
   "source": [
    "try: \n",
    "    print(cirq.unitary(a)) ## error!\n",
    "except Exception as e: \n",
    "    print(\"As expected, a qubit does not have a unitary. The error: \")\n",
    "    print(e)\n",
    "    "
   ]
  },
  {
   "cell_type": "markdown",
   "metadata": {
    "id": "b4d4bc702a5e"
   },
   "source": [
    "## What is a protocol? \n",
    "\n",
    "A protocol is a combination of the following two items: \n",
    "- a `SupportsXYZ` class, which defines and documents all the magic functions that need to be implemented in order to support that given protocol \n",
    "- the entrypoint function(s), which are exposed to the main cirq namespace as `cirq.xyz()`\n",
    "\n",
    "Note: While the protcol is technically both of these things, we refer to the public utility functions interchangeably as protocols. See the list of them below.\n",
    "\n",
    "\n",
    "## Cirq's protocols\n",
    "\n",
    "Cirq's protocols can be useful in multiple feature areas of quantum computing. Here's a list of all of them. \n",
    "\n",
    "| Protocol | Areas | \n",
    "|----------|-------|\n",
    "|`cirq.act_on`| simulation |\n",
    "|`cirq.channel`| simulation |\n",
    "|`cirq.apply_channel`| simulation |\n",
    "|`cirq.has_channel`| simulation |\n",
    "|`cirq.apply_mixture`| simulation |\n",
    "|`cirq.mixture`|simulation  |\n",
    "|`cirq.has_mixture`| simulation |\n",
    "|`cirq.unitary`| simulation |\n",
    "|`cirq.apply_unitary`| simulation |\n",
    "|`cirq.has_unitary`| simulation |\n",
    "|`cirq.has_stabilizer_effect`| simulation |\n",
    "|`cirq.trace_distance_bound`| compilation |\n",
    "|`cirq.equal_up_to_global_phase`| debugging, simulation, compilation |\n",
    "|`cirq.approx_eq`| debugging, simulation, compilation |\n",
    "|`cirq.measurement_key`| simulation, analysis   |\n",
    "|`cirq.qid_shape`| circuit-construction, debugging, simulation |\n",
    "|`cirq.resolve_parameters`| simulation, compilation, debugging |\n",
    "|`cirq.parameter_names`| simulation, compilation, debugging |\n",
    "|`cirq.parameter_symbols`| simulation, compilation, debugging |\n",
    "|`cirq.commutes`| debugging, compilation, simulation |\n",
    "|`cirq.decompose`|  debugging, compilation, simulation |\n",
    "|`cirq.pauli_expansion`|  debugging, compilation, simulation |\n",
    "|`cirq.inverse`| circuit-construction  |\n",
    "|`cirq.phase`|  circuit-construction|\n",
    "|`cirq.pow`| circuit-construction  |\n",
    "|`cirq.mul`| circuit-construction |\n",
    "|`cirq.circuit_diagram_info`| visualization |\n",
    "|`cirq.qasm`| serialization |\n",
    "|`cirq.quil`| serialization  |\n",
    "|`cirq.json_serialization`| serialization |\n",
    "\n",
    "\n",
    "### Quantum operator representation protocols\n",
    "\n",
    "The following family of protocols is an important and frequently used set of features of Cirq and it is worthwhile mentioning them and and how they interact with each other. They are, in the order of generality (starting with the least generic):\n",
    "\n",
    "* `*unitary`\n",
    "* `*mixture`\n",
    "* `*channel`\n",
    "\n",
    "All these protocols make it easier to work with different representations of quantum operators: finding that representation (`unitary`, `mixture`, `channel`), determining whether the operator has that representation (`has_*`) and applying them (`apply_*`) on a state vector. \n",
    "\n",
    "The `unitary` representation is the most special case, only applies when the quantum operator is unitary, and in this case represents it via the unitary matrix in the computational basis. We saw an example of the unitary protocol above.\n",
    "\n",
    "The `mixture` representation is a probabilistic representation of a quantum operator, where each possible unitary effect $U_i$ occurs with a certain probability $p_i$, where $\\sum p_i = 1$ In case the operator does not implement `SupportsMixture`, but does implement `SupportsUnitary`, `*mixture` protocols fall back to the `*unitary` methods, based on the simple correspondence: the $U$ is a mixture of a single unitary with probability $p=1$. \n"
   ]
  },
  {
   "cell_type": "code",
   "execution_count": null,
   "metadata": {
    "id": "5f9ec1e69ba6"
   },
   "outputs": [],
   "source": [
    "# cirq.Y has a unitary effect but does not implement SupportsMixture\n",
    "print(cirq.mixture(cirq.Y))\n",
    "print(cirq.has_mixture(cirq.Y))"
   ]
  },
  {
   "cell_type": "markdown",
   "metadata": {
    "id": "7385326f4a37"
   },
   "source": [
    "The `channel` representation is the operator sum representation of a quantum operator (a channel):  \n",
    "        $$\n",
    "        \\rho \\rightarrow \\sum_{k=0}^{r-1} A_k \\rho A_k^\\dagger\n",
    "        $$\n",
    "    These matrices are required to satisfy the trace preserving condition\n",
    "        $$\n",
    "        \\sum_{k=0}^{r-1} A_k^\\dagger A_k = I\n",
    "        $$\n",
    "    where $I$ is the identity matrix. The matrices $A_k$ are sometimes called Kraus or noise operators. \n",
    "    \n",
    "In case the operator does not implement `SupportsChannel`, the `*channel` protocol will fall back to `*mixture` methods. \n",
    "\n",
    "In the simplest case of a simple unitary operator, `cirq.channel` returns the exact unitary matrix as `cirq.unitary`:"
   ]
  },
  {
   "cell_type": "code",
   "execution_count": null,
   "metadata": {
    "id": "dbfd41797730"
   },
   "outputs": [],
   "source": [
    "print(cirq.channel(cirq.Y))\n",
    "print(cirq.has_channel(cirq.Y))"
   ]
  }
 ],
 "metadata": {
  "colab": {
   "collapsed_sections": [],
   "name": "protocols.ipynb",
   "toc_visible": true
  },
  "kernelspec": {
   "display_name": "Python 3",
   "name": "python3"
  }
 },
 "nbformat": 4,
 "nbformat_minor": 0
}
