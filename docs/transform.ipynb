{
 "cells": [
  {
<<<<<<< Updated upstream
   "cell_type": "markdown",
   "metadata": {
    "id": "cedf868076a2"
   },
   "source": [
    "##### Copyright 2022 The Cirq Developers"
   ]
  },
  {
=======
>>>>>>> Stashed changes
   "cell_type": "code",
   "execution_count": 2,
   "metadata": {
    "cellView": "form",
    "id": "906e07f6e562"
   },
   "outputs": [],
   "source": [
    "#@title Copyright 2022 The Cirq Developers\n",
    "# Licensed under the Apache License, Version 2.0 (the \"License\");\n",
    "# you may not use this file except in compliance with the License.\n",
    "# You may obtain a copy of the License at\n",
    "#\n",
    "# https://www.apache.org/licenses/LICENSE-2.0\n",
    "#\n",
    "# Unless required by applicable law or agreed to in writing, software\n",
    "# distributed under the License is distributed on an \"AS IS\" BASIS,\n",
    "# WITHOUT WARRANTIES OR CONDITIONS OF ANY KIND, either express or implied.\n",
    "# See the License for the specific language governing permissions and\n",
    "# limitations under the License."
   ]
  },
  {
   "cell_type": "markdown",
   "metadata": {
    "id": "8bbd73c03ac2"
   },
   "source": [
    "# Installing Cirq"
   ]
  },
  {
   "cell_type": "markdown",
   "metadata": {
    "id": "25eb74f260d6"
   },
   "source": [
    "<table class=\"tfo-notebook-buttons\" align=\"left\">\n",
    "  <td>\n",
    "    <a target=\"_blank\" href=\"https://quantumai.google/cirq/transform\"><img src=\"https://quantumai.google/site-assets/images/buttons/quantumai_logo_1x.png\" />View on QuantumAI</a>\n",
    "  </td>\n",
    "  <td>\n",
    "    <a target=\"_blank\" href=\"https://colab.research.google.com/github/quantumlib/Cirq/blob/master/docs/transform.ipynb\"><img src=\"https://quantumai.google/site-assets/images/buttons/colab_logo_1x.png\" />Run in Google Colab</a>\n",
    "  </td>\n",
    "  <td>\n",
    "    <a target=\"_blank\" href=\"https://github.com/quantumlib/Cirq/blob/master/docs/transform.ipynb\"><img src=\"https://quantumai.google/site-assets/images/buttons/github_logo_1x.png\" />View source on GitHub</a>\n",
    "  </td>\n",
    "  <td>\n",
    "    <a href=\"https://storage.googleapis.com/tensorflow_docs/Cirq/docs/transform.ipynb\"><img src=\"https://quantumai.google/site-assets/images/buttons/download_icon_1x.png\" />Download notebook</a>\n",
    "  </td>\n",
    "</table>"
   ]
  },
  {
   "cell_type": "code",
   "execution_count": 3,
   "metadata": {
    "id": "846b32703c5c"
   },
   "outputs": [],
   "source": [
    "try:\n",
    "    import cirq\n",
    "except ImportError:\n",
    "    print(\"installing cirq...\")\n",
    "    !pip install --quiet cirq\n",
    "    import cirq\n",
    "    print(\"installed cirq.\")"
   ]
  },
  {
   "cell_type": "code",
   "execution_count": null,
   "metadata": {
    "id": "YFrGiPXU2fOG"
   },
   "outputs": [],
   "source": [
    "from typing import Optional"
   ]
  },
  {
   "cell_type": "markdown",
   "metadata": {
    "id": "9d3d49b9ca2a"
   },
   "source": [
    "# What is a Transformer?\n",
<<<<<<< Updated upstream
    "Simply put, a transformer is just a function that *transforms* an input circuit into an output circuit. The precide API for what qualifies as a valid cirq transformer will be defined later in the tutorial. \n",
    "\n",
    "Circuit transformations are often necessary to compile a user-defined circuit to an equivalent circuit which can be executed on a specific device or simulator. The compilation process often involves steps like:\n",
    "- Gate Decompositions: Rewrite the circuit using only gates that belong to the device target gateset, i.e. set of gates which the device can execute. \n",
    "- Qubit Mapping and Routing: Map the logic qubits in the input circuit to physical qubits on the device and insert appropriate swap operations such that final circuit respects the hardware topology. \n",
    "- Circuit Optimizations: Perform hardware specific optimizations, like merging and replacing connected components of 1 and 2 operations with more efficient rewrites, commuting Z gates through the circuit, aligning gates in moments etc.\n",
    "\n",
    "\n",
    "Cirq provides many out-of-the-box transformers which can be used as individual compilation passes and also provides a general framework for users to create their own transformers using powerful primitives and bundle a bunch of transformers together to enable compiling circuits for specific targets. "
   ]
  },
  {
   "cell_type": "markdown",
   "metadata": {
    "id": "jyNdxrkI4CYX"
   },
   "source": [
    "# Transformer API"
   ]
  },
  {
   "cell_type": "markdown",
   "metadata": {
    "id": "6da0Ra7bz2St"
   },
   "source": [
    "## `cirq.TRANSFORMER` contract and `@cirq.transformer` decorator.\n",
    "Any callable that satisfies the `cirq.TRANSFORMER` contract, i.e. takes a `cirq.AbstractCircuit` and `cirq.TransformerContext` and returns a transformed `cirq.AbstractCircuit`, is a valid transformer in Cirq. \n",
    "\n",
    "You can create a custom transformer by simply decorating a class/method, that satisfies the above contract, with `@cirq.transformer` decorator. \n"
=======
    "A transformer in Cirq is any callable, that satisfies the `cirq.TRANSFORMER` API, and *transforms* an input circuit into an output circuit.\n",
    "\n",
    "Circuit transformations are often necessary to compile a user-defined circuit to an equivalent circuit, which can be executed on a specific device or simulator. The compilation process often involves steps like:\n",
    "- Gate Decompositions: Rewrite the circuit using only gates that belong to the device target gateset, i.e. set of gates which the device can execute. \n",
    "- Qubit Mapping and Routing: Map the logic qubits in the input circuit to physical qubits on the device and insert appropriate swap operations such that final circuit respects the hardware topology. \n",
    "- Circuit Optimizations: Perform hardware specific optimizations, like merging and replacing connected components of 1 and 2 operations with more efficient rewrites, commuting Z gates through the circuit, aligning gates in moments etc.\n",
    "\n",
    "\n",
    "Cirq provides many out-of-the-box transformers which can be used as individual compilation passes and also provides a general framework for users to create their own transformers using powerful primitives and bundle a bunch of transformers together to enable compiling circuits for specific targets. "
   ]
  },
  {
   "cell_type": "markdown",
   "metadata": {
    "id": "KUor1pGZi0Iw"
   },
   "source": [
    "# Built-in Transformers in Cirq"
   ]
  },
  {
   "cell_type": "markdown",
   "metadata": {
    "id": "861ea1ada088"
   },
   "source": [
    "## Overview\n",
    "Transformers that come with cirq can be found in the `cirq.transformers` package.\n",
    "\n",
    "A few notable examples are:\n",
    "*   **cirq.align_left / cirq.align_right**: Align gates to the left/right of the circuit.\n",
    "*   **cirq.defer_measurements**:  Moves all (non-terminal) measurements in a circuit to the end of circuit by implementing the deferred measurement principle.\n",
    "*   **cirq.drop_empty_moments** / **cirq.drop_negligible_operations**:  Removes moments that are empty or operations that have very small effects, respectively.\n",
    "*   **cirq.eject_phased_paulis**: Pushes X, Y, and PhasedX gates towards the end of the circuit, potentially absorbing Z gates and modifying gates along the way.\n",
    "*   **cirq.eject_z**:  Pushes Z gates towards the end of the circuit, potentially adjusting phases of gates that they pass through.\n",
    "*   **cirq.expand_composite**:  Uses `cirq.decompose` to expand composite gates.\n",
    "*   **cirq.merge_k_qubit_unitaries**: Replaces connected components of unitary operations, acting on <= k qubits, with op-tree given by `rewriter(circuit_op)`.\n",
    "*   **cirq.optimize_for_target_gateset**: Attempts to convert a circuit into and equivalent circuit using only gates from a given target gateset.\n",
    "*   **cirq.stratified_circuit**: Repacks the circuit to ensure that moments only contain operations from the same category.\n",
    "*   **cirq.synchronize_terminal_measurements**:  Moves all terminal measurements in a circuit to the final moment, if possible.\n",
    "\n",
    "\n",
    "\n",
    "Below we show a toy example of how to use these transformers to optimize a circuit. "
   ]
  },
  {
   "cell_type": "code",
   "execution_count": 4,
   "metadata": {
    "id": "AqTylIpssdex"
   },
   "outputs": [
    {
     "name": "stdout",
     "output_type": "stream",
     "text": [
      "Original Circuit:\n",
      "                              ┌──┐\n",
      "0: ───H───────@───────@───H────X─────M───\n",
      "              │       │        │\n",
      "1: ───H───@───X───H───@───H────┼M────────\n",
      "          │                    │\n",
      "2: ───────X────────────────────@─────M───\n",
      "                              └──┘\n",
      "Optimized Circuit:\n",
      "0: ───────────X───M───\n",
      "              │\n",
      "1: ───H───@───┼───M───\n",
      "          │   │\n",
      "2: ───────X───@───M───\n"
     ]
    }
   ],
   "source": [
    "def optimize_circuit(circuit, context = None, k=2):\n",
    "  # Merge 2-qubit connected components into circuit operations.\n",
    "  optimized_circuit = cirq.merge_k_qubit_unitaries(circuit, k=k, rewriter=lambda op: op.with_tags(\"merged\"), context=context)\n",
    "\n",
    "  # Drop operations with negligible effect / close to identity.\n",
    "  optimized_circuit = cirq.drop_negligible_operations(optimized_circuit, context=context)\n",
    "\n",
    "  # Expand all remaining merged connected components. \n",
    "  optimized_circuit = cirq.expand_composite(optimized_circuit, no_decomp=lambda op: \"merged\" not in op.tags, context=context)\n",
    "\n",
    "  # Synchronize terminal measurements to be in the same moment. \n",
    "  optimized_circuit = cirq.synchronize_terminal_measurements(optimized_circuit, context=context)\n",
    "\n",
    "  # Assert the original and optimized circuit are equivalent.\n",
    "  cirq.testing.assert_circuits_with_terminal_measurements_are_equivalent(circuit, optimized_circuit)\n",
    "  \n",
    "  return optimized_circuit\n",
    "\n",
    "q = cirq.LineQubit.range(3)\n",
    "circuit = cirq.Circuit(\n",
    "    cirq.H(q[1]), cirq.CNOT(*q[1:]), \n",
    "    cirq.H(q[0]), cirq.CNOT(*q[:2]),  cirq.H(q[1]), \n",
    "    cirq.CZ(*q[:2]), cirq.H.on_each(*q[:2]),\n",
    "    cirq.CNOT(q[2], q[0]),\n",
    "    cirq.measure_each(*q)\n",
    ")\n",
    "print(\"Original Circuit:\", circuit, sep=\"\\n\")\n",
    "print(\"Optimized Circuit:\", optimize_circuit(circuit), sep=\"\\n\")"
   ]
  },
  {
   "cell_type": "markdown",
   "metadata": {
    "id": "mu83U5hGzNcH"
   },
   "source": [
    "## Inspecting transformer actions\n",
    "\n",
    "Every transformer in Cirq accepts a `cirq.TransformerContext` instance, which stores common configurable options useful for all transformers. \n",
    "\n",
    "One of the members of transformer context dataclass is `cirq.TransformerLogger` instance. When a logger instance is specified, every cirq transformer logs it's action on the input circuit using the given logger instance. The logs can then be inspected to understand the action of each individual transformer on the circuit. \n",
    "\n",
    "Below, we show an example of how to inspect the action of each transformer in the `optimize_circuit` method defined above. "
   ]
  },
  {
   "cell_type": "code",
   "execution_count": 5,
   "metadata": {
    "id": "1cqUa2Kc0Hni"
   },
   "outputs": [
    {
     "name": "stdout",
     "output_type": "stream",
     "text": [
      "Transformer-1: merge_k_qubit_unitaries\n",
      "Initial Circuit:\n",
      "                              ┌──┐\n",
      "0: ───H───────@───────@───H────X─────M───\n",
      "              │       │        │\n",
      "1: ───H───@───X───H───@───H────┼M────────\n",
      "          │                    │\n",
      "2: ───────X────────────────────@─────M───\n",
      "                              └──┘\n",
      "\n",
      "\n",
      "Final Circuit:\n",
      "                                                                                ┌─────────────────────────┐\n",
      "                                     [ 0: ───H───@───────@───H─── ]               [ 0: ───X─── ]\n",
      "0: ──────────────────────────────────[           │       │        ]───────────────[       │    ]──────────────M───\n",
      "                                     [ 1: ───────X───H───@───H─── ]['merged']     [ 2: ───@─── ]['merged']\n",
      "                                     │                                            │\n",
      "      [ 1: ───H───@─── ]             │                                            │\n",
      "1: ───[           │    ]─────────────#2──────────────────────────────────────────M┼───────────────────────────────\n",
      "      [ 2: ───────X─── ]['merged']                                                │\n",
      "      │                                                                           │\n",
      "2: ───#2──────────────────────────────────────────────────────────────────────────#2──────────────────────────M───\n",
      "                                                                                └─────────────────────────┘\n",
      "----------------------------------------\n",
      "Transformer-2: drop_negligible_operations\n",
      "Initial Circuit:\n",
      "                                                                                ┌─────────────────────────┐\n",
      "                                     [ 0: ───H───@───────@───H─── ]               [ 0: ───X─── ]\n",
      "0: ──────────────────────────────────[           │       │        ]───────────────[       │    ]──────────────M───\n",
      "                                     [ 1: ───────X───H───@───H─── ]['merged']     [ 2: ───@─── ]['merged']\n",
      "                                     │                                            │\n",
      "      [ 1: ───H───@─── ]             │                                            │\n",
      "1: ───[           │    ]─────────────#2──────────────────────────────────────────M┼───────────────────────────────\n",
      "      [ 2: ───────X─── ]['merged']                                                │\n",
      "      │                                                                           │\n",
      "2: ───#2──────────────────────────────────────────────────────────────────────────#2──────────────────────────M───\n",
      "                                                                                └─────────────────────────┘\n",
      "\n",
      "\n",
      "Final Circuit:\n",
      "                                         ┌─────────────────────────┐\n",
      "                                           [ 0: ───X─── ]\n",
      "0: ────────────────────────────────────────[       │    ]──────────────M───\n",
      "                                           [ 2: ───@─── ]['merged']\n",
      "                                           │\n",
      "      [ 1: ───H───@─── ]                   │\n",
      "1: ───[           │    ]──────────────────M┼───────────────────────────────\n",
      "      [ 2: ───────X─── ]['merged']         │\n",
      "      │                                    │\n",
      "2: ───#2───────────────────────────────────#2──────────────────────────M───\n",
      "                                         └─────────────────────────┘\n",
      "----------------------------------------\n",
      "Transformer-3: expand_composite\n",
      "Initial Circuit:\n",
      "                                         ┌─────────────────────────┐\n",
      "                                           [ 0: ───X─── ]\n",
      "0: ────────────────────────────────────────[       │    ]──────────────M───\n",
      "                                           [ 2: ───@─── ]['merged']\n",
      "                                           │\n",
      "      [ 1: ───H───@─── ]                   │\n",
      "1: ───[           │    ]──────────────────M┼───────────────────────────────\n",
      "      [ 2: ───────X─── ]['merged']         │\n",
      "      │                                    │\n",
      "2: ───#2───────────────────────────────────#2──────────────────────────M───\n",
      "                                         └─────────────────────────┘\n",
      "\n",
      "\n",
      "Final Circuit:\n",
      "              ┌──┐\n",
      "0: ─────────────X────M───\n",
      "                │\n",
      "1: ───H───@────M┼────────\n",
      "          │     │\n",
      "2: ───────X─────@────M───\n",
      "              └──┘\n",
      "----------------------------------------\n",
      "Transformer-4: synchronize_terminal_measurements\n",
      "Initial Circuit:\n",
      "              ┌──┐\n",
      "0: ─────────────X────M───\n",
      "                │\n",
      "1: ───H───@────M┼────────\n",
      "          │     │\n",
      "2: ───────X─────@────M───\n",
      "              └──┘\n",
      "\n",
      "\n",
      "Final Circuit:\n",
      "0: ───────────X───M───\n",
      "              │\n",
      "1: ───H───@───┼───M───\n",
      "          │   │\n",
      "2: ───────X───@───M───\n",
      "----------------------------------------\n"
     ]
    }
   ],
   "source": [
    "context = cirq.TransformerContext(logger=cirq.TransformerLogger())\n",
    "optimized_circuit = optimize_circuit(circuit, context)\n",
    "context.logger.show()"
   ]
  },
  {
   "cell_type": "markdown",
   "metadata": {
    "id": "kLm-5LHr0YAd"
   },
   "source": [
    "## Support for no-compile tags. \n",
    "\n",
    "Cirq also supports tagging operations with no-compile tags such that these tagged operations are ignored when applying transformations on the circuit. This allows users to gain more fine-grained conrol over the compilation process. \n",
    "\n",
    "Any valid tag can be used as a \"no-compile\" tag by adding it to the `tags_to_ignore` field in `cirq.TransformerContext`. When called with a context, cirq transformers will inspect the `context.tags_to_ignore` field and ignore an operation if `op.tags & context.tags_to_ignore` is not empty. \n",
    "\n",
    "Below, we show an example of how to use no-compile tags when transforming circuits. #"
   ]
  },
  {
   "cell_type": "code",
   "execution_count": 6,
   "metadata": {
    "id": "HEhXziehR29V"
   },
   "outputs": [
    {
     "name": "stdout",
     "output_type": "stream",
     "text": [
      "Original Circuit:\n",
      "0: ───H───@───X['spin_echoes']^0.5───X['spin_echoes']^-0.5───@───H───M───\n",
      "          │                                                  │\n",
      "1: ───────X───@──────────────────────@───────────────────────X───M───────\n",
      "              │                      │\n",
      "2: ───────────X──────────────────────X───────────────────────M───────────\n",
      "\n",
      "\n",
      "Optimized Circuit without specifying tags_to_ignore:\n",
      "0: ───H───@───────────@───H───M───\n",
      "          │           │\n",
      "1: ───────X───@───@───X───────M───\n",
      "              │   │\n",
      "2: ───────────X───X───────────M─── \n",
      "\n",
      "Optimized Circuit while ignoring operations marked with tags_to_ignore:\n",
      "0: ───H───@───X['spin_echoes']^0.5───X['spin_echoes']^-0.5───@───H───M───\n",
      "          │                                                  │\n",
      "1: ───────X───@──────────────────────@───────────────────────X───────M───\n",
      "              │                      │\n",
      "2: ───────────X──────────────────────X───────────────────────────────M─── \n",
      "\n"
     ]
    }
   ],
   "source": [
    "# Echo pulses inserted in the circuit to prevent dephasing during idling should be ignored.\n",
    "circuit = cirq.Circuit(\n",
    "    cirq.H(q[0]), cirq.CNOT(*q[:2]),\n",
    "    [op.with_tags(\"spin_echoes\") for op in [cirq.X(q[0]) ** 0.5, cirq.X(q[0])** -0.5]],\n",
    "    [cirq.CNOT(*q[1:]), cirq.CNOT(*q[1:])],\n",
    "    [cirq.CNOT(*q[:2]), cirq.H(q[0])],\n",
    "    cirq.measure_each(*q),\n",
    ")\n",
    "# Original Circuit\n",
    "print(\"Original Circuit:\", circuit, \"\\n\", sep=\"\\n\")\n",
    "\n",
    "# Optimized Circuit without tags_to_ignore\n",
    "print(\"Optimized Circuit without specifying tags_to_ignore:\")\n",
    "print(optimize_circuit(circuit, k=1), \"\\n\")\n",
    "\n",
    "# Optimized Circuit ignoring operations marked with tags_to_ignore. \n",
    "print(\"Optimized Circuit while ignoring operations marked with tags_to_ignore:\")\n",
    "context=cirq.TransformerContext(tags_to_ignore=[\"spin_echoes\"])\n",
    "print(optimize_circuit(circuit, k=1, context=context), \"\\n\")"
   ]
  },
  {
   "cell_type": "markdown",
   "metadata": {
    "id": "3f3c7851a571"
   },
   "source": [
    "## Support for recursively transforming sub-circuits.\n",
    "\n",
    "By default, an operation `op` of type `cirq.CircuitOperation` is considered as a single top-level operation by cirq transformers. As a result, the sub-circuits wrapped inside circuit operations will often be left as it is and a transformer will only modify the top-level circuit. \n",
    "\n",
    "If you wish to recursively run a transformer on every nested sub-circuit wrapped inside a `cirq.CircuitOperation`, you can set `context.deep=True` in the `cirq.TransformerContext` object. Note that tagged circuit operations marked with any of `context.tags_to_ignore` will be ignored even if `context.deep is True`. See the example below for a better understanding. "
   ]
  },
  {
   "cell_type": "code",
   "execution_count": 14,
   "metadata": {
    "id": "994ffb523487"
   },
   "outputs": [
    {
     "name": "stdout",
     "output_type": "stream",
     "text": [
      "Original Circuit:\n",
      "\n",
      "                    [ 0: ───I───@───I['ignore']─── ]   [ 0: ───I───@───I['ignore']─── ]\n",
      "0: ───I─────────────[           │                  ]───[           │                  ]─────────────\n",
      "                    [ 1: ───I───X───────────────── ]   [ 1: ───I───X───────────────── ]['ignore']\n",
      "                    │                                  │\n",
      "1: ───I['ignore']───#2─────────────────────────────────#2───────────────────────────────────────────\n",
      "\n",
      "\n",
      "\n",
      "Optimized Circuit with deep=True and tags_to_ignore=['ignore']:\n",
      "\n",
      "                    [ 0: ───────@───I['ignore']─── ]   [ 0: ───I───@───I['ignore']─── ]\n",
      "0: ─────────────────[           │                  ]───[           │                  ]─────────────\n",
      "                    [ 1: ───────X───────────────── ]   [ 1: ───I───X───────────────── ]['ignore']\n",
      "                    │                                  │\n",
      "1: ───I['ignore']───#2─────────────────────────────────#2─────────────────────────────────────────── \n",
      "\n"
     ]
    }
   ],
   "source": [
    "q = cirq.LineQubit.range(2)\n",
    "circuit_op = cirq.CircuitOperation(\n",
    "    cirq.FrozenCircuit(\n",
    "        cirq.I.on_each(*q),\n",
    "        cirq.CNOT(*q),\n",
    "        cirq.I(q[0]).with_tags(\"ignore\"),\n",
    "    )\n",
    ")\n",
    "circuit = cirq.Circuit(\n",
    "    cirq.I(q[0]), cirq.I(q[1]).with_tags(\"ignore\"),\n",
    "    circuit_op,\n",
    "    circuit_op.with_tags(\"ignore\"),\n",
    ")\n",
    "print(\"Original Circuit:\", circuit, \"\\n\", sep=\"\\n\\n\")\n",
    "\n",
    "context = cirq.TransformerContext(tags_to_ignore=[\"ignore\"], deep=True)\n",
    "print(\"Optimized Circuit with deep=True and tags_to_ignore=['ignore']:\\n\")\n",
    "print(cirq.drop_negligible_operations(circuit, context=context), \"\\n\")"
   ]
  },
  {
   "cell_type": "markdown",
   "metadata": {
    "id": "iIHUZvLRlHFj"
   },
   "source": [
    "## Compiling to NISQ targets: `cirq.CompilationTargetGateset`\n",
    "Cirq's philosophy on compiling circuits for execution on a NISQ target device or simulator is that it would often require running only a handful of individual compilation passes on the input circuit, one after the other. \n",
    "\n",
    "**`cirq.CompilationTargetGateset`** is an abstraction in Cirq to represent such compilation targets as well as the bundles of transformer passes which should be executed to compile a circuit to this target. Cirq has implementations for common target gatesets like `cirq.CZTargetGateset`, `cirq.SqrtIswapTargetGateset` etc.\n",
    "\n",
    "\n",
    "**`cirq.optimize_for_target_gateset`** is a transformer which compiles a given circuit for a `cirq.CompilationTargetGateset` via the following steps:\n",
    "\n",
    "1. Run all `gateset.preprocess_transformers`\n",
    "2. Convert operations using built-in `cirq.decompose` + `gateset.decompose_to_target_gateset`.\n",
    "3. Run all `gateset.postprocess_transformers`\n",
    "\n",
    "\n",
    "The preprocess transformers often includes optimizations like merging connected components of 1/2 qubit unitaries into a single unitary matrix, which can then be replaced with an efficient analytical decomposition as part of step-2. \n",
    "\n",
    "The post-process transformers often includes cleanups and optimizations like dropping negligible operations, \n",
    "converting single qubit rotations into desired form, circuit alignments etc. "
>>>>>>> Stashed changes
   ]
  },
  {
   "cell_type": "code",
   "execution_count": 31,
   "metadata": {
    "id": "-QFPCdW0qS3R"
   },
   "outputs": [
    {
     "name": "stdout",
     "output_type": "stream",
     "text": [
      "Original Circuit:\n",
      "0: ───qft───M───\n",
      "      │     │\n",
      "1: ───#2────M───\n",
      "      │     │\n",
      "2: ───#3────M───\n",
      "\n",
      "\n",
      "Circuit compiled for CZ Target Gateset:\n",
      "0: ───PhX(0.5)^0.5───@────────PhXZ(a=-1,x=1,z=0)────────────────PhX(0.5)^0.5───@───PhX(-0.5)^0.5───@───PhX(0.5)^0.5────@────────PhXZ(a=0.5,x=0.5,z=-1.0)───M───\n",
      "                     │                                                         │                   │                   │                                   │\n",
      "1: ──────────────────@^-0.5───PhXZ(a=-1,x=0.5,z=-0.5)───@──────────────────────┼───────────────────┼───────────────────┼───────────────────────────────────M───\n",
      "                                                        │                      │                   │                   │                                   │\n",
      "2: ─────────────────────────────────────────────────────@^0.5───PhX(0.5)^0.5───@───PhX(0.5)^0.5────@───PhX(-0.5)^0.5───@^0.75───PhXZ(a=0.25,x=0,z=0.25)────M───\n",
      "\n",
      "\n"
     ]
    }
   ],
   "source": [
    "# Original QFT Circuit on 3 qubits.\n",
    "q = cirq.LineQubit.range(3)\n",
    "circuit = cirq.Circuit(cirq.QuantumFourierTransformGate(3).on(*q), cirq.measure(*q))\n",
    "print(\"Original Circuit:\", circuit, \"\\n\", sep=\"\\n\")\n",
    "\n",
    "# Compile the circuit for CZ Target Gateset.\n",
    "gateset = cirq.CZTargetGateset(allow_partial_czs=True)\n",
    "cz_circuit = cirq.optimize_for_target_gateset(circuit, gateset = gateset)\n",
    "cirq.testing.assert_circuits_with_terminal_measurements_are_equivalent(circuit, cz_circuit)\n",
    "print(\"Circuit compiled for CZ Target Gateset:\", cz_circuit, \"\\n\", sep=\"\\n\")"
   ]
  },
  {
   "cell_type": "code",
   "execution_count": 34,
   "metadata": {
    "id": "140330585db5"
   },
   "outputs": [
    {
     "name": "stdout",
     "output_type": "stream",
     "text": [
      "Transformer-1: optimize_for_target_gateset\n",
      "Initial Circuit:\n",
      "0: ───qft───M───\n",
      "      │     │\n",
      "1: ───#2────M───\n",
      "      │     │\n",
      "2: ───#3────M───\n",
      "\n",
      "\n",
      "Final Circuit:\n",
      "0: ───PhXZ(a=0,x=0.458,z=-0.5)─────────iSwap────────────────────────────────iSwap───────PhXZ(a=-1,x=0.5,z=-0.708)────────────────────────────────────────────────────────PhXZ(a=0.5,x=0.5,z=-1)────────────iSwap───────PhXZ(a=0.415,x=0.5,z=-0.415)───iSwap───────PhXZ(a=0.5,x=0.199,z=0)───iSwap───────PhXZ(a=0.121,x=0.468,z=-0.699)───M───\n",
      "                                       │                                    │                                                                                                                              │                                          │                                     │                                            │\n",
      "1: ───PhXZ(a=0.845,x=0.864,z=-0.845)───iSwap^0.5───PhXZ(a=0,x=0.364,z=-1)───iSwap^0.5───PhXZ(a=0.567,x=0.961,z=0.454)───iSwap───────PhXZ(a=-0.5,x=0,z=-1)────iSwap───────PhXZ(a=-1.11e-16,x=0.5,z=0.883)───┼──────────────────────────────────────────┼─────────────────────────────────────┼────────────────────────────────────────────M───\n",
      "                                                                                                                        │                                    │                                             │                                          │                                     │                                            │\n",
      "2: ─────────────────────────────────────────────────────────────────────────────────────PhXZ(a=0.83,x=0.136,z=-0.83)────iSwap^0.5───PhXZ(a=-1,x=0.364,z=0)───iSwap^0.5───PhXZ(a=-0.573,x=0.467,z=-0.795)───iSwap^0.5───PhXZ(a=0.148,x=0.5,z=-0.148)───iSwap^0.5───PhXZ(a=0.5,x=0.623,z=0)───iSwap^0.5───PhXZ(a=-0.5,x=0.352,z=-0.375)────M───\n",
      "----------------------------------------\n",
      "    Transformer-2: expand_composite\n",
      "    Initial Circuit:\n",
      "    0: ───qft───M───\n",
      "          │     │\n",
      "    1: ───#2────M───\n",
      "          │     │\n",
      "    2: ───#3────M───\n",
      "\n",
      "\n",
      "    Final Circuit:\n",
      "    0: ───H───Grad^0.5───────────────@────────────×───M───\n",
      "              │                      │            │   │\n",
      "    1: ───────@──────────H───@───────┼────────────┼───M───\n",
      "                             │       │            │   │\n",
      "    2: ──────────────────────@^0.5───@^0.25───H───×───M───\n",
      "----------------------------------------\n",
      "    Transformer-3: merge_k_qubit_unitaries\n",
      "    Initial Circuit:\n",
      "    0: ───H───Grad^0.5───────────────@────────────×───M───\n",
      "              │                      │            │   │\n",
      "    1: ───────@──────────H───@───────┼────────────┼───M───\n",
      "                             │       │            │   │\n",
      "    2: ──────────────────────@^0.5───@^0.25───H───×───M───\n",
      "\n",
      "\n",
      "    Final Circuit:\n",
      "          [ 0: ───H───Grad^0.5─────── ]                                                                                                  [ 0: ───@────────────×─── ]\n",
      "    0: ───[           │               ]──────────────────────────────────────────────────────────────────────────────────────────────────[       │            │    ]────────────────────────────────────────M───\n",
      "          [ 1: ───────@──────────H─── ]['_default_merged_k_qubit_unitaries']                                                             [ 2: ───@^0.25───H───×─── ]['_default_merged_k_qubit_unitaries']   │\n",
      "          │                                                                                                                              │                                                                  │\n",
      "          │                                                                    [ 1: ───@─────── ]                                        │                                                                  │\n",
      "    1: ───#2───────────────────────────────────────────────────────────────────[       │        ]────────────────────────────────────────┼──────────────────────────────────────────────────────────────────M───\n",
      "                                                                               [ 2: ───@^0.5─── ]['_default_merged_k_qubit_unitaries']   │                                                                  │\n",
      "                                                                               │                                                         │                                                                  │\n",
      "    2: ────────────────────────────────────────────────────────────────────────#2────────────────────────────────────────────────────────#2─────────────────────────────────────────────────────────────────M───\n",
      "----------------------------------------\n",
      "    Transformer-4: _decompose_operations_to_target_gateset\n",
      "    Initial Circuit:\n",
      "          [ 0: ───H───Grad^0.5─────── ]                                                                                                  [ 0: ───@────────────×─── ]\n",
      "    0: ───[           │               ]──────────────────────────────────────────────────────────────────────────────────────────────────[       │            │    ]────────────────────────────────────────M───\n",
      "          [ 1: ───────@──────────H─── ]['_default_merged_k_qubit_unitaries']                                                             [ 2: ───@^0.25───H───×─── ]['_default_merged_k_qubit_unitaries']   │\n",
      "          │                                                                                                                              │                                                                  │\n",
      "          │                                                                    [ 1: ───@─────── ]                                        │                                                                  │\n",
      "    1: ───#2───────────────────────────────────────────────────────────────────[       │        ]────────────────────────────────────────┼──────────────────────────────────────────────────────────────────M───\n",
      "                                                                               [ 2: ───@^0.5─── ]['_default_merged_k_qubit_unitaries']   │                                                                  │\n",
      "                                                                               │                                                         │                                                                  │\n",
      "    2: ────────────────────────────────────────────────────────────────────────#2────────────────────────────────────────────────────────#2─────────────────────────────────────────────────────────────────M───\n",
      "\n",
      "\n",
      "    Final Circuit:\n",
      "    0: ───PhXZ(a=0,x=0.458,z=-0.5)─────────iSwap────────────────────────────────iSwap───────PhXZ(a=-1,x=0.5,z=-0.708)───────────────────────────────────────────────────────────────────────────────────────────────────────────────────────────PhXZ(a=0.5,x=0.5,z=-1)───iSwap───────PhXZ(a=0.415,x=0.5,z=-0.415)───iSwap───────PhXZ(a=0.5,x=0.199,z=0)───iSwap───────PhXZ(a=0.121,x=0.468,z=-0.699)───M───\n",
      "                                           │                                    │                                                                                                                                                                                        │                                          │                                     │                                            │\n",
      "    1: ───PhXZ(a=0.845,x=0.864,z=-0.845)───iSwap^0.5───PhXZ(a=0,x=0.364,z=-1)───iSwap^0.5───PhXZ(a=-0.413,x=0.539,z=0.0434)───PhXZ(a=-0.367,x=0.5,z=0.367)───iSwap───────PhXZ(a=-0.5,x=0,z=-1)────iSwap───────PhXZ(a=-1.11e-16,x=0.5,z=0.883)────────────────────────────┼──────────────────────────────────────────┼─────────────────────────────────────┼────────────────────────────────────────────M───\n",
      "                                                                                                                                                             │                                    │                                                                      │                                          │                                     │                                            │\n",
      "    2: ───────────────────────────────────────────────────────────────────────────────────────────────────────────────────────PhXZ(a=0.83,x=0.136,z=-0.83)───iSwap^0.5───PhXZ(a=-1,x=0.364,z=0)───iSwap^0.5───PhXZ(a=0,x=0.136,z=-0.92)─────────PhXZ(a=0.5,x=0.5,z=0)────iSwap^0.5───PhXZ(a=0.148,x=0.5,z=-0.148)───iSwap^0.5───PhXZ(a=0.5,x=0.623,z=0)───iSwap^0.5───PhXZ(a=-0.5,x=0.352,z=-0.375)────M───\n",
      "----------------------------------------\n",
      "    Transformer-5: merge_single_qubit_moments_to_phxz\n",
      "    Initial Circuit:\n",
      "    0: ───PhXZ(a=0,x=0.458,z=-0.5)─────────iSwap────────────────────────────────iSwap───────PhXZ(a=-1,x=0.5,z=-0.708)───────────────────────────────────────────────────────────────────────────────────────────────────────────────────────────PhXZ(a=0.5,x=0.5,z=-1)───iSwap───────PhXZ(a=0.415,x=0.5,z=-0.415)───iSwap───────PhXZ(a=0.5,x=0.199,z=0)───iSwap───────PhXZ(a=0.121,x=0.468,z=-0.699)───M───\n",
      "                                           │                                    │                                                                                                                                                                                        │                                          │                                     │                                            │\n",
      "    1: ───PhXZ(a=0.845,x=0.864,z=-0.845)───iSwap^0.5───PhXZ(a=0,x=0.364,z=-1)───iSwap^0.5───PhXZ(a=-0.413,x=0.539,z=0.0434)───PhXZ(a=-0.367,x=0.5,z=0.367)───iSwap───────PhXZ(a=-0.5,x=0,z=-1)────iSwap───────PhXZ(a=-1.11e-16,x=0.5,z=0.883)────────────────────────────┼──────────────────────────────────────────┼─────────────────────────────────────┼────────────────────────────────────────────M───\n",
      "                                                                                                                                                             │                                    │                                                                      │                                          │                                     │                                            │\n",
      "    2: ───────────────────────────────────────────────────────────────────────────────────────────────────────────────────────PhXZ(a=0.83,x=0.136,z=-0.83)───iSwap^0.5───PhXZ(a=-1,x=0.364,z=0)───iSwap^0.5───PhXZ(a=0,x=0.136,z=-0.92)─────────PhXZ(a=0.5,x=0.5,z=0)────iSwap^0.5───PhXZ(a=0.148,x=0.5,z=-0.148)───iSwap^0.5───PhXZ(a=0.5,x=0.623,z=0)───iSwap^0.5───PhXZ(a=-0.5,x=0.352,z=-0.375)────M───\n",
      "\n",
      "\n",
      "    Final Circuit:\n",
      "    0: ───PhXZ(a=0,x=0.458,z=-0.5)─────────iSwap────────────────────────────────iSwap───────PhXZ(a=-1,x=0.5,z=-0.708)────────────────────────────────────────────────────────PhXZ(a=0.5,x=0.5,z=-1)────────────iSwap───────PhXZ(a=0.415,x=0.5,z=-0.415)───iSwap───────PhXZ(a=0.5,x=0.199,z=0)───iSwap───────PhXZ(a=0.121,x=0.468,z=-0.699)───M───\n",
      "                                           │                                    │                                                                                                                              │                                          │                                     │                                            │\n",
      "    1: ───PhXZ(a=0.845,x=0.864,z=-0.845)───iSwap^0.5───PhXZ(a=0,x=0.364,z=-1)───iSwap^0.5───PhXZ(a=0.567,x=0.961,z=0.454)───iSwap───────PhXZ(a=-0.5,x=0,z=-1)────iSwap───────PhXZ(a=-1.11e-16,x=0.5,z=0.883)───┼──────────────────────────────────────────┼─────────────────────────────────────┼────────────────────────────────────────────M───\n",
      "                                                                                                                            │                                    │                                             │                                          │                                     │                                            │\n",
      "    2: ─────────────────────────────────────────────────────────────────────────────────────PhXZ(a=0.83,x=0.136,z=-0.83)────iSwap^0.5───PhXZ(a=-1,x=0.364,z=0)───iSwap^0.5───PhXZ(a=-0.573,x=0.467,z=-0.795)───iSwap^0.5───PhXZ(a=0.148,x=0.5,z=-0.148)───iSwap^0.5───PhXZ(a=0.5,x=0.623,z=0)───iSwap^0.5───PhXZ(a=-0.5,x=0.352,z=-0.375)────M───\n",
      "----------------------------------------\n",
      "    Transformer-6: drop_negligible_operations\n",
      "    Initial Circuit:\n",
      "    0: ───PhXZ(a=0,x=0.458,z=-0.5)─────────iSwap────────────────────────────────iSwap───────PhXZ(a=-1,x=0.5,z=-0.708)────────────────────────────────────────────────────────PhXZ(a=0.5,x=0.5,z=-1)────────────iSwap───────PhXZ(a=0.415,x=0.5,z=-0.415)───iSwap───────PhXZ(a=0.5,x=0.199,z=0)───iSwap───────PhXZ(a=0.121,x=0.468,z=-0.699)───M───\n",
      "                                           │                                    │                                                                                                                              │                                          │                                     │                                            │\n",
      "    1: ───PhXZ(a=0.845,x=0.864,z=-0.845)───iSwap^0.5───PhXZ(a=0,x=0.364,z=-1)───iSwap^0.5───PhXZ(a=0.567,x=0.961,z=0.454)───iSwap───────PhXZ(a=-0.5,x=0,z=-1)────iSwap───────PhXZ(a=-1.11e-16,x=0.5,z=0.883)───┼──────────────────────────────────────────┼─────────────────────────────────────┼────────────────────────────────────────────M───\n",
      "                                                                                                                            │                                    │                                             │                                          │                                     │                                            │\n",
      "    2: ─────────────────────────────────────────────────────────────────────────────────────PhXZ(a=0.83,x=0.136,z=-0.83)────iSwap^0.5───PhXZ(a=-1,x=0.364,z=0)───iSwap^0.5───PhXZ(a=-0.573,x=0.467,z=-0.795)───iSwap^0.5───PhXZ(a=0.148,x=0.5,z=-0.148)───iSwap^0.5───PhXZ(a=0.5,x=0.623,z=0)───iSwap^0.5───PhXZ(a=-0.5,x=0.352,z=-0.375)────M───\n",
      "\n",
      "\n",
      "    Final Circuit:\n",
      "    0: ───PhXZ(a=0,x=0.458,z=-0.5)─────────iSwap────────────────────────────────iSwap───────PhXZ(a=-1,x=0.5,z=-0.708)────────────────────────────────────────────────────────PhXZ(a=0.5,x=0.5,z=-1)────────────iSwap───────PhXZ(a=0.415,x=0.5,z=-0.415)───iSwap───────PhXZ(a=0.5,x=0.199,z=0)───iSwap───────PhXZ(a=0.121,x=0.468,z=-0.699)───M───\n",
      "                                           │                                    │                                                                                                                              │                                          │                                     │                                            │\n",
      "    1: ───PhXZ(a=0.845,x=0.864,z=-0.845)───iSwap^0.5───PhXZ(a=0,x=0.364,z=-1)───iSwap^0.5───PhXZ(a=0.567,x=0.961,z=0.454)───iSwap───────PhXZ(a=-0.5,x=0,z=-1)────iSwap───────PhXZ(a=-1.11e-16,x=0.5,z=0.883)───┼──────────────────────────────────────────┼─────────────────────────────────────┼────────────────────────────────────────────M───\n",
      "                                                                                                                            │                                    │                                             │                                          │                                     │                                            │\n",
      "    2: ─────────────────────────────────────────────────────────────────────────────────────PhXZ(a=0.83,x=0.136,z=-0.83)────iSwap^0.5───PhXZ(a=-1,x=0.364,z=0)───iSwap^0.5───PhXZ(a=-0.573,x=0.467,z=-0.795)───iSwap^0.5───PhXZ(a=0.148,x=0.5,z=-0.148)───iSwap^0.5───PhXZ(a=0.5,x=0.623,z=0)───iSwap^0.5───PhXZ(a=-0.5,x=0.352,z=-0.375)────M───\n",
      "----------------------------------------\n",
      "    Transformer-7: drop_empty_moments\n",
      "    Initial Circuit:\n",
      "    0: ───PhXZ(a=0,x=0.458,z=-0.5)─────────iSwap────────────────────────────────iSwap───────PhXZ(a=-1,x=0.5,z=-0.708)────────────────────────────────────────────────────────PhXZ(a=0.5,x=0.5,z=-1)────────────iSwap───────PhXZ(a=0.415,x=0.5,z=-0.415)───iSwap───────PhXZ(a=0.5,x=0.199,z=0)───iSwap───────PhXZ(a=0.121,x=0.468,z=-0.699)───M───\n",
      "                                           │                                    │                                                                                                                              │                                          │                                     │                                            │\n",
      "    1: ───PhXZ(a=0.845,x=0.864,z=-0.845)───iSwap^0.5───PhXZ(a=0,x=0.364,z=-1)───iSwap^0.5───PhXZ(a=0.567,x=0.961,z=0.454)───iSwap───────PhXZ(a=-0.5,x=0,z=-1)────iSwap───────PhXZ(a=-1.11e-16,x=0.5,z=0.883)───┼──────────────────────────────────────────┼─────────────────────────────────────┼────────────────────────────────────────────M───\n",
      "                                                                                                                            │                                    │                                             │                                          │                                     │                                            │\n",
      "    2: ─────────────────────────────────────────────────────────────────────────────────────PhXZ(a=0.83,x=0.136,z=-0.83)────iSwap^0.5───PhXZ(a=-1,x=0.364,z=0)───iSwap^0.5───PhXZ(a=-0.573,x=0.467,z=-0.795)───iSwap^0.5───PhXZ(a=0.148,x=0.5,z=-0.148)───iSwap^0.5───PhXZ(a=0.5,x=0.623,z=0)───iSwap^0.5───PhXZ(a=-0.5,x=0.352,z=-0.375)────M───\n",
      "\n",
      "\n",
      "    Final Circuit:\n",
      "    0: ───PhXZ(a=0,x=0.458,z=-0.5)─────────iSwap────────────────────────────────iSwap───────PhXZ(a=-1,x=0.5,z=-0.708)────────────────────────────────────────────────────────PhXZ(a=0.5,x=0.5,z=-1)────────────iSwap───────PhXZ(a=0.415,x=0.5,z=-0.415)───iSwap───────PhXZ(a=0.5,x=0.199,z=0)───iSwap───────PhXZ(a=0.121,x=0.468,z=-0.699)───M───\n",
      "                                           │                                    │                                                                                                                              │                                          │                                     │                                            │\n",
      "    1: ───PhXZ(a=0.845,x=0.864,z=-0.845)───iSwap^0.5───PhXZ(a=0,x=0.364,z=-1)───iSwap^0.5───PhXZ(a=0.567,x=0.961,z=0.454)───iSwap───────PhXZ(a=-0.5,x=0,z=-1)────iSwap───────PhXZ(a=-1.11e-16,x=0.5,z=0.883)───┼──────────────────────────────────────────┼─────────────────────────────────────┼────────────────────────────────────────────M───\n",
      "                                                                                                                            │                                    │                                             │                                          │                                     │                                            │\n",
      "    2: ─────────────────────────────────────────────────────────────────────────────────────PhXZ(a=0.83,x=0.136,z=-0.83)────iSwap^0.5───PhXZ(a=-1,x=0.364,z=0)───iSwap^0.5───PhXZ(a=-0.573,x=0.467,z=-0.795)───iSwap^0.5───PhXZ(a=0.148,x=0.5,z=-0.148)───iSwap^0.5───PhXZ(a=0.5,x=0.623,z=0)───iSwap^0.5───PhXZ(a=-0.5,x=0.352,z=-0.375)────M───\n",
      "----------------------------------------\n"
     ]
    }
   ],
   "source": [
    "# `cirq.optimize_for_target_gateset` also supports all the features discussed above, using `cirq.TransformerContext`.\n",
    "# For example, we can compile the circuit for Sqrt-Iswap Target Gateset and inspect action of individual transformers.\n",
    "context = cirq.TransformerContext(logger=cirq.TransformerLogger())\n",
    "gateset = cirq.SqrtIswapTargetGateset()\n",
    "sqrt_iswap_circuit = cirq.optimize_for_target_gateset(circuit, gateset = gateset, context=context)\n",
    "cirq.testing.assert_circuits_with_terminal_measurements_are_equivalent(circuit, sqrt_iswap_circuit)\n",
    "context.logger.show()"
   ]
  },
  {
   "cell_type": "markdown",
   "metadata": {
    "id": "jyNdxrkI4CYX"
   },
   "source": [
    "# Building custom Transformers"
   ]
  },
  {
   "cell_type": "markdown",
   "metadata": {
    "id": "6da0Ra7bz2St"
   },
   "source": [
    "## `cirq.TRANSFORMER` API and `@cirq.transformer` decorator.\n",
    "\n",
    "Any callable that satisfies the `cirq.TRANSFORMER` contract, i.e. takes a `cirq.AbstractCircuit` and `cirq.TransformerContext` and returns a transformed `cirq.AbstractCircuit`, is a valid transformer in Cirq. \n",
    "\n",
    "You can create a custom transformer by simply decorating a class/method, that satisfies the above contract, with `@cirq.transformer` decorator. \n"
   ]
  },
  {
   "cell_type": "code",
   "execution_count": 38,
   "metadata": {
    "id": "e2893a817870"
   },
   "outputs": [
    {
     "name": "stdout",
     "output_type": "stream",
     "text": [
      "Original Circuit:\n",
      "q: ───X───[ q: ───X───Y─── ]───Z───\n",
      "\n",
      "\n",
      "Reversed Circuit:\n",
      "q: ───Z───[ q: ───X───Y─── ]───X───\n",
      "\n",
      "\n",
      "Substituted Circuit:\n",
      "q: ───S───[ q: ───X───Y─── ]───Z───\n"
     ]
    }
   ],
   "source": [
    "@cirq.transformer\n",
<<<<<<< Updated upstream
    "def reverse_circuit(circuit: 'cirq.AbstractCircuit', *, context: Optional[cirq.TransformerContext] = None) -> 'cirq.AbstractCircuit':\n",
    "  \"\"\"Transformer to reverse the input circuit.\"\"\"\n",
    "  return circuit[::-1]\n",
    "\n",
    "\n",
    "@cirq.transformer\n",
    "class SubstituteGate:\n",
    "  \"\"\"Transformer to substitute `source` gates with `target` in the input circuit.\"\"\"\n",
    "  def __init__(self, source: 'cirq.Gate', target: 'cirq.Gate'):\n",
    "    self._source = source\n",
    "    self._target = target\n",
    "\n",
    "  def __call__(self, circuit: 'cirq.AbstractCircuit', *, context: Optional[cirq.TransformerContext] = None) -> 'cirq.Circuit':\n",
    "    batch_replace = []\n",
    "    for i, op in circuit.findall_operations(lambda op: op.gate == self._source):\n",
    "      batch_replace.append((i, op, self._target.on(*op.qubits)))\n",
    "    transformed_circuit = circuit.unfreeze(copy=True)\n",
    "    transformed_circuit.batch_replace(batch_replace)\n",
    "    return transformed_circuit\n",
    "\n",
    "q = cirq.NamedQubit(\"q\")\n",
    "circuit = cirq.Circuit(cirq.X(q), cirq.CircuitOperation(cirq.FrozenCircuit(cirq.X(q), cirq.Y(q))), cirq.Z(q))\n",
    "substitute_gate = SubstituteGate(cirq.X, cirq.S)\n",
    "print(\"Original Circuit:\", circuit, \"\\n\", sep=\"\\n\")\n",
    "print(\"Reversed Circuit:\", reverse_circuit(circuit), \"\\n\", sep=\"\\n\")\n",
    "print(\"Substituted Circuit:\", substitute_gate(circuit), sep=\"\\n\")"
   ]
  },
  {
   "cell_type": "markdown",
   "metadata": {
    "id": "OLJrXdyTCGev"
   },
   "source": [
    "## `cirq.TransformerContext` to store common configurable options. \n",
    "You might be wondering what's the benefit of adding the `@cirq.transformer` decorator on the methods / classes as defined above? Does it add any extra functionality to the decorated objects at all? \n",
    "\n",
    "Yes! The transformer decorator inspects the `cirq.TransformerContext` argument and automatically appends useful functionality like support for automated logging and recursively running the transformer on nested sub-circutis. \n"
   ]
  },
  {
   "cell_type": "markdown",
   "metadata": {
    "id": "5OuMLlNAFPcW"
   },
   "source": [
    "### `cirq.TransformerLogger` and support for automated logging.\n",
    "The `cirq.TransformerLogger` class is used to log the action of a transformer on an input circuit. Decorating a method / class with the `@cirq.transformer` decorator automatically adds support for logging. \n",
    "\n",
    "You can log the action of running a series of transformers on an input circuit by sharing the same logger instance across transformer calls. \n",
    "\n",
    "This is very useful to inspect the actions of individual transformers on the input circuit when running transformer bundles like `cirq.optimize_for_target_gateset`."
   ]
  },
  {
   "cell_type": "code",
   "execution_count": null,
   "metadata": {
    "id": "1-1r6Ha9F1c3"
   },
   "outputs": [],
   "source": [
    "context = cirq.TransformerContext(logger=cirq.TransformerLogger())\n",
    "transformed_circuit = reverse_circuit(circuit, context=context)\n",
    "transformed_circuit = substitute_gate(transformed_circuit, context=context)\n",
    "context.logger.show()"
   ]
  },
  {
   "cell_type": "markdown",
   "metadata": {
    "id": "UvFdvxQ6MZD9"
   },
   "source": [
    "### Built-in support for `deep=True`.\n",
    "Notice that the custom transformers used above only modified the top-level circuit and had no impact on sub-circuits wrapped inside `cirq.CircuitOperation`.\n",
    "\n",
    "You can call `@cirq.transformer(add_deep_support=True)` to automatically add the functionality of recursively running the custom transformer on circuits wrapped inside `cirq.CircuitOperation`. The recursive execution behavior of the transformer can then be controlled by setting `deep=True` in the transformer context. "
   ]
  },
  {
   "cell_type": "code",
   "execution_count": null,
   "metadata": {
    "id": "BobP3UFBJhP1"
   },
   "outputs": [],
   "source": [
    "@cirq.transformer(add_deep_support=True)\n",
    "def reverse_circuit_deep(circuit: 'cirq.AbstractCircuit', *, context: Optional[cirq.TransformerContext] = None) -> 'cirq.AbstractCircuit':\n",
    "  \"\"\"Transformer to reverse the input circuit.\"\"\"\n",
    "  return circuit[::-1]\n",
    "\n",
    "\n",
    "@cirq.transformer(add_deep_support=True)\n",
    "class SubstituteGateDeep(SubstituteGate):\n",
    "  \"\"\"Transformer to substitute `source` gates with `target` in the input circuit.\"\"\"\n",
    "  pass\n",
    "\n",
    "context = cirq.TransformerContext(deep=True)\n",
    "substitute_gate_deep = SubstituteGateDeep(cirq.X, cirq.S)\n",
    "print(\"Original Circuit:\", circuit, \"\\n\", sep=\"\\n\")\n",
    "print(\"Reversed Circuit with deep=True:\", reverse_circuit_deep(circuit, context=context), \"\\n\", sep=\"\\n\")\n",
    "print(\"Substituted Circuit with deep=True:\", substitute_gate_deep(circuit, context=context), sep=\"\\n\")"
   ]
  },
  {
   "cell_type": "markdown",
   "metadata": {
    "id": "bDizgWMmPLq0"
   },
   "source": [
    "# Transformer Primitives and Decompositions\n",
    "\n",
    "Cirq provides many useful primitives which can be composed together to build powerful transformers. In this section, we will highlight some of these tools. \n"
   ]
  },
  {
   "cell_type": "markdown",
   "metadata": {
    "id": "sXbcG1VdPRkm"
   },
   "source": [
    "## Moment preserving transformer primitives\n",
    "\n",
    "Cirq provides useful abstractions to implement common transformer patterns, while preserving the moment structure of input circuit. Some of the notable transformer primitives are:\n",
    "\n",
    "- **`cirq.map_operations`**: Applies local transformations on operations, by calling `map_func(op)` for each `op`.\n",
    "- **`cirq.map_moments`**: Applies local transformation on moments, by calling `map_func(m)` for each moment `m`.\n",
    "- **`cirq.merge_operations`**: Merges connected component of operations by calling `merge_func(op1, op2)` on iteratively for every mergeable operation `op1` and `op2`.\n",
    "- **`cirq.merge_moments`**: Merges adjacent moments, from left to right, by calling `merge_func(m1, m2)`.\n",
    "\n",
    "\n",
    "An important property of these primitives is that they have support for common configurable options present in `cirq.TransformerContext`, such as `tags_to_ignore` and `deep`. See the example below for a better understanding."
   ]
  },
  {
   "cell_type": "code",
   "execution_count": null,
   "metadata": {
    "id": "BCXc94owfIJh"
   },
   "outputs": [],
   "source": [
    "@cirq.transformer\n",
    "def substitute_gate_using_primitives(\n",
    "    circuit: 'cirq.AbstractCircuit', \n",
    "    *, \n",
    "    context: Optional['cirq.TransformerContext'] = None,\n",
    "    source: 'cirq.Gate' = cirq.X,\n",
    "    target: 'cirq.Gate' = cirq.S,\n",
    "    ) -> 'cirq.Circuit':\n",
    "  \"\"\"Transformer to substitute `source` gates with `target` in the input circuit.\n",
    "  \n",
    "  The transformer is implemented using `cirq.map_operations` primitive and hence\n",
    "  has built-in support for \n",
    "    1. Recursively running the transformer on sub-circuits if `context.deep is True`.\n",
    "    2. Ignoring operations tagged with any of `context.tags_to_ignore`. \n",
    "  \"\"\"\n",
    "  return cirq.map_operations(\n",
    "      circuit, \n",
    "      map_func=lambda op, _: target.on(*op.qubits) if op.gate == source else op,\n",
    "      deep = context.deep if context else False,\n",
    "      tags_to_ignore=context.tags_to_ignore if context else ()\n",
    "  )\n",
    "\n",
    "x_y_x = [cirq.X(q), cirq.Y(q), cirq.X(q).with_tags(\"ignore\")]\n",
    "circuit = cirq.Circuit(x_y_x, cirq.CircuitOperation(cirq.FrozenCircuit(x_y_x)), x_y_x)\n",
    "context = cirq.TransformerContext(deep=True, tags_to_ignore=(\"ignore\",))\n",
    "print(\"Original Circuit:\", circuit, \"\\n\", sep=\"\\n\")\n",
    "print(\"Substituted Circuit:\", substitute_gate_using_primitives(circuit, context=context), \"\\n\", sep=\"\\n\")"
   ]
  },
  {
   "cell_type": "markdown",
   "metadata": {
    "id": "NzTPE_wGjWkJ"
   },
   "source": [
    "## Analytical Gate Decompositions\n",
    "\n",
    "Gate decomposition is the process of implementing / decomposing a given unitary `U` using only gates that belong to a specific target gateset. \n",
    "\n",
    "Cirq provides many analytical decomposition methods, often based on [KAK Decomposition](https://arxiv.org/abs/quant-ph/0507171), to decompose two qubit unitaries into specific target gatesets. Some notable decompositions are:\n",
    "\n",
    "* **cirq.single_qubit_matrix_to_pauli_rotations**: Decomposes a single qubit matrix to ZPow/XPow/YPow rotations. \n",
    "* **cirq.single_qubit_matrix_to_phased_x_z**: Decomposes a single-qubit matrix to a PhasedX and Z gate.\n",
    "* **cirq.two_qubit_matrix_to_sqrt_iswap_operations**: Decomposes any two-qubit unitary matrix into ZPow/XPow/YPow/sqrt-iSWAP gates.\n",
    "* **cirq.two_qubit_matrix_to_cz_operations**: Decomposes any two-qubit unitary matrix into ZPow/XPow/YPow/CZ gates.\n",
    "* **cirq.three_qubit_matrix_to_operations**: Decomposes any three-qubit unitary matrix into CZ/CNOT and single qubit rotations.\n",
    "\n",
    "\n",
    "\n",
    "You can use these analytical decomposition methods to build transformers which can rewrite a given circuit using only gates from the target gateset. "
   ]
  },
  {
   "cell_type": "code",
   "execution_count": null,
   "metadata": {
    "id": "Pb7sXwEFcIxB"
   },
   "outputs": [],
   "source": [
    "@cirq.transformer\n",
    "def convert_to_cz_target(\n",
    "    circuit: cirq.AbstractCircuit, \n",
    "    *, \n",
    "    context: Optional[cirq.TransformerContext] = None, \n",
    "    atol: float = 1e-8,\n",
    "    allow_partial_czs: bool = True\n",
    "  ) -> cirq.Circuit:\n",
    "  \"\"\"Transformer to rewrite the given circuit using CZs + 1-qubit rotations.\n",
    "\n",
    "  Note that the transformer decomposes only operations on <= 2-qubits and is\n",
    "  presented as an illustration of using transformer primitives + analytical \n",
    "  decomposition methods. \n",
    "  \"\"\"\n",
    "  def map_func(op: cirq.Operation, _) -> cirq.OP_TREE:\n",
    "    if not (cirq.has_unitary(op) and cirq.num_qubits(op) <= 2):\n",
    "      return op\n",
    "    mat = cirq.unitary(op)\n",
    "    q = op.qubits\n",
    "    if cirq.num_qubits(op) == 1:\n",
    "      g = cirq.single_qubit_matrix_to_phxz(mat)\n",
    "      return g.on(*q) if g else []\n",
    "    return cirq.two_qubit_matrix_to_cz_operations(*q, mat, allow_partial_czs=allow_partial_czs, atol=atol)\n",
    "    \n",
    "  return cirq.map_operations_and_unroll(\n",
    "      circuit, \n",
    "      map_func,\n",
    "      deep=context.deep if context else False,\n",
    "      tags_to_ignore=context.tags_to_ignore if context else ()\n",
    "  )\n",
    "circuit = cirq.testing.random_circuit(qubits=4, n_moments=8, op_density=0.8, random_state=1234)\n",
    "converted_circuit = convert_to_cz_target(circuit)\n",
    "cirq.testing.assert_circuits_with_terminal_measurements_are_equivalent(circuit, converted_circuit)\n",
    "print(f\"Circuit Depth:{len(circuit)}\", circuit, sep=\"\\n\")\n",
    "print(f\"Circuit Depth:{len(converted_circuit)}\", converted_circuit, sep=\"\\n\")"
   ]
  },
  {
   "cell_type": "markdown",
   "metadata": {
    "id": "jE7XXZs7bmTJ"
   },
   "source": [
    "## Heuristic Gate Decompositions\n",
    "Cirq also provides heuristic methods for decomposing any two qubit unitary matrix in terms of any specified two qubit target unitary + single qubit rotations. These methods are useful when accurate analytical decompositions for the target unitary are not known or when gate decomposition fidelity (i.e. accuracy of decomposition) can be traded off against decomposition depth (i.e. number of 2q gates in resulting decomposition) to achieve a higher overall gate fidelity. \n",
    "\n",
    "\n",
    "See the following resources for more details on heuristic gate decomposition:\n",
    "\n",
    "* **`cirq.two_qubit_gate_product_tabulation`**\n",
    "* **https://arxiv.org/pdf/2106.15490.pdf**"
   ]
  },
  {
   "cell_type": "markdown",
   "metadata": {
    "id": "KUor1pGZi0Iw"
   },
   "source": [
    "# Built-in Transformers in Cirq"
=======
    "def reverse_circuit(circuit, *, context = None):\n",
    "  \"\"\"Transformer to reverse the input circuit.\"\"\"\n",
    "  return circuit[::-1]\n",
    "\n",
    "\n",
    "@cirq.transformer\n",
    "class SubstituteGate:\n",
    "  \"\"\"Transformer to substitute `source` gates with `target` in the input circuit.\"\"\"\n",
    "  def __init__(self, source, target):\n",
    "    self._source = source\n",
    "    self._target = target\n",
    "\n",
    "  def __call__(self, circuit, *, context = None):\n",
    "    batch_replace = []\n",
    "    for i, op in circuit.findall_operations(lambda op: op.gate == self._source):\n",
    "      batch_replace.append((i, op, self._target.on(*op.qubits)))\n",
    "    transformed_circuit = circuit.unfreeze(copy=True)\n",
    "    transformed_circuit.batch_replace(batch_replace)\n",
    "    return transformed_circuit\n",
    "\n",
    "q = cirq.NamedQubit(\"q\")\n",
    "circuit = cirq.Circuit(cirq.X(q), cirq.CircuitOperation(cirq.FrozenCircuit(cirq.X(q), cirq.Y(q))), cirq.Z(q))\n",
    "substitute_gate = SubstituteGate(cirq.X, cirq.S)\n",
    "print(\"Original Circuit:\", circuit, \"\\n\", sep=\"\\n\")\n",
    "print(\"Reversed Circuit:\", reverse_circuit(circuit), \"\\n\", sep=\"\\n\")\n",
    "print(\"Substituted Circuit:\", substitute_gate(circuit), sep=\"\\n\")"
>>>>>>> Stashed changes
   ]
  },
  {
   "cell_type": "markdown",
   "metadata": {
    "id": "OLJrXdyTCGev"
   },
   "source": [
<<<<<<< Updated upstream
    "## Overview\n",
    "Transformers that come with cirq can be found in the `cirq.transformers` package.\n",
    "\n",
    "A few notable examples are:\n",
    "*   **cirq.align_left / cirq.align_right**: Align gates to the left/right of the circuit.\n",
    "*   **cirq.defer_measurements**:  Moves all (non-terminal) measurements in a circuit to the end of circuit by implementing the deferred measurement principle.\n",
    "*   **cirq.drop_empty_moments** / **cirq.drop_negligible_operations**:  Removes moments that are empty or operations that have very small effects, respectively.\n",
    "*   **cirq.eject_phased_paulis**: Pushes X, Y, and PhasedX gates towards the end of the circuit, potentially absorbing Z gates and modifying gates along the way.\n",
    "*   **cirq.eject_z**:  Pushes Z gates towards the end of the circuit, potentially adjusting phases of gates that they pass through.\n",
    "*   **cirq.expand_composite**:  Uses `cirq.decompose` to expand composite gates.\n",
    "*   **cirq.merge_k_qubit_unitaries**: Replaces connected components of unitary operations, acting on <= k qubits, with op-tree given by `rewriter(circuit_op)`.\n",
    "*   **cirq.optimize_for_target_gateset**: Attempts to convert a circuit into and equivalent circuit using only gates from a given target gateset.\n",
    "*   **cirq.stratified_circuit:**: Repacks the circuit to ensure that moments only contain operations from the same category.\n",
    "*   **cirq.synchronize_terminal_measurements**:  Moves all terminal measurements in a circuit to the final moment, if possible."
=======
    "## `cirq.TransformerContext` to store common configurable options. \n",
    "`cirq.TransformerContext` is a dataclass that stores common configurable options for all transformers. All cirq transformers should accept the transformer context as an optional keyword argument. \n",
    "\n",
    "The `@cirq.transformer` decorator inspects the `cirq.TransformerContext` argument and automatically appends useful functionality like support for automated logging and recursively running the transformer on nested sub-circuits. \n"
   ]
  },
  {
   "cell_type": "markdown",
   "metadata": {
    "id": "5OuMLlNAFPcW"
   },
   "source": [
    "### `cirq.TransformerLogger` and support for automated logging.\n",
    "The `cirq.TransformerLogger` class is used to log the actions of a transformer on an input circuit. `@cirq.transformer` decorator automatically adds support for logging the initial and final circuits for each transfomer step. "
   ]
  },
  {
   "cell_type": "code",
   "execution_count": 40,
   "metadata": {
    "id": "1-1r6Ha9F1c3"
   },
   "outputs": [
    {
     "name": "stdout",
     "output_type": "stream",
     "text": [
      "Transformer-1: reverse_circuit\n",
      "Initial Circuit:\n",
      "q: ───X───[ q: ───X───Y─── ]───Z───\n",
      "\n",
      "\n",
      "Final Circuit:\n",
      "q: ───Z───[ q: ───X───Y─── ]───X───\n",
      "----------------------------------------\n",
      "Transformer-2: SubstituteGate\n",
      "Initial Circuit:\n",
      "q: ───Z───[ q: ───X───Y─── ]───X───\n",
      "\n",
      "\n",
      "Final Circuit:\n",
      "q: ───Z───[ q: ───X───Y─── ]───S───\n",
      "----------------------------------------\n"
     ]
    }
   ],
   "source": [
    "context = cirq.TransformerContext(logger=cirq.TransformerLogger())\n",
    "transformed_circuit = reverse_circuit(circuit, context=context)\n",
    "transformed_circuit = substitute_gate(transformed_circuit, context=context)\n",
    "context.logger.show()"
   ]
  },
  {
   "cell_type": "markdown",
   "metadata": {
    "id": "UvFdvxQ6MZD9"
   },
   "source": [
    "### Support for `deep=True`.\n",
    "You can call `@cirq.transformer(add_deep_support=True)` to automatically add the functionality of recursively running the custom transformer on circuits wrapped inside `cirq.CircuitOperation`. The recursive execution behavior of the transformer can then be controlled by setting `deep=True` in the transformer context. "
   ]
  },
  {
   "cell_type": "code",
   "execution_count": 42,
   "metadata": {
    "id": "BobP3UFBJhP1"
   },
   "outputs": [
    {
     "name": "stdout",
     "output_type": "stream",
     "text": [
      "Original Circuit:\n",
      "q: ───X───[ q: ───X───Y─── ]───Z───\n",
      "\n",
      "\n",
      "Reversed Circuit with deep=True:\n",
      "q: ───Z───[ q: ───Y───X─── ]───X───\n",
      "\n",
      "\n",
      "Substituted Circuit with deep=True:\n",
      "q: ───S───[ q: ───S───Y─── ]───Z───\n"
     ]
    }
   ],
   "source": [
    "@cirq.transformer(add_deep_support=True)\n",
    "def reverse_circuit_deep(circuit, *, context = None):\n",
    "  \"\"\"Transformer to reverse the input circuit.\"\"\"\n",
    "  return circuit[::-1]\n",
    "\n",
    "\n",
    "@cirq.transformer(add_deep_support=True)\n",
    "class SubstituteGateDeep(SubstituteGate):\n",
    "  \"\"\"Transformer to substitute `source` gates with `target` in the input circuit.\"\"\"\n",
    "  pass\n",
    "\n",
    "context = cirq.TransformerContext(deep=True)\n",
    "substitute_gate_deep = SubstituteGateDeep(cirq.X, cirq.S)\n",
    "print(\"Original Circuit:\", circuit, \"\\n\", sep=\"\\n\")\n",
    "print(\"Reversed Circuit with deep=True:\", reverse_circuit_deep(circuit, context=context), \"\\n\", sep=\"\\n\")\n",
    "print(\"Substituted Circuit with deep=True:\", substitute_gate_deep(circuit, context=context), sep=\"\\n\")"
   ]
  },
  {
   "cell_type": "markdown",
   "metadata": {
    "id": "bDizgWMmPLq0"
   },
   "source": [
    "# Transformer Primitives and Decompositions\n"
>>>>>>> Stashed changes
   ]
  },
  {
   "cell_type": "markdown",
   "metadata": {
<<<<<<< Updated upstream
    "id": "iIHUZvLRlHFj"
   },
   "source": [
    "## Compiling to NISQ targets: `cirq.CompilationTargetGateset`\n",
    "Cirq's philosophy on compiling circuits for execution on a NISQ target device or simulator is that it would often require running only a handful of individual compilation passes on the input circuit, one of the other. \n",
    "\n",
    "**`cirq.CompilationTargetGateset`** is an abstraction in Cirq to represent such compilation targets as well as the bundles of transformer passes which should be executed to compile a circuit to this target. Concretely speaking, a compilation target gateset is:\n",
    "* A subclass of `cirq.Gateset`, which can be used for description and validation of gates supported by a specific target device / simulator.\n",
    "* A bundle of pre/post transformers + an analytical decomposition method that can be used to rewrite an optimized equivalent circuit using gates from this target gateset. \n",
    "\n",
    "Cirq has implementations for common target gatesets like `cirq.CZTargetGateset`, `cirq.SqrtIswapTargetGateset` etc.\n",
    "\n",
    "\n",
    "**`cirq.optimize_for_target_gateset`** is a transformer which compiles a given circuit for a `cirq.CompilationTargetGateset` gateset via the following steps:\n",
    "\n",
    "1. Run all `gateset.preprocess_transformers`\n",
    "2. Convert operations using built-in `cirq.decompose` + `gateset.decompose_to_target_gateset`.\n",
    "3. Run all `gateset.postprocess_transformers`\n",
    "\n",
    "\n",
    "The preprocess transformers often includes optimizations like merging connected components of 1/2 qubit unitaries into a single unitary matrix, which can then be replaced with an efficient analytical decomposition as part of step-2. \n",
    "\n",
    "The post-process transformers often includes cleanups and optimizations like dropping negligible operations, converting single qubit rotations into desired form, circuit alignments etc. "
   ]
  },
  {
   "cell_type": "code",
   "execution_count": null,
   "metadata": {
    "id": "-QFPCdW0qS3R"
   },
   "outputs": [],
   "source": [
    "context = cirq.TransformerContext(logger=cirq.TransformerLogger())\n",
    "converted_circuit_optimized = cirq.optimize_for_target_gateset(circuit, gateset = cirq.CZTargetGateset(allow_partial_czs=True), context=context)\n",
    "cirq.testing.assert_circuits_with_terminal_measurements_are_equivalent(circuit, converted_circuit_optimized)\n",
    "print(f\"Circuit Depth Original: {len(circuit)}\", circuit, sep=\"\\n\")\n",
    "print(f\"Circuit Depth Converted Custom: {len(converted_circuit)}\", converted_circuit, sep=\"\\n\")\n",
    "print(f\"Circuit Depth Converted Optimized: {len(converted_circuit_optimized)}\", converted_circuit_optimized, sep=\"\\n\")"
=======
    "id": "sXbcG1VdPRkm"
   },
   "source": [
    "## Moment preserving transformer primitives\n",
    "\n",
    "Cirq provides useful abstractions to implement common transformer patterns, while preserving the moment structure of input circuit. Some of the notable transformer primitives are:\n",
    "\n",
    "- **`cirq.map_operations`**: Applies local transformations on operations, by calling `map_func(op)` for each `op`.\n",
    "- **`cirq.map_moments`**: Applies local transformation on moments, by calling `map_func(m)` for each moment `m`.\n",
    "- **`cirq.merge_operations`**: Merges connected component of operations by calling `merge_func(op1, op2)` on iteratively for every mergeable operation `op1` and `op2`.\n",
    "- **`cirq.merge_moments`**: Merges adjacent moments, from left to right, by calling `merge_func(m1, m2)`.\n",
    "\n",
    "\n",
    "An important property of these primitives is that they have support for common configurable options present in `cirq.TransformerContext`, such as `tags_to_ignore` and `deep`. See the example below for a better understanding."
>>>>>>> Stashed changes
   ]
  },
  {
   "cell_type": "code",
   "execution_count": 45,
   "metadata": {
<<<<<<< Updated upstream
    "id": "CmJ7aYz7riRT"
=======
    "id": "BCXc94owfIJh"
   },
   "outputs": [
    {
     "name": "stdout",
     "output_type": "stream",
     "text": [
      "Original Circuit:\n",
      "q: ───X───Y───X['ignore']───[ q: ───X───Y───X['ignore']─── ]───X───Y───X['ignore']───\n",
      "\n",
      "\n",
      "Substituted Circuit:\n",
      "q: ───S───Y───X['ignore']───[ q: ───S───Y───X['ignore']─── ]───S───Y───X['ignore']───\n",
      "\n",
      "\n"
     ]
    }
   ],
   "source": [
    "@cirq.transformer\n",
    "def substitute_gate_using_primitives(circuit, *, context = None, source = cirq.X, target= cirq.S):\n",
    "  \"\"\"Transformer to substitute `source` gates with `target` in the input circuit.\n",
    "  \n",
    "  The transformer is implemented using `cirq.map_operations` primitive and hence\n",
    "  has built-in support for \n",
    "    1. Recursively running the transformer on sub-circuits if `context.deep is True`.\n",
    "    2. Ignoring operations tagged with any of `context.tags_to_ignore`. \n",
    "  \"\"\"\n",
    "  return cirq.map_operations(\n",
    "      circuit, \n",
    "      map_func=lambda op, _: target.on(*op.qubits) if op.gate == source else op,\n",
    "      deep = context.deep if context else False,\n",
    "      tags_to_ignore=context.tags_to_ignore if context else ()\n",
    "  )\n",
    "\n",
    "x_y_x = [cirq.X(q), cirq.Y(q), cirq.X(q).with_tags(\"ignore\")]\n",
    "circuit = cirq.Circuit(x_y_x, cirq.CircuitOperation(cirq.FrozenCircuit(x_y_x)), x_y_x)\n",
    "context = cirq.TransformerContext(deep=True, tags_to_ignore=(\"ignore\",))\n",
    "print(\"Original Circuit:\", circuit, \"\\n\", sep=\"\\n\")\n",
    "print(\"Substituted Circuit:\", substitute_gate_using_primitives(circuit, context=context), \"\\n\", sep=\"\\n\")"
   ]
  },
  {
   "cell_type": "markdown",
   "metadata": {
    "id": "NzTPE_wGjWkJ"
>>>>>>> Stashed changes
   },
   "source": [
<<<<<<< Updated upstream
    "print(\"Inspecting actions of individual transformers when running `cirq.optimized_for_target_gateset`\\n\\n\")\n",
    "context.logger.show()"
=======
    "## Analytical Gate Decompositions\n",
    "\n",
    "Gate decomposition is the process of implementing / decomposing a given unitary `U` using only gates that belong to a specific target gateset. \n",
    "\n",
    "Cirq provides many analytical decomposition methods, often based on [KAK Decomposition](https://arxiv.org/abs/quant-ph/0507171), to decompose two qubit unitaries into specific target gatesets. Some notable decompositions are:\n",
    "\n",
    "* **`cirq.single_qubit_matrix_to_pauli_rotations`**: Decomposes a single qubit matrix to ZPow/XPow/YPow rotations. \n",
    "* **`cirq.single_qubit_matrix_to_phased_x_z`**: Decomposes a single-qubit matrix to a PhasedX and Z gate.\n",
    "* **`cirq.two_qubit_matrix_to_sqrt_iswap_operations`**: Decomposes any two-qubit unitary matrix into ZPow/XPow/YPow/sqrt-iSWAP gates.\n",
    "* **`cirq.two_qubit_matrix_to_cz_operations`**: Decomposes any two-qubit unitary matrix into ZPow/XPow/YPow/CZ gates.\n",
    "* **`cirq.three_qubit_matrix_to_operations`**: Decomposes any three-qubit unitary matrix into CZ/CNOT and single qubit rotations.\n",
    "\n",
    "\n",
    "\n",
    "You can use these analytical decomposition methods to build transformers which can rewrite a given circuit using only gates from the target gateset. "
   ]
  },
  {
   "cell_type": "code",
   "execution_count": 54,
   "metadata": {
    "id": "Pb7sXwEFcIxB"
   },
   "outputs": [
    {
     "name": "stdout",
     "output_type": "stream",
     "text": [
      "Original Circuit\n",
      "                  ┌──┐\n",
      "0: ───iSwap─────────×────T───────────\n",
      "      │             │\n",
      "1: ───iSwap────────T┼────×───iSwap───\n",
      "                    │    │   │\n",
      "2: ───────────Z─────×────×───iSwap───\n",
      "                  └──┘\n",
      "\n",
      "\n",
      "Circuit compiled for CZ Target Gateset using custom transformer\n",
      "0: ───PhX(-0.75)^0.5───@───PhX(0.25)^0.5────@───PhX(-0.75)^0.5───S───────────────────────────PhX(0.5)^0.5──────────────@───PhX(-0.5)^0.5───@───PhX(0.5)^0.5───@───S──────PhXZ(a=0.25,x=0,z=0.25)────────────────────────────────────────────────────────────────────────────────────────────────────────────────────\n",
      "                       │                    │                                                                          │                   │                  │\n",
      "1: ───PhX(0.25)^0.5────@───PhX(-0.75)^0.5───@───PhX(0.25)^0.5────S───────────────────────────PhXZ(a=0.25,x=0,z=0.25)───┼───────────────────┼──────────────────┼──────────PhX(0.5)^0.5──────────────@───PhX(-0.5)^0.5───@───PhX(0.5)^0.5───@───S──────PhX(0.25)^0.5────@───PhX(-0.75)^0.5───@───PhX(0.25)^0.5────S───\n",
      "                                                                                                                       │                   │                  │                                    │                   │                  │                           │                    │\n",
      "2: ──────────────────────────────────────────────────────────────────PhXZ(a=-0.5,x=0,z=-1)───PhX(0)^0.5────────────────@───PhX(1)^0.5──────@───PhX(0)^0.5─────@───S^-1───PhX(0)^0.5────────────────@───PhX(1)^0.5──────@───PhX(0)^0.5─────@───S^-1───PhX(-0.75)^0.5───@───PhX(0.25)^0.5────@───PhX(-0.75)^0.5───S───\n",
      "\n",
      "\n"
     ]
    }
   ],
   "source": [
    "@cirq.transformer\n",
    "def convert_to_cz_target(circuit, *, context=None, atol=1e-8, allow_partial_czs=True):\n",
    "  \"\"\"Transformer to rewrite the given circuit using CZs + 1-qubit rotations.\n",
    "\n",
    "  Note that the transformer decomposes only operations on <= 2-qubits and is\n",
    "  presented as an illustration of using transformer primitives + analytical \n",
    "  decomposition methods. \n",
    "  \"\"\"\n",
    "  def map_func(op: cirq.Operation, _) -> cirq.OP_TREE:\n",
    "    if not (cirq.has_unitary(op) and cirq.num_qubits(op) <= 2):\n",
    "      return op\n",
    "    mat = cirq.unitary(op)\n",
    "    q = op.qubits\n",
    "    if cirq.num_qubits(op) == 1:\n",
    "      g = cirq.single_qubit_matrix_to_phxz(mat)\n",
    "      return g.on(*q) if g else []\n",
    "    return cirq.two_qubit_matrix_to_cz_operations(*q, mat, allow_partial_czs=allow_partial_czs, atol=atol)\n",
    "    \n",
    "  return cirq.map_operations_and_unroll(\n",
    "      circuit, \n",
    "      map_func,\n",
    "      deep=context.deep if context else False,\n",
    "      tags_to_ignore=context.tags_to_ignore if context else ()\n",
    "  )\n",
    "circuit = cirq.testing.random_circuit(qubits=3, n_moments=5, op_density=0.8, random_state=1234)\n",
    "converted_circuit = convert_to_cz_target(circuit)\n",
    "cirq.testing.assert_circuits_with_terminal_measurements_are_equivalent(circuit, converted_circuit)\n",
    "print(f\"Original Circuit\", circuit, \"\\n\", sep=\"\\n\")\n",
    "print(f\"Circuit compiled for CZ Target Gateset using custom transformer\", converted_circuit, \"\\n\", sep=\"\\n\")"
   ]
  },
  {
   "cell_type": "markdown",
   "metadata": {
    "id": "jE7XXZs7bmTJ"
   },
   "source": [
    "## Heuristic Gate Decompositions\n",
    "Cirq also provides heuristic methods for decomposing any two qubit unitary matrix in terms of any specified two qubit target unitary + single qubit rotations. These methods are useful when accurate analytical decompositions for the target unitary are not known or when gate decomposition fidelity (i.e. accuracy of decomposition) can be traded off against decomposition depth (i.e. number of 2q gates in resulting decomposition) to achieve a higher overall gate fidelity. \n",
    "\n",
    "\n",
    "See the following resources for more details on heuristic gate decomposition:\n",
    "\n",
    "* **`cirq.two_qubit_gate_product_tabulation`**\n",
    "* **https://arxiv.org/pdf/2106.15490.pdf**"
>>>>>>> Stashed changes
   ]
  },
  {
   "cell_type": "markdown",
   "metadata": {
    "id": "aTNKFcPesNpy"
   },
   "source": [
    "# Summary\n",
    "Cirq provides a flexible and powerful framework to\n",
    "* Use built-in transformer primitives and analytical tools to create powerful custom transformers AND \n",
    "* Easily integrate custom transformers with built-in infrastructure to augment functionality like automated logging, recursive execution on sub-circuits, support for no-compile tags etc.\n",
    "\n",
<<<<<<< Updated upstream
    "Cirq also provides a plethora of built-in transformers which can be composed together into a sensible abstraction, like `cirq.CompilationTargetGateset`, which in-turn can be serialized and can be used as a parameter in larger compilation pipelines and experiment workflows. "
=======
    "Cirq also provides a plethora of built-in transformers which can be composed together into useful abstractions, like `cirq.CompilationTargetGateset`, which in-turn can be serialized and can be used as a parameter in larger compilation pipelines and experiment workflows. "
>>>>>>> Stashed changes
   ]
  }
 ],
 "metadata": {
  "colab": {
   "collapsed_sections": [],
   "name": "transform.ipynb",
   "toc_visible": true
  },
  "kernelspec": {
   "display_name": "Python 3",
   "name": "python3"
  }
 },
 "nbformat": 4,
 "nbformat_minor": 0
}
