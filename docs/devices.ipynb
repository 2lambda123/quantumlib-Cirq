{
 "cells": [
  {
   "cell_type": "markdown",
   "metadata": {
    "id": "DkA0Fobtb9dM"
   },
   "source": [
    "##### Copyright 2020 The Cirq Developers"
   ]
  },
  {
   "cell_type": "code",
   "execution_count": null,
   "metadata": {
    "cellView": "form",
    "id": "tUshu7YfcAAW"
   },
   "outputs": [],
   "source": [
    "#@title Licensed under the Apache License, Version 2.0 (the \"License\");\n",
    "# you may not use this file except in compliance with the License.\n",
    "# You may obtain a copy of the License at\n",
    "#\n",
    "# https://www.apache.org/licenses/LICENSE-2.0\n",
    "#\n",
    "# Unless required by applicable law or agreed to in writing, software\n",
    "# distributed under the License is distributed on an \"AS IS\" BASIS,\n",
    "# WITHOUT WARRANTIES OR CONDITIONS OF ANY KIND, either express or implied.\n",
    "# See the License for the specific language governing permissions and\n",
    "# limitations under the License."
   ]
  },
  {
   "cell_type": "markdown",
   "metadata": {
    "id": "igOQCrBOcF5d"
   },
   "source": [
    "# Devices"
   ]
  },
  {
   "cell_type": "markdown",
   "metadata": {
    "id": "LHRAvc9TcHOH"
   },
   "source": [
    "<table class=\"tfo-notebook-buttons\" align=\"left\">\n",
    "  <td>\n",
    "    <a target=\"_blank\" href=\"https://quantumai.google/cirq/devices\"><img src=\"https://quantumai.google/site-assets/images/buttons/quantumai_logo_1x.png\" />View on QuantumAI</a>\n",
    "  </td>\n",
    "  <td>\n",
    "    <a target=\"_blank\" href=\"https://colab.research.google.com/github/quantumlib/Cirq/blob/master/docs/devices.ipynb\"><img src=\"https://quantumai.google/site-assets/images/buttons/colab_logo_1x.png\" />Run in Google Colab</a>\n",
    "  </td>\n",
    "  <td>\n",
    "    <a target=\"_blank\" href=\"https://github.com/quantumlib/Cirq/blob/master/docs/devices.ipynb\"><img src=\"https://quantumai.google/site-assets/images/buttons/github_logo_1x.png\" />View source on GitHub</a>\n",
    "  </td>\n",
    "  <td>\n",
    "    <a href=\"https://storage.googleapis.com/tensorflow_docs/Cirq/docs/devices.ipynb\"><img src=\"https://quantumai.google/site-assets/images/buttons/download_icon_1x.png\" />Download notebook</a>\n",
    "  </td>\n",
    "</table>"
   ]
  },
  {
   "cell_type": "code",
   "execution_count": null,
   "metadata": {
    "id": "bd9529db1c0b"
   },
   "outputs": [],
   "source": [
    "try:\n",
    "    import cirq\n",
    "except ImportError:\n",
    "    print(\"installing cirq...\")\n",
    "    !pip install --quiet cirq\n",
    "    print(\"installed cirq.\")\n",
    "    import cirq "
   ]
  },
  {
   "cell_type": "markdown",
   "metadata": {
    "id": "x6s7QnYKAdo7"
   },
   "source": [
    "## 1. Validation basics\n",
    "\n",
    "When you are looking to run an algorithm on a real quantum computer (not a simulated one), there are often many additional constraints placed on the circuits you would like to run. Qubit connectivity, algorithm layout and types of gates used in the circuit all become much more important. Cirq uses the abtract class `Device` to represent constraints of an actual quantum processor, an example implementation of a device can be seen in the `cirq_google.Sycamore` class:"
   ]
  },
  {
   "cell_type": "code",
   "execution_count": null,
   "metadata": {
    "id": "BFcKF8Xp-A2S"
   },
   "outputs": [],
   "source": [
    "import cirq_google\n",
    "my_device = cirq_google.Sycamore\n",
    "my_device"
   ]
  },
  {
   "cell_type": "markdown",
   "metadata": {
    "id": "bN7O0XCLAH7G"
   },
   "source": [
    "All devices are capable of validing moments, operations and circuits with the `validate_***` method to verify if they would work on that device or not. You can check if the following operations work on the Sycamore device:"
   ]
  },
  {
   "cell_type": "code",
   "execution_count": null,
   "metadata": {
    "id": "53z2ucqZAFz7"
   },
   "outputs": [],
   "source": [
    "q1, q2, q3 = cirq.GridQubit(7, 4), cirq.GridQubit(7, 5), cirq.GridQubit(7, 6)\n",
    "op1 = cirq.X(cirq.GridQubit(7 ,7))\n",
    "\n",
    "try:\n",
    "  my_device.validate_operation(op1)\n",
    "except Exception as e:\n",
    "  print(e)"
   ]
  },
  {
   "cell_type": "markdown",
   "metadata": {
    "id": "jkgV8lhEB7L5"
   },
   "source": [
    "Above you used a qubit that wasn't on the device and was invalid. Most validate operations also take into account things like supported gates and connectivity as well:"
   ]
  },
  {
   "cell_type": "code",
   "execution_count": null,
   "metadata": {
    "id": "VM3kDY6QCRPY"
   },
   "outputs": [],
   "source": [
    "op1 = cirq.H(q1)\n",
    "op2 = cirq_google.SYC(q1, q3)\n",
    "\n",
    "try:\n",
    "  my_device.validate_operation(op1)\n",
    "except Exception as e:\n",
    "  print(e)\n",
    "\n",
    "try:\n",
    "  my_device.validate_operation(op2)\n",
    "except Exception as e:\n",
    "  print(e)"
   ]
  },
  {
   "cell_type": "markdown",
   "metadata": {
    "id": "EcTgQg5xCxzG"
   },
   "source": [
    "These validation operations can also be used with full circuits:"
   ]
  },
  {
   "cell_type": "code",
   "execution_count": null,
   "metadata": {
    "id": "EiolyMKLC262"
   },
   "outputs": [],
   "source": [
    "my_circuit = cirq.Circuit(\n",
    "    cirq.PhasedXPowGate(phase_exponent=0.3)(q1),\n",
    "    cirq.PhasedXPowGate(phase_exponent=0.3)(q2),\n",
    "    cirq_google.SYC(q1, q2),\n",
    "    cirq_google.SYC(q2, q3),\n",
    ")\n",
    "my_device.validate_circuit(my_circuit)"
   ]
  },
  {
   "cell_type": "markdown",
   "metadata": {
    "id": "-sNjRTCKDb2D"
   },
   "source": [
    "`my_circuit` satisfies all the device constraints and could be run on a Sycamore device."
   ]
  },
  {
   "cell_type": "markdown",
   "metadata": {
    "id": "BrxB0eCUDvlI"
   },
   "source": [
    "## 2. Metadata features\n",
    "\n",
    "Some devices will also expose additional information via the `metadata` property. You can look at the metadata information of the Sycamore device with:"
   ]
  },
  {
   "cell_type": "code",
   "execution_count": null,
   "metadata": {
    "id": "clsvdcXzEOIV"
   },
   "outputs": [],
   "source": [
    "metadata = my_device.metadata\n",
    "metadata"
   ]
  },
  {
   "cell_type": "markdown",
   "metadata": {
    "id": "glMmeLevElt-"
   },
   "source": [
    "The Sycamore device is a 2d grid device that exposes a `cirq.GridDeviceMetadata` with a uniform set of gates across all the qubits as well as a connectivity graph. You can explore the properties below:"
   ]
  },
  {
   "cell_type": "code",
   "execution_count": null,
   "metadata": {
    "id": "9Zm_1IsFEiHT"
   },
   "outputs": [],
   "source": [
    "type(metadata)"
   ]
  },
  {
   "cell_type": "code",
   "execution_count": null,
   "metadata": {
    "id": "JbwrPD_AETiX"
   },
   "outputs": [],
   "source": [
    "qubit_set = metadata.qubit_set\n",
    "nx_graph = metadata.nx_graph\n",
    "gateset = metadata.gateset\n",
    "\n",
    "print(gateset)"
   ]
  },
  {
   "cell_type": "markdown",
   "metadata": {
    "id": "fo6ZTYN4HBVL"
   },
   "source": [
    "These metadata features can be useful when designing/building algorithms around certain device information in order to tailor them for that device."
   ]
  },
  {
   "cell_type": "markdown",
   "metadata": {
    "id": "RvC4xz_OHT3s"
   },
   "source": [
    "## 3. The `cirq.Device` interface\n",
    "\n",
    "For advanced users (such as vendors) it is also possible to implement your own Device with its own unique constraints and metadata information. Below you can implement our own fictituous device:"
   ]
  },
  {
   "cell_type": "code",
   "execution_count": null,
   "metadata": {
    "id": "cA7AdVWJCpRr"
   },
   "outputs": [],
   "source": [
    "class MyDevice(cirq.Device):\n",
    "  \"\"\"Five qubits on a line, supporting X/Y/Z and CZ between neighbors.\"\"\"\n",
    "  def __init__(self):\n",
    "      self._qubits = set(cirq.LineQubit.range(5))\n",
    "      self._supported_gates = cirq.Gateset(\n",
    "          cirq.XPowGate, cirq.YPowGate, cirq.ZPowGate, cirq.CZPowGate\n",
    "      )\n",
    "\n",
    "  def validate_operation(self, operation):\n",
    "      if any(x not in self._qubits for x in operation.qubits):\n",
    "        raise ValueError(\"Using qubits not found on device.\")\n",
    "\n",
    "      if len(operation.qubits) == 2:\n",
    "          p, q = operation.qubits\n",
    "          if not p.is_adjacent(q):\n",
    "            raise ValueError('Non-local interaction: {}'.format(repr(operation)))\n",
    "\n",
    "      if operation not in self._supported_gates:\n",
    "        raise ValueError(\"Unsupported operation type.\")"
   ]
  },
  {
   "cell_type": "markdown",
   "metadata": {
    "id": "9oRUQuGGI7MJ"
   },
   "source": [
    "and use it to validate circuits:"
   ]
  },
  {
   "cell_type": "code",
   "execution_count": null,
   "metadata": {
    "id": "2e_UnChLDeOC"
   },
   "outputs": [],
   "source": [
    "my_device = MyDevice()\n",
    "\n",
    "my_circuit = cirq.Circuit(\n",
    "    cirq.X(cirq.LineQubit(0)),\n",
    "    cirq.X(cirq.LineQubit(2)),\n",
    "    cirq.X(cirq.LineQubit(4)),\n",
    "    cirq.CZ(*cirq.LineQubit.range(2))\n",
    ")\n",
    "\n",
    "my_device.validate_circuit(my_circuit)"
   ]
  },
  {
   "cell_type": "markdown",
   "metadata": {
    "id": "OZxolGY3I82H"
   },
   "source": [
    "Success! You have used Devices in Cirq to validate circuits for compatability when running as well as explored metadata information on the device and implemented your own boilerplate device."
   ]
  }
 ],
 "metadata": {
  "colab": {
   "collapsed_sections": [],
   "name": "devices.ipynb",
   "toc_visible": true
  },
  "kernelspec": {
   "display_name": "Python 3",
   "name": "python3"
  }
 },
 "nbformat": 4,
 "nbformat_minor": 0
}
