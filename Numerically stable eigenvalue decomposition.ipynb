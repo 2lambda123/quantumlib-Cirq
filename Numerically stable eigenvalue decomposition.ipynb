{
 "cells": [
  {
   "cell_type": "markdown",
   "metadata": {},
   "source": [
    "Diagonalization of a matrix is a ubiquitous problem in linear algebra applications. For example in decomposing a 2 qubit unitary to its quantum circuit reprentation requires diagonalization. \n",
    "\n",
    "$$ \n",
    "U = V D V^\\dagger\n",
    "$$\n",
    "\n",
    "where $D$ is a diagonal matrix, containing the eigenvalues of $U$, $V$ is the matrix that contains the left eigenvectors of $A$ as column vectors. Unitary matrices are normal matrices, hence they are always diagonalizable. \n",
    "\n",
    "In python and the numpy package, the `np.linalg.eig` and `np.linalg.eigh` methods are to calculate $D$ and $V$. \n",
    "\n"
   ]
  },
  {
   "cell_type": "code",
   "execution_count": 523,
   "metadata": {},
   "outputs": [],
   "source": [
    "import numpy as np\n",
    "import cirq \n",
    "import matplotlib.pyplot as plt "
   ]
  },
  {
   "cell_type": "code",
   "execution_count": 524,
   "metadata": {},
   "outputs": [
    {
     "data": {
      "text/plain": [
       "array([[-0.01+0.17j, -0.29-0.19j,  0.1 +0.26j,  0.33+0.j  , -0.28+0.26j,\n",
       "         0.18-0.27j, -0.03+0.38j,  0.18+0.48j],\n",
       "       [ 0.34+0.25j, -0.05+0.06j, -0.22-0.63j, -0.01+0.22j,  0.1 -0.16j,\n",
       "         0.34+0.01j,  0.16-0.09j,  0.2 +0.32j],\n",
       "       [-0.03-0.44j,  0.05-0.1j ,  0.01+0.04j, -0.16-0.46j,  0.15-0.32j,\n",
       "         0.45-0.04j,  0.32+0.31j, -0.09+0.11j],\n",
       "       [-0.27+0.31j, -0.21-0.18j, -0.32-0.21j,  0.22-0.65j, -0.06+0.07j,\n",
       "        -0.  +0.04j, -0.03-0.31j, -0.17-0.04j],\n",
       "       [ 0.27+0.35j,  0.13-0.32j,  0.31-0.05j, -0.04-0.16j, -0.29-0.42j,\n",
       "         0.05-0.14j, -0.17+0.15j,  0.2 -0.41j],\n",
       "       [-0.  +0.22j, -0.56+0.15j, -0.08+0.22j,  0.19+0.24j,  0.29-0.39j,\n",
       "         0.01-0.13j,  0.21+0.11j, -0.3 -0.26j],\n",
       "       [-0.02-0.18j, -0.26-0.23j, -0.12-0.06j, -0.05-0.04j, -0.04-0.41j,\n",
       "        -0.59+0.34j, -0.03+0.13j,  0.26+0.32j],\n",
       "       [ 0.2 -0.33j, -0.41-0.2j ,  0.4 +0.07j,  0.05-0.j  ,  0.11-0.02j,\n",
       "         0.24+0.04j, -0.26-0.57j,  0.06+0.06j]])"
      ]
     },
     "execution_count": 524,
     "metadata": {},
     "output_type": "execute_result"
    }
   ],
   "source": [
    "np.set_printoptions(suppress=True, precision=2)\n",
    "U = cirq.testing.random_unitary(8)\n",
    "U"
   ]
  },
  {
   "cell_type": "code",
   "execution_count": 525,
   "metadata": {},
   "outputs": [
    {
     "data": {
      "text/plain": [
       "(array([ 0.92+0.39j,  0.16+0.99j, -0.6 +0.8j , -0.93+0.36j, -0.66-0.75j,\n",
       "         0.81-0.58j, -0.12-0.99j,  0.33-0.95j]),\n",
       " array([[ 0.56+0.j  ,  0.02-0.19j, -0.02+0.48j, -0.35-0.15j, -0.25-0.17j,\n",
       "         -0.  +0.17j, -0.28+0.1j ,  0.06+0.23j],\n",
       "        [-0.1 +0.15j, -0.15-0.39j,  0.55+0.j  ,  0.17-0.13j, -0.17-0.14j,\n",
       "         -0.22+0.29j,  0.3 -0.15j, -0.37+0.17j],\n",
       "        [ 0.13-0.49j,  0.29-0.04j, -0.24-0.39j, -0.09-0.22j, -0.3 -0.29j,\n",
       "         -0.19-0.18j,  0.36+0.03j, -0.05+0.15j],\n",
       "        [ 0.09+0.41j,  0.06-0.02j, -0.03+0.13j,  0.06+0.09j, -0.14-0.13j,\n",
       "          0.24-0.02j,  0.62+0.j  ,  0.56+0.j  ],\n",
       "        [ 0.13-0.07j, -0.21+0.09j, -0.03+0.17j, -0.41+0.22j,  0.52+0.j  ,\n",
       "         -0.04-0.24j,  0.36-0.28j, -0.23+0.31j],\n",
       "        [ 0.05+0.14j,  0.54+0.j  ,  0.24+0.03j,  0.12+0.02j, -0.1 +0.5j ,\n",
       "         -0.03-0.34j, -0.09-0.09j,  0.01+0.46j],\n",
       "        [-0.05-0.28j,  0.25+0.41j,  0.15+0.24j,  0.04-0.48j,  0.27+0.12j,\n",
       "          0.  +0.47j,  0.17-0.14j,  0.16-0.02j],\n",
       "        [ 0.05-0.32j, -0.04-0.35j, -0.22+0.18j,  0.53+0.j  ,  0.16-0.06j,\n",
       "          0.56+0.j  , -0.01-0.11j, -0.1 +0.21j]]))"
      ]
     },
     "execution_count": 525,
     "metadata": {},
     "output_type": "execute_result"
    }
   ],
   "source": [
    "d, V= np.linalg.eig(U)\n",
    "d, V"
   ]
  },
  {
   "cell_type": "code",
   "execution_count": 526,
   "metadata": {},
   "outputs": [],
   "source": [
    "np.testing.assert_allclose(V @ np.diag(d) @ V.conj().T, U)"
   ]
  },
  {
   "cell_type": "markdown",
   "metadata": {},
   "source": [
    "Great, this seems to work for random unitaries. However, for certain unitaries this starts to crumble. \n",
    "\n",
    "### The main question: what classes of matrices result in incorrect `numpy.linalg.eig` decomposition? More specifically: what kind of numerical errors cause these errors and can we correct them? "
   ]
  },
  {
   "cell_type": "markdown",
   "metadata": {},
   "source": [
    "## An example $U_1U_2^\\dagger$"
   ]
  },
  {
   "cell_type": "code",
   "execution_count": 504,
   "metadata": {},
   "outputs": [
    {
     "data": {
      "text/plain": [
       "array([[ 0.64+0.77j,  0.  +0.j  , -0.  +0.j  ,  0.  +0.j  ],\n",
       "       [ 0.  +0.j  ,  0.22+0.11j,  0.66-0.7j , -0.02-0.03j],\n",
       "       [ 0.  -0.j  , -0.22+0.44j, -0.12-0.11j,  0.62-0.59j],\n",
       "       [ 0.  +0.j  , -0.06-0.83j,  0.19+0.04j,  0.14-0.5j ]])"
      ]
     },
     "execution_count": 504,
     "metadata": {},
     "output_type": "execute_result"
    }
   ],
   "source": [
    "u2=np.array(\n",
    "[[ 6.3616870250576751e-01+7.7154998668403085e-01j,  7.4915966813003955e-18+4.2843403189465048e-17j, -1.0670468446714549e-16+1.1538031985852377e-16j,  7.2296961594819082e-19+5.4038459512872594e-18j],\n",
    " [ 8.4978997301802701e-17+1.1893895609896763e-16j,  2.2035859738533992e-01+1.1292208651931387e-01j,  6.6484970601421378e-01-7.0383935318155111e-01j, -2.2722217185744742e-02-2.7557668741074088e-02j],\n",
    " [ 1.6640839446779151e-17-3.2997465454912499e-17j, -2.2087747199836227e-01+4.4261359188593208e-01j, -1.1725777733627676e-01-1.0588094072445392e-01j,  6.1988112341373613e-01-5.8829718979630630e-01j],\n",
    " [ 1.0141542958775636e-17+6.1509405247093862e-17j, -5.6732929637545129e-02-8.3113080575242637e-01j,  1.8925770983029677e-01+4.2501678096757978e-02j,  1.4402176357197022e-01-4.9763020072181474e-01j]])\n",
    "u2"
   ]
  },
  {
   "cell_type": "code",
   "execution_count": 505,
   "metadata": {},
   "outputs": [
    {
     "data": {
      "text/plain": [
       "array([[ 1.  +0.j  ,  0.  +0.j  ,  0.  +0.j  ,  0.  +0.j  ],\n",
       "       [ 0.  +0.j  ,  0.23-0.1j , -0.12-0.96j, -0.04+0.j  ],\n",
       "       [ 0.  +0.j  ,  0.2 +0.45j, -0.16+0.02j, -0.06-0.85j],\n",
       "       [ 0.  +0.j  , -0.68-0.48j,  0.15-0.12j, -0.29-0.43j]])"
      ]
     },
     "execution_count": 505,
     "metadata": {},
     "output_type": "execute_result"
    }
   ],
   "source": [
    "u1=np.array(\n",
    "[[ 1.0000000000000000+0.0000000000000000e+00j,  0.0000000000000000+0.0000000000000000e+00j,  0.0000000000000000+0.0000000000000000e+00j,  0.0000000000000000+0.0000000000000000e+00j],\n",
    " [ 0.0000000000000000+0.0000000000000000e+00j,  0.2273102773349319-9.8180175613134565e-02j, -0.1200906687385194-9.6072534990815506e-01j, -0.0357172823753281+8.6736173798840355e-19j],\n",
    " [ 0.0000000000000000+0.0000000000000000e+00j,  0.2009831761518099+4.5199492504062982e-01j, -0.1562881664727747+2.3112095861637594e-02j, -0.0595517189636592-8.5252553243605544e-01j],\n",
    " [ 0.0000000000000000+0.0000000000000000e+00j, -0.6773506763478407-4.8496711520170011e-01j,  0.1531920008715559-1.1898354609028339e-01j, -0.2923244362763149-4.2769674888704595e-01j]]\n",
    ")\n",
    "u1"
   ]
  },
  {
   "cell_type": "code",
   "execution_count": 570,
   "metadata": {},
   "outputs": [
    {
     "data": {
      "text/plain": [
       "array([[ 0.6361687025-0.7715499867j,  0.          -0.j          ,\n",
       "         0.          +0.j          ,  0.          -0.j          ],\n",
       "       [-0.          +0.j          ,  0.6361687025-0.7715499867j,\n",
       "         0.          +0.j          ,  0.          -0.j          ],\n",
       "       [ 0.          +0.j          , -0.          +0.j          ,\n",
       "         0.6361687025-0.7715499867j, -0.          -0.j          ],\n",
       "       [-0.          +0.j          , -0.          -0.j          ,\n",
       "         0.          +0.j          ,  0.6361687025-0.7715499867j]])"
      ]
     },
     "execution_count": 570,
     "metadata": {},
     "output_type": "execute_result"
    }
   ],
   "source": [
    "u1u2 = u1 @ u2.conj().T\n",
    "u1u2"
   ]
  },
  {
   "cell_type": "code",
   "execution_count": 515,
   "metadata": {},
   "outputs": [
    {
     "data": {
      "text/plain": [
       "array([[1., 0., 0., 0.],\n",
       "       [0., 1., 0., 0.],\n",
       "       [0., 0., 1., 0.],\n",
       "       [0., 0., 0., 1.]])"
      ]
     },
     "execution_count": 515,
     "metadata": {},
     "output_type": "execute_result"
    }
   ],
   "source": [
    "np.abs(u1u2)"
   ]
  },
  {
   "cell_type": "code",
   "execution_count": 516,
   "metadata": {},
   "outputs": [],
   "source": [
    "cirq.testing.assert_allclose_up_to_global_phase(u1u2, np.eye(4), atol=1e-15)"
   ]
  },
  {
   "cell_type": "code",
   "execution_count": 573,
   "metadata": {},
   "outputs": [
    {
     "name": "stdout",
     "output_type": "stream",
     "text": [
      "[0.6361687025-0.7715499867j 0.6361687025-0.7715499867j\n",
      " 0.6361687025-0.7715499867j 0.6361687025-0.7715499867j]\n",
      "[[ 1.          +0.j           -0.2690027164+0.3765036455j\n",
      "  -0.17834095  +0.10973952j    0.0362832771-0.0323730974j]\n",
      " [ 0.          +0.j            0.7942486348+0.j\n",
      "  -0.2250799327+0.0329068331j -0.0468730662+0.2252372828j]\n",
      " [ 0.          +0.j           -0.0933180212-0.1777973893j\n",
      "   0.6877451266+0.j            0.7501951547+0.j          ]\n",
      " [ 0.          +0.j            0.3039658387+0.1494531827j\n",
      "  -0.0077669823+0.6567756256j -0.1615394724-0.5965055047j]]\n"
     ]
    },
    {
     "ename": "AssertionError",
     "evalue": "\nNot equal to tolerance rtol=1e-07, atol=1e-08\n\nMismatch: 100%\nMax absolute difference: 0.424860212\nMax relative difference: 3.0614404681e+16\n x: array([[ 1.26033 -0.j      , -0.178895+0.273551j, -0.137272-0.031776j,\n         0.061411+0.297798j],\n       [-0.178895-0.273551j,  0.735504-0.j      , -0.264079+0.332819j,...\n y: array([[ 1.-0.j,  0.-0.j, -0.+0.j,  0.-0.j],\n       [-0.-0.j,  1.-0.j,  0.+0.j,  0.+0.j],\n       [ 0.+0.j, -0.+0.j,  1.-0.j, -0.-0.j],\n       [-0.-0.j,  0.-0.j,  0.+0.j,  1.-0.j]])",
     "output_type": "error",
     "traceback": [
      "\u001b[0;31m---------------------------------------------------------------------------\u001b[0m",
      "\u001b[0;31mAssertionError\u001b[0m                            Traceback (most recent call last)",
      "\u001b[0;32m<ipython-input-573-c8f4a3e4c654>\u001b[0m in \u001b[0;36m<module>\u001b[0;34m\u001b[0m\n\u001b[1;32m      3\u001b[0m \u001b[0mprint\u001b[0m\u001b[0;34m(\u001b[0m\u001b[0md\u001b[0m\u001b[0;34m)\u001b[0m\u001b[0;34m\u001b[0m\u001b[0;34m\u001b[0m\u001b[0m\n\u001b[1;32m      4\u001b[0m \u001b[0mprint\u001b[0m\u001b[0;34m(\u001b[0m\u001b[0mV\u001b[0m\u001b[0;34m)\u001b[0m\u001b[0;34m\u001b[0m\u001b[0;34m\u001b[0m\u001b[0m\n\u001b[0;32m----> 5\u001b[0;31m \u001b[0mcirq\u001b[0m\u001b[0;34m.\u001b[0m\u001b[0mtesting\u001b[0m\u001b[0;34m.\u001b[0m\u001b[0massert_allclose_up_to_global_phase\u001b[0m\u001b[0;34m(\u001b[0m\u001b[0mV\u001b[0m \u001b[0;34m@\u001b[0m \u001b[0mnp\u001b[0m\u001b[0;34m.\u001b[0m\u001b[0mdiag\u001b[0m\u001b[0;34m(\u001b[0m\u001b[0md\u001b[0m\u001b[0;34m)\u001b[0m \u001b[0;34m@\u001b[0m \u001b[0mV\u001b[0m\u001b[0;34m.\u001b[0m\u001b[0mconj\u001b[0m\u001b[0;34m(\u001b[0m\u001b[0;34m)\u001b[0m\u001b[0;34m.\u001b[0m\u001b[0mT\u001b[0m\u001b[0;34m,\u001b[0m \u001b[0mu1\u001b[0m\u001b[0;34m@\u001b[0m\u001b[0mu2\u001b[0m\u001b[0;34m.\u001b[0m\u001b[0mconj\u001b[0m\u001b[0;34m(\u001b[0m\u001b[0;34m)\u001b[0m\u001b[0;34m.\u001b[0m\u001b[0mT\u001b[0m\u001b[0;34m,\u001b[0m \u001b[0matol\u001b[0m\u001b[0;34m=\u001b[0m\u001b[0;36m1e-8\u001b[0m\u001b[0;34m)\u001b[0m\u001b[0;34m\u001b[0m\u001b[0;34m\u001b[0m\u001b[0m\n\u001b[0m",
      "\u001b[0;32m~/dev/proj/Cirq/cirq/testing/lin_alg_utils.py\u001b[0m in \u001b[0;36massert_allclose_up_to_global_phase\u001b[0;34m(actual, desired, rtol, atol, equal_nan, err_msg, verbose)\u001b[0m\n\u001b[1;32m    167\u001b[0m         \u001b[0mequal_nan\u001b[0m\u001b[0;34m=\u001b[0m\u001b[0mequal_nan\u001b[0m\u001b[0;34m,\u001b[0m\u001b[0;34m\u001b[0m\u001b[0;34m\u001b[0m\u001b[0m\n\u001b[1;32m    168\u001b[0m         \u001b[0merr_msg\u001b[0m\u001b[0;34m=\u001b[0m\u001b[0merr_msg\u001b[0m\u001b[0;34m,\u001b[0m\u001b[0;34m\u001b[0m\u001b[0;34m\u001b[0m\u001b[0m\n\u001b[0;32m--> 169\u001b[0;31m         verbose=verbose)\n\u001b[0m",
      "\u001b[0;32m~/envs/cirq37/lib/python3.7/site-packages/numpy/testing/_private/utils.py\u001b[0m in \u001b[0;36massert_allclose\u001b[0;34m(actual, desired, rtol, atol, equal_nan, err_msg, verbose)\u001b[0m\n\u001b[1;32m   1513\u001b[0m     \u001b[0mheader\u001b[0m \u001b[0;34m=\u001b[0m \u001b[0;34m'Not equal to tolerance rtol=%g, atol=%g'\u001b[0m \u001b[0;34m%\u001b[0m \u001b[0;34m(\u001b[0m\u001b[0mrtol\u001b[0m\u001b[0;34m,\u001b[0m \u001b[0matol\u001b[0m\u001b[0;34m)\u001b[0m\u001b[0;34m\u001b[0m\u001b[0;34m\u001b[0m\u001b[0m\n\u001b[1;32m   1514\u001b[0m     assert_array_compare(compare, actual, desired, err_msg=str(err_msg),\n\u001b[0;32m-> 1515\u001b[0;31m                          verbose=verbose, header=header, equal_nan=equal_nan)\n\u001b[0m\u001b[1;32m   1516\u001b[0m \u001b[0;34m\u001b[0m\u001b[0m\n\u001b[1;32m   1517\u001b[0m \u001b[0;34m\u001b[0m\u001b[0m\n",
      "\u001b[0;32m~/envs/cirq37/lib/python3.7/site-packages/numpy/testing/_private/utils.py\u001b[0m in \u001b[0;36massert_array_compare\u001b[0;34m(comparison, x, y, err_msg, verbose, header, precision, equal_nan, equal_inf)\u001b[0m\n\u001b[1;32m    839\u001b[0m                                 \u001b[0mverbose\u001b[0m\u001b[0;34m=\u001b[0m\u001b[0mverbose\u001b[0m\u001b[0;34m,\u001b[0m \u001b[0mheader\u001b[0m\u001b[0;34m=\u001b[0m\u001b[0mheader\u001b[0m\u001b[0;34m,\u001b[0m\u001b[0;34m\u001b[0m\u001b[0;34m\u001b[0m\u001b[0m\n\u001b[1;32m    840\u001b[0m                                 names=('x', 'y'), precision=precision)\n\u001b[0;32m--> 841\u001b[0;31m             \u001b[0;32mraise\u001b[0m \u001b[0mAssertionError\u001b[0m\u001b[0;34m(\u001b[0m\u001b[0mmsg\u001b[0m\u001b[0;34m)\u001b[0m\u001b[0;34m\u001b[0m\u001b[0;34m\u001b[0m\u001b[0m\n\u001b[0m\u001b[1;32m    842\u001b[0m     \u001b[0;32mexcept\u001b[0m \u001b[0mValueError\u001b[0m\u001b[0;34m:\u001b[0m\u001b[0;34m\u001b[0m\u001b[0;34m\u001b[0m\u001b[0m\n\u001b[1;32m    843\u001b[0m         \u001b[0;32mimport\u001b[0m \u001b[0mtraceback\u001b[0m\u001b[0;34m\u001b[0m\u001b[0;34m\u001b[0m\u001b[0m\n",
      "\u001b[0;31mAssertionError\u001b[0m: \nNot equal to tolerance rtol=1e-07, atol=1e-08\n\nMismatch: 100%\nMax absolute difference: 0.424860212\nMax relative difference: 3.0614404681e+16\n x: array([[ 1.26033 -0.j      , -0.178895+0.273551j, -0.137272-0.031776j,\n         0.061411+0.297798j],\n       [-0.178895-0.273551j,  0.735504-0.j      , -0.264079+0.332819j,...\n y: array([[ 1.-0.j,  0.-0.j, -0.+0.j,  0.-0.j],\n       [-0.-0.j,  1.-0.j,  0.+0.j,  0.+0.j],\n       [ 0.+0.j, -0.+0.j,  1.-0.j, -0.-0.j],\n       [-0.-0.j,  0.-0.j,  0.+0.j,  1.-0.j]])"
     ]
    }
   ],
   "source": [
    "d, V = np.linalg.eig(u1u2)\n",
    "np.set_printoptions(precision=10)\n",
    "print(d)\n",
    "print(V)\n",
    "cirq.testing.assert_allclose_up_to_global_phase(V @ np.diag(d) @ V.conj().T, u1@u2.conj().T, atol=1e-8)"
   ]
  },
  {
   "cell_type": "markdown",
   "metadata": {},
   "source": [
    "**Definition**: Instability - $instab(U) = \\vert\\vert{U-VDV^\\dagger}\\vert\\vert$"
   ]
  },
  {
   "cell_type": "code",
   "execution_count": 519,
   "metadata": {},
   "outputs": [],
   "source": [
    "def instab(Me): \n",
    "    '''instability of a matrix \n",
    "    Returns the Frobenius norm of the difference of the original matrix and the dot product of the \n",
    "    decomposed matrices. \n",
    "    '''\n",
    "    d,V = np.linalg.eig(Me)\n",
    "    return np.linalg.norm(V @ np.diag(d) @ V.conj().T - Me) / np.linalg.norm(Me)"
   ]
  },
  {
   "cell_type": "code",
   "execution_count": 530,
   "metadata": {},
   "outputs": [
    {
     "name": "stdout",
     "output_type": "stream",
     "text": [
      "instability of random unitary:  2.359108010513203e-15\n",
      "instability of u1u2:  0.5143889430443426\n"
     ]
    }
   ],
   "source": [
    "print(\"instability of random unitary: \", instab(U))\n",
    "print(\"instability of u1u2: \", instab(u1u2))"
   ]
  },
  {
   "cell_type": "markdown",
   "metadata": {},
   "source": [
    "**Diagonal sensitivity hypothesis**: The \"more diagonal\" the matrix is, the more sensitive it is noise. \n",
    "How diagonal is a matrix: Pearson coeff of rows and cols of the abs of the matrix? \n",
    "https://math.stackexchange.com/questions/1392491/measure-of-how-much-diagonal-a-matrix-is\n"
   ]
  },
  {
   "cell_type": "code",
   "execution_count": null,
   "metadata": {},
   "outputs": [],
   "source": [
    "Definition: Unitarity - "
   ]
  },
  {
   "cell_type": "code",
   "execution_count": 533,
   "metadata": {},
   "outputs": [
    {
     "name": "stdout",
     "output_type": "stream",
     "text": [
      "diagonality of random matrix:  -0.03664938617951655\n",
      "diagonality of u1u2:  0.9999999999999997\n"
     ]
    }
   ],
   "source": [
    "def how_diag(U):\n",
    "    A = np.abs(U)\n",
    "    d = len(U)\n",
    "    j = np.ones((d))\n",
    "    r = np.array([i+1 for i in range(d)])\n",
    "    r2 = r**2\n",
    "\n",
    "    n=j @ A @ j.T\n",
    "    sumx= r @ A @ j.T\n",
    "    sumy= j @ A @ r.T\n",
    "    sumx2 = r2 @ A @ j.T\n",
    "    sumy2 = j @ A @ r2.T\n",
    "    sumxy = r @ A @ r.T\n",
    "\n",
    "    return (n*sumxy-sumx*sumy) / (np.sqrt(n*sumx2 - sumx**2)*np.sqrt(n*sumy2 - sumy**2))\n",
    "\n",
    "print(\"diagonality of random matrix: \", how_diag(U))\n",
    "print(\"diagonality of u1u2: \", how_diag(u1u2))"
   ]
  },
  {
   "cell_type": "markdown",
   "metadata": {},
   "source": [
    "**Idea**: We can generate grades of \"diagonality\" via the eigenvalue \"rotation\" from a random unitaries eigenvalue decomposition."
   ]
  },
  {
   "cell_type": "code",
   "execution_count": 732,
   "metadata": {},
   "outputs": [
    {
     "name": "stdout",
     "output_type": "stream",
     "text": [
      "[[-5.3641547674e-01-8.4395404870e-01j  3.6776137691e-16-6.9388939039e-17j\n",
      "   1.2490009027e-16+4.9960036108e-16j -5.5511151231e-17+4.1633363423e-17j]\n",
      " [-5.2735593670e-16+4.5102810375e-17j  6.5040855310e-01-7.5958456675e-01j\n",
      "  -1.1102230246e-16-6.9388939039e-17j  2.6714741530e-16+2.3592239273e-16j]\n",
      " [ 1.3877787808e-16+1.1102230246e-16j  2.7755575616e-16-2.7755575616e-17j\n",
      "   3.7063418423e-02+9.9931291546e-01j  8.3266726847e-17-4.3715031595e-16j]\n",
      " [ 1.6653345369e-16-1.8041124150e-16j  5.5164206536e-16+1.3183898417e-16j\n",
      "  -2.4980018054e-16-5.2735593670e-16j  6.0691623678e-01+7.9476580294e-01j]]\n",
      "[-2.1369803782 -0.86267415    1.5337244175  0.9186216016]\n",
      "1.0\n",
      "[[-5.3641547674223067e-01-8.4395404869661284e-01j\n",
      "   3.6776137690708310e-16-6.9388939039072284e-17j\n",
      "   1.2490009027033011e-16+4.9960036108132044e-16j\n",
      "  -5.5511151231257827e-17+4.1633363423443370e-17j]\n",
      " [-5.2735593669694936e-16+4.5102810375396984e-17j\n",
      "   6.5040855310187451e-01-7.5958456675469976e-01j\n",
      "  -1.1102230246251565e-16-6.9388939039072284e-17j\n",
      "   2.6714741530042829e-16+2.3592239273284576e-16j]\n",
      " [ 1.3877787807814457e-16+1.1102230246251565e-16j\n",
      "   2.7755575615628914e-16-2.7755575615628914e-17j\n",
      "   3.7063418422786432e-02+9.9931291546482925e-01j\n",
      "   8.3266726846886741e-17-4.3715031594615539e-16j]\n",
      " [ 1.6653345369377348e-16-1.8041124150158794e-16j\n",
      "   5.5164206536062466e-16+1.3183898417423734e-16j\n",
      "  -2.4980018054066022e-16-5.2735593669694936e-16j\n",
      "   6.0691623678447126e-01+7.9476580294283850e-01j]]\n"
     ]
    },
    {
     "data": {
      "image/png": "[encoded data removed]",
      "text/plain": [
       "<Figure size 432x288 with 2 Axes>"
      ]
     },
     "metadata": {
      "needs_background": "light"
     },
     "output_type": "display_data"
    }
   ],
   "source": [
    "from scipy.linalg import fractional_matrix_power as fpow\n",
    "\n",
    "dim = 4\n",
    "start = cirq.testing.random_unitary(4)\n",
    "d,V = np.linalg.eig(start) \n",
    "np.testing.assert_array_almost_equal(V @ np.diag(d) @ V.conj().T, start)\n",
    "\n",
    "res = 1000\n",
    "xs=[]\n",
    "ys=[]\n",
    "cs=[]\n",
    "Ms=[]\n",
    "for i in range(res+1):\n",
    "    rot = 0.99 + i/res/100\n",
    "    M = fpow(V.conj().T, rot) @ start @ fpow(V,rot)\n",
    "    c = deltaU(M)\n",
    "    x = rot\n",
    "    y = how_diag(M)\n",
    "    xs.append(x)\n",
    "    ys.append(y)\n",
    "    cs.append(c)\n",
    "    Ms.append(M)\n",
    "    \n",
    "plt.axes(xlabel=\"rotation\",ylabel=\"diagonality\")\n",
    "plt.scatter(xs,ys,c=cs,cmap=\"magma\",alpha=0.3,s=1)\n",
    "plt.colorbar().set_label('Unitary distance')\n",
    "print(M)\n",
    "print(np.angle(M.diagonal()))\n",
    "print(rot)\n",
    "np.set_printoptions(precision=20)\n",
    "print(V.conj().T @ start @ V)"
   ]
  },
  {
   "cell_type": "code",
   "execution_count": 733,
   "metadata": {},
   "outputs": [
    {
     "name": "stdout",
     "output_type": "stream",
     "text": [
      "0.00045693534562257375\n"
     ]
    },
    {
     "data": {
      "image/png": "[encoded data removed]",
      "text/plain": [
       "<Figure size 432x288 with 2 Axes>"
      ]
     },
     "metadata": {
      "needs_background": "light"
     },
     "output_type": "display_data"
    }
   ],
   "source": [
    "E = (np.random.rand(dim,dim) + 1.9j * np.random.rand(dim, dim))*1e-4\n",
    "print(np.linalg.norm(E))\n",
    "xs2=[]\n",
    "ys2=[]\n",
    "cs2=cs\n",
    "for i in range(res+1):\n",
    "    rot = i/res\n",
    "    M = Ms[i]\n",
    "    Me = M + E\n",
    "    x = ys[i]\n",
    "    y = instab(Me)\n",
    "    xs2.append(x)\n",
    "    ys2.append(y)\n",
    "    \n",
    "plt.axes(xlabel=\"diagonality\",ylabel=\"instability\")\n",
    "plt.scatter(xs2,ys2,c=cs2,cmap=\"magma\",alpha=0.3,s=1)\n",
    "plt.colorbar().set_label('Unitary distance')\n"
   ]
  },
  {
   "cell_type": "markdown",
   "metadata": {},
   "source": [
    "Huh, I think we have to find the closest unitary matrix! Look at that: https://michaelgoerz.net/notes/finding-the-closest-unitary-for-a-given-matrix.html"
   ]
  },
  {
   "cell_type": "code",
   "execution_count": 234,
   "metadata": {},
   "outputs": [],
   "source": [
    "def delta_uni(A):\n",
    "    \"\"\" Assuming that A is a matrix obtained from projecting a unitary matrix\n",
    "        to a smaller subspace, return the loss of population of subspace, as a\n",
    "        distance measure of A from unitarity.\n",
    "\n",
    "        Result is in [0,1], with 0 if A is unitary.\n",
    "    \"\"\"\n",
    "    return 1.0 - np.real(np.trace((A.conj().T @ A))) / len(A)"
   ]
  },
  {
   "cell_type": "code",
   "execution_count": 251,
   "metadata": {},
   "outputs": [
    {
     "data": {
      "text/plain": [
       "2.220446049250313e-16"
      ]
     },
     "execution_count": 251,
     "metadata": {},
     "output_type": "execute_result"
    }
   ],
   "source": [
    "deltaU(start)"
   ]
  },
  {
   "cell_type": "code",
   "execution_count": 538,
   "metadata": {},
   "outputs": [],
   "source": [
    "def closest_unitary(A):\n",
    "    \"\"\" Calculate the unitary matrix U that is closest with respect to the\n",
    "        operator norm distance to the general matrix A.\n",
    "\n",
    "        Return U as a numpy matrix.\n",
    "    \"\"\"\n",
    "    V, __, Wh = np.linalg.svd(A)\n",
    "    U = np.array(V.dot(Wh))\n",
    "    return U\n",
    "\n",
    "def deltaU(A):\n",
    "    \"\"\" Calculate the operator norm distance \\Vert\\hat{A} - \\hat{U}\\Vert between\n",
    "        an arbitrary matrix $\\hat{A}$ and the closest unitary matrix $\\hat{U}$\n",
    "    \"\"\"\n",
    "    __, S, __ = np.linalg.svd(A)\n",
    "    d = 0.0\n",
    "    for s in S:\n",
    "        if abs(s - 1.0) > d:\n",
    "            d = abs(s-1.0)\n",
    "    return d\n"
   ]
  },
  {
   "cell_type": "code",
   "execution_count": 256,
   "metadata": {},
   "outputs": [
    {
     "data": {
      "text/plain": [
       "array([[-5.8778525229e-01-8.0901699437e-01j,\n",
       "        -4.4072392348e-16-3.4810106075e-16j,\n",
       "        -3.0063676504e-16+4.9081696994e-17j,\n",
       "        -9.0227705616e-17+1.3037360220e-16j],\n",
       "       [ 1.9487259997e-16+5.2672250285e-16j,\n",
       "        -5.8778525229e-01-8.0901699437e-01j,\n",
       "         1.3877787808e-17+2.7755575616e-16j,\n",
       "        -5.5511151231e-17+1.9428902931e-16j],\n",
       "       [-1.3958133729e-16+2.7075547594e-16j,\n",
       "        -2.7755575616e-16-2.7755575616e-17j,\n",
       "        -5.8778525229e-01-8.0901699437e-01j,\n",
       "        -3.8857805862e-16-9.0205620751e-17j],\n",
       "       [-1.5187455832e-16+4.5523988678e-17j,\n",
       "        -1.3877787808e-16-6.9388939039e-17j,\n",
       "        -1.1102230246e-16+2.9143354396e-16j,\n",
       "        -5.8778525229e-01-8.0901699437e-01j]])"
      ]
     },
     "execution_count": 256,
     "metadata": {},
     "output_type": "execute_result"
    }
   ],
   "source": [
    "closest_unitary(U+E)"
   ]
  },
  {
   "cell_type": "code",
   "execution_count": 244,
   "metadata": {},
   "outputs": [
    {
     "data": {
      "text/plain": [
       "8.881784197001252e-16"
      ]
     },
     "execution_count": 244,
     "metadata": {},
     "output_type": "execute_result"
    }
   ],
   "source": [
    "deltaU(U+E)"
   ]
  },
  {
   "cell_type": "code",
   "execution_count": 322,
   "metadata": {},
   "outputs": [],
   "source": [
    "u1u2 = np.array([[ 8.51e-02+9.96e-01j,  2.46e-16-2.47e-16j , 1.45e-16+1.63e-17j ,-1.66e-16-3.09e-16j],\n",
    " [ 2.84e-16+2.01e-16j,  8.51e-02+9.96e-01j , 3.76e-16-2.04e-16j , 3.47e-16+2.05e-16j],\n",
    " [ 1.40e-16-4.06e-17j,  1.18e-16+1.34e-16j , 8.51e-02+9.96e-01j ,-1.08e-16+5.69e-17j],\n",
    " [-1.11e-16+3.33e-16j,  2.91e-16-2.15e-16j ,-1.23e-16-6.24e-18j , 8.51e-02+9.96e-01j]])"
   ]
  },
  {
   "cell_type": "code",
   "execution_count": 324,
   "metadata": {},
   "outputs": [
    {
     "data": {
      "text/plain": [
       "array([[ 8.5131589255e-02+9.9636971678e-01j,\n",
       "         2.4587605956e-16-2.4635716575e-16j,\n",
       "         1.4491209318e-16+1.6267237827e-17j,\n",
       "        -1.6594446593e-16-3.0945746509e-16j],\n",
       "       [ 2.8410542125e-16+2.0107461152e-16j,\n",
       "         8.5131589255e-02+9.9636971678e-01j,\n",
       "         1.2490009027e-16-1.4745149546e-16j,\n",
       "         3.8857805862e-16+5.5511151231e-17j],\n",
       "       [ 1.4005196822e-16-4.0615070784e-17j,\n",
       "         1.7173762412e-16+1.2490009027e-16j,\n",
       "         8.5131589255e-02+9.9636971678e-01j,\n",
       "         2.2551405188e-17+6.9388939039e-18j],\n",
       "       [-1.1104120338e-16+3.3312361013e-16j,\n",
       "         3.7470027081e-16-3.3306690739e-16j,\n",
       "        -3.6429192996e-17-1.0408340856e-17j,\n",
       "         8.5131589255e-02+9.9636971678e-01j]])"
      ]
     },
     "execution_count": 324,
     "metadata": {},
     "output_type": "execute_result"
    }
   ],
   "source": [
    "closest_unitary(u1u2)"
   ]
  },
  {
   "cell_type": "code",
   "execution_count": 465,
   "metadata": {},
   "outputs": [
    {
     "data": {
      "text/plain": [
       "0.8109380600276481"
      ]
     },
     "execution_count": 465,
     "metadata": {},
     "output_type": "execute_result"
    }
   ],
   "source": [
    "instab(u1u2)"
   ]
  },
  {
   "cell_type": "code",
   "execution_count": 420,
   "metadata": {},
   "outputs": [
    {
     "data": {
      "text/html": [
       "<div>\n",
       "<style scoped>\n",
       "    .dataframe tbody tr th:only-of-type {\n",
       "        vertical-align: middle;\n",
       "    }\n",
       "\n",
       "    .dataframe tbody tr th {\n",
       "        vertical-align: top;\n",
       "    }\n",
       "\n",
       "    .dataframe thead th {\n",
       "        text-align: right;\n",
       "    }\n",
       "</style>\n",
       "<table border=\"1\" class=\"dataframe\">\n",
       "  <thead>\n",
       "    <tr style=\"text-align: right;\">\n",
       "      <th></th>\n",
       "      <th>delta</th>\n",
       "    </tr>\n",
       "  </thead>\n",
       "  <tbody>\n",
       "    <tr>\n",
       "      <th>count</th>\n",
       "      <td>1.000000e+03</td>\n",
       "    </tr>\n",
       "    <tr>\n",
       "      <th>mean</th>\n",
       "      <td>3.173017e-16</td>\n",
       "    </tr>\n",
       "    <tr>\n",
       "      <th>std</th>\n",
       "      <td>1.392615e-16</td>\n",
       "    </tr>\n",
       "    <tr>\n",
       "      <th>min</th>\n",
       "      <td>0.000000e+00</td>\n",
       "    </tr>\n",
       "    <tr>\n",
       "      <th>25%</th>\n",
       "      <td>2.220446e-16</td>\n",
       "    </tr>\n",
       "    <tr>\n",
       "      <th>50%</th>\n",
       "      <td>2.220446e-16</td>\n",
       "    </tr>\n",
       "    <tr>\n",
       "      <th>75%</th>\n",
       "      <td>4.440892e-16</td>\n",
       "    </tr>\n",
       "    <tr>\n",
       "      <th>max</th>\n",
       "      <td>8.881784e-16</td>\n",
       "    </tr>\n",
       "  </tbody>\n",
       "</table>\n",
       "</div>"
      ],
      "text/plain": [
       "              delta\n",
       "count  1.000000e+03\n",
       "mean   3.173017e-16\n",
       "std    1.392615e-16\n",
       "min    0.000000e+00\n",
       "25%    2.220446e-16\n",
       "50%    2.220446e-16\n",
       "75%    4.440892e-16\n",
       "max    8.881784e-16"
      ]
     },
     "execution_count": 420,
     "metadata": {},
     "output_type": "execute_result"
    }
   ],
   "source": [
    "import pandas as pd \n",
    "\n",
    "rows_list=[]\n",
    "for i in range(1000): \n",
    "    U = cirq.testing.random_unitary(4)\n",
    "    rows_list.append({'delta':deltaU(U)})\n",
    "    \n",
    "df = pd.DataFrame(rows_list)\n",
    "df.describe()"
   ]
  },
  {
   "cell_type": "code",
   "execution_count": 418,
   "metadata": {},
   "outputs": [
    {
     "name": "stdout",
     "output_type": "stream",
     "text": [
      "<class 'pandas.core.frame.DataFrame'>\n",
      "Index: 0 entries\n",
      "Data columns (total 1 columns):\n",
      "deltas    0 non-null float64\n",
      "dtypes: float64(1)\n",
      "memory usage: 0.0+ bytes\n"
     ]
    }
   ],
   "source": [
    "df.st()"
   ]
  },
  {
   "cell_type": "code",
   "execution_count": 467,
   "metadata": {},
   "outputs": [],
   "source": [
    "u1=np.array([[ 0.00+0.00j,  0.10+0.17j,  0.46+0.44j, -0.68+0.31j],\n",
    " [ 0.00+0.00j, -0.96-0.12j,  0.24-0.02j,  0.00+0.04j],\n",
    " [ 1.00+0.00j,  0.00+0.00j,  0.00+0.00j,  0.00+0.00j],\n",
    " [ 0.00+0.00j, -0.16+0.02j, -0.70+0.20j, -0.06+0.66j]])\n",
    "u2=np.array([[ 1.40e-16+4.06e-17j,  1.75e-01-8.32e-02j,  4.81e-01-4.18e-01j,  2.49e-01+7.03e-01j],\n",
    " [ 1.93e-17-1.11e-16j, -2.03e-01+9.47e-01j, -3.51e-03-2.45e-01j,  4.37e-02+3.73e-03j],\n",
    " [ 8.51e-02-9.96e-01j,  4.77e-17-9.54e-17j,  1.48e-16+2.64e-17j, -1.24e-16-2.38e-17j],\n",
    " [-1.06e-16-6.81e-17j,  2.93e-03+1.56e-01j,  1.40e-01+7.17e-01j,  6.54e-01+1.17e-01j]])"
   ]
  },
  {
   "cell_type": "code",
   "execution_count": 470,
   "metadata": {},
   "outputs": [
    {
     "data": {
      "text/plain": [
       "(0.007202387208699923, 0.00042145042814834, 0.007134158907906807)"
      ]
     },
     "execution_count": 470,
     "metadata": {},
     "output_type": "execute_result"
    }
   ],
   "source": [
    "deltaU(u1),deltaU(u2),deltaU(u1@u2.conj().T)"
   ]
  },
  {
   "cell_type": "code",
   "execution_count": 471,
   "metadata": {},
   "outputs": [
    {
     "data": {
      "text/plain": [
       "(0.011910405256421069, 0.0003682223186590443, 0.6515592331370403)"
      ]
     },
     "execution_count": 471,
     "metadata": {},
     "output_type": "execute_result"
    }
   ],
   "source": [
    "instab(u1),instab(u2),instab(u1@u2.conj().T)"
   ]
  },
  {
   "cell_type": "code",
   "execution_count": 472,
   "metadata": {},
   "outputs": [
    {
     "data": {
      "text/plain": [
       "(1.0242077751315439e-15, 1.1107205395762968e-15, 2.8459661733069386e-13)"
      ]
     },
     "execution_count": 472,
     "metadata": {},
     "output_type": "execute_result"
    }
   ],
   "source": [
    "instab(closest_unitary(u1)),instab(closest_unitary(u2)),instab(closest_unitary(u1)@closest_unitary(u2).conj().T)"
   ]
  },
  {
   "cell_type": "code",
   "execution_count": 954,
   "metadata": {},
   "outputs": [
    {
     "name": "stdout",
     "output_type": "stream",
     "text": [
      "4.528914820036864e-08 1.6849890762109353e-16\n",
      "7.993763044948716e-08 5.540780772063397e-16\n",
      "8.299747168998354e-08 3.7735351027649217e-16\n",
      "8.89094387414366e-07 6.132937647150558e-15\n",
      "6.412731975257779e-07 5.213391648355109e-15\n",
      "1.0691066136130816e-06 3.977014867668809e-15\n",
      "2.00439726606237e-06 1.2322825256255168e-14\n",
      "2.771647269034375e-06 1.2944300283397976e-14\n",
      "5.489913836370717e-06 4.2793460517540157e-14\n",
      "2.046387237375874e-05 1.4843876952751364e-13\n",
      "8.002971324589913e-05 2.1264933515426435e-13\n",
      "5.911346682930506e-05 2.8419974685740565e-13\n",
      "0.0005030281029214194 3.881410853702857e-12\n",
      "0.000330123157465137 2.699586510332236e-12\n",
      "0.0005815929029875805 4.707048109706665e-12\n",
      "0.0029053020287098112 2.0048849424780456e-11\n",
      "0.006103665464296466 3.6379758512775553e-11\n",
      "0.006816697701161416 1.0924784352034293e-11\n",
      "0.05013550648324178 4.4383296934407245e-10\n",
      "0.052990677252628064 5.334186427524527e-10\n",
      "0.06681317095372276 3.2331856349725694e-10\n",
      "0.4119536646332566 1.9210806279090775e-09\n",
      "0.4408025271759947 3.179761642862024e-09\n",
      "0.5648966402876449 2.5830115968425865e-09\n",
      "0.5030651737533064 2.0981901061565856e-09\n",
      "1.1720166463146795 2.3283633111825797e-09\n",
      "1.6119996864001667 5.102107145665807e-09\n"
     ]
    },
    {
     "data": {
      "text/plain": [
       "<matplotlib.legend.Legend at 0x158666490>"
      ]
     },
     "execution_count": 954,
     "metadata": {},
     "output_type": "execute_result"
    },
    {
     "data": {
      "image/png": "[encoded data removed]",
      "text/plain": [
       "<Figure size 432x288 with 1 Axes>"
      ]
     },
     "metadata": {
      "needs_background": "light"
     },
     "output_type": "display_data"
    }
   ],
   "source": [
    "import random\n",
    "\n",
    "def bins(a,b,f,tol=1e-300):\n",
    "    if f(a) == f(b):\n",
    "        raise Exception(\"Incorrect input, f(a)==f(b): {}, a={}, b={}\".format(f(a),a,b))\n",
    "    while np.abs(a-b) > tol:\n",
    "#         print(a,b,f(a),f(b))\n",
    "        mid = (a + b) / 2 \n",
    "        if f(mid): \n",
    "            b = mid \n",
    "        else: \n",
    "            a = mid \n",
    "    return (a + b) / 2 \n",
    "    \n",
    "def sensitive(M, noise, max_err=1e-15, num_samples=100): \n",
    "    num_sensitive = 0 \n",
    "    for s in range(num_samples): \n",
    "        E = (1 - np.random.rand(dim,dim) * 2 + 1.9j * np.random.rand(dim, dim)) * noise\n",
    "        d, V = np.linalg.eig(M+E)\n",
    "        if not np.allclose(V @ np.diag(d) @ V.conj().T, M+E, atol=max_err): \n",
    "            num_sensitive += 1\n",
    "    return num_sensitive > 0.9 * num_samples\n",
    "        \n",
    "    \n",
    "res = 8\n",
    "max_std = 1 \n",
    "num_samples = 3\n",
    "xs = [] \n",
    "ys = [] \n",
    "for i in range(res, -1, -1): \n",
    "    for s in range(num_samples):\n",
    "        r = lambda: np.exp(1j * 2 * np.pi * random.gauss(1, 10**(-i)))\n",
    "        r1 = r()\n",
    "        DD = np.diag([r(),r(),r(),r()]) \n",
    "        sensitivity = bins(0,1,(lambda noise: sensitive(DD,noise,1e-8)))\n",
    "        x = np.std(np.angle(np.diagonal(DD)))\n",
    "        y = sensitivity \n",
    "        print(x,y)\n",
    "        xs.append(x)\n",
    "        ys.append(y)\n",
    "\n",
    "        \n",
    "plt.scatter(xs,ys)\n",
    "plt.legend([\"std dev of eigenvalues\", \"sensitivity\"])"
   ]
  },
  {
   "cell_type": "code",
   "execution_count": 969,
   "metadata": {},
   "outputs": [
    {
     "data": {
      "text/plain": [
       "<matplotlib.collections.PathCollection at 0x151570d90>"
      ]
     },
     "execution_count": 969,
     "metadata": {},
     "output_type": "execute_result"
    },
    {
     "data": {
      "image/png": "[encoded data removed]",
      "text/plain": [
       "<Figure size 432x288 with 1 Axes>"
      ]
     },
     "metadata": {
      "needs_background": "light"
     },
     "output_type": "display_data"
    }
   ],
   "source": [
    "ax = plt.axes(xlabel=\"std dev of eigenvalues\",ylabel=\"sensitivity\")\n",
    "ax.set_xlim([1e-5,1e-1])\n",
    "ax.set_ylim([1e-13,1e-9])\n",
    "plt.yscale(\"log\")\n",
    "plt.xscale(\"log\")\n",
    "offset = 9\n",
    "plt.scatter(xs[offset:],ys[offset:],alpha=0.2, s=200)\n"
   ]
  },
  {
   "cell_type": "markdown",
   "metadata": {},
   "source": [
    "it seems that we have an issue with diagonals indeed - or the standard deviation of the eigenvalues? \n",
    "If they are all the same, I'm seeing super high noise sensitivity "
   ]
  },
  {
   "cell_type": "code",
   "execution_count": 975,
   "metadata": {},
   "outputs": [
    {
     "data": {
      "text/plain": [
       "False"
      ]
     },
     "execution_count": 975,
     "metadata": {},
     "output_type": "execute_result"
    }
   ],
   "source": [
    "d,V = np.linalg.eig(u1u2)\n",
    "np.allclose(V @ np.diag(d) @ V.conj().T, u1u2, atol=1e-15)"
   ]
  },
  {
   "cell_type": "code",
   "execution_count": 982,
   "metadata": {},
   "outputs": [
    {
     "data": {
      "text/plain": [
       "True"
      ]
     },
     "execution_count": 982,
     "metadata": {},
     "output_type": "execute_result"
    }
   ],
   "source": [
    "V = closest_unitary(V)\n",
    "np.allclose(V @ np.diag(d) @ V.conj().T, u1u2, atol=1e-15)"
   ]
  },
  {
   "cell_type": "code",
   "execution_count": 983,
   "metadata": {},
   "outputs": [
    {
     "data": {
      "text/plain": [
       "array([[ 0.9635466175+0.j          , -0.1498708881+0.1927190488j,\n",
       "        -0.0762438297+0.0762227948j,  0.0187636206+0.0009442297j],\n",
       "       [ 0.1452197622+0.1519212486j,  0.9280520126-0.0207130505j,\n",
       "        -0.1822144435-0.1631465943j,  0.0820605014+0.1660383864j],\n",
       "       [ 0.0454611337+0.0679710794j,  0.0554637562+0.0099911703j,\n",
       "         0.677684276 +0.0079295068j,  0.7283205071-0.0191715908j],\n",
       "       [-0.0347572464+0.1396933152j,  0.2426506987+0.1289693887j,\n",
       "         0.0573135033+0.6826084944j, -0.1089888212-0.6501134434j]])"
      ]
     },
     "execution_count": 983,
     "metadata": {},
     "output_type": "execute_result"
    }
   ],
   "source": [
    "V"
   ]
  },
  {
   "cell_type": "code",
   "execution_count": null,
   "metadata": {},
   "outputs": [],
   "source": []
  }
 ],
 "metadata": {
  "kernelspec": {
   "display_name": "Python 3",
   "language": "python",
   "name": "python3"
  },
  "language_info": {
   "codemirror_mode": {
    "name": "ipython",
    "version": 3
   },
   "file_extension": ".py",
   "mimetype": "text/x-python",
   "name": "python",
   "nbconvert_exporter": "python",
   "pygments_lexer": "ipython3",
   "version": "3.7.5"
  }
 },
 "nbformat": 4,
 "nbformat_minor": 2
}
