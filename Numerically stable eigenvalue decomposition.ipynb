{
 "cells": [
  {
   "cell_type": "markdown",
   "metadata": {},
   "source": [
    "Diagonalization of a matrix is a ubiquitous problem in linear algebra applications. For example in decomposing a 2 qubit unitary to its quantum circuit reprentation requires diagonalization. \n",
    "\n",
    "$$ \n",
    "U = V D V^\\dagger\n",
    "$$\n",
    "\n",
    "where $D$ is a diagonal matrix, containing the eigenvalues of $U$, $V$ is the matrix that contains the left eigenvectors of $A$ as column vectors. Unitary matrices are normal matrices, hence they are always diagonalizable. \n",
    "\n",
    "In python and the numpy package, the `np.linalg.eig` and `np.linalg.eigh` methods are to calculate $D$ and $V$. \n",
    "\n"
   ]
  },
  {
   "cell_type": "code",
   "execution_count": 17,
   "metadata": {},
   "outputs": [],
   "source": [
    "import numpy as np\n",
    "import cirq \n",
    "import matplotlib.pyplot as plt "
   ]
  },
  {
   "cell_type": "code",
   "execution_count": 18,
   "metadata": {},
   "outputs": [
    {
     "data": {
      "text/plain": [
       "array([[-0.19+0.24j,  0.33-0.19j, -0.3 -0.19j, -0.06-0.31j,  0.19+0.38j,\n",
       "        -0.02+0.12j, -0.44+0.14j,  0.05-0.35j],\n",
       "       [-0.05+0.25j,  0.31-0.17j, -0.18-0.51j,  0.31+0.26j,  0.17-0.31j,\n",
       "         0.05-0.18j,  0.4 -0.09j, -0.05-0.13j],\n",
       "       [ 0.31-0.44j,  0.09-0.19j, -0.11-0.08j,  0.21+0.09j,  0.21+0.58j,\n",
       "        -0.25-0.18j,  0.2 +0.14j, -0.03+0.23j],\n",
       "       [ 0.25-0.43j,  0.14-0.11j,  0.11-0.05j, -0.16-0.42j, -0.03-0.23j,\n",
       "         0.3 -0.36j,  0.1 +0.07j,  0.27-0.38j],\n",
       "       [ 0.17+0.18j,  0.16+0.35j,  0.  +0.39j, -0.  +0.19j,  0.38-0.j  ,\n",
       "        -0.25-0.47j, -0.17-0.3j ,  0.06-0.23j],\n",
       "       [-0.13-0.07j,  0.55-0.36j, -0.  +0.48j, -0.16+0.27j, -0.16+0.09j,\n",
       "         0.21+0.2j ,  0.18-0.25j,  0.11+0.04j],\n",
       "       [ 0.16+0.01j,  0.05-0.21j, -0.07-0.32j, -0.51+0.14j,  0.12-0.19j,\n",
       "        -0.08-0.11j, -0.33-0.18j,  0.3 +0.5j ],\n",
       "       [ 0.41-0.15j, -0.16+0.09j, -0.  -0.24j, -0.19+0.21j,  0.13+0.12j,\n",
       "         0.12+0.48j,  0.01-0.43j, -0.15-0.39j]])"
      ]
     },
     "execution_count": 18,
     "metadata": {},
     "output_type": "execute_result"
    }
   ],
   "source": [
    "np.set_printoptions(suppress=True, precision=2)\n",
    "U = cirq.testing.random_unitary(8)\n",
    "U"
   ]
  },
  {
   "cell_type": "code",
   "execution_count": 19,
   "metadata": {},
   "outputs": [
    {
     "data": {
      "text/plain": [
       "(array([ 0.05+1.j  , -0.73+0.68j,  0.87+0.5j ,  0.99-0.17j, -0.98-0.18j,\n",
       "         0.47-0.88j, -0.04-1.j  , -0.67-0.74j]),\n",
       " array([[ 0.66+0.j  ,  0.06-0.34j,  0.05-0.07j,  0.16+0.01j, -0.39+0.12j,\n",
       "          0.21-0.05j,  0.42-0.08j, -0.12-0.1j ],\n",
       "        [ 0.12+0.29j, -0.22+0.16j, -0.04+0.28j,  0.57+0.j  ,  0.24+0.2j ,\n",
       "         -0.25+0.41j,  0.04-0.17j, -0.25+0.01j],\n",
       "        [-0.1 -0.37j,  0.19+0.41j, -0.19-0.29j, -0.07+0.02j, -0.11-0.17j,\n",
       "         -0.16+0.33j,  0.44+0.08j, -0.38-0.03j],\n",
       "        [-0.28-0.j  , -0.26+0.08j, -0.  -0.15j,  0.32-0.27j, -0.11-0.03j,\n",
       "          0.08+0.03j,  0.46+0.j  ,  0.65+0.j  ],\n",
       "        [ 0.27-0.08j,  0.16+0.25j, -0.41-0.39j,  0.36+0.3j ,  0.  -0.08j,\n",
       "          0.13-0.02j, -0.42-0.11j,  0.28-0.05j],\n",
       "        [-0.13-0.22j,  0.47+0.j  ,  0.62+0.j  ,  0.27+0.07j, -0.21+0.08j,\n",
       "         -0.31+0.04j, -0.13-0.19j,  0.13-0.18j],\n",
       "        [-0.04-0.23j, -0.37-0.26j, -0.02+0.2j , -0.09+0.14j, -0.28-0.48j,\n",
       "          0.05+0.47j, -0.21-0.2j ,  0.06-0.25j],\n",
       "        [-0.13-0.18j,  0.07-0.09j,  0.15+0.07j,  0.11+0.36j,  0.57+0.j  ,\n",
       "          0.49+0.j  ,  0.24+0.02j, -0.04-0.39j]]))"
      ]
     },
     "execution_count": 19,
     "metadata": {},
     "output_type": "execute_result"
    }
   ],
   "source": [
    "d, V= np.linalg.eig(U)\n",
    "d, V"
   ]
  },
  {
   "cell_type": "code",
   "execution_count": 20,
   "metadata": {},
   "outputs": [],
   "source": [
    "np.testing.assert_allclose(V @ np.diag(d) @ V.conj().T, U)"
   ]
  },
  {
   "cell_type": "markdown",
   "metadata": {},
   "source": [
    "Great, this seems to work for random unitaries. However, for certain unitaries this starts to crumble. \n",
    "\n",
    "### The main question: what classes of matrices result in incorrect `numpy.linalg.eig` decomposition? More specifically: what kind of numerical errors cause these errors and can we correct them? "
   ]
  },
  {
   "cell_type": "markdown",
   "metadata": {},
   "source": [
    "## An example $U_1U_2^\\dagger$"
   ]
  },
  {
   "cell_type": "code",
   "execution_count": 51,
   "metadata": {},
   "outputs": [],
   "source": [
    "u2=np.array(\n",
    "[[ 6.3616870250576751e-01+7.7154998668403085e-01j,  7.4915966813003955e-18+4.2843403189465048e-17j, -1.0670468446714549e-16+1.1538031985852377e-16j,  7.2296961594819082e-19+5.4038459512872594e-18j],\n",
    " [ 8.4978997301802701e-17+1.1893895609896763e-16j,  2.2035859738533992e-01+1.1292208651931387e-01j,  6.6484970601421378e-01-7.0383935318155111e-01j, -2.2722217185744742e-02-2.7557668741074088e-02j],\n",
    " [ 1.6640839446779151e-17-3.2997465454912499e-17j, -2.2087747199836227e-01+4.4261359188593208e-01j, -1.1725777733627676e-01-1.0588094072445392e-01j,  6.1988112341373613e-01-5.8829718979630630e-01j],\n",
    " [ 1.0141542958775636e-17+6.1509405247093862e-17j, -5.6732929637545129e-02-8.3113080575242637e-01j,  1.8925770983029677e-01+4.2501678096757978e-02j,  1.4402176357197022e-01-4.9763020072181474e-01j]])\n",
    "# unitary \n",
    "np.testing.assert_allclose(u2 @ u2.conj().T, np.eye(4),atol=1e-8,rtol=1e-5)"
   ]
  },
  {
   "cell_type": "code",
   "execution_count": 53,
   "metadata": {},
   "outputs": [],
   "source": [
    "u1=np.array(\n",
    "[[ 1.0000000000000000+0.0000000000000000e+00j,  0.0000000000000000+0.0000000000000000e+00j,  0.0000000000000000+0.0000000000000000e+00j,  0.0000000000000000+0.0000000000000000e+00j],\n",
    " [ 0.0000000000000000+0.0000000000000000e+00j,  0.2273102773349319-9.8180175613134565e-02j, -0.1200906687385194-9.6072534990815506e-01j, -0.0357172823753281+8.6736173798840355e-19j],\n",
    " [ 0.0000000000000000+0.0000000000000000e+00j,  0.2009831761518099+4.5199492504062982e-01j, -0.1562881664727747+2.3112095861637594e-02j, -0.0595517189636592-8.5252553243605544e-01j],\n",
    " [ 0.0000000000000000+0.0000000000000000e+00j, -0.6773506763478407-4.8496711520170011e-01j,  0.1531920008715559-1.1898354609028339e-01j, -0.2923244362763149-4.2769674888704595e-01j]]\n",
    ")\n",
    "# unitary \n",
    "np.testing.assert_allclose(u1 @ u1.conj().T, np.eye(4),atol=1e-8,rtol=1e-5)"
   ]
  },
  {
   "cell_type": "code",
   "execution_count": 69,
   "metadata": {},
   "outputs": [
    {
     "data": {
      "text/plain": [
       "array([[ 0.6361687025057675-0.7715499866840309j,\n",
       "         0.0000000000000001-0.0000000000000001j,\n",
       "         0.                +0.j                ,\n",
       "         0.                -0.0000000000000001j],\n",
       "       [-0.0000000000000001+0.0000000000000001j,\n",
       "         0.6361687025057675-0.7715499866840307j,\n",
       "         0.                +0.j                ,\n",
       "         0.0000000000000003-0.j                ],\n",
       "       [ 0.                +0.j                ,\n",
       "        -0.0000000000000001+0.0000000000000003j,\n",
       "         0.6361687025057672-0.771549986684031j ,\n",
       "        -0.0000000000000003-0.0000000000000001j],\n",
       "       [-0.0000000000000001+0.j                ,\n",
       "        -0.0000000000000001-0.0000000000000001j,\n",
       "         0.0000000000000003+0.j                ,\n",
       "         0.6361687025057673-0.7715499866840306j]])"
      ]
     },
     "execution_count": 69,
     "metadata": {},
     "output_type": "execute_result"
    }
   ],
   "source": [
    "u1u2 = u1 @ u2.conj().T\n",
    "# unitary \n",
    "np.testing.assert_allclose(u1u2 @ u1u2.conj().T, np.eye(4),atol=1e-8,rtol=1e-5)\n",
    "np.set_printoptions(precision=16)\n",
    "u1u2"
   ]
  },
  {
   "cell_type": "code",
   "execution_count": 55,
   "metadata": {},
   "outputs": [
    {
     "data": {
      "text/plain": [
       "array([[1.                        , 0.00000000000000014617765 ,\n",
       "        0.000000000000000036956059, 0.000000000000000062339857],\n",
       "       [0.00000000000000014617765 , 0.9999999999999999        ,\n",
       "        0.000000000000000013877788, 0.000000000000000320393611],\n",
       "       [0.000000000000000036956059, 0.000000000000000327306971,\n",
       "        0.9999999999999998        , 0.000000000000000297968741],\n",
       "       [0.000000000000000062339857, 0.000000000000000172358549,\n",
       "        0.00000000000000028449465 , 0.9999999999999997        ]])"
      ]
     },
     "execution_count": 55,
     "metadata": {},
     "output_type": "execute_result"
    }
   ],
   "source": [
    "np.abs(u1u2)"
   ]
  },
  {
   "cell_type": "code",
   "execution_count": 25,
   "metadata": {},
   "outputs": [],
   "source": [
    "cirq.testing.assert_allclose_up_to_global_phase(u1u2, np.eye(4), atol=1e-15)"
   ]
  },
  {
   "cell_type": "code",
   "execution_count": 61,
   "metadata": {},
   "outputs": [
    {
     "name": "stdout",
     "output_type": "stream",
     "text": [
      "[0.6361687025-0.7715499867j 0.6361687025-0.7715499867j\n",
      " 0.6361687025-0.7715499867j 0.6361687025-0.7715499867j]\n",
      "[[ 1.          +0.j           -0.2690027164+0.3765036455j\n",
      "  -0.17834095  +0.10973952j    0.0362832771-0.0323730974j]\n",
      " [ 0.          +0.j            0.7942486348+0.j\n",
      "  -0.2250799327+0.0329068331j -0.0468730662+0.2252372828j]\n",
      " [ 0.          +0.j           -0.0933180212-0.1777973893j\n",
      "   0.6877451266+0.j            0.7501951547+0.j          ]\n",
      " [ 0.          +0.j            0.3039658387+0.1494531827j\n",
      "  -0.0077669823+0.6567756256j -0.1615394724-0.5965055047j]]\n"
     ]
    },
    {
     "ename": "AssertionError",
     "evalue": "\nNot equal to tolerance rtol=1e-07, atol=1e-05\n\nMismatch: 100%\nMax absolute difference: 0.424860212\nMax relative difference: 0.2644963524\n x: array([[ 1.26033 +0.j      , -0.178895+0.273551j, -0.137272-0.031776j,\n         0.061411+0.297798j],\n       [-0.178895-0.273551j,  0.735504+0.j      , -0.264079+0.332819j,...\n y: array([[1., 0., 0., 0.],\n       [0., 1., 0., 0.],\n       [0., 0., 1., 0.],\n       [0., 0., 0., 1.]])",
     "output_type": "error",
     "traceback": [
      "\u001b[0;31m---------------------------------------------------------------------------\u001b[0m",
      "\u001b[0;31mAssertionError\u001b[0m                            Traceback (most recent call last)",
      "\u001b[0;32m<ipython-input-61-afa02592ef67>\u001b[0m in \u001b[0;36m<module>\u001b[0;34m\u001b[0m\n\u001b[1;32m      3\u001b[0m \u001b[0mprint\u001b[0m\u001b[0;34m(\u001b[0m\u001b[0md\u001b[0m\u001b[0;34m)\u001b[0m\u001b[0;34m\u001b[0m\u001b[0;34m\u001b[0m\u001b[0m\n\u001b[1;32m      4\u001b[0m \u001b[0mprint\u001b[0m\u001b[0;34m(\u001b[0m\u001b[0mV\u001b[0m\u001b[0;34m)\u001b[0m\u001b[0;34m\u001b[0m\u001b[0;34m\u001b[0m\u001b[0m\n\u001b[0;32m----> 5\u001b[0;31m \u001b[0mnp\u001b[0m\u001b[0;34m.\u001b[0m\u001b[0mtesting\u001b[0m\u001b[0;34m.\u001b[0m\u001b[0massert_allclose\u001b[0m\u001b[0;34m(\u001b[0m\u001b[0mV\u001b[0m \u001b[0;34m@\u001b[0m \u001b[0mV\u001b[0m\u001b[0;34m.\u001b[0m\u001b[0mconj\u001b[0m\u001b[0;34m(\u001b[0m\u001b[0;34m)\u001b[0m\u001b[0;34m.\u001b[0m\u001b[0mT\u001b[0m\u001b[0;34m,\u001b[0m \u001b[0mnp\u001b[0m\u001b[0;34m.\u001b[0m\u001b[0meye\u001b[0m\u001b[0;34m(\u001b[0m\u001b[0;36m4\u001b[0m\u001b[0;34m)\u001b[0m\u001b[0;34m,\u001b[0m \u001b[0matol\u001b[0m\u001b[0;34m=\u001b[0m\u001b[0;36m1e-5\u001b[0m\u001b[0;34m)\u001b[0m\u001b[0;34m\u001b[0m\u001b[0;34m\u001b[0m\u001b[0m\n\u001b[0m\u001b[1;32m      6\u001b[0m \u001b[0;31m# np.testing.assert_allclose(V @ np.diag(d) @ V.conj().T, u1u2, atol=1e-5)\u001b[0m\u001b[0;34m\u001b[0m\u001b[0;34m\u001b[0m\u001b[0;34m\u001b[0m\u001b[0m\n",
      "\u001b[0;32m~/envs/cirq37/lib/python3.7/site-packages/numpy/testing/_private/utils.py\u001b[0m in \u001b[0;36massert_allclose\u001b[0;34m(actual, desired, rtol, atol, equal_nan, err_msg, verbose)\u001b[0m\n\u001b[1;32m   1513\u001b[0m     \u001b[0mheader\u001b[0m \u001b[0;34m=\u001b[0m \u001b[0;34m'Not equal to tolerance rtol=%g, atol=%g'\u001b[0m \u001b[0;34m%\u001b[0m \u001b[0;34m(\u001b[0m\u001b[0mrtol\u001b[0m\u001b[0;34m,\u001b[0m \u001b[0matol\u001b[0m\u001b[0;34m)\u001b[0m\u001b[0;34m\u001b[0m\u001b[0;34m\u001b[0m\u001b[0m\n\u001b[1;32m   1514\u001b[0m     assert_array_compare(compare, actual, desired, err_msg=str(err_msg),\n\u001b[0;32m-> 1515\u001b[0;31m                          verbose=verbose, header=header, equal_nan=equal_nan)\n\u001b[0m\u001b[1;32m   1516\u001b[0m \u001b[0;34m\u001b[0m\u001b[0m\n\u001b[1;32m   1517\u001b[0m \u001b[0;34m\u001b[0m\u001b[0m\n",
      "\u001b[0;32m~/envs/cirq37/lib/python3.7/site-packages/numpy/testing/_private/utils.py\u001b[0m in \u001b[0;36massert_array_compare\u001b[0;34m(comparison, x, y, err_msg, verbose, header, precision, equal_nan, equal_inf)\u001b[0m\n\u001b[1;32m    839\u001b[0m                                 \u001b[0mverbose\u001b[0m\u001b[0;34m=\u001b[0m\u001b[0mverbose\u001b[0m\u001b[0;34m,\u001b[0m \u001b[0mheader\u001b[0m\u001b[0;34m=\u001b[0m\u001b[0mheader\u001b[0m\u001b[0;34m,\u001b[0m\u001b[0;34m\u001b[0m\u001b[0;34m\u001b[0m\u001b[0m\n\u001b[1;32m    840\u001b[0m                                 names=('x', 'y'), precision=precision)\n\u001b[0;32m--> 841\u001b[0;31m             \u001b[0;32mraise\u001b[0m \u001b[0mAssertionError\u001b[0m\u001b[0;34m(\u001b[0m\u001b[0mmsg\u001b[0m\u001b[0;34m)\u001b[0m\u001b[0;34m\u001b[0m\u001b[0;34m\u001b[0m\u001b[0m\n\u001b[0m\u001b[1;32m    842\u001b[0m     \u001b[0;32mexcept\u001b[0m \u001b[0mValueError\u001b[0m\u001b[0;34m:\u001b[0m\u001b[0;34m\u001b[0m\u001b[0;34m\u001b[0m\u001b[0m\n\u001b[1;32m    843\u001b[0m         \u001b[0;32mimport\u001b[0m \u001b[0mtraceback\u001b[0m\u001b[0;34m\u001b[0m\u001b[0;34m\u001b[0m\u001b[0m\n",
      "\u001b[0;31mAssertionError\u001b[0m: \nNot equal to tolerance rtol=1e-07, atol=1e-05\n\nMismatch: 100%\nMax absolute difference: 0.424860212\nMax relative difference: 0.2644963524\n x: array([[ 1.26033 +0.j      , -0.178895+0.273551j, -0.137272-0.031776j,\n         0.061411+0.297798j],\n       [-0.178895-0.273551j,  0.735504+0.j      , -0.264079+0.332819j,...\n y: array([[1., 0., 0., 0.],\n       [0., 1., 0., 0.],\n       [0., 0., 1., 0.],\n       [0., 0., 0., 1.]])"
     ]
    }
   ],
   "source": [
    "d, V = np.linalg.eig(u1u2)\n",
    "np.set_printoptions(precision=10)\n",
    "print(d)\n",
    "print(V)\n",
    "np.testing.assert_allclose(V @ V.conj().T, np.eye(4), atol=1e-5)\n",
    "np.testing.assert_allclose(V @ np.diag(d) @ V.conj().T, u1u2, atol=1e-5)"
   ]
  },
  {
   "cell_type": "code",
   "execution_count": 27,
   "metadata": {},
   "outputs": [],
   "source": [
    "# Does similarity keep this or only diagonals have this issue? \n",
    "\n"
   ]
  },
  {
   "cell_type": "markdown",
   "metadata": {},
   "source": [
    "**Definition**: Instability - $instab(U) = \\vert\\vert{U-VDV^\\dagger}\\vert\\vert$"
   ]
  },
  {
   "cell_type": "code",
   "execution_count": 28,
   "metadata": {},
   "outputs": [],
   "source": [
    "def instab(M): \n",
    "    '''instability of a matrix \n",
    "    Returns the Frobenius norm of the difference of the original matrix and the dot product of the \n",
    "    decomposed matrices. \n",
    "    '''\n",
    "    d,V = np.linalg.eig(M)\n",
    "    return np.linalg.norm(V @ np.diag(d) @ V.conj().T - M) / np.linalg.norm(M)"
   ]
  },
  {
   "cell_type": "code",
   "execution_count": 38,
   "metadata": {},
   "outputs": [
    {
     "name": "stdout",
     "output_type": "stream",
     "text": [
      "instability of random unitary:  6.368868976610029e-16\n",
      "instability of u1u2:  0.5143889430443426\n",
      "[[ 0.6361687025-0.7715499867j  0.          -0.j\n",
      "   0.          +0.j            0.          -0.j          ]\n",
      " [-0.          +0.j            0.6361687025-0.7715499867j\n",
      "   0.          +0.j            0.          -0.j          ]\n",
      " [ 0.          +0.j           -0.          +0.j\n",
      "   0.6361687025-0.7715499867j -0.          -0.j          ]\n",
      " [-0.          +0.j           -0.          -0.j\n",
      "   0.          +0.j            0.6361687025-0.7715499867j]]\n",
      "[[ 0.6361687025-0.7715499867j -0.          -0.j\n",
      "   0.          +0.j            0.          +0.j          ]\n",
      " [-0.          +0.j            0.6361687025-0.7715499867j\n",
      "   0.          +0.j           -0.          +0.j          ]\n",
      " [-0.          -0.j            0.          +0.j\n",
      "   0.6361687025-0.7715499867j  0.          +0.j          ]\n",
      " [-0.          -0.j           -0.          -0.j\n",
      "  -0.          +0.j            0.6361687025-0.7715499867j]]\n",
      "[[ 0.5452706253+0.0492272434j -0.2035441597-0.4028348621j\n",
      "  -0.111523551 +0.2536369545j  0.4754691624+0.4401253697j]\n",
      " [-0.0275597692-0.0380889488j -0.2906108253-0.6098246035j\n",
      "  -0.3139155667-0.5714648538j -0.064235295 -0.3349742632j]\n",
      " [-0.2985572784-0.2704486791j -0.2525402591-0.4733763333j\n",
      "   0.475696828 +0.3127706932j -0.4124246679+0.2359072755j]\n",
      " [-0.3373381735+0.6495924376j -0.0932862867-0.2083004643j\n",
      "   0.0677459632+0.4115983921j  0.2735755003-0.4040976376j]]\n"
     ]
    }
   ],
   "source": [
    "U = cirq.testing.random_unitary(4)\n",
    "print(\"instability of random unitary: \", instab(U))\n",
    "print(\"instability of u1u2: \", instab(u1u2))\n",
    "\n",
    "print(u1u2)\n",
    "print(U.conj().T @ u1u2 @ U)\n",
    "print(U)"
   ]
  },
  {
   "cell_type": "markdown",
   "metadata": {},
   "source": [
    "**Diagonal sensitivity hypothesis**: The \"more diagonal\" the matrix is, the more sensitive it is noise. \n",
    "How diagonal is a matrix: Pearson coeff of rows and cols of the abs of the matrix? \n",
    "https://math.stackexchange.com/questions/1392491/measure-of-how-much-diagonal-a-matrix-is\n"
   ]
  },
  {
   "cell_type": "code",
   "execution_count": 16,
   "metadata": {},
   "outputs": [
    {
     "ename": "SyntaxError",
     "evalue": "invalid syntax (<ipython-input-16-d05a1124bec3>, line 1)",
     "output_type": "error",
     "traceback": [
      "\u001b[0;36m  File \u001b[0;32m\"<ipython-input-16-d05a1124bec3>\"\u001b[0;36m, line \u001b[0;32m1\u001b[0m\n\u001b[0;31m    Definition: Unitarity -\u001b[0m\n\u001b[0m                            ^\u001b[0m\n\u001b[0;31mSyntaxError\u001b[0m\u001b[0;31m:\u001b[0m invalid syntax\n"
     ]
    }
   ],
   "source": [
    "Definition: Unitarity - "
   ]
  },
  {
   "cell_type": "code",
   "execution_count": 17,
   "metadata": {},
   "outputs": [
    {
     "name": "stdout",
     "output_type": "stream",
     "text": [
      "diagonality of random matrix:  0.005538920572517248\n",
      "diagonality of u1u2:  0.9999999999999997\n"
     ]
    }
   ],
   "source": [
    "def how_diag(U):\n",
    "    A = np.abs(U)\n",
    "    d = len(U)\n",
    "    j = np.ones((d))\n",
    "    r = np.array([i+1 for i in range(d)])\n",
    "    r2 = r**2\n",
    "\n",
    "    n=j @ A @ j.T\n",
    "    sumx= r @ A @ j.T\n",
    "    sumy= j @ A @ r.T\n",
    "    sumx2 = r2 @ A @ j.T\n",
    "    sumy2 = j @ A @ r2.T\n",
    "    sumxy = r @ A @ r.T\n",
    "\n",
    "    return (n*sumxy-sumx*sumy) / (np.sqrt(n*sumx2 - sumx**2)*np.sqrt(n*sumy2 - sumy**2))\n",
    "\n",
    "print(\"diagonality of random matrix: \", how_diag(U))\n",
    "print(\"diagonality of u1u2: \", how_diag(u1u2))"
   ]
  },
  {
   "cell_type": "markdown",
   "metadata": {},
   "source": [
    "**Idea**: We can generate grades of \"diagonality\" via the eigenvalue \"rotation\" from a random unitaries eigenvalue decomposition."
   ]
  },
  {
   "cell_type": "code",
   "execution_count": 18,
   "metadata": {},
   "outputs": [
    {
     "ename": "NameError",
     "evalue": "name 'deltaU' is not defined",
     "output_type": "error",
     "traceback": [
      "\u001b[0;31m---------------------------------------------------------------------------\u001b[0m",
      "\u001b[0;31mNameError\u001b[0m                                 Traceback (most recent call last)",
      "\u001b[0;32m<ipython-input-18-78f0ce263001>\u001b[0m in \u001b[0;36m<module>\u001b[0;34m\u001b[0m\n\u001b[1;32m     14\u001b[0m     \u001b[0mrot\u001b[0m \u001b[0;34m=\u001b[0m \u001b[0;36m0.99\u001b[0m \u001b[0;34m+\u001b[0m \u001b[0mi\u001b[0m\u001b[0;34m/\u001b[0m\u001b[0mres\u001b[0m\u001b[0;34m/\u001b[0m\u001b[0;36m100\u001b[0m\u001b[0;34m\u001b[0m\u001b[0;34m\u001b[0m\u001b[0m\n\u001b[1;32m     15\u001b[0m     \u001b[0mM\u001b[0m \u001b[0;34m=\u001b[0m \u001b[0mfpow\u001b[0m\u001b[0;34m(\u001b[0m\u001b[0mV\u001b[0m\u001b[0;34m.\u001b[0m\u001b[0mconj\u001b[0m\u001b[0;34m(\u001b[0m\u001b[0;34m)\u001b[0m\u001b[0;34m.\u001b[0m\u001b[0mT\u001b[0m\u001b[0;34m,\u001b[0m \u001b[0mrot\u001b[0m\u001b[0;34m)\u001b[0m \u001b[0;34m@\u001b[0m \u001b[0mstart\u001b[0m \u001b[0;34m@\u001b[0m \u001b[0mfpow\u001b[0m\u001b[0;34m(\u001b[0m\u001b[0mV\u001b[0m\u001b[0;34m,\u001b[0m\u001b[0mrot\u001b[0m\u001b[0;34m)\u001b[0m\u001b[0;34m\u001b[0m\u001b[0;34m\u001b[0m\u001b[0m\n\u001b[0;32m---> 16\u001b[0;31m     \u001b[0mc\u001b[0m \u001b[0;34m=\u001b[0m \u001b[0mdeltaU\u001b[0m\u001b[0;34m(\u001b[0m\u001b[0mM\u001b[0m\u001b[0;34m)\u001b[0m\u001b[0;34m\u001b[0m\u001b[0;34m\u001b[0m\u001b[0m\n\u001b[0m\u001b[1;32m     17\u001b[0m     \u001b[0mx\u001b[0m \u001b[0;34m=\u001b[0m \u001b[0mrot\u001b[0m\u001b[0;34m\u001b[0m\u001b[0;34m\u001b[0m\u001b[0m\n\u001b[1;32m     18\u001b[0m     \u001b[0my\u001b[0m \u001b[0;34m=\u001b[0m \u001b[0mhow_diag\u001b[0m\u001b[0;34m(\u001b[0m\u001b[0mM\u001b[0m\u001b[0;34m)\u001b[0m\u001b[0;34m\u001b[0m\u001b[0;34m\u001b[0m\u001b[0m\n",
      "\u001b[0;31mNameError\u001b[0m: name 'deltaU' is not defined"
     ]
    }
   ],
   "source": [
    "from scipy.linalg import fractional_matrix_power as fpow\n",
    "\n",
    "dim = 4\n",
    "start = cirq.testing.random_unitary(4)\n",
    "d,V = np.linalg.eig(start) \n",
    "np.testing.assert_array_almost_equal(V @ np.diag(d) @ V.conj().T, start)\n",
    "\n",
    "res = 1000\n",
    "xs=[]\n",
    "ys=[]\n",
    "cs=[]\n",
    "Ms=[]\n",
    "for i in range(res+1):\n",
    "    rot = 0.99 + i/res/100\n",
    "    M = fpow(V.conj().T, rot) @ start @ fpow(V,rot)\n",
    "    c = deltaU(M)\n",
    "    x = rot\n",
    "    y = how_diag(M)\n",
    "    xs.append(x)\n",
    "    ys.append(y)\n",
    "    cs.append(c)\n",
    "    Ms.append(M)\n",
    "    \n",
    "plt.axes(xlabel=\"rotation\",ylabel=\"diagonality\")\n",
    "plt.scatter(xs,ys,c=cs,cmap=\"magma\",alpha=0.3,s=1)\n",
    "plt.colorbar().set_label('Unitary distance')\n",
    "print(M)\n",
    "print(np.angle(M.diagonal()))\n",
    "print(rot)\n",
    "np.set_printoptions(precision=20)\n",
    "print(V.conj().T @ start @ V)"
   ]
  },
  {
   "cell_type": "code",
   "execution_count": 19,
   "metadata": {},
   "outputs": [
    {
     "name": "stdout",
     "output_type": "stream",
     "text": [
      "0.0004971306373738552\n"
     ]
    },
    {
     "ename": "IndexError",
     "evalue": "list index out of range",
     "output_type": "error",
     "traceback": [
      "\u001b[0;31m---------------------------------------------------------------------------\u001b[0m",
      "\u001b[0;31mIndexError\u001b[0m                                Traceback (most recent call last)",
      "\u001b[0;32m<ipython-input-19-82ec82bacb76>\u001b[0m in \u001b[0;36m<module>\u001b[0;34m\u001b[0m\n\u001b[1;32m      6\u001b[0m \u001b[0;32mfor\u001b[0m \u001b[0mi\u001b[0m \u001b[0;32min\u001b[0m \u001b[0mrange\u001b[0m\u001b[0;34m(\u001b[0m\u001b[0mres\u001b[0m\u001b[0;34m+\u001b[0m\u001b[0;36m1\u001b[0m\u001b[0;34m)\u001b[0m\u001b[0;34m:\u001b[0m\u001b[0;34m\u001b[0m\u001b[0;34m\u001b[0m\u001b[0m\n\u001b[1;32m      7\u001b[0m     \u001b[0mrot\u001b[0m \u001b[0;34m=\u001b[0m \u001b[0mi\u001b[0m\u001b[0;34m/\u001b[0m\u001b[0mres\u001b[0m\u001b[0;34m\u001b[0m\u001b[0;34m\u001b[0m\u001b[0m\n\u001b[0;32m----> 8\u001b[0;31m     \u001b[0mM\u001b[0m \u001b[0;34m=\u001b[0m \u001b[0mMs\u001b[0m\u001b[0;34m[\u001b[0m\u001b[0mi\u001b[0m\u001b[0;34m]\u001b[0m\u001b[0;34m\u001b[0m\u001b[0;34m\u001b[0m\u001b[0m\n\u001b[0m\u001b[1;32m      9\u001b[0m     \u001b[0mMe\u001b[0m \u001b[0;34m=\u001b[0m \u001b[0mM\u001b[0m \u001b[0;34m+\u001b[0m \u001b[0mE\u001b[0m\u001b[0;34m\u001b[0m\u001b[0;34m\u001b[0m\u001b[0m\n\u001b[1;32m     10\u001b[0m     \u001b[0mx\u001b[0m \u001b[0;34m=\u001b[0m \u001b[0mys\u001b[0m\u001b[0;34m[\u001b[0m\u001b[0mi\u001b[0m\u001b[0;34m]\u001b[0m\u001b[0;34m\u001b[0m\u001b[0;34m\u001b[0m\u001b[0m\n",
      "\u001b[0;31mIndexError\u001b[0m: list index out of range"
     ]
    }
   ],
   "source": [
    "E = (np.random.rand(dim,dim) + 1.9j * np.random.rand(dim, dim))*1e-4\n",
    "print(np.linalg.norm(E))\n",
    "xs2=[]\n",
    "ys2=[]\n",
    "cs2=cs\n",
    "for i in range(res+1):\n",
    "    rot = i/res\n",
    "    M = Ms[i]\n",
    "    Me = M + E\n",
    "    x = ys[i]\n",
    "    y = instab(Me)\n",
    "    xs2.append(x)\n",
    "    ys2.append(y)\n",
    "    \n",
    "plt.axes(xlabel=\"diagonality\",ylabel=\"instability\")\n",
    "plt.scatter(xs2,ys2,c=cs2,cmap=\"magma\",alpha=0.3,s=1)\n",
    "plt.colorbar().set_label('Unitary distance')\n"
   ]
  },
  {
   "cell_type": "markdown",
   "metadata": {},
   "source": [
    "Huh, I think we have to find the closest unitary matrix! Look at that: https://michaelgoerz.net/notes/finding-the-closest-unitary-for-a-given-matrix.html"
   ]
  },
  {
   "cell_type": "code",
   "execution_count": 20,
   "metadata": {},
   "outputs": [],
   "source": [
    "def delta_uni(A):\n",
    "    \"\"\" Assuming that A is a matrix obtained from projecting a unitary matrix\n",
    "        to a smaller subspace, return the loss of population of subspace, as a\n",
    "        distance measure of A from unitarity.\n",
    "\n",
    "        Result is in [0,1], with 0 if A is unitary.\n",
    "    \"\"\"\n",
    "    return 1.0 - np.real(np.trace((A.conj().T @ A))) / len(A)"
   ]
  },
  {
   "cell_type": "code",
   "execution_count": 21,
   "metadata": {},
   "outputs": [
    {
     "ename": "NameError",
     "evalue": "name 'deltaU' is not defined",
     "output_type": "error",
     "traceback": [
      "\u001b[0;31m---------------------------------------------------------------------------\u001b[0m",
      "\u001b[0;31mNameError\u001b[0m                                 Traceback (most recent call last)",
      "\u001b[0;32m<ipython-input-21-4fcccefcb11e>\u001b[0m in \u001b[0;36m<module>\u001b[0;34m\u001b[0m\n\u001b[0;32m----> 1\u001b[0;31m \u001b[0mdeltaU\u001b[0m\u001b[0;34m(\u001b[0m\u001b[0mstart\u001b[0m\u001b[0;34m)\u001b[0m\u001b[0;34m\u001b[0m\u001b[0;34m\u001b[0m\u001b[0m\n\u001b[0m",
      "\u001b[0;31mNameError\u001b[0m: name 'deltaU' is not defined"
     ]
    }
   ],
   "source": [
    "deltaU(start)"
   ]
  },
  {
   "cell_type": "code",
   "execution_count": 22,
   "metadata": {},
   "outputs": [],
   "source": [
    "def closest_unitary(A):\n",
    "    \"\"\" Calculate the unitary matrix U that is closest with respect to the\n",
    "        operator norm distance to the general matrix A.\n",
    "\n",
    "        Return U as a numpy matrix.\n",
    "    \"\"\"\n",
    "    V, __, Wh = np.linalg.svd(A)\n",
    "    U = np.array(V.dot(Wh))\n",
    "    return U\n",
    "\n",
    "def deltaU(A):\n",
    "    \"\"\" Calculate the operator norm distance \\Vert\\hat{A} - \\hat{U}\\Vert between\n",
    "        an arbitrary matrix $\\hat{A}$ and the closest unitary matrix $\\hat{U}$\n",
    "    \"\"\"\n",
    "    __, S, __ = np.linalg.svd(A)\n",
    "    d = 0.0\n",
    "    for s in S:\n",
    "        if abs(s - 1.0) > d:\n",
    "            d = abs(s-1.0)\n",
    "    return d\n"
   ]
  },
  {
   "cell_type": "code",
   "execution_count": 23,
   "metadata": {},
   "outputs": [
    {
     "ename": "ValueError",
     "evalue": "operands could not be broadcast together with shapes (8,8) (4,4) ",
     "output_type": "error",
     "traceback": [
      "\u001b[0;31m---------------------------------------------------------------------------\u001b[0m",
      "\u001b[0;31mValueError\u001b[0m                                Traceback (most recent call last)",
      "\u001b[0;32m<ipython-input-23-d1d0cb95935f>\u001b[0m in \u001b[0;36m<module>\u001b[0;34m\u001b[0m\n\u001b[0;32m----> 1\u001b[0;31m \u001b[0mclosest_unitary\u001b[0m\u001b[0;34m(\u001b[0m\u001b[0mU\u001b[0m\u001b[0;34m+\u001b[0m\u001b[0mE\u001b[0m\u001b[0;34m)\u001b[0m\u001b[0;34m\u001b[0m\u001b[0;34m\u001b[0m\u001b[0m\n\u001b[0m",
      "\u001b[0;31mValueError\u001b[0m: operands could not be broadcast together with shapes (8,8) (4,4) "
     ]
    }
   ],
   "source": [
    "closest_unitary(U+E)"
   ]
  },
  {
   "cell_type": "code",
   "execution_count": 24,
   "metadata": {},
   "outputs": [
    {
     "ename": "ValueError",
     "evalue": "operands could not be broadcast together with shapes (8,8) (4,4) ",
     "output_type": "error",
     "traceback": [
      "\u001b[0;31m---------------------------------------------------------------------------\u001b[0m",
      "\u001b[0;31mValueError\u001b[0m                                Traceback (most recent call last)",
      "\u001b[0;32m<ipython-input-24-f11c5a330146>\u001b[0m in \u001b[0;36m<module>\u001b[0;34m\u001b[0m\n\u001b[0;32m----> 1\u001b[0;31m \u001b[0mdeltaU\u001b[0m\u001b[0;34m(\u001b[0m\u001b[0mU\u001b[0m\u001b[0;34m+\u001b[0m\u001b[0mE\u001b[0m\u001b[0;34m)\u001b[0m\u001b[0;34m\u001b[0m\u001b[0;34m\u001b[0m\u001b[0m\n\u001b[0m",
      "\u001b[0;31mValueError\u001b[0m: operands could not be broadcast together with shapes (8,8) (4,4) "
     ]
    }
   ],
   "source": [
    "deltaU(U+E)"
   ]
  },
  {
   "cell_type": "code",
   "execution_count": 25,
   "metadata": {},
   "outputs": [],
   "source": [
    "u1u2 = np.array([[ 8.51e-02+9.96e-01j,  2.46e-16-2.47e-16j , 1.45e-16+1.63e-17j ,-1.66e-16-3.09e-16j],\n",
    " [ 2.84e-16+2.01e-16j,  8.51e-02+9.96e-01j , 3.76e-16-2.04e-16j , 3.47e-16+2.05e-16j],\n",
    " [ 1.40e-16-4.06e-17j,  1.18e-16+1.34e-16j , 8.51e-02+9.96e-01j ,-1.08e-16+5.69e-17j],\n",
    " [-1.11e-16+3.33e-16j,  2.91e-16-2.15e-16j ,-1.23e-16-6.24e-18j , 8.51e-02+9.96e-01j]])"
   ]
  },
  {
   "cell_type": "code",
   "execution_count": 26,
   "metadata": {},
   "outputs": [
    {
     "data": {
      "text/plain": [
       "array([[ 0.0851315893+0.9963697168j,  0.          -0.j          ,\n",
       "         0.          +0.j          , -0.          -0.j          ],\n",
       "       [ 0.          +0.j          ,  0.0851315893+0.9963697168j,\n",
       "         0.          -0.j          ,  0.          +0.j          ],\n",
       "       [ 0.          -0.j          ,  0.          +0.j          ,\n",
       "         0.0851315893+0.9963697168j,  0.          +0.j          ],\n",
       "       [-0.          +0.j          ,  0.          -0.j          ,\n",
       "        -0.          -0.j          ,  0.0851315893+0.9963697168j]])"
      ]
     },
     "execution_count": 26,
     "metadata": {},
     "output_type": "execute_result"
    }
   ],
   "source": [
    "closest_unitary(u1u2)"
   ]
  },
  {
   "cell_type": "code",
   "execution_count": 27,
   "metadata": {},
   "outputs": [
    {
     "ename": "NameError",
     "evalue": "name 'instab' is not defined",
     "output_type": "error",
     "traceback": [
      "\u001b[0;31m---------------------------------------------------------------------------\u001b[0m",
      "\u001b[0;31mNameError\u001b[0m                                 Traceback (most recent call last)",
      "\u001b[0;32m<ipython-input-27-444b007164e2>\u001b[0m in \u001b[0;36m<module>\u001b[0;34m\u001b[0m\n\u001b[0;32m----> 1\u001b[0;31m \u001b[0minstab\u001b[0m\u001b[0;34m(\u001b[0m\u001b[0mu1u2\u001b[0m\u001b[0;34m)\u001b[0m\u001b[0;34m\u001b[0m\u001b[0;34m\u001b[0m\u001b[0m\n\u001b[0m",
      "\u001b[0;31mNameError\u001b[0m: name 'instab' is not defined"
     ]
    }
   ],
   "source": [
    "instab(u1u2)"
   ]
  },
  {
   "cell_type": "code",
   "execution_count": 28,
   "metadata": {},
   "outputs": [
    {
     "data": {
      "text/html": [
       "<div>\n",
       "<style scoped>\n",
       "    .dataframe tbody tr th:only-of-type {\n",
       "        vertical-align: middle;\n",
       "    }\n",
       "\n",
       "    .dataframe tbody tr th {\n",
       "        vertical-align: top;\n",
       "    }\n",
       "\n",
       "    .dataframe thead th {\n",
       "        text-align: right;\n",
       "    }\n",
       "</style>\n",
       "<table border=\"1\" class=\"dataframe\">\n",
       "  <thead>\n",
       "    <tr style=\"text-align: right;\">\n",
       "      <th></th>\n",
       "      <th>delta</th>\n",
       "    </tr>\n",
       "  </thead>\n",
       "  <tbody>\n",
       "    <tr>\n",
       "      <th>count</th>\n",
       "      <td>1.000000e+03</td>\n",
       "    </tr>\n",
       "    <tr>\n",
       "      <th>mean</th>\n",
       "      <td>3.216316e-16</td>\n",
       "    </tr>\n",
       "    <tr>\n",
       "      <th>std</th>\n",
       "      <td>1.417447e-16</td>\n",
       "    </tr>\n",
       "    <tr>\n",
       "      <th>min</th>\n",
       "      <td>0.000000e+00</td>\n",
       "    </tr>\n",
       "    <tr>\n",
       "      <th>25%</th>\n",
       "      <td>2.220446e-16</td>\n",
       "    </tr>\n",
       "    <tr>\n",
       "      <th>50%</th>\n",
       "      <td>2.220446e-16</td>\n",
       "    </tr>\n",
       "    <tr>\n",
       "      <th>75%</th>\n",
       "      <td>4.440892e-16</td>\n",
       "    </tr>\n",
       "    <tr>\n",
       "      <th>max</th>\n",
       "      <td>8.881784e-16</td>\n",
       "    </tr>\n",
       "  </tbody>\n",
       "</table>\n",
       "</div>"
      ],
      "text/plain": [
       "              delta\n",
       "count  1.000000e+03\n",
       "mean   3.216316e-16\n",
       "std    1.417447e-16\n",
       "min    0.000000e+00\n",
       "25%    2.220446e-16\n",
       "50%    2.220446e-16\n",
       "75%    4.440892e-16\n",
       "max    8.881784e-16"
      ]
     },
     "execution_count": 28,
     "metadata": {},
     "output_type": "execute_result"
    }
   ],
   "source": [
    "import pandas as pd \n",
    "\n",
    "rows_list=[]\n",
    "for i in range(1000): \n",
    "    U = cirq.testing.random_unitary(4)\n",
    "    rows_list.append({'delta':deltaU(U)})\n",
    "    \n",
    "df = pd.DataFrame(rows_list)\n",
    "df.describe()"
   ]
  },
  {
   "cell_type": "code",
   "execution_count": 29,
   "metadata": {},
   "outputs": [
    {
     "ename": "AttributeError",
     "evalue": "'DataFrame' object has no attribute 'st'",
     "output_type": "error",
     "traceback": [
      "\u001b[0;31m---------------------------------------------------------------------------\u001b[0m",
      "\u001b[0;31mAttributeError\u001b[0m                            Traceback (most recent call last)",
      "\u001b[0;32m<ipython-input-29-374a0f54316c>\u001b[0m in \u001b[0;36m<module>\u001b[0;34m\u001b[0m\n\u001b[0;32m----> 1\u001b[0;31m \u001b[0mdf\u001b[0m\u001b[0;34m.\u001b[0m\u001b[0mst\u001b[0m\u001b[0;34m(\u001b[0m\u001b[0;34m)\u001b[0m\u001b[0;34m\u001b[0m\u001b[0;34m\u001b[0m\u001b[0m\n\u001b[0m",
      "\u001b[0;32m~/envs/cirq37/lib/python3.7/site-packages/pandas/core/generic.py\u001b[0m in \u001b[0;36m__getattr__\u001b[0;34m(self, name)\u001b[0m\n\u001b[1;32m   5177\u001b[0m             \u001b[0;32mif\u001b[0m \u001b[0mself\u001b[0m\u001b[0;34m.\u001b[0m\u001b[0m_info_axis\u001b[0m\u001b[0;34m.\u001b[0m\u001b[0m_can_hold_identifiers_and_holds_name\u001b[0m\u001b[0;34m(\u001b[0m\u001b[0mname\u001b[0m\u001b[0;34m)\u001b[0m\u001b[0;34m:\u001b[0m\u001b[0;34m\u001b[0m\u001b[0;34m\u001b[0m\u001b[0m\n\u001b[1;32m   5178\u001b[0m                 \u001b[0;32mreturn\u001b[0m \u001b[0mself\u001b[0m\u001b[0;34m[\u001b[0m\u001b[0mname\u001b[0m\u001b[0;34m]\u001b[0m\u001b[0;34m\u001b[0m\u001b[0;34m\u001b[0m\u001b[0m\n\u001b[0;32m-> 5179\u001b[0;31m             \u001b[0;32mreturn\u001b[0m \u001b[0mobject\u001b[0m\u001b[0;34m.\u001b[0m\u001b[0m__getattribute__\u001b[0m\u001b[0;34m(\u001b[0m\u001b[0mself\u001b[0m\u001b[0;34m,\u001b[0m \u001b[0mname\u001b[0m\u001b[0;34m)\u001b[0m\u001b[0;34m\u001b[0m\u001b[0;34m\u001b[0m\u001b[0m\n\u001b[0m\u001b[1;32m   5180\u001b[0m \u001b[0;34m\u001b[0m\u001b[0m\n\u001b[1;32m   5181\u001b[0m     \u001b[0;32mdef\u001b[0m \u001b[0m__setattr__\u001b[0m\u001b[0;34m(\u001b[0m\u001b[0mself\u001b[0m\u001b[0;34m,\u001b[0m \u001b[0mname\u001b[0m\u001b[0;34m,\u001b[0m \u001b[0mvalue\u001b[0m\u001b[0;34m)\u001b[0m\u001b[0;34m:\u001b[0m\u001b[0;34m\u001b[0m\u001b[0;34m\u001b[0m\u001b[0m\n",
      "\u001b[0;31mAttributeError\u001b[0m: 'DataFrame' object has no attribute 'st'"
     ]
    }
   ],
   "source": [
    "df.st()"
   ]
  },
  {
   "cell_type": "code",
   "execution_count": 30,
   "metadata": {},
   "outputs": [],
   "source": [
    "u1=np.array([[ 0.00+0.00j,  0.10+0.17j,  0.46+0.44j, -0.68+0.31j],\n",
    " [ 0.00+0.00j, -0.96-0.12j,  0.24-0.02j,  0.00+0.04j],\n",
    " [ 1.00+0.00j,  0.00+0.00j,  0.00+0.00j,  0.00+0.00j],\n",
    " [ 0.00+0.00j, -0.16+0.02j, -0.70+0.20j, -0.06+0.66j]])\n",
    "u2=np.array([[ 1.40e-16+4.06e-17j,  1.75e-01-8.32e-02j,  4.81e-01-4.18e-01j,  2.49e-01+7.03e-01j],\n",
    " [ 1.93e-17-1.11e-16j, -2.03e-01+9.47e-01j, -3.51e-03-2.45e-01j,  4.37e-02+3.73e-03j],\n",
    " [ 8.51e-02-9.96e-01j,  4.77e-17-9.54e-17j,  1.48e-16+2.64e-17j, -1.24e-16-2.38e-17j],\n",
    " [-1.06e-16-6.81e-17j,  2.93e-03+1.56e-01j,  1.40e-01+7.17e-01j,  6.54e-01+1.17e-01j]])"
   ]
  },
  {
   "cell_type": "code",
   "execution_count": 31,
   "metadata": {},
   "outputs": [
    {
     "data": {
      "text/plain": [
       "(0.007202387208699923, 0.00042145042814834, 0.007134158907906807)"
      ]
     },
     "execution_count": 31,
     "metadata": {},
     "output_type": "execute_result"
    }
   ],
   "source": [
    "deltaU(u1),deltaU(u2),deltaU(u1@u2.conj().T)"
   ]
  },
  {
   "cell_type": "code",
   "execution_count": 32,
   "metadata": {},
   "outputs": [
    {
     "ename": "NameError",
     "evalue": "name 'instab' is not defined",
     "output_type": "error",
     "traceback": [
      "\u001b[0;31m---------------------------------------------------------------------------\u001b[0m",
      "\u001b[0;31mNameError\u001b[0m                                 Traceback (most recent call last)",
      "\u001b[0;32m<ipython-input-32-fb27626fd653>\u001b[0m in \u001b[0;36m<module>\u001b[0;34m\u001b[0m\n\u001b[0;32m----> 1\u001b[0;31m \u001b[0minstab\u001b[0m\u001b[0;34m(\u001b[0m\u001b[0mu1\u001b[0m\u001b[0;34m)\u001b[0m\u001b[0;34m,\u001b[0m\u001b[0minstab\u001b[0m\u001b[0;34m(\u001b[0m\u001b[0mu2\u001b[0m\u001b[0;34m)\u001b[0m\u001b[0;34m,\u001b[0m\u001b[0minstab\u001b[0m\u001b[0;34m(\u001b[0m\u001b[0mu1\u001b[0m\u001b[0;34m@\u001b[0m\u001b[0mu2\u001b[0m\u001b[0;34m.\u001b[0m\u001b[0mconj\u001b[0m\u001b[0;34m(\u001b[0m\u001b[0;34m)\u001b[0m\u001b[0;34m.\u001b[0m\u001b[0mT\u001b[0m\u001b[0;34m)\u001b[0m\u001b[0;34m\u001b[0m\u001b[0;34m\u001b[0m\u001b[0m\n\u001b[0m",
      "\u001b[0;31mNameError\u001b[0m: name 'instab' is not defined"
     ]
    }
   ],
   "source": [
    "instab(u1),instab(u2),instab(u1@u2.conj().T)"
   ]
  },
  {
   "cell_type": "code",
   "execution_count": 33,
   "metadata": {},
   "outputs": [
    {
     "ename": "NameError",
     "evalue": "name 'instab' is not defined",
     "output_type": "error",
     "traceback": [
      "\u001b[0;31m---------------------------------------------------------------------------\u001b[0m",
      "\u001b[0;31mNameError\u001b[0m                                 Traceback (most recent call last)",
      "\u001b[0;32m<ipython-input-33-540e4eefcb06>\u001b[0m in \u001b[0;36m<module>\u001b[0;34m\u001b[0m\n\u001b[0;32m----> 1\u001b[0;31m \u001b[0minstab\u001b[0m\u001b[0;34m(\u001b[0m\u001b[0mclosest_unitary\u001b[0m\u001b[0;34m(\u001b[0m\u001b[0mu1\u001b[0m\u001b[0;34m)\u001b[0m\u001b[0;34m)\u001b[0m\u001b[0;34m,\u001b[0m\u001b[0minstab\u001b[0m\u001b[0;34m(\u001b[0m\u001b[0mclosest_unitary\u001b[0m\u001b[0;34m(\u001b[0m\u001b[0mu2\u001b[0m\u001b[0;34m)\u001b[0m\u001b[0;34m)\u001b[0m\u001b[0;34m,\u001b[0m\u001b[0minstab\u001b[0m\u001b[0;34m(\u001b[0m\u001b[0mclosest_unitary\u001b[0m\u001b[0;34m(\u001b[0m\u001b[0mu1\u001b[0m\u001b[0;34m)\u001b[0m\u001b[0;34m@\u001b[0m\u001b[0mclosest_unitary\u001b[0m\u001b[0;34m(\u001b[0m\u001b[0mu2\u001b[0m\u001b[0;34m)\u001b[0m\u001b[0;34m.\u001b[0m\u001b[0mconj\u001b[0m\u001b[0;34m(\u001b[0m\u001b[0;34m)\u001b[0m\u001b[0;34m.\u001b[0m\u001b[0mT\u001b[0m\u001b[0;34m)\u001b[0m\u001b[0;34m\u001b[0m\u001b[0;34m\u001b[0m\u001b[0m\n\u001b[0m",
      "\u001b[0;31mNameError\u001b[0m: name 'instab' is not defined"
     ]
    }
   ],
   "source": [
    "instab(closest_unitary(u1)),instab(closest_unitary(u2)),instab(closest_unitary(u1)@closest_unitary(u2).conj().T)"
   ]
  },
  {
   "cell_type": "code",
   "execution_count": 70,
   "metadata": {},
   "outputs": [
    {
     "name": "stdout",
     "output_type": "stream",
     "text": [
      "stdev\t\t\tsensitivity\n",
      "3.022740610204926e-08\t0\n",
      "5.428959526868299e-08\t2.567459111990979e-16\n",
      "3.859559954001677e-08\t1.1101552599194047e-16\n",
      "3.0687799061275006e-07\t0\n",
      "6.008244499341491e-07\t6.246156745995376e-16\n",
      "2.90592548494052e-07\t5.936178749752486e-67\n",
      "5.7164950478995835e-06\t2.1434460122955144e-14\n",
      "5.143166937187524e-06\t2.842870253441674e-14\n",
      "1.823403356883276e-06\t1.2434457052305539e-14\n",
      "7.294337636768795e-05\t3.5413963266765674e-13\n",
      "4.1206895706248665e-05\t2.310929226363694e-13\n",
      "4.627116665843485e-05\t4.1307327588320215e-13\n",
      "0.0002511294696289519\t1.4413598267811159e-12\n",
      "0.000657854913313023\t4.902018992467909e-12\n",
      "0.0002386710425375176\t1.8564320181173924e-13\n",
      "0.0071582226564918415\t1.1938985260995512e-11\n",
      "0.007036065394984188\t4.83155706516007e-12\n",
      "0.0031157756736796354\t2.135506592611237e-11\n",
      "0.053701651722640284\t2.1158197493814273e-10\n",
      "0.05172440367530774\t1.1677774242822694e-10\n",
      "0.02492459239989053\t8.731861067558475e-11\n",
      "0.6460765803943315\t2.8025027968889057e-09\n",
      "0.8144810224794619\t5.067289231293031e-09\n",
      "0.6074140937631656\t2.508267841837488e-09\n",
      "1.053536573161137\t5.7504741306402646e-09\n",
      "2.167356507644078\t4.191182514979395e-09\n",
      "2.380365506980679\t2.9613147488618643e-09\n"
     ]
    },
    {
     "data": {
      "image/png": "[encoded data removed]",
      "text/plain": [
       "<Figure size 432x288 with 1 Axes>"
      ]
     },
     "metadata": {
      "needs_background": "light"
     },
     "output_type": "display_data"
    }
   ],
   "source": [
    "import random\n",
    "import numpy as np\n",
    "import matplotlib.pyplot as plt \n",
    "\n",
    "dim = 4\n",
    "\n",
    "def binary_search(a,b,f,tol=1e-300):\n",
    "    \"\"\"\n",
    "    binary_search finds the maximum point within the tolerance `tol` \n",
    "    in the interval `a` and `b` where f(a) is false\n",
    "    \"\"\"\n",
    "    if f(a) == f(b):\n",
    "        raise Exception(\"Incorrect input, f(a)==f(b): {}, a={}, b={}\".format(f(a),a,b))\n",
    "    while np.abs(a-b) > tol:\n",
    "        mid = (a + b) / 2 \n",
    "        if f(mid): \n",
    "            b = mid \n",
    "        else: \n",
    "            a = mid \n",
    "    return a\n",
    "    \n",
    "def sensitive(M, noise, max_err=1e-15, num_samples=100): \n",
    "    \"\"\"\n",
    "    A unitary is considered sensitive to a given level of `noise` if more than 90% of the `num_samples`\n",
    "    noisy samples at that level fail to satisfy the unitarity assumption of diagonalization.\n",
    "    All random samples are calculated by adding a random matrix E to the original unitary.\n",
    "    E's elements are scaled to `noise`.\n",
    "    \"\"\"\n",
    "    num_sensitive = 0 \n",
    "    for s in range(num_samples): \n",
    "        E = (1 - np.random.rand(dim,dim) * 2 + 1.9j * np.random.rand(dim, dim)) * noise\n",
    "        d, V = np.linalg.eig(M+E)\n",
    "        if not np.allclose(V @ np.diag(d) @ V.conj().T, M+E, atol=max_err): \n",
    "            num_sensitive += 1\n",
    "    return num_sensitive > 0.9 * num_samples\n",
    "        \n",
    "print(\"stdev\\t\\t\\tsensitivity\")\n",
    "res = 8\n",
    "num_samples = 3\n",
    "xs = [] \n",
    "ys = [] \n",
    "for i in range(res, -1, -1): \n",
    "    for s in range(num_samples):\n",
    "        # artificially create unitary diagonal with random eigenvalues chosen to be \n",
    "        # roughly have stdev of 10^{-i}  \n",
    "        r = lambda: np.exp(1j * 2 * np.pi * random.gauss(1, 10**(-i)))\n",
    "        r1 = r()\n",
    "        DD = np.diag([r(),r(),r(),r()]) \n",
    "        sensitivity = binary_search(0,1,(lambda noise: sensitive(DD,noise,1e-8)))\n",
    "        x = np.std(np.angle(np.diagonal(DD)))\n",
    "        y = sensitivity \n",
    "        print(\"{}\\t{}\".format(x,y))\n",
    "        xs.append(x)\n",
    "        ys.append(y)\n",
    "\n",
    "        \n",
    "ax = plt.axes(xlabel=\"std dev of eigenvalues\",ylabel=\"sensitivity\")\n",
    "ax.set_xlim([1e-8,2])\n",
    "ax.set_ylim([1e-25,1e-8])\n",
    "plt.yscale(\"log\")\n",
    "plt.xscale(\"log\")\n",
    "plt.gca().invert_yaxis()\n",
    "plt.scatter(xs,ys,alpha=0.2, s=200)\n",
    "plt.show()\n"
   ]
  },
  {
   "cell_type": "code",
   "execution_count": 43,
   "metadata": {},
   "outputs": [
    {
     "data": {
      "text/plain": [
       "<matplotlib.collections.PathCollection at 0x11fe48d90>"
      ]
     },
     "execution_count": 43,
     "metadata": {},
     "output_type": "execute_result"
    },
    {
     "data": {
      "image/png": "[encoded data removed]",
      "text/plain": [
       "<Figure size 432x288 with 1 Axes>"
      ]
     },
     "metadata": {
      "needs_background": "light"
     },
     "output_type": "display_data"
    }
   ],
   "source": [
    "ax = plt.axes(xlabel=\"std dev of eigenvalues\",ylabel=\"sensitivity\")\n",
    "ax.set_xlim([1e-8,4])\n",
    "ax.set_ylim([1e-25,1e-7])\n",
    "plt.yscale(\"log\")\n",
    "plt.xscale(\"log\")\n",
    "plt.scatter(xs,ys,alpha=0.2, s=200)\n"
   ]
  },
  {
   "cell_type": "markdown",
   "metadata": {},
   "source": [
    "it seems that we have an issue with diagonals indeed - or the standard deviation of the eigenvalues? \n",
    "If they are all the same, I'm seeing super high noise sensitivity "
   ]
  },
  {
   "cell_type": "code",
   "execution_count": 975,
   "metadata": {},
   "outputs": [
    {
     "data": {
      "text/plain": [
       "False"
      ]
     },
     "execution_count": 975,
     "metadata": {},
     "output_type": "execute_result"
    }
   ],
   "source": [
    "d,V = np.linalg.eig(u1u2)\n",
    "np.allclose(V @ np.diag(d) @ V.conj().T, u1u2, atol=1e-15)"
   ]
  },
  {
   "cell_type": "code",
   "execution_count": 982,
   "metadata": {},
   "outputs": [
    {
     "data": {
      "text/plain": [
       "True"
      ]
     },
     "execution_count": 982,
     "metadata": {},
     "output_type": "execute_result"
    }
   ],
   "source": [
    "V = closest_unitary(V)\n",
    "np.allclose(V @ np.diag(d) @ V.conj().T, u1u2, atol=1e-15)"
   ]
  },
  {
   "cell_type": "code",
   "execution_count": 983,
   "metadata": {},
   "outputs": [
    {
     "data": {
      "text/plain": [
       "array([[ 0.9635466175+0.j          , -0.1498708881+0.1927190488j,\n",
       "        -0.0762438297+0.0762227948j,  0.0187636206+0.0009442297j],\n",
       "       [ 0.1452197622+0.1519212486j,  0.9280520126-0.0207130505j,\n",
       "        -0.1822144435-0.1631465943j,  0.0820605014+0.1660383864j],\n",
       "       [ 0.0454611337+0.0679710794j,  0.0554637562+0.0099911703j,\n",
       "         0.677684276 +0.0079295068j,  0.7283205071-0.0191715908j],\n",
       "       [-0.0347572464+0.1396933152j,  0.2426506987+0.1289693887j,\n",
       "         0.0573135033+0.6826084944j, -0.1089888212-0.6501134434j]])"
      ]
     },
     "execution_count": 983,
     "metadata": {},
     "output_type": "execute_result"
    }
   ],
   "source": [
    "V"
   ]
  },
  {
   "cell_type": "code",
   "execution_count": 44,
   "metadata": {},
   "outputs": [],
   "source": [
    "r = lambda: np.exp(1j * 2 * np.pi * random.gauss(1, 10**(-i)))\n",
    "r1 = r()\n",
    "DD = np.diag([r(),r(),r(),r()]) "
   ]
  },
  {
   "cell_type": "code",
   "execution_count": 46,
   "metadata": {},
   "outputs": [
    {
     "data": {
      "text/plain": [
       "0.0"
      ]
     },
     "execution_count": 46,
     "metadata": {},
     "output_type": "execute_result"
    }
   ],
   "source": [
    "instab(DD)"
   ]
  },
  {
   "cell_type": "code",
   "execution_count": 71,
   "metadata": {},
   "outputs": [
    {
     "name": "stdout",
     "output_type": "stream",
     "text": [
      "1.17.3 3.7.5 (default, Nov  1 2019, 02:16:32) \n",
      "[Clang 11.0.0 (clang-1100.0.33.8)]\n"
     ]
    }
   ],
   "source": [
    "import sys, numpy; print(numpy.__version__, sys.version)"
   ]
  },
  {
   "cell_type": "code",
   "execution_count": null,
   "metadata": {},
   "outputs": [],
   "source": []
  }
 ],
 "metadata": {
  "kernelspec": {
   "display_name": "Python 3",
   "language": "python",
   "name": "python3"
  },
  "language_info": {
   "codemirror_mode": {
    "name": "ipython",
    "version": 3
   },
   "file_extension": ".py",
   "mimetype": "text/x-python",
   "name": "python",
   "nbconvert_exporter": "python",
   "pygments_lexer": "ipython3",
   "version": "3.7.5"
  }
 },
 "nbformat": 4,
 "nbformat_minor": 2
}
