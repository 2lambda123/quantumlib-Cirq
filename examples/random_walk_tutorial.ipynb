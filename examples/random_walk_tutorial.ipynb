{
 "cells": [
  {
   "cell_type": "markdown",
   "metadata": {},
   "source": [
    "# Quantum Random Walks With Cirq - Tutorial"
   ]
  },
  {
   "cell_type": "markdown",
   "metadata": {},
   "source": [
    "<i>The first section of this tutorial was taken from this blog post (written by the same person who wrote this tutorial):</i> https://lucaman99.github.io/blog/2019/08/03/Quantum-Random-Walks.html\n",
    "\n",
    "<i>For more information about quantum random walks, see: https://arxiv.org/abs/quant-ph/0303081</i> "
   ]
  },
  {
   "cell_type": "markdown",
   "metadata": {},
   "source": [
    "**Classical Random Walks**\n",
    "\n",
    "A random walks is a random process, involving a \"walker\" that is placed in some $n$-dimensional medium (like a grid or a graph). We then repeatedly query some random variable, and based on the outcome of our measurement, the walker's position vector (position on the graph or grid) is updated. A very basic example of a random walk is the one-dimensional graphical case, where we consider a marker placed on the origin of a number line with markings at each of the integers. Let the initial position vector of our marker be $|0\\rangle$. For $N$ steps of our random walk, so take a set of $N$ random variables, $\\{X_1, \\ ..., \\ X_N\\}$, which can take on either a value of $1$ or $-1$ with equal probability ($0.5$). To find the updated position vector of our walker, we simply compute the value:\n",
    "<br><br>\n",
    "<center>\n",
    "$j \\ = \\ \\displaystyle\\sum_{k \\ = \\ 1}^{N} \\ X_k$\n",
    "</center>\n",
    "<br><br>\n",
    "Where we know:\n",
    "<br><br>\n",
    "<center>\n",
    "$|\\text{Final}\\rangle \\ = \\ |\\text{Initial} \\ + \\ j\\rangle$\n",
    "</center>\n",
    "<br><br>\n",
    "So for our case, the final position vector is simply $|j\\rangle$. This model of a random walk can easily be generalized to $n$-dimensions. Another important fact to note is that for a discrete, 1-dimensional random walk on a number-line-like graph, the probability of the random walker being at a specific location follows a binomial distribution. Let us define an $N$-step random walk. Let us then assert that $N \\ = \\ L \\ + \\ R$, where $L$ is the number of steps to the left, and $R$ is the number of steps to the right. We can then reason that if there is some probability $p_{r}$ of the walker taking a rightward step at one time-step of the random walk, the probability of taking a leftward step is given by $1 \\ - \\ p_{r}$. It follows that the probability of taking $L \\ = \\ N \\ - \\ R$ leftward steps, and $R$ rightward steps  in a random walk of $N$ total steps is given by:\n",
    "<br><br>\n",
    "<center>\n",
    "$P(N, \\ R) \\ = \\ p_{r}^R (1 \\ - \\ p_{r})^{N \\ - \\ R}$\n",
    "</center>\n",
    "We then have to consider the probability that for an $N$ step random walk, our walker ends up at position $X \\ = \\ L \\ - \\ R$. Well, we know the probability of taking $L$ left steps and $R$ right steps, and we know that for a random walk of $N$ steps, the position of the walker is determined by the number of left steps, minus the number of right steps. Since it doesn't matter the order in which the sequence of $N$ steps occurs, to find the total probability of being at some location, $P(X)$, we have to multiply the probability $P(L, \\ R)$ by the number of possible ways in which $L$ left steps and $R$ right steps can be arranged in a sequence. Well, since we have $N$ total steps, we can \"choose\" $R$ of those steps to be allocated to rightward steps, and automatically know that the remaining $N \\ - \\ R$ steps were left steps. We calculate $N$ \"choose\" $R$ steps by calculating the binomial coefficient, therefore getting:\n",
    "<br><br>\n",
    "<center>\n",
    "$P_{N}(X) \\ = \\ \\begin{pmatrix} N \\\\ R \\end{pmatrix} \\ p_{r}^R (1 \\ - \\ p_{r})^{N \\ - \\ R}$\n",
    "$\\Rightarrow \\ X \\ = \\ L \\ - \\ R \\ \\Rightarrow \\ P_{N}(X) \\ = \\ \\begin{pmatrix} N \\\\ \\frac{N \\ - \\ X}{2} \\end{pmatrix} \\ p_{r}^{\\frac{N \\ - \\ X}{2}} (1 \\ - \\ p_{r})^{\\frac{N \\ + \\ X}{2}}$\n",
    "</center>\n",
    "<br><br>\n",
    "And so we have shown that the probability distribution for the position of the walker for an $N$ step random walk is given by a binomial distribution. This fact is important, as we will show that the probability distribution that is created when a quantum random walk is simulated is nowhere close to the binomial distribution that we expect to see for a classical 1-dimensional random walk.\n",
    "<br><br>\n",
    "\n",
    "**Quantum Random Walks**\n",
    "\n",
    "<br>\n",
    "The process of the quantum random walk isn't that much different from its classical counterpart, although the observed results of the two processes have many differences. First, let us motivate the creation of a QRW. The idea is that when one performs analysis on a classical random walk, you can find that $\\sigma^2 \\ \\sim \\ T$, where $\\sigma$ is the standard deviation of the random walk's probability distribution, and $T$ is the number of time-steps of the random walk. For the quantum random walk, we can see that $\\sigma^2 \\ \\sim \\ T^2$. In other words, the standard deviation grows at a quadratically faster rate. At a high level, this signifies that the quantum walker \"spreads out\" quadratically faster than the classical one, showing that the process of a QRW is quadratically faster than its classical counterpart.\n",
    "\n",
    "<br>\n",
    "\n",
    "In order to create a quantum random walk, we have to translate the components of the classical random walk to a quantum problem. We can encode the position of a \"walker\" in some $n$ -dimensional space with a vector\n",
    "$|j\\rangle$. For the purpose of this project, we will be investigating a very basic case of a random walk on a ring-shaped graph, with adjacent nodes connected by a single edge. The configuration looks something like this:\n",
    "\n",
    "<br><br>\n",
    "<center>\n",
    "<img src=\"blog-new/assets/cycle.png\" style=\"width:550px;height:500px;\">\n",
    "</center>\n",
    "\n",
    "Going back to our original idea of some position vector $|j\\rangle$, it is apparent that in order to encode the location of a \"walker\" on this graph, we need to assign a specific value of our position vector to each node. Well, this is fairly simple, for a graph of $K$ nodes, we form a Hilbert space\n",
    "$H_W$ spanned by the following set:\n",
    "<br><br>\n",
    "<center>\n",
    "$H_W \\ = \\ \\{|j\\rangle \\ : \\ j \\ = \\ 0, \\ ..., \\ K \\ - \\ 1 \\}$\n",
    "</center>\n",
    "<br><br>\n",
    "We also require another vector in order to create a random walk. We need a \"coin vector\", which will encode the direction in which the random walk will progress at the $T$-th step of the process. This Hilbert space is spanned by the two basis states, representing forward and backward progression on our number-line-like graph (actually, I guess our graph looks more like a ring, so I guess our two basis states will represent clockwise and counter-clockwise motion, but it's the same idea). We will call this Hilbert space $H_C$, and we can again define our spanning set:\n",
    "<br><br>\n",
    "<center>\n",
    "$H_C \\ = \\ \\{|i\\rangle \\ : \\ i \\ = \\ \\downarrow, \\ \\uparrow\\rangle\\}$\n",
    "</center>\n",
    "<br><br>\n",
    "Where the upward-arrow symbol represent counter-clockwise motion, and the downward arrow represents clock-wise motion. Now that we have defined all of the vectors we need to encode the information about our random walk, we must understand how we can realize these vectors in our quantum algorithm. Well, this is again fairly simple. For a graph of $K \\ = \\ 2^n$ nodes, we require $n$ qubits to encode binary representations of numbers ranging from $0$ to $K \\ - \\ 1$, therefore each of the vectors spanning $H_W$ will simply be given by the binary representation of $j$ corresponding to the basis vector $|j\\rangle$. For the coin vector, since we have only two states, we only need one qubit to encode the two possible states:\n",
    "<br><br><br>\n",
    "\n",
    "<center>\n",
    "$|0\\rangle \\ = \\ |\\uparrow\\rangle \\ \\ \\text{and} \\ \\ |1\\rangle \\ = \\ |\\downarrow\\rangle$\n",
    "</center>\n",
    "<br><br>\n",
    "In order to represent the total space of all possible states of our system, we take the tensor product of the two spanning sets, which will then span the new Hilbert space $H_C \\ \\otimes \\ H_W$. We will write a general element of this Hilbert space as\n",
    " $|i\\rangle \\ \\otimes \\ |j\\rangle$\n",
    "\n",
    "Moving right along, we now require a method to evolve our random walk forward at each step. We define a random walk evolution operator as follows:\n",
    "<br><br>\n",
    "<center>\n",
    "$U \\ = \\ |\\uparrow\\rangle\\langle\\uparrow| \\ \\otimes \\ \\displaystyle\\sum_{j} \\ |j \\ + \\ 1\\rangle\\langle j| \\ + \\ |\\downarrow\\rangle\\langle\\downarrow| \\ \\otimes \\ \\displaystyle\\sum_{j} \\ |j \\ - \\ 1\\rangle\\langle j|$\n",
    "</center>\n",
    "<br><br>\n",
    "By the way, I didn't come up with this genius operator, this came from the paper I referenced at the top of the post. Essentially, since our qubits take on states $|0\\rangle$ and $|1\\rangle$, we know that any possible, general basis state vector formed from qubits\n",
    "$|n\\rangle^{\\otimes \\ N}$\n",
    " will be orthogonal to all other vectors in the basis spanning the space. Because of this, we can create an operator that first \"picks out\" the coin vector's state (the other term just goes to $0$, as, like I said, the states or orthogonal), and then sums over all possible position states until it finds the position state to which the operator is being applied. The inner product of the vector and itself is just one (the vectors are not only orthogonal, they're orthonormal!), and the new position state of the vector is\n",
    " $|j \\ \\pm \\ 1\\rangle$\n",
    "  , depending on the state of the coin vector. This did exactly what we wanted, it evolved our random walk either forward or backwards by one step! If you're still not convinced, let's check to see what happens when we have the state $|\\uparrow\\rangle \\ \\otimes \\ |1\\rangle$ and we apply the $U$ operator:\n",
    "\n",
    "  <br><br>\n",
    "  <center>\n",
    "  $U (|\\uparrow\\rangle \\ \\otimes \\ |1\\rangle) \\  \\ = \\ \\Big( \\ |\\uparrow\\rangle\\langle\\uparrow| \\ \\otimes \\ \\displaystyle\\sum_{j} \\ |j \\ + \\ 1\\rangle\\langle j| \\ + \\ |\\downarrow\\rangle\\langle\\downarrow| \\ \\otimes \\ \\displaystyle\\sum_{j} \\ |j \\ - \\ 1\\rangle\\langle j| \\Big )(|\\uparrow\\rangle \\ \\otimes \\ |1\\rangle)$\n",
    "  $\\Rightarrow \\ |\\uparrow\\rangle\\langle\\uparrow| \\uparrow\\rangle \\ \\otimes \\ \\displaystyle\\sum_{j} \\ |j \\ + \\ 1\\rangle\\langle j| 1\\rangle \\ + \\ |\\downarrow\\rangle\\langle\\downarrow| \\uparrow\\rangle \\ \\otimes \\ \\displaystyle\\sum_{j} \\ |j \\ - \\ 1\\rangle\\langle j| 1\\rangle$\n",
    "  <br><br>\n",
    "  $\\Rightarrow \\ |\\uparrow\\rangle \\ \\otimes \\ |2\\rangle \\ + \\ 0|\\downarrow\\rangle \\ \\otimes \\ |0\\rangle \\ = \\ |\\uparrow\\rangle \\ \\otimes \\ |2\\rangle$\n",
    "  </center>\n",
    "<br><br>\n",
    "  As you can see, it works! Now, we must consider the randomness of the random walk. For the purposes of our random walk, we will set $p_{r} \\ = \\ 0.5$, and therefore make $p_{l} \\ = \\ 0.5$ as well. At each time step, it is necessary that we randomly flip the state of our coin vector\n",
    "  $|i\\rangle$. The Hadamard transformation seems like a natural choice, as:\n",
    "\n",
    "  <br><br>\n",
    "\n",
    "\n",
    "  <center>\n",
    "  $H \\ = \\ \\frac{1}{\\sqrt{2}}\\begin{pmatrix} 1 && 1 \\\\ 1 && -1 \\end{pmatrix} \\ \\Rightarrow \\ H | \\uparrow\\rangle \\ = \\ \\frac{| \\uparrow\\rangle  \\ + \\ | \\downarrow\\rangle }{\\sqrt{2}} \\ \\Rightarrow \\ H | \\downarrow\\rangle \\ = \\ \\frac{| \\uparrow\\rangle  \\ - \\ | \\downarrow\\rangle }{\\sqrt{2}}$\n",
    "  </center>\n",
    "\n",
    "  The probability of measuring one of the basis states is given by squaring the coefficient in the linear combination, which we can see for both outcomes is equal to $0.5$, the same probability of a step to the right/step to the left that we originally desired. We can now combine our operators into one \"master operator\" that works as one complete step of the random walk, including randomizing the coin vector:\n",
    "\n",
    "  <br><br>\n",
    "  <center>\n",
    "  $S \\ = \\ U \\ (H \\ \\otimes \\ I)$\n",
    "  </center>"
   ]
  },
  {
   "cell_type": "markdown",
   "metadata": {},
   "source": [
    "  **Tutorial: Building a QRW With Cirq**\n",
    "  <br><br>\n",
    "      Now, that we have established all of the necessary mathematical rigour to create a quantum random walk, we need to translate this into code. We can start by creating a qubit register, which will be used to represent all of the position vectors on our graph. Recall that for an $N$ qubit register, we can encode all numbers ranging from $0$ to $2^N \\ - \\ 1$. For now, we will set $N \\ = \\ 7$:"
   ]
  },
  {
   "cell_type": "code",
   "execution_count": 22,
   "metadata": {},
   "outputs": [
    {
     "name": "stdout",
     "output_type": "stream",
     "text": [
      "[cirq.GridQubit(0, 0), cirq.GridQubit(0, 1), cirq.GridQubit(0, 2), cirq.GridQubit(0, 3), cirq.GridQubit(0, 4), cirq.GridQubit(0, 5), cirq.GridQubit(0, 6)]\n"
     ]
    }
   ],
   "source": [
    "import cirq\n",
    "import random\n",
    "import numpy as np\n",
    "import copy\n",
    "import sympy\n",
    "import itertools\n",
    "from matplotlib import pyplot as plt\n",
    "\n",
    "number_qubits = 7\n",
    "\n",
    "qubits = []\n",
    "for i in range(0, number_qubits):\n",
    "    qubits.append(cirq.GridQubit(0, i))\n",
    "\n",
    "print(qubits)"
   ]
  },
  {
   "cell_type": "markdown",
   "metadata": {},
   "source": [
    "Next, we have to initialize our qubit register into some initial state. This can vary quite a bit, depending on the simulation that we want to make. To start, let's say that our initial position vector for our \"random walker\" is roughly in the middle of the graph (not exactly, as we have an even number of position vector values). Let's also say that our coin vector is initialized in the $|\\downarrow\\rangle$ state. Since $|\\downarrow\\rangle$ corresponds to $|1\\rangle$, the only operations that have to be performed in this qubit initialization method is an $X$ gate acting on ``GridQubit(0, 1)`` (initializing the position vector), as well as an $X$ gate acting on the coin qubit:"
   ]
  },
  {
   "cell_type": "code",
   "execution_count": 86,
   "metadata": {},
   "outputs": [],
   "source": [
    "def initial_state():\n",
    "\n",
    "    yield cirq.X.on(cirq.GridQubit(0, 1))\n",
    "    yield cirq.X.on(cirq.GridQubit(0, number_qubits))"
   ]
  },
  {
   "cell_type": "markdown",
   "metadata": {},
   "source": [
    "Now that we have created and initialized our qubit register, we have to create an operation that can evolve our random walk forward by one step. At a high level, our evolution operation will follow this process:\n",
    "<br>\n",
    "<ol>\n",
    "    <li>\"Flip\" the coin qubit. The result of this \"flip\" will tell us in which direction our random walker should move. This \"flip\" operation is nothing more than a Hadamard transformation applied to the coin qubit after each evolution operation.</li>\n",
    "    <br>\n",
    "    <li>Based on the state of the coin qubit after the flip, either perform the operation $|j\\rangle \\ \\rightarrow \\ |j \\ + \\ 1\\rangle$ or $|j\\rangle \\ \\rightarrow \\ |j \\ - \\ 1\\rangle$ on the register of qubits encoding the position vector of the random walker on the graph. This will involve having two operations controlled by opposite states of the coin quibt, each representing a step forward or a step backward on the graph. Thus, our evolution operation will look something like this:</li>\n",
    "</ol>\n",
    "\n",
    "<img src=\"Desktop/circ2.png\" style=\"width:400px;height:170px;margin-left:25%\">\n",
    "\n",
    "\n",
    "If we construct our evolution operator in this fashion, the coin qubit is able to dictate whether the walker steps forwards or backwards without ever having to be measured!\n",
    "<br><br>\n",
    "Now that we have a high-level setup for our evolution operator, we have to construct the \"step forward\" and \"step backward\" operations. These are nothing more than an addition and a subtraction operator, each of with adds or substracts $1$ from the position vector. \n",
    "<br><br>\n",
    "Before we actually dive into making the addition and substraction operators, it will be useful for us to define an operation which we will call an <i>n-qubit Toffoli gate</i>. The name is pretty self-explanatory, it is just an $X$ gate that is controlled by an arbitrary number of qubits $n$, rather than only $1$ or $2$ in the standard $CNOT$ and Toffoli gates.\n",
    "<br><br>\n",
    "In order to implement this, we have to use a series of Toffoli gates, along with a collection of ancilla qubits ($n \\ - \\ 1$) ancilla qubits to be exact:"
   ]
  },
  {
   "cell_type": "code",
   "execution_count": 29,
   "metadata": {},
   "outputs": [
    {
     "name": "stdout",
     "output_type": "stream",
     "text": [
      "[cirq.GridQubit(1, 0), cirq.GridQubit(1, 1), cirq.GridQubit(1, 2), cirq.GridQubit(1, 3), cirq.GridQubit(1, 4), cirq.GridQubit(1, 5), cirq.GridQubit(1, 6)]\n"
     ]
    }
   ],
   "source": [
    "ancilla = []\n",
    "for i in range(0, number_qubits):\n",
    "    ancilla.append(cirq.GridQubit(1, i))\n",
    "\n",
    "print(ancilla)"
   ]
  },
  {
   "cell_type": "markdown",
   "metadata": {},
   "source": [
    "We start by applying a Toffoli gate to the first two control qubits, with the target as the first ancilla qubit. Then, we apply a Toffoli controlled by the third control qubit and the first ancilla qubit, which we targetted with the previous Toffoli gate. We continue this process until all control qubits have been utilized in Toffoli gates, and then attach a $CNOT$ gate to our final ancilla qubit, targetting the \"overall\" original target qubit of the $n$-qubit Toffoli gate. Our final step is to perform an <i>uncomputation</i> operation, which means that we apply our series of Toffoli gates in reverse. This allows us to revert our ancilla back to its initial state $|0\\rangle^{\\otimes n \\ - \\ 1}$, thus allowing it to be re-used for future computation.\n",
    "<br><br>\n",
    "This process may seem a little bit confusing, but here is an example of the generated circuit for the $n$-qubit Toffoli gate for the case of $n \\ = \\ 4$, when this process is implemented in Cirq:"
   ]
  },
  {
   "cell_type": "code",
   "execution_count": 35,
   "metadata": {},
   "outputs": [
    {
     "name": "stdout",
     "output_type": "stream",
     "text": [
      "(0, 0): ───@───────────────────────@───\n",
      "           │                       │\n",
      "(0, 1): ───@───────────────────────@───\n",
      "           │                       │\n",
      "(0, 2): ───┼───@───────────────@───┼───\n",
      "           │   │               │   │\n",
      "(0, 3): ───┼───┼───@───────@───┼───┼───\n",
      "           │   │   │       │   │   │\n",
      "(0, 4): ───┼───┼───┼───X───┼───┼───┼───\n",
      "           │   │   │   │   │   │   │\n",
      "(1, 0): ───X───@───┼───┼───┼───@───X───\n",
      "               │   │   │   │   │\n",
      "(1, 1): ───────X───@───┼───@───X───────\n",
      "                   │   │   │\n",
      "(1, 2): ───────────X───@───X───────────\n"
     ]
    }
   ],
   "source": [
    "number_qubits = 4\n",
    "\n",
    "def apply_n_qubit_tof(ancilla, args):\n",
    "\n",
    "    if (len(args) == 2):\n",
    "        yield cirq.CNOT.on(args[0], args[1])\n",
    "\n",
    "    elif (len(args) == 3):\n",
    "        yield cirq.CCX.on(args[0], args[1], args[2])\n",
    "\n",
    "    else:\n",
    "\n",
    "        yield cirq.CCX.on(args[0], args[1], ancilla[0])\n",
    "        for k in range(2, len(args)-1):\n",
    "            yield cirq.CCX(args[k], ancilla[k-2], ancilla[k-1])\n",
    "\n",
    "        yield cirq.CNOT.on(ancilla[len(args)-3], args[len(args)-1])\n",
    "\n",
    "        for k in range(len(args)-2, 1, -1):\n",
    "            yield cirq.CCX(args[k], ancilla[k-2], ancilla[k-1])\n",
    "        yield cirq.CCX.on(args[0], args[1], ancilla[0])\n",
    "\n",
    "\n",
    "control = [cirq.GridQubit(0, i) for i in range(0, number_qubits+1)]\n",
    "circuit = cirq.Circuit()\n",
    "circuit.append(apply_n_qubit_tof(ancilla, control))\n",
    "print(circuit)"
   ]
  },
  {
   "cell_type": "markdown",
   "metadata": {},
   "source": [
    "The reason why I have introduced an extra qubit is because the way that I coded this function takes the last entry in the ``args`` list as the target qubit, thus I needed $4$ control qubits, plus $1$ target qubit for a total of $5$ qubits in the ``control`` list (even though one of them is actually the target!)."
   ]
  },
  {
   "cell_type": "markdown",
   "metadata": {},
   "source": [
    "Now we can get back to creating the addition and substraction operators. Starting with the addition operator, the idea is:\n",
    "<br>\n",
    "<ol>\n",
    "    <li>Have a $CNOT$ gate controlled by the coin qubit targetting the least significant qubit. This means that if the coin qubit is in the \"move forward\" state, the addition operator will be activated. </li>\n",
    "    <br>\n",
    "    <li>Apply an $X$ gate to the qubit that was just targetted by the $CNOT$ gate.</li>\n",
    "    <br>\n",
    "    <li>Apply a Toffoli gate controlled by the coin qubit and the qubit on which the $X$ gate was just placed, targetting the second least-significant qubit. This acts as a \"carry operation\", meaning that if the coin qubit is in the addition state, and the least significant qubit is in the $|0\\rangle$ state (meaning it was in the $|1\\rangle$ state, but had the $CNOT$ operation applied to it, we had to apply the $X$ gate to flip it back to the $|1\\rangle$ state so it can activate the Toffoli gate), then flip the value of the next qubit, signifying that the addition mod $2$ carried over a one to the next digit of the number.</li>\n",
    "    <br>\n",
    "    <li>Continue this process with $n$-qubit Toffoli gates controlled by all qubits less significant than the target qubit, along with the coin qubit until all qubits have had Toffoli gates applied.</li>\n",
    "    <br>\n",
    "    <li>Apply $X$ gates to all qubits in the position vector register, as they all had $X$ gates applied to them in the process of addition.</li>\n",
    "\n",
    "For the subtraction operator, we can make use of the fact that quantum operations are reversible, meaning that if we have some addition unitary $A$, such that $A |j\\rangle \\ = \\ |j \\ + \\ 1\\rangle$, then:\n",
    "<br><br>\n",
    "<center>\n",
    "$$A^{\\dagger}A |j\\rangle \\ = \\ A^{\\dagger}|j \\ + \\ 1\\rangle \\ \\Rightarrow \\ A^{\\dagger}|j \\ + \\ 1\\rangle \\ = \\ |j\\rangle \\ \\Rightarrow \\ A^{\\dagger}|k\\rangle \\ = \\ |k \\ - \\ 1\\rangle$$\n",
    "</center>\n",
    "<br><br>\n",
    "And so this means that $S \\ = \\ A^{\\dagger}$. Since we can decompose $A$ into a product of a bunch of unitaries, we get:\n",
    "<br><br>\n",
    "<center>\n",
    " $A \\ = \\ U_1 U_2 \\ ... \\ U_n \\ \\Rightarrow \\ S \\ = \\ A^{\\dagger} \\ = \\ U_n^{\\dagger} U_{n - 1}^{\\dagger} \\ ... \\ U_{1}^{\\dagger}$\n",
    "</center>\n",
    "<br><br>\n",
    "But our method only uses $X$ gates and controlled $X$ gates, all of which are Hermitian, thus we have:\n",
    "<br><br>\n",
    "<center>\n",
    "    $$S \\ = \\ U_n^{\\dagger} U_{n - 1}^{\\dagger} \\ ... \\ U_{1}^{\\dagger} \\ = \\ U_n U_{n - 1} \\ ... \\ U_{1}$$\n",
    "</center>\n",
    "<br><br>\n",
    "So basically, our subtraction operation will just be applying our addition operator, but with the order of gates reversed. This allows us to create one general \"evolution operation\" for our random walk, which adds or substract $1$ to the random walkers position vector, based on the coin qubit:"
   ]
  },
  {
   "cell_type": "code",
   "execution_count": 10,
   "metadata": {},
   "outputs": [],
   "source": [
    "def walk_step():\n",
    "    \n",
    "    #\"Flip\" the coin qubit\n",
    "\n",
    "    yield cirq.H.on(cirq.GridQubit(0, number_qubits))\n",
    "    \n",
    "    #Implement the Addition Operator\n",
    "\n",
    "    yield cirq.X.on(cirq.GridQubit(0, number_qubits))\n",
    "\n",
    "    for i in range(number_qubits, 0, -1):\n",
    "\n",
    "        yield apply_n_qubit_tof(ancilla, [cirq.GridQubit(0, v) for v in range(number_qubits, i-2, -1)])\n",
    "        yield cirq.X.on(cirq.GridQubit(0, i-1))\n",
    "\n",
    "    for i in range(number_qubits+1, 1, -1):\n",
    "        yield cirq.X.on(cirq.GridQubit(0, i-1))\n",
    "\n",
    "    #Implement the Subtraction Operator\n",
    "\n",
    "    yield cirq.X.on(cirq.GridQubit(0, number_qubits))\n",
    "\n",
    "    for i in range(number_qubits+1, 1, -1):\n",
    "        yield cirq.X.on(cirq.GridQubit(0, i-1))\n",
    "\n",
    "    for i in range(1, number_qubits+1):\n",
    "\n",
    "        yield apply_n_qubit_tof(ancilla, [cirq.GridQubit(0, v) for v in range(number_qubits, i-2, -1)])\n",
    "        yield cirq.X.on(cirq.GridQubit(0, i-1))"
   ]
  },
  {
   "cell_type": "markdown",
   "metadata": {},
   "source": [
    "Next, we have to append these operations to our quantum circuit, specifically iteratively apply the ``walk_step()`` function in order to evolve our random walk forward. After we do this, we measure of position vector qubit register, by applying measurement gates, and we sample our circuit repeatedly. In code, for the example of $10$ iteration of our evolution operator, $200$ samples of the circuit, and $7$ position vector qubits, we have:"
   ]
  },
  {
   "cell_type": "code",
   "execution_count": 88,
   "metadata": {},
   "outputs": [
    {
     "name": "stdout",
     "output_type": "stream",
     "text": [
      "Counter({12: 48, 14: 22, 20: 18, 10: 15, 16: 11, 28: 9, 18: 8, 52: 7, 30: 7, 40: 6, 54: 6, 42: 6, 32: 5, 22: 5, 26: 5, 38: 5, 44: 3, 36: 3, 48: 3, 34: 3, 24: 2, 50: 1, 8: 1, 46: 1})\n"
     ]
    }
   ],
   "source": [
    "number_qubits = 7\n",
    "iterator = 30\n",
    "sample_number = 200\n",
    "\n",
    "circuit = cirq.Circuit()\n",
    "\n",
    "circuit.append(initial_state())\n",
    "\n",
    "for j in range(0, iterator):\n",
    "    circuit.append(walk_step())\n",
    "circuit.append(cirq.measure(*qubits, key='x'))\n",
    "\n",
    "simulator = cirq.Simulator()\n",
    "result = simulator.run(circuit, repetitions=sample_number)\n",
    "final = result.histogram(key='x')\n",
    "\n",
    "print(final)"
   ]
  },
  {
   "cell_type": "markdown",
   "metadata": {},
   "source": [
    "Finally, we then graph the results of our simulation, with final position vector value on the x-axis and the number of occurences of that position vector value on the y-axis. This gives us a probability distribution for the position of the random walker. It is important to note that the graphs will only have either even or odd numbered data point, depending on the initial position of the walker and the number of steps taken:"
   ]
  },
  {
   "cell_type": "code",
   "execution_count": 91,
   "metadata": {},
   "outputs": [
    {
     "data": {
      "image/png": "[encoded data removed]",
      "text/plain": [
       "<Figure size 432x288 with 1 Axes>"
      ]
     },
     "metadata": {
      "needs_background": "light"
     },
     "output_type": "display_data"
    }
   ],
   "source": [
    "x_arr = [j for j in dict(final).keys()]\n",
    "y_arr = [dict(final)[j] for j in dict(final).keys()]\n",
    "\n",
    "x_arr_final = []\n",
    "y_arr_final = []\n",
    "\n",
    "while (len(x_arr) > 0):\n",
    "\n",
    "    x_arr_final.append(min(x_arr))\n",
    "    y_arr_final.append(y_arr[x_arr.index(min(x_arr))])\n",
    "    holder = x_arr.index(min(x_arr))\n",
    "    del x_arr[holder]\n",
    "    del y_arr[holder]\n",
    "\n",
    "plt.plot(x_arr_final, y_arr_final)\n",
    "plt.scatter(x_arr_final, y_arr_final)\n",
    "plt.show()"
   ]
  },
  {
   "cell_type": "markdown",
   "metadata": {},
   "source": [
    "As you can see, we get a pretty strange probability distribution! This is due to the fact that repeated applications of the Hadamard gate to the coin qubit (which you may recall was initialized in the $|\\downarrow\\rangle$ state). Over time, interference causes our coin qubit to bias to the left, but also creates a small bump far to the right as well! If you think this is weird, do the math! Take a qubit in the initial state of $|1\\rangle$ and repeatedlly apply a Hadamard transformation, then calculate the probabilities of measuring $|0\\rangle$ and $|1\\rangle$ by taking the modulus squared of the probability amplitude corresponding to each of the states. In fact, let's see what happens when our qubit is initialized in the $|\\uparrow\\rangle$ state: "
   ]
  },
  {
   "cell_type": "code",
   "execution_count": 77,
   "metadata": {},
   "outputs": [
    {
     "name": "stdout",
     "output_type": "stream",
     "text": [
      "Counter({52: 25, 48: 9, 54: 8, 44: 7, 50: 6, 16: 5, 42: 5, 46: 5, 12: 4, 22: 3, 38: 2, 36: 2, 34: 2, 30: 2, 56: 2, 10: 2, 20: 2, 40: 2, 28: 2, 24: 2, 18: 1, 32: 1, 26: 1})\n"
     ]
    },
    {
     "data": {
      "image/png": "[encoded data removed]",
      "text/plain": [
       "<Figure size 432x288 with 1 Axes>"
      ]
     },
     "metadata": {
      "needs_background": "light"
     },
     "output_type": "display_data"
    }
   ],
   "source": [
    "def initial_state():\n",
    "\n",
    "    yield cirq.X.on(cirq.GridQubit(0, 1))\n",
    "\n",
    "number_qubits = 7\n",
    "iterator = 30\n",
    "sample_number = 200\n",
    "\n",
    "circuit = cirq.Circuit()\n",
    "\n",
    "circuit.append(initial_state())\n",
    "\n",
    "for j in range(0, iterator):\n",
    "    circuit.append(walk_step())\n",
    "circuit.append(cirq.measure(*qubits, key='x'))\n",
    "\n",
    "simulator = cirq.Simulator()\n",
    "result = simulator.run(circuit, repetitions=sample_number)\n",
    "final = result.histogram(key='x')\n",
    "\n",
    "print(final)\n",
    "\n",
    "x_arr = [j for j in dict(final).keys()]\n",
    "y_arr = [dict(final)[j] for j in dict(final).keys()]\n",
    "\n",
    "x_arr_final = []\n",
    "y_arr_final = []\n",
    "\n",
    "while (len(x_arr) > 0):\n",
    "\n",
    "    x_arr_final.append(min(x_arr))\n",
    "    y_arr_final.append(y_arr[x_arr.index(min(x_arr))])\n",
    "    holder = x_arr.index(min(x_arr))\n",
    "    del x_arr[holder]\n",
    "    del y_arr[holder]\n",
    "\n",
    "plt.plot(x_arr_final, y_arr_final)\n",
    "plt.scatter(x_arr_final, y_arr_final)\n",
    "plt.show()"
   ]
  },
  {
   "cell_type": "markdown",
   "metadata": {},
   "source": [
    "Cool, right!? It's the mirror image of what we saw when the coin qubit was in the other state. Let's try one more thing, let's initialize our coin qubit in a \"balanced\" state, where interference doesn't bias our distribution towards only one side! We will set our initial state to:\n",
    "<br><br>\n",
    "<center>\n",
    "    $$|i\\rangle \\ = \\ \\frac{|\\uparrow\\rangle \\ + \\ i|\\downarrow\\rangle}{\\sqrt{2}}$$\n",
    "</center>\n",
    "<br><br>\n",
    "This is easily implemented by applying a Hadamard gate to $|\\uparrow\\rangle$, and then applying an $S$ gate to the qubit. When we simulate this with Cirq, we get:"
   ]
  },
  {
   "cell_type": "code",
   "execution_count": 65,
   "metadata": {},
   "outputs": [
    {
     "name": "stdout",
     "output_type": "stream",
     "text": [
      "Counter({52: 26, 12: 25, 50: 20, 54: 13, 16: 13, 10: 12, 14: 10, 48: 10, 20: 10, 18: 8, 44: 7, 36: 7, 46: 6, 24: 4, 26: 4, 28: 4, 38: 4, 34: 3, 42: 3, 30: 3, 40: 2, 56: 2, 22: 2, 32: 2})\n"
     ]
    },
    {
     "data": {
      "image/png": "[encoded data removed]",
      "text/plain": [
       "<Figure size 432x288 with 1 Axes>"
      ]
     },
     "metadata": {
      "needs_background": "light"
     },
     "output_type": "display_data"
    }
   ],
   "source": [
    "def initial_state():\n",
    "\n",
    "    yield cirq.X.on(cirq.GridQubit(0, 1))\n",
    "    \n",
    "    yield cirq.H.on(cirq.GridQubit(0, number_qubits))\n",
    "    yield cirq.S.on(cirq.GridQubit(0, number_qubits))\n",
    "\n",
    "number_qubits = 7\n",
    "iterator = 30\n",
    "sample_number = 200\n",
    "\n",
    "circuit = cirq.Circuit()\n",
    "\n",
    "circuit.append(initial_state())\n",
    "\n",
    "for j in range(0, iterator):\n",
    "    circuit.append(walk_step())\n",
    "circuit.append(cirq.measure(*qubits, key='x'))\n",
    "\n",
    "simulator = cirq.Simulator()\n",
    "result = simulator.run(circuit, repetitions=sample_number)\n",
    "final = result.histogram(key='x')\n",
    "\n",
    "print(final)\n",
    "\n",
    "x_arr = [j for j in dict(final).keys()]\n",
    "y_arr = [dict(final)[j] for j in dict(final).keys()]\n",
    "\n",
    "x_arr_final = []\n",
    "y_arr_final = []\n",
    "\n",
    "while (len(x_arr) > 0):\n",
    "\n",
    "    x_arr_final.append(min(x_arr))\n",
    "    y_arr_final.append(y_arr[x_arr.index(min(x_arr))])\n",
    "    holder = x_arr.index(min(x_arr))\n",
    "    del x_arr[holder]\n",
    "    del y_arr[holder]\n",
    "\n",
    "plt.plot(x_arr_final, y_arr_final)\n",
    "plt.scatter(x_arr_final, y_arr_final)\n",
    "plt.show()"
   ]
  },
  {
   "cell_type": "markdown",
   "metadata": {},
   "source": [
    "So we get a probability distribution that is much more symetric!\n",
    "<br><br>\n",
    "Random walks have applications in so many fields of scientfific inquiry, ranging from biology, to computer science, to finance. I definitely think there are a lot of possible great extensions to this basic example of a QRW and many more great projects that can be made by utilizing this interesting process! For more information on these applications, see: https://en.wikipedia.org/wiki/Random_walk#Applications"
   ]
  },
  {
   "cell_type": "code",
   "execution_count": null,
   "metadata": {},
   "outputs": [],
   "source": []
  }
 ],
 "metadata": {
  "kernelspec": {
   "display_name": "Python 3",
   "language": "python",
   "name": "python3"
  },
  "language_info": {
   "codemirror_mode": {
    "name": "ipython",
    "version": 3
   },
   "file_extension": ".py",
   "mimetype": "text/x-python",
   "name": "python",
   "nbconvert_exporter": "python",
   "pygments_lexer": "ipython3",
   "version": "3.6.8"
  }
 },
 "nbformat": 4,
 "nbformat_minor": 2
}
