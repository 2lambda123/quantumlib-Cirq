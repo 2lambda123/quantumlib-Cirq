{
 "cells": [
  {
   "cell_type": "markdown",
   "metadata": {},
   "source": [
    "**Appendix A: Creating $n$-Qubit toffoli Gates From Scratch**"
   ]
  },
  {
   "cell_type": "code",
   "execution_count": 1,
   "metadata": {},
   "outputs": [
    {
     "ename": "NameError",
     "evalue": "name 'cirq' is not defined",
     "output_type": "error",
     "traceback": [
      "\u001b[0;31m---------------------------------------------------------------------------\u001b[0m",
      "\u001b[0;31mNameError\u001b[0m                                 Traceback (most recent call last)",
      "\u001b[0;32m<ipython-input-1-3643c857332a>\u001b[0m in \u001b[0;36m<module>\u001b[0;34m\u001b[0m\n\u001b[0;32m----> 1\u001b[0;31m \u001b[0mancilla\u001b[0m \u001b[0;34m=\u001b[0m \u001b[0mcirq\u001b[0m\u001b[0;34m.\u001b[0m\u001b[0mGridQubit\u001b[0m\u001b[0;34m.\u001b[0m\u001b[0mrect\u001b[0m\u001b[0;34m(\u001b[0m\u001b[0;36m1\u001b[0m\u001b[0;34m,\u001b[0m \u001b[0mnumber_qubits\u001b[0m\u001b[0;34m-\u001b[0m\u001b[0;36m1\u001b[0m\u001b[0;34m,\u001b[0m \u001b[0;36m1\u001b[0m\u001b[0;34m)\u001b[0m\u001b[0;34m\u001b[0m\u001b[0;34m\u001b[0m\u001b[0m\n\u001b[0m\u001b[1;32m      2\u001b[0m \u001b[0mprint\u001b[0m\u001b[0;34m(\u001b[0m\u001b[0mancilla\u001b[0m\u001b[0;34m)\u001b[0m\u001b[0;34m\u001b[0m\u001b[0;34m\u001b[0m\u001b[0m\n",
      "\u001b[0;31mNameError\u001b[0m: name 'cirq' is not defined"
     ]
    }
   ],
   "source": [
    "ancilla = cirq.GridQubit.rect(1, number_qubits-1, 1)\n",
    "print(ancilla)"
   ]
  },
  {
   "cell_type": "markdown",
   "metadata": {},
   "source": [
    "In this implementation, we implemented the $n$-qubit Toffoli with a built-in function in Cirq. However, the actual decomposition of this gate must be done in terms of Toffoli gates, with a qubit ancilla (whcih we defined above).\n",
    "\n",
    "We start by applying a Toffoli gate to the first two control qubits, with the target as the first ancilla \n",
    "qubit. Then, we apply a Toffoli controlled by the third control qubit and the first ancilla qubit, which we \n",
    "targetted with the previous Toffoli gate. We continue this process until all control qubits have been utilized \n",
    "in Toffoli gates, and then attach a $CNOT$ gate to our final ancilla qubit, targetting the \"overall\" original \n",
    "target qubit of the $n$-qubit Toffoli gate. Our final step is to perform an <i>uncomputation</i> operation, \n",
    "which means that we apply our series of Toffoli gates in reverse. This allows us to revert our ancilla back to \n",
    "its initial state $|0\\rangle^{\\otimes n \\ - \\ 1}$, thus allowing it to be re-used for future computation.\n",
    "\n",
    "This process may seem a little bit confusing, but here is an example of the generated circuit for the \n",
    "$n$-qubit Toffoli gate for the case of $n \\ = \\ 4$, when this process is implemented in Cirq:"
   ]
  },
  {
   "cell_type": "code",
   "execution_count": null,
   "metadata": {},
   "outputs": [],
   "source": [
    "number_qubits = 4\n",
    "\n",
    "def apply_n_qubit_tof(ancilla, args):\n",
    "\n",
    "    if (len(args) == 2):\n",
    "        yield cirq.CNOT.on(args[0], args[1])\n",
    "\n",
    "    elif (len(args) == 3):\n",
    "        yield cirq.CCX.on(args[0], args[1], args[2])\n",
    "\n",
    "    else:\n",
    "\n",
    "        yield cirq.CCX.on(args[0], args[1], ancilla[0])\n",
    "        for k in range(2, len(args)-1):\n",
    "            yield cirq.CCX(args[k], ancilla[k-2], ancilla[k-1])\n",
    "\n",
    "        yield cirq.CNOT.on(ancilla[len(args)-3], args[len(args)-1])\n",
    "\n",
    "        for k in range(len(args)-2, 1, -1):\n",
    "            yield cirq.CCX(args[k], ancilla[k-2], ancilla[k-1])\n",
    "        yield cirq.CCX.on(args[0], args[1], ancilla[0])\n",
    "\n",
    "\n",
    "control = [cirq.GridQubit(0, i) for i in range(0, number_qubits+1)]\n",
    "circuit = cirq.Circuit()\n",
    "circuit.append(apply_n_qubit_tof(ancilla, control))\n",
    "print(circuit)"
   ]
  },
  {
   "cell_type": "markdown",
   "metadata": {},
   "source": [
    "The reason why I have introduced an extra qubit is because the way that I coded this function takes the last entry \n",
    "in the ``args`` list as the target qubit, thus I needed $4$ control qubits, plus $1$ target qubit for a total \n",
    "of $5$ qubits in the ``control`` list (even though one of them is actually the target!)."
   ]
  },
  {
   "cell_type": "code",
   "execution_count": null,
   "metadata": {},
   "outputs": [],
   "source": []
  }
 ],
 "metadata": {
  "kernelspec": {
   "display_name": "Python 3",
   "language": "python",
   "name": "python3"
  },
  "language_info": {
   "codemirror_mode": {
    "name": "ipython",
    "version": 3
   },
   "file_extension": ".py",
   "mimetype": "text/x-python",
   "name": "python",
   "nbconvert_exporter": "python",
   "pygments_lexer": "ipython3",
   "version": "3.7.5"
  }
 },
 "nbformat": 4,
 "nbformat_minor": 4
}
