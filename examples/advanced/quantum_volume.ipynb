{
 "cells": [
  {
   "cell_type": "markdown",
   "metadata": {},
   "source": [
    "# Running the Quantum Volume Algorithm\n",
    "This example walks through the steps of running the quantum volume algorithm on square matrices. It is intended to mirror Algorithm 1 of https://arxiv.org/pdf/1811.12926.pdf. In general, we will generate a model circuit, classically compute its Heavy Output Group, then run various samplers (currently, ideal and noisy simulators) to evaluate how often they generate Heavy results."
   ]
  },
  {
   "cell_type": "code",
   "execution_count": null,
   "metadata": {},
   "outputs": [],
   "source": [
    "from examples.advanced import quantum_volume\n",
    "import numpy as np\n",
    "from matplotlib import pyplot as plt\n",
    "from matplotlib.ticker import FormatStrFormatter\n",
    "\n",
    "def generate_chart(depths, average_ideals, average_noisies):\n",
    "    \"\"\"Create a chart that is designed to look as similar as possible to\n",
    "       Figure 2 in https://arxiv.org/pdf/1811.12926.pdf.\"\"\"\n",
    "    fig, axs = plt.subplots()\n",
    "    axs.scatter(depths, average_ideals, marker='+', c='tab:green', label='Ideal')\n",
    "    axs.scatter([d + .1 for d in depths], average_noisies, c='tab:red', label='Noisy')\n",
    "    # Line markers for asymptotic ideal heavy output probability and the ideal Heavy Output Generation threshold.\n",
    "    axs.hlines((1 + np.log(2)) / 2, 0, 100, colors=['tab:green'], label='Asymptotic ideal', linestyles='dashed')\n",
    "    axs.hlines(2/3, 0, 100, label='HOG threshold', linestyles='dotted')\n",
    "    # Making the plot look consistent.\n",
    "    axs.set_ybound(0.4, 1)\n",
    "    axs.set_xbound(1.5, 4.5)\n",
    "    axs.xaxis.set_major_locator(plt.MultipleLocator(1))\n",
    "    axs.set_xlabel(\"width/depth of model circuit m=d\")\n",
    "    axs.set_ylabel(\"est. heavy output probability h(d)\")\n",
    "    fig.suptitle('Experimental data for square quantum volume circuits')\n",
    "    axs.legend(loc='lower left')\n",
    "    \n",
    "# Some set-up variables. Feel free to play with these.\n",
    "num_repetitions = 11 # This is supposed to be >= 100.\n",
    "depths = range(2, 5) # The depths and number of qubits\n",
    "\n",
    "# Keep track of the ideal and noisy probabilities.\n",
    "average_ideals = []\n",
    "average_noisies = []\n",
    "\n",
    "for depth in depths:\n",
    "    num_qubits = depth # Square matrix.\n",
    "    print(f\"Running simulation with {num_qubits} qubits and a depth of {depth}\")\n",
    "    average_ideal = 0\n",
    "    average_noisy = 0\n",
    "    for i in range(num_repetitions):\n",
    "        print(f\"    Repetition {i + 1} of {num_repetitions}\")\n",
    "        # Generate a model circuit.\n",
    "        model_circuit = quantum_volume.generate_model_circuit(\n",
    "            num_qubits, depth, random_state=np.random.RandomState()\n",
    "        )\n",
    "        # Compute its heavy set.\n",
    "        heavy_set = quantum_volume.compute_heavy_set(model_circuit)\n",
    "        print(f\"        Heavy Set: {heavy_set}\")\n",
    "        \n",
    "        # Run an ideal simulator over the model circuit.\n",
    "        ideal = quantum_volume.sample_heavy_set(model_circuit, heavy_set)\n",
    "        average_ideal += ideal\n",
    "        print(f\"        Ideal simulation HOG probability: {ideal}\")\n",
    "\n",
    "        # Run a noisy simulator over the model circuit.\n",
    "        noisy = quantum_volume.sample_heavy_set(model_circuit, heavy_set, sampler=cirq.DensityMatrixSimulator(noise=cirq.ConstantQubitNoiseModel(qubit_noise_gate=cirq.DepolarizingChannel(p=0.005))))\n",
    "        print(f\"        Noisy simulation HOG probability: {noisy}\")\n",
    "        average_noisy += noisy\n",
    "        \n",
    "        # TODO: The next steps are to compile the model circuit and run it on various devices.\n",
    "\n",
    "    # Compute the average performance over the total number of runs.\n",
    "    average_ideal /= num_repetitions\n",
    "    average_noisy /= num_repetitions\n",
    "    print(f\"    Average ideal HOG probability: {average_ideal}\")\n",
    "    print(f\"    Average noisy HOG probability: {average_noisy}\")\n",
    "    average_ideals.append(average_ideal)\n",
    "    average_noisies.append(average_noisy)\n",
    "\n",
    "# Create the chart.\n",
    "generate_chart(depths, average_ideals, average_noisies)"
   ]
  }
 ],
 "metadata": {
  "kernelspec": {
   "display_name": "Python 3",
   "language": "python",
   "name": "python3"
  },
  "language_info": {
   "codemirror_mode": {
    "name": "ipython",
    "version": 3
   },
   "file_extension": ".py",
   "mimetype": "text/x-python",
   "name": "python",
   "nbconvert_exporter": "python",
   "pygments_lexer": "ipython3",
   "version": "3.7.4"
  }
 },
 "nbformat": 4,
 "nbformat_minor": 4
}
