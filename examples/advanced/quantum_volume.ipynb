{
 "cells": [
  {
   "cell_type": "markdown",
   "metadata": {},
   "source": [
    "# Running the Quantum Volume Algorithm\n",
    "This example walks through the steps of running the quantum volume algorithm on square matrices. It is intended to mirror Algorithm 1 of https://arxiv.org/pdf/1811.12926.pdf. In general, we will generate a model circuit, classically compute its Heavy Output Group, then run various samplers (currently, ideal and noisy simulators) to evaluate how often they generate Heavy results."
   ]
  },
  {
   "cell_type": "code",
   "execution_count": null,
   "metadata": {},
   "outputs": [],
   "source": [
    "import cirq\n",
    "from examples.advanced import quantum_volume\n",
    "import numpy as np\n",
    "\n",
    "# Some set-up variables. Feel free to play with these.\n",
    "num_repetitions = 11 # This is supposed to be >= 100.\n",
    "depths = range(2, 5) # The depths and number of qubits\n",
    "\n",
    "# Here is the important set-up: The samplers. These are what will be\n",
    "# run on the generated circuit, and then evaluated.\n",
    "class SamplerConfig:\n",
    "    def __init__(\n",
    "        self,\n",
    "        *,  # Forces keyword args.\n",
    "        sampler: cirq.Sampler,\n",
    "        label: str,\n",
    "        color: str,\n",
    "        marker: str = None):\n",
    "            self.sampler = sampler\n",
    "            self.label = label\n",
    "            self.color = color\n",
    "            self.marker = marker      \n",
    "            # Keep track of the probabilities.\n",
    "            self.probabilities = [0] * len(depths)\n",
    "samplers = [SamplerConfig(\n",
    "    label = 'Ideal simulation',\n",
    "    sampler = cirq.Simulator(),\n",
    "    marker = '+',\n",
    "    color = 'tab:green',\n",
    "), SamplerConfig(\n",
    "    label = 'Noisy simulation',\n",
    "    sampler = cirq.DensityMatrixSimulator(noise=cirq.ConstantQubitNoiseModel(qubit_noise_gate=cirq.DepolarizingChannel(p=0.005))),\n",
    "    color = 'tab:red',\n",
    ")]\n",
    "\n",
    "for depth in depths:\n",
    "    num_qubits = depth # Square matrix.\n",
    "    print(f\"Running simulation with {num_qubits} qubits and a depth of {depth}\")\n",
    "    for i in range(num_repetitions):\n",
    "        print(f\"    Repetition {i + 1} of {num_repetitions}\")\n",
    "        # Generate a model circuit.\n",
    "        model_circuit = quantum_volume.generate_model_circuit(\n",
    "            num_qubits, depth, random_state=np.random.RandomState()\n",
    "        )\n",
    "        # Compute its heavy set.\n",
    "        heavy_set = quantum_volume.compute_heavy_set(model_circuit)\n",
    "        print(f\"        Heavy Set: {heavy_set}\")\n",
    "        \n",
    "        # Run the given samplers over the model circuit.\n",
    "        for config in samplers:\n",
    "            probability = quantum_volume.sample_heavy_set(model_circuit, heavy_set, sampler=config.sampler)\n",
    "            config.probabilities[depth - len(depths)] += probability\n",
    "            print(f\"        {config.label} HOG probability: {probability}\")\n",
    "        \n",
    "        # TODO: The next steps are to compile the model circuit and run it on various devices.\n",
    "\n",
    "    # Compute the average performance over the total number of runs.\n",
    "    for config in samplers:\n",
    "        config.probabilities[depth - len(depths)] /= num_repetitions\n",
    "        print(f\"    Average {config.label} HOG probability: {config.probabilities[depth - len(depths)]}\")\n"
   ]
  },
  {
   "cell_type": "code",
   "execution_count": null,
   "metadata": {},
   "outputs": [],
   "source": [
    "from matplotlib import pyplot as plt\n",
    "from matplotlib.ticker import FormatStrFormatter\n",
    "\n",
    "# Create a chart that is designed to look as similar as possible to\n",
    "# Figure 2 in https://arxiv.org/pdf/1811.12926.pdf.\n",
    "fig, axs = plt.subplots()\n",
    "for idx, config in enumerate(samplers):\n",
    "    axs.scatter([d + idx / 10 for d in depths], config.probabilities, marker=config.marker, c=f'{config.color}', label=f'{config.label}')\n",
    "# Line markers for asymptotic ideal heavy output probability and the ideal Heavy Output Generation threshold.\n",
    "axs.axhline((1 + np.log(2)) / 2, color='tab:green', label='Asymptotic ideal', linestyle='dashed')\n",
    "axs.axhline(2/3, label='HOG threshold',  color='k', linestyle='dotted')\n",
    "# Making the plot look consistent.\n",
    "axs.set_ybound(0.4, 1)\n",
    "axs.xaxis.set_major_locator(plt.MultipleLocator(1))\n",
    "axs.set_xlabel(\"width/depth of model circuit m=d\")\n",
    "axs.set_ylabel(\"est. heavy output probability h(d)\")\n",
    "fig.suptitle('Experimental data for square quantum volume circuits')\n",
    "axs.legend(loc='lower left')\n"
   ]
  }
 ],
 "metadata": {
  "kernelspec": {
   "display_name": "Python 3",
   "language": "python",
   "name": "python3"
  },
  "language_info": {
   "codemirror_mode": {
    "name": "ipython",
    "version": 3
   },
   "file_extension": ".py",
   "mimetype": "text/x-python",
   "name": "python",
   "nbconvert_exporter": "python",
   "pygments_lexer": "ipython3",
   "version": "3.7.4"
  }
 },
 "nbformat": 4,
 "nbformat_minor": 4
}
