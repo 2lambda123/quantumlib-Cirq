{
 "cells": [
  {
   "cell_type": "code",
   "execution_count": 1,
   "metadata": {},
   "outputs": [],
   "source": [
    "import cirq \n",
    "import numpy as np \n",
    "import random "
   ]
  },
  {
   "cell_type": "code",
   "execution_count": 2,
   "metadata": {},
   "outputs": [],
   "source": [
    "def special(u):\n",
    "    return u / (np.linalg.det(u) ** (1 / 4))\n",
    "\n",
    "\n",
    "def random_unitary(n_qubits = 3):\n",
    "    M = 2 ** n_qubits  # size of unitary matrix\n",
    "    H = np.random.rand(M, M) + 1.9j * np.random.rand(M, M)\n",
    "    H = H + H.conj().T\n",
    "    D, U = np.linalg.eigh(H)\n",
    "    return U\n",
    "\n",
    "def random_diagonal(n_qubits = 3):\n",
    "    return np.diag(random_unitary(n_qubits).diagonal())\n",
    "\n",
    "def diagonalize(u):        \n",
    "    eigvals, V = np.linalg.eig(u)\n",
    "\n",
    "    d = np.diag(np.sqrt(eigvals))\n",
    "#     np.testing.assert_almost_equal(V @ d @ d @ V.conj().T, u)\n",
    "    return d,V\n",
    "\n",
    "\n",
    "np.set_printoptions(suppress=True, precision=2)"
   ]
  },
  {
   "cell_type": "code",
   "execution_count": 3,
   "metadata": {},
   "outputs": [],
   "source": [
    "for i in range(1000): \n",
    "    diagonalize(random_unitary(2))"
   ]
  },
  {
   "cell_type": "code",
   "execution_count": 4,
   "metadata": {},
   "outputs": [],
   "source": [
    "for i in range(1000): \n",
    "    diagonalize(random_diagonal(2))"
   ]
  },
  {
   "cell_type": "code",
   "execution_count": 18,
   "metadata": {},
   "outputs": [],
   "source": [
    "d = np.array([[ 9.99933043e-01-1.15719559e-02j,  2.27189354e-16-1.76583529e-17j, -5.55111512e-17+2.08166817e-16j,  5.55111512e-17+1.66533454e-16j],\n",
    "       [-2.27537164e-16-1.23959254e-17j,  9.99933043e-01-1.15719559e-02j,  2.60998809e-18-3.75420002e-17j, -4.64138777e-17+4.72722989e-17j],\n",
    "       [-1.38777878e-17+1.87350135e-16j, -3.47809964e-18-3.74715444e-17j,  9.99933043e-01-1.15719559e-02j, -2.22044605e-16-5.55111512e-17j],\n",
    "       [-8.32667268e-17+1.38777878e-16j,  4.74954398e-17+4.61855116e-17j,  1.66533454e-16-1.11022302e-16j,  9.99933043e-01-1.15719559e-02j]])"
   ]
  },
  {
   "cell_type": "code",
   "execution_count": 23,
   "metadata": {},
   "outputs": [
    {
     "data": {
      "text/plain": [
       "0.023143911799999993"
      ]
     },
     "execution_count": 23,
     "metadata": {},
     "output_type": "execute_result"
    }
   ],
   "source": [
    "# np.set_printoptions(suppress=False, precision=8)\n",
    "D,V = np.linalg.eigh(d)\n",
    "\n",
    "np.linalg.norm(V @ np.diag(D) @ V.conj().T - d)"
   ]
  },
  {
   "cell_type": "code",
   "execution_count": null,
   "metadata": {},
   "outputs": [],
   "source": []
  },
  {
   "cell_type": "code",
   "execution_count": 45,
   "metadata": {},
   "outputs": [
    {
     "name": "stderr",
     "output_type": "stream",
     "text": [
      "/Users/balintp/envs/cirq37/lib/python3.7/site-packages/numpy/core/_asarray.py:138: ComplexWarning: Casting complex values to real discards the imaginary part\n",
      "  return array(a, dtype, copy=False, order=order, subok=True)\n"
     ]
    },
    {
     "data": {
      "text/plain": [
       "<matplotlib.legend.Legend at 0x13e68f310>"
      ]
     },
     "execution_count": 45,
     "metadata": {},
     "output_type": "execute_result"
    },
    {
     "data": {
      "image/png": "[encoded data removed]",
      "text/plain": [
       "<Figure size 432x288 with 1 Axes>"
      ]
     },
     "metadata": {
      "needs_background": "light"
     },
     "output_type": "display_data"
    }
   ],
   "source": [
    "from matplotlib import pyplot as plt \n",
    "import numpy as np\n",
    "\n",
    "xs = []\n",
    "ys = []\n",
    "md = []\n",
    "norms = []\n",
    "num_random = 200\n",
    "\n",
    "for prec in range(40): \n",
    "    for i in range(num_random): \n",
    "        err = lambda : (random.random()*2-1 + (random.random()*2-1) * 1j) * 10**(-prec)\n",
    "        r = err()\n",
    "        r /= np.abs(r)  \n",
    "        dd = np.eye(4) - np.diag([r,r,r,r]) \n",
    "        \n",
    "        dr = ((np.random.random((4,4)) * 2 - 1) * 1j + (np.random.random((4,4)) * 2 - 1)) * 10**(-prec)\n",
    "        \n",
    "        d = dr - dr.diagonal() + dd \n",
    "                \n",
    "        xs.append(r)\n",
    "        diag, V = diagonalize(d)\n",
    "    #     diff = np.abs(sum(sum(V @ diag @ diag @ V.conj().T - d))) / np.abs(np.max(d)) * 100 \n",
    "#         diff2 = (np.abs(np.max(V @ diag @ diag @ V.conj().T)) / np.abs(np.max(d)) - 1) * 100 \n",
    "#         diff = np.max(np.abs((V @ diag @ diag @ V.conj().T) / d - 1)) * 100 \n",
    "        n = np.linalg.norm(V @ diag @ diag @ V.conj().T - d)\n",
    "        nperc = np.linalg.norm(V @ diag @ diag @ V.conj().T - d) / np.linalg.norm(d) * 100\n",
    "        norms.append(n)\n",
    "        ys.append(nperc)\n",
    "#         print(diff)\n",
    "#         md.append(diff2)\n",
    "\n",
    "plt.axes(xlabel=\"precision\", ylabel=\"% error\")\n",
    "plt.scatter(xs,ys,label=\"max relative error\")\n",
    "plt.scatter(xs,norms,label=\"norms\")\n",
    "plt.legend()"
   ]
  },
  {
   "cell_type": "code",
   "execution_count": 8,
   "metadata": {},
   "outputs": [
    {
     "data": {
      "text/plain": [
       "(array([[1.0000125-0.00499994j, 0.       +0.j        ,\n",
       "         0.       +0.j        , 0.       +0.j        ],\n",
       "        [0.       +0.j        , 1.0000125-0.00499994j,\n",
       "         0.       +0.j        , 0.       +0.j        ],\n",
       "        [0.       +0.j        , 0.       +0.j        ,\n",
       "         1.0000125-0.00499994j, 0.       +0.j        ],\n",
       "        [0.       +0.j        , 0.       +0.j        ,\n",
       "         0.       +0.j        , 1.0000125-0.00499994j]]),\n",
       " array([[1.+0.j, 0.+0.j, 0.+0.j, 0.+0.j],\n",
       "        [0.+0.j, 1.+0.j, 0.+0.j, 0.+0.j],\n",
       "        [0.+0.j, 0.+0.j, 1.+0.j, 0.+0.j],\n",
       "        [0.+0.j, 0.+0.j, 0.+0.j, 1.+0.j]]))"
      ]
     },
     "execution_count": 8,
     "metadata": {},
     "output_type": "execute_result"
    }
   ],
   "source": [
    "np.set_printoptions(suppress=False, precision=8)\n",
    "diagonalize(np.array([[ 1.-0.01j,  0.-0.j  , -0.+0.j  ,  0.+0.j  ],\n",
    "       [-0.-0.j  ,  1.-0.01j,  0.-0.j  , -0.+0.j  ],\n",
    "       [-0.+0.j  , -0.-0.j  ,  1.-0.01j, -0.-0.j  ],\n",
    "       [-0.+0.j  ,  0.+0.j  ,  0.-0.j  ,  1.-0.01j]]))"
   ]
  },
  {
   "cell_type": "code",
   "execution_count": 9,
   "metadata": {},
   "outputs": [
    {
     "data": {
      "text/plain": [
       "array([0.5       , 0.33333333])"
      ]
     },
     "execution_count": 9,
     "metadata": {},
     "output_type": "execute_result"
    }
   ],
   "source": [
    "np.array([1,1]) / np.array([2,3])"
   ]
  },
  {
   "cell_type": "code",
   "execution_count": 10,
   "metadata": {},
   "outputs": [
    {
     "data": {
      "text/plain": [
       "array([1., 1.])"
      ]
     },
     "execution_count": 10,
     "metadata": {},
     "output_type": "execute_result"
    }
   ],
   "source": [
    "np.eye(2).diagonal()"
   ]
  },
  {
   "cell_type": "code",
   "execution_count": 11,
   "metadata": {},
   "outputs": [
    {
     "data": {
      "text/plain": [
       "<matplotlib.legend.Legend at 0x13cd47510>"
      ]
     },
     "execution_count": 11,
     "metadata": {},
     "output_type": "execute_result"
    },
    {
     "data": {
      "image/png": "[encoded data removed]",
      "text/plain": [
       "<Figure size 432x288 with 1 Axes>"
      ]
     },
     "metadata": {
      "needs_background": "light"
     },
     "output_type": "display_data"
    }
   ],
   "source": [
    "from matplotlib import pyplot as plt \n",
    "\n",
    "xs = []\n",
    "ys = []\n",
    "md = []\n",
    "num_random = 100 \n",
    "\n",
    "for prec in range(100): \n",
    "    for i in range(num_random): \n",
    "        r = random.random() * 10**(-prec)\n",
    "        diff = (1 / (1-r) - 1) * 100 \n",
    "        xs.append(r)\n",
    "        ys.append(diff)\n",
    "#         md.append(diff2)\n",
    "\n",
    "plt.axes(xlabel=\"error\", ylabel=\"% error\")\n",
    "plt.scatter(xs,ys,label=\"max relative error\")\n",
    "# plt.scatter(xs,md,label=\"md\")\n",
    "plt.legend()"
   ]
  },
  {
   "cell_type": "code",
   "execution_count": 12,
   "metadata": {},
   "outputs": [
    {
     "data": {
      "text/plain": [
       "<matplotlib.legend.Legend at 0x13ce8fa10>"
      ]
     },
     "execution_count": 12,
     "metadata": {},
     "output_type": "execute_result"
    },
    {
     "data": {
      "image/png": "[encoded data removed]",
      "text/plain": [
       "<Figure size 432x288 with 1 Axes>"
      ]
     },
     "metadata": {
      "needs_background": "light"
     },
     "output_type": "display_data"
    }
   ],
   "source": [
    "from matplotlib import pyplot as plt \n",
    "\n",
    "xs = []\n",
    "ys = []\n",
    "md = []\n",
    "num_random = 100 \n",
    "\n",
    "for prec in range(40): \n",
    "    for i in range(num_random): \n",
    "        d = random_unitary(2)\n",
    "        r = random.random() * 10**(-prec)\n",
    "        xs.append(r)\n",
    "        diag, V = diagonalize(d - r)\n",
    "    #     diff = np.abs(sum(sum(V @ diag @ diag @ V.conj().T - d))) / np.abs(np.max(d)) * 100 \n",
    "        diff2 = (np.abs(np.max(V @ diag @ diag @ V.conj().T)) / np.abs(np.max(d)) - 1) * 100 \n",
    "        diff = np.max(np.abs((V @ diag @ diag @ V.conj().T) / d - 1)) * 100 \n",
    "        ys.append(diff)\n",
    "#         print(diff)\n",
    "#         md.append(diff2)\n",
    "\n",
    "plt.axes(xlabel=\"precision\", ylabel=\"% error\")\n",
    "plt.scatter(xs,ys,label=\"max relative error\")\n",
    "# plt.scatter(xs,md,label=\"md\")\n",
    "plt.legend()"
   ]
  },
  {
   "cell_type": "code",
   "execution_count": 13,
   "metadata": {},
   "outputs": [],
   "source": [
    "u = random_unitary(2)"
   ]
  },
  {
   "cell_type": "code",
   "execution_count": 14,
   "metadata": {},
   "outputs": [
    {
     "data": {
      "text/plain": [
       "array([[ 0.68028449+0.j        , -0.40924599+0.j        ,\n",
       "         0.23056163+0.j        ,  0.56264738+0.j        ],\n",
       "       [-0.44644786+0.11037543j, -0.57294537-0.04709875j,\n",
       "        -0.55545539-0.10450539j,  0.3506684 -0.12488592j],\n",
       "       [ 0.07316933+0.38433714j,  0.60888517+0.02251576j,\n",
       "        -0.19734677-0.41101091j,  0.43527875-0.27989248j],\n",
       "       [-0.30495495-0.28222026j,  0.28695535-0.22009442j,\n",
       "         0.13885427+0.63263975j,  0.52053381-0.07810423j]])"
      ]
     },
     "execution_count": 14,
     "metadata": {},
     "output_type": "execute_result"
    }
   ],
   "source": [
    "u"
   ]
  },
  {
   "cell_type": "code",
   "execution_count": 15,
   "metadata": {},
   "outputs": [
    {
     "data": {
      "text/plain": [
       "array([[0.8247936 +0.j        , 0.        +0.63972337j,\n",
       "        0.48016833+0.j        , 0.75009825+0.j        ],\n",
       "       [0.08198085+0.67317807j, 0.03108543-0.75756958j,\n",
       "        0.06980515-0.7485507j , 0.60121184-0.10386182j],\n",
       "       [0.48187623+0.39879239j, 0.78044426+0.01442496j,\n",
       "        0.35957414-0.57152457j, 0.69021006-0.20275891j],\n",
       "       [0.23510819-0.60019232j, 0.56947227-0.1932442j ,\n",
       "        0.62711759+0.50440281j, 0.72349659-0.05397692j]])"
      ]
     },
     "execution_count": 15,
     "metadata": {},
     "output_type": "execute_result"
    }
   ],
   "source": [
    "np.sqrt(u)"
   ]
  },
  {
   "cell_type": "code",
   "execution_count": 16,
   "metadata": {},
   "outputs": [
    {
     "data": {
      "text/plain": [
       "(array([[-0.43268106-0.22577167j,  0.49369606-0.03464265j,\n",
       "         -0.45672433-0.21034111j, -0.30261081+0.4152885j ],\n",
       "        [-0.27270023+0.29449201j, -0.03901126+0.68503416j,\n",
       "          0.22618838-0.16357211j,  0.35568121+0.40458526j],\n",
       "        [-0.59342566+0.09827053j,  0.12932611+0.25778598j,\n",
       "          0.00198582+0.43141081j, -0.15288613-0.58780663j],\n",
       "        [-0.4848878 -0.06161176j, -0.0356527 -0.4470128j ,\n",
       "          0.43302352-0.54370386j,  0.21289879-0.17761505j]]),\n",
       " array([2.10463732, 1.58699674, 0.89101026, 0.19539512]),\n",
       " array([[-0.23983874+0.j        , -0.5235813 -0.01702339j,\n",
       "         -0.49982064+0.18523959j, -0.61582726+0.06835652j],\n",
       "        [ 0.81297131+0.j        , -0.23415653+0.2433635j ,\n",
       "         -0.39515545+0.05907847j,  0.19599609-0.16422549j],\n",
       "        [ 0.14911296+0.j        ,  0.3993486 -0.63878548j,\n",
       "         -0.36992879+0.38858056j,  0.07511098+0.34169476j],\n",
       "        [-0.50923507+0.j        , -0.01028879+0.20948914j,\n",
       "         -0.50376513+0.12085552j,  0.62493429-0.19431897j]]))"
      ]
     },
     "execution_count": 16,
     "metadata": {},
     "output_type": "execute_result"
    }
   ],
   "source": [
    "np.linalg.svd(np.sqrt(u))"
   ]
  },
  {
   "cell_type": "code",
   "execution_count": 17,
   "metadata": {},
   "outputs": [
    {
     "data": {
      "text/plain": [
       "(array([-0.92662719+0.37598145j,  0.85290283+0.52206969j,\n",
       "         0.86508033-0.50163335j, -0.36082982-0.93263168j]),\n",
       " array([[ 0.29712708+0.08190195j,  0.64177302+0.j        ,\n",
       "          0.69664844+0.j        , -0.08311814-0.03012136j],\n",
       "        [ 0.76980268+0.j        , -0.21100849+0.14285454j,\n",
       "         -0.15698471-0.10744387j,  0.00739971-0.55337934j],\n",
       "        [-0.02426838-0.425769j  ,  0.3065132 +0.30141369j,\n",
       "         -0.12962113-0.13239359j,  0.7739519 +0.j        ],\n",
       "        [-0.33345319+0.13911212j, -0.08218782+0.57588193j,\n",
       "          0.16773921-0.64500111j, -0.20789568-0.20899394j]]))"
      ]
     },
     "execution_count": 17,
     "metadata": {},
     "output_type": "execute_result"
    }
   ],
   "source": [
    "np.linalg.eig(u)"
   ]
  },
  {
   "cell_type": "code",
   "execution_count": 44,
   "metadata": {},
   "outputs": [
    {
     "data": {
      "text/plain": [
       "0.0"
      ]
     },
     "execution_count": 44,
     "metadata": {},
     "output_type": "execute_result"
    }
   ],
   "source": [
    "np.linalg.norm(d-d)"
   ]
  },
  {
   "cell_type": "code",
   "execution_count": null,
   "metadata": {},
   "outputs": [],
   "source": []
  },
  {
   "cell_type": "code",
   "execution_count": null,
   "metadata": {},
   "outputs": [],
   "source": []
  }
 ],
 "metadata": {
  "kernelspec": {
   "display_name": "Python 3",
   "language": "python",
   "name": "python3"
  },
  "language_info": {
   "codemirror_mode": {
    "name": "ipython",
    "version": 3
   },
   "file_extension": ".py",
   "mimetype": "text/x-python",
   "name": "python",
   "nbconvert_exporter": "python",
   "pygments_lexer": "ipython3",
   "version": "3.7.5"
  }
 },
 "nbformat": 4,
 "nbformat_minor": 2
}
