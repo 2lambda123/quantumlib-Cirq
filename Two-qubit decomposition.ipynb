{
 "cells": [
  {
   "cell_type": "code",
   "execution_count": 1,
   "metadata": {},
   "outputs": [
    {
     "name": "stdout",
     "output_type": "stream",
     "text": [
      "[[-0.26+0.00j  0.68+0.00j  0.43+0.00j -0.54+0.00j]\n",
      " [-0.15-0.24j -0.42+0.29j -0.03-0.66j -0.47-0.05j]\n",
      " [-0.48+0.24j -0.36-0.35j -0.24+0.43j -0.42-0.20j]\n",
      " [ 0.75+0.04j  0.13-0.14j -0.36+0.06j -0.50-0.14j]]\n"
     ]
    }
   ],
   "source": [
    "import numpy as np \n",
    "from numpy.linalg import eigh, eig\n",
    "import cirq\n",
    "\n",
    "n_qubits = 2\n",
    "M = 2 ** n_qubits  # size of unitary matrix\n",
    "\n",
    "H = np.random.rand(M, M) + 1.9j * np.random.rand(M, M)\n",
    "H = H + H.conj().T\n",
    "D, U = eigh(H)\n",
    "np.set_printoptions(precision=2, suppress=False, linewidth=300,\n",
    "                    floatmode='maxprec_equal')\n",
    "print(U)"
   ]
  },
  {
   "cell_type": "code",
   "execution_count": 69,
   "metadata": {},
   "outputs": [
    {
     "data": {
      "text/html": [
       "<pre style=\"overflow: auto; white-space: pre;\">0: ───PhX(-0.496)^0.45────@───PhX(0.841)^0.5──────@───\n",
       "                          │                       │\n",
       "1: ───PhX(-0.216)^0.397───@───PhX(-0.809)^0.721───@───</pre>"
      ],
      "text/plain": [
       "0: ───PhX(-0.496)^0.45────@───PhX(0.841)^0.5──────@───\n",
       "                          │                       │\n",
       "1: ───PhX(-0.216)^0.397───@───PhX(-0.809)^0.721───@───"
      ]
     },
     "execution_count": 69,
     "metadata": {},
     "output_type": "execute_result"
    }
   ],
   "source": [
    "a,b,c = cirq.LineQubit.range(3)\n",
    "\n",
    "# we can't really cut out a diagonal from the KAK decomposition...\n",
    "[cirq.Circuit(cirq.two_qubit_matrix_to_operations(a,b,U,False))[0:4]]"
   ]
  },
  {
   "cell_type": "code",
   "execution_count": 3,
   "metadata": {},
   "outputs": [],
   "source": [
    "MAGIC=np.array([\n",
    "    [1, 1j, 0, 0],\n",
    "    [0, 0, 1j, 1],\n",
    "    [0, 0, 1j, -1],\n",
    "    [1, -1j, 0, 0]])"
   ]
  },
  {
   "cell_type": "code",
   "execution_count": 4,
   "metadata": {},
   "outputs": [
    {
     "data": {
      "text/plain": [
       "array([[-0.44-0.54j, -0.52-1.56j,  0.46-0.62j,  0.39+0.23j],\n",
       "       [ 0.02-0.91j, -0.48+0.23j,  0.10+1.35j,  1.02+0.03j],\n",
       "       [-1.21-0.73j,  0.40-0.20j, -1.00+0.35j, -0.76-0.30j],\n",
       "       [-0.09-0.81j, -0.56+0.70j,  0.61-0.24j, -0.92+1.12j]])"
      ]
     },
     "execution_count": 4,
     "metadata": {},
     "output_type": "execute_result"
    }
   ],
   "source": [
    "MU = MAGIC @ U @ MAGIC.conj().T\n",
    "MU"
   ]
  },
  {
   "cell_type": "code",
   "execution_count": 5,
   "metadata": {},
   "outputs": [],
   "source": [
    "ev, VV = eig(MU)"
   ]
  },
  {
   "cell_type": "code",
   "execution_count": 6,
   "metadata": {},
   "outputs": [],
   "source": [
    "f,a,b = cirq.linalg.decompositions.kron_factor_4x4_to_2x2s(VV)"
   ]
  },
  {
   "cell_type": "code",
   "execution_count": 7,
   "metadata": {},
   "outputs": [
    {
     "data": {
      "text/plain": [
       "array([[ 0.00+0.00j,  0.38-0.16j, -0.97+0.07j, -0.10-0.80j],\n",
       "       [-0.42-0.28j,  0.00+0.00j,  0.65+0.00j,  0.33+0.03j],\n",
       "       [-0.09+0.76j, -0.62+0.00j,  0.00+0.00j,  0.09+0.51j],\n",
       "       [-0.53+0.65j,  0.14-0.74j, -0.06-0.38j,  0.00+0.00j]])"
      ]
     },
     "execution_count": 7,
     "metadata": {},
     "output_type": "execute_result"
    }
   ],
   "source": [
    "VV @ np.diag([1,2,3,4]) - np.diag([1,2,3,4]) @ VV"
   ]
  },
  {
   "cell_type": "code",
   "execution_count": 8,
   "metadata": {},
   "outputs": [
    {
     "data": {
      "text/plain": [
       "array([[ 0.50-0.34j, -0.14+0.70j],\n",
       "       [-0.11+0.52j,  1.02+0.40j]])"
      ]
     },
     "execution_count": 8,
     "metadata": {},
     "output_type": "execute_result"
    }
   ],
   "source": [
    "b"
   ]
  },
  {
   "cell_type": "code",
   "execution_count": 9,
   "metadata": {},
   "outputs": [
    {
     "data": {
      "text/plain": [
       "array([[-0.29-9.28e-02j,  0.32-1.60e-01j,  0.06-7.08e-02j,  0.01+1.07e-01j],\n",
       "       [ 0.24-1.14e-01j, -0.15-5.22e-01j,  0.01+7.87e-02j,  0.16+1.37e-02j],\n",
       "       [ 0.15+1.48e-01j, -0.25-1.29e-03j,  0.25-3.64e-01j,  0.09+5.11e-01j],\n",
       "       [-0.18-3.73e-03j, -0.07+3.72e-01j,  0.06+3.77e-01j,  0.79+2.78e-17j]])"
      ]
     },
     "execution_count": 9,
     "metadata": {},
     "output_type": "execute_result"
    }
   ],
   "source": [
    "f * np.kron(a,b)"
   ]
  },
  {
   "cell_type": "code",
   "execution_count": 10,
   "metadata": {},
   "outputs": [],
   "source": [
    "decomp = cirq.linalg.kak_decomposition(U)"
   ]
  },
  {
   "cell_type": "code",
   "execution_count": 11,
   "metadata": {},
   "outputs": [],
   "source": [
    "x_mat = np.array([[0, 1], [1, 0]])\n",
    "y_mat = np.array([[0, -1j], [1j, 0]])\n",
    "z_mat = np.array([[1, 0], [0, -1]])"
   ]
  },
  {
   "cell_type": "code",
   "execution_count": 12,
   "metadata": {},
   "outputs": [],
   "source": [
    "from cirq.linalg.decompositions import *\n",
    "def interaction_matrix(m: np.ndarray, c: float) -> np.ndarray:\n",
    "    return map_eigenvalues(np.kron(m, m),\n",
    "                           lambda v: np.exp(1j * v * c))"
   ]
  },
  {
   "cell_type": "code",
   "execution_count": 13,
   "metadata": {},
   "outputs": [
    {
     "data": {
      "text/plain": [
       "array([[-0.26-1.11e-16j,  0.68-1.11e-16j,  0.43+1.53e-16j, -0.54-5.55e-16j],\n",
       "       [-0.15-2.40e-01j, -0.42+2.89e-01j, -0.03-6.60e-01j, -0.47-4.90e-02j],\n",
       "       [-0.48+2.35e-01j, -0.36-3.45e-01j, -0.24+4.31e-01j, -0.42-2.03e-01j],\n",
       "       [ 0.75+3.70e-02j,  0.13-1.36e-01j, -0.36+5.54e-02j, -0.50-1.44e-01j]])"
      ]
     },
     "execution_count": 13,
     "metadata": {},
     "output_type": "execute_result"
    }
   ],
   "source": [
    "decomp.global_phase * (np.kron(*decomp.single_qubit_operations_after)\n",
    "@ combinators.dot(\n",
    "                interaction_matrix(z_mat, decomp.interaction_coefficients[2]), \n",
    "                interaction_matrix(y_mat, decomp.interaction_coefficients[1]),\n",
    "                interaction_matrix(x_mat, decomp.interaction_coefficients[0])) \n",
    " @ np.kron(*decomp.single_qubit_operations_before))"
   ]
  },
  {
   "cell_type": "code",
   "execution_count": 14,
   "metadata": {},
   "outputs": [
    {
     "data": {
      "text/plain": [
       "array([[-0.26+0.00j,  0.68+0.00j,  0.43+0.00j, -0.54+0.00j],\n",
       "       [-0.15-0.24j, -0.42+0.29j, -0.03-0.66j, -0.47-0.05j],\n",
       "       [-0.48+0.24j, -0.36-0.35j, -0.24+0.43j, -0.42-0.20j],\n",
       "       [ 0.75+0.04j,  0.13-0.14j, -0.36+0.06j, -0.50-0.14j]])"
      ]
     },
     "execution_count": 14,
     "metadata": {},
     "output_type": "execute_result"
    }
   ],
   "source": [
    "U"
   ]
  },
  {
   "cell_type": "code",
   "execution_count": 15,
   "metadata": {},
   "outputs": [
    {
     "data": {
      "text/plain": [
       "array([[-0.26-8.33e-17j,  0.68-1.11e-16j,  0.43+2.36e-16j, -0.54-5.00e-16j],\n",
       "       [-0.15-2.40e-01j, -0.42+2.89e-01j, -0.03-6.60e-01j, -0.47-4.90e-02j],\n",
       "       [-0.48+2.35e-01j, -0.36-3.45e-01j, -0.24+4.31e-01j, -0.42-2.03e-01j],\n",
       "       [ 0.75+3.70e-02j,  0.13-1.36e-01j, -0.36+5.54e-02j, -0.50-1.44e-01j]])"
      ]
     },
     "execution_count": 15,
     "metadata": {},
     "output_type": "execute_result"
    }
   ],
   "source": [
    "decomp._unitary_()"
   ]
  },
  {
   "cell_type": "code",
   "execution_count": 16,
   "metadata": {},
   "outputs": [
    {
     "data": {
      "text/plain": [
       "array([[ 0.98+0.11j,  0.00+0.00j,  0.00+0.00j, -0.02+0.14j],\n",
       "       [ 0.00+0.00j,  0.52-0.06j,  0.09+0.85j,  0.00+0.00j],\n",
       "       [ 0.00+0.00j,  0.09+0.85j,  0.52-0.06j,  0.00+0.00j],\n",
       "       [-0.02+0.14j,  0.00+0.00j,  0.00+0.00j,  0.98+0.11j]])"
      ]
     },
     "execution_count": 16,
     "metadata": {},
     "output_type": "execute_result"
    }
   ],
   "source": [
    "combinators.dot(\n",
    "                interaction_matrix(z_mat, decomp.interaction_coefficients[2]), \n",
    "                interaction_matrix(y_mat, decomp.interaction_coefficients[1]),\n",
    "                interaction_matrix(x_mat, decomp.interaction_coefficients[0])\n",
    ") "
   ]
  },
  {
   "cell_type": "code",
   "execution_count": 17,
   "metadata": {},
   "outputs": [
    {
     "name": "stderr",
     "output_type": "stream",
     "text": [
      "/Users/balintp/dev/proj/Cirq/cirq/linalg/decompositions.py:655: UserWarning: Matplotlib is currently using module://ipykernel.pylab.backend_inline, which is a non-GUI backend, so cannot show the figure.\n",
      "  fig.show()\n"
     ]
    },
    {
     "data": {
      "image/png": "[encoded data removed]",
      "text/plain": [
       "<Figure size 432x288 with 1 Axes>"
      ]
     },
     "metadata": {
      "needs_background": "light"
     },
     "output_type": "display_data"
    }
   ],
   "source": [
    "ax = None\n",
    "for y in np.linspace(0, 0.5, 4):\n",
    " a, b = cirq.LineQubit.range(2)\n",
    " circuits = [\n",
    "     cirq.Circuit(\n",
    "         cirq.CZ(a, b)**0.5,\n",
    "         cirq.X(a)**y, cirq.X(b)**x,\n",
    "         cirq.CZ(a, b)**0.5,\n",
    "         cirq.X(a)**x, cirq.X(b)**y,\n",
    "         cirq.CZ(a, b) ** 0.5,\n",
    "     )\n",
    "     for x in np.linspace(0, 1, 25)\n",
    " ]\n",
    " ax = cirq.scatter_plot_normalized_kak_interaction_coefficients(\n",
    "     circuits,\n",
    "     include_frame=ax is None,\n",
    "     ax=ax,\n",
    "     s=1,\n",
    "     label=f'y={y:0.2f}')\n",
    "_ = ax.legend()\n",
    "import matplotlib.pyplot as plt\n",
    "plt.show()"
   ]
  },
  {
   "cell_type": "code",
   "execution_count": 18,
   "metadata": {},
   "outputs": [],
   "source": [
    "l, d, r = diagonalize.bidiagonalize_unitary_with_special_orthogonals(KAK_MAGIC_DAG @ U @ KAK_MAGIC)"
   ]
  },
  {
   "cell_type": "code",
   "execution_count": 19,
   "metadata": {},
   "outputs": [
    {
     "data": {
      "text/plain": [
       "cirq.KakDecomposition(\n",
       "    interaction_coefficients=(0.5831749768965224, 0.43891729732541607, 0.10845772503012241),\n",
       "    single_qubit_operations_before=(\n",
       "        np.array([[(-0.6723783711033846+0.6918210076068696j), (0.23263823665903982+0.12316846329457769j)], [(-0.23263823665903985+0.12316846329457762j), (-0.6723783711033847-0.6918210076068699j)]], dtype=np.complex128),\n",
       "        np.array([[(-0.6727326433923584-0.4284610985308779j), (-0.1373476291231226-0.5873563708127301j)], [(0.13734762912312257-0.5873563708127302j), (-0.6727326433923582+0.42846109853087794j)]], dtype=np.complex128),\n",
       "    ),\n",
       "    single_qubit_operations_after=(\n",
       "        np.array([[(0.10725057716802967-0.2208300127526694j), (0.9619354229702899-0.1200485784994994j)], [(-0.9619354229702897-0.12004857849949929j), (0.10725057716802971+0.22083001275266928j)]], dtype=np.complex128),\n",
       "        np.array([[(-0.15923068182567823+0.7690679857911789j), (0.05663430979603035-0.6164191578385252j)], [(-0.05663430979602979-0.6164191578385252j), (-0.1592306818256784-0.7690679857911786j)]], dtype=np.complex128),\n",
       "    ),\n",
       "    global_phase=(-0.26958245099688993-0.9629773113186569j))"
      ]
     },
     "execution_count": 19,
     "metadata": {},
     "output_type": "execute_result"
    }
   ],
   "source": [
    "decomp"
   ]
  },
  {
   "cell_type": "code",
   "execution_count": 20,
   "metadata": {},
   "outputs": [
    {
     "data": {
      "text/plain": [
       "array([[-0.99-0.17j, -0.00-0.00j,  0.00+0.00j,  0.00+0.00j],\n",
       "       [ 0.00+0.00j,  0.60-0.80j, -0.00-0.00j,  0.00-0.00j],\n",
       "       [-0.00-0.00j, -0.00+0.00j,  0.30+0.95j, -0.00-0.00j],\n",
       "       [ 0.00+0.00j, -0.00+0.00j, -0.00-0.00j,  0.02+1.00j]])"
      ]
     },
     "execution_count": 20,
     "metadata": {},
     "output_type": "execute_result"
    }
   ],
   "source": [
    "np.set_printoptions(precision=2, suppress=True)\n",
    "l @ KAK_MAGIC_DAG @ U @ KAK_MAGIC @ r"
   ]
  },
  {
   "cell_type": "code",
   "execution_count": 21,
   "metadata": {},
   "outputs": [
    {
     "data": {
      "text/plain": [
       "array([[-0.26+0.00j,  0.68+0.00j,  0.43+0.00j, -0.54-0.00j],\n",
       "       [-0.15-0.24j, -0.42+0.29j, -0.03-0.66j, -0.47-0.05j],\n",
       "       [-0.48+0.24j, -0.36-0.35j, -0.24+0.43j, -0.42-0.20j],\n",
       "       [ 0.75+0.04j,  0.13-0.14j, -0.36+0.06j, -0.50-0.14j]])"
      ]
     },
     "execution_count": 21,
     "metadata": {},
     "output_type": "execute_result"
    }
   ],
   "source": [
    " KAK_MAGIC @ l.conj().T @ np.diag(d) @ r.conj().T @ KAK_MAGIC_DAG "
   ]
  },
  {
   "cell_type": "code",
   "execution_count": 22,
   "metadata": {},
   "outputs": [
    {
     "data": {
      "text/plain": [
       "array([[-0.26+0.00j,  0.68+0.00j,  0.43+0.00j, -0.54+0.00j],\n",
       "       [-0.15-0.24j, -0.42+0.29j, -0.03-0.66j, -0.47-0.05j],\n",
       "       [-0.48+0.24j, -0.36-0.35j, -0.24+0.43j, -0.42-0.20j],\n",
       "       [ 0.75+0.04j,  0.13-0.14j, -0.36+0.06j, -0.50-0.14j]])"
      ]
     },
     "execution_count": 22,
     "metadata": {},
     "output_type": "execute_result"
    }
   ],
   "source": [
    "U"
   ]
  },
  {
   "cell_type": "code",
   "execution_count": 23,
   "metadata": {},
   "outputs": [
    {
     "data": {
      "text/plain": [
       "array([[-2.97],\n",
       "       [-0.93],\n",
       "       [ 1.26],\n",
       "       [ 1.55]])"
      ]
     },
     "execution_count": 23,
     "metadata": {},
     "output_type": "execute_result"
    }
   ],
   "source": [
    "np.vstack(np.angle(d))"
   ]
  },
  {
   "cell_type": "code",
   "execution_count": 24,
   "metadata": {},
   "outputs": [
    {
     "data": {
      "text/plain": [
       "array([[-0.27],\n",
       "       [-1.68],\n",
       "       [ 0.58],\n",
       "       [-0.44]])"
      ]
     },
     "execution_count": 24,
     "metadata": {},
     "output_type": "execute_result"
    }
   ],
   "source": [
    "KAK_GAMMA @ np.vstack(np.angle(d))"
   ]
  },
  {
   "cell_type": "markdown",
   "metadata": {},
   "source": [
    "A diagonal on the left side will commute with the CZs on both (b,c) and (a,c). "
   ]
  },
  {
   "cell_type": "code",
   "execution_count": 124,
   "metadata": {},
   "outputs": [
    {
     "name": "stdout",
     "output_type": "stream",
     "text": [
      "0: ───PhX(0.0178)^-0.8───@───PhX(0.21)^-0.8─────@───\n",
      "                         │                      │\n",
      "1: ───PhX(0.0089)^-0.8───@───PhX(-0.619)^-0.8───@───\n",
      "[[ 0.73-0.44j -0.01-0.46j -0.19+0.08j -0.09-0.08j]\n",
      " [-0.43+0.16j  0.21-0.67j -0.04+0.11j -0.46-0.25j]\n",
      " [-0.20-0.07j -0.02-0.12j -0.69-0.60j  0.07+0.32j]\n",
      " [ 0.10-0.06j  0.18+0.49j -0.27+0.17j -0.77+0.13j]]\n"
     ]
    },
    {
     "data": {
      "text/html": [
       "<pre style=\"overflow: auto; white-space: pre;\">0: ───PhX(-0.822)^0.682───@───PhX(0.482)^0.2────@───PhX(-0.0177)^0.837────Z^(-3/11)───\n",
       "                          │                     │\n",
       "1: ───PhX(-0.922)^0.645───@───PhX(-0.505)^0.2───@───PhX(-0.00489)^0.837───Z^-0.114────</pre>"
      ],
      "text/plain": [
       "0: ───PhX(-0.822)^0.682───@───PhX(0.482)^0.2────@───PhX(-0.0177)^0.837────Z^(-3/11)───\n",
       "                          │                     │\n",
       "1: ───PhX(-0.922)^0.645───@───PhX(-0.505)^0.2───@───PhX(-0.00489)^0.837───Z^-0.114────"
      ]
     },
     "execution_count": 124,
     "metadata": {},
     "output_type": "execute_result"
    }
   ],
   "source": [
    "def get_exponent(): \n",
    "    return 1.2\n",
    "alpha, beta, gamma = [1 - np.random.random()*2,1 - np.random.random()*2,1 - np.random.random()*2]\n",
    "circuit = cirq.Circuit([\n",
    "                        cirq.PhasedXPowGate(phase_exponent=alpha, exponent=get_exponent()).on(a), \n",
    "                        cirq.PhasedXPowGate(phase_exponent=alpha/2, exponent=get_exponent()).on(b), \n",
    "                        cirq.CZ(a,b),\n",
    "                        cirq.PhasedXPowGate(phase_exponent=beta, exponent=get_exponent()).on(b),\n",
    "                        cirq.PhasedXPowGate(phase_exponent=gamma, exponent=get_exponent()).on(a), \n",
    "                            cirq.CZ(a,b),\n",
    "                       ])\n",
    "\n",
    "print(circuit)\n",
    "print(circuit._unitary_())\n",
    "cirq.Circuit(cirq.two_qubit_matrix_to_operations(a,b,circuit._unitary_(),False))"
   ]
  },
  {
   "cell_type": "code",
   "execution_count": 118,
   "metadata": {},
   "outputs": [
    {
     "name": "stdout",
     "output_type": "stream",
     "text": [
      "0: ───PhX(-0.934)───@───PhX(-0.976)───────\n",
      "                    │\n",
      "1: ───PhX(-0.467)───@───PhX(0.638)────@───\n",
      "                                      │\n",
      "2: ───────────────────────────────────@───\n",
      "[[ 0.98-0.20j  0.00+0.00j  0.00+0.00j  0.00+0.00j  0.00+0.00j  0.00+0.00j  0.00+0.00j  0.00+0.00j]\n",
      " [ 0.00+0.00j  0.98-0.20j  0.00+0.00j  0.00+0.00j  0.00+0.00j  0.00+0.00j  0.00+0.00j  0.00+0.00j]\n",
      " [ 0.00+0.00j  0.00+0.00j -0.90-0.44j  0.00+0.00j  0.00+0.00j  0.00+0.00j  0.00+0.00j  0.00+0.00j]\n",
      " [-0.00+0.00j -0.00+0.00j -0.00+0.00j  0.90+0.44j -0.00+0.00j -0.00+0.00j -0.00+0.00j -0.00+0.00j]\n",
      " [ 0.00+0.00j  0.00+0.00j  0.00+0.00j  0.00+0.00j -0.90+0.44j  0.00+0.00j  0.00+0.00j  0.00+0.00j]\n",
      " [ 0.00+0.00j  0.00+0.00j  0.00+0.00j  0.00+0.00j  0.00+0.00j -0.90+0.44j  0.00+0.00j  0.00+0.00j]\n",
      " [ 0.00+0.00j  0.00+0.00j  0.00+0.00j  0.00+0.00j  0.00+0.00j  0.00+0.00j -0.98-0.20j  0.00+0.00j]\n",
      " [-0.00+0.00j -0.00+0.00j -0.00+0.00j -0.00+0.00j -0.00+0.00j -0.00+0.00j -0.00+0.00j  0.98+0.20j]]\n"
     ]
    }
   ],
   "source": [
    "circuit = cirq.Circuit([\n",
    "                        cirq.PhasedXPowGate(phase_exponent=alpha, exponent=get_exponent()).on(a), \n",
    "                        cirq.PhasedXPowGate(phase_exponent=alpha/2, exponent=get_exponent()).on(b), \n",
    "                        cirq.CZ(a,b),\n",
    "                        cirq.PhasedXPowGate(phase_exponent=beta, exponent=get_exponent()).on(b),\n",
    "                        cirq.PhasedXPowGate(phase_exponent=gamma, exponent=get_exponent()).on(a), \n",
    "                        cirq.CZ(b,c),\n",
    "                       ])\n",
    "\n",
    "print(circuit)\n",
    "print(circuit._unitary_())"
   ]
  },
  {
   "cell_type": "markdown",
   "metadata": {},
   "source": [
    "Now, the question is: how do we extract a diagonal from the left side of the two qubit operator? Preferrably taking a CZ or a CNOT with it :)"
   ]
  },
  {
   "cell_type": "code",
   "execution_count": 27,
   "metadata": {},
   "outputs": [
    {
     "data": {
      "text/plain": [
       "array([[0.79+0.40j, 0.25-0.38j],\n",
       "       [0.16-0.43j, 0.79+0.40j]])"
      ]
     },
     "execution_count": 27,
     "metadata": {},
     "output_type": "execute_result"
    }
   ],
   "source": [
    "cirq.PhasedXPowGate(phase_exponent=alpha, exponent=0.3)._unitary_()"
   ]
  },
  {
   "cell_type": "code",
   "execution_count": 28,
   "metadata": {},
   "outputs": [
    {
     "data": {
      "text/plain": [
       "array([[ 0.47+0.88j,  0.00+0.00j],\n",
       "       [ 0.00+0.00j, -0.47+0.88j]])"
      ]
     },
     "execution_count": 28,
     "metadata": {},
     "output_type": "execute_result"
    }
   ],
   "source": [
    "(cirq.rz(2* (np.pi / 2))**0.312)._unitary_() * 1j"
   ]
  },
  {
   "cell_type": "code",
   "execution_count": 29,
   "metadata": {},
   "outputs": [
    {
     "data": {
      "text/plain": [
       "array([[1.00+0.00j, 0.00+0.00j],\n",
       "       [0.00+0.00j, 0.56+0.83j]])"
      ]
     },
     "execution_count": 29,
     "metadata": {},
     "output_type": "execute_result"
    }
   ],
   "source": [
    "(cirq.Z ** 0.312)._unitary_()"
   ]
  },
  {
   "cell_type": "code",
   "execution_count": 30,
   "metadata": {},
   "outputs": [],
   "source": [
    "cirq.testing.assert_allclose_up_to_global_phase(\n",
    "    (cirq.rz(2* (np.pi / 2))**0.312)._unitary_(),\n",
    "    (cirq.Z ** 0.312)._unitary_(), atol=1e-8)"
   ]
  },
  {
   "cell_type": "code",
   "execution_count": 31,
   "metadata": {},
   "outputs": [],
   "source": [
    "cirq.testing.assert_allclose_up_to_global_phase(\n",
    "    (cirq.rz(np.pi)**0.312)._unitary_(),\n",
    "    (cirq.Z ** 0.312)._unitary_(), atol=1e-8)"
   ]
  },
  {
   "cell_type": "code",
   "execution_count": 32,
   "metadata": {},
   "outputs": [],
   "source": [
    "cirq.testing.assert_allclose_up_to_global_phase(\n",
    "    (cirq.rx(np.pi)**0.312)._unitary_(),\n",
    "    (cirq.X ** 0.312)._unitary_(), atol=1e-8)"
   ]
  },
  {
   "cell_type": "code",
   "execution_count": 33,
   "metadata": {},
   "outputs": [],
   "source": [
    "cirq.testing.assert_allclose_up_to_global_phase(\n",
    "    (cirq.PhasedXPowGate(phase_exponent=alpha, exponent=0.3).on(a)._unitary_()),\n",
    "    cirq.unitary(\n",
    "        cirq.Circuit([\n",
    "            cirq.rz(np.pi * -alpha).on(a),\n",
    "            cirq.rx(np.pi * 0.3).on(a),\n",
    "            cirq.rz(np.pi * alpha).on(a),\n",
    "            ])\n",
    "    ), \n",
    "     atol=1e-8)"
   ]
  },
  {
   "cell_type": "code",
   "execution_count": 34,
   "metadata": {},
   "outputs": [
    {
     "name": "stdout",
     "output_type": "stream",
     "text": [
      "0: ───Rz(0.496π)───Rx(0.45π)────Rz(-0.496π)───@───Rz(-0.841π)───\n",
      "                                              │\n",
      "1: ───Rz(0.216π)───Rx(0.397π)───Rz(-0.216π)───@───Rz(0.809π)────\n",
      "\n",
      "[[ 0.62+0.03j  0.30-0.33j  0.53+0.02j  0.25-0.29j]\n",
      " [ 0.42+0.15j -0.53+0.32j  0.36+0.12j -0.45+0.28j]\n",
      " [ 0.45+0.28j  0.36-0.12j -0.53-0.32j -0.42+0.15j]\n",
      " [-0.25-0.29j  0.53-0.02j  0.30+0.33j -0.62+0.03j]]\n",
      "\n",
      "0: ───Rz(0.496π)───Rz(-0.496π)───@───Rz(-0.841π)───Rx(0.45π)────\n",
      "                                 │\n",
      "1: ───Rz(0.216π)───Rz(-0.216π)───@───Rz(0.809π)────Rx(0.397π)───\n",
      "\n",
      "[[ 0.62+0.03j  0.23+0.38j -0.28+0.45j  0.38-0.02j]\n",
      " [ 0.02-0.44j -0.53+0.32j  0.32+0.20j  0.03+0.53j]\n",
      " [ 0.03-0.53j  0.32-0.20j -0.53-0.32j  0.02+0.44j]\n",
      " [-0.38-0.02j  0.28+0.45j -0.23+0.38j -0.62+0.03j]]\n"
     ]
    }
   ],
   "source": [
    "def decc(ops): \n",
    "    for op in ops: \n",
    "        g = op.gate\n",
    "        if g.num_qubits() == 2:\n",
    "            yield op \n",
    "        elif isinstance(g, cirq.PhasedXPowGate):\n",
    "            yield cirq.rz(np.pi * -g.phase_exponent).on(*op.qubits)\n",
    "            yield cirq.rx(np.pi * g.exponent).on(*op.qubits)\n",
    "            yield cirq.rz(np.pi * g.phase_exponent).on(*op.qubits)\n",
    "        \n",
    "\n",
    "new_ops = list(decc(cirq.Circuit(cirq.two_qubit_matrix_to_operations(a,b,U,False)).all_operations()))\n",
    "new_circ = cirq.Circuit(new_ops)\n",
    "sub1 = new_circ[0:2] + new_circ[2:5]\n",
    "print(sub1)\n",
    "print()\n",
    "print(sub1._unitary_())\n",
    "print()\n",
    "sub2 = new_circ[0:1] + new_circ[2:5] + new_circ[1:2] \n",
    "print(sub2)\n",
    "print()\n",
    "print(sub2._unitary_())\n"
   ]
  },
  {
   "cell_type": "code",
   "execution_count": 35,
   "metadata": {},
   "outputs": [],
   "source": [
    "from cirq.contrib.paulistring import *"
   ]
  },
  {
   "cell_type": "code",
   "execution_count": 36,
   "metadata": {},
   "outputs": [],
   "source": [
    "sc = new_circ[0:3]\n",
    "ConvertToPauliStringPhasors().optimize_circuit(sc)"
   ]
  },
  {
   "cell_type": "code",
   "execution_count": 37,
   "metadata": {},
   "outputs": [
    {
     "ename": "TypeError",
     "evalue": "Operation is not a known Clifford and did not decompose into known Cliffords: (cirq.Z**-0.21604966700000006).on(cirq.LineQubit(1))",
     "output_type": "error",
     "traceback": [
      "\u001b[0;31m---------------------------------------------------------------------------\u001b[0m",
      "\u001b[0;31mTypeError\u001b[0m                                 Traceback (most recent call last)",
      "\u001b[0;32m<ipython-input-37-430fa8bae5e2>\u001b[0m in \u001b[0;36m<module>\u001b[0;34m\u001b[0m\n\u001b[0;32m----> 1\u001b[0;31m \u001b[0msc\u001b[0m\u001b[0;34m[\u001b[0m\u001b[0;36m1\u001b[0m\u001b[0;34m]\u001b[0m\u001b[0;34m.\u001b[0m\u001b[0moperations\u001b[0m\u001b[0;34m[\u001b[0m\u001b[0;36m1\u001b[0m\u001b[0;34m]\u001b[0m\u001b[0;34m.\u001b[0m\u001b[0mpass_operations_over\u001b[0m\u001b[0;34m(\u001b[0m\u001b[0msc\u001b[0m\u001b[0;34m[\u001b[0m\u001b[0;36m2\u001b[0m\u001b[0;34m]\u001b[0m\u001b[0;34m.\u001b[0m\u001b[0moperations\u001b[0m\u001b[0;34m)\u001b[0m\u001b[0;34m\u001b[0m\u001b[0;34m\u001b[0m\u001b[0m\n\u001b[0m",
      "\u001b[0;32m~/dev/proj/Cirq/cirq/ops/pauli_string_phasor.py\u001b[0m in \u001b[0;36mpass_operations_over\u001b[0;34m(self, ops, after_to_before)\u001b[0m\n\u001b[1;32m    155\u001b[0m                             ) -> 'PauliStringPhasor':\n\u001b[1;32m    156\u001b[0m         new_pauli_string = self.pauli_string.pass_operations_over(\n\u001b[0;32m--> 157\u001b[0;31m             ops, after_to_before)\n\u001b[0m\u001b[1;32m    158\u001b[0m         \u001b[0mpp\u001b[0m \u001b[0;34m=\u001b[0m \u001b[0mself\u001b[0m\u001b[0;34m.\u001b[0m\u001b[0mexponent_pos\u001b[0m\u001b[0;34m\u001b[0m\u001b[0;34m\u001b[0m\u001b[0m\n\u001b[1;32m    159\u001b[0m         \u001b[0mpn\u001b[0m \u001b[0;34m=\u001b[0m \u001b[0mself\u001b[0m\u001b[0;34m.\u001b[0m\u001b[0mexponent_neg\u001b[0m\u001b[0;34m\u001b[0m\u001b[0;34m\u001b[0m\u001b[0m\n",
      "\u001b[0;32m~/dev/proj/Cirq/cirq/ops/pauli_string.py\u001b[0m in \u001b[0;36mpass_operations_over\u001b[0;34m(self, ops, after_to_before)\u001b[0m\n\u001b[1;32m    770\u001b[0m             \u001b[0;32mif\u001b[0m \u001b[0mpauli_map\u001b[0m\u001b[0;34m.\u001b[0m\u001b[0mkeys\u001b[0m\u001b[0;34m(\u001b[0m\u001b[0;34m)\u001b[0m\u001b[0;34m.\u001b[0m\u001b[0misdisjoint\u001b[0m\u001b[0;34m(\u001b[0m\u001b[0mset\u001b[0m\u001b[0;34m(\u001b[0m\u001b[0mop\u001b[0m\u001b[0;34m.\u001b[0m\u001b[0mqubits\u001b[0m\u001b[0;34m)\u001b[0m\u001b[0;34m)\u001b[0m\u001b[0;34m:\u001b[0m\u001b[0;34m\u001b[0m\u001b[0;34m\u001b[0m\u001b[0m\n\u001b[1;32m    771\u001b[0m                 \u001b[0;32mcontinue\u001b[0m\u001b[0;34m\u001b[0m\u001b[0;34m\u001b[0m\u001b[0m\n\u001b[0;32m--> 772\u001b[0;31m             \u001b[0mdecomposed\u001b[0m \u001b[0;34m=\u001b[0m \u001b[0m_decompose_into_cliffords\u001b[0m\u001b[0;34m(\u001b[0m\u001b[0mop\u001b[0m\u001b[0;34m)\u001b[0m\u001b[0;34m\u001b[0m\u001b[0;34m\u001b[0m\u001b[0m\n\u001b[0m\u001b[1;32m    773\u001b[0m             \u001b[0;32mif\u001b[0m \u001b[0;32mnot\u001b[0m \u001b[0mafter_to_before\u001b[0m\u001b[0;34m:\u001b[0m\u001b[0;34m\u001b[0m\u001b[0;34m\u001b[0m\u001b[0m\n\u001b[1;32m    774\u001b[0m                 \u001b[0mdecomposed\u001b[0m \u001b[0;34m=\u001b[0m \u001b[0mdecomposed\u001b[0m\u001b[0;34m[\u001b[0m\u001b[0;34m:\u001b[0m\u001b[0;34m:\u001b[0m\u001b[0;34m-\u001b[0m\u001b[0;36m1\u001b[0m\u001b[0;34m]\u001b[0m\u001b[0;34m\u001b[0m\u001b[0;34m\u001b[0m\u001b[0m\n",
      "\u001b[0;32m~/dev/proj/Cirq/cirq/ops/pauli_string.py\u001b[0m in \u001b[0;36m_decompose_into_cliffords\u001b[0;34m(op)\u001b[0m\n\u001b[1;32m   1030\u001b[0m     \u001b[0;32mif\u001b[0m \u001b[0mdecomposed\u001b[0m \u001b[0;32mis\u001b[0m \u001b[0;32mnot\u001b[0m \u001b[0;32mNone\u001b[0m\u001b[0;34m:\u001b[0m\u001b[0;34m\u001b[0m\u001b[0;34m\u001b[0m\u001b[0m\n\u001b[1;32m   1031\u001b[0m         return [\n\u001b[0;32m-> 1032\u001b[0;31m             \u001b[0mout\u001b[0m \u001b[0;32mfor\u001b[0m \u001b[0msub_op\u001b[0m \u001b[0;32min\u001b[0m \u001b[0mdecomposed\u001b[0m\u001b[0;34m\u001b[0m\u001b[0;34m\u001b[0m\u001b[0m\n\u001b[0m\u001b[1;32m   1033\u001b[0m             \u001b[0;32mfor\u001b[0m \u001b[0mout\u001b[0m \u001b[0;32min\u001b[0m \u001b[0m_decompose_into_cliffords\u001b[0m\u001b[0;34m(\u001b[0m\u001b[0msub_op\u001b[0m\u001b[0;34m)\u001b[0m\u001b[0;34m\u001b[0m\u001b[0;34m\u001b[0m\u001b[0m\n\u001b[1;32m   1034\u001b[0m         ]\n",
      "\u001b[0;32m~/dev/proj/Cirq/cirq/ops/pauli_string.py\u001b[0m in \u001b[0;36m<listcomp>\u001b[0;34m(.0)\u001b[0m\n\u001b[1;32m   1031\u001b[0m         return [\n\u001b[1;32m   1032\u001b[0m             \u001b[0mout\u001b[0m \u001b[0;32mfor\u001b[0m \u001b[0msub_op\u001b[0m \u001b[0;32min\u001b[0m \u001b[0mdecomposed\u001b[0m\u001b[0;34m\u001b[0m\u001b[0;34m\u001b[0m\u001b[0m\n\u001b[0;32m-> 1033\u001b[0;31m             \u001b[0;32mfor\u001b[0m \u001b[0mout\u001b[0m \u001b[0;32min\u001b[0m \u001b[0m_decompose_into_cliffords\u001b[0m\u001b[0;34m(\u001b[0m\u001b[0msub_op\u001b[0m\u001b[0;34m)\u001b[0m\u001b[0;34m\u001b[0m\u001b[0;34m\u001b[0m\u001b[0m\n\u001b[0m\u001b[1;32m   1034\u001b[0m         ]\n\u001b[1;32m   1035\u001b[0m \u001b[0;34m\u001b[0m\u001b[0m\n",
      "\u001b[0;32m~/dev/proj/Cirq/cirq/ops/pauli_string.py\u001b[0m in \u001b[0;36m_decompose_into_cliffords\u001b[0;34m(op)\u001b[0m\n\u001b[1;32m   1034\u001b[0m         ]\n\u001b[1;32m   1035\u001b[0m \u001b[0;34m\u001b[0m\u001b[0m\n\u001b[0;32m-> 1036\u001b[0;31m     raise TypeError(f'Operation is not a known Clifford and did not decompose '\n\u001b[0m\u001b[1;32m   1037\u001b[0m                     f'into known Cliffords: {op!r}')\n\u001b[1;32m   1038\u001b[0m \u001b[0;34m\u001b[0m\u001b[0m\n",
      "\u001b[0;31mTypeError\u001b[0m: Operation is not a known Clifford and did not decompose into known Cliffords: (cirq.Z**-0.21604966700000006).on(cirq.LineQubit(1))"
     ]
    }
   ],
   "source": [
    "sc[1].operations[1].pass_operations_over(sc[2].operations)"
   ]
  },
  {
   "cell_type": "code",
   "execution_count": null,
   "metadata": {},
   "outputs": [],
   "source": [
    "cirq.Circuit(cirq.Y(a), cirq.Y(b))._unitary_()"
   ]
  },
  {
   "cell_type": "code",
   "execution_count": 190,
   "metadata": {},
   "outputs": [
    {
     "data": {
      "text/plain": [
       "array([[ 1.+0.j,  0.+0.j,  0.+0.j,  0.+1.j],\n",
       "       [ 0.+0.j,  0.+1.j,  1.+0.j,  0.+0.j],\n",
       "       [ 0.+0.j,  0.+1.j, -1.+0.j,  0.+0.j],\n",
       "       [ 1.+0.j,  0.+0.j,  0.+0.j,  0.-1.j]])"
      ]
     },
     "execution_count": 190,
     "metadata": {},
     "output_type": "execute_result"
    }
   ],
   "source": [
    "KAK_MAGIC*np.sqrt(2)"
   ]
  },
  {
   "cell_type": "code",
   "execution_count": 38,
   "metadata": {},
   "outputs": [
    {
     "data": {
      "text/plain": [
       "array([[-0.26+0.00j,  0.68+0.00j,  0.43+0.00j, -0.54+0.00j],\n",
       "       [-0.15-0.24j, -0.42+0.29j, -0.03-0.66j, -0.47-0.05j],\n",
       "       [-0.48+0.24j, -0.36-0.35j, -0.24+0.43j, -0.42-0.20j],\n",
       "       [ 0.75+0.04j,  0.13-0.14j, -0.36+0.06j, -0.50-0.14j]])"
      ]
     },
     "execution_count": 38,
     "metadata": {},
     "output_type": "execute_result"
    }
   ],
   "source": [
    "U"
   ]
  },
  {
   "cell_type": "code",
   "execution_count": 44,
   "metadata": {},
   "outputs": [
    {
     "data": {
      "text/plain": [
       "array([-1.00-0.00j, -0.82-0.57j, -0.49-0.87j, -0.96+0.28j])"
      ]
     },
     "execution_count": 44,
     "metadata": {},
     "output_type": "execute_result"
    }
   ],
   "source": [
    "np.exp(-1j * np.angle(U.diagonal()))"
   ]
  },
  {
   "cell_type": "code",
   "execution_count": 65,
   "metadata": {},
   "outputs": [
    {
     "ename": "ValueError",
     "evalue": "Input must correspond to a 4x4 unitary matrix. Received matrix:\n[[ 0.26+0.00j  0.68+0.00j  0.43+0.00j -0.54+0.00j]\n [-0.15-0.24j  0.51+0.00j -0.03-0.66j -0.47-0.05j]\n [-0.48+0.24j -0.36-0.35j  0.50+0.00j -0.42-0.20j]\n [ 0.75+0.04j  0.13-0.14j -0.36+0.06j  0.52+0.00j]]",
     "output_type": "error",
     "traceback": [
      "\u001b[0;31m---------------------------------------------------------------------------\u001b[0m",
      "\u001b[0;31mValueError\u001b[0m                                Traceback (most recent call last)",
      "\u001b[0;32m<ipython-input-65-41b814ed111d>\u001b[0m in \u001b[0;36m<module>\u001b[0;34m\u001b[0m\n\u001b[0;32m----> 1\u001b[0;31m \u001b[0mcirq\u001b[0m\u001b[0;34m.\u001b[0m\u001b[0mCircuit\u001b[0m\u001b[0;34m(\u001b[0m\u001b[0mcirq\u001b[0m\u001b[0;34m.\u001b[0m\u001b[0mtwo_qubit_matrix_to_operations\u001b[0m\u001b[0;34m(\u001b[0m\u001b[0ma\u001b[0m\u001b[0;34m,\u001b[0m\u001b[0mb\u001b[0m\u001b[0;34m,\u001b[0m\u001b[0mU_real\u001b[0m\u001b[0;34m,\u001b[0m\u001b[0;32mFalse\u001b[0m\u001b[0;34m)\u001b[0m\u001b[0;34m)\u001b[0m\u001b[0;34m\u001b[0m\u001b[0;34m\u001b[0m\u001b[0m\n\u001b[0m",
      "\u001b[0;32m~/dev/proj/Cirq/cirq/optimizers/two_qubit_decompositions.py\u001b[0m in \u001b[0;36mtwo_qubit_matrix_to_operations\u001b[0;34m(q0, q1, mat, allow_partial_czs, atol, clean_operations)\u001b[0m\n\u001b[1;32m     54\u001b[0m         \u001b[0mA\u001b[0m \u001b[0mlist\u001b[0m \u001b[0mof\u001b[0m \u001b[0moperations\u001b[0m \u001b[0mimplementing\u001b[0m \u001b[0mthe\u001b[0m \u001b[0mmatrix\u001b[0m\u001b[0;34m.\u001b[0m\u001b[0;34m\u001b[0m\u001b[0;34m\u001b[0m\u001b[0m\n\u001b[1;32m     55\u001b[0m     \"\"\"\n\u001b[0;32m---> 56\u001b[0;31m     \u001b[0mkak\u001b[0m \u001b[0;34m=\u001b[0m \u001b[0mlinalg\u001b[0m\u001b[0;34m.\u001b[0m\u001b[0mkak_decomposition\u001b[0m\u001b[0;34m(\u001b[0m\u001b[0mmat\u001b[0m\u001b[0;34m,\u001b[0m \u001b[0matol\u001b[0m\u001b[0;34m=\u001b[0m\u001b[0matol\u001b[0m\u001b[0;34m)\u001b[0m\u001b[0;34m\u001b[0m\u001b[0;34m\u001b[0m\u001b[0m\n\u001b[0m\u001b[1;32m     57\u001b[0m     operations = _kak_decomposition_to_operations(\n\u001b[1;32m     58\u001b[0m         q0, q1, kak, allow_partial_czs, atol=atol)\n",
      "\u001b[0;32m~/dev/proj/Cirq/cirq/linalg/decompositions.py\u001b[0m in \u001b[0;36mkak_decomposition\u001b[0;34m(unitary_object, rtol, atol, check_preconditions)\u001b[0m\n\u001b[1;32m    826\u001b[0m         (4, 4) or not predicates.is_unitary(mat, rtol=rtol, atol=atol)):\n\u001b[1;32m    827\u001b[0m         raise ValueError('Input must correspond to a 4x4 unitary matrix. '\n\u001b[0;32m--> 828\u001b[0;31m                          'Received matrix:\\n' + str(mat))\n\u001b[0m\u001b[1;32m    829\u001b[0m \u001b[0;34m\u001b[0m\u001b[0m\n\u001b[1;32m    830\u001b[0m     \u001b[0;31m# Diagonalize in magic basis.\u001b[0m\u001b[0;34m\u001b[0m\u001b[0;34m\u001b[0m\u001b[0;34m\u001b[0m\u001b[0m\n",
      "\u001b[0;31mValueError\u001b[0m: Input must correspond to a 4x4 unitary matrix. Received matrix:\n[[ 0.26+0.00j  0.68+0.00j  0.43+0.00j -0.54+0.00j]\n [-0.15-0.24j  0.51+0.00j -0.03-0.66j -0.47-0.05j]\n [-0.48+0.24j -0.36-0.35j  0.50+0.00j -0.42-0.20j]\n [ 0.75+0.04j  0.13-0.14j -0.36+0.06j  0.52+0.00j]]"
     ]
    }
   ],
   "source": [
    "cirq.Circuit(cirq.two_qubit_matrix_to_operations(a,b,U_real,False))"
   ]
  },
  {
   "cell_type": "code",
   "execution_count": 64,
   "metadata": {},
   "outputs": [],
   "source": [
    "U_real = np.array(U - np.diag(U.diagonal()) + np.diag(np.abs(U.diagonal())))"
   ]
  },
  {
   "cell_type": "code",
   "execution_count": 56,
   "metadata": {},
   "outputs": [
    {
     "data": {
      "text/plain": [
       "array([[-0.26,  0.68,  0.43, -0.54],\n",
       "       [-0.15, -0.42, -0.03, -0.47],\n",
       "       [-0.48, -0.36, -0.24, -0.42],\n",
       "       [ 0.75,  0.13, -0.36, -0.50]])"
      ]
     },
     "execution_count": 56,
     "metadata": {},
     "output_type": "execute_result"
    }
   ],
   "source": [
    "np.real(U)"
   ]
  },
  {
   "cell_type": "code",
   "execution_count": 57,
   "metadata": {},
   "outputs": [
    {
     "data": {
      "text/plain": [
       "array([[ 0.00,  0.00,  0.00,  0.00],\n",
       "       [-0.24,  0.29, -0.66, -0.05],\n",
       "       [ 0.24, -0.35,  0.43, -0.20],\n",
       "       [ 0.04, -0.14,  0.06, -0.14]])"
      ]
     },
     "execution_count": 57,
     "metadata": {},
     "output_type": "execute_result"
    }
   ],
   "source": [
    "np.imag(U)"
   ]
  },
  {
   "cell_type": "code",
   "execution_count": 77,
   "metadata": {},
   "outputs": [
    {
     "data": {
      "text/plain": [
       "(0.9999999999999989+0j)"
      ]
     },
     "execution_count": 77,
     "metadata": {},
     "output_type": "execute_result"
    }
   ],
   "source": [
    "SU=U/(np.linalg.det(U)**(1/4))\n",
    "np.linalg.det(SU)"
   ]
  },
  {
   "cell_type": "code",
   "execution_count": 78,
   "metadata": {},
   "outputs": [
    {
     "data": {
      "text/plain": [
       "array([[-0.25-0.07j,  0.65+0.18j,  0.42+0.12j, -0.52-0.14j],\n",
       "       [-0.08-0.27j, -0.48+0.17j,  0.15-0.64j, -0.44-0.17j],\n",
       "       [-0.52+0.10j, -0.26-0.43j, -0.35+0.35j, -0.35-0.31j],\n",
       "       [ 0.71+0.24j,  0.16-0.10j, -0.36-0.04j, -0.44-0.27j]])"
      ]
     },
     "execution_count": 78,
     "metadata": {},
     "output_type": "execute_result"
    }
   ],
   "source": [
    "SU"
   ]
  },
  {
   "cell_type": "code",
   "execution_count": 108,
   "metadata": {},
   "outputs": [
    {
     "data": {
      "text/html": [
       "<pre style=\"overflow: auto; white-space: pre;\">0: ───PhX(-0.496)^0.45────@───PhX(0.841)^0.5──────@───PhX(-0.287)^0.5────@───PhX(0.396)^0.842─────S^-1───────\n",
       "                          │                       │                      │\n",
       "1: ───PhX(-0.216)^0.397───@───PhX(-0.809)^0.721───@───PhX(0.191)^0.931───@───PhX(-0.17)^(11/12)───Z^-0.568───</pre>"
      ],
      "text/plain": [
       "0: ───PhX(-0.496)^0.45────@───PhX(0.841)^0.5──────@───PhX(-0.287)^0.5────@───PhX(0.396)^0.842─────S^-1───────\n",
       "                          │                       │                      │\n",
       "1: ───PhX(-0.216)^0.397───@───PhX(-0.809)^0.721───@───PhX(0.191)^0.931───@───PhX(-0.17)^(11/12)───Z^-0.568───"
      ]
     },
     "execution_count": 108,
     "metadata": {},
     "output_type": "execute_result"
    }
   ],
   "source": [
    "cirq.Circuit(cirq.two_qubit_matrix_to_operations(a,b, \n",
    "                                                 U                                                 \n",
    "                                                 , False))"
   ]
  },
  {
   "cell_type": "code",
   "execution_count": 109,
   "metadata": {},
   "outputs": [
    {
     "data": {
      "text/html": [
       "<pre style=\"overflow: auto; white-space: pre;\">0: ───PhX(-0.496)^0.45────@───PhX(0.841)^0.5──────@───PhX(-0.287)^0.5────@───PhX(0.396)^0.842─────S^-1───────\n",
       "                          │                       │                      │\n",
       "1: ───PhX(-0.216)^0.397───@───PhX(-0.809)^0.721───@───PhX(0.191)^0.931───@───PhX(-0.17)^(11/12)───Z^-0.568───</pre>"
      ],
      "text/plain": [
       "0: ───PhX(-0.496)^0.45────@───PhX(0.841)^0.5──────@───PhX(-0.287)^0.5────@───PhX(0.396)^0.842─────S^-1───────\n",
       "                          │                       │                      │\n",
       "1: ───PhX(-0.216)^0.397───@───PhX(-0.809)^0.721───@───PhX(0.191)^0.931───@───PhX(-0.17)^(11/12)───Z^-0.568───"
      ]
     },
     "execution_count": 109,
     "metadata": {},
     "output_type": "execute_result"
    }
   ],
   "source": [
    "cirq.Circuit(cirq.two_qubit_matrix_to_operations(a,b, \n",
    "                                                 SU                                                 \n",
    "                                                 , False))"
   ]
  },
  {
   "cell_type": "code",
   "execution_count": 239,
   "metadata": {},
   "outputs": [
    {
     "data": {
      "text/plain": [
       "(-0.8325077971469521+0.35917569227014934j)"
      ]
     },
     "execution_count": 239,
     "metadata": {},
     "output_type": "execute_result"
    }
   ],
   "source": [
    "def get_exponent(): \n",
    "    return 1.2\n",
    "alpha, beta, gamma = [1 - np.random.random()*2,1 - np.random.random()*2,1 - np.random.random()*2]\n",
    "circuit = cirq.Circuit([\n",
    "                        cirq.CZ(a,b),                        \n",
    "                        cirq.PhasedXPowGate(phase_exponent=alpha, exponent=get_exponent()).on(a), \n",
    "                        cirq.PhasedXPowGate(phase_exponent=alpha/2, exponent=get_exponent()).on(b), \n",
    "                        cirq.CZ(a,b),\n",
    "                        cirq.PhasedXPowGate(phase_exponent=beta, exponent=get_exponent()).on(b),\n",
    "                        cirq.PhasedXPowGate(phase_exponent=gamma, exponent=get_exponent()).on(a), \n",
    "                            cirq.CZ(a,b),\n",
    "                       ])\n",
    "def special(u): \n",
    "    return u/(np.linalg.det(u)**(1/4))\n",
    "\n",
    "def g(u):\n",
    "    yy = np.kron(cirq.Y._unitary_(),cirq.Y._unitary_())\n",
    "    return u @ yy @ u.T @ yy\n",
    "\n",
    "np.trace(g(special(circuit._unitary_())))"
   ]
  },
  {
   "cell_type": "code",
   "execution_count": 240,
   "metadata": {},
   "outputs": [
    {
     "data": {
      "text/plain": [
       "array([1.00+0.00j, 0.83-0.36j, 1.27+0.00j, 0.83+0.36j, 1.00-0.00j])"
      ]
     },
     "execution_count": 240,
     "metadata": {},
     "output_type": "execute_result"
    }
   ],
   "source": [
    "np.poly(g(special(circuit._unitary_())))"
   ]
  },
  {
   "cell_type": "code",
   "execution_count": 264,
   "metadata": {},
   "outputs": [
    {
     "data": {
      "text/html": [
       "<pre style=\"overflow: auto; white-space: pre;\">0: ───PhX(-0.834)^0.369───@───PhX(-0.742)^0.5─────@───PhX(0.182)^0.5────────@───PhX(0.317)^(7/12)───Z^-0.735───\n",
       "                          │                       │                         │\n",
       "1: ───PhX(-0.76)^0.83─────@───PhX(-0.994)^0.854───@───PhX(-0.994)^(14/15)───@───PhX(0.273)^0.83─────Z^(1/8)────</pre>"
      ],
      "text/plain": [
       "0: ───PhX(-0.834)^0.369───@───PhX(-0.742)^0.5─────@───PhX(0.182)^0.5────────@───PhX(0.317)^(7/12)───Z^-0.735───\n",
       "                          │                       │                         │\n",
       "1: ───PhX(-0.76)^0.83─────@───PhX(-0.994)^0.854───@───PhX(-0.994)^(14/15)───@───PhX(0.273)^0.83─────Z^(1/8)────"
      ]
     },
     "execution_count": 264,
     "metadata": {},
     "output_type": "execute_result"
    }
   ],
   "source": [
    "cirq.Circuit(cirq.two_qubit_matrix_to_operations(a,b,circuit._unitary_(),False))"
   ]
  },
  {
   "cell_type": "markdown",
   "metadata": {},
   "source": [
    "Proposition V.2 in Minimal Universal Two-Qubit..."
   ]
  },
  {
   "cell_type": "code",
   "execution_count": 266,
   "metadata": {},
   "outputs": [],
   "source": [
    "u = special(circuit._unitary_())\n",
    "t = g(u.T).T.diagonal()\n",
    "psi = np.arctan(np.imag(np.sum(t)) / np.real(t[0]+t[1]-t[2]-t[3]))\n",
    "c_d = cirq.Circuit([cirq.CNOT(a,b),cirq.rz(psi)(b), cirq.CNOT(a,b)])"
   ]
  },
  {
   "cell_type": "code",
   "execution_count": 257,
   "metadata": {},
   "outputs": [
    {
     "data": {
      "text/plain": [
       "(2.6180339887498967-4.440892098500626e-16j)"
      ]
     },
     "execution_count": 257,
     "metadata": {},
     "output_type": "execute_result"
    }
   ],
   "source": [
    "np.trace(g(special(cirq.Circuit([c_d, circuit])._unitary_())))"
   ]
  },
  {
   "cell_type": "code",
   "execution_count": 258,
   "metadata": {},
   "outputs": [
    {
     "data": {
      "text/plain": [
       "array([[-0.60-0.30j,  0.52-0.04j,  0.37-0.33j,  0.06+0.18j],\n",
       "       [ 0.49+0.18j,  0.79-0.20j, -0.02+0.19j,  0.15-0.07j],\n",
       "       [-0.08+0.49j, -0.16-0.10j,  0.77+0.36j,  0.06+0.03j],\n",
       "       [ 0.10+0.16j,  0.07-0.15j, -0.04-0.05j, -0.76+0.60j]])"
      ]
     },
     "execution_count": 258,
     "metadata": {},
     "output_type": "execute_result"
    }
   ],
   "source": [
    "special(cirq.Circuit([c_d, circuit])._unitary_())"
   ]
  },
  {
   "cell_type": "code",
   "execution_count": 259,
   "metadata": {},
   "outputs": [
    {
     "data": {
      "text/plain": [
       "array([[-0.60-0.30j,  0.52-0.04j,  0.37-0.33j,  0.06+0.18j],\n",
       "       [ 0.49+0.18j,  0.79-0.20j, -0.02+0.19j,  0.15-0.07j],\n",
       "       [-0.08+0.49j, -0.16-0.10j,  0.77+0.36j,  0.06+0.03j],\n",
       "       [ 0.10+0.16j,  0.07-0.15j, -0.04-0.05j, -0.76+0.60j]])"
      ]
     },
     "execution_count": 259,
     "metadata": {},
     "output_type": "execute_result"
    }
   ],
   "source": [
    "special(u @ c_d._unitary_())"
   ]
  },
  {
   "cell_type": "code",
   "execution_count": 267,
   "metadata": {},
   "outputs": [
    {
     "data": {
      "text/html": [
       "<pre style=\"overflow: auto; white-space: pre;\">0: ───PhX(-0.738)^(7/16)───@───PhX(-0.0809)^0.2───@───PhX(0.419)^0.296───Z^0.829───\n",
       "                           │                      │\n",
       "1: ───PhX(-0.669)^0.716────@───PhX(0.0864)^0.2────@───PhX(0.586)^0.704───Z^0.282───</pre>"
      ],
      "text/plain": [
       "0: ───PhX(-0.738)^(7/16)───@───PhX(-0.0809)^0.2───@───PhX(0.419)^0.296───Z^0.829───\n",
       "                           │                      │\n",
       "1: ───PhX(-0.669)^0.716────@───PhX(0.0864)^0.2────@───PhX(0.586)^0.704───Z^0.282───"
      ]
     },
     "execution_count": 267,
     "metadata": {},
     "output_type": "execute_result"
    }
   ],
   "source": [
    "cirq.Circuit(cirq.two_qubit_matrix_to_operations(a,b,cirq.Circuit([c_d, circuit])._unitary_(),False))"
   ]
  },
  {
   "cell_type": "code",
   "execution_count": 386,
   "metadata": {},
   "outputs": [
    {
     "name": "stdout",
     "output_type": "stream",
     "text": [
      "[-0.21-0.56j -0.21+0.74j -0.21+0.74j -0.21-0.56j] (-2.7755575615628914e-17+0j)\n",
      "0: ───PhX(0.208)^0.651───@───PhX(-0.467)^0.2───@───PhX(-0.967)^0.806───Z^(-11/14)───\n",
      "                         │                     │\n",
      "1: ───PhX(0.446)^(2/9)───@───PhX(-0.391)^0.2───@───PhX(-0.891)^0.194───Z^0.759──────\n"
     ]
    },
    {
     "data": {
      "text/plain": [
       "(2.618033988749895+4.440892098500626e-16j)"
      ]
     },
     "execution_count": 386,
     "metadata": {},
     "output_type": "execute_result"
    }
   ],
   "source": [
    "def special(u):\n",
    "    return u / (np.linalg.det(u) ** (1 / 4))\n",
    "\n",
    "\n",
    "def g(u):\n",
    "    yy = np.kron(cirq.Y._unitary_(), cirq.Y._unitary_())\n",
    "    return u @ yy @ u.T @ yy\n",
    "\n",
    "\n",
    "def extract_right_diag(U):\n",
    "    u = special(U)\n",
    "    t = g(u.T).T.diagonal()\n",
    "    print(t, t[0] + t[1] - t[2] - t[3])\n",
    "    psi = np.arctan(np.imag(np.sum(t)) / np.real(t[0] + t[3] - t[1] - t[2]))\n",
    "    return cirq.CNOT._unitary_() @ np.kron(np.eye(2), cirq.rz(psi)._unitary_()) @ cirq.CNOT._unitary_()\n",
    "\n",
    "V = circuit._unitary_() \n",
    "dV = extract_right_diag(V)\n",
    "V = V @ dV\n",
    "print(cirq.Circuit(\n",
    "    cirq.optimizers.two_qubit_matrix_to_operations(a, b,V,\n",
    "                                                       allow_partial_czs=False)))\n",
    "np.trace(g(special(V)))"
   ]
  },
  {
   "cell_type": "code",
   "execution_count": 388,
   "metadata": {},
   "outputs": [
    {
     "data": {
      "text/plain": [
       "array([[1.+0.09j, 0.+0.00j, 0.+0.00j, 0.+0.00j],\n",
       "       [0.+0.00j, 1.-0.09j, 0.+0.00j, 0.+0.00j],\n",
       "       [0.+0.00j, 0.+0.00j, 1.-0.09j, 0.+0.00j],\n",
       "       [0.+0.00j, 0.+0.00j, 0.+0.00j, 1.+0.09j]])"
      ]
     },
     "execution_count": 388,
     "metadata": {},
     "output_type": "execute_result"
    }
   ],
   "source": []
  },
  {
   "cell_type": "code",
   "execution_count": 336,
   "metadata": {},
   "outputs": [
    {
     "data": {
      "text/plain": [
       "array([[ 1.+0.j,  0.+0.j,  0.-0.j,  0.-0.j],\n",
       "       [ 0.-0.j,  1.+0.j, -0.+0.j,  0.+0.j],\n",
       "       [ 0.+0.j, -0.-0.j,  1.+0.j, -0.-0.j],\n",
       "       [ 0.+0.j,  0.-0.j, -0.+0.j,  1.+0.j]])"
      ]
     },
     "execution_count": 336,
     "metadata": {},
     "output_type": "execute_result"
    }
   ],
   "source": [
    "V @ V.conj().T"
   ]
  },
  {
   "cell_type": "code",
   "execution_count": 390,
   "metadata": {},
   "outputs": [
    {
     "name": "stdout",
     "output_type": "stream",
     "text": [
      "[-0.65+0.03j -0.38+0.02j -0.38+0.02j -0.65+0.03j] (-2.220446049250313e-16+3.469446951953614e-17j)\n",
      "0: ───PhX(0.835)^0.235────@───PhX(-0.927)^0.306───@───PhX(0.303)^0.346────Z^-0.315───\n",
      "                          │                       │\n",
      "1: ───PhX(-0.945)^0.322───@───PhX(0.234)^(2/13)───@───PhX(0.597)^(7/11)───Z^0.381────\n",
      "(-2.0205593417845558+5.551115123125783e-17j)\n",
      "[1.00+0.j 2.02+0.j 2.43+0.j 2.02+0.j 1.00+0.j]\n"
     ]
    },
    {
     "data": {
      "text/plain": [
       "array([[1.-0.09j, 0.-0.00j, 0.-0.00j, 0.-0.00j],\n",
       "       [0.-0.00j, 1.+0.09j, 0.-0.00j, 0.-0.00j],\n",
       "       [0.-0.00j, 0.-0.00j, 1.+0.09j, 0.-0.00j],\n",
       "       [0.-0.00j, 0.-0.00j, 0.-0.00j, 1.-0.09j]])"
      ]
     },
     "execution_count": 390,
     "metadata": {},
     "output_type": "execute_result"
    }
   ],
   "source": [
    "MATRIX =np.array(\n",
    "    [\n",
    "        [-0.3084757230-0.2885062819j,  0.1145167366+0.5174637909j,  0.2681040430+0.5761902276j,  0.0617628440-0.3647387979j],\n",
    "        [ 0.7543017945+0.0000000000j,  0.2762207472+0.1455073226j, -0.1053380593+0.1422696812j, -0.4743936169-0.2777992943j],\n",
    "        [ 0.0017721185-0.1053245802j,  0.7756399175+0.0000000000j, -0.3594738043-0.0833444936j,  0.5009142542+0.0142653470j],\n",
    "        [ 0.4891673925-0.0474816905j, -0.0636062791-0.1264271319j,  0.6546911900+0.0000000000j,  0.5566063407+0.0000000000j]\n",
    "    ]\n",
    "\n",
    ")\n",
    "dV = extract_right_diag(MATRIX)\n",
    "M  = MATRIX  @ dV\n",
    "print(cirq.Circuit(\n",
    "    cirq.optimizers.two_qubit_matrix_to_operations(a, b, M ,\n",
    "                                                       allow_partial_czs=False)))\n",
    "print(np.trace(g(special(M))))\n",
    "print(np.poly(g(special(M))))\n",
    "\n",
    "dV.conj().T"
   ]
  },
  {
   "cell_type": "code",
   "execution_count": 355,
   "metadata": {},
   "outputs": [
    {
     "data": {
      "text/plain": [
       "(0.33791440038083775-0.41381793121136545j)"
      ]
     },
     "execution_count": 355,
     "metadata": {},
     "output_type": "execute_result"
    }
   ],
   "source": [
    "np.trace(g(M))"
   ]
  },
  {
   "cell_type": "code",
   "execution_count": 356,
   "metadata": {},
   "outputs": [
    {
     "data": {
      "text/plain": [
       "(0.33791440038083764-0.4138179312113655j)"
      ]
     },
     "execution_count": 356,
     "metadata": {},
     "output_type": "execute_result"
    }
   ],
   "source": [
    "np.trace(g(MATRIX.T).T @ g(dV))"
   ]
  },
  {
   "cell_type": "code",
   "execution_count": 357,
   "metadata": {},
   "outputs": [
    {
     "data": {
      "text/plain": [
       "array([[0.+1.j, 0.+0.j, 0.+0.j, 0.+0.j],\n",
       "       [0.+0.j, 0.-1.j, 0.+0.j, 0.+0.j],\n",
       "       [0.+0.j, 0.+0.j, 0.-1.j, 0.+0.j],\n",
       "       [0.+0.j, 0.+0.j, 0.+0.j, 0.+1.j]])"
      ]
     },
     "execution_count": 357,
     "metadata": {},
     "output_type": "execute_result"
    }
   ],
   "source": [
    "g(dV)"
   ]
  },
  {
   "cell_type": "code",
   "execution_count": 358,
   "metadata": {},
   "outputs": [
    {
     "data": {
      "text/plain": [
       "array([[0.+1.j, 0.+0.j, 0.+0.j, 0.+0.j],\n",
       "       [0.+0.j, 0.-1.j, 0.+0.j, 0.+0.j],\n",
       "       [0.+0.j, 0.+0.j, 0.-1.j, 0.+0.j],\n",
       "       [0.+0.j, 0.+0.j, 0.+0.j, 0.+1.j]])"
      ]
     },
     "execution_count": 358,
     "metadata": {},
     "output_type": "execute_result"
    }
   ],
   "source": [
    "dV @ dV"
   ]
  },
  {
   "cell_type": "code",
   "execution_count": 383,
   "metadata": {},
   "outputs": [],
   "source": [
    "t = g(MATRIX.T).T.diagonal()\n",
    "psi = np.arctan(np.imag(np.sum(t)) / np.real(t[0] + t[3] - t[1] - t[2]))"
   ]
  },
  {
   "cell_type": "code",
   "execution_count": 385,
   "metadata": {},
   "outputs": [
    {
     "data": {
      "text/plain": [
       "(-0.820562866787188+2.220446049250313e-16j)"
      ]
     },
     "execution_count": 385,
     "metadata": {},
     "output_type": "execute_result"
    }
   ],
   "source": [
    "(t[0]+t[3]) * np.exp(-1j*psi) + (t[1]+t[2]) * np.exp(1j*psi)"
   ]
  },
  {
   "cell_type": "code",
   "execution_count": 376,
   "metadata": {},
   "outputs": [
    {
     "data": {
      "text/plain": [
       "-1.1102230246251565e-16"
      ]
     },
     "execution_count": 376,
     "metadata": {},
     "output_type": "execute_result"
    }
   ],
   "source": [
    "np.real(t[0] + t[1] - t[2] - t[3])"
   ]
  },
  {
   "cell_type": "code",
   "execution_count": 365,
   "metadata": {},
   "outputs": [
    {
     "data": {
      "text/plain": [
       "-1.2707605952789915"
      ]
     },
     "execution_count": 365,
     "metadata": {},
     "output_type": "execute_result"
    }
   ],
   "source": [
    "np.imag(np.sum(t))"
   ]
  },
  {
   "cell_type": "code",
   "execution_count": 366,
   "metadata": {},
   "outputs": [
    {
     "data": {
      "text/plain": [
       "1.5707963267948966"
      ]
     },
     "execution_count": 366,
     "metadata": {},
     "output_type": "execute_result"
    }
   ],
   "source": [
    "psi"
   ]
  },
  {
   "cell_type": "code",
   "execution_count": 378,
   "metadata": {},
   "outputs": [
    {
     "data": {
      "text/plain": [
       "6.141641042760594"
      ]
     },
     "execution_count": 378,
     "metadata": {},
     "output_type": "execute_result"
    }
   ],
   "source": [
    "np.imag(np.sum(t)) / np.real(t[0] + t[3] - t[2] - t[3])"
   ]
  },
  {
   "cell_type": "code",
   "execution_count": 368,
   "metadata": {},
   "outputs": [
    {
     "data": {
      "text/plain": [
       "array([-0.51-0.40j, -0.30-0.23j, -0.30-0.23j, -0.51-0.40j])"
      ]
     },
     "execution_count": 368,
     "metadata": {},
     "output_type": "execute_result"
    }
   ],
   "source": [
    "t"
   ]
  },
  {
   "cell_type": "code",
   "execution_count": 369,
   "metadata": {},
   "outputs": [
    {
     "data": {
      "text/plain": [
       "(-1.6123674040409472-1.2707605952789915j)"
      ]
     },
     "execution_count": 369,
     "metadata": {},
     "output_type": "execute_result"
    }
   ],
   "source": [
    "np.sum(t)"
   ]
  },
  {
   "cell_type": "code",
   "execution_count": 377,
   "metadata": {},
   "outputs": [
    {
     "data": {
      "text/plain": [
       "-1j"
      ]
     },
     "execution_count": 377,
     "metadata": {},
     "output_type": "execute_result"
    }
   ],
   "source": [
    "1/1j"
   ]
  },
  {
   "cell_type": "code",
   "execution_count": null,
   "metadata": {},
   "outputs": [],
   "source": []
  }
 ],
 "metadata": {
  "kernelspec": {
   "display_name": "Python 3",
   "language": "python",
   "name": "python3"
  },
  "language_info": {
   "codemirror_mode": {
    "name": "ipython",
    "version": 3
   },
   "file_extension": ".py",
   "mimetype": "text/x-python",
   "name": "python",
   "nbconvert_exporter": "python",
   "pygments_lexer": "ipython3",
   "version": "3.7.5"
  }
 },
 "nbformat": 4,
 "nbformat_minor": 2
}
