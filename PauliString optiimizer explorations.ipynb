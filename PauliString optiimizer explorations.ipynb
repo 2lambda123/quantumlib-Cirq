{
 "cells": [
  {
   "cell_type": "code",
   "execution_count": 25,
   "metadata": {},
   "outputs": [],
   "source": [
    "from typing import (\n",
    "    Any, Callable, Iterable, Iterator, Sequence, Tuple, Union, cast\n",
    ")\n",
    "\n",
    "from cirq import ops, circuits\n",
    "\n",
    "from cirq.contrib.paulistring.pauli_string_dag import (\n",
    "    pauli_string_reorder_pred,\n",
    "    pauli_string_dag_from_circuit)\n",
    "\n",
    "\n",
    "def _possible_string_placements(\n",
    "        possible_nodes: Iterable[Any],\n",
    "        output_ops: Sequence[ops.Operation],\n",
    "        key: Callable[[Any], ops.PauliStringPhasor] = lambda node: node.val,\n",
    ") -> Iterator[Tuple[ops.PauliStringPhasor, int, circuits.\n",
    "                    Unique[ops.PauliStringPhasor]]]:\n",
    "\n",
    "    for possible_node in possible_nodes:\n",
    "        string_op = key(possible_node)\n",
    "        # Try moving the Pauli string through, stop at measurements\n",
    "        yield string_op, 0, possible_node\n",
    "\n",
    "        for i, out_op in enumerate(output_ops):\n",
    "            if not set(out_op.qubits) & set(string_op.qubits):\n",
    "                # Skip if operations don't share qubits\n",
    "                continue\n",
    "            if (isinstance(out_op, ops.PauliStringPhasor) and\n",
    "                    out_op.pauli_string.commutes_with(string_op.pauli_string)):\n",
    "                # Pass through another Pauli string if they commute\n",
    "                continue\n",
    "            if not (isinstance(out_op, ops.GateOperation) and\n",
    "                    isinstance(out_op.gate, (ops.SingleQubitCliffordGate,\n",
    "                                             ops.PauliInteractionGate,\n",
    "                                             ops.CZPowGate))):\n",
    "                # This is as far through as this Pauli string can move\n",
    "                break\n",
    "            string_op = string_op.pass_operations_over([out_op],\n",
    "                                                       after_to_before=True)\n",
    "            yield string_op, i+1, possible_node\n",
    "\n",
    "        if len(string_op.pauli_string) == 1:\n",
    "            # This is as far as any Pauli string can go on this qubit\n",
    "            # and this Pauli string can be moved here.\n",
    "            # Stop searching to save time.\n",
    "            return"
   ]
  },
  {
   "cell_type": "code",
   "execution_count": 26,
   "metadata": {},
   "outputs": [
    {
     "data": {
      "image/png": "[encoded data removed]",
      "text/plain": [
       "<Figure size 360x144 with 1 Axes>"
      ]
     },
     "metadata": {},
     "output_type": "display_data"
    }
   ],
   "source": [
    "import networkx as nx \n",
    "from matplotlib import pyplot as plt\n",
    "from networkx.drawing.nx_agraph import graphviz_layout\n",
    "\n",
    "def draw_dag(string_dag):\n",
    "    plt.figure(3,figsize=(5,2)) \n",
    "\n",
    "    labels={n:str(n.val) for n in string_dag.nodes()}\n",
    "\n",
    "    pos = graphviz_layout(string_dag, prog=\"dot\")\n",
    "    pos = {k : (-y,x) for (k, (x,y)) in pos.items()}\n",
    "    nx.draw(string_dag, pos, node_size=200, edge_color='gray')\n",
    "    pos_higher = {}\n",
    "    y_off = 80 # offset on the y axis\n",
    "\n",
    "    left = min(x for (k, (x,y)) in pos.items()) + 15\n",
    "    for k, v in pos.items():\n",
    "        pos_higher[k] = (max(left,v[0]-20), v[1]+y_off)\n",
    "\n",
    "    nx.draw_networkx_labels(string_dag, pos_higher, labels, font_size=12)\n",
    "    \n",
    "    frontier = (set(string_dag.nodes())\n",
    "                       - set(before for before, _ in string_dag.edges()))\n",
    "    \n",
    "    nx.draw_networkx_nodes(frontier, pos, node_color=\"red\", node_size=200)\n",
    "\n",
    "    plt.show()\n",
    "    \n",
    "draw_dag(string_dag)"
   ]
  },
  {
   "cell_type": "code",
   "execution_count": 27,
   "metadata": {},
   "outputs": [
    {
     "data": {
      "text/html": [
       "<pre style=\"overflow: auto; white-space: pre;\">                          ┌──────┐\n",
       "0: ───@───────@───────@─────────@────@───X^0.3───\n",
       "      │       │       │         │    │\n",
       "1: ───@───────┼───@───@────X^0.1┼────@───────────\n",
       "              │   │             │\n",
       "2: ───Z^0.2───@───@─────────────@────────────────\n",
       "                          └──────┘</pre>"
      ],
      "text/plain": [
       "                          ┌──────┐\n",
       "0: ───@───────@───────@─────────@────@───X^0.3───\n",
       "      │       │       │         │    │\n",
       "1: ───@───────┼───@───@────X^0.1┼────@───────────\n",
       "              │   │             │\n",
       "2: ───Z^0.2───@───@─────────────@────────────────\n",
       "                          └──────┘"
      ]
     },
     "execution_count": 27,
     "metadata": {},
     "output_type": "execute_result"
    }
   ],
   "source": [
    "c_orig"
   ]
  },
  {
   "cell_type": "code",
   "execution_count": 28,
   "metadata": {},
   "outputs": [
    {
     "data": {
      "text/html": [
       "<pre style=\"overflow: auto; white-space: pre;\">0: ───────────────────────[X]───────\n",
       "                          │\n",
       "1: ─────────────[X]───────[Z]^0.3───\n",
       "                │\n",
       "2: ───[Z]^0.2───[Z]^0.1─────────────</pre>"
      ],
      "text/plain": [
       "0: ───────────────────────[X]───────\n",
       "                          │\n",
       "1: ─────────────[X]───────[Z]^0.3───\n",
       "                │\n",
       "2: ───[Z]^0.2───[Z]^0.1─────────────"
      ]
     },
     "execution_count": 28,
     "metadata": {},
     "output_type": "execute_result"
    }
   ],
   "source": [
    "cl"
   ]
  },
  {
   "cell_type": "code",
   "execution_count": 29,
   "metadata": {},
   "outputs": [
    {
     "data": {
      "text/html": [
       "<pre style=\"overflow: auto; white-space: pre;\">0: ───@───@───────@───@───@───────\n",
       "      │   │       │   │   │\n",
       "1: ───@───┼───@───@───┼───@───────\n",
       "          │   │       │\n",
       "2: ───────@───@───────@───────────</pre>"
      ],
      "text/plain": [
       "0: ───@───@───────@───@───@───────\n",
       "      │   │       │   │   │\n",
       "1: ───@───┼───@───@───┼───@───────\n",
       "          │   │       │\n",
       "2: ───────@───@───────@───────────"
      ]
     },
     "execution_count": 29,
     "metadata": {},
     "output_type": "execute_result"
    }
   ],
   "source": [
    "cr"
   ]
  },
  {
   "cell_type": "code",
   "execution_count": 30,
   "metadata": {},
   "outputs": [
    {
     "ename": "NameError",
     "evalue": "name 'pauli_string_optimize' is not defined",
     "output_type": "error",
     "traceback": [
      "\u001b[0;31m---------------------------------------------------------------------------\u001b[0m",
      "\u001b[0;31mNameError\u001b[0m                                 Traceback (most recent call last)",
      "\u001b[0;32m<ipython-input-30-ef7f5cc79ba2>\u001b[0m in \u001b[0;36m<module>\u001b[0;34m\u001b[0m\n\u001b[1;32m      1\u001b[0m \u001b[0;32mwhile\u001b[0m \u001b[0;32mTrue\u001b[0m\u001b[0;34m:\u001b[0m\u001b[0;34m\u001b[0m\u001b[0m\n\u001b[1;32m      2\u001b[0m     \u001b[0mbefore_len\u001b[0m \u001b[0;34m=\u001b[0m \u001b[0mlen\u001b[0m\u001b[0;34m(\u001b[0m\u001b[0mstring_dag\u001b[0m\u001b[0;34m.\u001b[0m\u001b[0mnodes\u001b[0m\u001b[0;34m(\u001b[0m\u001b[0;34m)\u001b[0m\u001b[0;34m)\u001b[0m\u001b[0;34m\u001b[0m\u001b[0m\n\u001b[0;32m----> 3\u001b[0;31m     \u001b[0mpauli_string_optimize\u001b[0m\u001b[0;34m.\u001b[0m\u001b[0mmerge_equal_strings\u001b[0m\u001b[0;34m(\u001b[0m\u001b[0mstring_dag\u001b[0m\u001b[0;34m)\u001b[0m\u001b[0;34m\u001b[0m\u001b[0m\n\u001b[0m\u001b[1;32m      4\u001b[0m     \u001b[0mpauli_string_optimize\u001b[0m\u001b[0;34m.\u001b[0m\u001b[0mremove_negligible_strings\u001b[0m\u001b[0;34m(\u001b[0m\u001b[0mstring_dag\u001b[0m\u001b[0;34m)\u001b[0m\u001b[0;34m\u001b[0m\u001b[0m\n\u001b[1;32m      5\u001b[0m     \u001b[0;32mif\u001b[0m \u001b[0mlen\u001b[0m\u001b[0;34m(\u001b[0m\u001b[0mstring_dag\u001b[0m\u001b[0;34m.\u001b[0m\u001b[0mnodes\u001b[0m\u001b[0;34m(\u001b[0m\u001b[0;34m)\u001b[0m\u001b[0;34m)\u001b[0m \u001b[0;34m>=\u001b[0m \u001b[0mbefore_len\u001b[0m\u001b[0;34m:\u001b[0m\u001b[0;34m\u001b[0m\u001b[0m\n",
      "\u001b[0;31mNameError\u001b[0m: name 'pauli_string_optimize' is not defined"
     ]
    }
   ],
   "source": [
    "while True:\n",
    "    before_len = len(string_dag.nodes())\n",
    "    pauli_string_optimize.merge_equal_strings(string_dag)\n",
    "    pauli_string_optimize.remove_negligible_strings(string_dag)\n",
    "    if len(string_dag.nodes()) >= before_len:\n",
    "        break\n",
    "\n",
    "\n",
    "rightmost_nodes = (set(string_dag.nodes())\n",
    "                       - set(before for before, _ in string_dag.edges()))\n",
    "draw_dag(string_dag)"
   ]
  },
  {
   "cell_type": "code",
   "execution_count": 31,
   "metadata": {},
   "outputs": [
    {
     "ename": "NameError",
     "evalue": "name 'rightmost_nodes' is not defined",
     "output_type": "error",
     "traceback": [
      "\u001b[0;31m---------------------------------------------------------------------------\u001b[0m",
      "\u001b[0;31mNameError\u001b[0m                                 Traceback (most recent call last)",
      "\u001b[0;32m<ipython-input-31-32c959c0f075>\u001b[0m in \u001b[0;36m<module>\u001b[0;34m\u001b[0m\n\u001b[1;32m      1\u001b[0m \u001b[0;34m\u001b[0m\u001b[0m\n\u001b[0;32m----> 2\u001b[0;31m \u001b[0;32mfor\u001b[0m  \u001b[0mn\u001b[0m \u001b[0;32min\u001b[0m \u001b[0mrightmost_nodes\u001b[0m\u001b[0;34m:\u001b[0m\u001b[0;34m\u001b[0m\u001b[0m\n\u001b[0m\u001b[1;32m      3\u001b[0m     \u001b[0mprint\u001b[0m\u001b[0;34m(\u001b[0m\u001b[0mstr\u001b[0m\u001b[0;34m(\u001b[0m\u001b[0mn\u001b[0m\u001b[0;34m.\u001b[0m\u001b[0mval\u001b[0m\u001b[0;34m)\u001b[0m\u001b[0;34m)\u001b[0m\u001b[0;34m\u001b[0m\u001b[0m\n",
      "\u001b[0;31mNameError\u001b[0m: name 'rightmost_nodes' is not defined"
     ]
    }
   ],
   "source": [
    "\n",
    "for  n in rightmost_nodes: \n",
    "    print(str(n.val))"
   ]
  },
  {
   "cell_type": "code",
   "execution_count": 32,
   "metadata": {},
   "outputs": [
    {
     "ename": "NameError",
     "evalue": "name 'rightmost_nodes' is not defined",
     "output_type": "error",
     "traceback": [
      "\u001b[0;31m---------------------------------------------------------------------------\u001b[0m",
      "\u001b[0;31mNameError\u001b[0m                                 Traceback (most recent call last)",
      "\u001b[0;32m<ipython-input-32-04415a4219a6>\u001b[0m in \u001b[0;36m<module>\u001b[0;34m\u001b[0m\n\u001b[1;32m      1\u001b[0m \u001b[0;34m\u001b[0m\u001b[0m\n\u001b[0;32m----> 2\u001b[0;31m \u001b[0;32mfor\u001b[0m \u001b[0mop\u001b[0m\u001b[0;34m,\u001b[0m \u001b[0mi\u001b[0m\u001b[0;34m,\u001b[0m \u001b[0mn\u001b[0m \u001b[0;32min\u001b[0m \u001b[0m_possible_string_placements\u001b[0m\u001b[0;34m(\u001b[0m\u001b[0mrightmost_nodes\u001b[0m\u001b[0;34m,\u001b[0m \u001b[0moutput_ops\u001b[0m\u001b[0;34m)\u001b[0m\u001b[0;34m:\u001b[0m\u001b[0;34m\u001b[0m\u001b[0m\n\u001b[0m\u001b[1;32m      3\u001b[0m     \u001b[0mprint\u001b[0m\u001b[0;34m(\u001b[0m\u001b[0;34m\"{} -- {} -- {}\"\u001b[0m\u001b[0;34m.\u001b[0m\u001b[0mformat\u001b[0m\u001b[0;34m(\u001b[0m\u001b[0mop\u001b[0m\u001b[0;34m,\u001b[0m \u001b[0mi\u001b[0m\u001b[0;34m,\u001b[0m \u001b[0mn\u001b[0m\u001b[0;34m.\u001b[0m\u001b[0mval\u001b[0m\u001b[0;34m)\u001b[0m\u001b[0;34m)\u001b[0m\u001b[0;34m\u001b[0m\u001b[0m\n",
      "\u001b[0;31mNameError\u001b[0m: name 'rightmost_nodes' is not defined"
     ]
    }
   ],
   "source": [
    "\n",
    "for op, i, n in _possible_string_placements(rightmost_nodes, output_ops):\n",
    "    print(\"{} -- {} -- {}\".format(op, i, n.val))"
   ]
  },
  {
   "cell_type": "code",
   "execution_count": 33,
   "metadata": {},
   "outputs": [
    {
     "ename": "NameError",
     "evalue": "name 'rightmost_nodes' is not defined",
     "output_type": "error",
     "traceback": [
      "\u001b[0;31m---------------------------------------------------------------------------\u001b[0m",
      "\u001b[0;31mNameError\u001b[0m                                 Traceback (most recent call last)",
      "\u001b[0;32m<ipython-input-33-5c16c4152556>\u001b[0m in \u001b[0;36m<module>\u001b[0;34m\u001b[0m\n\u001b[1;32m      1\u001b[0m best_string_op, best_index, best_node = max(\n\u001b[0;32m----> 2\u001b[0;31m             \u001b[0m_possible_string_placements\u001b[0m\u001b[0;34m(\u001b[0m\u001b[0mrightmost_nodes\u001b[0m\u001b[0;34m,\u001b[0m \u001b[0moutput_ops\u001b[0m\u001b[0;34m)\u001b[0m\u001b[0;34m,\u001b[0m\u001b[0;34m\u001b[0m\u001b[0m\n\u001b[0m\u001b[1;32m      3\u001b[0m             key=lambda placement: (-len(placement[0].pauli_string),\n\u001b[1;32m      4\u001b[0m                                    placement[1]))\n\u001b[1;32m      5\u001b[0m \u001b[0mprint\u001b[0m\u001b[0;34m(\u001b[0m\u001b[0;34m\"{} -- {} -- {}\"\u001b[0m\u001b[0;34m.\u001b[0m\u001b[0mformat\u001b[0m\u001b[0;34m(\u001b[0m\u001b[0mbest_string_op\u001b[0m\u001b[0;34m,\u001b[0m \u001b[0mbest_index\u001b[0m\u001b[0;34m,\u001b[0m \u001b[0mbest_node\u001b[0m\u001b[0;34m.\u001b[0m\u001b[0mval\u001b[0m\u001b[0;34m)\u001b[0m\u001b[0;34m)\u001b[0m\u001b[0;34m\u001b[0m\u001b[0m\n",
      "\u001b[0;31mNameError\u001b[0m: name 'rightmost_nodes' is not defined"
     ]
    }
   ],
   "source": [
    "best_string_op, best_index, best_node = max(\n",
    "            _possible_string_placements(rightmost_nodes, output_ops),\n",
    "            key=lambda placement: (-len(placement[0].pauli_string),\n",
    "                                   placement[1]))\n",
    "print(\"{} -- {} -- {}\".format(best_string_op, best_index, best_node.val))\n",
    "# Place the best one into the output circuit\n",
    "output_ops.insert(best_index, best_string_op)\n",
    "# Remove the best one from the dag and update rightmost_nodes\n",
    "rightmost_nodes.remove(best_node)\n",
    "rightmost_nodes.update(\n",
    "    pred_node\n",
    "    for pred_node in string_dag.predecessors(best_node)\n",
    "    if len(string_dag.succ[pred_node]) <= 1)\n",
    "string_dag.remove_node(best_node)"
   ]
  },
  {
   "cell_type": "code",
   "execution_count": 34,
   "metadata": {},
   "outputs": [
    {
     "ename": "NameError",
     "evalue": "name 'output_ops' is not defined",
     "output_type": "error",
     "traceback": [
      "\u001b[0;31m---------------------------------------------------------------------------\u001b[0m",
      "\u001b[0;31mNameError\u001b[0m                                 Traceback (most recent call last)",
      "\u001b[0;32m<ipython-input-34-7ed4901c66a5>\u001b[0m in \u001b[0;36m<module>\u001b[0;34m\u001b[0m\n\u001b[0;32m----> 1\u001b[0;31m \u001b[0mprint\u001b[0m\u001b[0;34m(\u001b[0m\u001b[0mcirq\u001b[0m\u001b[0;34m.\u001b[0m\u001b[0mCircuit\u001b[0m\u001b[0;34m.\u001b[0m\u001b[0mfrom_ops\u001b[0m\u001b[0;34m(\u001b[0m\u001b[0moutput_ops\u001b[0m\u001b[0;34m)\u001b[0m\u001b[0;34m)\u001b[0m\u001b[0;34m\u001b[0m\u001b[0m\n\u001b[0m",
      "\u001b[0;31mNameError\u001b[0m: name 'output_ops' is not defined"
     ]
    }
   ],
   "source": [
    "print(cirq.Circuit.from_ops(output_ops))"
   ]
  },
  {
   "cell_type": "code",
   "execution_count": 35,
   "metadata": {},
   "outputs": [
    {
     "data": {
      "text/html": [
       "<pre style=\"overflow: auto; white-space: pre;\">                          ┌──────┐\n",
       "0: ───@───────@───────@─────────@────@───X^0.3───\n",
       "      │       │       │         │    │\n",
       "1: ───@───────┼───@───@────X^0.1┼────@───────────\n",
       "              │   │             │\n",
       "2: ───Z^0.2───@───@─────────────@────────────────\n",
       "                          └──────┘</pre>"
      ],
      "text/plain": [
       "                          ┌──────┐\n",
       "0: ───@───────@───────@─────────@────@───X^0.3───\n",
       "      │       │       │         │    │\n",
       "1: ───@───────┼───@───@────X^0.1┼────@───────────\n",
       "              │   │             │\n",
       "2: ───Z^0.2───@───@─────────────@────────────────\n",
       "                          └──────┘"
      ]
     },
     "execution_count": 35,
     "metadata": {},
     "output_type": "execute_result"
    }
   ],
   "source": [
    "c_orig"
   ]
  },
  {
   "cell_type": "code",
   "execution_count": 36,
   "metadata": {},
   "outputs": [
    {
     "data": {
      "image/png": "[encoded data removed]",
      "text/plain": [
       "<Figure size 360x144 with 1 Axes>"
      ]
     },
     "metadata": {},
     "output_type": "display_data"
    }
   ],
   "source": [
    "draw_dag(string_dag)"
   ]
  },
  {
   "cell_type": "code",
   "execution_count": 37,
   "metadata": {},
   "outputs": [],
   "source": [
    "import cirq\n",
    "import numpy as np"
   ]
  },
  {
   "cell_type": "code",
   "execution_count": 38,
   "metadata": {},
   "outputs": [
    {
     "name": "stdout",
     "output_type": "stream",
     "text": [
      "\n",
      "===========X=============\n",
      "\n",
      "0: ───X───@───\n",
      "          │\n",
      "1: ───Y───@───\n",
      "0: ─────────────@───────Y───\n",
      "                │\n",
      "1: ─────────────@───────X───\n",
      "\n",
      "global phase:   -1.0π\n",
      "True\n",
      "\n",
      "===========Y=============\n",
      "\n",
      "0: ───Y───@───\n",
      "          │\n",
      "1: ───Z───@───\n",
      "0: ───@───Y───\n",
      "      │\n",
      "1: ───@───────\n",
      "True\n",
      "\n",
      "===========Z=============\n",
      "\n",
      "0: ───Z───@───\n",
      "          │\n",
      "1: ───X───@───\n",
      "0: ───@───────\n",
      "      │\n",
      "1: ───@───X───\n",
      "True\n"
     ]
    }
   ],
   "source": [
    "for i in range(3): \n",
    "    p1 = cirq.Pauli.by_index(i)\n",
    "    p2 = cirq.Pauli.by_index(i+1)\n",
    "    print()\n",
    "    print(\"==========={}=============\".format(p1))\n",
    "    print()\n",
    "    a,b = cirq.LineQubit.range(2)\n",
    "    \n",
    "    c1 = cirq.Circuit.from_ops([p1.on(a), p2.on(b), cirq.CZ(a,b)])\n",
    "    print(c1)\n",
    "   \n",
    "    \n",
    "    po = cirq.PauliString(qubit_pauli_map={a:p1, b:p2}).pass_operations_over([cirq.CZ(a,b)], after_to_before=True)\n",
    "\n",
    "    c2 = cirq.Circuit.from_ops([cirq.CZ(a,b), cirq.decompose(po)])\n",
    "    print(c2)\n",
    "   \n",
    "    print(np.all(np.isclose(cirq.unitary(c1), cirq.unitary(c2))))"
   ]
  },
  {
   "cell_type": "code",
   "execution_count": 87,
   "metadata": {
    "scrolled": false
   },
   "outputs": [
    {
     "data": {
      "text/html": [
       "<style>.container { width:100% !important; }</style>"
      ],
      "text/plain": [
       "<IPython.core.display.HTML object>"
      ]
     },
     "metadata": {},
     "output_type": "display_data"
    },
    {
     "name": "stdout",
     "output_type": "stream",
     "text": [
      "                          ┌──────┐\n",
      "0: ───@───────@───────@─────────@────@───X^0.3───\n",
      "      │       │       │         │    │\n",
      "1: ───@───────┼───@───@────X^0.1┼────@───────────\n",
      "              │   │             │\n",
      "2: ───Z^0.2───@───@─────────────@────────────────\n",
      "                          └──────┘\n",
      "(Z(2))**0.2 -> (Z(2))**0.2\n",
      "(X(1))**0.1 -> (X(1)*Z(2))**0.1\n",
      "(X(0))**0.3 -> (X(0)*Z(1))**0.3\n",
      "\n",
      "\n",
      "0: ───────────────────────[X]───────\n",
      "                          │\n",
      "1: ─────────────[X]───────[Z]^0.3───\n",
      "                │\n",
      "2: ───[Z]^0.2───[Z]^0.1─────────────\n",
      "\n",
      "\n",
      "0: ───@───@───────@───@───@───────\n",
      "      │   │       │   │   │\n",
      "1: ───@───┼───@───@───┼───@───────\n",
      "          │   │       │\n",
      "2: ───────@───@───────@───────────\n"
     ]
    },
    {
     "data": {
      "image/png": "[encoded data removed]",
      "text/plain": [
       "<Figure size 360x144 with 1 Axes>"
      ]
     },
     "metadata": {},
     "output_type": "display_data"
    },
    {
     "data": {
      "image/png": "[encoded data removed]",
      "text/plain": [
       "<Figure size 360x144 with 1 Axes>"
      ]
     },
     "metadata": {},
     "output_type": "display_data"
    }
   ],
   "source": [
    "from IPython.core.display import display, HTML\n",
    "display(HTML(\"<style>.container { width:100% !important; }</style>\"))\n",
    "from cirq.contrib.paulistring.pauli_string_optimize import * \n",
    "from cirq.contrib.paulistring.recombine import * \n",
    "\n",
    "from cirq import ops, circuits, optimizers\n",
    "\n",
    "q0, q1, q2  = cirq.LineQubit.range(3)\n",
    "c_orig = cirq.Circuit.from_ops(               \n",
    "        ops.CZ(q0, q1),\n",
    "        cirq.Z(q2)**0.2,\n",
    "        ops.CZ(q2, q0),  \n",
    "        ops.CZ(q1, q2),  \n",
    "        ops.CZ(q1, q0),\n",
    "        cirq.X(q1)**0.1,       \n",
    "        ops.CZ(q2, q0),\n",
    "        ops.CZ(q0, q1),\n",
    "        cirq.X(q0)**0.3,       \n",
    ")\n",
    "print(c_orig)\n",
    "# optimizers.MergeInteractions(allow_partial_czs=False).optimize_circuit(c_orig)\n",
    "# print(c_orig)\n",
    "\n",
    "cl, cr = convert_and_separate_circuit(c_orig,\n",
    "                                          leave_cliffords=False,\n",
    "                                          atol=1e-8)\n",
    "print()\n",
    "print()\n",
    "print(cl)\n",
    "print()\n",
    "print()\n",
    "print(cr)\n",
    "string_dag = pauli_string_dag_from_circuit(cl)\n",
    "\n",
    "draw_dag(string_dag)\n",
    "\n",
    "# Merge and remove Pauli string phasors\n",
    "while True:\n",
    "    before_len = len(string_dag.nodes())\n",
    "    merge_equal_strings(string_dag)\n",
    "    remove_negligible_strings(string_dag)\n",
    "    if len(string_dag.nodes()) >= before_len:\n",
    "        break\n",
    "        \n",
    "draw_dag(string_dag)"
   ]
  },
  {
   "cell_type": "code",
   "execution_count": 40,
   "metadata": {
    "scrolled": true
   },
   "outputs": [
    {
     "name": "stdout",
     "output_type": "stream",
     "text": [
      "0:    (X(0)*Z(1))**0.3 -> (X(0)*Z(1))**0.3 stepping over CZ(0, 1)\n",
      "1:    (X(0)*Z(1))**0.3 -> (X(0))**0.3 stepping over CZ(2, 0)\n",
      "2:    (X(0)*Z(1))**0.3 -> (X(0)*Z(2))**0.3 stepping over CZ(1, 2)\n",
      "3:    (X(0)*Z(1))**0.3 -> (X(0)*Z(2))**0.3 stepping over CZ(1, 0)\n",
      "4:    (X(0)*Z(1))**0.3 -> (X(0)*Z(1)*Z(2))**0.3 stepping over CZ(2, 0)\n",
      "5:    (X(0)*Z(1))**0.3 -> (X(0)*Z(1))**0.3 stepping over CZ(0, 1)\n",
      "0:    (Z(2))**0.2 -> (Z(2))**0.2 stepping over CZ(0, 1)\n",
      "1:    (Z(2))**0.2 -> (Z(2))**0.2 stepping over CZ(2, 0)\n",
      "2:    (Z(2))**0.2 -> (Z(2))**0.2 stepping over CZ(1, 2)\n",
      "3:    (Z(2))**0.2 -> (Z(2))**0.2 stepping over CZ(1, 0)\n",
      "4:    (Z(2))**0.2 -> (Z(2))**0.2 stepping over CZ(2, 0)\n",
      "5:    (Z(2))**0.2 -> (Z(2))**0.2 stepping over CZ(0, 1)\n",
      "got frontier: [('(Z(2))**0.2', 5), ('(X(0)*Z(1))**0.3', 6)]\n",
      "0:    (X(1)*Z(2))**0.1 -> (X(1)*Z(2))**0.1 stepping over CZ(0, 1)\n",
      "1:    (X(1)*Z(2))**0.1 -> (Z(0)*X(1)*Z(2))**0.1 stepping over CZ(2, 0)\n",
      "2:    (X(1)*Z(2))**0.1 -> (Z(0)*X(1)*Z(2))**0.1 stepping over CZ(1, 2)\n",
      "3:    (X(1)*Z(2))**0.1 -> (Z(0)*X(1))**0.1 stepping over CZ(1, 0)\n",
      "4:    (X(1)*Z(2))**0.1 -> (X(1))**0.1 stepping over CZ(2, 0)\n",
      "5:    (X(1)*Z(2))**0.1 -> (X(1))**0.1 stepping over (Z(2))**0.2\n",
      "6:    (X(1)*Z(2))**0.1 -> (X(1))**0.1 stepping over CZ(0, 1)\n",
      "7:    (X(1)*Z(2))**0.1 -> (Z(0)*X(1))**0.1 stepping over (X(0))**0.3\n",
      "got frontier: [('(X(1)*Z(2))**0.1', 4)]\n"
     ]
    },
    {
     "data": {
      "text/html": [
       "<pre style=\"overflow: auto; white-space: pre;\">                      ┌────────┐\n",
       "0: ───@───@───────@───────────@────@─────────[X]^0.3───\n",
       "      │   │       │           │    │\n",
       "1: ───@───┼───@───@────[X]^0.1┼────@───────────────────\n",
       "          │   │               │\n",
       "2: ───────@───@───────────────@────[Z]^0.2─────────────\n",
       "                      └────────┘</pre>"
      ],
      "text/plain": [
       "                      ┌────────┐\n",
       "0: ───@───@───────@───────────@────@─────────[X]^0.3───\n",
       "      │   │       │           │    │\n",
       "1: ───@───┼───@───@────[X]^0.1┼────@───────────────────\n",
       "          │   │               │\n",
       "2: ───────@───@───────────────@────[Z]^0.2─────────────\n",
       "                      └────────┘"
      ]
     },
     "execution_count": 40,
     "metadata": {},
     "output_type": "execute_result"
    }
   ],
   "source": [
    "c_new = move_pauli_strings_into_circuit_new(string_dag, cr)\n",
    "c_new"
   ]
  },
  {
   "cell_type": "code",
   "execution_count": 41,
   "metadata": {},
   "outputs": [
    {
     "data": {
      "text/html": [
       "<pre style=\"overflow: auto; white-space: pre;\">                      ┌────────┐\n",
       "0: ───@───@───────@───────────@────@─────────[X]^0.3───\n",
       "      │   │       │           │    │\n",
       "1: ───@───┼───@───@────[X]^0.1┼────@───────────────────\n",
       "          │   │               │\n",
       "2: ───────@───@───────────────@────[Z]^0.2─────────────\n",
       "                      └────────┘</pre>"
      ],
      "text/plain": [
       "                      ┌────────┐\n",
       "0: ───@───@───────@───────────@────@─────────[X]^0.3───\n",
       "      │   │       │           │    │\n",
       "1: ───@───┼───@───@────[X]^0.1┼────@───────────────────\n",
       "          │   │               │\n",
       "2: ───────@───@───────────────@────[Z]^0.2─────────────\n",
       "                      └────────┘"
      ]
     },
     "execution_count": 41,
     "metadata": {},
     "output_type": "execute_result"
    }
   ],
   "source": [
    "c_old=move_pauli_strings_into_circuit_old(string_dag, cr)\n",
    "c_old"
   ]
  },
  {
   "cell_type": "code",
   "execution_count": 43,
   "metadata": {},
   "outputs": [],
   "source": [
    "cirq.testing.assert_allclose_up_to_global_phase(cirq.unitary(c_orig), cirq.unitary(c_old), atol=1e-8)\n",
    "cirq.testing.assert_allclose_up_to_global_phase(cirq.unitary(c_new), cirq.unitary(c_old), atol=1e-8)"
   ]
  },
  {
   "cell_type": "code",
   "execution_count": 44,
   "metadata": {},
   "outputs": [
    {
     "data": {
      "text/plain": [
       "'(X(0))**0.7'"
      ]
     },
     "execution_count": 44,
     "metadata": {},
     "output_type": "execute_result"
    }
   ],
   "source": [
    "ps = cirq.PauliStringPhasor(cirq.PauliString({q0:cirq.X}), exponent_pos=0.3)\n",
    "str(ps)"
   ]
  },
  {
   "cell_type": "code",
   "execution_count": 45,
   "metadata": {},
   "outputs": [
    {
     "name": "stdout",
     "output_type": "stream",
     "text": [
      "False\n",
      "True\n"
     ]
    }
   ],
   "source": [
    "print(ps.pauli_string.commutes_with(cirq.Y(q0)))\n",
    "print(ps.pauli_string.commutes_with(cirq.Y(q1)))"
   ]
  },
  {
   "cell_type": "code",
   "execution_count": 46,
   "metadata": {},
   "outputs": [
    {
     "data": {
      "text/plain": [
       "'(X(0))**-0.7'"
      ]
     },
     "execution_count": 46,
     "metadata": {},
     "output_type": "execute_result"
    }
   ],
   "source": [
    "ps2 = ps.pass_operations_over([cirq.SingleQubitCliffordGate.Y(q0)])\n",
    "str(ps2)"
   ]
  },
  {
   "cell_type": "code",
   "execution_count": 47,
   "metadata": {},
   "outputs": [
    {
     "name": "stdout",
     "output_type": "stream",
     "text": [
      "False\n",
      "True\n"
     ]
    }
   ],
   "source": [
    "print(ps2.pauli_string.commutes_with(cirq.Y(q0)))\n",
    "print(ps2.pauli_string.commutes_with(cirq.Y(q1)))"
   ]
  },
  {
   "cell_type": "code",
   "execution_count": null,
   "metadata": {},
   "outputs": [],
   "source": []
  },
  {
   "cell_type": "code",
   "execution_count": null,
   "metadata": {},
   "outputs": [],
   "source": []
  },
  {
   "cell_type": "code",
   "execution_count": 64,
   "metadata": {},
   "outputs": [],
   "source": [
    "c = cirq.Circuit.from_ops(\n",
    "    (cirq.Z(q1)*cirq.X(q2))**0.3,  # Operation [3]\n",
    "    (cirq.PauliStringPhasor(cirq.PauliString({q2:cirq.X}), exponent_neg=0.2)),  # Operation [2]\n",
    "    (cirq.Z(q0)*cirq.X(q1))**0.1,  # Operation [1]\n",
    ")"
   ]
  },
  {
   "cell_type": "code",
   "execution_count": 74,
   "metadata": {},
   "outputs": [],
   "source": [
    "cr = cirq.Circuit.from_ops(\n",
    "    cirq.SingleQubitCliffordGate.Y_nsqrt(q1),\n",
    "    cirq.CZ(q2, q1),\n",
    "    cirq.SingleQubitCliffordGate.Y_sqrt(q1),\n",
    "    cirq.SingleQubitCliffordGate.Z_sqrt(q2),\n",
    "    cirq.SingleQubitCliffordGate.X_sqrt(q1),\n",
    "    cirq.SingleQubitCliffordGate.X_sqrt(q1),\n",
    "    cirq.SingleQubitCliffordGate.Y_sqrt(q0),\n",
    "    cirq.CZ(q0, q1),\n",
    "    cirq.SingleQubitCliffordGate.X_sqrt(q1),\n",
    "    cirq.SingleQubitCliffordGate.Y_sqrt(q0),\n",
    "    cirq.CZ(q1, q2),\n",
    "    cirq.SingleQubitCliffordGate.Y_nsqrt(q0),\n",
    "    cirq.CZ(q1, q0),\n",
    "    cirq.SingleQubitCliffordGate.Y_sqrt(q0),\n",
    "    cirq.SingleQubitCliffordGate.X_sqrt(q0),    \n",
    "    cirq.SingleQubitCliffordGate.Y_nsqrt(q2),\n",
    "    cirq.CZ(q0, q2),\n",
    "    cirq.SingleQubitCliffordGate.Y_sqrt(q2),\n",
    "    cirq.SingleQubitCliffordGate.X_sqrt(q0),\n",
    "    strategy=cirq.InsertStrategy.NEW_THEN_INLINE,\n",
    ")"
   ]
  },
  {
   "cell_type": "code",
   "execution_count": 75,
   "metadata": {},
   "outputs": [],
   "source": [
    "dag = pauli_string_dag_from_circuit(c)"
   ]
  },
  {
   "cell_type": "code",
   "execution_count": 76,
   "metadata": {},
   "outputs": [
    {
     "data": {
      "text/html": [
       "<pre style=\"overflow: auto; white-space: pre;\">0: ─────────────[Z]───────\n",
       "                │\n",
       "1: ───[Z]───────[X]^0.1───\n",
       "      │\n",
       "2: ───[X]^0.3───[X]^0.2───</pre>"
      ],
      "text/plain": [
       "0: ─────────────[Z]───────\n",
       "                │\n",
       "1: ───[Z]───────[X]^0.1───\n",
       "      │\n",
       "2: ───[X]^0.3───[X]^0.2───"
      ]
     },
     "execution_count": 76,
     "metadata": {},
     "output_type": "execute_result"
    }
   ],
   "source": [
    "c"
   ]
  },
  {
   "cell_type": "code",
   "execution_count": 77,
   "metadata": {},
   "outputs": [
    {
     "data": {
      "image/png": "[encoded data removed]",
      "text/plain": [
       "<Figure size 360x144 with 1 Axes>"
      ]
     },
     "metadata": {},
     "output_type": "display_data"
    }
   ],
   "source": [
    "draw_dag(dag)"
   ]
  },
  {
   "cell_type": "code",
   "execution_count": 78,
   "metadata": {},
   "outputs": [
    {
     "data": {
      "text/html": [
       "<pre style=\"overflow: auto; white-space: pre;\">0: ────────────────────────────────Y^0.5───@───Y^0.5───Y^-0.5───@───Y^0.5───X^0.5────@───X^0.5───\n",
       "                                           │                    │                    │\n",
       "1: ───Y^-0.5───@───Y^0.5───X^0.5───X^0.5───@───X^0.5───@────────@────────────────────┼───────────\n",
       "               │                                       │                             │\n",
       "2: ────────────@───Z^0.5───────────────────────────────@────────────────────Y^-0.5───@───Y^0.5───</pre>"
      ],
      "text/plain": [
       "0: ────────────────────────────────Y^0.5───@───Y^0.5───Y^-0.5───@───Y^0.5───X^0.5────@───X^0.5───\n",
       "                                           │                    │                    │\n",
       "1: ───Y^-0.5───@───Y^0.5───X^0.5───X^0.5───@───X^0.5───@────────@────────────────────┼───────────\n",
       "               │                                       │                             │\n",
       "2: ────────────@───Z^0.5───────────────────────────────@────────────────────Y^-0.5───@───Y^0.5───"
      ]
     },
     "execution_count": 78,
     "metadata": {},
     "output_type": "execute_result"
    }
   ],
   "source": [
    "cr"
   ]
  },
  {
   "cell_type": "code",
   "execution_count": 81,
   "metadata": {},
   "outputs": [
    {
     "name": "stdout",
     "output_type": "stream",
     "text": [
      "0:    (Z(0)*X(1))**0.1 -> (Z(0)*X(1))**0.1 stepping over cirq.SingleQubitCliffordGate(X:+Z, Y:+Y, Z:-X)(1)\n",
      "2:    (Z(0)*X(1))**0.1 -> (Z(0)*Z(1))**0.1 stepping over cirq.SingleQubitCliffordGate(X:-Z, Y:+Y, Z:+X)(1)\n",
      "4:    (Z(0)*X(1))**0.1 -> (Z(0)*X(1))**0.1 stepping over cirq.SingleQubitCliffordGate(X:+X, Y:+Z, Z:-Y)(1)\n",
      "5:    (Z(0)*X(1))**0.1 -> (Z(0)*X(1))**0.1 stepping over cirq.SingleQubitCliffordGate(X:+X, Y:+Z, Z:-Y)(1)\n",
      "6:    (Z(0)*X(1))**0.1 -> (Z(0)*X(1))**0.1 stepping over cirq.SingleQubitCliffordGate(X:-Z, Y:+Y, Z:+X)(0)\n",
      "8:    (Z(0)*X(1))**0.1 -> (Y(0)*Y(1))**0.1 stepping over cirq.SingleQubitCliffordGate(X:+X, Y:+Z, Z:-Y)(1)\n",
      "9:    (Z(0)*X(1))**0.1 -> (Y(0)*Z(1))**0.1 stepping over cirq.SingleQubitCliffordGate(X:-Z, Y:+Y, Z:+X)(0)\n",
      "11:    (Z(0)*X(1))**0.1 -> (Y(0)*Z(1))**0.1 stepping over cirq.SingleQubitCliffordGate(X:+Z, Y:+Y, Z:-X)(0)\n",
      "13:    (Z(0)*X(1))**0.1 -> (Y(0))**0.1 stepping over cirq.SingleQubitCliffordGate(X:-Z, Y:+Y, Z:+X)(0)\n",
      "14:    (Z(0)*X(1))**0.1 -> (Y(0))**0.1 stepping over cirq.SingleQubitCliffordGate(X:+X, Y:+Z, Z:-Y)(0)\n",
      "18:    (Z(0)*X(1))**0.1 -> (Z(0))**0.1 stepping over cirq.SingleQubitCliffordGate(X:+X, Y:+Z, Z:-Y)(0)\n",
      "2:    (X(2))**0.2 -> (Z(1)*X(2))**0.2 stepping over cirq.SingleQubitCliffordGate(X:-Z, Y:+Y, Z:+X)(1)\n",
      "3:    (X(2))**0.2 -> (X(1)*X(2))**0.2 stepping over cirq.SingleQubitCliffordGate(X:+Y, Y:-X, Z:+Z)(2)\n",
      "4:    (X(2))**0.2 -> (X(1)*Y(2))**0.2 stepping over cirq.SingleQubitCliffordGate(X:+X, Y:+Z, Z:-Y)(1)\n",
      "5:    (X(2))**0.2 -> (X(1)*Y(2))**0.2 stepping over cirq.SingleQubitCliffordGate(X:+X, Y:+Z, Z:-Y)(1)\n",
      "8:    (X(2))**0.2 -> (Z(0)*X(1)*Y(2))**0.2 stepping over cirq.SingleQubitCliffordGate(X:+X, Y:+Z, Z:-Y)(1)\n",
      "9:    (X(2))**0.2 -> (Z(0)*X(1)*Y(2))**0.2 stepping over cirq.SingleQubitCliffordGate(X:-Z, Y:+Y, Z:+X)(0)\n",
      "11:    (X(2))**0.2 -> (X(0)*Y(1)*X(2))**-0.19999999999999996 stepping over cirq.SingleQubitCliffordGate(X:+Z, Y:+Y, Z:-X)(0)\n",
      "15:    (X(2))**0.2 -> (Y(1)*X(2))**-0.19999999999999996 stepping over cirq.SingleQubitCliffordGate(X:+Z, Y:+Y, Z:-X)(2)\n",
      "17:    (X(2))**0.2 -> (Y(1)*Z(2))**-0.19999999999999996 stepping over cirq.SingleQubitCliffordGate(X:-Z, Y:+Y, Z:+X)(2)\n",
      "0:    (Z(1)*X(2))**0.3 -> (Z(1)*X(2))**0.3 stepping over cirq.SingleQubitCliffordGate(X:+Z, Y:+Y, Z:-X)(1)\n",
      "2:    (Z(1)*X(2))**0.3 -> (Y(1)*Y(2))**-0.30000000000000004 stepping over cirq.SingleQubitCliffordGate(X:-Z, Y:+Y, Z:+X)(1)\n",
      "3:    (Z(1)*X(2))**0.3 -> (Y(1)*Y(2))**-0.30000000000000004 stepping over cirq.SingleQubitCliffordGate(X:+Y, Y:-X, Z:+Z)(2)\n",
      "4:    (Z(1)*X(2))**0.3 -> (Y(1)*X(2))**0.3 stepping over cirq.SingleQubitCliffordGate(X:+X, Y:+Z, Z:-Y)(1)\n",
      "5:    (Z(1)*X(2))**0.3 -> (Z(1)*X(2))**0.3 stepping over cirq.SingleQubitCliffordGate(X:+X, Y:+Z, Z:-Y)(1)\n",
      "8:    (Z(1)*X(2))**0.3 -> (Z(0)*Y(1)*X(2))**-0.30000000000000004 stepping over cirq.SingleQubitCliffordGate(X:+X, Y:+Z, Z:-Y)(1)\n",
      "9:    (Z(1)*X(2))**0.3 -> (Z(0)*Z(1)*X(2))**-0.30000000000000004 stepping over cirq.SingleQubitCliffordGate(X:-Z, Y:+Y, Z:+X)(0)\n",
      "11:    (Z(1)*X(2))**0.3 -> (X(0)*X(2))**-0.30000000000000004 stepping over cirq.SingleQubitCliffordGate(X:+Z, Y:+Y, Z:-X)(0)\n",
      "13:    (Z(1)*X(2))**0.3 -> (Z(0)*X(2))**-0.30000000000000004 stepping over cirq.SingleQubitCliffordGate(X:-Z, Y:+Y, Z:+X)(0)\n",
      "14:    (Z(1)*X(2))**0.3 -> (X(0)*X(2))**-0.30000000000000004 stepping over cirq.SingleQubitCliffordGate(X:+X, Y:+Z, Z:-Y)(0)\n",
      "15:    (Z(1)*X(2))**0.3 -> (X(0)*X(2))**-0.30000000000000004 stepping over cirq.SingleQubitCliffordGate(X:+Z, Y:+Y, Z:-X)(2)\n",
      "18:    (Z(1)*X(2))**0.3 -> (X(0))**-0.30000000000000004 stepping over cirq.SingleQubitCliffordGate(X:+X, Y:+Z, Z:-Y)(0)\n",
      "2:    (X(2))**0.2 -> (Z(1)*X(2))**0.2 stepping over cirq.SingleQubitCliffordGate(X:-Z, Y:+Y, Z:+X)(1)\n",
      "3:    (X(2))**0.2 -> (X(1)*X(2))**0.2 stepping over cirq.SingleQubitCliffordGate(X:+Y, Y:-X, Z:+Z)(2)\n",
      "4:    (X(2))**0.2 -> (X(1)*Y(2))**0.2 stepping over cirq.SingleQubitCliffordGate(X:+X, Y:+Z, Z:-Y)(1)\n",
      "5:    (X(2))**0.2 -> (X(1)*Y(2))**0.2 stepping over cirq.SingleQubitCliffordGate(X:+X, Y:+Z, Z:-Y)(1)\n",
      "8:    (X(2))**0.2 -> (Z(0)*X(1)*Y(2))**0.2 stepping over cirq.SingleQubitCliffordGate(X:+X, Y:+Z, Z:-Y)(1)\n",
      "9:    (X(2))**0.2 -> (Z(0)*X(1)*Y(2))**0.2 stepping over cirq.SingleQubitCliffordGate(X:-Z, Y:+Y, Z:+X)(0)\n",
      "11:    (X(2))**0.2 -> (X(0)*Y(1)*X(2))**-0.19999999999999996 stepping over cirq.SingleQubitCliffordGate(X:+Z, Y:+Y, Z:-X)(0)\n",
      "15:    (X(2))**0.2 -> (Y(1)*X(2))**-0.19999999999999996 stepping over cirq.SingleQubitCliffordGate(X:+Z, Y:+Y, Z:-X)(2)\n",
      "17:    (X(2))**0.2 -> (Y(1)*Z(2))**-0.19999999999999996 stepping over cirq.SingleQubitCliffordGate(X:-Z, Y:+Y, Z:+X)(2)\n"
     ]
    },
    {
     "data": {
      "text/html": [
       "<pre style=\"overflow: auto; white-space: pre;\">0: ───Y^0.5─────────────────────────────────@───Y^0.5───Y^-0.5───@────────Y^0.5───X^0.5───@───X^0.5───[X]^-0.3───[Y]^-0.1───\n",
       "                                            │                    │                        │\n",
       "1: ───Y^-0.5────@───Y^0.5───X^0.5───X^0.5───@───X^0.5───@────────@────────────────────────┼─────────────────────────────────\n",
       "                │                                       │                                 │\n",
       "2: ───[X]^0.2───@───Z^0.5───────────────────────────────@────────Y^-0.5───────────────────@───Y^0.5─────────────────────────</pre>"
      ],
      "text/plain": [
       "0: ───Y^0.5─────────────────────────────────@───Y^0.5───Y^-0.5───@────────Y^0.5───X^0.5───@───X^0.5───[X]^-0.3───[Y]^-0.1───\n",
       "                                            │                    │                        │\n",
       "1: ───Y^-0.5────@───Y^0.5───X^0.5───X^0.5───@───X^0.5───@────────@────────────────────────┼─────────────────────────────────\n",
       "                │                                       │                                 │\n",
       "2: ───[X]^0.2───@───Z^0.5───────────────────────────────@────────Y^-0.5───────────────────@───Y^0.5─────────────────────────"
      ]
     },
     "execution_count": 81,
     "metadata": {},
     "output_type": "execute_result"
    }
   ],
   "source": [
    "c1 = move_pauli_strings_into_circuit_old(dag, cr)\n",
    "c1"
   ]
  },
  {
   "cell_type": "code",
   "execution_count": 82,
   "metadata": {},
   "outputs": [
    {
     "name": "stdout",
     "output_type": "stream",
     "text": [
      "0:    (Z(0)*X(1))**0.1 -> (Z(0)*X(1))**0.1 stepping over cirq.SingleQubitCliffordGate(X:+Z, Y:+Y, Z:-X)(1)\n",
      "1:    (Z(0)*X(1))**0.1 -> (Z(0)*Z(1))**0.1 stepping over CZ(2, 1)\n",
      "2:    (Z(0)*X(1))**0.1 -> (Z(0)*Z(1))**0.1 stepping over cirq.SingleQubitCliffordGate(X:-Z, Y:+Y, Z:+X)(1)\n",
      "3:    (Z(0)*X(1))**0.1 -> (Z(0)*X(1))**0.1 stepping over cirq.SingleQubitCliffordGate(X:+Y, Y:-X, Z:+Z)(2)\n",
      "4:    (Z(0)*X(1))**0.1 -> (Z(0)*X(1))**0.1 stepping over cirq.SingleQubitCliffordGate(X:+X, Y:+Z, Z:-Y)(1)\n",
      "5:    (Z(0)*X(1))**0.1 -> (Z(0)*X(1))**0.1 stepping over cirq.SingleQubitCliffordGate(X:+X, Y:+Z, Z:-Y)(1)\n",
      "6:    (Z(0)*X(1))**0.1 -> (Z(0)*X(1))**0.1 stepping over cirq.SingleQubitCliffordGate(X:-Z, Y:+Y, Z:+X)(0)\n",
      "7:    (Z(0)*X(1))**0.1 -> (X(0)*X(1))**0.1 stepping over CZ(0, 1)\n",
      "8:    (Z(0)*X(1))**0.1 -> (Y(0)*Y(1))**0.1 stepping over cirq.SingleQubitCliffordGate(X:+X, Y:+Z, Z:-Y)(1)\n",
      "9:    (Z(0)*X(1))**0.1 -> (Y(0)*Z(1))**0.1 stepping over cirq.SingleQubitCliffordGate(X:-Z, Y:+Y, Z:+X)(0)\n",
      "10:    (Z(0)*X(1))**0.1 -> (Y(0)*Z(1))**0.1 stepping over CZ(1, 2)\n",
      "11:    (Z(0)*X(1))**0.1 -> (Y(0)*Z(1))**0.1 stepping over cirq.SingleQubitCliffordGate(X:+Z, Y:+Y, Z:-X)(0)\n",
      "12:    (Z(0)*X(1))**0.1 -> (Y(0)*Z(1))**0.1 stepping over CZ(1, 0)\n",
      "13:    (Z(0)*X(1))**0.1 -> (Y(0))**0.1 stepping over cirq.SingleQubitCliffordGate(X:-Z, Y:+Y, Z:+X)(0)\n",
      "14:    (Z(0)*X(1))**0.1 -> (Y(0))**0.1 stepping over cirq.SingleQubitCliffordGate(X:+X, Y:+Z, Z:-Y)(0)\n",
      "15:    (Z(0)*X(1))**0.1 -> (Z(0))**0.1 stepping over cirq.SingleQubitCliffordGate(X:+Z, Y:+Y, Z:-X)(2)\n",
      "16:    (Z(0)*X(1))**0.1 -> (Z(0))**0.1 stepping over CZ(0, 2)\n",
      "17:    (Z(0)*X(1))**0.1 -> (Z(0))**0.1 stepping over cirq.SingleQubitCliffordGate(X:-Z, Y:+Y, Z:+X)(2)\n",
      "18:    (Z(0)*X(1))**0.1 -> (Z(0))**0.1 stepping over cirq.SingleQubitCliffordGate(X:+X, Y:+Z, Z:-Y)(0)\n",
      "0:    (X(2))**0.2 -> (X(2))**0.2 stepping over cirq.SingleQubitCliffordGate(X:+Z, Y:+Y, Z:-X)(1)\n",
      "1:    (X(2))**0.2 -> (X(2))**0.2 stepping over CZ(2, 1)\n",
      "2:    (X(2))**0.2 -> (Z(1)*X(2))**0.2 stepping over cirq.SingleQubitCliffordGate(X:-Z, Y:+Y, Z:+X)(1)\n",
      "3:    (X(2))**0.2 -> (X(1)*X(2))**0.2 stepping over cirq.SingleQubitCliffordGate(X:+Y, Y:-X, Z:+Z)(2)\n",
      "4:    (X(2))**0.2 -> (X(1)*Y(2))**0.2 stepping over cirq.SingleQubitCliffordGate(X:+X, Y:+Z, Z:-Y)(1)\n",
      "5:    (X(2))**0.2 -> (X(1)*Y(2))**0.2 stepping over cirq.SingleQubitCliffordGate(X:+X, Y:+Z, Z:-Y)(1)\n",
      "6:    (X(2))**0.2 -> (X(1)*Y(2))**0.2 stepping over cirq.SingleQubitCliffordGate(X:-Z, Y:+Y, Z:+X)(0)\n",
      "7:    (X(2))**0.2 -> (X(1)*Y(2))**0.2 stepping over CZ(0, 1)\n",
      "8:    (X(2))**0.2 -> (Z(0)*X(1)*Y(2))**0.2 stepping over cirq.SingleQubitCliffordGate(X:+X, Y:+Z, Z:-Y)(1)\n",
      "9:    (X(2))**0.2 -> (Z(0)*X(1)*Y(2))**0.2 stepping over cirq.SingleQubitCliffordGate(X:-Z, Y:+Y, Z:+X)(0)\n",
      "10:    (X(2))**0.2 -> (X(0)*X(1)*Y(2))**0.2 stepping over CZ(1, 2)\n",
      "11:    (X(2))**0.2 -> (X(0)*Y(1)*X(2))**-0.19999999999999996 stepping over cirq.SingleQubitCliffordGate(X:+Z, Y:+Y, Z:-X)(0)\n",
      "12:    (X(2))**0.2 -> (Z(0)*Y(1)*X(2))**-0.19999999999999996 stepping over CZ(1, 0)\n",
      "13:    (X(2))**0.2 -> (Y(1)*X(2))**-0.19999999999999996 stepping over cirq.SingleQubitCliffordGate(X:-Z, Y:+Y, Z:+X)(0)\n",
      "14:    (X(2))**0.2 -> (Y(1)*X(2))**-0.19999999999999996 stepping over cirq.SingleQubitCliffordGate(X:+X, Y:+Z, Z:-Y)(0)\n",
      "15:    (X(2))**0.2 -> (Y(1)*X(2))**-0.19999999999999996 stepping over cirq.SingleQubitCliffordGate(X:+Z, Y:+Y, Z:-X)(2)\n",
      "16:    (X(2))**0.2 -> (Y(1)*Z(2))**-0.19999999999999996 stepping over CZ(0, 2)\n",
      "17:    (X(2))**0.2 -> (Y(1)*Z(2))**-0.19999999999999996 stepping over cirq.SingleQubitCliffordGate(X:-Z, Y:+Y, Z:+X)(2)\n",
      "18:    (X(2))**0.2 -> (Y(1)*X(2))**-0.19999999999999996 stepping over cirq.SingleQubitCliffordGate(X:+X, Y:+Z, Z:-Y)(0)\n",
      "got frontier: [('(X(2))**0.2', 0), ('(Z(0)*X(1))**0.1', 19)]\n",
      "0:    (Z(1)*X(2))**0.3 -> (Z(1)*X(2))**0.3 stepping over (X(2))**0.2\n",
      "1:    (Z(1)*X(2))**0.3 -> (Z(1)*X(2))**0.3 stepping over cirq.SingleQubitCliffordGate(X:+Z, Y:+Y, Z:-X)(1)\n",
      "2:    (Z(1)*X(2))**0.3 -> (X(1)*X(2))**-0.30000000000000004 stepping over CZ(2, 1)\n",
      "3:    (Z(1)*X(2))**0.3 -> (Y(1)*Y(2))**-0.30000000000000004 stepping over cirq.SingleQubitCliffordGate(X:-Z, Y:+Y, Z:+X)(1)\n",
      "4:    (Z(1)*X(2))**0.3 -> (Y(1)*Y(2))**-0.30000000000000004 stepping over cirq.SingleQubitCliffordGate(X:+Y, Y:-X, Z:+Z)(2)\n",
      "5:    (Z(1)*X(2))**0.3 -> (Y(1)*X(2))**0.3 stepping over cirq.SingleQubitCliffordGate(X:+X, Y:+Z, Z:-Y)(1)\n",
      "6:    (Z(1)*X(2))**0.3 -> (Z(1)*X(2))**0.3 stepping over cirq.SingleQubitCliffordGate(X:+X, Y:+Z, Z:-Y)(1)\n",
      "7:    (Z(1)*X(2))**0.3 -> (Y(1)*X(2))**-0.30000000000000004 stepping over cirq.SingleQubitCliffordGate(X:-Z, Y:+Y, Z:+X)(0)\n",
      "8:    (Z(1)*X(2))**0.3 -> (Y(1)*X(2))**-0.30000000000000004 stepping over CZ(0, 1)\n",
      "9:    (Z(1)*X(2))**0.3 -> (Z(0)*Y(1)*X(2))**-0.30000000000000004 stepping over cirq.SingleQubitCliffordGate(X:+X, Y:+Z, Z:-Y)(1)\n",
      "10:    (Z(1)*X(2))**0.3 -> (Z(0)*Z(1)*X(2))**-0.30000000000000004 stepping over cirq.SingleQubitCliffordGate(X:-Z, Y:+Y, Z:+X)(0)\n",
      "11:    (Z(1)*X(2))**0.3 -> (X(0)*Z(1)*X(2))**-0.30000000000000004 stepping over CZ(1, 2)\n",
      "12:    (Z(1)*X(2))**0.3 -> (X(0)*X(2))**-0.30000000000000004 stepping over cirq.SingleQubitCliffordGate(X:+Z, Y:+Y, Z:-X)(0)\n",
      "13:    (Z(1)*X(2))**0.3 -> (Z(0)*X(2))**-0.30000000000000004 stepping over CZ(1, 0)\n",
      "14:    (Z(1)*X(2))**0.3 -> (Z(0)*X(2))**-0.30000000000000004 stepping over cirq.SingleQubitCliffordGate(X:-Z, Y:+Y, Z:+X)(0)\n",
      "15:    (Z(1)*X(2))**0.3 -> (X(0)*X(2))**-0.30000000000000004 stepping over cirq.SingleQubitCliffordGate(X:+X, Y:+Z, Z:-Y)(0)\n",
      "16:    (Z(1)*X(2))**0.3 -> (X(0)*X(2))**-0.30000000000000004 stepping over cirq.SingleQubitCliffordGate(X:+Z, Y:+Y, Z:-X)(2)\n",
      "17:    (Z(1)*X(2))**0.3 -> (X(0)*Z(2))**-0.30000000000000004 stepping over CZ(0, 2)\n",
      "18:    (Z(1)*X(2))**0.3 -> (X(0))**-0.30000000000000004 stepping over cirq.SingleQubitCliffordGate(X:-Z, Y:+Y, Z:+X)(2)\n",
      "19:    (Z(1)*X(2))**0.3 -> (X(0))**-0.30000000000000004 stepping over cirq.SingleQubitCliffordGate(X:+X, Y:+Z, Z:-Y)(0)\n",
      "20:    (Z(1)*X(2))**0.3 -> (X(0))**-0.30000000000000004 stepping over (Y(0))**-0.10000000000000009\n",
      "got frontier: [('(Z(1)*X(2))**0.3', 20)]\n"
     ]
    },
    {
     "data": {
      "text/html": [
       "<pre style=\"overflow: auto; white-space: pre;\">0: ───Y^0.5─────────────────────────────────@───Y^0.5───Y^-0.5───@────────Y^0.5───X^0.5───@───X^0.5───[X]^-0.3───[Y]^-0.1───\n",
       "                                            │                    │                        │\n",
       "1: ───Y^-0.5────@───Y^0.5───X^0.5───X^0.5───@───X^0.5───@────────@────────────────────────┼─────────────────────────────────\n",
       "                │                                       │                                 │\n",
       "2: ───[X]^0.2───@───Z^0.5───────────────────────────────@────────Y^-0.5───────────────────@───Y^0.5─────────────────────────</pre>"
      ],
      "text/plain": [
       "0: ───Y^0.5─────────────────────────────────@───Y^0.5───Y^-0.5───@────────Y^0.5───X^0.5───@───X^0.5───[X]^-0.3───[Y]^-0.1───\n",
       "                                            │                    │                        │\n",
       "1: ───Y^-0.5────@───Y^0.5───X^0.5───X^0.5───@───X^0.5───@────────@────────────────────────┼─────────────────────────────────\n",
       "                │                                       │                                 │\n",
       "2: ───[X]^0.2───@───Z^0.5───────────────────────────────@────────Y^-0.5───────────────────@───Y^0.5─────────────────────────"
      ]
     },
     "execution_count": 82,
     "metadata": {},
     "output_type": "execute_result"
    }
   ],
   "source": [
    "c2 = move_pauli_strings_into_circuit_new(dag, cr)\n",
    "c2"
   ]
  },
  {
   "cell_type": "markdown",
   "metadata": {},
   "source": [
    "Given a \n",
    "$$\n",
    "\\begin{align}\n",
    "0 &= [U_A A U_A^\\dagger, U_A U_B B U_B^\\dagger U_A^\\dagger] \\\\\n",
    "  &= U_A A U_A^\\dagger U_A U_B B U_B^\\dagger U_A^\\dagger - U_A U_B B U_B^\\dagger U_A^\\dagger U_A A U_A^\\dagger \\\\\n",
    "  & = U_A A U_B B U_B^\\dagger U_A^\\dagger - U_A U_B B U_B^\\dagger A U_A^\\dagger \\\\\n",
    "  & = U_A ( A U_B B U_B^\\dagger -  U_B B U_B^\\dagger A) U_A^\\dagger \\\\\n",
    "  & = U_A [A, U_B B U_B^\\dagger] U_A^\\dagger\n",
    "\\end{align}\n",
    "$$\n",
    "\n",
    "Thus if A' and B' commute in the DAG, then A commutes with B when B is moved next to A, which means that $[U_A U_B B U_B^\\dagger,  U_A A ] = 0 $, i.e it as long as we are checking for commutativity, it is impossible to cover that line with a paulistring. \n",
    "\n",
    "\n"
   ]
  },
  {
   "cell_type": "code",
   "execution_count": 84,
   "metadata": {},
   "outputs": [],
   "source": [
    "cirq.testing.assert_allclose_up_to_global_phase(cirq.unitary(c1), cirq.unitary(c2), atol=1e-8)"
   ]
  },
  {
   "cell_type": "code",
   "execution_count": 61,
   "metadata": {},
   "outputs": [],
   "source": [
    "from cirq.contrib.paulistring.convert_gate_set import converted_gate_set"
   ]
  },
  {
   "cell_type": "code",
   "execution_count": 63,
   "metadata": {},
   "outputs": [
    {
     "data": {
      "text/html": [
       "<pre style=\"overflow: auto; white-space: pre;\">1: ───Y^-0.5───@───Y^0.5───\n",
       "               │\n",
       "2: ────────────@───────────</pre>"
      ],
      "text/plain": [
       "1: ───Y^-0.5───@───Y^0.5───\n",
       "               │\n",
       "2: ────────────@───────────"
      ]
     },
     "execution_count": 63,
     "metadata": {},
     "output_type": "execute_result"
    }
   ],
   "source": [
    "converted_gate_set(cirq.Circuit.from_ops([cirq.CNOT(q2,q1)]))"
   ]
  },
  {
   "cell_type": "code",
   "execution_count": 86,
   "metadata": {},
   "outputs": [
    {
     "data": {
      "text/plain": [
       "True"
      ]
     },
     "execution_count": 86,
     "metadata": {},
     "output_type": "execute_result"
    }
   ],
   "source": [
    "(cirq.PauliStringPhasor(cirq.PauliString({q1:cirq.Z, q2:cirq.X}), exponent_neg=0.3)).pauli_string.commutes_with(\n",
    "(cirq.PauliStringPhasor(cirq.PauliString({q2:cirq.X}), exponent_neg=0.2)).pauli_string)"
   ]
  },
  {
   "cell_type": "code",
   "execution_count": null,
   "metadata": {},
   "outputs": [],
   "source": []
  }
 ],
 "metadata": {
  "kernelspec": {
   "display_name": "Python 3",
   "language": "python",
   "name": "python3"
  },
  "language_info": {
   "codemirror_mode": {
    "name": "ipython",
    "version": 3
   },
   "file_extension": ".py",
   "mimetype": "text/x-python",
   "name": "python",
   "nbconvert_exporter": "python",
   "pygments_lexer": "ipython3",
   "version": "3.7.5"
  }
 },
 "nbformat": 4,
 "nbformat_minor": 2
}
