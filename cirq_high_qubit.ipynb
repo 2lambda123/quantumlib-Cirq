{
 "cells": [
  {
   "cell_type": "code",
   "execution_count": 1,
   "id": "44220fb7",
   "metadata": {},
   "outputs": [],
   "source": [
    "import cirq"
   ]
  },
  {
   "cell_type": "code",
   "execution_count": 3,
   "id": "306c426a",
   "metadata": {},
   "outputs": [
    {
     "name": "stdout",
     "output_type": "stream",
     "text": [
      " initial depth: 350\n",
      "final depth: 2656\n",
      "# of initial operations: 4495\n",
      "# of final operations: 10573\n"
     ]
    }
   ],
   "source": [
    "c_orig = cirq.testing.random_circuit(\n",
    "    qubits=45,\n",
    "    n_moments=350,\n",
    "    op_density=0.4,\n",
    "    random_state=0,\n",
    ")\n",
    "device = cirq.testing.construct_grid_device(7, 7)\n",
    "router = cirq.RouteCQC(device)\n",
    "%prun c_routed = router(c_orig)\n",
    "device.validate_circuit(c_routed)\n",
    "print(f'initial depth: {len(c_orig)}')\n",
    "print(f'final depth: {len(c_routed)}')\n",
    "print(f'# of initial operations: {len(list(c_orig.all_operations()))}')\n",
    "print(f'# of final operations: {len(list(c_routed.all_operations()))}')"
   ]
  }
 ],
 "metadata": {
  "kernelspec": {
   "display_name": "Python 3",
   "language": "python",
   "name": "python3"
  },
  "language_info": {
   "codemirror_mode": {
    "name": "ipython",
    "version": 3
   },
   "file_extension": ".py",
   "mimetype": "text/x-python",
   "name": "python",
   "nbconvert_exporter": "python",
   "pygments_lexer": "ipython3",
   "version": "3.7.3"
  }
 },
 "nbformat": 4,
 "nbformat_minor": 5
}
